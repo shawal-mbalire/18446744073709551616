{
  "cells": [
    {
      "cell_type": "markdown",
      "metadata": {
        "id": "view-in-github",
        "colab_type": "text"
      },
      "source": [
        "<a href=\"https://colab.research.google.com/github/shawal-mbalire/ai_lab_hack/blob/main/Xception.ipynb\" target=\"_parent\"><img src=\"https://colab.research.google.com/assets/colab-badge.svg\" alt=\"Open In Colab\"/></a>"
      ]
    },
    {
      "cell_type": "code",
      "execution_count": null,
      "metadata": {
        "collapsed": true,
        "id": "Q5a8tfuZsTGa",
        "colab": {
          "base_uri": "https://localhost:8080/"
        },
        "outputId": "8d8ed6d8-0ecd-41e8-9153-810510ba9e95"
      },
      "outputs": [
        {
          "output_type": "stream",
          "name": "stdout",
          "text": [
            "--2024-05-25 07:17:53--  https://storage.googleapis.com/air-lab-hackathon/Maize/classification/Classification_maize.zip\n",
            "Resolving storage.googleapis.com (storage.googleapis.com)... 142.251.175.207, 74.125.24.207, 142.251.10.207, ...\n",
            "Connecting to storage.googleapis.com (storage.googleapis.com)|142.251.175.207|:443... connected.\n",
            "HTTP request sent, awaiting response... 200 OK\n",
            "Length: 19414007522 (18G) [application/zip]\n",
            "Saving to: ‘Classification_maize.zip’\n",
            "\n",
            "Classification_maiz  34%[=====>              ]   6.20G  21.1MB/s    eta 9m 35s "
          ]
        }
      ],
      "source": [
        "!wget https://storage.googleapis.com/air-lab-hackathon/Maize/classification/Classification_maize.zip\n",
        "!mkdir Maize_Data\n",
        "!rm -rf sample_data\n",
        "!cd Maize_Data && unzip ../Classification_maize.zip\n",
        "!rm Classification_maize.zip"
      ]
    },
    {
      "cell_type": "code",
      "execution_count": null,
      "metadata": {
        "id": "u_OBWZ5HsBpX"
      },
      "outputs": [],
      "source": [
        "import cv2\n",
        "import glob\n",
        "import pandas\n",
        "import tensorflow\n",
        "import numpy as np\n",
        "import seaborn as sns\n",
        "import matplotlib.pyplot as plt\n",
        "from sklearn.metrics import f1_score\n",
        "import tensorflow.keras.backend as K\n",
        "from tensorflow.keras.optimizers import Adam\n",
        "from tensorflow.keras.models import Sequential\n",
        "from tensorflow.keras.utils import to_categorical\n",
        "from tensorflow.keras.applications import Xception\n",
        "from sklearn.utils.class_weight import compute_class_weight\n",
        "from sklearn.metrics import confusion_matrix, classification_report\n",
        "from tensorflow.keras.preprocessing.image import ImageDataGenerator\n",
        "from tensorflow.keras.callbacks import EarlyStopping, LearningRateScheduler, ModelCheckpoint\n",
        "from tensorflow.keras.layers import Conv2D, MaxPooling2D, Flatten, Dense, Dropout, BatchNormalization"
      ]
    },
    {
      "cell_type": "code",
      "execution_count": null,
      "metadata": {
        "id": "Z5iaFppOsHXK"
      },
      "outputs": [],
      "source": [
        "train_data_dir          = 'Maize_Data/train'\n",
        "validation_data_dir = 'Maize_Data/validation'\n",
        "\n",
        "train_datagen  =  ImageDataGenerator(rescale=1./255)\n",
        "valid_datagen  =  ImageDataGenerator(rescale=1./255)\n",
        "\n",
        "train = train_datagen.flow_from_directory(\n",
        "    train_data_dir,\n",
        "    target_size=(256, 256),\n",
        "    batch_size=16,\n",
        "    classes = ['FAW', 'Healthy', 'MLB', 'MLN', 'MSV']\n",
        ")\n",
        "\n",
        "valid = valid_datagen.flow_from_directory(\n",
        "    validation_data_dir,\n",
        "    target_size=(256, 256),\n",
        "    batch_size=16,\n",
        "    classes = ['FAW', 'Healthy', 'MLB', 'MLN', 'MSV']\n",
        ")\n"
      ]
    },
    {
      "cell_type": "code",
      "execution_count": null,
      "metadata": {
        "id": "1-s09YYjsMBW"
      },
      "outputs": [],
      "source": [
        "class_weights = compute_class_weight(\n",
        "    class_weight='balanced',\n",
        "    classes=np.unique(train.classes),\n",
        "    y=train.classes\n",
        ")\n",
        "print(class_weights)\n",
        "class_weights = dict(enumerate(class_weights))\n",
        "print(class_weights)\n",
        "def lr_scheduler(epoch, lr):\n",
        "    if epoch % 5 == 0 and epoch != 0:\n",
        "        return lr * 0.5\n",
        "    return lr"
      ]
    },
    {
      "cell_type": "code",
      "execution_count": null,
      "metadata": {
        "id": "0q3GWb_esfBU"
      },
      "outputs": [],
      "source": [
        "early_stopping = EarlyStopping(\n",
        "    monitor='f1_m',\n",
        "    patience=3,\n",
        "    restore_best_weights=True\n",
        ")\n",
        "model_checkpoint = ModelCheckpoint(\n",
        "    'best_model.keras',\n",
        "    save_best_only=True,\n",
        "    monitor='f1_m',\n",
        "    mode='max'\n",
        ")\n",
        "base_model = Xception(\n",
        "    include_top=False,\n",
        "    input_shape=(256, 256, 3)\n",
        ")\n",
        "\n",
        "num_classes = len(train.class_indices)\n",
        "num_classes"
      ]
    },
    {
      "cell_type": "code",
      "execution_count": null,
      "metadata": {
        "id": "z9RFDDyksg4B"
      },
      "outputs": [],
      "source": [
        "model = Sequential()\n",
        "model.add(base_model)\n",
        "model.add(tensorflow.keras.layers.GlobalAveragePooling2D())\n",
        "model.add(Dense(10, activation='relu'))\n",
        "model.add(Dropout(0.3))\n",
        "model.add(Dense(units = num_classes, activation='softmax'))\n",
        "model.summary()"
      ]
    },
    {
      "cell_type": "code",
      "execution_count": null,
      "metadata": {
        "id": "tcDjQhT3sleU"
      },
      "outputs": [],
      "source": [
        "def recall_m(y_true, y_pred):\n",
        "    true_positives = K.sum(K.round(K.clip(y_true * y_pred, 0, 1)))\n",
        "    possible_positives = K.sum(K.round(K.clip(y_true, 0, 1)))\n",
        "    recall = true_positives / (possible_positives + K.epsilon())\n",
        "    return recall\n",
        "\n",
        "def precision_m(y_true, y_pred):\n",
        "    true_positives = K.sum(K.round(K.clip(y_true * y_pred, 0, 1)))\n",
        "    predicted_positives = K.sum(K.round(K.clip(y_pred, 0, 1)))\n",
        "    precision = true_positives / (predicted_positives + K.epsilon())\n",
        "    return precision\n",
        "\n",
        "def f1_m(y_true, y_pred):\n",
        "    precision = precision_m(y_true, y_pred)\n",
        "    recall = recall_m(y_true, y_pred)\n",
        "    return 2*((precision*recall)/(precision+recall+K.epsilon()))"
      ]
    },
    {
      "cell_type": "code",
      "execution_count": null,
      "metadata": {
        "id": "MGuTUxj_snb6"
      },
      "outputs": [],
      "source": [
        "# Compile the model with a lower learning rate for fine-tuning\n",
        "optimizer = Adam(learning_rate=1e-5)\n",
        "model.compile(\n",
        "    optimizer=optimizer,\n",
        "    loss=tensorflow.keras.losses.CategoricalCrossentropy(from_logits=False),\n",
        "    metrics=['acc',f1_m,precision_m, recall_m]\n",
        ")\n",
        "\n",
        "# Train the model with class weights to handle class imbalance\n",
        "hist = model.fit(\n",
        "    train,\n",
        "    epochs=20,\n",
        "    validation_data=valid,\n",
        "    callbacks=[early_stopping, LearningRateScheduler(lr_scheduler), model_checkpoint],\n",
        "    class_weight=class_weights\n",
        ")"
      ]
    },
    {
      "cell_type": "code",
      "execution_count": null,
      "metadata": {
        "id": "97GxxwNlspQy"
      },
      "outputs": [],
      "source": [
        "fig = plt.figure()\n",
        "plt.plot(hist.history['loss'], color='teal', label='loss')\n",
        "plt.plot(hist.history['val_loss'], color='orange', label='val_loss')\n",
        "fig.suptitle('Loss', fontsize=20)\n",
        "plt.legend(loc=\"upper left\")\n",
        "fig.savefig('loss.png',format='png')\n",
        "plt.show()\n",
        "\n",
        "fig = plt.figure()\n",
        "plt.plot(hist.history['acc'], color='teal', label='accuracy')\n",
        "plt.plot(hist.history['val_acc'], color='orange', label='val_accuracy')\n",
        "fig.suptitle('Accuracy', fontsize=20)\n",
        "plt.legend(loc=\"upper left\")\n",
        "fig.savefig('accuracy.png',format='png')\n",
        "plt.show()\n",
        "\n",
        "fig = plt.figure()\n",
        "plt.plot(hist.history['f1_m'], color='teal', label='f1_m')\n",
        "plt.plot(hist.history['val_f1_m'], color='orange', label='val_f1_m')\n",
        "fig.suptitle('f1_m', fontsize=20)\n",
        "plt.legend(loc=\"upper left\")\n",
        "fig.savefig('f1_m.png',format='png')\n",
        "plt.show()\n",
        "\n",
        "fig = plt.figure()\n",
        "plt.plot(hist.history['precision_m'], color='teal', label='precision_m')\n",
        "plt.plot(hist.history['val_precision_m'], color='orange', label='val_precision_m')\n",
        "fig.suptitle('precision_m', fontsize=20)\n",
        "plt.legend(loc=\"upper left\")\n",
        "fig.savefig('precision.png',format='png')\n",
        "plt.show()\n",
        "\n",
        "fig = plt.figure()\n",
        "plt.plot(hist.history['recall_m'], color='teal', label='recall_m')\n",
        "plt.plot(hist.history['val_recall_m'], color='orange', label='val_recall_m')\n",
        "fig.suptitle('recall_m', fontsize=20)\n",
        "plt.legend(loc=\"upper left\")\n",
        "fig.savefig('recall.png',format='png')\n",
        "plt.show()"
      ]
    },
    {
      "cell_type": "code",
      "execution_count": null,
      "metadata": {
        "id": "Dm3Pprw25xux"
      },
      "outputs": [],
      "source": [
        "model = tensorflow.keras.saving.load_model(\n",
        "    'best_model.keras',\n",
        "    custom_objects = {\n",
        "        'f1_m'        : f1_m,\n",
        "        'precision_m' : precision_m,\n",
        "        'recall_m'    : recall_m,\n",
        "    }\n",
        ")"
      ]
    },
    {
      "cell_type": "code",
      "execution_count": null,
      "metadata": {
        "id": "Ir9iMAFI8Rh9"
      },
      "outputs": [],
      "source": [
        "model.summary()"
      ]
    },
    {
      "cell_type": "code",
      "execution_count": null,
      "metadata": {
        "id": "lrbyWRWF7AvO"
      },
      "outputs": [],
      "source": [
        "faw_path = \"Maize_Data/train/FAW/FAW_1.jpg\"\n",
        "faw_image = cv2.imread(faw_path)\n",
        "resized_faw_img = tensorflow.image.resize(faw_image,[256,256])\n",
        "faw, healthy, mlb, mln, msv = model.predict(np.expand_dims(resized_faw_img/255,0))[0]\n",
        "print(faw, healthy, mlb, mln, msv)\n",
        "\n",
        "path = \"Maize_Data/train/Healthy/Healthy_1.jpg\"\n",
        "image = cv2.imread(path)\n",
        "path_1 = tensorflow.image.resize(image,[256,256])\n",
        "faw, healthy, mlb, mln, msv = model.predict(np.expand_dims(path_1/255,0))[0]\n",
        "print(faw, healthy, mlb, mln, msv)\n",
        "\n",
        "path = \"Maize_Data/train/MLB/MLB_1.jpg\"\n",
        "image = cv2.imread(path)\n",
        "path_1 = tensorflow.image.resize(image,[256,256])\n",
        "faw, healthy, mlb, mln, msv = model.predict(np.expand_dims(path_1/255,0))[0]\n",
        "print(faw, healthy, mlb, mln, msv)\n",
        "\n",
        "path = \"Maize_Data/train/MLN/MLN_1.jpg\"\n",
        "image = cv2.imread(path)\n",
        "path_1 = tensorflow.image.resize(image,[256,256])\n",
        "faw, healthy, mlb, mln, msv = model.predict(np.expand_dims(path_1/255,0))[0]\n",
        "print(faw, healthy, mlb, mln, msv)\n",
        "\n",
        "path = \"Maize_Data/train/MSV/MSV_1.jpg\"\n",
        "image = cv2.imread(path)\n",
        "path_1 = tensorflow.image.resize(image,[256,256])\n",
        "faw, healthy, mlb, mln, msv = model.predict(np.expand_dims(path_1/255,0))[0]\n",
        "print(faw, healthy, mlb, mln, msv)"
      ]
    },
    {
      "cell_type": "code",
      "execution_count": null,
      "metadata": {
        "id": "MLQeZlFc7H_b"
      },
      "outputs": [],
      "source": [
        "Y_pred = model.predict(train)\n",
        "Y_pred_classes = np.argmax(Y_pred, axis=1)\n",
        "Y_true = train.classes\n",
        "confusion_mtx = confusion_matrix(Y_true, Y_pred_classes)\n",
        "classes = ['FAW', 'Healthy', 'MLB', 'MLN', 'MSV']\n",
        "f, ax = plt.subplots(figsize=(7, 7))\n",
        "sns.heatmap(\n",
        "    confusion_mtx,\n",
        "    annot=True,\n",
        "    linecolor=\"black\",\n",
        "    fmt=\".0f\",\n",
        "    ax=ax, xticklabels=classes, yticklabels=classes\n",
        ")\n",
        "ax.set_xlabel(\"Predicted\", fontsize=12)\n",
        "ax.set_ylabel(\"True\", fontsize=12)\n",
        "ax.set_title(\"Train Confusion Matrix\", fontsize=14)\n",
        "plt.show()\n",
        "\n",
        "report = classification_report(Y_true, Y_pred_classes)\n",
        "print(report)"
      ]
    },
    {
      "cell_type": "code",
      "execution_count": null,
      "metadata": {
        "id": "xqXYGhhV7yNo"
      },
      "outputs": [],
      "source": [
        "Y_pred = model.predict(valid)\n",
        "Y_pred_classes = np.argmax(Y_pred, axis=1)\n",
        "Y_true = valid.classes\n",
        "confusion_mtx = confusion_matrix(\n",
        "    Y_true,\n",
        "    Y_pred_classes\n",
        ")\n",
        "classes = ['FAW', 'Healthy', 'MLB', 'MLN', 'MSV']\n",
        "f, ax = plt.subplots(figsize=(7, 7))\n",
        "sns.heatmap(\n",
        "    confusion_mtx,\n",
        "    annot=True,\n",
        "    linecolor=\"black\",\n",
        "    fmt=\".0f\",\n",
        "    ax=ax, xticklabels=classes, yticklabels=classes\n",
        ")\n",
        "ax.set_xlabel(\"Predicted\", fontsize=12)\n",
        "ax.set_ylabel(\"True\", fontsize=12)\n",
        "ax.set_title(\"Valid Confusion Matrix\", fontsize=14)\n",
        "plt.show()\n",
        "\n",
        "report = classification_report(Y_true, Y_pred_classes)\n",
        "print(report)"
      ]
    },
    {
      "cell_type": "code",
      "execution_count": null,
      "metadata": {
        "id": "oDPVP3V4st3S"
      },
      "outputs": [],
      "source": [
        "df = pandas.DataFrame(columns=['filename','faw', 'healthy', 'mlb', 'mln', 'msv'])\n",
        "path = 'Maize_Data/test'\n",
        "files = glob.glob(path + \"/*.jpg\")\n",
        "\n",
        "for path in files:\n",
        "    image = cv2.imread(path)\n",
        "    path_1 = tensorflow.image.resize(image,[256,256])\n",
        "    faw, healthy, mlb, mln, msv = model.predict(np.expand_dims(path_1/255,0))[0]\n",
        "\n",
        "    folders_and_file = path.split('/')\n",
        "\n",
        "    file_name = folders_and_file[-1]\n",
        "    df = pandas.concat([pandas.DataFrame([[file_name,faw, healthy, mlb, mln, msv]],columns=df.columns),df])\n",
        "\n",
        "df"
      ]
    },
    {
      "cell_type": "code",
      "execution_count": null,
      "metadata": {
        "id": "Xq8diFonsyIy"
      },
      "outputs": [],
      "source": [
        "df.to_csv('18446744073709551616.csv',index=False)"
      ]
    },
    {
      "cell_type": "code",
      "execution_count": null,
      "metadata": {
        "id": "MAk3ZOMbs0Sx"
      },
      "outputs": [],
      "source": [
        "test_data_dir          = 'Maize_Data/test'\n",
        "\n",
        "test_datagen  =  ImageDataGenerator(rescale=1./255)\n",
        "test = valid_datagen.flow_from_directory(\n",
        "    test_data_dir,\n",
        "    target_size=(256, 256),\n",
        "    batch_size=16,\n",
        "    classes = ['FAW', 'Healthy', 'MLB', 'MLN', 'MSV']\n",
        ")"
      ]
    },
    {
      "cell_type": "code",
      "execution_count": null,
      "metadata": {
        "id": "wkvdnebX5jk0"
      },
      "outputs": [],
      "source": []
    }
  ],
  "metadata": {
    "accelerator": "GPU",
    "colab": {
      "gpuType": "T4",
      "provenance": [],
      "authorship_tag": "ABX9TyNYRWT+1lI7cWUoyQm0NAZK",
      "include_colab_link": true
    },
    "kernelspec": {
      "display_name": "Python 3",
      "name": "python3"
    },
    "language_info": {
      "name": "python"
    }
  },
  "nbformat": 4,
  "nbformat_minor": 0
}