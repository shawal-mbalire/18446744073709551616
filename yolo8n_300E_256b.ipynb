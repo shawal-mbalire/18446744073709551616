{
  "cells": [
    {
      "cell_type": "markdown",
      "metadata": {
        "id": "view-in-github",
        "colab_type": "text"
      },
      "source": [
        "<a href=\"https://colab.research.google.com/github/shawal-mbalire/ai_lab_hack/blob/main/yolo8n_300E_256b.ipynb\" target=\"_parent\"><img src=\"https://colab.research.google.com/assets/colab-badge.svg\" alt=\"Open In Colab\"/></a>"
      ]
    },
    {
      "cell_type": "code",
      "execution_count": 1,
      "metadata": {
        "colab": {
          "base_uri": "https://localhost:8080/"
        },
        "collapsed": true,
        "id": "DkGQulMw6SBw",
        "outputId": "d52f5177-b3c7-46e0-a58b-430760fa5531"
      },
      "outputs": [
        {
          "output_type": "stream",
          "name": "stdout",
          "text": [
            "\u001b[2K     \u001b[90m━━━━━━━━━━━━━━━━━━━━━━━━━━━━━━━━━━━━━━━━\u001b[0m \u001b[32m777.9/777.9 kB\u001b[0m \u001b[31m7.7 MB/s\u001b[0m eta \u001b[36m0:00:00\u001b[0m\n",
            "\u001b[2K     \u001b[90m━━━━━━━━━━━━━━━━━━━━━━━━━━━━━━━━━━━━━━━━\u001b[0m \u001b[32m21.3/21.3 MB\u001b[0m \u001b[31m54.5 MB/s\u001b[0m eta \u001b[36m0:00:00\u001b[0m\n",
            "\u001b[?25h"
          ]
        }
      ],
      "source": [
        "!pip install ultralytics -q"
      ]
    },
    {
      "cell_type": "code",
      "execution_count": 2,
      "metadata": {
        "id": "Q7Nneawc6sqH"
      },
      "outputs": [],
      "source": [
        "import os\n",
        "import cv2\n",
        "import glob\n",
        "import yaml\n",
        "import torch\n",
        "import random\n",
        "import shutil\n",
        "import pathlib\n",
        "import numpy as np\n",
        "import pandas as pd\n",
        "from PIL import Image\n",
        "from ultralytics import YOLO\n",
        "import matplotlib.pyplot as plt\n",
        "import matplotlib.patches as patches\n",
        "from sklearn.model_selection import train_test_split"
      ]
    },
    {
      "cell_type": "code",
      "execution_count": 6,
      "metadata": {
        "colab": {
          "base_uri": "https://localhost:8080/"
        },
        "collapsed": true,
        "id": "Xfe-3lwFyfC2",
        "outputId": "74cc5e00-2b40-47b2-90c8-b47a602f7c47"
      },
      "outputs": [
        {
          "output_type": "stream",
          "name": "stdout",
          "text": [
            "\u001b[1;30;43mStreaming output truncated to the last 5000 lines.\u001b[0m\n",
            "  inflating: cocoa_new/valid/img_2510_JPG_jpg.rf.1b26ec4ea50a73ed84473a25058fe168.jpg  \n",
            "  inflating: cocoa_new/valid/img_2954_JPG_jpg.rf.d86e11a6386434ec4c5e9bdbd0c66ecf.xml  \n",
            "  inflating: cocoa_new/valid/img_3920_JPG_jpg.rf.7197873115df59abc4f4130485aba87a.jpg  \n",
            "  inflating: cocoa_new/valid/img_2510_JPG_jpg.rf.1b26ec4ea50a73ed84473a25058fe168.xml  \n",
            "  inflating: cocoa_new/valid/img_3082_JPG_jpg.rf.22386dfd0e7220f0261af55f754ac632.jpg  \n",
            "  inflating: cocoa_new/valid/img_2988_JPG_jpg.rf.d5bd9411b7eba4016505af66b56b82f4.jpg  \n",
            "  inflating: cocoa_new/valid/img_255_JPG_jpg.rf.3443a4428310daa987a86fdab5ca5e9a.xml  \n",
            "  inflating: cocoa_new/valid/img_4084_JPG_jpg.rf.159bae477531188c72b3d3a96f66645c.jpg  \n",
            "  inflating: cocoa_new/valid/img_885_JPG_jpg.rf.5cd9269fad3cbbc6fa995e0ee41b20a1.xml  \n",
            "  inflating: cocoa_new/valid/img_885_JPG_jpg.rf.5cd9269fad3cbbc6fa995e0ee41b20a1.jpg  \n",
            "  inflating: cocoa_new/valid/img_2988_JPG_jpg.rf.d5bd9411b7eba4016505af66b56b82f4.xml  \n",
            "  inflating: cocoa_new/valid/img_255_JPG_jpg.rf.3443a4428310daa987a86fdab5ca5e9a.jpg  \n",
            "  inflating: cocoa_new/valid/img_4084_JPG_jpg.rf.159bae477531188c72b3d3a96f66645c.xml  \n",
            "  inflating: cocoa_new/valid/img_3103_JPG_jpg.rf.28f8227514f7b6a8ef703655f34fce9c.xml  \n",
            "  inflating: cocoa_new/valid/img_1597_JPG_jpg.rf.b43c4797f6cb4b3e1aa9cce5e1f4446f.jpg  \n",
            "  inflating: cocoa_new/valid/img_2870_JPG_jpg.rf.abcedbfca2915eaf15a98d9e0b4bf2da.xml  \n",
            "  inflating: cocoa_new/valid/img_3244_JPG_jpg.rf.157da5e6157cb0e703926fcdb084fb69.jpg  \n",
            "  inflating: cocoa_new/valid/img_657_JPG_jpg.rf.9812d59ce5a487b6582eab53e7497643.jpg  \n",
            "  inflating: cocoa_new/valid/img_880_JPG_jpg.rf.868d28a5a07d468039152b1c18f0cb0a.jpg  \n",
            "  inflating: cocoa_new/valid/img_2528_JPG_jpg.rf.1bd49a07c5d5f66485c7e19fc33d0689.xml  \n",
            "  inflating: cocoa_new/valid/img_2895_JPG_jpg.rf.6f8936cf01b884b264c23e134bfdcc37.xml  \n",
            "  inflating: cocoa_new/valid/img_3764_JPG_jpg.rf.934da4a83162fb41cd613514023cd52f.jpg  \n",
            "  inflating: cocoa_new/valid/img_4071_JPG_jpg.rf.4be8e24e7d88f0e95be5fdcafe736974.jpg  \n",
            "  inflating: cocoa_new/valid/img_1997_JPG_jpg.rf.d4902b9d1ea6fe3081f4b52f8a67c681.xml  \n",
            "  inflating: cocoa_new/valid/img_2895_JPG_jpg.rf.6f8936cf01b884b264c23e134bfdcc37.jpg  \n",
            "  inflating: cocoa_new/valid/img_3764_JPG_jpg.rf.934da4a83162fb41cd613514023cd52f.xml  \n",
            "  inflating: cocoa_new/valid/img_2528_JPG_jpg.rf.1bd49a07c5d5f66485c7e19fc33d0689.jpg  \n",
            "  inflating: cocoa_new/valid/img_1997_JPG_jpg.rf.d4902b9d1ea6fe3081f4b52f8a67c681.jpg  \n",
            "  inflating: cocoa_new/valid/img_4071_JPG_jpg.rf.4be8e24e7d88f0e95be5fdcafe736974.xml  \n",
            "  inflating: cocoa_new/valid/img_2870_JPG_jpg.rf.abcedbfca2915eaf15a98d9e0b4bf2da.jpg  \n",
            "  inflating: cocoa_new/valid/img_3103_JPG_jpg.rf.28f8227514f7b6a8ef703655f34fce9c.jpg  \n",
            "  inflating: cocoa_new/valid/img_1597_JPG_jpg.rf.b43c4797f6cb4b3e1aa9cce5e1f4446f.xml  \n",
            "  inflating: cocoa_new/valid/img_657_JPG_jpg.rf.9812d59ce5a487b6582eab53e7497643.xml  \n",
            "  inflating: cocoa_new/valid/img_880_JPG_jpg.rf.868d28a5a07d468039152b1c18f0cb0a.xml  \n",
            "  inflating: cocoa_new/valid/img_3244_JPG_jpg.rf.157da5e6157cb0e703926fcdb084fb69.xml  \n",
            "  inflating: cocoa_new/valid/img_1649_JPG_jpg.rf.c15ef7767942f3e63af1af6e8628d865.xml  \n",
            "  inflating: cocoa_new/valid/img_3611_JPG_jpg.rf.b69c6be6d5cd990eb586cd836688d0e0.xml  \n",
            "  inflating: cocoa_new/valid/img_3579_JPG_jpg.rf.e8f53cedc924606a5b62f457559ef8f1.xml  \n",
            "  inflating: cocoa_new/valid/img_3611_JPG_jpg.rf.b69c6be6d5cd990eb586cd836688d0e0.jpg  \n",
            "  inflating: cocoa_new/valid/img_3579_JPG_jpg.rf.e8f53cedc924606a5b62f457559ef8f1.jpg  \n",
            "  inflating: cocoa_new/valid/img_1649_JPG_jpg.rf.c15ef7767942f3e63af1af6e8628d865.jpg  \n",
            "  inflating: cocoa_new/valid/img_2855_JPG_jpg.rf.f4f4a0903e693ee6fdd1666a2342af88.jpg  \n",
            "  inflating: cocoa_new/valid/img_3594_JPG_jpg.rf.e2d05787fbca0732c9eda215abb1ab84.jpg  \n",
            "  inflating: cocoa_new/valid/img_3594_JPG_jpg.rf.e2d05787fbca0732c9eda215abb1ab84.xml  \n",
            "  inflating: cocoa_new/valid/img_2855_JPG_jpg.rf.f4f4a0903e693ee6fdd1666a2342af88.xml  \n",
            "  inflating: cocoa_new/valid/img_3902_JPG_jpg.rf.046ed32185a82efa11afd987870cb46d.jpg  \n",
            "  inflating: cocoa_new/valid/img_930_JPG_jpg.rf.fb1f2ede5e25b91b78209a291a4590ee.jpg  \n",
            "  inflating: cocoa_new/valid/img_886_JPG_jpg.rf.55b351296266b1b2eab26c6c9fa14975.jpg  \n",
            "  inflating: cocoa_new/valid/img_3004_JPG_jpg.rf.78ec8a6bcbe87b1ece889867a0e46fc5.xml  \n",
            "  inflating: cocoa_new/valid/img_2423_JPG_jpg.rf.d2d588e84e81e2e407b60629bf54000b.jpg  \n",
            "  inflating: cocoa_new/valid/img_3971_JPG_jpg.rf.e830392f6406fb448c2ca7a720ab5434.xml  \n",
            "  inflating: cocoa_new/valid/img_485_JPG_jpg.rf.30d771b041341fb04726d28566e81230.xml  \n",
            "  inflating: cocoa_new/valid/img_555_JPG_jpg.rf.f0c71ded8f702168e2b33b6757275a1a.jpg  \n",
            "  inflating: cocoa_new/valid/img_2423_JPG_jpg.rf.d2d588e84e81e2e407b60629bf54000b.xml  \n",
            "  inflating: cocoa_new/valid/img_3004_JPG_jpg.rf.78ec8a6bcbe87b1ece889867a0e46fc5.jpg  \n",
            "  inflating: cocoa_new/valid/img_485_JPG_jpg.rf.30d771b041341fb04726d28566e81230.jpg  \n",
            "  inflating: cocoa_new/valid/img_555_JPG_jpg.rf.f0c71ded8f702168e2b33b6757275a1a.xml  \n",
            "  inflating: cocoa_new/valid/img_3971_JPG_jpg.rf.e830392f6406fb448c2ca7a720ab5434.jpg  \n",
            "  inflating: cocoa_new/valid/img_3902_JPG_jpg.rf.046ed32185a82efa11afd987870cb46d.xml  \n",
            "  inflating: cocoa_new/valid/img_886_JPG_jpg.rf.55b351296266b1b2eab26c6c9fa14975.xml  \n",
            "  inflating: cocoa_new/valid/img_930_JPG_jpg.rf.fb1f2ede5e25b91b78209a291a4590ee.xml  \n",
            "  inflating: cocoa_new/valid/img_849_JPG_jpg.rf.8c060f565128c8f7b6c83bede7e0ad41.jpg  \n",
            "  inflating: cocoa_new/valid/img_2385_JPG_jpg.rf.281a2715562db902c141e66d20f220b1.xml  \n",
            "  inflating: cocoa_new/valid/img_2411_JPG_jpg.rf.480acb7ba0676c323536a35e1403dda0.xml  \n",
            "  inflating: cocoa_new/valid/img_2793_JPG_jpg.rf.95fdbe5f9eebde1d30dc9ff941915b19.jpg  \n",
            "  inflating: cocoa_new/valid/img_955_JPG_jpg.rf.148a152d4db0d487804293acab7556db.xml  \n",
            "  inflating: cocoa_new/valid/img_748_JPG_jpg.rf.af5b8f618106a590ab76a84cfc57942b.jpg  \n",
            "  inflating: cocoa_new/valid/img_423_JPG_jpg.rf.4e4615e9f1dce19d6cd55e1f1a43d1be.xml  \n",
            "  inflating: cocoa_new/valid/img_2793_JPG_jpg.rf.95fdbe5f9eebde1d30dc9ff941915b19.xml  \n",
            "  inflating: cocoa_new/valid/img_748_JPG_jpg.rf.af5b8f618106a590ab76a84cfc57942b.xml  \n",
            "  inflating: cocoa_new/valid/img_423_JPG_jpg.rf.4e4615e9f1dce19d6cd55e1f1a43d1be.jpg  \n",
            "  inflating: cocoa_new/valid/img_955_JPG_jpg.rf.148a152d4db0d487804293acab7556db.jpg  \n",
            "  inflating: cocoa_new/valid/img_849_JPG_jpg.rf.8c060f565128c8f7b6c83bede7e0ad41.xml  \n",
            "  inflating: cocoa_new/valid/img_2411_JPG_jpg.rf.480acb7ba0676c323536a35e1403dda0.jpg  \n",
            "  inflating: cocoa_new/valid/img_2385_JPG_jpg.rf.281a2715562db902c141e66d20f220b1.jpg  \n",
            "  inflating: cocoa_new/valid/img_3251_JPG_jpg.rf.41ed8c73141deb8eb888ed67435582ea.xml  \n",
            "  inflating: cocoa_new/valid/img_1890_JPG_jpg.rf.28cd76149720c62cb5c3d60c85c523fc.jpg  \n",
            "  inflating: cocoa_new/valid/img_525_JPG_jpg.rf.f6658551c37bd24e6ebd2870d766b732.xml  \n",
            "  inflating: cocoa_new/valid/img_4050_JPG_jpg.rf.43277c63b294b77f58503fcc0e4ba25f.jpg  \n",
            "  inflating: cocoa_new/valid/img_3666_JPG_jpg.rf.8a2167a3ae9f388ffa4d4a65b20bc41e.jpg  \n",
            "  inflating: cocoa_new/valid/img_3666_JPG_jpg.rf.8a2167a3ae9f388ffa4d4a65b20bc41e.xml  \n",
            "  inflating: cocoa_new/valid/img_4050_JPG_jpg.rf.43277c63b294b77f58503fcc0e4ba25f.xml  \n",
            "  inflating: cocoa_new/valid/img_1890_JPG_jpg.rf.28cd76149720c62cb5c3d60c85c523fc.xml  \n",
            "  inflating: cocoa_new/valid/img_525_JPG_jpg.rf.f6658551c37bd24e6ebd2870d766b732.jpg  \n",
            "  inflating: cocoa_new/valid/img_3251_JPG_jpg.rf.41ed8c73141deb8eb888ed67435582ea.jpg  \n",
            "  inflating: cocoa_new/valid/img_3307_JPG_jpg.rf.be81aa28fcea276762a4ea662c7a3598.jpg  \n",
            "  inflating: cocoa_new/valid/img_3307_JPG_jpg.rf.be81aa28fcea276762a4ea662c7a3598.xml  \n",
            "  inflating: cocoa_new/valid/img_830_JPG_jpg.rf.7d21b32a9e14a4dadc308d46e155caf4.jpg  \n",
            "  inflating: cocoa_new/valid/img_2315_JPG_jpg.rf.d16c7f4204535834550e3f58e333a1d7.xml  \n",
            "  inflating: cocoa_new/valid/img_1127_JPG_jpg.rf.d7abcddd790bd36624d15569d217d7f0.xml  \n",
            "  inflating: cocoa_new/valid/img_1288_JPG_jpg.rf.8ca0fb6baba5e9dfd900439d29fd625d.jpg  \n",
            "  inflating: cocoa_new/valid/img_284_JPG_jpg.rf.6fe611581ce1d836418149188eb2de52.jpg  \n",
            "  inflating: cocoa_new/valid/img_1288_JPG_jpg.rf.8ca0fb6baba5e9dfd900439d29fd625d.xml  \n",
            "  inflating: cocoa_new/valid/img_284_JPG_jpg.rf.6fe611581ce1d836418149188eb2de52.xml  \n",
            "  inflating: cocoa_new/valid/img_830_JPG_jpg.rf.7d21b32a9e14a4dadc308d46e155caf4.xml  \n",
            "  inflating: cocoa_new/valid/img_1127_JPG_jpg.rf.d7abcddd790bd36624d15569d217d7f0.jpg  \n",
            "  inflating: cocoa_new/valid/img_2315_JPG_jpg.rf.d16c7f4204535834550e3f58e333a1d7.jpg  \n",
            "  inflating: cocoa_new/valid/img_607_JPG_jpg.rf.b475a25cadd110e587b19a12c3159870.jpg  \n",
            "  inflating: cocoa_new/valid/img_460_JPG_jpg.rf.49ed94553289bc9403c630ec45030a0f.jpg  \n",
            "  inflating: cocoa_new/valid/img_700_JPG_jpg.rf.fca4fdb416302b07b90397a2b14be0c9.xml  \n",
            "  inflating: cocoa_new/valid/img_700_JPG_jpg.rf.fca4fdb416302b07b90397a2b14be0c9.jpg  \n",
            "  inflating: cocoa_new/valid/img_607_JPG_jpg.rf.b475a25cadd110e587b19a12c3159870.xml  \n",
            "  inflating: cocoa_new/valid/img_460_JPG_jpg.rf.49ed94553289bc9403c630ec45030a0f.xml  \n",
            "  inflating: cocoa_new/valid/img_155_JPG_jpg.rf.7c45c126c0a2e009c99af6b1d3f53006.jpg  \n",
            "  inflating: cocoa_new/valid/img_4060_JPG_jpg.rf.4a9479d5a378a4e0e930246902b405af.jpg  \n",
            "  inflating: cocoa_new/valid/img_2951_JPG_jpg.rf.dd42d8adf2f8b32017343daee266c94d.jpg  \n",
            "  inflating: cocoa_new/valid/img_617_JPG_jpg.rf.ae44d7407ed8c35ccca1534b6ea830fe.jpg  \n",
            "  inflating: cocoa_new/valid/img_617_JPG_jpg.rf.ae44d7407ed8c35ccca1534b6ea830fe.xml  \n",
            "  inflating: cocoa_new/valid/img_2951_JPG_jpg.rf.dd42d8adf2f8b32017343daee266c94d.xml  \n",
            "  inflating: cocoa_new/valid/img_155_JPG_jpg.rf.7c45c126c0a2e009c99af6b1d3f53006.xml  \n",
            "  inflating: cocoa_new/valid/img_4060_JPG_jpg.rf.4a9479d5a378a4e0e930246902b405af.xml  \n",
            "  inflating: cocoa_new/valid/img_2304_JPG_jpg.rf.9769ab2a037a43d65b0ebf1667165153.xml  \n",
            "  inflating: cocoa_new/valid/img_3502_JPG_jpg.rf.c3b7df84105b0d63657c36765d885310.jpg  \n",
            "  inflating: cocoa_new/valid/img_3319_JPG_jpg.rf.ce3a7eddf117ed13c37e7a3a9b371fc2.xml  \n",
            "  inflating: cocoa_new/valid/img_95_JPG_jpg.rf.1f02670b030c3b314b65c3000758fa77.jpg  \n",
            "  inflating: cocoa_new/valid/img_1351_JPG_jpg.rf.31fb77c326ac4d58fbdbcb83e9e975bf.xml  \n",
            "  inflating: cocoa_new/valid/img_3620_JPG_jpg.rf.bf9b5776141ff6fbfcfc5ed61dbc2004.xml  \n",
            "  inflating: cocoa_new/valid/img_95_JPG_jpg.rf.1f02670b030c3b314b65c3000758fa77.xml  \n",
            "  inflating: cocoa_new/valid/img_1351_JPG_jpg.rf.31fb77c326ac4d58fbdbcb83e9e975bf.jpg  \n",
            "  inflating: cocoa_new/valid/img_3620_JPG_jpg.rf.bf9b5776141ff6fbfcfc5ed61dbc2004.jpg  \n",
            "  inflating: cocoa_new/valid/img_2304_JPG_jpg.rf.9769ab2a037a43d65b0ebf1667165153.jpg  \n",
            "  inflating: cocoa_new/valid/img_3319_JPG_jpg.rf.ce3a7eddf117ed13c37e7a3a9b371fc2.jpg  \n",
            "  inflating: cocoa_new/valid/img_3502_JPG_jpg.rf.c3b7df84105b0d63657c36765d885310.xml  \n",
            "  inflating: cocoa_new/valid/img_827_JPG_jpg.rf.d6fb1b15b3ab59ab0d1578db0200a918.jpg  \n",
            "  inflating: cocoa_new/valid/img_1152_JPG_jpg.rf.443789f70bb01cb334d919dab5299840.xml  \n",
            "  inflating: cocoa_new/valid/img_3897_JPG_jpg.rf.c0e15f3f2cb1ed2c18de474a0cc7816d.jpg  \n",
            "  inflating: cocoa_new/valid/img_3349_JPG_jpg.rf.dbac72a7a58527ec7b3b6257e5f06d7a.xml  \n",
            "  inflating: cocoa_new/valid/img_3303_JPG_jpg.rf.c7a90ca18b39419a2bf3881f987be9db.jpg  \n",
            "  inflating: cocoa_new/valid/img_3349_JPG_jpg.rf.dbac72a7a58527ec7b3b6257e5f06d7a.jpg  \n",
            "  inflating: cocoa_new/valid/img_3303_JPG_jpg.rf.c7a90ca18b39419a2bf3881f987be9db.xml  \n",
            "  inflating: cocoa_new/valid/img_827_JPG_jpg.rf.d6fb1b15b3ab59ab0d1578db0200a918.xml  \n",
            "  inflating: cocoa_new/valid/img_1152_JPG_jpg.rf.443789f70bb01cb334d919dab5299840.jpg  \n",
            "  inflating: cocoa_new/valid/img_3897_JPG_jpg.rf.c0e15f3f2cb1ed2c18de474a0cc7816d.xml  \n",
            "  inflating: cocoa_new/test_new/img_1893_JPG_jpg.rf.3b49d18b6cdbe92e15d1918b1f889141.jpg  \n",
            "  inflating: cocoa_new/test_new/img_3041_JPG_jpg.rf.62c0bd9395c0f25a0c9bb98eec726b19.jpg  \n",
            "  inflating: cocoa_new/test_new/img_3068_JPG_jpg.rf.e6c85b73b7cb05b59604feb581707954.jpg  \n",
            "  inflating: cocoa_new/test_new/img_3287_JPG_jpg.rf.bae82deb10adc848a347a769f77b7f10.jpg  \n",
            "  inflating: cocoa_new/test_new/img_833_JPG_jpg.rf.4b791e720e23cc7f3cd39451938ffe8f.jpg  \n",
            "  inflating: cocoa_new/test_new/img_176_JPG_jpg.rf.ea418dd812a0f37f0d00e3d54b86b4d2.jpg  \n",
            "  inflating: cocoa_new/test_new/img_350_JPG_jpg.rf.6fe9d9f2759d8365b9dc3a96f8bc6c14.jpg  \n",
            "  inflating: cocoa_new/test_new/img_3775_JPG_jpg.rf.4df08baf77d37af20752f3e7c07e3d6b.jpg  \n",
            "  inflating: cocoa_new/test_new/img_4028_JPG_jpg.rf.e6cb534456ddf211da14b0496ed384f0.jpg  \n",
            "  inflating: cocoa_new/test_new/img_3186_JPG_jpg.rf.8d292263de27175e0ae22d37ffcfc0cc.jpg  \n",
            "  inflating: cocoa_new/test_new/img_3144_JPG_jpg.rf.7a99ef4f6ef86b6eed05cb4315a02dc7.jpg  \n",
            "  inflating: cocoa_new/test_new/img_3236_JPG_jpg.rf.b4882cc9f84cd0847d0eb218c440236b.jpg  \n",
            "  inflating: cocoa_new/test_new/img_708_JPG_jpg.rf.578f9b8d5e70dcd1568ce05970867397.jpg  \n",
            "  inflating: cocoa_new/test_new/img_3708_JPG_jpg.rf.2fec2e95d8cdc28261a4685c5e0595ca.jpg  \n",
            "  inflating: cocoa_new/test_new/img_1282_JPG_jpg.rf.1ffadd5e7e49652aa0fb83c65216f426.jpg  \n",
            "  inflating: cocoa_new/test_new/img_564_JPG_jpg.rf.d5b2360f44e12521311d54eb08038e4f.jpg  \n",
            "  inflating: cocoa_new/test_new/img_2384_JPG_jpg.rf.9216311a3e5b3e23012c6bb3318cb6fc.jpg  \n",
            "  inflating: cocoa_new/test_new/img_356_JPG_jpg.rf.25188e7da285dfa143e14fcb0e71e601.jpg  \n",
            "  inflating: cocoa_new/test_new/img_1186_JPG_jpg.rf.9a1fbe9e2cb29f3e7a0df9a0e31efe4d.jpg  \n",
            "  inflating: cocoa_new/test_new/img_208_JPG_jpg.rf.d44c8b0eda72d30afcc70a7952832556.jpg  \n",
            "  inflating: cocoa_new/test_new/img_2941_JPG_jpg.rf.3e693643a6eae8070a2373ae44b2ccd0.jpg  \n",
            "  inflating: cocoa_new/test_new/img_1730_JPG_jpg.rf.6b1a9137016c39349bf1c039e06fa01d.jpg  \n",
            "  inflating: cocoa_new/test_new/img_3823_JPG_jpg.rf.30c1fdd2045917f7640952d21a40d97e.jpg  \n",
            "  inflating: cocoa_new/test_new/img_2393_JPG_jpg.rf.c371bf85936864f80d0f0aef9e18100e.jpg  \n",
            "  inflating: cocoa_new/test_new/img_848_JPG_jpg.rf.7c60ca611b534bd239203bea32253bb4.jpg  \n",
            "  inflating: cocoa_new/test_new/img_2894_JPG_jpg.rf.7ba9da050c08a6e54d99a14b1a83d553.jpg  \n",
            "  inflating: cocoa_new/test_new/img_2466_JPG_jpg.rf.58244ea195f882d53526df378f4a6690.jpg  \n",
            "  inflating: cocoa_new/test_new/img_3533_JPG_jpg.rf.6dcfd881db7b1f04cadb063a839be59e.jpg  \n",
            "  inflating: cocoa_new/test_new/img_3553_JPG_jpg.rf.966365238125e195864a94166f0015f1.jpg  \n",
            "  inflating: cocoa_new/test_new/img_4106_JPG_jpg.rf.2dc933efb6042c94c9bcb1021be6b87e.jpg  \n",
            "  inflating: cocoa_new/test_new/img_2878_JPG_jpg.rf.36965302775826dca64ee561c578a785.jpg  \n",
            "  inflating: cocoa_new/test_new/img_3042_JPG_jpg.rf.b4160d5f1eae571a607ba6e7c1b682ee.jpg  \n",
            "  inflating: cocoa_new/test_new/img_1_JPG_jpg.rf.7f91fcd184861fc56069bf73b3702957.jpg  \n",
            "  inflating: cocoa_new/test_new/img_777_JPG_jpg.rf.99c5375d0858e4ac6338b6d750b79681.jpg  \n",
            "  inflating: cocoa_new/test_new/img_1436_JPG_jpg.rf.096f7f9a9eb6587996648ac9b5bb3ab8.jpg  \n",
            "  inflating: cocoa_new/test_new/img_4029_JPG_jpg.rf.614a4d256edb4bb4b036632dee49fd82.jpg  \n",
            "  inflating: cocoa_new/test_new/img_3271_JPG_jpg.rf.d13a4027b40332fa1ef37a1915607913.jpg  \n",
            "  inflating: cocoa_new/test_new/img_3923_JPG_jpg.rf.87da042a089bfb0a8eb9a4f21d419699.jpg  \n",
            "  inflating: cocoa_new/test_new/img_3755_JPG_jpg.rf.c23b99efbd44699424d1eb99e6173239.jpg  \n",
            "  inflating: cocoa_new/test_new/img_309_JPG_jpg.rf.fc9ba848af1532712fb3f66b5522b8e0.jpg  \n",
            "  inflating: cocoa_new/test_new/img_4113_JPG_jpg.rf.ed65168eeb5539e1853842dcc2b4592d.jpg  \n",
            "  inflating: cocoa_new/test_new/img_2344_JPG_jpg.rf.699cb583d395b84f1fabc2c32ba3df77.jpg  \n",
            "  inflating: cocoa_new/test_new/img_3786_JPG_jpg.rf.71bd14d478bd6e46de69c4f855b6f0f7.jpg  \n",
            "  inflating: cocoa_new/test_new/img_1719_JPG_jpg.rf.ad5264fa4ed133a4eb9faa9238e4a331.jpg  \n",
            "  inflating: cocoa_new/test_new/img_2937_JPG_jpg.rf.7388d91661a2815efcfcb26a2415f19b.jpg  \n",
            "  inflating: cocoa_new/test_new/img_1604_JPG_jpg.rf.105731bdb2f4bfa95f48d7f460cfeb20.jpg  \n",
            "  inflating: cocoa_new/test_new/img_3267_JPG_jpg.rf.7451d70def660e7936f8cda70de8d19f.jpg  \n",
            "  inflating: cocoa_new/test_new/img_2433_JPG_jpg.rf.0ef6e074af3ff67ab90d4f7bba037da4.jpg  \n",
            "  inflating: cocoa_new/test_new/img_2420_JPG_jpg.rf.5b861f4c4ace21198b60cccb2e1a2bff.jpg  \n",
            "  inflating: cocoa_new/test_new/img_1715_JPG_jpg.rf.b775acabf233daeb5c84dba56f692a4e.jpg  \n",
            "  inflating: cocoa_new/test_new/img_1355_JPG_jpg.rf.1e24d5001f5db9f9c11c7babf76b8190.jpg  \n",
            "  inflating: cocoa_new/test_new/img_479_JPG_jpg.rf.04f84d82d38fbcc52523b18a69a5759c.jpg  \n",
            "  inflating: cocoa_new/test_new/img_3313_JPG_jpg.rf.b025f97d1ab85de421779c4365074c58.jpg  \n",
            "  inflating: cocoa_new/test_new/img_392_JPG_jpg.rf.5bbe2521f13c825cf48318c2a4a7041b.jpg  \n",
            "  inflating: cocoa_new/test_new/img_3646_JPG_jpg.rf.a2403cf15e3a24a70c6cde1139b95481.jpg  \n",
            "  inflating: cocoa_new/test_new/img_2454_JPG_jpg.rf.40f6a1cb9b27db771b1476663a230cba.jpg  \n",
            "  inflating: cocoa_new/test_new/img_716_JPG_jpg.rf.70c56a85d8046851bcdde1ebf6a8ea85.jpg  \n",
            "  inflating: cocoa_new/test_new/img_1285_JPG_jpg.rf.4e82f745dbd47cb128d4745f99d1022a.jpg  \n",
            "  inflating: cocoa_new/test_new/img_3813_JPG_jpg.rf.45df0c97b1b47d9580764f9d5e13c561.jpg  \n",
            "  inflating: cocoa_new/test_new/img_1367_JPG_jpg.rf.8faa75fe266ab0e03e06589513e96f63.jpg  \n",
            "  inflating: cocoa_new/test_new/img_383_JPG_jpg.rf.4afa9c996b992e94c5efeebc75bcab1c.jpg  \n",
            "  inflating: cocoa_new/test_new/img_2001_JPG_jpg.rf.c5adb1b4adcd013ea15a98f50d196ad3.jpg  \n",
            "  inflating: cocoa_new/test_new/img_1816_JPG_jpg.rf.34f59668721f5e9e210c3cce925ce14a.jpg  \n",
            "  inflating: cocoa_new/test_new/img_2477_JPG_jpg.rf.bcb08f7636c61ecb678d761e4bcd72ca.jpg  \n",
            "  inflating: cocoa_new/test_new/img_838_JPG_jpg.rf.f202b0669f4e6b4aa1fd37995791da40.jpg  \n",
            "  inflating: cocoa_new/test_new/img_3333_JPG_jpg.rf.fbd0d5083c37235659825a03ac1f3811.jpg  \n",
            "  inflating: cocoa_new/test_new/img_3294_JPG_jpg.rf.aafe1052e9747a3a46d2d2a83de3dc75.jpg  \n",
            "  inflating: cocoa_new/test_new/img_3315_JPG_jpg.rf.f4d4bca224125b286bfdfba4bb62f865.jpg  \n",
            "  inflating: cocoa_new/test_new/img_2463_JPG_jpg.rf.531e9a92a84a6cdb14d819c1ac605275.jpg  \n",
            "  inflating: cocoa_new/test_new/img_3642_JPG_jpg.rf.6980d88d708c5ae94ac0fc3478982d7d.jpg  \n",
            "  inflating: cocoa_new/test_new/img_3960_JPG_jpg.rf.499057f5618edd1e337cb6b812bf4fd3.jpg  \n",
            "  inflating: cocoa_new/test_new/img_1402_JPG_jpg.rf.d6c45e77a0f426f2aaa91582d9c8ffb6.jpg  \n",
            "  inflating: cocoa_new/test_new/img_3794_JPG_jpg.rf.fcdaf4b537630c4ee4998c1dc9bd4ca7.jpg  \n",
            "  inflating: cocoa_new/test_new/img_27_JPG_jpg.rf.1b841c60579acb969e6959cdb4087f9e.jpg  \n",
            "  inflating: cocoa_new/test_new/img_1190_JPG_jpg.rf.75795048be8bc8613bb08be2e586be71.jpg  \n",
            "  inflating: cocoa_new/test_new/img_3403_JPG_jpg.rf.20cb081caf9a89a7df7003b855e542f4.jpg  \n",
            "  inflating: cocoa_new/test_new/img_3875_JPG_jpg.rf.1de049ec4bf43a4d3e87a9a8ccadb102.jpg  \n",
            "  inflating: cocoa_new/test_new/img_684_JPG_jpg.rf.ed80647d31f938618086ea4f8721d3c4.jpg  \n",
            "  inflating: cocoa_new/test_new/img_56_JPG_jpg.rf.9763c96e7ae1bc79cd77ef2a735259f4.jpg  \n",
            "  inflating: cocoa_new/test_new/img_2461_JPG_jpg.rf.74e124ad351b6104151b82f7666ccc65.jpg  \n",
            "  inflating: cocoa_new/test_new/img_1347_JPG_jpg.rf.d119a97f7b02bea8b6b516abb7f9801c.jpg  \n",
            "  inflating: cocoa_new/test_new/img_3905_JPG_jpg.rf.9205fb34b657a82a5ddc76f66157d1e1.jpg  \n",
            "  inflating: cocoa_new/test_new/img_706_JPG_jpg.rf.7ceac480d48953ae05f3cff7988f2299.jpg  \n",
            "  inflating: cocoa_new/test_new/img_3455_JPG_jpg.rf.fc3ec6f1f64b98e21f6b5d25824dffbe.jpg  \n",
            "  inflating: cocoa_new/test_new/img_1617_JPG_jpg.rf.790352e8ede5a8daca5e447bed821300.jpg  \n",
            "  inflating: cocoa_new/test_new/img_3338_JPG_jpg.rf.79b194b01c369b13dbf8390c4d89d9e5.jpg  \n",
            "  inflating: cocoa_new/test_new/img_1179_JPG_jpg.rf.76a83691c1d7f6f0e75575d5870f89dd.jpg  \n",
            "  inflating: cocoa_new/test_new/img_3036_JPG_jpg.rf.7f5c6cb9cca7cce85329931ec8b442f7.jpg  \n",
            "  inflating: cocoa_new/test_new/img_2998_JPG_jpg.rf.3ebd40ef7c86a570d9bf8be6febdd80d.jpg  \n",
            "  inflating: cocoa_new/test_new/img_3456_JPG_jpg.rf.b45faca02e5b6aa02751aa1e0b4250aa.jpg  \n",
            "  inflating: cocoa_new/test_new/img_567_JPG_jpg.rf.25ca2b2b0cbf5a0663168b7b322c0a2b.jpg  \n",
            "  inflating: cocoa_new/test_new/img_4011_JPG_jpg.rf.ff8bc8b5580e124ebe1d97152427fa9e.jpg  \n",
            "  inflating: cocoa_new/test_new/img_4083_JPG_jpg.rf.7601e7d2d9319a8ea50a1e06acb26e08.jpg  \n",
            "  inflating: cocoa_new/test_new/img_3084_JPG_jpg.rf.66137b034fe2d6eccb742af74ccc4e27.jpg  \n",
            "  inflating: cocoa_new/test_new/img_1388_JPG_jpg.rf.1c929f567cfcc33380a57f257cff4b49.jpg  \n",
            "  inflating: cocoa_new/test_new/img_2858_JPG_jpg.rf.420efc63caf4c169fa7925679f53f108.jpg  \n",
            "  inflating: cocoa_new/test_new/img_3306_JPG_jpg.rf.506900ae6984daf814cca0fe6f4eb2a4.jpg  \n",
            "  inflating: cocoa_new/test_new/img_1304_JPG_jpg.rf.45f83d7908785a05419477d35e8faf14.jpg  \n",
            "  inflating: cocoa_new/test_new/img_1154_JPG_jpg.rf.25b1ae07716c96ab47b453e4328ced99.jpg  \n",
            "  inflating: cocoa_new/test_new/img_474_JPG_jpg.rf.ea7acb60e9bca5d00e45f23319b2bbf2.jpg  \n",
            "  inflating: cocoa_new/test_new/img_153_JPG_jpg.rf.6d849a635202b14a3052db29503cb7cf.jpg  \n",
            "  inflating: cocoa_new/test_new/img_17_JPG_jpg.rf.14c3951046b328a86b4e7ecbe88ee6c2.jpg  \n",
            "  inflating: cocoa_new/test_new/img_3115_JPG_jpg.rf.e01872fec80f68c586e743ba91d862c5.jpg  \n",
            "  inflating: cocoa_new/test_new/img_826_JPG_jpg.rf.10ad0d2ee0b28be7194d9f74934b77fe.jpg  \n",
            "  inflating: cocoa_new/test_new/img_1599_JPG_jpg.rf.e791c2af1d64dd3b5869b598c6824908.jpg  \n",
            "  inflating: cocoa_new/test_new/img_270_JPG_jpg.rf.8ff5af5cdcca65fe11f300fdac9fdd71.jpg  \n",
            "  inflating: cocoa_new/test_new/img_2471_JPG_jpg.rf.6cb004ebbb1fe6774b711ab88b16c8d4.jpg  \n",
            "  inflating: cocoa_new/test_new/img_1901_JPG_jpg.rf.0192b72343b1bbd6c3ded81cc3fc6c55.jpg  \n",
            "  inflating: cocoa_new/test_new/img_3114_JPG_jpg.rf.a3cff731dfb77a69da1288d5185613d3.jpg  \n",
            "  inflating: cocoa_new/test_new/img_7_JPG_jpg.rf.fc1ca40dcf76f21f63a4cfb7052833ea.jpg  \n",
            "  inflating: cocoa_new/test_new/img_3206_JPG_jpg.rf.38fd33d43410f21738aa4453830d172d.jpg  \n",
            "  inflating: cocoa_new/test_new/img_215_JPG_jpg.rf.6b5822b08b8eb864ada4705709ea51ab.jpg  \n",
            "  inflating: cocoa_new/test_new/img_1139_JPG_jpg.rf.3d66a511e5738109f124be9af4a4da1b.jpg  \n",
            "  inflating: cocoa_new/test_new/img_2944_JPG_jpg.rf.6dd9641533519103befa03e05b9da9f3.jpg  \n",
            "  inflating: cocoa_new/test_new/img_280_JPG_jpg.rf.f8bdfa01324b49eb5f55b1273ecad701.jpg  \n",
            "  inflating: cocoa_new/test_new/img_1229_JPG_jpg.rf.3ab5146ea623268ec0b6c271d3d8b8f8.jpg  \n",
            "  inflating: cocoa_new/test_new/img_2598_JPG_jpg.rf.8e10615cb0ee478c03cdb62a6d4dce7b.jpg  \n",
            "  inflating: cocoa_new/test_new/img_196_JPG_jpg.rf.95fc4bda8438bd81812c5face4e69ddd.jpg  \n",
            "  inflating: cocoa_new/test_new/img_2990_JPG_jpg.rf.c5adeee7de2759920820ba416c4ad37c.jpg  \n",
            "  inflating: cocoa_new/test_new/img_783_JPG_jpg.rf.7f058eba6dfda5fb53fa3bf0eb7d4434.jpg  \n",
            "  inflating: cocoa_new/test_new/img_118_JPG_jpg.rf.37211556b07ff614e7bdcce5e7c15bb3.jpg  \n",
            "  inflating: cocoa_new/test_new/img_950_JPG_jpg.rf.3f4ad2fc055917096892b7d02d553ea3.jpg  \n",
            "  inflating: cocoa_new/test_new/img_425_JPG_jpg.rf.e5f4a1567f1a4ccbaf63c09e6840993f.jpg  \n",
            "  inflating: cocoa_new/test_new/img_2322_JPG_jpg.rf.bc9eb6f4de9198eb431127ff5aff1506.jpg  \n",
            "  inflating: cocoa_new/test_new/img_2929_JPG_jpg.rf.8881d1d89ce961e28797a5bedbcf0c81.jpg  \n",
            "  inflating: cocoa_new/test_new/img_939_JPG_jpg.rf.8dfeb3cb26989748d06e9afce8be2d82.jpg  \n",
            "  inflating: cocoa_new/test_new/img_2042_JPG_jpg.rf.5ffff6072bab410b054257f0f7b672f4.jpg  \n",
            "  inflating: cocoa_new/test_new/img_1523_JPG_jpg.rf.5ddbebec8cd78f6ab4301a3b6bdd4435.jpg  \n",
            "  inflating: cocoa_new/test_new/img_3524_JPG_jpg.rf.2ec7445d9b16b1900a6acddb441b4002.jpg  \n",
            "  inflating: cocoa_new/test_new/img_875_JPG_jpg.rf.5df16497bfb8d7e8eddc3c4e27618dc1.jpg  \n",
            "  inflating: cocoa_new/test_new/img_1605_JPG_jpg.rf.1c5556bc654e125e1ccff207d2c4bb68.jpg  \n",
            "  inflating: cocoa_new/test_new/img_774_JPG_jpg.rf.e8ea04a87ef414da2b93f1f5c5547be7.jpg  \n",
            "  inflating: cocoa_new/test_new/img_53_JPG_jpg.rf.3d03135cb14faddf60b8570de63bc672.jpg  \n",
            "  inflating: cocoa_new/test_new/img_3742_JPG_jpg.rf.02a4a4b70a2ed36c45d98137a930a119.jpg  \n",
            "  inflating: cocoa_new/test_new/img_2028_JPG_jpg.rf.8f3747244920b71ab441af5aa0a198f1.jpg  \n",
            "  inflating: cocoa_new/test_new/img_2413_JPG_jpg.rf.18d5f5310d5152ab9e223ac226483a13.jpg  \n",
            "  inflating: cocoa_new/test_new/img_3959_JPG_jpg.rf.94f969c399ec9ef44811484fa395c893.jpg  \n",
            "  inflating: cocoa_new/test_new/img_3279_JPG_jpg.rf.3eca650b96560d9b4faaa8c437ce8bb8.jpg  \n",
            "  inflating: cocoa_new/test_new/img_1261_JPG_jpg.rf.f972945bff6596e73d24698399ce3725.jpg  \n",
            "  inflating: cocoa_new/test_new/img_4027_JPG_jpg.rf.bbc8e7166aeaaaa8723f7000dfe89fa6.jpg  \n",
            "  inflating: cocoa_new/test_new/img_384_JPG_jpg.rf.7fc209a62234364919b3dc5127865a3f.jpg  \n",
            "  inflating: cocoa_new/test_new/img_3699_JPG_jpg.rf.d97ecb838b1a9621914436c1cc737210.jpg  \n",
            "  inflating: cocoa_new/test_new/img_2977_JPG_jpg.rf.9b5b13e87a34ff9d9e5b19165f5cd382.jpg  \n",
            "  inflating: cocoa_new/test_new/img_3761_JPG_jpg.rf.b2e537bf2340477faa5d08494e1d2d96.jpg  \n",
            "  inflating: cocoa_new/test_new/img_529_JPG_jpg.rf.0f945d790ecdc2f9367bd2e019899b3d.jpg  \n",
            "  inflating: cocoa_new/test_new/img_1817_JPG_jpg.rf.03936c7b72b2b80e18127e7fe1efaf61.jpg  \n",
            "  inflating: cocoa_new/test_new/img_1518_JPG_jpg.rf.4bddd54cd2fd31079b5a9b407ce983d7.jpg  \n",
            "  inflating: cocoa_new/test_new/img_1948_JPG_jpg.rf.fd8d9039a914a84ab6d387928bb54dc3.jpg  \n",
            "  inflating: cocoa_new/test_new/img_2379_JPG_jpg.rf.3fd19a5c4bca8be2b7b4f4c87336d2da.jpg  \n",
            "  inflating: cocoa_new/test_new/img_688_JPG_jpg.rf.633483553d9f6b479b0dd40c995a343a.jpg  \n",
            "  inflating: cocoa_new/test_new/img_506_JPG_jpg.rf.c94d7c265589fa46dae46fc7a88ad446.jpg  \n",
            "  inflating: cocoa_new/test_new/img_353_JPG_jpg.rf.0291500aeef1ae3b9c0849f763e59486.jpg  \n",
            "  inflating: cocoa_new/test_new/img_644_JPG_jpg.rf.c33af89b3e60c430ef62ea6cb77d5d8a.jpg  \n",
            "  inflating: cocoa_new/test_new/img_74_JPG_jpg.rf.6cd918c915d17b0b17126295ed250fa9.jpg  \n",
            "  inflating: cocoa_new/test_new/img_3415_JPG_jpg.rf.5fa5802d4114127f7601cc7f95400ea3.jpg  \n",
            "  inflating: cocoa_new/test_new/img_1464_JPG_jpg.rf.329e05ac3f007c1f93bc22659daffb85.jpg  \n",
            "  inflating: cocoa_new/test_new/img_581_JPG_jpg.rf.cd63671a08892a89ab01c656581cf9b6.jpg  \n",
            "  inflating: cocoa_new/test_new/img_304_JPG_jpg.rf.58451c64c5be141e55ecc4edc98388fe.jpg  \n",
            "  inflating: cocoa_new/test_new/img_3308_JPG_jpg.rf.c010ba93706af3e449d1c4244fcb5bbc.jpg  \n",
            "  inflating: cocoa_new/test_new/img_281_JPG_jpg.rf.7f7d8fdb5562a8c9a0eaa8a987832484.jpg  \n",
            "  inflating: cocoa_new/test_new/img_1408_JPG_jpg.rf.19743d68a5a9ceaec9b0b74cc7d4bd35.jpg  \n",
            "  inflating: cocoa_new/test_new/img_1618_JPG_jpg.rf.0d037aaab99ca429a10991e271a23678.jpg  \n",
            "  inflating: cocoa_new/test_new/img_13_JPG_jpg.rf.bdf19d9a8cdd0772e804d011b208c273.jpg  \n",
            "  inflating: cocoa_new/test_new/img_3613_JPG_jpg.rf.d2f90d4bcc3158990f71ed19a9db7b09.jpg  \n",
            "  inflating: cocoa_new/test_new/img_1619_JPG_jpg.rf.31d73854775050a9d4af3f6f6dee2385.jpg  \n",
            "  inflating: cocoa_new/test_new/img_2864_JPG_jpg.rf.788f93c6b99c55c19fc2049e2b0f2a4e.jpg  \n",
            "  inflating: cocoa_new/test_new/img_1352_JPG_jpg.rf.558aed1303d17f724499b345b9ac719d.jpg  \n",
            "  inflating: cocoa_new/test_new/img_2002_JPG_jpg.rf.2307bb5835f1fee956f48084cdc15ea1.jpg  \n",
            "  inflating: cocoa_new/test_new/img_1591_JPG_jpg.rf.26fe8aafaeb105af106aa3b4d72a4093.jpg  \n",
            "  inflating: cocoa_new/test_new/img_2936_JPG_jpg.rf.ad97811e5f88941d1aa1ed32dad1df15.jpg  \n",
            "  inflating: cocoa_new/test_new/img_2573_JPG_jpg.rf.8299bd96a14adc948aafbff9cee802d0.jpg  \n",
            "  inflating: cocoa_new/test_new/img_4088_JPG_jpg.rf.4d61c48231a18d0a75e441c8e44f1327.jpg  \n",
            "  inflating: cocoa_new/test_new/img_843_JPG_jpg.rf.998fb20f476b851d00f65684f35ca2ab.jpg  \n",
            "  inflating: cocoa_new/test_new/img_23_JPG_jpg.rf.7a4cd157b9c808fc0264b693e6bb74fd.jpg  \n",
            "  inflating: cocoa_new/test_new/img_1509_JPG_jpg.rf.89783fe3022bef56a59a7ba2a0638546.jpg  \n",
            "  inflating: cocoa_new/test_new/img_1992_JPG_jpg.rf.2f91a7295abc9543cb3b89c499b24a34.jpg  \n",
            "  inflating: cocoa_new/test_new/img_2994_JPG_jpg.rf.502c63cc3681071f8236d8f8afaeaef8.jpg  \n",
            "  inflating: cocoa_new/test_new/img_507_JPG_jpg.rf.5bd9bfe11d442e34590abda0ad4f953b.jpg  \n",
            "  inflating: cocoa_new/test_new/img_3193_JPG_jpg.rf.d67c47e2c48d0aef285ff9bb13246e3e.jpg  \n",
            "  inflating: cocoa_new/test_new/img_4014_JPG_jpg.rf.262e2743bbdcb711f05fe5c409aa247b.jpg  \n",
            "  inflating: cocoa_new/test_new/img_3240_JPG_jpg.rf.89c26e0b2449181cee8efe07b4a8c89b.jpg  \n",
            "  inflating: cocoa_new/test_new/img_157_JPG_jpg.rf.55fd22a1bb1a7a3ff266a8fa1f50a98f.jpg  \n",
            "  inflating: cocoa_new/test_new/img_2592_JPG_jpg.rf.927b4391d3bc8d0715ce34187027e299.jpg  \n",
            "  inflating: cocoa_new/test_new/img_1512_JPG_jpg.rf.1f68fcf8fa99bbcf9e0751aeaf7ae0e0.jpg  \n",
            "  inflating: cocoa_new/test_new/img_2591_JPG_jpg.rf.64a5edf4d404a48e02aa2967cb0b80f2.jpg  \n",
            "  inflating: cocoa_new/test_new/img_283_JPG_jpg.rf.e9268e5fa4c62f25ab292e0965375562.jpg  \n",
            "  inflating: cocoa_new/test_new/img_452_JPG_jpg.rf.019adf186553a53f41b259ff0198f561.jpg  \n",
            "  inflating: cocoa_new/test_new/img_841_JPG_jpg.rf.583a9b882202ff4eceb5664557529fbf.jpg  \n",
            "  inflating: cocoa_new/test_new/img_2427_JPG_jpg.rf.ca248c640d3ed2d419567037618945eb.jpg  \n",
            "  inflating: cocoa_new/test_new/img_3914_JPG_jpg.rf.5266d45f16466f267abfb9624502bac8.jpg  \n",
            "  inflating: cocoa_new/test_new/img_2556_JPG_jpg.rf.c4862f5fe32f54c9e88cf99f2400838f.jpg  \n",
            "  inflating: cocoa_new/test_new/img_3929_JPG_jpg.rf.bc150b44fefbb121af17321dc4a7ddad.jpg  \n",
            "  inflating: cocoa_new/test_new/img_173_JPG_jpg.rf.27df11a79d63c18242bbbe560319e53e.jpg  \n",
            "  inflating: cocoa_new/test_new/img_1168_JPG_jpg.rf.39be982e0468df92cf8a2f980e443798.jpg  \n",
            "  inflating: cocoa_new/test_new/img_3847_JPG_jpg.rf.52b2843efc2d5845e23e6b48bee75fd1.jpg  \n",
            "  inflating: cocoa_new/test_new/img_3536_JPG_jpg.rf.4ea4883394687c7b1b844f2269f00cb8.jpg  \n",
            "  inflating: cocoa_new/test_new/img_2922_JPG_jpg.rf.ea190c948580b1ce2f14b0ec9048ed9b.jpg  \n",
            "  inflating: cocoa_new/test_new/img_4017_JPG_jpg.rf.3ae18dde78336524a3eac29be2c8bca0.jpg  \n",
            "  inflating: cocoa_new/test_new/img_3917_JPG_jpg.rf.2cb55ee9a503ad66c9e3cf9187c9c1d4.jpg  \n",
            "  inflating: cocoa_new/test_new/img_3400_JPG_jpg.rf.f854076de6a2f1043da74d1740b44e24.jpg  \n",
            "  inflating: cocoa_new/test_new/img_1208_JPG_jpg.rf.6efc515975f52c7dbbd3a0f34c23b069.jpg  \n",
            "  inflating: cocoa_new/test_new/img_2343_JPG_jpg.rf.1485143cb96c3eea9f4e54f3963fb125.jpg  \n",
            "  inflating: cocoa_new/test_new/img_3484_JPG_jpg.rf.b1e5d46c03025c7182115fc0873bfe4c.jpg  \n",
            "  inflating: cocoa_new/test_new/img_2627_JPG_jpg.rf.8b1d2031914ca5f041083abf5b89354f.jpg  \n",
            "  inflating: cocoa_new/test_new/img_4107_JPG_jpg.rf.84cb989f47b872d72ce86e5a70031d80.jpg  \n",
            "  inflating: cocoa_new/test_new/img_3124_JPG_jpg.rf.299e2281c8839e3f6e48e722e6ab4475.jpg  \n",
            "  inflating: cocoa_new/test_new/img_846_JPG_jpg.rf.4fb9f9a3ebd33604595ead56d01a939c.jpg  \n",
            "  inflating: cocoa_new/test_new/img_3600_JPG_jpg.rf.103983c2be72dcdafd2c383e36140810.jpg  \n",
            "  inflating: cocoa_new/test_new/img_2787_JPG_jpg.rf.d39e7fcde38099b8fe106a0152796cef.jpg  \n",
            "  inflating: cocoa_new/test_new/img_3635_JPG_jpg.rf.e0efbe4169038363fedd83fca62a491b.jpg  \n",
            "  inflating: cocoa_new/test_new/img_3580_JPG_jpg.rf.e8f9e9ec91baab48a37e4cd7739e352f.jpg  \n",
            "  inflating: cocoa_new/test_new/img_3323_JPG_jpg.rf.e37db7fa805f683d55dc44d41971e0bb.jpg  \n",
            "  inflating: cocoa_new/test_new/img_117_JPG_jpg.rf.ef959442b356b51158d12797458103a8.jpg  \n",
            "  inflating: cocoa_new/test_new/img_1713_JPG_jpg.rf.472191c33c7af8d408338e13947fff52.jpg  \n",
            "  inflating: cocoa_new/test_new/img_821_JPG_jpg.rf.de79ae4a158b13fefbbe44f0b2770ef1.jpg  \n",
            "  inflating: cocoa_new/test_new/img_900_JPG_jpg.rf.0696cb9a65da552e9589261c1da44399.jpg  \n",
            "  inflating: cocoa_new/test_new/img_3223_JPG_jpg.rf.320cf28ff470e767df959a7907c4bcc4.jpg  \n",
            "  inflating: cocoa_new/test_new/img_786_JPG_jpg.rf.2201121d54390ff0169cb20b318c43fc.jpg  \n",
            "  inflating: cocoa_new/test_new/img_1612_JPG_jpg.rf.7e43ba42c8de89b14fee1d9550b739af.jpg  \n",
            "  inflating: cocoa_new/test_new/img_1598_JPG_jpg.rf.125f2ac28cab822aeb117ac93f82ccfe.jpg  \n",
            "  inflating: cocoa_new/test_new/img_2575_JPG_jpg.rf.b518dff8ee87fd40a4503b351fdf06d6.jpg  \n",
            "  inflating: cocoa_new/test_new/img_3363_JPG_jpg.rf.fd285d0b53621a5f19e570db0114d7e7.jpg  \n",
            "  inflating: cocoa_new/test_new/img_1739_JPG_jpg.rf.d9183489fd0afb0b1c9ffe14c2be529f.jpg  \n",
            "  inflating: cocoa_new/test_new/img_1720_JPG_jpg.rf.c1923edd8e012d22077bd2f212cac97b.jpg  \n",
            "  inflating: cocoa_new/test_new/img_2032_JPG_jpg.rf.03f07706fd6f1507b11a95d801176ed4.jpg  \n",
            "  inflating: cocoa_new/test_new/img_289_JPG_jpg.rf.320ab71c14d88b62841e3860a0585159.jpg  \n",
            "  inflating: cocoa_new/test_new/img_2482_JPG_jpg.rf.f8662e3f31fb2de3445b7d0061f9fe50.jpg  \n",
            "  inflating: cocoa_new/test_new/img_151_JPG_jpg.rf.e75f7fb579c91334e3d1e502e61a0c44.jpg  \n",
            "  inflating: cocoa_new/test_new/img_100_JPG_jpg.rf.355630eeb50a5bf7087656a846a73b28.jpg  \n",
            "  inflating: cocoa_new/test_new/img_1327_JPG_jpg.rf.1c4b0b2b77c7ba59189f58468888f764.jpg  \n",
            "  inflating: cocoa_new/test_new/img_3615_JPG_jpg.rf.210ef59901201e70b9d980862135eec4.jpg  \n",
            "  inflating: cocoa_new/test_new/img_167_JPG_jpg.rf.b3cefdee255e4aa781b9433465f2199a.jpg  \n",
            "  inflating: cocoa_new/test_new/img_484_JPG_jpg.rf.d0b8420154d22b42c749b28f7febd643.jpg  \n",
            "  inflating: cocoa_new/test_new/img_724_JPG_jpg.rf.dee5de1cfaf0db71695c12f0067907b0.jpg  \n",
            "  inflating: cocoa_new/test_new/img_599_JPG_jpg.rf.a33900faf22722167162323cc221fee8.jpg  \n",
            "  inflating: cocoa_new/test_new/img_3003_JPG_jpg.rf.a911b193f4a914821367f8f88c2f8bd7.jpg  \n",
            "  inflating: cocoa_new/test_new/img_3054_JPG_jpg.rf.07fbf73b9096ee55ec5f81d64e1f4c2b.jpg  \n",
            "  inflating: cocoa_new/test_new/img_596_JPG_jpg.rf.b588370378ec3a997460cb6dfd51a62e.jpg  \n",
            "  inflating: cocoa_new/test_new/img_3486_JPG_jpg.rf.0fc3be3728e4d4471d6c7a07f077160d.jpg  \n",
            "  inflating: cocoa_new/test_new/img_664_JPG_jpg.rf.8f6d82e083a4414ca4664c650c44fc2d.jpg  \n",
            "  inflating: cocoa_new/test_new/img_3906_JPG_jpg.rf.9a6c723e2c213e19d642e92c40d6b0a9.jpg  \n",
            "  inflating: cocoa_new/test_new/img_1398_JPG_jpg.rf.659db7664f80da0334c4bfccf25a7f23.jpg  \n",
            "  inflating: cocoa_new/test_new/img_887_JPG_jpg.rf.a4aaf259cb143f2e3dfc55ea99cafe14.jpg  \n",
            "  inflating: cocoa_new/test_new/img_3705_JPG_jpg.rf.29f580c86c4a5e0ec11c8ac8f10b2059.jpg  \n",
            "  inflating: cocoa_new/test_new/img_3834_JPG_jpg.rf.5dfc7543fb05e1248d51d7194fa69ef6.jpg  \n",
            "  inflating: cocoa_new/test_new/img_3522_JPG_jpg.rf.9bc7ff15f97f145f50c6ec7ce608a899.jpg  \n",
            "  inflating: cocoa_new/test_new/img_3252_JPG_jpg.rf.baa0c4ea47a0a21f88f240a28c11d2b4.jpg  \n",
            "  inflating: cocoa_new/test_new/img_3767_JPG_jpg.rf.7d5561c0c2a6be9fc439e84d81639e3b.jpg  \n",
            "  inflating: cocoa_new/test_new/img_3401_JPG_jpg.rf.c3239735a3482a18a944c88bac87a742.jpg  \n",
            "  inflating: cocoa_new/test_new/img_719_JPG_jpg.rf.ceffc698fba63716113fa0e2d43e69f5.jpg  \n",
            "  inflating: cocoa_new/test_new/img_3270_JPG_jpg.rf.7b83e872cd1d9c8228de13d9be947d37.jpg  \n",
            "  inflating: cocoa_new/test_new/img_2948_JPG_jpg.rf.2426661bcd0827fa3e5dd0573e8647a1.jpg  \n",
            "  inflating: cocoa_new/test_new/img_51_JPG_jpg.rf.a94597b965406855a31ac68ed948c1cb.jpg  \n",
            "  inflating: cocoa_new/test_new/img_3369_JPG_jpg.rf.14739bf164f73621135def4dc8737174.jpg  \n",
            "  inflating: cocoa_new/test_new/img_301_JPG_jpg.rf.73b8e80a5249a945eb5d8308e4443fb2.jpg  \n",
            "  inflating: cocoa_new/test_new/img_2943_JPG_jpg.rf.7ecb6136fc4354a62fb39297acec9a5d.jpg  \n",
            "  inflating: cocoa_new/test_new/img_4034_JPG_jpg.rf.7878691584c80cef645c4303b4b03de0.jpg  \n",
            "  inflating: cocoa_new/test_new/img_2499_JPG_jpg.rf.0d9a44a2204d8a01f3f6914379efd8b9.jpg  \n",
            "  inflating: cocoa_new/test_new/img_3132_JPG_jpg.rf.d469adf4a8249cb7d887dfd6754ff51a.jpg  \n",
            "  inflating: cocoa_new/test_new/img_2354_JPG_jpg.rf.f8c66bb9b67bb629bf3a7571079392f6.jpg  \n",
            "  inflating: cocoa_new/test_new/img_78_JPG_jpg.rf.7443706caadfee0ce8dd971e59a1378f.jpg  \n",
            "  inflating: cocoa_new/test_new/img_242_JPG_jpg.rf.c0eff4e55c90e96bd16f46e71f4c5f37.jpg  \n",
            "  inflating: cocoa_new/test_new/img_758_JPG_jpg.rf.02cec4a38b232db83bb0bcf9ed3d3379.jpg  \n",
            "  inflating: cocoa_new/test_new/img_278_JPG_jpg.rf.cbc3ee8f06dd72273401559d6c4ae910.jpg  \n",
            "  inflating: cocoa_new/test_new/img_161_JPG_jpg.rf.b1db835c2175047caf230d9c4f0463c1.jpg  \n",
            "  inflating: cocoa_new/test_new/img_729_JPG_jpg.rf.d935e20556e9fa242fcb31bcc857a8e0.jpg  \n",
            "  inflating: cocoa_new/test_new/img_3481_JPG_jpg.rf.f6f4e63d40ee63c9683d4be33d7a560a.jpg  \n",
            "  inflating: cocoa_new/test_new/img_488_JPG_jpg.rf.3d34901bb507e35ba0df51bb2f415d07.jpg  \n",
            "  inflating: cocoa_new/test_new/img_575_JPG_jpg.rf.38603f28455e40664dbc2ccc7d0295ea.jpg  \n",
            "  inflating: cocoa_new/test_new/img_4074_JPG_jpg.rf.9604e6bfa22f9d65e179c07aae1689c5.jpg  \n",
            "  inflating: cocoa_new/test_new/img_2310_JPG_jpg.rf.6727dffdc63273f8720bdcc6e6dbf3be.jpg  \n",
            "  inflating: cocoa_new/test_new/img_1053_JPG_jpg.rf.da4d5fac363863ca7c99dad2798809a4.jpg  \n",
            "  inflating: cocoa_new/test_new/img_3757_JPG_jpg.rf.93b38f599e970db04fdf11abcfb293b3.jpg  \n",
            "  inflating: cocoa_new/test_new/img_3146_JPG_jpg.rf.a03cca099babc256891b9a9bfb995522.jpg  \n",
            "  inflating: cocoa_new/test_new/img_1258_JPG_jpg.rf.a5e39d7b85ea9c110f598f9fad833319.jpg  \n",
            "  inflating: cocoa_new/test_new/img_938_JPG_jpg.rf.001613e749abb393a6410995bbd64b41.jpg  \n",
            "  inflating: cocoa_new/test_new/img_2563_JPG_jpg.rf.a4ffab8ed837ab71bdacb3db462c6a6c.jpg  \n",
            "  inflating: cocoa_new/test_new/img_3046_JPG_jpg.rf.12e3d8c0d15ddd9686dbbf53a375c3af.jpg  \n",
            "  inflating: cocoa_new/test_new/img_3804_JPG_jpg.rf.eaf1c528a21f08184c6c6cd69a7bc70a.jpg  \n",
            "  inflating: cocoa_new/test_new/img_3145_JPG_jpg.rf.e0d156702a380fb3f3b86904357d7a1d.jpg  \n",
            "  inflating: cocoa_new/test_new/img_3784_JPG_jpg.rf.5495d8c13f89972452c022b979d942d4.jpg  \n",
            "  inflating: cocoa_new/test_new/img_2320_JPG_jpg.rf.e7fae9dda71c5532ed2f956d652d1727.jpg  \n",
            "  inflating: cocoa_new/test_new/img_3500_JPG_jpg.rf.69c8947bdb56dbf7868dc9b52e8b9462.jpg  \n",
            "  inflating: cocoa_new/test_new/img_1169_JPG_jpg.rf.286f188db227fa739c3f9bafecf202e2.jpg  \n",
            "  inflating: cocoa_new/test_new/img_552_JPG_jpg.rf.7c757cd5f03200653a334a5c09147235.jpg  \n",
            "  inflating: cocoa_new/test_new/img_3232_JPG_jpg.rf.80b53c146caa64279331845ddbd9f751.jpg  \n",
            "  inflating: cocoa_new/test_new/img_43_JPG_jpg.rf.ffbb8991b761f4046ebd62c0dfe84d5d.jpg  \n",
            "  inflating: cocoa_new/test_new/img_902_JPG_jpg.rf.76503567b2ef1325665d8a008a9193c9.jpg  \n",
            "  inflating: cocoa_new/test_new/img_99_JPG_jpg.rf.98caa994128ede576c5bd23589e946e4.jpg  \n",
            "  inflating: cocoa_new/test_new/img_489_JPG_jpg.rf.b3dd0520e6ec9bb570273424fe07cd4a.jpg  \n",
            "  inflating: cocoa_new/test_new/img_3365_JPG_jpg.rf.bd56193dd2da38da37cf9c4d6e83af75.jpg  \n",
            "  inflating: cocoa_new/test_new/img_1752_JPG_jpg.rf.1ea372e627dad95fbc39bef2c527f650.jpg  \n",
            "  inflating: cocoa_new/test_new/img_4101_JPG_jpg.rf.bf7280f74846b376f0426c08ca2c4d81.jpg  \n",
            "  inflating: cocoa_new/test_new/img_4004_JPG_jpg.rf.170098e25d08e24ba3c48339a2994aa5.jpg  \n",
            "  inflating: cocoa_new/test_new/img_3449_JPG_jpg.rf.00d89a8e0f6f13e38bc3d4ee5c9d0663.jpg  \n",
            "  inflating: cocoa_new/test_new/img_964_JPG_jpg.rf.2fa16a27f3aea3fc3fd5de330bdaf3c0.jpg  \n",
            "  inflating: cocoa_new/test_new/img_3158_JPG_jpg.rf.be6cde14715d010be708a19e6e614ad8.jpg  \n",
            "  inflating: cocoa_new/test_new/img_2503_JPG_jpg.rf.94ff76085162efac3edb8ff61babd64b.jpg  \n",
            "  inflating: cocoa_new/test_new/img_759_JPG_jpg.rf.3bca914db82ec8a2ee3c61a142475a6b.jpg  \n",
            "  inflating: cocoa_new/test_new/img_794_JPG_jpg.rf.2ddfa0e16eeb6414ff50915f2ec50e13.jpg  \n",
            "  inflating: cocoa_new/test_new/img_3467_JPG_jpg.rf.a94630587f54e77f34c159816ab761b4.jpg  \n",
            "  inflating: cocoa_new/test_new/img_1384_JPG_jpg.rf.a07dbfcb56ed2604dc9a988b30a18f4d.jpg  \n",
            "  inflating: cocoa_new/test_new/img_2986_JPG_jpg.rf.00d214bf8929d5247625b4e1bcf59663.jpg  \n",
            "  inflating: cocoa_new/test_new/img_919_JPG_jpg.rf.ed37d8dca9ac073ea6a39ee3b0aec33a.jpg  \n",
            "  inflating: cocoa_new/test_new/img_44_JPG_jpg.rf.be854def658eb883ddc7b718f31decc3.jpg  \n",
            "  inflating: cocoa_new/test_new/img_1728_JPG_jpg.rf.ab79a4c2c4c2f024d1a0bbdc3773d3dd.jpg  \n",
            "  inflating: cocoa_new/test_new/img_2928_JPG_jpg.rf.bc577ef9702fdd3dd99a6df5ee8dc850.jpg  \n",
            "  inflating: cocoa_new/test_new/img_1971_JPG_jpg.rf.5e1609e0c34de18f7b53770f3ca47442.jpg  \n",
            "  inflating: cocoa_new/test_new/img_3422_JPG_jpg.rf.9a9273f7cf6fad0c50f7cae45d5e0854.jpg  \n",
            "  inflating: cocoa_new/test_new/img_2876_JPG_jpg.rf.75624d1381055a0d85830c3274c58964.jpg  \n",
            "  inflating: cocoa_new/test_new/img_3865_JPG_jpg.rf.c2beeb8d5b40d69f9537b6a41d63d0c6.jpg  \n",
            "  inflating: cocoa_new/test_new/img_1366_JPG_jpg.rf.a13b1342b2e3a4ffabf6996be3c95f78.jpg  \n",
            "  inflating: cocoa_new/test_new/img_2586_JPG_jpg.rf.887db0dc9d3a96a00ee9d4b855b98dd6.jpg  \n",
            "  inflating: cocoa_new/test_new/img_560_JPG_jpg.rf.b1043628005117e313d8366bd095a0cc.jpg  \n",
            "  inflating: cocoa_new/test_new/img_244_JPG_jpg.rf.bf209ca113c27b2e5283506da4b812c7.jpg  \n",
            "  inflating: cocoa_new/test_new/img_761_JPG_jpg.rf.49549dd0f8d883c0b23a103a8a411f39.jpg  \n",
            "  inflating: cocoa_new/test_new/img_3050_JPG_jpg.rf.3ab7b4ccf5b59a438c70d7457a7da415.jpg  \n",
            "  inflating: cocoa_new/train/img_747_JPG_jpg.rf.452fc5a139b5e011eaefb73a812d10ba.jpg  \n",
            "  inflating: cocoa_new/train/img_3256_JPG_jpg.rf.1899430ea344d59c764337efc895e25c.xml  \n",
            "  inflating: cocoa_new/train/img_3945_JPG_jpg.rf.a5899e60e71a501d27c79ebf49463272.jpg  \n",
            "  inflating: cocoa_new/train/img_2439_JPG_jpg.rf.3e6c81deb5e8606a6498cc0189f4ddfb.xml  \n",
            "  inflating: cocoa_new/train/img_214_JPG_jpg.rf.0f3002580e059580b06ddc0e41374508.jpg  \n",
            "  inflating: cocoa_new/train/img_3009_JPG_jpg.rf.5eb5bdf3046e2cedb172bffb1d5101ea.jpg  \n",
            "  inflating: cocoa_new/train/img_3490_JPG_jpg.rf.968cac7f6b561e09b68fa4a979579310.xml  \n",
            "  inflating: cocoa_new/train/img_274_JPG_jpg.rf.2438218215d45a2a62356cd1555216dc.jpg  \n",
            "  inflating: cocoa_new/train/img_3989_JPG_jpg.rf.bc27b803b71c78edd511bf83d36818c3.jpg  \n",
            "  inflating: cocoa_new/train/img_2945_JPG_jpg.rf.8af28852b829ba22e349727625864c02.xml  \n",
            "  inflating: cocoa_new/train/img_3393_JPG_jpg.rf.4c0a6fbe6764d1d9513dff820e5138a7.xml  \n",
            "  inflating: cocoa_new/train/img_1375_JPG_jpg.rf.ccdcaa4335b0c02df99d8babe6a24dac.jpg  \n",
            "  inflating: cocoa_new/train/img_2880_JPG_jpg.rf.c6715b86b59a6aa479571cc197f7aa54.jpg  \n",
            "  inflating: cocoa_new/train/img_776_JPG_jpg.rf.5ee788e50cc7ee1f6158baaf635c062c.jpg  \n",
            "  inflating: cocoa_new/train/img_1957_JPG_jpg.rf.727c4ca7acb9623a80f2c13a621928b4.jpg  \n",
            "  inflating: cocoa_new/train/img_3384_JPG_jpg.rf.513703f605573cdbb793ab5ba6a5a398.jpg  \n",
            "  inflating: cocoa_new/train/img_3203_JPG_jpg.rf.b3fd667c361ef9115e4508d263e7a028.jpg  \n",
            "  inflating: cocoa_new/train/img_2437_JPG_jpg.rf.ee16cb3b18ad9399afd8620cf1ccfc48.xml  \n",
            "  inflating: cocoa_new/train/img_2891_JPG_jpg.rf.8982fa2546ecad4f1b9999a6028b5b11.jpg  \n",
            "  inflating: cocoa_new/train/img_3148_JPG_jpg.rf.3c5399da5805f654d9ddc68e5cc4defb.jpg  \n",
            "  inflating: cocoa_new/train/img_3384_JPG_jpg.rf.513703f605573cdbb793ab5ba6a5a398.xml  \n",
            "  inflating: cocoa_new/train/img_2880_JPG_jpg.rf.c6715b86b59a6aa479571cc197f7aa54.xml  \n",
            "  inflating: cocoa_new/train/img_776_JPG_jpg.rf.5ee788e50cc7ee1f6158baaf635c062c.xml  \n",
            "  inflating: cocoa_new/train/img_1957_JPG_jpg.rf.727c4ca7acb9623a80f2c13a621928b4.xml  \n",
            "  inflating: cocoa_new/train/img_3203_JPG_jpg.rf.b3fd667c361ef9115e4508d263e7a028.xml  \n",
            "  inflating: cocoa_new/train/img_2437_JPG_jpg.rf.ee16cb3b18ad9399afd8620cf1ccfc48.jpg  \n",
            "  inflating: cocoa_new/train/img_3148_JPG_jpg.rf.3c5399da5805f654d9ddc68e5cc4defb.xml  \n",
            "  inflating: cocoa_new/train/img_2891_JPG_jpg.rf.8982fa2546ecad4f1b9999a6028b5b11.xml  \n",
            "  inflating: cocoa_new/train/img_3009_JPG_jpg.rf.5eb5bdf3046e2cedb172bffb1d5101ea.xml  \n",
            "  inflating: cocoa_new/train/img_3490_JPG_jpg.rf.968cac7f6b561e09b68fa4a979579310.jpg  \n",
            "  inflating: cocoa_new/train/img_274_JPG_jpg.rf.2438218215d45a2a62356cd1555216dc.xml  \n",
            "  inflating: cocoa_new/train/img_747_JPG_jpg.rf.452fc5a139b5e011eaefb73a812d10ba.xml  \n",
            "  inflating: cocoa_new/train/img_3256_JPG_jpg.rf.1899430ea344d59c764337efc895e25c.jpg  \n",
            "  inflating: cocoa_new/train/img_3945_JPG_jpg.rf.a5899e60e71a501d27c79ebf49463272.xml  \n",
            "  inflating: cocoa_new/train/img_214_JPG_jpg.rf.0f3002580e059580b06ddc0e41374508.xml  \n",
            "  inflating: cocoa_new/train/img_2439_JPG_jpg.rf.3e6c81deb5e8606a6498cc0189f4ddfb.jpg  \n",
            "  inflating: cocoa_new/train/img_3393_JPG_jpg.rf.4c0a6fbe6764d1d9513dff820e5138a7.jpg  \n",
            "  inflating: cocoa_new/train/img_1375_JPG_jpg.rf.ccdcaa4335b0c02df99d8babe6a24dac.xml  \n",
            "  inflating: cocoa_new/train/img_3989_JPG_jpg.rf.bc27b803b71c78edd511bf83d36818c3.xml  \n",
            "  inflating: cocoa_new/train/img_2945_JPG_jpg.rf.8af28852b829ba22e349727625864c02.jpg  \n",
            "  inflating: cocoa_new/train/img_798_JPG_jpg.rf.7e688ceb1ec0267c104251f81615f3f4.jpg  \n",
            "  inflating: cocoa_new/train/img_1193_JPG_jpg.rf.a7da3f2f47b0054480229eaf69db7f72.jpg  \n",
            "  inflating: cocoa_new/train/img_1255_JPG_jpg.rf.f4032b59ff60c2298d8688d76b253bcd.jpg  \n",
            "  inflating: cocoa_new/train/img_1770_JPG_jpg.rf.fea7deacfbd36d99a6562a940e25d463.jpg  \n",
            "  inflating: cocoa_new/train/img_3254_JPG_jpg.rf.223494ffb3a96c566648b27b74ddde5c.xml  \n",
            "  inflating: cocoa_new/train/img_2429_JPG_jpg.rf.37cb68464c13293566b7a620d2c43b2d.xml  \n",
            "  inflating: cocoa_new/train/img_3898_JPG_jpg.rf.4f5e119d1632c35b73335874ed388fc6.xml  \n",
            "  inflating: cocoa_new/train/img_291_JPG_jpg.rf.ee4113809c07cead207ccafa0fd1edea.jpg  \n",
            "  inflating: cocoa_new/train/img_467_JPG_jpg.rf.54be7d30c01d04fdbb752d364e522e61.xml  \n",
            "  inflating: cocoa_new/train/img_2349_JPG_jpg.rf.a72bce95dabb106cfe236f6e6ac1ed01.xml  \n",
            "  inflating: cocoa_new/train/img_871_JPG_jpg.rf.afb8ebe76b989b18719da09d613783ef.xml  \n",
            "  inflating: cocoa_new/train/img_963_JPG_jpg.rf.57e848c2fca4a5516f32e3394b03da8b.xml  \n",
            "  inflating: cocoa_new/train/img_2921_JPG_jpg.rf.3833c05c4eaff051678d16c6775ee79e.xml  \n",
            "  inflating: cocoa_new/train/img_318_JPG_jpg.rf.f3c26213a36b3c825bd3994a3088afd9.xml  \n",
            "  inflating: cocoa_new/train/img_420_JPG_jpg.rf.ba23a41da03ca537481d3907b255032d.xml  \n",
            "  inflating: cocoa_new/train/img_2585_JPG_jpg.rf.67c022531837936ff511ada1a531679d.xml  \n",
            "  inflating: cocoa_new/train/img_584_JPG_jpg.rf.0287831c626dca1fadb2872e3916f446.xml  \n",
            "  inflating: cocoa_new/train/img_3425_JPG_jpg.rf.48bd3dec42a7200fcf9db3eca8a382aa.xml  \n",
            "  inflating: cocoa_new/train/img_2724_JPG_jpg.rf.c30b5a37d7884d99ca325945d76f155b.jpg  \n",
            "  inflating: cocoa_new/train/img_3133_JPG_jpg.rf.c67da2dfddca4858e549391a66523273.jpg  \n",
            "  inflating: cocoa_new/train/img_4012_JPG_jpg.rf.2310d098111412b1a23b0097602df0c2.jpg  \n",
            "  inflating: cocoa_new/train/img_871_JPG_jpg.rf.afb8ebe76b989b18719da09d613783ef.jpg  \n",
            "  inflating: cocoa_new/train/img_963_JPG_jpg.rf.57e848c2fca4a5516f32e3394b03da8b.jpg  \n",
            "  inflating: cocoa_new/train/img_2921_JPG_jpg.rf.3833c05c4eaff051678d16c6775ee79e.jpg  \n",
            "  inflating: cocoa_new/train/img_318_JPG_jpg.rf.f3c26213a36b3c825bd3994a3088afd9.jpg  \n",
            "  inflating: cocoa_new/train/img_3898_JPG_jpg.rf.4f5e119d1632c35b73335874ed388fc6.jpg  \n",
            "  inflating: cocoa_new/train/img_291_JPG_jpg.rf.ee4113809c07cead207ccafa0fd1edea.xml  \n",
            "  inflating: cocoa_new/train/img_467_JPG_jpg.rf.54be7d30c01d04fdbb752d364e522e61.jpg  \n",
            "  inflating: cocoa_new/train/img_2349_JPG_jpg.rf.a72bce95dabb106cfe236f6e6ac1ed01.jpg  \n",
            "  inflating: cocoa_new/train/img_2724_JPG_jpg.rf.c30b5a37d7884d99ca325945d76f155b.xml  \n",
            "  inflating: cocoa_new/train/img_3133_JPG_jpg.rf.c67da2dfddca4858e549391a66523273.xml  \n",
            "  inflating: cocoa_new/train/img_4012_JPG_jpg.rf.2310d098111412b1a23b0097602df0c2.xml  \n",
            "  inflating: cocoa_new/train/img_420_JPG_jpg.rf.ba23a41da03ca537481d3907b255032d.jpg  \n",
            "  inflating: cocoa_new/train/img_2585_JPG_jpg.rf.67c022531837936ff511ada1a531679d.jpg  \n",
            "  inflating: cocoa_new/train/img_3425_JPG_jpg.rf.48bd3dec42a7200fcf9db3eca8a382aa.jpg  \n",
            "  inflating: cocoa_new/train/img_584_JPG_jpg.rf.0287831c626dca1fadb2872e3916f446.jpg  \n",
            "  inflating: cocoa_new/train/img_1193_JPG_jpg.rf.a7da3f2f47b0054480229eaf69db7f72.xml  \n",
            "  inflating: cocoa_new/train/img_1255_JPG_jpg.rf.f4032b59ff60c2298d8688d76b253bcd.xml  \n",
            "  inflating: cocoa_new/train/img_798_JPG_jpg.rf.7e688ceb1ec0267c104251f81615f3f4.xml  \n",
            "  inflating: cocoa_new/train/img_2429_JPG_jpg.rf.37cb68464c13293566b7a620d2c43b2d.jpg  \n",
            "  inflating: cocoa_new/train/img_1770_JPG_jpg.rf.fea7deacfbd36d99a6562a940e25d463.xml  \n",
            "  inflating: cocoa_new/train/img_3254_JPG_jpg.rf.223494ffb3a96c566648b27b74ddde5c.jpg  \n",
            "  inflating: cocoa_new/train/img_1714_JPG_jpg.rf.10320dded62b3f3499add1bfa0d0fac3.jpg  \n",
            "  inflating: cocoa_new/train/img_526_JPG_jpg.rf.05694c7527e81a9497af00efd3ab2ac1.jpg  \n",
            "  inflating: cocoa_new/train/img_4001_JPG_jpg.rf.f0236501b3ee140852aeae85e1e1e011.jpg  \n",
            "  inflating: cocoa_new/train/img_1140_JPG_jpg.rf.69f24fbc7925cd928a06dde71eb365fa.xml  \n",
            "  inflating: cocoa_new/train/img_2866_JPG_jpg.rf.e92c33ed7b3c3c100aeb33c12573f6b0.xml  \n",
            "  inflating: cocoa_new/train/img_4026_JPG_jpg.rf.e12db2424c55deec055261761e811bbe.xml  \n",
            "  inflating: cocoa_new/train/img_640_JPG_jpg.rf.1d64495e5cb065f181f05bccaf9d45a2.jpg  \n",
            "  inflating: cocoa_new/train/img_458_JPG_jpg.rf.8df76b35fd65161242fec19c912f68bf.jpg  \n",
            "  inflating: cocoa_new/train/img_884_JPG_jpg.rf.2e64a5bb4a13c7c79b860e44243be145.jpg  \n",
            "  inflating: cocoa_new/train/img_3556_JPG_jpg.rf.92e7311a7afa20eedc8e6105d739819f.xml  \n",
            "  inflating: cocoa_new/train/img_3751_JPG_jpg.rf.1e5e8d3a88ed3de814120c0eb1764142.xml  \n",
            "  inflating: cocoa_new/train/img_2808_JPG_jpg.rf.5effed1bf0b1a47d4c79b9aeab720a06.jpg  \n",
            "  inflating: cocoa_new/train/img_1792_JPG_jpg.rf.3859b4d0e32d9acdc7b5d4c848b35ec7.jpg  \n",
            "  inflating: cocoa_new/train/img_4005_JPG_jpg.rf.20577c968cfe513b5e89105be505209c.xml  \n",
            "  inflating: cocoa_new/train/img_81_JPG_jpg.rf.2135d483d61d79ea543951be6cdc22b1.xml  \n",
            "  inflating: cocoa_new/train/img_2365_JPG_jpg.rf.8a0f20b9c1e6f872b54b71ea404f7ae7.xml  \n",
            "  inflating: cocoa_new/train/img_3556_JPG_jpg.rf.92e7311a7afa20eedc8e6105d739819f.jpg  \n",
            "  inflating: cocoa_new/train/img_3751_JPG_jpg.rf.1e5e8d3a88ed3de814120c0eb1764142.jpg  \n",
            "  inflating: cocoa_new/train/img_2808_JPG_jpg.rf.5effed1bf0b1a47d4c79b9aeab720a06.xml  \n",
            "  inflating: cocoa_new/train/img_884_JPG_jpg.rf.2e64a5bb4a13c7c79b860e44243be145.xml  \n",
            "  inflating: cocoa_new/train/img_4005_JPG_jpg.rf.20577c968cfe513b5e89105be505209c.jpg  \n",
            "  inflating: cocoa_new/train/img_81_JPG_jpg.rf.2135d483d61d79ea543951be6cdc22b1.jpg  \n",
            "  inflating: cocoa_new/train/img_2365_JPG_jpg.rf.8a0f20b9c1e6f872b54b71ea404f7ae7.jpg  \n",
            "  inflating: cocoa_new/train/img_1792_JPG_jpg.rf.3859b4d0e32d9acdc7b5d4c848b35ec7.xml  \n",
            "  inflating: cocoa_new/train/img_2866_JPG_jpg.rf.e92c33ed7b3c3c100aeb33c12573f6b0.jpg  \n",
            "  inflating: cocoa_new/train/img_1140_JPG_jpg.rf.69f24fbc7925cd928a06dde71eb365fa.jpg  \n",
            "  inflating: cocoa_new/train/img_1714_JPG_jpg.rf.10320dded62b3f3499add1bfa0d0fac3.xml  \n",
            "  inflating: cocoa_new/train/img_4001_JPG_jpg.rf.f0236501b3ee140852aeae85e1e1e011.xml  \n",
            "  inflating: cocoa_new/train/img_526_JPG_jpg.rf.05694c7527e81a9497af00efd3ab2ac1.xml  \n",
            "  inflating: cocoa_new/train/img_458_JPG_jpg.rf.8df76b35fd65161242fec19c912f68bf.xml  \n",
            "  inflating: cocoa_new/train/img_4026_JPG_jpg.rf.e12db2424c55deec055261761e811bbe.jpg  \n",
            "  inflating: cocoa_new/train/img_640_JPG_jpg.rf.1d64495e5cb065f181f05bccaf9d45a2.xml  \n",
            "  inflating: cocoa_new/train/img_3511_JPG_jpg.rf.e9d8d6dafb9179bfb745e4d1ee676924.xml  \n",
            "  inflating: cocoa_new/train/img_3162_JPG_jpg.rf.1eda264a8f57188e2390cf847d35d583.jpg  \n",
            "  inflating: cocoa_new/train/img_3762_JPG_jpg.rf.f89d36f027d5c9756d7c05af40016229.xml  \n",
            "  inflating: cocoa_new/train/img_2960_JPG_jpg.rf.f0d271114dad47de204f3bd2cd7a7791.jpg  \n",
            "  inflating: cocoa_new/train/img_619_JPG_jpg.rf.2b6c43d5d46fe14b24d5f3a4f0c7b7c9.xml  \n",
            "  inflating: cocoa_new/train/img_3015_JPG_jpg.rf.534d9a579669671c8345494dec62a41f.xml  \n",
            "  inflating: cocoa_new/train/img_1269_JPG_jpg.rf.0430aa0e01777cb75a3c86bc4b0db307.xml  \n",
            "  inflating: cocoa_new/train/img_477_JPG_jpg.rf.24f237b51dc1089de52b33183b934916.xml  \n",
            "  inflating: cocoa_new/train/img_3909_JPG_jpg.rf.2087ea24ce7ab7a2130bd4577929bc1c.xml  \n",
            "  inflating: cocoa_new/train/img_1777_JPG_jpg.rf.303444060c14e75b6a0013d461b03a97.xml  \n",
            "  inflating: cocoa_new/train/img_1584_JPG_jpg.rf.4602113e56f9a81835960cce687a29d6.xml  \n",
            "  inflating: cocoa_new/train/img_294_JPG_jpg.rf.1bab923769704b2d52942e9d37267334.jpg  \n",
            "  inflating: cocoa_new/train/img_3094_JPG_jpg.rf.46eb40c68ffe2d51bcccbcbe4d35519d.xml  \n",
            "  inflating: cocoa_new/train/img_1149_JPG_jpg.rf.d65c3fb4128745da5f19fdbbe664ecdc.xml  \n",
            "  inflating: cocoa_new/train/img_4098_JPG_jpg.rf.45d6d60e850dad008c916ce06b407424.xml  \n",
            "  inflating: cocoa_new/train/img_227_JPG_jpg.rf.b7fbbb8ddcbb4025a1be715a5e6798ac.xml  \n",
            "  inflating: cocoa_new/train/img_3975_JPG_jpg.rf.4b24821020f7febc083216c8c88020d4.jpg  \n",
            "  inflating: cocoa_new/train/img_3632_JPG_jpg.rf.83eca5c53103a8a64b0a49d95569ec5e.xml  \n",
            "  inflating: cocoa_new/train/img_4_JPG_jpg.rf.53fc8f59b2b50f2bf2ce5561eb403714.xml  \n",
            "  inflating: cocoa_new/train/img_1584_JPG_jpg.rf.4602113e56f9a81835960cce687a29d6.jpg  \n",
            "  inflating: cocoa_new/train/img_294_JPG_jpg.rf.1bab923769704b2d52942e9d37267334.xml  \n",
            "  inflating: cocoa_new/train/img_3094_JPG_jpg.rf.46eb40c68ffe2d51bcccbcbe4d35519d.jpg  \n",
            "  inflating: cocoa_new/train/img_1149_JPG_jpg.rf.d65c3fb4128745da5f19fdbbe664ecdc.jpg  \n",
            "  inflating: cocoa_new/train/img_227_JPG_jpg.rf.b7fbbb8ddcbb4025a1be715a5e6798ac.jpg  \n",
            "  inflating: cocoa_new/train/img_4098_JPG_jpg.rf.45d6d60e850dad008c916ce06b407424.jpg  \n",
            "  inflating: cocoa_new/train/img_3909_JPG_jpg.rf.2087ea24ce7ab7a2130bd4577929bc1c.jpg  \n",
            "  inflating: cocoa_new/train/img_1777_JPG_jpg.rf.303444060c14e75b6a0013d461b03a97.jpg  \n",
            "  inflating: cocoa_new/train/img_3632_JPG_jpg.rf.83eca5c53103a8a64b0a49d95569ec5e.jpg  \n",
            "  inflating: cocoa_new/train/img_4_JPG_jpg.rf.53fc8f59b2b50f2bf2ce5561eb403714.jpg  \n",
            "  inflating: cocoa_new/train/img_3975_JPG_jpg.rf.4b24821020f7febc083216c8c88020d4.xml  \n",
            "  inflating: cocoa_new/train/img_3762_JPG_jpg.rf.f89d36f027d5c9756d7c05af40016229.jpg  \n",
            "  inflating: cocoa_new/train/img_2960_JPG_jpg.rf.f0d271114dad47de204f3bd2cd7a7791.xml  \n",
            "  inflating: cocoa_new/train/img_3511_JPG_jpg.rf.e9d8d6dafb9179bfb745e4d1ee676924.jpg  \n",
            "  inflating: cocoa_new/train/img_3162_JPG_jpg.rf.1eda264a8f57188e2390cf847d35d583.xml  \n",
            "  inflating: cocoa_new/train/img_619_JPG_jpg.rf.2b6c43d5d46fe14b24d5f3a4f0c7b7c9.jpg  \n",
            "  inflating: cocoa_new/train/img_3015_JPG_jpg.rf.534d9a579669671c8345494dec62a41f.jpg  \n",
            "  inflating: cocoa_new/train/img_1269_JPG_jpg.rf.0430aa0e01777cb75a3c86bc4b0db307.jpg  \n",
            "  inflating: cocoa_new/train/img_477_JPG_jpg.rf.24f237b51dc1089de52b33183b934916.jpg  \n",
            "  inflating: cocoa_new/train/img_3893_JPG_jpg.rf.2e8b83e72bf5ebd603936adddfd45912.xml  \n",
            "  inflating: cocoa_new/train/img_4038_JPG_jpg.rf.c2cc1f04186ce3e5590acba5db64d1c3.xml  \n",
            "  inflating: cocoa_new/train/img_2506_JPG_jpg.rf.71d17da843b9d20de1c4deaf9954137a.xml  \n",
            "  inflating: cocoa_new/train/img_3881_JPG_jpg.rf.6b0419afd531a0fbe1773d117009a978.xml  \n",
            "  inflating: cocoa_new/train/img_2794_JPG_jpg.rf.010fe10148e78af73dd79774362f7548.xml  \n",
            "  inflating: cocoa_new/train/img_787_JPG_jpg.rf.26a29cb736e4093c6890bb97ec7740f7.xml  \n",
            "  inflating: cocoa_new/train/img_1330_JPG_jpg.rf.90acd1a7eff0bb44fa35d670252a97cc.jpg  \n",
            "  inflating: cocoa_new/train/img_2879_JPG_jpg.rf.3ede2cda1d8b26bb2a83f08293286fd3.jpg  \n",
            "  inflating: cocoa_new/train/img_625_JPG_jpg.rf.a6922b7d85d8349a59259248ea96c6ce.jpg  \n",
            "  inflating: cocoa_new/train/img_2541_JPG_jpg.rf.b17d60e6f8a26c77eafccec5c8b46c68.xml  \n",
            "  inflating: cocoa_new/train/img_873_JPG_jpg.rf.b4a62aa4ad89ccae824f6876aa8c5ead.xml  \n",
            "  inflating: cocoa_new/train/img_2406_JPG_jpg.rf.d0b1f5819b1b686c86c7b053d7600939.xml  \n",
            "  inflating: cocoa_new/train/img_246_JPG_jpg.rf.d69ae231cb112f921632c66ee51490cf.jpg  \n",
            "  inflating: cocoa_new/train/img_250_JPG_jpg.rf.259f5ebf3d08db677a35f3417c3815ea.xml  \n",
            "  inflating: cocoa_new/train/img_4046_JPG_jpg.rf.87c217dfc990029ed1a7e8b769920dfe.jpg  \n",
            "  inflating: cocoa_new/train/img_625_JPG_jpg.rf.a6922b7d85d8349a59259248ea96c6ce.xml  \n",
            "  inflating: cocoa_new/train/img_2541_JPG_jpg.rf.b17d60e6f8a26c77eafccec5c8b46c68.jpg  \n",
            "  inflating: cocoa_new/train/img_2879_JPG_jpg.rf.3ede2cda1d8b26bb2a83f08293286fd3.xml  \n",
            "  inflating: cocoa_new/train/img_873_JPG_jpg.rf.b4a62aa4ad89ccae824f6876aa8c5ead.jpg  \n",
            "  inflating: cocoa_new/train/img_246_JPG_jpg.rf.d69ae231cb112f921632c66ee51490cf.xml  \n",
            "  inflating: cocoa_new/train/img_250_JPG_jpg.rf.259f5ebf3d08db677a35f3417c3815ea.jpg  \n",
            "  inflating: cocoa_new/train/img_4046_JPG_jpg.rf.87c217dfc990029ed1a7e8b769920dfe.xml  \n",
            "  inflating: cocoa_new/train/img_2406_JPG_jpg.rf.d0b1f5819b1b686c86c7b053d7600939.jpg  \n",
            "  inflating: cocoa_new/train/img_2506_JPG_jpg.rf.71d17da843b9d20de1c4deaf9954137a.jpg  \n",
            "  inflating: cocoa_new/train/img_3881_JPG_jpg.rf.6b0419afd531a0fbe1773d117009a978.jpg  \n",
            "  inflating: cocoa_new/train/img_2794_JPG_jpg.rf.010fe10148e78af73dd79774362f7548.jpg  \n",
            "  inflating: cocoa_new/train/img_3893_JPG_jpg.rf.2e8b83e72bf5ebd603936adddfd45912.jpg  \n",
            "  inflating: cocoa_new/train/img_4038_JPG_jpg.rf.c2cc1f04186ce3e5590acba5db64d1c3.jpg  \n",
            "  inflating: cocoa_new/train/img_1330_JPG_jpg.rf.90acd1a7eff0bb44fa35d670252a97cc.xml  \n",
            "  inflating: cocoa_new/train/img_787_JPG_jpg.rf.26a29cb736e4093c6890bb97ec7740f7.jpg  \n",
            "  inflating: cocoa_new/train/img_3830_JPG_jpg.rf.f72174d43bd1b16e45401ba1dd0255fb.xml  \n",
            "  inflating: cocoa_new/train/img_2612_JPG_jpg.rf.82d02457a58911fd0b6ee9c1cad6fa22.jpg  \n",
            "  inflating: cocoa_new/train/img_3360_JPG_jpg.rf.fd37952cac2a6168c1d39d2051f87b97.jpg  \n",
            "  inflating: cocoa_new/train/img_1440_JPG_jpg.rf.7974031567714be694754c457caba17e.xml  \n",
            "  inflating: cocoa_new/train/img_4161_JPG_jpg.rf.eaa9af539adc5833edc0a6793f779450.jpg  \n",
            "  inflating: cocoa_new/train/img_2721_JPG_jpg.rf.da17ba29d127097ec658f9f1c038af7f.xml  \n",
            "  inflating: cocoa_new/train/img_1803_JPG_jpg.rf.0a1c06154306f8651804c6d6658e9a62.xml  \n",
            "  inflating: cocoa_new/train/img_2447_JPG_jpg.rf.2f981c77a23be811d91afa58c4c0fbbf.xml  \n",
            "  inflating: cocoa_new/train/img_2327_JPG_jpg.rf.cbe6f198764e99ff74053880a508af54.xml  \n",
            "  inflating: cocoa_new/train/img_3653_JPG_jpg.rf.82bc2c6ad5fe24d98b844e824591e23b.xml  \n",
            "  inflating: cocoa_new/train/img_1345_JPG_jpg.rf.70db16f252bbe33e379fcf61efe4020b.xml  \n",
            "  inflating: cocoa_new/train/img_1803_JPG_jpg.rf.0a1c06154306f8651804c6d6658e9a62.jpg  \n",
            "  inflating: cocoa_new/train/img_3653_JPG_jpg.rf.82bc2c6ad5fe24d98b844e824591e23b.jpg  \n",
            "  inflating: cocoa_new/train/img_1345_JPG_jpg.rf.70db16f252bbe33e379fcf61efe4020b.jpg  \n",
            "  inflating: cocoa_new/train/img_2447_JPG_jpg.rf.2f981c77a23be811d91afa58c4c0fbbf.jpg  \n",
            "  inflating: cocoa_new/train/img_2327_JPG_jpg.rf.cbe6f198764e99ff74053880a508af54.jpg  \n",
            "  inflating: cocoa_new/train/img_1440_JPG_jpg.rf.7974031567714be694754c457caba17e.jpg  \n",
            "  inflating: cocoa_new/train/img_4161_JPG_jpg.rf.eaa9af539adc5833edc0a6793f779450.xml  \n",
            "  inflating: cocoa_new/train/img_3830_JPG_jpg.rf.f72174d43bd1b16e45401ba1dd0255fb.jpg  \n",
            "  inflating: cocoa_new/train/img_2612_JPG_jpg.rf.82d02457a58911fd0b6ee9c1cad6fa22.xml  \n",
            "  inflating: cocoa_new/train/img_3360_JPG_jpg.rf.fd37952cac2a6168c1d39d2051f87b97.xml  \n",
            "  inflating: cocoa_new/train/img_2721_JPG_jpg.rf.da17ba29d127097ec658f9f1c038af7f.jpg  \n",
            "  inflating: cocoa_new/train/img_616_JPG_jpg.rf.39cd4506bdba541c28521c66274781b5.jpg  \n",
            "  inflating: cocoa_new/train/img_1507_JPG_jpg.rf.71cb936e05c905a91821b444a731b731.xml  \n",
            "  inflating: cocoa_new/train/img_579_JPG_jpg.rf.e362eb0bbab99b15620133cc0103dd60.xml  \n",
            "  inflating: cocoa_new/train/img_2932_JPG_jpg.rf.238baff7662eac99c051e15eff73065a.xml  \n",
            "  inflating: cocoa_new/train/img_3916_JPG_jpg.rf.b5d002e0b9bc78a82c2935c695e52cf7.xml  \n",
            "  inflating: cocoa_new/train/img_218_JPG_jpg.rf.0067b794c5c5821521b9bb56294a51a5.jpg  \n",
            "  inflating: cocoa_new/train/img_2333_JPG_jpg.rf.d163ebea336b597e9f05c344a633a2b0.xml  \n",
            "  inflating: cocoa_new/train/img_1800_JPG_jpg.rf.378f2c8a3bca296985f3c2c81f7021d4.xml  \n",
            "  inflating: cocoa_new/train/img_2500_JPG_jpg.rf.1e64e749da0e1e2a52e58fe7b810ffce.jpg  \n",
            "  inflating: cocoa_new/train/img_3207_JPG_jpg.rf.14779a980733e5553a57ad711fcc388c.xml  \n",
            "  inflating: cocoa_new/train/img_539_JPG_jpg.rf.9d63fd4959702a6d3ca61a37ae0c940d.jpg  \n",
            "  inflating: cocoa_new/train/img_1380_JPG_jpg.rf.846740d0ee495e481bcf84710a31b173.xml  \n",
            "  inflating: cocoa_new/train/img_2882_JPG_jpg.rf.073a1452ed1b96dce05c8bfd16c7129e.xml  \n",
            "  inflating: cocoa_new/train/img_3586_JPG_jpg.rf.760104af8c8476dcf5ef15f48a27fed4.jpg  \n",
            "  inflating: cocoa_new/train/img_770_JPG_jpg.rf.59c691960f20997a5690a9c6de9ebccb.jpg  \n",
            "  inflating: cocoa_new/train/img_3034_JPG_jpg.rf.39b7de3f8a6dc96955fd29d1388ad404.jpg  \n",
            "  inflating: cocoa_new/train/img_1800_JPG_jpg.rf.378f2c8a3bca296985f3c2c81f7021d4.jpg  \n",
            "  inflating: cocoa_new/train/img_2500_JPG_jpg.rf.1e64e749da0e1e2a52e58fe7b810ffce.xml  \n",
            "  inflating: cocoa_new/train/img_3207_JPG_jpg.rf.14779a980733e5553a57ad711fcc388c.jpg  \n",
            "  inflating: cocoa_new/train/img_218_JPG_jpg.rf.0067b794c5c5821521b9bb56294a51a5.xml  \n",
            "  inflating: cocoa_new/train/img_2333_JPG_jpg.rf.d163ebea336b597e9f05c344a633a2b0.jpg  \n",
            "  inflating: cocoa_new/train/img_539_JPG_jpg.rf.9d63fd4959702a6d3ca61a37ae0c940d.xml  \n",
            "  inflating: cocoa_new/train/img_1380_JPG_jpg.rf.846740d0ee495e481bcf84710a31b173.jpg  \n",
            "  inflating: cocoa_new/train/img_2882_JPG_jpg.rf.073a1452ed1b96dce05c8bfd16c7129e.jpg  \n",
            "  inflating: cocoa_new/train/img_3586_JPG_jpg.rf.760104af8c8476dcf5ef15f48a27fed4.xml  \n",
            "  inflating: cocoa_new/train/img_3034_JPG_jpg.rf.39b7de3f8a6dc96955fd29d1388ad404.xml  \n",
            "  inflating: cocoa_new/train/img_770_JPG_jpg.rf.59c691960f20997a5690a9c6de9ebccb.xml  \n",
            "  inflating: cocoa_new/train/img_616_JPG_jpg.rf.39cd4506bdba541c28521c66274781b5.xml  \n",
            "  inflating: cocoa_new/train/img_2932_JPG_jpg.rf.238baff7662eac99c051e15eff73065a.jpg  \n",
            "  inflating: cocoa_new/train/img_3916_JPG_jpg.rf.b5d002e0b9bc78a82c2935c695e52cf7.jpg  \n",
            "  inflating: cocoa_new/train/img_579_JPG_jpg.rf.e362eb0bbab99b15620133cc0103dd60.jpg  \n",
            "  inflating: cocoa_new/train/img_1507_JPG_jpg.rf.71cb936e05c905a91821b444a731b731.jpg  \n",
            "  inflating: cocoa_new/train/img_1177_JPG_jpg.rf.b9cb35b8e0188c53afafd3259cc54eb1.xml  \n",
            "  inflating: cocoa_new/train/img_269_JPG_jpg.rf.c56fcc62297177323a5d6331e6a472c7.xml  \n",
            "  inflating: cocoa_new/train/img_2816_JPG_jpg.rf.1ca160a41a7a4dd00719437a1d6c045e.jpg  \n",
            "  inflating: cocoa_new/train/img_3750_JPG_jpg.rf.1f2b77181c99c540a5d882775eff3067.xml  \n",
            "  inflating: cocoa_new/train/img_3682_JPG_jpg.rf.881c837b5c522e780285bec8a92f4cfb.xml  \n",
            "  inflating: cocoa_new/train/img_3837_JPG_jpg.rf.4edfa7b6ed3a4f0c0c75d9547989e61a.jpg  \n",
            "  inflating: cocoa_new/train/img_183_JPG_jpg.rf.38bad5d0340f5a43ec85de8f31124080.xml  \n",
            "  inflating: cocoa_new/train/img_3820_JPG_jpg.rf.42a7cf14deea201fd464b67b54bb7a72.jpg  \n",
            "  inflating: cocoa_new/train/img_21_JPG_jpg.rf.45a4a54c736c4c2f93a33944f3f4c7f8.jpg  \n",
            "  inflating: cocoa_new/train/img_1224_JPG_jpg.rf.d14683013d15a9c48fc80e7ed2412225.xml  \n",
            "  inflating: cocoa_new/train/img_496_JPG_jpg.rf.b0e28a859349426cddc2cb58e9b9ed05.jpg  \n",
            "  inflating: cocoa_new/train/img_2295_JPG_jpg.rf.ea319d5a70b88d7ad0c42956f5df0d15.jpg  \n",
            "  inflating: cocoa_new/train/img_3918_JPG_jpg.rf.8e8b1c6113a9220d993d301202d455bb.xml  \n",
            "  inflating: cocoa_new/train/img_4089_JPG_jpg.rf.f717ec3177e1f6c05abd330bea6ff7dc.xml  \n",
            "  inflating: cocoa_new/train/img_185_JPG_jpg.rf.3ae8ccdb308f0b98324bae305822e82a.xml  \n",
            "  inflating: cocoa_new/train/img_4063_JPG_jpg.rf.97cfa8f10ae4091184975f9368766b71.xml  \n",
            "  inflating: cocoa_new/train/img_3829_JPG_jpg.rf.c1ce3230334b382a6b3aa073638dcf09.xml  \n",
            "  inflating: cocoa_new/train/img_414_JPG_jpg.rf.30409e12f4142ce1fc4f179f1453ad8c.jpg  \n",
            "  inflating: cocoa_new/train/img_2295_JPG_jpg.rf.ea319d5a70b88d7ad0c42956f5df0d15.xml  \n",
            "  inflating: cocoa_new/train/img_3918_JPG_jpg.rf.8e8b1c6113a9220d993d301202d455bb.jpg  \n",
            "  inflating: cocoa_new/train/img_4089_JPG_jpg.rf.f717ec3177e1f6c05abd330bea6ff7dc.jpg  \n",
            "  inflating: cocoa_new/train/img_185_JPG_jpg.rf.3ae8ccdb308f0b98324bae305822e82a.jpg  \n",
            "  inflating: cocoa_new/train/img_4063_JPG_jpg.rf.97cfa8f10ae4091184975f9368766b71.jpg  \n",
            "  inflating: cocoa_new/train/img_3829_JPG_jpg.rf.c1ce3230334b382a6b3aa073638dcf09.jpg  \n",
            "  inflating: cocoa_new/train/img_414_JPG_jpg.rf.30409e12f4142ce1fc4f179f1453ad8c.xml  \n",
            "  inflating: cocoa_new/train/img_3750_JPG_jpg.rf.1f2b77181c99c540a5d882775eff3067.jpg  \n",
            "  inflating: cocoa_new/train/img_1177_JPG_jpg.rf.b9cb35b8e0188c53afafd3259cc54eb1.jpg  \n",
            "  inflating: cocoa_new/train/img_269_JPG_jpg.rf.c56fcc62297177323a5d6331e6a472c7.jpg  \n",
            "  inflating: cocoa_new/train/img_2816_JPG_jpg.rf.1ca160a41a7a4dd00719437a1d6c045e.xml  \n",
            "  inflating: cocoa_new/train/img_183_JPG_jpg.rf.38bad5d0340f5a43ec85de8f31124080.jpg  \n",
            "  inflating: cocoa_new/train/img_3820_JPG_jpg.rf.42a7cf14deea201fd464b67b54bb7a72.xml  \n",
            "  inflating: cocoa_new/train/img_21_JPG_jpg.rf.45a4a54c736c4c2f93a33944f3f4c7f8.xml  \n",
            "  inflating: cocoa_new/train/img_1224_JPG_jpg.rf.d14683013d15a9c48fc80e7ed2412225.jpg  \n",
            "  inflating: cocoa_new/train/img_496_JPG_jpg.rf.b0e28a859349426cddc2cb58e9b9ed05.xml  \n",
            "  inflating: cocoa_new/train/img_3682_JPG_jpg.rf.881c837b5c522e780285bec8a92f4cfb.jpg  \n",
            "  inflating: cocoa_new/train/img_3837_JPG_jpg.rf.4edfa7b6ed3a4f0c0c75d9547989e61a.xml  \n",
            "  inflating: cocoa_new/train/img_3766_JPG_jpg.rf.62efdd294708409e3893043fa737bcad.xml  \n",
            "  inflating: cocoa_new/train/img_11_JPG_jpg.rf.356dceeb567a6ab42c1c4dccf60bb86b.xml  \n",
            "  inflating: cocoa_new/train/img_540_JPG_jpg.rf.f56cfd8433b6d4d4ac07ad9363c3b1b0.jpg  \n",
            "  inflating: cocoa_new/train/img_1575_JPG_jpg.rf.de96ac412de67d31a6a1ba64faa5a0cf.xml  \n",
            "  inflating: cocoa_new/train/img_4159_JPG_jpg.rf.3f91fd2e01ea388d8e512d6dbc92604e.jpg  \n",
            "  inflating: cocoa_new/train/img_3457_JPG_jpg.rf.2349e163f61ef26b03d938ae872ffbaf.jpg  \n",
            "  inflating: cocoa_new/train/img_319_JPG_jpg.rf.eddb36830d4da46cceddeb44b61ddc1b.xml  \n",
            "  inflating: cocoa_new/train/img_3123_JPG_jpg.rf.561a60a90666acd49a47460403e51566.jpg  \n",
            "  inflating: cocoa_new/train/img_3696_JPG_jpg.rf.2bba2b4ae688f3cc086a33003cc399b8.jpg  \n",
            "  inflating: cocoa_new/train/img_610_JPG_jpg.rf.5b77b9604c10c25142d7a8049148f743.jpg  \n",
            "  inflating: cocoa_new/train/img_793_JPG_jpg.rf.41ce2f9380ba3e569b332795de78390d.xml  \n",
            "  inflating: cocoa_new/train/img_543_JPG_jpg.rf.b7f0c0a1de454ec785b991c1b40f60fb.xml  \n",
            "  inflating: cocoa_new/train/img_3526_JPG_jpg.rf.81e27668ed6fae3378ba2dd811c7e03c.jpg  \n",
            "  inflating: cocoa_new/train/img_3110_JPG_jpg.rf.3cacf97dff7db173d87dd38469e91462.xml  \n",
            "  inflating: cocoa_new/train/img_170_JPG_jpg.rf.eb203223bd58adc4a1fb71693fd7e63c.xml  \n",
            "  inflating: cocoa_new/train/img_1729_JPG_jpg.rf.58d3cc49e5dffdcb9e068e6dea351baa.jpg  \n",
            "  inflating: cocoa_new/train/img_3696_JPG_jpg.rf.2bba2b4ae688f3cc086a33003cc399b8.xml  \n",
            "  inflating: cocoa_new/train/img_793_JPG_jpg.rf.41ce2f9380ba3e569b332795de78390d.jpg  \n",
            "  inflating: cocoa_new/train/img_610_JPG_jpg.rf.5b77b9604c10c25142d7a8049148f743.xml  \n",
            "  inflating: cocoa_new/train/img_543_JPG_jpg.rf.b7f0c0a1de454ec785b991c1b40f60fb.jpg  \n",
            "  inflating: cocoa_new/train/img_1729_JPG_jpg.rf.58d3cc49e5dffdcb9e068e6dea351baa.xml  \n",
            "  inflating: cocoa_new/train/img_3526_JPG_jpg.rf.81e27668ed6fae3378ba2dd811c7e03c.xml  \n",
            "  inflating: cocoa_new/train/img_170_JPG_jpg.rf.eb203223bd58adc4a1fb71693fd7e63c.jpg  \n",
            "  inflating: cocoa_new/train/img_3110_JPG_jpg.rf.3cacf97dff7db173d87dd38469e91462.jpg  \n",
            "  inflating: cocoa_new/train/img_3766_JPG_jpg.rf.62efdd294708409e3893043fa737bcad.jpg  \n",
            "  inflating: cocoa_new/train/img_11_JPG_jpg.rf.356dceeb567a6ab42c1c4dccf60bb86b.jpg  \n",
            "  inflating: cocoa_new/train/img_540_JPG_jpg.rf.f56cfd8433b6d4d4ac07ad9363c3b1b0.xml  \n",
            "  inflating: cocoa_new/train/img_3123_JPG_jpg.rf.561a60a90666acd49a47460403e51566.xml  \n",
            "  inflating: cocoa_new/train/img_1575_JPG_jpg.rf.de96ac412de67d31a6a1ba64faa5a0cf.jpg  \n",
            "  inflating: cocoa_new/train/img_3457_JPG_jpg.rf.2349e163f61ef26b03d938ae872ffbaf.xml  \n",
            "  inflating: cocoa_new/train/img_4159_JPG_jpg.rf.3f91fd2e01ea388d8e512d6dbc92604e.xml  \n",
            "  inflating: cocoa_new/train/img_319_JPG_jpg.rf.eddb36830d4da46cceddeb44b61ddc1b.jpg  \n",
            "  inflating: cocoa_new/train/img_412_JPG_jpg.rf.404e210ae863236e2dc1885d4be6c47d.jpg  \n",
            "  inflating: cocoa_new/train/img_2638_JPG_jpg.rf.864c7aaa86eb302b0d43d7a2c1b9d444.xml  \n",
            "  inflating: cocoa_new/train/img_2534_JPG_jpg.rf.df47af08d5c116dcd284ae1b6bdd3820.jpg  \n",
            "  inflating: cocoa_new/train/img_2584_JPG_jpg.rf.fb07f01f21407d26f550dbc5b4418e9f.xml  \n",
            "  inflating: cocoa_new/train/img_4148_JPG_jpg.rf.f9e660312cd8354052ee55980b7b744f.jpg  \n",
            "  inflating: cocoa_new/train/img_195_JPG_jpg.rf.164c50081ff00de24bbac0e3ea97f364.xml  \n",
            "  inflating: cocoa_new/train/img_4099_JPG_jpg.rf.6c1666ea87e8654e54284c2cf53d0e4b.xml  \n",
            "  inflating: cocoa_new/train/img_1206_JPG_jpg.rf.e6b22d26ad34df3963b26c644d90f32a.xml  \n",
            "  inflating: cocoa_new/train/img_409_JPG_jpg.rf.08d09c372e3dffb91fbce2e6040e5bb4.jpg  \n",
            "  inflating: cocoa_new/train/img_3985_JPG_jpg.rf.4c228d9be74e974fdda2d653e5c34fd7.jpg  \n",
            "  inflating: cocoa_new/train/img_168_JPG_jpg.rf.79427a55f877390ec03d1006337441ac.jpg  \n",
            "  inflating: cocoa_new/train/img_3985_JPG_jpg.rf.4c228d9be74e974fdda2d653e5c34fd7.xml  \n",
            "  inflating: cocoa_new/train/img_1206_JPG_jpg.rf.e6b22d26ad34df3963b26c644d90f32a.jpg  \n",
            "  inflating: cocoa_new/train/img_409_JPG_jpg.rf.08d09c372e3dffb91fbce2e6040e5bb4.xml  \n",
            "  inflating: cocoa_new/train/img_168_JPG_jpg.rf.79427a55f877390ec03d1006337441ac.xml  \n",
            "  inflating: cocoa_new/train/img_412_JPG_jpg.rf.404e210ae863236e2dc1885d4be6c47d.xml  \n",
            "  inflating: cocoa_new/train/img_2584_JPG_jpg.rf.fb07f01f21407d26f550dbc5b4418e9f.jpg  \n",
            "  inflating: cocoa_new/train/img_195_JPG_jpg.rf.164c50081ff00de24bbac0e3ea97f364.jpg  \n",
            "  inflating: cocoa_new/train/img_4148_JPG_jpg.rf.f9e660312cd8354052ee55980b7b744f.xml  \n",
            "  inflating: cocoa_new/train/img_4099_JPG_jpg.rf.6c1666ea87e8654e54284c2cf53d0e4b.jpg  \n",
            "  inflating: cocoa_new/train/img_2638_JPG_jpg.rf.864c7aaa86eb302b0d43d7a2c1b9d444.jpg  \n",
            "  inflating: cocoa_new/train/img_2534_JPG_jpg.rf.df47af08d5c116dcd284ae1b6bdd3820.xml  \n",
            "  inflating: cocoa_new/train/img_801_JPG_jpg.rf.09014a14fd54a87b61e932ed03bbd31d.jpg  \n",
            "  inflating: cocoa_new/train/img_1798_JPG_jpg.rf.33f6237af2b699622cbc59d2fb553927.xml  \n",
            "  inflating: cocoa_new/train/img_3552_JPG_jpg.rf.f4fa554be40d5dc7bb189f7b212bc8a3.jpg  \n",
            "  inflating: cocoa_new/train/img_3028_JPG_jpg.rf.18d95e21a2034d83b9196c039690baf5.jpg  \n",
            "  inflating: cocoa_new/train/img_2893_JPG_jpg.rf.f23f120c3adc71a7c9b2b2499c35dc6f.jpg  \n",
            "  inflating: cocoa_new/train/img_3806_JPG_jpg.rf.15c588743c20daccaa0e1f33b941747b.xml  \n",
            "  inflating: cocoa_new/train/img_2617_JPG_jpg.rf.fd311d842a6e17ff67fbae3a9620e511.jpg  \n",
            "  inflating: cocoa_new/train/img_3710_JPG_jpg.rf.0cec545e1caa5941d750215b965327ec.xml  \n",
            "  inflating: cocoa_new/train/img_4013_JPG_jpg.rf.176789adce83127f91938b15b11fd8dd.xml  \n",
            "  inflating: cocoa_new/train/img_331_JPG_jpg.rf.25e6c4fe3e089022ef906b7de0a311e2.xml  \n",
            "  inflating: cocoa_new/train/img_3921_JPG_jpg.rf.c892a13bfeb0064661c75d87f09d4b2d.jpg  \n",
            "  inflating: cocoa_new/train/img_1846_JPG_jpg.rf.5a3b50636a125a91fbe7243eb570df62.xml  \n",
            "  inflating: cocoa_new/train/img_4162_JPG_jpg.rf.5d05353433f6aeb873b213b4dcc03561.jpg  \n",
            "  inflating: cocoa_new/train/img_3759_JPG_jpg.rf.3c73c654aca8b68c929d5f6435fd94bf.xml  \n",
            "  inflating: cocoa_new/train/img_1709_JPG_jpg.rf.a33807f89309677160ef45eb3a65a526.xml  \n",
            "  inflating: cocoa_new/train/img_922_JPG_jpg.rf.b5b422599cc570b52d8a8e5363544a57.xml  \n",
            "  inflating: cocoa_new/train/img_1995_JPG_jpg.rf.79cf8e0740c9e9e45f53acd69abc9a30.jpg  \n",
            "  inflating: cocoa_new/train/img_3625_JPG_jpg.rf.6ab3bafa72fde27e37712b63d2924e9c.jpg  \n",
            "  inflating: cocoa_new/train/img_4013_JPG_jpg.rf.176789adce83127f91938b15b11fd8dd.jpg  \n",
            "  inflating: cocoa_new/train/img_331_JPG_jpg.rf.25e6c4fe3e089022ef906b7de0a311e2.jpg  \n",
            "  inflating: cocoa_new/train/img_3921_JPG_jpg.rf.c892a13bfeb0064661c75d87f09d4b2d.xml  \n",
            "  inflating: cocoa_new/train/img_2617_JPG_jpg.rf.fd311d842a6e17ff67fbae3a9620e511.xml  \n",
            "  inflating: cocoa_new/train/img_3710_JPG_jpg.rf.0cec545e1caa5941d750215b965327ec.jpg  \n",
            "  inflating: cocoa_new/train/img_922_JPG_jpg.rf.b5b422599cc570b52d8a8e5363544a57.jpg  \n",
            "  inflating: cocoa_new/train/img_1709_JPG_jpg.rf.a33807f89309677160ef45eb3a65a526.jpg  \n",
            "  inflating: cocoa_new/train/img_1995_JPG_jpg.rf.79cf8e0740c9e9e45f53acd69abc9a30.xml  \n",
            "  inflating: cocoa_new/train/img_3625_JPG_jpg.rf.6ab3bafa72fde27e37712b63d2924e9c.xml  \n",
            "  inflating: cocoa_new/train/img_1846_JPG_jpg.rf.5a3b50636a125a91fbe7243eb570df62.jpg  \n",
            "  inflating: cocoa_new/train/img_4162_JPG_jpg.rf.5d05353433f6aeb873b213b4dcc03561.xml  \n",
            "  inflating: cocoa_new/train/img_3759_JPG_jpg.rf.3c73c654aca8b68c929d5f6435fd94bf.jpg  \n",
            "  inflating: cocoa_new/train/img_801_JPG_jpg.rf.09014a14fd54a87b61e932ed03bbd31d.xml  \n",
            "  inflating: cocoa_new/train/img_3028_JPG_jpg.rf.18d95e21a2034d83b9196c039690baf5.xml  \n",
            "  inflating: cocoa_new/train/img_2893_JPG_jpg.rf.f23f120c3adc71a7c9b2b2499c35dc6f.xml  \n",
            "  inflating: cocoa_new/train/img_3806_JPG_jpg.rf.15c588743c20daccaa0e1f33b941747b.jpg  \n",
            "  inflating: cocoa_new/train/img_1798_JPG_jpg.rf.33f6237af2b699622cbc59d2fb553927.jpg  \n",
            "  inflating: cocoa_new/train/img_3552_JPG_jpg.rf.f4fa554be40d5dc7bb189f7b212bc8a3.xml  \n",
            "  inflating: cocoa_new/train/img_4066_JPG_jpg.rf.a5a3bde10cfb71c3c51b35bb6c8010c6.xml  \n",
            "  inflating: cocoa_new/train/img_3885_JPG_jpg.rf.641dce9e631f1f17a52cc48cce9f7c3e.xml  \n",
            "  inflating: cocoa_new/train/img_330_JPG_jpg.rf.29d19f1e5f018857a01ce055d8df47a4.xml  \n",
            "  inflating: cocoa_new/train/img_3386_JPG_jpg.rf.8dbf0deb6e62c7ebf7f94fa5bbef5e9a.xml  \n",
            "  inflating: cocoa_new/train/img_3878_JPG_jpg.rf.ca078e094116c5771b4f0e23ecf29ced.jpg  \n",
            "  inflating: cocoa_new/train/img_3183_JPG_jpg.rf.a43f0ed212dfdc1ab16eb686430613cb.xml  \n",
            "  inflating: cocoa_new/train/img_3407_JPG_jpg.rf.40a5c41c48f80897c6a01ac0a749a5b9.xml  \n",
            "  inflating: cocoa_new/train/img_3802_JPG_jpg.rf.19c2bd67fa636265aafc2d07715887c6.jpg  \n",
            "  inflating: cocoa_new/train/img_1978_JPG_jpg.rf.db6410c622398baa7172d87828b67527.xml  \n",
            "  inflating: cocoa_new/train/img_3938_JPG_jpg.rf.0f954e83cf7f0708bdbe2a8fedf6daae.jpg  \n",
            "  inflating: cocoa_new/train/img_3673_JPG_jpg.rf.48554c60b2e49587ddd752a5fb3e8adf.jpg  \n",
            "  inflating: cocoa_new/train/img_314_JPG_jpg.rf.0b70366567db4bd75fbcb82d189c38b0.xml  \n",
            "  inflating: cocoa_new/train/img_468_JPG_jpg.rf.813f2dc10188f794027711fcf314fc24.xml  \n",
            "  inflating: cocoa_new/train/img_3748_JPG_jpg.rf.8ecbbfa489c90663b5cc34180ca5f7ba.jpg  \n",
            "  inflating: cocoa_new/train/img_734_JPG_jpg.rf.ceb6292911fe50cffe6c70fd2b60bb50.jpg  \n",
            "  inflating: cocoa_new/train/img_314_JPG_jpg.rf.0b70366567db4bd75fbcb82d189c38b0.jpg  \n",
            "  inflating: cocoa_new/train/img_3407_JPG_jpg.rf.40a5c41c48f80897c6a01ac0a749a5b9.jpg  \n",
            "  inflating: cocoa_new/train/img_3802_JPG_jpg.rf.19c2bd67fa636265aafc2d07715887c6.xml  \n",
            "  inflating: cocoa_new/train/img_1978_JPG_jpg.rf.db6410c622398baa7172d87828b67527.jpg  \n",
            "  inflating: cocoa_new/train/img_3938_JPG_jpg.rf.0f954e83cf7f0708bdbe2a8fedf6daae.xml  \n",
            "  inflating: cocoa_new/train/img_3673_JPG_jpg.rf.48554c60b2e49587ddd752a5fb3e8adf.xml  \n",
            "  inflating: cocoa_new/train/img_3748_JPG_jpg.rf.8ecbbfa489c90663b5cc34180ca5f7ba.xml  \n",
            "  inflating: cocoa_new/train/img_734_JPG_jpg.rf.ceb6292911fe50cffe6c70fd2b60bb50.xml  \n",
            "  inflating: cocoa_new/train/img_468_JPG_jpg.rf.813f2dc10188f794027711fcf314fc24.jpg  \n",
            "  inflating: cocoa_new/train/img_4066_JPG_jpg.rf.a5a3bde10cfb71c3c51b35bb6c8010c6.jpg  \n",
            "  inflating: cocoa_new/train/img_3885_JPG_jpg.rf.641dce9e631f1f17a52cc48cce9f7c3e.jpg  \n",
            "  inflating: cocoa_new/train/img_330_JPG_jpg.rf.29d19f1e5f018857a01ce055d8df47a4.jpg  \n",
            "  inflating: cocoa_new/train/img_3878_JPG_jpg.rf.ca078e094116c5771b4f0e23ecf29ced.xml  \n",
            "  inflating: cocoa_new/train/img_3183_JPG_jpg.rf.a43f0ed212dfdc1ab16eb686430613cb.jpg  \n",
            "  inflating: cocoa_new/train/img_3386_JPG_jpg.rf.8dbf0deb6e62c7ebf7f94fa5bbef5e9a.jpg  \n",
            "  inflating: cocoa_new/train/img_1910_JPG_jpg.rf.8eed6cbf30a7bc2f6769a7cf8008777c.xml  \n",
            "  inflating: cocoa_new/train/img_112_JPG_jpg.rf.3da00e3881760bf0ad600a62d41679e9.jpg  \n",
            "  inflating: cocoa_new/train/img_3958_JPG_jpg.rf.953fc0bff77db68d7d339cb2d29e59be.xml  \n",
            "  inflating: cocoa_new/train/img_2964_JPG_jpg.rf.3fe2b491b5e3d8b2b59f7ce9d7d8aef2.xml  \n",
            "  inflating: cocoa_new/train/img_3608_JPG_jpg.rf.ac015bccf586e61841344affd71fc005.jpg  \n",
            "  inflating: cocoa_new/train/img_240_JPG_jpg.rf.023ca927bfd2e4fcc5d368fe52cb7081.jpg  \n",
            "  inflating: cocoa_new/train/img_3205_JPG_jpg.rf.47a8484435c6165ecaa12ff73f18e9b9.xml  \n",
            "  inflating: cocoa_new/train/img_3192_JPG_jpg.rf.3d8f080adabd747a68d88b2b83bb372c.jpg  \n",
            "  inflating: cocoa_new/train/img_3958_JPG_jpg.rf.953fc0bff77db68d7d339cb2d29e59be.jpg  \n",
            "  inflating: cocoa_new/train/img_2964_JPG_jpg.rf.3fe2b491b5e3d8b2b59f7ce9d7d8aef2.jpg  \n",
            "  inflating: cocoa_new/train/img_1910_JPG_jpg.rf.8eed6cbf30a7bc2f6769a7cf8008777c.jpg  \n",
            "  inflating: cocoa_new/train/img_112_JPG_jpg.rf.3da00e3881760bf0ad600a62d41679e9.xml  \n",
            "  inflating: cocoa_new/train/img_3192_JPG_jpg.rf.3d8f080adabd747a68d88b2b83bb372c.xml  \n",
            "  inflating: cocoa_new/train/img_3608_JPG_jpg.rf.ac015bccf586e61841344affd71fc005.xml  \n",
            "  inflating: cocoa_new/train/img_240_JPG_jpg.rf.023ca927bfd2e4fcc5d368fe52cb7081.xml  \n",
            "  inflating: cocoa_new/train/img_3205_JPG_jpg.rf.47a8484435c6165ecaa12ff73f18e9b9.jpg  \n",
            "  inflating: cocoa_new/train/img_2374_JPG_jpg.rf.c16373299ddb4008f787c357552b29d8.xml  \n",
            "  inflating: cocoa_new/train/img_147_JPG_jpg.rf.6456b2dbc39daad37e930a1f2d6c0702.xml  \n",
            "  inflating: cocoa_new/train/img_3788_JPG_jpg.rf.b3da9e1c1c8acbffc03b057cdd26afff.jpg  \n",
            "  inflating: cocoa_new/train/img_1052_JPG_jpg.rf.acb0f481dcea6c541dc1c18d83b62d46.xml  \n",
            "  inflating: cocoa_new/train/img_3043_JPG_jpg.rf.6eb1e4bb2d125e5c586f20b07c096c78.jpg  \n",
            "  inflating: cocoa_new/train/img_3266_JPG_jpg.rf.b1747669313fd6aecdd161c1a1448141.jpg  \n",
            "  inflating: cocoa_new/train/img_3884_JPG_jpg.rf.cd6beb7b189a6066f76dc31642192c9e.xml  \n",
            "  inflating: cocoa_new/train/img_4103_JPG_jpg.rf.c7684bf8f43267b8e0863c62735d40fc.xml  \n",
            "  inflating: cocoa_new/train/img_2520_JPG_jpg.rf.68a43e995b970c41ce73977e2ea30ad5.jpg  \n",
            "  inflating: cocoa_new/train/img_3944_JPG_jpg.rf.15e7cf087544524d7eb8ac145df58478.xml  \n",
            "  inflating: cocoa_new/train/img_3107_JPG_jpg.rf.597fc386db3fb3e28721cbe7cb4c280a.xml  \n",
            "  inflating: cocoa_new/train/img_298_JPG_jpg.rf.550adbe1a94505623cadedb87cc0bfe9.xml  \n",
            "  inflating: cocoa_new/train/img_1459_JPG_jpg.rf.5a7315219b0b8332570b7273293b7905.xml  \n",
            "  inflating: cocoa_new/train/img_3863_JPG_jpg.rf.6fc88a81af37a1266e282ae144591d99.xml  \n",
            "  inflating: cocoa_new/train/img_3329_JPG_jpg.rf.fd6a016db229e72625cd41480b059465.jpg  \n",
            "  inflating: cocoa_new/train/img_1341_JPG_jpg.rf.f399034848b16826c73ad046aad5f38a.xml  \n",
            "  inflating: cocoa_new/train/img_3663_JPG_jpg.rf.e9186ad04585f04137a6a3b362bf1690.xml  \n",
            "  inflating: cocoa_new/train/img_2931_JPG_jpg.rf.e1488d84aa2e80e4edf816eab63ad8b6.xml  \n",
            "  inflating: cocoa_new/train/img_212_JPG_jpg.rf.8300017820c3810423ba51c4d54f1d23.xml  \n",
            "  inflating: cocoa_new/train/img_1459_JPG_jpg.rf.5a7315219b0b8332570b7273293b7905.jpg  \n",
            "  inflating: cocoa_new/train/img_3863_JPG_jpg.rf.6fc88a81af37a1266e282ae144591d99.jpg  \n",
            "  inflating: cocoa_new/train/img_3107_JPG_jpg.rf.597fc386db3fb3e28721cbe7cb4c280a.jpg  \n",
            "  inflating: cocoa_new/train/img_298_JPG_jpg.rf.550adbe1a94505623cadedb87cc0bfe9.jpg  \n",
            "  inflating: cocoa_new/train/img_1341_JPG_jpg.rf.f399034848b16826c73ad046aad5f38a.jpg  \n",
            "  inflating: cocoa_new/train/img_3663_JPG_jpg.rf.e9186ad04585f04137a6a3b362bf1690.jpg  \n",
            "  inflating: cocoa_new/train/img_212_JPG_jpg.rf.8300017820c3810423ba51c4d54f1d23.jpg  \n",
            "  inflating: cocoa_new/train/img_2931_JPG_jpg.rf.e1488d84aa2e80e4edf816eab63ad8b6.jpg  \n",
            "  inflating: cocoa_new/train/img_3329_JPG_jpg.rf.fd6a016db229e72625cd41480b059465.xml  \n",
            "  inflating: cocoa_new/train/img_3788_JPG_jpg.rf.b3da9e1c1c8acbffc03b057cdd26afff.xml  \n",
            "  inflating: cocoa_new/train/img_1052_JPG_jpg.rf.acb0f481dcea6c541dc1c18d83b62d46.jpg  \n",
            "  inflating: cocoa_new/train/img_2374_JPG_jpg.rf.c16373299ddb4008f787c357552b29d8.jpg  \n",
            "  inflating: cocoa_new/train/img_147_JPG_jpg.rf.6456b2dbc39daad37e930a1f2d6c0702.jpg  \n",
            "  inflating: cocoa_new/train/img_3266_JPG_jpg.rf.b1747669313fd6aecdd161c1a1448141.xml  \n",
            "  inflating: cocoa_new/train/img_2520_JPG_jpg.rf.68a43e995b970c41ce73977e2ea30ad5.xml  \n",
            "  inflating: cocoa_new/train/img_3884_JPG_jpg.rf.cd6beb7b189a6066f76dc31642192c9e.jpg  \n",
            "  inflating: cocoa_new/train/img_4103_JPG_jpg.rf.c7684bf8f43267b8e0863c62735d40fc.jpg  \n",
            "  inflating: cocoa_new/train/img_3944_JPG_jpg.rf.15e7cf087544524d7eb8ac145df58478.jpg  \n",
            "  inflating: cocoa_new/train/img_3043_JPG_jpg.rf.6eb1e4bb2d125e5c586f20b07c096c78.xml  \n",
            "  inflating: cocoa_new/train/img_2950_JPG_jpg.rf.ebfaed06dcda97d1f25b4dcf1bf47cd8.jpg  \n",
            "  inflating: cocoa_new/train/img_3343_JPG_jpg.rf.03633e18e66a30acaebf42b34bbaa65a.jpg  \n",
            "  inflating: cocoa_new/train/img_32_JPG_jpg.rf.b81a069a830ffd514eae1ffcb76b2d30.xml  \n",
            "  inflating: cocoa_new/train/img_1226_JPG_jpg.rf.6e8c99de1cd4213951b77f2f72717080.jpg  \n",
            "  inflating: cocoa_new/train/img_82_JPG_jpg.rf.f9d05a3d139e46d7033a4bbe560c1419.jpg  \n",
            "  inflating: cocoa_new/train/img_4138_JPG_jpg.rf.78cfc5a9c8177f373267a1d78e47cc73.xml  \n",
            "  inflating: cocoa_new/train/img_54_JPG_jpg.rf.ea321ba0ec5265577d6542c28a618c70.xml  \n",
            "  inflating: cocoa_new/train/img_1207_JPG_jpg.rf.ed1b24b9f13486d729c39ef99293e4c7.xml  \n",
            "  inflating: cocoa_new/train/img_2726_JPG_jpg.rf.9b0ab14284a409b7403759568566fa8b.xml  \n",
            "  inflating: cocoa_new/train/img_110_JPG_jpg.rf.1bc831aefd4e4823288af66815b2a474.xml  \n",
            "  inflating: cocoa_new/train/img_3942_JPG_jpg.rf.a87fa6fc6c8d0abbc5c07d65b2a141cd.jpg  \n",
            "  inflating: cocoa_new/train/img_325_JPG_jpg.rf.29982f8ed4ec8776497d7be4a880a983.xml  \n",
            "  inflating: cocoa_new/train/img_2852_JPG_jpg.rf.597158d00db94074da53843b74060534.xml  \n",
            "  inflating: cocoa_new/train/img_2860_JPG_jpg.rf.0b0900dfddb9e12114ba5f0a1d232ceb.xml  \n",
            "  inflating: cocoa_new/train/img_1271_JPG_jpg.rf.8c4d44931609e23a8de9fb6fb899b384.jpg  \n",
            "  inflating: cocoa_new/train/img_320_JPG_jpg.rf.652e1853d7dca5180894ef209ad330ab.jpg  \n",
            "  inflating: cocoa_new/train/img_2852_JPG_jpg.rf.597158d00db94074da53843b74060534.jpg  \n",
            "  inflating: cocoa_new/train/img_110_JPG_jpg.rf.1bc831aefd4e4823288af66815b2a474.jpg  \n",
            "  inflating: cocoa_new/train/img_2726_JPG_jpg.rf.9b0ab14284a409b7403759568566fa8b.jpg  \n",
            "  inflating: cocoa_new/train/img_3942_JPG_jpg.rf.a87fa6fc6c8d0abbc5c07d65b2a141cd.xml  \n",
            "  inflating: cocoa_new/train/img_325_JPG_jpg.rf.29982f8ed4ec8776497d7be4a880a983.jpg  \n",
            "  inflating: cocoa_new/train/img_320_JPG_jpg.rf.652e1853d7dca5180894ef209ad330ab.xml  \n",
            "  inflating: cocoa_new/train/img_2860_JPG_jpg.rf.0b0900dfddb9e12114ba5f0a1d232ceb.jpg  \n",
            "  inflating: cocoa_new/train/img_1271_JPG_jpg.rf.8c4d44931609e23a8de9fb6fb899b384.xml  \n",
            "  inflating: cocoa_new/train/img_1226_JPG_jpg.rf.6e8c99de1cd4213951b77f2f72717080.xml  \n",
            "  inflating: cocoa_new/train/img_2950_JPG_jpg.rf.ebfaed06dcda97d1f25b4dcf1bf47cd8.xml  \n",
            "  inflating: cocoa_new/train/img_3343_JPG_jpg.rf.03633e18e66a30acaebf42b34bbaa65a.xml  \n",
            "  inflating: cocoa_new/train/img_32_JPG_jpg.rf.b81a069a830ffd514eae1ffcb76b2d30.jpg  \n",
            "  inflating: cocoa_new/train/img_82_JPG_jpg.rf.f9d05a3d139e46d7033a4bbe560c1419.xml  \n",
            "  inflating: cocoa_new/train/img_4138_JPG_jpg.rf.78cfc5a9c8177f373267a1d78e47cc73.jpg  \n",
            "  inflating: cocoa_new/train/img_54_JPG_jpg.rf.ea321ba0ec5265577d6542c28a618c70.jpg  \n",
            "  inflating: cocoa_new/train/img_1207_JPG_jpg.rf.ed1b24b9f13486d729c39ef99293e4c7.jpg  \n",
            "  inflating: cocoa_new/train/img_1624_JPG_jpg.rf.95b4e25a031e1a2cb5578df1b7b7804a.jpg  \n",
            "  inflating: cocoa_new/train/img_1902_JPG_jpg.rf.b4f390f62ae4c79b85f996bcf1a552ca.jpg  \n",
            "  inflating: cocoa_new/train/img_2641_JPG_jpg.rf.e759445040082d559183a67237ba56bd.jpg  \n",
            "  inflating: cocoa_new/train/img_408_JPG_jpg.rf.ddd4f298d02eeff3f44beba0b6ad6fd0.xml  \n",
            "  inflating: cocoa_new/train/img_3507_JPG_jpg.rf.db5306ef6ea5c54005192f5f8bcf8d7e.jpg  \n",
            "  inflating: cocoa_new/train/img_3069_JPG_jpg.rf.b917759056d166484efcc6cf35e43dfc.jpg  \n",
            "  inflating: cocoa_new/train/img_3982_JPG_jpg.rf.ea6659da82c8eb256be35588660eaa70.jpg  \n",
            "  inflating: cocoa_new/train/img_3744_JPG_jpg.rf.3108cad143c4c117179acac4ed35618b.xml  \n",
            "  inflating: cocoa_new/train/img_4081_JPG_jpg.rf.026542af19c35c1a84b42f78eaceb54b.xml  \n",
            "  inflating: cocoa_new/train/img_171_JPG_jpg.rf.5b967ca894abc292e6efe3ff15947e8c.jpg  \n",
            "  inflating: cocoa_new/train/img_4032_JPG_jpg.rf.6f547480ac0f186512651f3825e9b14c.xml  \n",
            "  inflating: cocoa_new/train/img_2545_JPG_jpg.rf.fa1b33a7fa83e7f684c9b6fd6ad0dcf8.xml  \n",
            "  inflating: cocoa_new/train/img_171_JPG_jpg.rf.5b967ca894abc292e6efe3ff15947e8c.xml  \n",
            "  inflating: cocoa_new/train/img_3744_JPG_jpg.rf.3108cad143c4c117179acac4ed35618b.jpg  \n",
            "  inflating: cocoa_new/train/img_3982_JPG_jpg.rf.ea6659da82c8eb256be35588660eaa70.xml  \n",
            "  inflating: cocoa_new/train/img_4081_JPG_jpg.rf.026542af19c35c1a84b42f78eaceb54b.jpg  \n",
            "  inflating: cocoa_new/train/img_2545_JPG_jpg.rf.fa1b33a7fa83e7f684c9b6fd6ad0dcf8.jpg  \n",
            "  inflating: cocoa_new/train/img_4032_JPG_jpg.rf.6f547480ac0f186512651f3825e9b14c.jpg  \n",
            "  inflating: cocoa_new/train/img_1624_JPG_jpg.rf.95b4e25a031e1a2cb5578df1b7b7804a.xml  \n",
            "  inflating: cocoa_new/train/img_1902_JPG_jpg.rf.b4f390f62ae4c79b85f996bcf1a552ca.xml  \n",
            "  inflating: cocoa_new/train/img_3069_JPG_jpg.rf.b917759056d166484efcc6cf35e43dfc.xml  \n",
            "  inflating: cocoa_new/train/img_2641_JPG_jpg.rf.e759445040082d559183a67237ba56bd.xml  \n",
            "  inflating: cocoa_new/train/img_408_JPG_jpg.rf.ddd4f298d02eeff3f44beba0b6ad6fd0.jpg  \n",
            "  inflating: cocoa_new/train/img_3507_JPG_jpg.rf.db5306ef6ea5c54005192f5f8bcf8d7e.xml  \n",
            "  inflating: cocoa_new/train/img_2330_JPG_jpg.rf.b827d893a2c3dfb42cddfae4228bdcbe.xml  \n",
            "  inflating: cocoa_new/train/img_1538_JPG_jpg.rf.06041f4c63727382b4bcbf2b8c70210f.xml  \n",
            "  inflating: cocoa_new/train/img_3679_JPG_jpg.rf.19201eaebf760192943af8e9e5ba2860.xml  \n",
            "  inflating: cocoa_new/train/img_1386_JPG_jpg.rf.a9910a90eb6334bc9e6873200741f77f.xml  \n",
            "  inflating: cocoa_new/train/img_1927_JPG_jpg.rf.7443f8311a25d13205ee1b4be1cdb9bb.jpg  \n",
            "  inflating: cocoa_new/train/img_1569_JPG_jpg.rf.443e4f4234e94a218a2fa99a71c8f34c.xml  \n",
            "  inflating: cocoa_new/train/img_598_JPG_jpg.rf.5c60c526c4213c3ab5f446748fbc2aa9.jpg  \n",
            "  inflating: cocoa_new/train/img_435_JPG_jpg.rf.27ca63f895b287eac0dca4b542c3c949.xml  \n",
            "  inflating: cocoa_new/train/img_2468_JPG_jpg.rf.71e89894339b6e7b8704525e5245ce6e.xml  \n",
            "  inflating: cocoa_new/train/img_1908_JPG_jpg.rf.7d28aacc0fcda2200f2e08fb64f8b9e4.xml  \n",
            "  inflating: cocoa_new/train/img_3947_JPG_jpg.rf.875a5d2553bd6dec6f57899f2469b508.jpg  \n",
            "  inflating: cocoa_new/train/img_3335_JPG_jpg.rf.5639fd32c551a42cc36b9b0bb3396f66.jpg  \n",
            "  inflating: cocoa_new/train/img_1422_JPG_jpg.rf.f0dee6b8de0d9cdc75e38b67381b4312.xml  \n",
            "  inflating: cocoa_new/train/img_1935_JPG_jpg.rf.3b93f2b8e31918794b1a2c6c81b7d85e.xml  \n",
            "  inflating: cocoa_new/train/img_252_JPG_jpg.rf.49503cd698eb0dda8bb646b4f21e8e8f.xml  \n",
            "  inflating: cocoa_new/train/img_3947_JPG_jpg.rf.875a5d2553bd6dec6f57899f2469b508.xml  \n",
            "  inflating: cocoa_new/train/img_3335_JPG_jpg.rf.5639fd32c551a42cc36b9b0bb3396f66.xml  \n",
            "  inflating: cocoa_new/train/img_1569_JPG_jpg.rf.443e4f4234e94a218a2fa99a71c8f34c.jpg  \n",
            "  inflating: cocoa_new/train/img_598_JPG_jpg.rf.5c60c526c4213c3ab5f446748fbc2aa9.xml  \n",
            "  inflating: cocoa_new/train/img_2468_JPG_jpg.rf.71e89894339b6e7b8704525e5245ce6e.jpg  \n",
            "  inflating: cocoa_new/train/img_435_JPG_jpg.rf.27ca63f895b287eac0dca4b542c3c949.jpg  \n",
            "  inflating: cocoa_new/train/img_1908_JPG_jpg.rf.7d28aacc0fcda2200f2e08fb64f8b9e4.jpg  \n",
            "  inflating: cocoa_new/train/img_252_JPG_jpg.rf.49503cd698eb0dda8bb646b4f21e8e8f.jpg  \n",
            "  inflating: cocoa_new/train/img_1422_JPG_jpg.rf.f0dee6b8de0d9cdc75e38b67381b4312.jpg  \n",
            "  inflating: cocoa_new/train/img_1935_JPG_jpg.rf.3b93f2b8e31918794b1a2c6c81b7d85e.jpg  \n",
            "  inflating: cocoa_new/train/img_2330_JPG_jpg.rf.b827d893a2c3dfb42cddfae4228bdcbe.jpg  \n",
            "  inflating: cocoa_new/train/img_1538_JPG_jpg.rf.06041f4c63727382b4bcbf2b8c70210f.jpg  \n",
            "  inflating: cocoa_new/train/img_3679_JPG_jpg.rf.19201eaebf760192943af8e9e5ba2860.jpg  \n",
            "  inflating: cocoa_new/train/img_1386_JPG_jpg.rf.a9910a90eb6334bc9e6873200741f77f.jpg  \n",
            "  inflating: cocoa_new/train/img_1927_JPG_jpg.rf.7443f8311a25d13205ee1b4be1cdb9bb.xml  \n",
            "  inflating: cocoa_new/train/img_3725_JPG_jpg.rf.00b92fc63245ad78834e96d0630f0944.xml  \n",
            "  inflating: cocoa_new/train/img_3604_JPG_jpg.rf.9c9f191753dfae7b72bee11e11a26114.jpg  \n",
            "  inflating: cocoa_new/train/img_2877_JPG_jpg.rf.041793223929cf41f398c17edf9820f6.jpg  \n",
            "  inflating: cocoa_new/train/img_3862_JPG_jpg.rf.6cd120e03dbde9e70c2c49912a45b927.jpg  \n",
            "  inflating: cocoa_new/train/img_328_JPG_jpg.rf.fb248ccd1415efd95d6bec4b3e745f5a.xml  \n",
            "  inflating: cocoa_new/train/img_3647_JPG_jpg.rf.13c10ed5ef4b135cdeb64f8ff31095c9.jpg  \n",
            "  inflating: cocoa_new/train/img_1128_JPG_jpg.rf.950c79eeb6729415334b67b5ee0668ba.jpg  \n",
            "  inflating: cocoa_new/train/img_1155_JPG_jpg.rf.e482a8554c6b4ed74d726faefa0ccb1b.xml  \n",
            "  inflating: cocoa_new/train/img_3678_JPG_jpg.rf.bf72f073ff8ca79ef8b0931a9182de7f.jpg  \n",
            "  inflating: cocoa_new/train/img_2531_JPG_jpg.rf.4609c4876a1e1a47278a539586f0657d.jpg  \n",
            "  inflating: cocoa_new/train/img_1137_JPG_jpg.rf.281c6ae77aaced32cbb0e9020b99a78d.jpg  \n",
            "  inflating: cocoa_new/train/img_3129_JPG_jpg.rf.e0896d63d63348c11e423b36c71fc623.xml  \n",
            "  inflating: cocoa_new/train/img_3073_JPG_jpg.rf.a59b18fadba2abede19669c06c22911b.jpg  \n",
            "  inflating: cocoa_new/train/img_369_JPG_jpg.rf.759e8748c500e5a58ed4fdec6be41022.xml  \n",
            "  inflating: cocoa_new/train/img_1877_JPG_jpg.rf.7993c0bf0e68ab735fdcbcec251e3da7.xml  \n",
            "  inflating: cocoa_new/train/img_3678_JPG_jpg.rf.bf72f073ff8ca79ef8b0931a9182de7f.xml  \n",
            "  inflating: cocoa_new/train/img_2531_JPG_jpg.rf.4609c4876a1e1a47278a539586f0657d.xml  \n",
            "  inflating: cocoa_new/train/img_1137_JPG_jpg.rf.281c6ae77aaced32cbb0e9020b99a78d.xml  \n",
            "  inflating: cocoa_new/train/img_3129_JPG_jpg.rf.e0896d63d63348c11e423b36c71fc623.jpg  \n",
            "  inflating: cocoa_new/train/img_3647_JPG_jpg.rf.13c10ed5ef4b135cdeb64f8ff31095c9.xml  \n",
            "  inflating: cocoa_new/train/img_1155_JPG_jpg.rf.e482a8554c6b4ed74d726faefa0ccb1b.jpg  \n",
            "  inflating: cocoa_new/train/img_1128_JPG_jpg.rf.950c79eeb6729415334b67b5ee0668ba.xml  \n",
            "  inflating: cocoa_new/train/img_369_JPG_jpg.rf.759e8748c500e5a58ed4fdec6be41022.jpg  \n",
            "  inflating: cocoa_new/train/img_1877_JPG_jpg.rf.7993c0bf0e68ab735fdcbcec251e3da7.jpg  \n",
            "  inflating: cocoa_new/train/img_3073_JPG_jpg.rf.a59b18fadba2abede19669c06c22911b.xml  \n",
            "  inflating: cocoa_new/train/img_3604_JPG_jpg.rf.9c9f191753dfae7b72bee11e11a26114.xml  \n",
            "  inflating: cocoa_new/train/img_3725_JPG_jpg.rf.00b92fc63245ad78834e96d0630f0944.jpg  \n",
            "  inflating: cocoa_new/train/img_2877_JPG_jpg.rf.041793223929cf41f398c17edf9820f6.xml  \n",
            "  inflating: cocoa_new/train/img_328_JPG_jpg.rf.fb248ccd1415efd95d6bec4b3e745f5a.jpg  \n",
            "  inflating: cocoa_new/train/img_3862_JPG_jpg.rf.6cd120e03dbde9e70c2c49912a45b927.xml  \n",
            "  inflating: cocoa_new/train/img_2373_JPG_jpg.rf.449a5aee940866cfc1217b468dea2884.xml  \n",
            "  inflating: cocoa_new/train/img_1466_JPG_jpg.rf.3c04cd0e2a894137c6c791e55829bd1b.xml  \n",
            "  inflating: cocoa_new/train/img_2800_JPG_jpg.rf.8328d17e6e58dee9ce863a6d8ae3e81c.xml  \n",
            "  inflating: cocoa_new/train/img_511_JPG_jpg.rf.6cb801e0886b3928816be53170c02c9e.jpg  \n",
            "  inflating: cocoa_new/train/img_1245_JPG_jpg.rf.6d6d184fd10f406d9e2bd66b718f4dbc.jpg  \n",
            "  inflating: cocoa_new/train/img_3616_JPG_jpg.rf.b9098dcae72f224108215b1b914eec1c.xml  \n",
            "  inflating: cocoa_new/train/img_1980_JPG_jpg.rf.737e66ed16834fbe3c5c8289390e2f90.jpg  \n",
            "  inflating: cocoa_new/train/img_2630_JPG_jpg.rf.8d2525b4abe673ba9d913bf3dd03b66e.jpg  \n",
            "  inflating: cocoa_new/train/img_1980_JPG_jpg.rf.737e66ed16834fbe3c5c8289390e2f90.xml  \n",
            "  inflating: cocoa_new/train/img_1245_JPG_jpg.rf.6d6d184fd10f406d9e2bd66b718f4dbc.xml  \n",
            "  inflating: cocoa_new/train/img_3616_JPG_jpg.rf.b9098dcae72f224108215b1b914eec1c.jpg  \n",
            "  inflating: cocoa_new/train/img_2630_JPG_jpg.rf.8d2525b4abe673ba9d913bf3dd03b66e.xml  \n",
            "  inflating: cocoa_new/train/img_1466_JPG_jpg.rf.3c04cd0e2a894137c6c791e55829bd1b.jpg  \n",
            "  inflating: cocoa_new/train/img_2373_JPG_jpg.rf.449a5aee940866cfc1217b468dea2884.jpg  \n",
            "  inflating: cocoa_new/train/img_511_JPG_jpg.rf.6cb801e0886b3928816be53170c02c9e.xml  \n",
            "  inflating: cocoa_new/train/img_2800_JPG_jpg.rf.8328d17e6e58dee9ce863a6d8ae3e81c.jpg  \n",
            "  inflating: cocoa_new/train/img_502_JPG_jpg.rf.d45df5f471a666e2203bfd1464b24d91.xml  \n",
            "  inflating: cocoa_new/train/img_1967_JPG_jpg.rf.aa8a724ed09155f81eede1b5c5d7f7c4.xml  \n",
            "  inflating: cocoa_new/train/img_2934_JPG_jpg.rf.e7cb20e7a8f75d705e435af000f8c44e.jpg  \n",
            "  inflating: cocoa_new/train/img_2983_JPG_jpg.rf.f278d1899ea323a86f9b5354d10eb932.jpg  \n",
            "  inflating: cocoa_new/train/img_2602_JPG_jpg.rf.497ac2604e051116bc30badca573da05.xml  \n",
            "  inflating: cocoa_new/train/img_4116_JPG_jpg.rf.9ca05b3b7372c26de63a62393dae4b28.xml  \n",
            "  inflating: cocoa_new/train/img_396_JPG_jpg.rf.bdf5158d6dcf4114869d69a62735b539.xml  \n",
            "  inflating: cocoa_new/train/img_90_JPG_jpg.rf.f3ab1ae6d1dbae0b5ba818b49d13f458.jpg  \n",
            "  inflating: cocoa_new/train/img_2827_JPG_jpg.rf.6b0925a4fb1a115f612f18ebfd260041.xml  \n",
            "  inflating: cocoa_new/train/img_1143_JPG_jpg.rf.fe7172b3b2bc34261b3a5e35165ecd4e.xml  \n",
            "  inflating: cocoa_new/train/img_3060_JPG_jpg.rf.d5a5388846a1a9dd6bd27021c1f4f8e8.xml  \n",
            "  inflating: cocoa_new/train/img_1205_JPG_jpg.rf.6b2228e05b688d69ed930124eb5d2635.jpg  \n",
            "  inflating: cocoa_new/train/img_3477_JPG_jpg.rf.ad38a3fa1a684c0aebdd4ce79841e3aa.jpg  \n",
            "  inflating: cocoa_new/train/img_379_JPG_jpg.rf.c391b67f72b44790c4d31eb238c2588b.jpg  \n",
            "  inflating: cocoa_new/train/img_3157_JPG_jpg.rf.b8c1baeca0bdf09dd74d336bda882dd2.jpg  \n",
            "  inflating: cocoa_new/train/img_2448_JPG_jpg.rf.d3797828427e2fe4dda9d53e6974be70.jpg  \n",
            "  inflating: cocoa_new/train/img_2827_JPG_jpg.rf.6b0925a4fb1a115f612f18ebfd260041.jpg  \n",
            "  inflating: cocoa_new/train/img_90_JPG_jpg.rf.f3ab1ae6d1dbae0b5ba818b49d13f458.xml  \n",
            "  inflating: cocoa_new/train/img_1143_JPG_jpg.rf.fe7172b3b2bc34261b3a5e35165ecd4e.jpg  \n",
            "  inflating: cocoa_new/train/img_396_JPG_jpg.rf.bdf5158d6dcf4114869d69a62735b539.jpg  \n",
            "  inflating: cocoa_new/train/img_379_JPG_jpg.rf.c391b67f72b44790c4d31eb238c2588b.xml  \n",
            "  inflating: cocoa_new/train/img_3157_JPG_jpg.rf.b8c1baeca0bdf09dd74d336bda882dd2.xml  \n",
            "  inflating: cocoa_new/train/img_2448_JPG_jpg.rf.d3797828427e2fe4dda9d53e6974be70.xml  \n",
            "  inflating: cocoa_new/train/img_3060_JPG_jpg.rf.d5a5388846a1a9dd6bd27021c1f4f8e8.jpg  \n",
            "  inflating: cocoa_new/train/img_1205_JPG_jpg.rf.6b2228e05b688d69ed930124eb5d2635.xml  \n",
            "  inflating: cocoa_new/train/img_3477_JPG_jpg.rf.ad38a3fa1a684c0aebdd4ce79841e3aa.xml  \n",
            "  inflating: cocoa_new/train/img_1967_JPG_jpg.rf.aa8a724ed09155f81eede1b5c5d7f7c4.jpg  \n",
            "  inflating: cocoa_new/train/img_2934_JPG_jpg.rf.e7cb20e7a8f75d705e435af000f8c44e.xml  \n",
            "  inflating: cocoa_new/train/img_502_JPG_jpg.rf.d45df5f471a666e2203bfd1464b24d91.jpg  \n",
            "  inflating: cocoa_new/train/img_4116_JPG_jpg.rf.9ca05b3b7372c26de63a62393dae4b28.jpg  \n",
            "  inflating: cocoa_new/train/img_2983_JPG_jpg.rf.f278d1899ea323a86f9b5354d10eb932.xml  \n",
            "  inflating: cocoa_new/train/img_2602_JPG_jpg.rf.497ac2604e051116bc30badca573da05.jpg  \n",
            "  inflating: cocoa_new/train/img_480_JPG_jpg.rf.82ab151e558badd5ed25eaf84e35da17.xml  \n",
            "  inflating: cocoa_new/train/img_3581_JPG_jpg.rf.bd6d3b726a6bd425ed6caeafc1716e36.jpg  \n",
            "  inflating: cocoa_new/train/img_93_JPG_jpg.rf.d0a804a8a09b455e9a99f7bc28aab1c4.jpg  \n",
            "  inflating: cocoa_new/train/img_136_JPG_jpg.rf.cc6869f09b6e754900375a5d92dd3934.jpg  \n",
            "  inflating: cocoa_new/train/img_3209_JPG_jpg.rf.8a9f43fa059dc5593d5d33f3802a5415.jpg  \n",
            "  inflating: cocoa_new/train/img_1102_JPG_jpg.rf.5745e9eb16c7e5f4d662f933f2eeb3cb.jpg  \n",
            "  inflating: cocoa_new/train/img_3645_JPG_jpg.rf.3432f3065e0ca633dfa8eec5138d5910.xml  \n",
            "  inflating: cocoa_new/train/img_1406_JPG_jpg.rf.c24b561a5e91a1ebe0cd64876d6b5e5a.jpg  \n",
            "  inflating: cocoa_new/train/img_3550_JPG_jpg.rf.3531810f67937e551d2f69701102af02.xml  \n",
            "  inflating: cocoa_new/train/img_3293_JPG_jpg.rf.221a9fe342200605a737c8bf3a4393b1.xml  \n",
            "  inflating: cocoa_new/train/img_1596_JPG_jpg.rf.6a235eb6dcfc603839c2f626890cc5c0.xml  \n",
            "  inflating: cocoa_new/train/img_4146_JPG_jpg.rf.e34db1b2a223b2dc7729377b3e0a76cd.xml  \n",
            "  inflating: cocoa_new/train/img_3414_JPG_jpg.rf.596a83d388097881bd0b37a5edabce24.jpg  \n",
            "  inflating: cocoa_new/train/img_3698_JPG_jpg.rf.cb0b595efb344a777f6f6e865394ef75.jpg  \n",
            "  inflating: cocoa_new/train/img_2509_JPG_jpg.rf.44d97bae2785ab7f8d57bbafb7adac64.xml  \n",
            "  inflating: cocoa_new/train/img_3293_JPG_jpg.rf.221a9fe342200605a737c8bf3a4393b1.jpg  \n",
            "  inflating: cocoa_new/train/img_3550_JPG_jpg.rf.3531810f67937e551d2f69701102af02.jpg  \n",
            "  inflating: cocoa_new/train/img_1596_JPG_jpg.rf.6a235eb6dcfc603839c2f626890cc5c0.jpg  \n",
            "  inflating: cocoa_new/train/img_4146_JPG_jpg.rf.e34db1b2a223b2dc7729377b3e0a76cd.jpg  \n",
            "  inflating: cocoa_new/train/img_3414_JPG_jpg.rf.596a83d388097881bd0b37a5edabce24.xml  \n",
            "  inflating: cocoa_new/train/img_3698_JPG_jpg.rf.cb0b595efb344a777f6f6e865394ef75.xml  \n",
            "  inflating: cocoa_new/train/img_2509_JPG_jpg.rf.44d97bae2785ab7f8d57bbafb7adac64.jpg  \n",
            "  inflating: cocoa_new/train/img_136_JPG_jpg.rf.cc6869f09b6e754900375a5d92dd3934.xml  \n",
            "  inflating: cocoa_new/train/img_3209_JPG_jpg.rf.8a9f43fa059dc5593d5d33f3802a5415.xml  \n",
            "  inflating: cocoa_new/train/img_3581_JPG_jpg.rf.bd6d3b726a6bd425ed6caeafc1716e36.xml  \n",
            "  inflating: cocoa_new/train/img_480_JPG_jpg.rf.82ab151e558badd5ed25eaf84e35da17.jpg  \n",
            "  inflating: cocoa_new/train/img_93_JPG_jpg.rf.d0a804a8a09b455e9a99f7bc28aab1c4.xml  \n",
            "  inflating: cocoa_new/train/img_1102_JPG_jpg.rf.5745e9eb16c7e5f4d662f933f2eeb3cb.xml  \n",
            "  inflating: cocoa_new/train/img_3645_JPG_jpg.rf.3432f3065e0ca633dfa8eec5138d5910.jpg  \n",
            "  inflating: cocoa_new/train/img_1406_JPG_jpg.rf.c24b561a5e91a1ebe0cd64876d6b5e5a.xml  \n",
            "  inflating: cocoa_new/train/img_407_JPG_jpg.rf.f0abb7d640ae467176e82cdf18efd28f.jpg  \n",
            "  inflating: cocoa_new/train/img_3352_JPG_jpg.rf.1950380b09c43c617de8c278e3240414.jpg  \n",
            "  inflating: cocoa_new/train/img_3450_JPG_jpg.rf.aaa8195c3a679f188dea502afec14fa2.jpg  \n",
            "  inflating: cocoa_new/train/img_1249_JPG_jpg.rf.109352746c331bf2f4610885f0e1a55e.xml  \n",
            "  inflating: cocoa_new/train/img_3231_JPG_jpg.rf.105e9061fb33666f457ada717ab2a11c.jpg  \n",
            "  inflating: cocoa_new/train/img_1909_JPG_jpg.rf.f4327a366e8022df5ff49d83996dbf5e.xml  \n",
            "  inflating: cocoa_new/train/img_3388_JPG_jpg.rf.dda07e6eee53514e76f5acbdff9f2f65.xml  \n",
            "  inflating: cocoa_new/train/img_894_JPG_jpg.rf.424090e96e8d549b32070d94effb3a06.jpg  \n",
            "  inflating: cocoa_new/train/img_3726_JPG_jpg.rf.b1fc0893791eea3ba44017af1877ca1a.xml  \n",
            "  inflating: cocoa_new/train/img_1400_JPG_jpg.rf.598b2323b113399f7c2b94b63ba7e85b.xml  \n",
            "  inflating: cocoa_new/train/img_3640_JPG_jpg.rf.9b9d1133835f0d0b1162deafa2deceb3.jpg  \n",
            "  inflating: cocoa_new/train/img_466_JPG_jpg.rf.b3fccdaa8ea48f8a0e29d739258f38b4.xml  \n",
            "  inflating: cocoa_new/train/img_2707_JPG_jpg.rf.856481780fcea47c72eb7659eaaf662d.jpg  \n",
            "  inflating: cocoa_new/train/img_3104_JPG_jpg.rf.033969a296e4364f8192c0cfd51b598d.jpg  \n",
            "  inflating: cocoa_new/train/img_702_JPG_jpg.rf.ac4e90afcbcc0332eaf4b138d86e7b8f.xml  \n",
            "  inflating: cocoa_new/train/img_2790_JPG_jpg.rf.502fb1bfc400d2ad6a6aab03bda319e5.jpg  \n",
            "  inflating: cocoa_new/train/img_822_JPG_jpg.rf.b78c62b594fa075448b4fb2c4ce3fc59.jpg  \n",
            "  inflating: cocoa_new/train/img_3857_JPG_jpg.rf.b9845cd33b9cc199dc823e7cdd32021d.xml  \n",
            "  inflating: cocoa_new/train/img_3185_JPG_jpg.rf.bdaebba444289c75167ed7f0c1f7d297.xml  \n",
            "  inflating: cocoa_new/train/img_3019_JPG_jpg.rf.ce1308112a4aeb7abb2bff492cd5e719.jpg  \n",
            "  inflating: cocoa_new/train/img_71_JPG_jpg.rf.2ade81875b97f5ab9adf134b8398143f.jpg  \n",
            "  inflating: cocoa_new/train/img_3791_JPG_jpg.rf.07416b98a21c9d838610b616bfb58cba.xml  \n",
            "  inflating: cocoa_new/train/img_3889_JPG_jpg.rf.a88308955c8047d521728c1e33bcc92b.xml  \n",
            "  inflating: cocoa_new/train/img_1918_JPG_jpg.rf.3394402272354cf5aeb9b68213ee0cb4.xml  \n",
            "  inflating: cocoa_new/train/img_784_JPG_jpg.rf.58ead7751a87db7b9ff70df5ca576e3a.xml  \n",
            "  inflating: cocoa_new/train/img_2971_JPG_jpg.rf.be0841f37426997001f81b13427e71eb.xml  \n",
            "  inflating: cocoa_new/train/img_3857_JPG_jpg.rf.b9845cd33b9cc199dc823e7cdd32021d.jpg  \n",
            "  inflating: cocoa_new/train/img_3185_JPG_jpg.rf.bdaebba444289c75167ed7f0c1f7d297.jpg  \n",
            "  inflating: cocoa_new/train/img_3019_JPG_jpg.rf.ce1308112a4aeb7abb2bff492cd5e719.xml  \n",
            "  inflating: cocoa_new/train/img_702_JPG_jpg.rf.ac4e90afcbcc0332eaf4b138d86e7b8f.jpg  \n",
            "  inflating: cocoa_new/train/img_2790_JPG_jpg.rf.502fb1bfc400d2ad6a6aab03bda319e5.xml  \n",
            "  inflating: cocoa_new/train/img_822_JPG_jpg.rf.b78c62b594fa075448b4fb2c4ce3fc59.xml  \n",
            "  inflating: cocoa_new/train/img_3889_JPG_jpg.rf.a88308955c8047d521728c1e33bcc92b.jpg  \n",
            "  inflating: cocoa_new/train/img_1918_JPG_jpg.rf.3394402272354cf5aeb9b68213ee0cb4.jpg  \n",
            "  inflating: cocoa_new/train/img_2971_JPG_jpg.rf.be0841f37426997001f81b13427e71eb.jpg  \n",
            "  inflating: cocoa_new/train/img_784_JPG_jpg.rf.58ead7751a87db7b9ff70df5ca576e3a.jpg  \n",
            "  inflating: cocoa_new/train/img_71_JPG_jpg.rf.2ade81875b97f5ab9adf134b8398143f.xml  \n",
            "  inflating: cocoa_new/train/img_3791_JPG_jpg.rf.07416b98a21c9d838610b616bfb58cba.jpg  \n",
            "  inflating: cocoa_new/train/img_3231_JPG_jpg.rf.105e9061fb33666f457ada717ab2a11c.xml  \n",
            "  inflating: cocoa_new/train/img_3352_JPG_jpg.rf.1950380b09c43c617de8c278e3240414.xml  \n",
            "  inflating: cocoa_new/train/img_407_JPG_jpg.rf.f0abb7d640ae467176e82cdf18efd28f.xml  \n",
            "  inflating: cocoa_new/train/img_3450_JPG_jpg.rf.aaa8195c3a679f188dea502afec14fa2.xml  \n",
            "  inflating: cocoa_new/train/img_1249_JPG_jpg.rf.109352746c331bf2f4610885f0e1a55e.jpg  \n",
            "  inflating: cocoa_new/train/img_3726_JPG_jpg.rf.b1fc0893791eea3ba44017af1877ca1a.jpg  \n",
            "  inflating: cocoa_new/train/img_1400_JPG_jpg.rf.598b2323b113399f7c2b94b63ba7e85b.jpg  \n",
            "  inflating: cocoa_new/train/img_3640_JPG_jpg.rf.9b9d1133835f0d0b1162deafa2deceb3.xml  \n",
            "  inflating: cocoa_new/train/img_466_JPG_jpg.rf.b3fccdaa8ea48f8a0e29d739258f38b4.jpg  \n",
            "  inflating: cocoa_new/train/img_2707_JPG_jpg.rf.856481780fcea47c72eb7659eaaf662d.xml  \n",
            "  inflating: cocoa_new/train/img_3104_JPG_jpg.rf.033969a296e4364f8192c0cfd51b598d.xml  \n",
            "  inflating: cocoa_new/train/img_1909_JPG_jpg.rf.f4327a366e8022df5ff49d83996dbf5e.jpg  \n",
            "  inflating: cocoa_new/train/img_3388_JPG_jpg.rf.dda07e6eee53514e76f5acbdff9f2f65.jpg  \n",
            "  inflating: cocoa_new/train/img_894_JPG_jpg.rf.424090e96e8d549b32070d94effb3a06.xml  \n",
            "  inflating: cocoa_new/train/img_338_JPG_jpg.rf.ba5e73e7ff48612b915bc34d5d8a12bb.xml  \n",
            "  inflating: cocoa_new/train/img_3861_JPG_jpg.rf.527537a362a48f7effb189629681fb87.xml  \n",
            "  inflating: cocoa_new/train/img_4147_JPG_jpg.rf.f9a33f1f9428cf4e2fef65c92537e009.jpg  \n",
            "  inflating: cocoa_new/train/img_292_JPG_jpg.rf.d4110052958ffd5d9676a3d92801c1e6.xml  \n",
            "  inflating: cocoa_new/train/img_456_JPG_jpg.rf.4fae54ec5811e0142db8ceed10f47ed8.jpg  \n",
            "  inflating: cocoa_new/train/img_3320_JPG_jpg.rf.88bf04f368ed247dd7e3d2899056c5ef.xml  \n",
            "  inflating: cocoa_new/train/img_1620_JPG_jpg.rf.7cf9a8781ef1cdad915621d43ee24ba7.xml  \n",
            "  inflating: cocoa_new/train/img_3013_JPG_jpg.rf.088f0e229dffa98a6889893bd772e1ca.xml  \n",
            "  inflating: cocoa_new/train/img_4055_JPG_jpg.rf.cfdb14818a87d1dcb370734e4c36e9fe.xml  \n",
            "  inflating: cocoa_new/train/img_2_JPG_jpg.rf.14cd116a1cb14468d41762a933eb5013.jpg  \n",
            "  inflating: cocoa_new/train/img_2821_JPG_jpg.rf.6fc916efef56b2434f6c2a11674cb23e.jpg  \n",
            "  inflating: cocoa_new/train/img_1915_JPG_jpg.rf.5e1ac46a815a42a2a45fba2f32244b62.xml  \n",
            "  inflating: cocoa_new/train/img_1217_JPG_jpg.rf.3cab111cb9b8229f8dd9daa19e02c5f4.jpg  \n",
            "  inflating: cocoa_new/train/img_3341_JPG_jpg.rf.777a0f64478f51797200d93a2775b2a3.xml  \n",
            "  inflating: cocoa_new/train/img_940_JPG_jpg.rf.2d765f3af185e29f03ce2cb8326ebabc.jpg  \n",
            "  inflating: cocoa_new/train/img_472_JPG_jpg.rf.203531c1ef6f9292479e0749e34353b8.xml  \n",
            "  inflating: cocoa_new/train/img_3618_JPG_jpg.rf.373ceda2c0e2fb551891adcee2f95f47.jpg  \n",
            "  inflating: cocoa_new/train/img_2974_JPG_jpg.rf.51a8059c73cee0b692e62776d13d648f.xml  \n",
            "  inflating: cocoa_new/train/img_3417_JPG_jpg.rf.44437df9589a3481e87e980cd4871054.jpg  \n",
            "  inflating: cocoa_new/train/img_3085_JPG_jpg.rf.33d6997214c6ae7bbb048da622655717.jpg  \n",
            "  inflating: cocoa_new/train/img_1198_JPG_jpg.rf.f4fc72914f7c58ff2934b2fe379b0c52.jpg  \n",
            "  inflating: cocoa_new/train/img_1202_JPG_jpg.rf.7238a37b12256216ffb0bc46888a9b9a.xml  \n",
            "  inflating: cocoa_new/train/img_2426_JPG_jpg.rf.718445889a8156320a75fc3ca529b3e3.xml  \n",
            "  inflating: cocoa_new/train/img_2408_JPG_jpg.rf.2b04986188ac3716a6d9d5037f9e2f87.jpg  \n",
            "  inflating: cocoa_new/train/img_3085_JPG_jpg.rf.33d6997214c6ae7bbb048da622655717.xml  \n",
            "  inflating: cocoa_new/train/img_1198_JPG_jpg.rf.f4fc72914f7c58ff2934b2fe379b0c52.xml  \n",
            "  inflating: cocoa_new/train/img_1202_JPG_jpg.rf.7238a37b12256216ffb0bc46888a9b9a.jpg  \n",
            "  inflating: cocoa_new/train/img_3618_JPG_jpg.rf.373ceda2c0e2fb551891adcee2f95f47.xml  \n",
            "  inflating: cocoa_new/train/img_2974_JPG_jpg.rf.51a8059c73cee0b692e62776d13d648f.jpg  \n",
            "  inflating: cocoa_new/train/img_3417_JPG_jpg.rf.44437df9589a3481e87e980cd4871054.xml  \n",
            "  inflating: cocoa_new/train/img_2426_JPG_jpg.rf.718445889a8156320a75fc3ca529b3e3.jpg  \n",
            "  inflating: cocoa_new/train/img_2408_JPG_jpg.rf.2b04986188ac3716a6d9d5037f9e2f87.xml  \n",
            "  inflating: cocoa_new/train/img_292_JPG_jpg.rf.d4110052958ffd5d9676a3d92801c1e6.jpg  \n",
            "  inflating: cocoa_new/train/img_3320_JPG_jpg.rf.88bf04f368ed247dd7e3d2899056c5ef.jpg  \n",
            "  inflating: cocoa_new/train/img_456_JPG_jpg.rf.4fae54ec5811e0142db8ceed10f47ed8.xml  \n",
            "  inflating: cocoa_new/train/img_1620_JPG_jpg.rf.7cf9a8781ef1cdad915621d43ee24ba7.jpg  \n",
            "  inflating: cocoa_new/train/img_338_JPG_jpg.rf.ba5e73e7ff48612b915bc34d5d8a12bb.jpg  \n",
            "  inflating: cocoa_new/train/img_3861_JPG_jpg.rf.527537a362a48f7effb189629681fb87.jpg  \n",
            "  inflating: cocoa_new/train/img_4147_JPG_jpg.rf.f9a33f1f9428cf4e2fef65c92537e009.xml  \n",
            "  inflating: cocoa_new/train/img_1915_JPG_jpg.rf.5e1ac46a815a42a2a45fba2f32244b62.jpg  \n",
            "  inflating: cocoa_new/train/img_3341_JPG_jpg.rf.777a0f64478f51797200d93a2775b2a3.jpg  \n",
            "  inflating: cocoa_new/train/img_1217_JPG_jpg.rf.3cab111cb9b8229f8dd9daa19e02c5f4.xml  \n",
            "  inflating: cocoa_new/train/img_940_JPG_jpg.rf.2d765f3af185e29f03ce2cb8326ebabc.xml  \n",
            "  inflating: cocoa_new/train/img_472_JPG_jpg.rf.203531c1ef6f9292479e0749e34353b8.jpg  \n",
            "  inflating: cocoa_new/train/img_3013_JPG_jpg.rf.088f0e229dffa98a6889893bd772e1ca.jpg  \n",
            "  inflating: cocoa_new/train/img_4055_JPG_jpg.rf.cfdb14818a87d1dcb370734e4c36e9fe.jpg  \n",
            "  inflating: cocoa_new/train/img_2_JPG_jpg.rf.14cd116a1cb14468d41762a933eb5013.xml  \n",
            "  inflating: __MACOSX/cocoa_new/train/._img_2_JPG_jpg.rf.14cd116a1cb14468d41762a933eb5013.xml  \n",
            "  inflating: cocoa_new/train/img_2821_JPG_jpg.rf.6fc916efef56b2434f6c2a11674cb23e.xml  \n",
            "  inflating: cocoa_new/train/img_3149_JPG_jpg.rf.3a861c9de7ba2194ac64bbecfd4d62e5.xml  \n",
            "  inflating: cocoa_new/train/img_1103_JPG_jpg.rf.c773d1b1efb6cfd55fe152a244aa5a7a.jpg  \n",
            "  inflating: cocoa_new/train/img_1265_JPG_jpg.rf.332bf5d0e45dda9f390ea089bab21606.xml  \n",
            "  inflating: cocoa_new/train/img_1338_JPG_jpg.rf.5574d9167279b30f6e6414253edfe8d0.jpg  \n",
            "  inflating: cocoa_new/train/img_2888_JPG_jpg.rf.d2a617f131850a760aff3d2c2e685b10.xml  \n",
            "  inflating: cocoa_new/train/img_2626_JPG_jpg.rf.d0f7220478ba93f42ba15812b87f3c43.jpg  \n",
            "  inflating: cocoa_new/train/img_1768_JPG_jpg.rf.1e92d9f24c7367d3cec211836bc432e6.jpg  \n",
            "  inflating: cocoa_new/train/img_1458_JPG_jpg.rf.5bfa227e331f9ef3a83f4aab77f47ba9.jpg  \n",
            "  inflating: cocoa_new/train/img_3241_JPG_jpg.rf.3803375779582a774251e7590e9556d9.jpg  \n",
            "  inflating: cocoa_new/train/img_519_JPG_jpg.rf.3adce5832b68a8debc6084e35f294dad.jpg  \n",
            "  inflating: cocoa_new/train/img_1425_JPG_jpg.rf.d47b8ffb2fe59d0d0cc354f15720be53.jpg  \n",
            "  inflating: cocoa_new/train/img_3062_JPG_jpg.rf.f1645bf8994b8981441f546db9de1961.xml  \n",
            "  inflating: cocoa_new/train/img_3007_JPG_jpg.rf.fb4d47de57042ea1ebb414f52d7aa076.jpg  \n",
            "  inflating: cocoa_new/train/img_1801_JPG_jpg.rf.c1d05a2167ff9e1d2a413192ceb9d5fc.jpg  \n",
            "  inflating: cocoa_new/train/img_422_JPG_jpg.rf.18fe68458e6a407975f91611be1e99d3.xml  \n",
            "  inflating: cocoa_new/train/img_3390_JPG_jpg.rf.3a52db8c1560c87bb8716155110e47e7.jpg  \n",
            "  inflating: cocoa_new/train/img_434_JPG_jpg.rf.e7ab6d5166f8f419c19dd908bd5ad9de.xml  \n",
            "  inflating: cocoa_new/train/img_533_JPG_jpg.rf.ba12240d4982ea8dcb1828a911904d79.xml  \n",
            "  inflating: cocoa_new/train/img_926_JPG_jpg.rf.1d6d3eeb88c741d87a56c4de4a1c40f0.xml  \n",
            "  inflating: cocoa_new/train/img_788_JPG_jpg.rf.050b2e43dbd0c87f34e7474a0533496d.xml  \n",
            "  inflating: cocoa_new/train/img_1275_JPG_jpg.rf.21d88331bdd031841adf2307a96ab442.xml  \n",
            "  inflating: cocoa_new/train/img_416_JPG_jpg.rf.4c3e92f6eccdff5c5dd0aaf19d631650.xml  \n",
            "  inflating: cocoa_new/train/img_3729_JPG_jpg.rf.534fa1b42ade7ab339d234cf962d3d20.jpg  \n",
            "  inflating: cocoa_new/train/img_69_JPG_jpg.rf.5f32861d7b5120653c49570ef7d37bce.xml  \n",
            "  inflating: cocoa_new/train/img_1775_JPG_jpg.rf.95adb65d53230c2e44d891e7fb24f78e.jpg  \n",
            "  inflating: cocoa_new/train/img_926_JPG_jpg.rf.1d6d3eeb88c741d87a56c4de4a1c40f0.jpg  \n",
            "  inflating: cocoa_new/train/img_788_JPG_jpg.rf.050b2e43dbd0c87f34e7474a0533496d.jpg  \n",
            "  inflating: cocoa_new/train/img_422_JPG_jpg.rf.18fe68458e6a407975f91611be1e99d3.jpg  \n",
            "  inflating: cocoa_new/train/img_3390_JPG_jpg.rf.3a52db8c1560c87bb8716155110e47e7.xml  \n",
            "  inflating: cocoa_new/train/img_434_JPG_jpg.rf.e7ab6d5166f8f419c19dd908bd5ad9de.jpg  \n",
            "  inflating: cocoa_new/train/img_533_JPG_jpg.rf.ba12240d4982ea8dcb1828a911904d79.jpg  \n",
            "  inflating: cocoa_new/train/img_1775_JPG_jpg.rf.95adb65d53230c2e44d891e7fb24f78e.xml  \n",
            "  inflating: cocoa_new/train/img_1275_JPG_jpg.rf.21d88331bdd031841adf2307a96ab442.jpg  \n",
            "  inflating: cocoa_new/train/img_416_JPG_jpg.rf.4c3e92f6eccdff5c5dd0aaf19d631650.jpg  \n",
            "  inflating: cocoa_new/train/img_3729_JPG_jpg.rf.534fa1b42ade7ab339d234cf962d3d20.xml  \n",
            "  inflating: cocoa_new/train/img_69_JPG_jpg.rf.5f32861d7b5120653c49570ef7d37bce.jpg  \n",
            "  inflating: cocoa_new/train/img_2626_JPG_jpg.rf.d0f7220478ba93f42ba15812b87f3c43.xml  \n",
            "  inflating: cocoa_new/train/img_2888_JPG_jpg.rf.d2a617f131850a760aff3d2c2e685b10.jpg  \n",
            "  inflating: cocoa_new/train/img_1458_JPG_jpg.rf.5bfa227e331f9ef3a83f4aab77f47ba9.xml  \n",
            "  inflating: cocoa_new/train/img_1768_JPG_jpg.rf.1e92d9f24c7367d3cec211836bc432e6.xml  \n",
            "  inflating: cocoa_new/train/img_3241_JPG_jpg.rf.3803375779582a774251e7590e9556d9.xml  \n",
            "  inflating: cocoa_new/train/img_3149_JPG_jpg.rf.3a861c9de7ba2194ac64bbecfd4d62e5.jpg  \n",
            "  inflating: cocoa_new/train/img_1103_JPG_jpg.rf.c773d1b1efb6cfd55fe152a244aa5a7a.xml  \n",
            "  inflating: cocoa_new/train/img_1265_JPG_jpg.rf.332bf5d0e45dda9f390ea089bab21606.jpg  \n",
            "  inflating: cocoa_new/train/img_1338_JPG_jpg.rf.5574d9167279b30f6e6414253edfe8d0.xml  \n",
            "  inflating: cocoa_new/train/img_3062_JPG_jpg.rf.f1645bf8994b8981441f546db9de1961.jpg  \n",
            "  inflating: cocoa_new/train/img_3007_JPG_jpg.rf.fb4d47de57042ea1ebb414f52d7aa076.xml  \n",
            "  inflating: cocoa_new/train/img_1801_JPG_jpg.rf.c1d05a2167ff9e1d2a413192ceb9d5fc.xml  \n",
            "  inflating: cocoa_new/train/img_519_JPG_jpg.rf.3adce5832b68a8debc6084e35f294dad.xml  \n",
            "  inflating: cocoa_new/train/img_1425_JPG_jpg.rf.d47b8ffb2fe59d0d0cc354f15720be53.xml  \n",
            "  inflating: cocoa_new/train/img_87_JPG_jpg.rf.31e1d5a724fa50f14c702b3e7a6f9b44.jpg  \n",
            "  inflating: cocoa_new/train/img_3576_JPG_jpg.rf.f6af6e53b9d072061cc00cdd58e6c646.jpg  \n",
            "  inflating: cocoa_new/train/img_3353_JPG_jpg.rf.912bc27c7a8c6ece2517a8f410465e0f.jpg  \n",
            "  inflating: cocoa_new/train/img_934_JPG_jpg.rf.16b4a8350733c3a3c17bc6eb1883cc63.jpg  \n",
            "  inflating: cocoa_new/train/img_966_JPG_jpg.rf.70e8b28b63df38f7eb07c628816de7f6.xml  \n",
            "  inflating: cocoa_new/train/img_4133_JPG_jpg.rf.ec871d7b1777e6f3248df440d7d76051.xml  \n",
            "  inflating: cocoa_new/train/img_934_JPG_jpg.rf.16b4a8350733c3a3c17bc6eb1883cc63.xml  \n",
            "  inflating: cocoa_new/train/img_3353_JPG_jpg.rf.912bc27c7a8c6ece2517a8f410465e0f.xml  \n",
            "  inflating: cocoa_new/train/img_4133_JPG_jpg.rf.ec871d7b1777e6f3248df440d7d76051.jpg  \n",
            "  inflating: cocoa_new/train/img_966_JPG_jpg.rf.70e8b28b63df38f7eb07c628816de7f6.jpg  \n",
            "  inflating: cocoa_new/train/img_87_JPG_jpg.rf.31e1d5a724fa50f14c702b3e7a6f9b44.xml  \n",
            "  inflating: cocoa_new/train/img_3576_JPG_jpg.rf.f6af6e53b9d072061cc00cdd58e6c646.xml  \n",
            "  inflating: cocoa_new/train/img_6_JPG_jpg.rf.98cbb1979e9ed80f2208615a98180a39.xml  \n",
            "  inflating: cocoa_new/train/img_1088_JPG_jpg.rf.bbb7072fa8f69d2a8b51fe02107ef4ae.xml  \n",
            "  inflating: cocoa_new/train/img_199_JPG_jpg.rf.52e46c95f44af4d5deca284ac94832cc.xml  \n",
            "  inflating: cocoa_new/train/img_1814_JPG_jpg.rf.3f9ab91b9ff04b2a4d4bb97203ae1bf8.xml  \n",
            "  inflating: cocoa_new/train/img_276_JPG_jpg.rf.13bbb88f17a225cad2792cfdae2ade86.xml  \n",
            "  inflating: cocoa_new/train/img_3703_JPG_jpg.rf.750e078ebec907283ac35e02bfd7433b.jpg  \n",
            "  inflating: cocoa_new/train/img_924_JPG_jpg.rf.bf0b35dc4cf0d26c7e511829b985276f.jpg  \n",
            "  inflating: cocoa_new/train/img_2735_JPG_jpg.rf.82572b2f9e1f40a08d793b59828ebe6a.jpg  \n",
            "  inflating: cocoa_new/train/img_10_JPG_jpg.rf.2bda5e8dfad65709dab5ce0bb87d670f.jpg  \n",
            "  inflating: cocoa_new/train/img_1158_JPG_jpg.rf.2d426d23e4176894abb0243e4712cb1b.jpg  \n",
            "  inflating: cocoa_new/train/img_630_JPG_jpg.rf.622fc70e09a94b9cc28940c9ff902fb9.xml  \n",
            "  inflating: cocoa_new/train/img_3026_JPG_jpg.rf.50ea2f2c6c8e3427877e5f9ef84b2d66.jpg  \n",
            "  inflating: cocoa_new/train/img_3108_JPG_jpg.rf.27c5f1b468adf9800703b9c97f57110b.jpg  \n",
            "  inflating: cocoa_new/train/img_630_JPG_jpg.rf.622fc70e09a94b9cc28940c9ff902fb9.jpg  \n",
            "  inflating: cocoa_new/train/img_924_JPG_jpg.rf.bf0b35dc4cf0d26c7e511829b985276f.xml  \n",
            "  inflating: cocoa_new/train/img_2735_JPG_jpg.rf.82572b2f9e1f40a08d793b59828ebe6a.xml  \n",
            "  inflating: cocoa_new/train/img_10_JPG_jpg.rf.2bda5e8dfad65709dab5ce0bb87d670f.xml  \n",
            "  inflating: cocoa_new/train/img_1158_JPG_jpg.rf.2d426d23e4176894abb0243e4712cb1b.xml  \n",
            "  inflating: cocoa_new/train/img_3026_JPG_jpg.rf.50ea2f2c6c8e3427877e5f9ef84b2d66.xml  \n",
            "  inflating: cocoa_new/train/img_3108_JPG_jpg.rf.27c5f1b468adf9800703b9c97f57110b.xml  \n",
            "  inflating: cocoa_new/train/img_1088_JPG_jpg.rf.bbb7072fa8f69d2a8b51fe02107ef4ae.jpg  \n",
            "  inflating: cocoa_new/train/img_199_JPG_jpg.rf.52e46c95f44af4d5deca284ac94832cc.jpg  \n",
            "  inflating: cocoa_new/train/img_1814_JPG_jpg.rf.3f9ab91b9ff04b2a4d4bb97203ae1bf8.jpg  \n",
            "  inflating: cocoa_new/train/img_6_JPG_jpg.rf.98cbb1979e9ed80f2208615a98180a39.jpg  \n",
            "  inflating: cocoa_new/train/img_3703_JPG_jpg.rf.750e078ebec907283ac35e02bfd7433b.xml  \n",
            "  inflating: cocoa_new/train/img_276_JPG_jpg.rf.13bbb88f17a225cad2792cfdae2ade86.jpg  \n",
            "  inflating: cocoa_new/train/img_2382_JPG_jpg.rf.82edc4dffe7d27d5f89c6c059af4be78.jpg  \n",
            "  inflating: cocoa_new/train/img_2035_JPG_jpg.rf.eb4126c2bf89440e19dc9d44ea592143.jpg  \n",
            "  inflating: cocoa_new/train/img_517_JPG_jpg.rf.68efeea92a0a512fed34ca8bc7b54deb.xml  \n",
            "  inflating: cocoa_new/train/img_371_JPG_jpg.rf.8099f16d842a978e0ad88fbef9a79564.xml  \n",
            "  inflating: cocoa_new/train/img_603_JPG_jpg.rf.9c8719d97ad1933c89ceba8105067a80.xml  \n",
            "  inflating: cocoa_new/train/img_2041_JPG_jpg.rf.6a57694883de51b8f06178bfa08c331c.jpg  \n",
            "  inflating: cocoa_new/train/img_1911_JPG_jpg.rf.ca2cd053f104b3ed66deed1d1c15ec9f.jpg  \n",
            "  inflating: cocoa_new/train/img_333_JPG_jpg.rf.54fa235f78dcccc62ef5f05f0c8cfc9f.xml  \n",
            "  inflating: cocoa_new/train/img_347_JPG_jpg.rf.aee26ea994e382e9b9e74d735d979fc0.jpg  \n",
            "  inflating: cocoa_new/train/img_1340_JPG_jpg.rf.a723b37dc462dc92b506a588434f7f76.xml  \n",
            "  inflating: cocoa_new/train/img_3006_JPG_jpg.rf.0fadcc35f4edc193f711b4f0066f983c.xml  \n",
            "  inflating: cocoa_new/train/img_2519_JPG_jpg.rf.b82646ccb2edc03343ee7df4e50bbc9a.jpg  \n",
            "  inflating: cocoa_new/train/img_3000_JPG_jpg.rf.8ed2b75cb35f08f0bb567f4e2e46b899.jpg  \n",
            "  inflating: cocoa_new/train/img_1194_JPG_jpg.rf.77679f8f79ab5a92fffb26f72bf5b3b8.xml  \n",
            "  inflating: cocoa_new/train/img_1424_JPG_jpg.rf.0289d7acb86cdda47985b878d5e4296c.xml  \n",
            "  inflating: cocoa_new/train/img_867_JPG_jpg.rf.a2c8e4138c51aadcf0684bd2013c118f.jpg  \n",
            "  inflating: cocoa_new/train/img_3006_JPG_jpg.rf.0fadcc35f4edc193f711b4f0066f983c.jpg  \n",
            "  inflating: cocoa_new/train/img_1340_JPG_jpg.rf.a723b37dc462dc92b506a588434f7f76.jpg  \n",
            "  inflating: cocoa_new/train/img_2519_JPG_jpg.rf.b82646ccb2edc03343ee7df4e50bbc9a.xml  \n",
            "  inflating: cocoa_new/train/img_3000_JPG_jpg.rf.8ed2b75cb35f08f0bb567f4e2e46b899.xml  \n",
            "  inflating: cocoa_new/train/img_1194_JPG_jpg.rf.77679f8f79ab5a92fffb26f72bf5b3b8.jpg  \n",
            "  inflating: cocoa_new/train/img_1424_JPG_jpg.rf.0289d7acb86cdda47985b878d5e4296c.jpg  \n",
            "  inflating: cocoa_new/train/img_867_JPG_jpg.rf.a2c8e4138c51aadcf0684bd2013c118f.xml  \n",
            "  inflating: cocoa_new/train/img_2035_JPG_jpg.rf.eb4126c2bf89440e19dc9d44ea592143.xml  \n",
            "  inflating: cocoa_new/train/img_2382_JPG_jpg.rf.82edc4dffe7d27d5f89c6c059af4be78.xml  \n",
            "  inflating: cocoa_new/train/img_517_JPG_jpg.rf.68efeea92a0a512fed34ca8bc7b54deb.jpg  \n",
            "  inflating: cocoa_new/train/img_347_JPG_jpg.rf.aee26ea994e382e9b9e74d735d979fc0.xml  \n",
            "  inflating: cocoa_new/train/img_371_JPG_jpg.rf.8099f16d842a978e0ad88fbef9a79564.jpg  \n",
            "  inflating: cocoa_new/train/img_603_JPG_jpg.rf.9c8719d97ad1933c89ceba8105067a80.jpg  \n",
            "  inflating: cocoa_new/train/img_2041_JPG_jpg.rf.6a57694883de51b8f06178bfa08c331c.xml  \n",
            "  inflating: cocoa_new/train/img_333_JPG_jpg.rf.54fa235f78dcccc62ef5f05f0c8cfc9f.jpg  \n",
            "  inflating: cocoa_new/train/img_1911_JPG_jpg.rf.ca2cd053f104b3ed66deed1d1c15ec9f.xml  \n",
            "  inflating: cocoa_new/train/img_1998_JPG_jpg.rf.d044b0daa852d01776c9adaadda089cb.xml  \n",
            "  inflating: cocoa_new/train/img_1135_JPG_jpg.rf.964e129b97c4d2d241d5f1c1e406f388.jpg  \n",
            "  inflating: cocoa_new/train/img_2733_JPG_jpg.rf.d6e6103738a67d7174b746408f1f1748.jpg  \n",
            "  inflating: cocoa_new/train/img_1647_JPG_jpg.rf.dc94f541cd2ae643abdc9b9dbeb70e52.xml  \n",
            "  inflating: cocoa_new/train/img_663_JPG_jpg.rf.bd95aa9763d3bb59bfa8fb7573bbe0ee.jpg  \n",
            "  inflating: cocoa_new/train/img_614_JPG_jpg.rf.e60283ce668e277a8101e0c425d8a106.xml  \n",
            "  inflating: cocoa_new/train/img_201_JPG_jpg.rf.39296a41ee6e422069114d6f5ff5f8bf.jpg  \n",
            "  inflating: cocoa_new/train/img_1231_JPG_jpg.rf.71f75a6d73afb324dc1df4aa19283fc0.jpg  \n",
            "  inflating: cocoa_new/train/img_134_JPG_jpg.rf.f9d8c11104bc76f2f90db3bf080d0569.xml  \n",
            "  inflating: cocoa_new/train/img_64_JPG_jpg.rf.0ae480bd9649108170bf1becd03b4fb6.xml  \n",
            "  inflating: cocoa_new/train/img_4058_JPG_jpg.rf.4341c5bc2aa15c3b461797d50095b9f9.xml  \n",
            "  inflating: cocoa_new/train/img_201_JPG_jpg.rf.39296a41ee6e422069114d6f5ff5f8bf.xml  \n",
            "  inflating: cocoa_new/train/img_1231_JPG_jpg.rf.71f75a6d73afb324dc1df4aa19283fc0.xml  \n",
            "  inflating: cocoa_new/train/img_134_JPG_jpg.rf.f9d8c11104bc76f2f90db3bf080d0569.jpg  \n",
            "  inflating: cocoa_new/train/img_64_JPG_jpg.rf.0ae480bd9649108170bf1becd03b4fb6.jpg  \n",
            "  inflating: cocoa_new/train/img_4058_JPG_jpg.rf.4341c5bc2aa15c3b461797d50095b9f9.jpg  \n",
            "  inflating: cocoa_new/train/img_1998_JPG_jpg.rf.d044b0daa852d01776c9adaadda089cb.jpg  \n",
            "  inflating: cocoa_new/train/img_1647_JPG_jpg.rf.dc94f541cd2ae643abdc9b9dbeb70e52.jpg  \n",
            "  inflating: cocoa_new/train/img_2733_JPG_jpg.rf.d6e6103738a67d7174b746408f1f1748.xml  \n",
            "  inflating: cocoa_new/train/img_663_JPG_jpg.rf.bd95aa9763d3bb59bfa8fb7573bbe0ee.xml  \n",
            "  inflating: cocoa_new/train/img_614_JPG_jpg.rf.e60283ce668e277a8101e0c425d8a106.jpg  \n",
            "  inflating: cocoa_new/train/img_1135_JPG_jpg.rf.964e129b97c4d2d241d5f1c1e406f388.xml  \n",
            "  inflating: cocoa_new/train/img_4079_JPG_jpg.rf.e78462dccd08c8f6c2f77956dcda46a4.jpg  \n",
            "  inflating: cocoa_new/train/img_3734_JPG_jpg.rf.3e15d607d277c05892b6ad5a43fccc61.jpg  \n",
            "  inflating: cocoa_new/train/img_667_JPG_jpg.rf.36164bb33f9316b09b4e094852e960d6.xml  \n",
            "  inflating: cocoa_new/train/img_3092_JPG_jpg.rf.38a73088e1d760134814a88761c5f99b.xml  \n",
            "  inflating: cocoa_new/train/img_4149_JPG_jpg.rf.631fc1ac3e7d1ec7d5c593df9ab252e5.jpg  \n",
            "  inflating: cocoa_new/train/img_762_JPG_jpg.rf.cacc0a5ec0b5b224d4a8664af94de3d2.jpg  \n",
            "  inflating: cocoa_new/train/img_2973_JPG_jpg.rf.f70b4bf6ae3f467c98fd2482a27f9e1c.xml  \n",
            "  inflating: cocoa_new/train/img_4023_JPG_jpg.rf.58f9f96ecb00240853a77dfa6488e270.jpg  \n",
            "  inflating: cocoa_new/train/img_3071_JPG_jpg.rf.24c0ee6a49d02e20475a9882822fac8a.xml  \n",
            "  inflating: cocoa_new/train/img_561_JPG_jpg.rf.d741aa0ace7e0aa3648b6e22d5d39509.jpg  \n",
            "  inflating: cocoa_new/train/img_165_JPG_jpg.rf.a5c57848814d43c5930fbb2301bce19c.jpg  \n",
            "  inflating: cocoa_new/train/img_3966_JPG_jpg.rf.e0b23372b5302fbae616e964dd85e22a.jpg  \n",
            "  inflating: cocoa_new/train/img_3167_JPG_jpg.rf.f920a6572f4b1ac75b9b3760d0650566.jpg  \n",
            "  inflating: cocoa_new/train/img_1439_JPG_jpg.rf.c16d4890365cde6fdeb6754add07d1a4.jpg  \n",
            "  inflating: cocoa_new/train/img_1395_JPG_jpg.rf.8563eeddfb94cb5437aa89018c6ea239.xml  \n",
            "  inflating: cocoa_new/train/img_24_JPG_jpg.rf.c0dd132a1cd2046f4022392b3e2f9015.xml  \n",
            "  inflating: cocoa_new/train/img_718_JPG_jpg.rf.e809f4089a0620df6f99bb2435e788f5.xml  \n",
            "  inflating: cocoa_new/train/img_2488_JPG_jpg.rf.7a5cd264af2b99ca85f46387c442786d.xml  \n",
            "  inflating: cocoa_new/train/img_704_JPG_jpg.rf.783d106379e543f63061e8aafaa3c66b.jpg  \n",
            "  inflating: cocoa_new/train/img_3233_JPG_jpg.rf.701014d4a8192b26883cf959ab9f2b97.jpg  \n",
            "  inflating: cocoa_new/train/img_3966_JPG_jpg.rf.e0b23372b5302fbae616e964dd85e22a.xml  \n",
            "  inflating: cocoa_new/train/img_3167_JPG_jpg.rf.f920a6572f4b1ac75b9b3760d0650566.xml  \n",
            "  inflating: cocoa_new/train/img_1439_JPG_jpg.rf.c16d4890365cde6fdeb6754add07d1a4.xml  \n",
            "  inflating: cocoa_new/train/img_1395_JPG_jpg.rf.8563eeddfb94cb5437aa89018c6ea239.jpg  \n",
            "  inflating: cocoa_new/train/img_4023_JPG_jpg.rf.58f9f96ecb00240853a77dfa6488e270.xml  \n",
            "  inflating: cocoa_new/train/img_3071_JPG_jpg.rf.24c0ee6a49d02e20475a9882822fac8a.jpg  \n",
            "  inflating: cocoa_new/train/img_561_JPG_jpg.rf.d741aa0ace7e0aa3648b6e22d5d39509.xml  \n",
            "  inflating: cocoa_new/train/img_165_JPG_jpg.rf.a5c57848814d43c5930fbb2301bce19c.xml  \n",
            "  inflating: cocoa_new/train/img_704_JPG_jpg.rf.783d106379e543f63061e8aafaa3c66b.xml  \n",
            "  inflating: cocoa_new/train/img_3233_JPG_jpg.rf.701014d4a8192b26883cf959ab9f2b97.xml  \n",
            "  inflating: cocoa_new/train/img_718_JPG_jpg.rf.e809f4089a0620df6f99bb2435e788f5.jpg  \n",
            "  inflating: cocoa_new/train/img_24_JPG_jpg.rf.c0dd132a1cd2046f4022392b3e2f9015.jpg  \n",
            "  inflating: cocoa_new/train/img_2488_JPG_jpg.rf.7a5cd264af2b99ca85f46387c442786d.jpg  \n",
            "  inflating: cocoa_new/train/img_667_JPG_jpg.rf.36164bb33f9316b09b4e094852e960d6.jpg  \n",
            "  inflating: cocoa_new/train/img_4079_JPG_jpg.rf.e78462dccd08c8f6c2f77956dcda46a4.xml  \n",
            "  inflating: cocoa_new/train/img_3734_JPG_jpg.rf.3e15d607d277c05892b6ad5a43fccc61.xml  \n",
            "  inflating: cocoa_new/train/img_2973_JPG_jpg.rf.f70b4bf6ae3f467c98fd2482a27f9e1c.jpg  \n",
            "  inflating: cocoa_new/train/img_4149_JPG_jpg.rf.631fc1ac3e7d1ec7d5c593df9ab252e5.xml  \n",
            "  inflating: cocoa_new/train/img_3092_JPG_jpg.rf.38a73088e1d760134814a88761c5f99b.jpg  \n",
            "  inflating: cocoa_new/train/img_762_JPG_jpg.rf.cacc0a5ec0b5b224d4a8664af94de3d2.xml  \n",
            "  inflating: cocoa_new/train/img_3969_JPG_jpg.rf.07e2cf239aec076950a87a21fde5ddc1.jpg  \n",
            "  inflating: cocoa_new/train/img_3634_JPG_jpg.rf.f000471fe73aaeb0b305e58912ccff56.xml  \n",
            "  inflating: cocoa_new/train/img_3137_JPG_jpg.rf.b13638a2b9638499c2aa8fa1c66c69aa.jpg  \n",
            "  inflating: cocoa_new/train/img_2857_JPG_jpg.rf.b45f113dd72c5dd84473a0c0eac1b2e3.xml  \n",
            "  inflating: cocoa_new/train/img_2473_JPG_jpg.rf.1289230f757912b572739edcca2e8619.xml  \n",
            "  inflating: cocoa_new/train/img_645_JPG_jpg.rf.e9ea831f200fc1e849f40802a342f171.xml  \n",
            "  inflating: cocoa_new/train/img_3670_JPG_jpg.rf.2a902d5cefa9e99088cf344534bfbfe2.xml  \n",
            "  inflating: cocoa_new/train/img_3374_JPG_jpg.rf.bb53cda94e18d24cd576a86972baf641.xml  \n",
            "  inflating: cocoa_new/train/img_4015_JPG_jpg.rf.bfe29b33e4e9b4cdb0d5effe91156ab6.xml  \n",
            "  inflating: cocoa_new/train/img_1349_JPG_jpg.rf.49677b10b4019fb43a2a3c84897d245d.jpg  \n",
            "  inflating: cocoa_new/train/img_3281_JPG_jpg.rf.09c8b4fe5518c49d851bb64bce8892fd.xml  \n",
            "  inflating: cocoa_new/train/img_3281_JPG_jpg.rf.09c8b4fe5518c49d851bb64bce8892fd.jpg  \n",
            "  inflating: cocoa_new/train/img_2473_JPG_jpg.rf.1289230f757912b572739edcca2e8619.jpg  \n",
            "  inflating: cocoa_new/train/img_645_JPG_jpg.rf.e9ea831f200fc1e849f40802a342f171.jpg  \n",
            "  inflating: cocoa_new/train/img_3969_JPG_jpg.rf.07e2cf239aec076950a87a21fde5ddc1.xml  \n",
            "  inflating: cocoa_new/train/img_3634_JPG_jpg.rf.f000471fe73aaeb0b305e58912ccff56.jpg  \n",
            "  inflating: cocoa_new/train/img_3137_JPG_jpg.rf.b13638a2b9638499c2aa8fa1c66c69aa.xml  \n",
            "  inflating: cocoa_new/train/img_2857_JPG_jpg.rf.b45f113dd72c5dd84473a0c0eac1b2e3.jpg  \n",
            "  inflating: cocoa_new/train/img_3374_JPG_jpg.rf.bb53cda94e18d24cd576a86972baf641.jpg  \n",
            "  inflating: cocoa_new/train/img_4015_JPG_jpg.rf.bfe29b33e4e9b4cdb0d5effe91156ab6.jpg  \n",
            "  inflating: cocoa_new/train/img_1349_JPG_jpg.rf.49677b10b4019fb43a2a3c84897d245d.xml  \n",
            "  inflating: cocoa_new/train/img_3670_JPG_jpg.rf.2a902d5cefa9e99088cf344534bfbfe2.jpg  \n",
            "  inflating: cocoa_new/train/img_3210_JPG_jpg.rf.c9f4ad25407df5013fde864091abe1f8.xml  \n",
            "  inflating: cocoa_new/train/img_3163_JPG_jpg.rf.1b0a97649b85bb0dcb35d337a35a8112.jpg  \n",
            "  inflating: cocoa_new/train/img_3962_JPG_jpg.rf.8ec9a5134ca1473cd4f0de409687950a.jpg  \n",
            "  inflating: cocoa_new/train/img_432_JPG_jpg.rf.1d589c3e62e3a8674cdbd3489453ed5c.xml  \n",
            "  inflating: cocoa_new/train/img_2644_JPG_jpg.rf.9a68ce83732ad452e8eb8d6702437651.jpg  \n",
            "  inflating: cocoa_new/train/img_1975_JPG_jpg.rf.88d92b76a18ffacae6ea4acee06f01d9.xml  \n",
            "  inflating: cocoa_new/train/img_235_JPG_jpg.rf.3b95216a9a594f8ad680b6476940c3a9.jpg  \n",
            "  inflating: cocoa_new/train/img_3153_JPG_jpg.rf.8ecb3c0273e865738c44819a59956005.jpg  \n",
            "  inflating: cocoa_new/train/img_329_JPG_jpg.rf.5be1bea3b70ea0813b137d856804ee71.jpg  \n",
            "  inflating: cocoa_new/train/img_2554_JPG_jpg.rf.8b3ac2bb227aef234d6740a4bb136e7b.xml  \n",
            "  inflating: cocoa_new/train/img_1358_JPG_jpg.rf.33680511242ba5a9c682362a23ee3cfa.jpg  \n",
            "  inflating: cocoa_new/train/img_2652_JPG_jpg.rf.d5e26764ac34be8fd21bed48be797c3e.jpg  \n",
            "  inflating: cocoa_new/train/img_2590_JPG_jpg.rf.1e38b288ac6b708237322fd963b192a9.xml  \n",
            "  inflating: cocoa_new/train/img_812_JPG_jpg.rf.6960024a0c6b9be49e4ed89257972274.jpg  \n",
            "  inflating: cocoa_new/train/img_306_JPG_jpg.rf.e6536f2826dd93d14d1a1e2a892239f2.jpg  \n",
            "  inflating: cocoa_new/train/img_908_JPG_jpg.rf.f4d7103aa8028a55c9f40915a9dfd3d1.xml  \n",
            "  inflating: cocoa_new/train/img_3328_JPG_jpg.rf.8d216a7732227e3cf39abae4b5c3863a.xml  \n",
            "  inflating: cocoa_new/train/img_3340_JPG_jpg.rf.827778049470219410eee4461d7d4bfa.xml  \n",
            "  inflating: cocoa_new/train/img_1988_JPG_jpg.rf.66280c19396f0d1402eb7a86508cbc3a.jpg  \n",
            "  inflating: cocoa_new/train/img_272_JPG_jpg.rf.2be7764d93c0211202f955c63515d840.xml  \n",
            "  inflating: cocoa_new/train/img_1975_JPG_jpg.rf.88d92b76a18ffacae6ea4acee06f01d9.jpg  \n",
            "  inflating: cocoa_new/train/img_3153_JPG_jpg.rf.8ecb3c0273e865738c44819a59956005.xml  \n",
            "  inflating: cocoa_new/train/img_235_JPG_jpg.rf.3b95216a9a594f8ad680b6476940c3a9.xml  \n",
            "  inflating: cocoa_new/train/img_329_JPG_jpg.rf.5be1bea3b70ea0813b137d856804ee71.xml  \n",
            "  inflating: cocoa_new/train/img_3328_JPG_jpg.rf.8d216a7732227e3cf39abae4b5c3863a.jpg  \n",
            "  inflating: cocoa_new/train/img_3340_JPG_jpg.rf.827778049470219410eee4461d7d4bfa.jpg  \n",
            "  inflating: cocoa_new/train/img_1988_JPG_jpg.rf.66280c19396f0d1402eb7a86508cbc3a.xml  \n",
            "  inflating: cocoa_new/train/img_272_JPG_jpg.rf.2be7764d93c0211202f955c63515d840.jpg  \n",
            "  inflating: cocoa_new/train/img_2554_JPG_jpg.rf.8b3ac2bb227aef234d6740a4bb136e7b.jpg  \n",
            "  inflating: cocoa_new/train/img_1358_JPG_jpg.rf.33680511242ba5a9c682362a23ee3cfa.xml  \n",
            "  inflating: cocoa_new/train/img_2652_JPG_jpg.rf.d5e26764ac34be8fd21bed48be797c3e.xml  \n",
            "  inflating: cocoa_new/train/img_2590_JPG_jpg.rf.1e38b288ac6b708237322fd963b192a9.jpg  \n",
            "  inflating: cocoa_new/train/img_812_JPG_jpg.rf.6960024a0c6b9be49e4ed89257972274.xml  \n",
            "  inflating: cocoa_new/train/img_306_JPG_jpg.rf.e6536f2826dd93d14d1a1e2a892239f2.xml  \n",
            "  inflating: cocoa_new/train/img_908_JPG_jpg.rf.f4d7103aa8028a55c9f40915a9dfd3d1.jpg  \n",
            "  inflating: cocoa_new/train/img_3962_JPG_jpg.rf.8ec9a5134ca1473cd4f0de409687950a.xml  \n",
            "  inflating: cocoa_new/train/img_3210_JPG_jpg.rf.c9f4ad25407df5013fde864091abe1f8.jpg  \n",
            "  inflating: cocoa_new/train/img_3163_JPG_jpg.rf.1b0a97649b85bb0dcb35d337a35a8112.xml  \n",
            "  inflating: cocoa_new/train/img_2644_JPG_jpg.rf.9a68ce83732ad452e8eb8d6702437651.xml  \n",
            "  inflating: cocoa_new/train/img_432_JPG_jpg.rf.1d589c3e62e3a8674cdbd3489453ed5c.jpg  \n",
            "  inflating: cocoa_new/train/img_624_JPG_jpg.rf.350898fa730344db542524b4f88c199f.xml  \n",
            "  inflating: cocoa_new/train/img_803_JPG_jpg.rf.8aeea9f3c17ccad34811331105c05d00.jpg  \n",
            "  inflating: cocoa_new/train/img_2567_JPG_jpg.rf.6245be5ee1821da78ec4fa8d7257cb71.jpg  \n",
            "  inflating: cocoa_new/train/img_3011_JPG_jpg.rf.049c2c30cc96edd9c0ac3ed8a51a4ee4.jpg  \n",
            "  inflating: cocoa_new/train/img_1409_JPG_jpg.rf.9cd3bf640a29b9ca98da77dc07a4c309.jpg  \n",
            "  inflating: cocoa_new/train/img_3659_JPG_jpg.rf.54552ba03da9903813881dda866685c8.xml  \n",
            "  inflating: cocoa_new/train/img_1527_JPG_jpg.rf.dd433d6d0a32cc7074af440931e103cc.xml  \n",
            "  inflating: cocoa_new/train/img_568_JPG_jpg.rf.3c696f725dae52fbdf8813ab5e2bc40e.xml  \n",
            "  inflating: cocoa_new/train/img_1144_JPG_jpg.rf.1957e683921104815c16746712db19af.jpg  \n",
            "  inflating: cocoa_new/train/img_2347_JPG_jpg.rf.0b6663c3d048254894c521877b41c93d.xml  \n",
            "  inflating: cocoa_new/train/img_3493_JPG_jpg.rf.70e828149afc6fbe4f2d5e2daf6e6488.xml  \n",
            "  inflating: cocoa_new/train/img_750_JPG_jpg.rf.b10fa991e077c1fb46ac00b60c0aab4f.jpg  \n",
            "  inflating: cocoa_new/train/img_701_JPG_jpg.rf.365a4a5e0999dfbebe79f113f016df44.jpg  \n",
            "  inflating: cocoa_new/train/img_766_JPG_jpg.rf.6e3f3aad76faab5a9845313ffff01269.xml  \n",
            "  inflating: cocoa_new/train/img_527_JPG_jpg.rf.2ae2479d693b7e72bcabce9719c87cd3.jpg  \n",
            "  inflating: cocoa_new/train/img_4157_JPG_jpg.rf.938b0b4c91d383a7352e4df1db2697a9.jpg  \n",
            "  inflating: cocoa_new/train/img_4003_JPG_jpg.rf.805d1d2d43b04ab8a0f56c23337b770c.xml  \n",
            "  inflating: cocoa_new/train/img_1379_JPG_jpg.rf.299ec0dd575e720dbdcc27ac43dadfc1.xml  \n",
            "  inflating: cocoa_new/train/img_2621_JPG_jpg.rf.9dcadcb55fccd852182471e8a05fc131.xml  \n",
            "  inflating: cocoa_new/train/img_495_JPG_jpg.rf.9f7919c617320dec12af472580c5246f.jpg  \n",
            "  inflating: cocoa_new/train/img_3468_JPG_jpg.rf.4e470b337e67f6a99a1b991d6b6d316d.xml  \n",
            "  inflating: cocoa_new/train/img_2425_JPG_jpg.rf.004809bc2412f47494f341728cdc1117.xml  \n",
            "  inflating: cocoa_new/train/img_4003_JPG_jpg.rf.805d1d2d43b04ab8a0f56c23337b770c.jpg  \n",
            "  inflating: cocoa_new/train/img_1379_JPG_jpg.rf.299ec0dd575e720dbdcc27ac43dadfc1.jpg  \n",
            "  inflating: cocoa_new/train/img_4157_JPG_jpg.rf.938b0b4c91d383a7352e4df1db2697a9.xml  \n",
            "  inflating: cocoa_new/train/img_3468_JPG_jpg.rf.4e470b337e67f6a99a1b991d6b6d316d.jpg  \n",
            "  inflating: cocoa_new/train/img_2425_JPG_jpg.rf.004809bc2412f47494f341728cdc1117.jpg  \n",
            "  inflating: cocoa_new/train/img_2621_JPG_jpg.rf.9dcadcb55fccd852182471e8a05fc131.jpg  \n",
            "  inflating: cocoa_new/train/img_495_JPG_jpg.rf.9f7919c617320dec12af472580c5246f.xml  \n",
            "  inflating: cocoa_new/train/img_3659_JPG_jpg.rf.54552ba03da9903813881dda866685c8.jpg  \n",
            "  inflating: cocoa_new/train/img_1527_JPG_jpg.rf.dd433d6d0a32cc7074af440931e103cc.jpg  \n",
            "  inflating: cocoa_new/train/img_568_JPG_jpg.rf.3c696f725dae52fbdf8813ab5e2bc40e.jpg  \n",
            "  inflating: cocoa_new/train/img_1144_JPG_jpg.rf.1957e683921104815c16746712db19af.xml  \n",
            "  inflating: cocoa_new/train/img_624_JPG_jpg.rf.350898fa730344db542524b4f88c199f.jpg  \n",
            "  inflating: cocoa_new/train/img_803_JPG_jpg.rf.8aeea9f3c17ccad34811331105c05d00.xml  \n",
            "  inflating: cocoa_new/train/img_2567_JPG_jpg.rf.6245be5ee1821da78ec4fa8d7257cb71.xml  \n",
            "  inflating: cocoa_new/train/img_3011_JPG_jpg.rf.049c2c30cc96edd9c0ac3ed8a51a4ee4.xml  \n",
            "  inflating: cocoa_new/train/img_1409_JPG_jpg.rf.9cd3bf640a29b9ca98da77dc07a4c309.xml  \n",
            "  inflating: cocoa_new/train/img_701_JPG_jpg.rf.365a4a5e0999dfbebe79f113f016df44.xml  \n",
            "  inflating: cocoa_new/train/img_527_JPG_jpg.rf.2ae2479d693b7e72bcabce9719c87cd3.xml  \n",
            "  inflating: cocoa_new/train/img_766_JPG_jpg.rf.6e3f3aad76faab5a9845313ffff01269.jpg  \n",
            "  inflating: cocoa_new/train/img_2347_JPG_jpg.rf.0b6663c3d048254894c521877b41c93d.jpg  \n",
            "  inflating: cocoa_new/train/img_3493_JPG_jpg.rf.70e828149afc6fbe4f2d5e2daf6e6488.jpg  \n",
            "  inflating: cocoa_new/train/img_750_JPG_jpg.rf.b10fa991e077c1fb46ac00b60c0aab4f.xml  \n",
            "  inflating: cocoa_new/train/img_3296_JPG_jpg.rf.b3bafcc63bf315f215e8dc09ca09cd86.jpg  \n",
            "  inflating: cocoa_new/train/img_802_JPG_jpg.rf.ef5fcbe8ad58128ff89e5d386bc9a82c.xml  \n",
            "  inflating: cocoa_new/train/img_3441_JPG_jpg.rf.fb28d3817e3b4b63f0b12d1cd63f05b5.xml  \n",
            "  inflating: cocoa_new/train/img_1904_JPG_jpg.rf.a2f3654d36936176dd1f43d16d3d962e.jpg  \n",
            "  inflating: cocoa_new/train/img_1603_JPG_jpg.rf.3e7bc10d3c4994d8949c928e2b074de2.xml  \n",
            "  inflating: cocoa_new/train/img_847_JPG_jpg.rf.b835374490e6e27c6399499c1e176b7a.xml  \n",
            "  inflating: cocoa_new/train/img_402_JPG_jpg.rf.b92526c271d417ed19ba9259cc800ee3.xml  \n",
            "  inflating: cocoa_new/train/img_4160_JPG_jpg.rf.2a161c16a9bda2ba19aae7e9aab548c7.xml  \n",
            "  inflating: cocoa_new/train/img_2583_JPG_jpg.rf.a126fe4d0bf97aba0f556ce78897f96f.xml  \n",
            "  inflating: cocoa_new/train/img_3694_JPG_jpg.rf.f04b9c636022d86425f5daaac7e6968e.jpg  \n",
            "  inflating: cocoa_new/train/img_3656_JPG_jpg.rf.af67d171d9b989fb0d6fe36f78956506.jpg  \n",
            "  inflating: cocoa_new/train/img_3301_JPG_jpg.rf.42412e9e8c5b09884f28ad1137727975.xml  \n",
            "  inflating: cocoa_new/train/img_3087_JPG_jpg.rf.fe2827afe8a7fcd6610bc66d899bd9d2.jpg  \n",
            "  inflating: cocoa_new/train/img_2604_JPG_jpg.rf.83c82c33903aa8e13a219e6543464087.xml  \n",
            "  inflating: cocoa_new/train/img_3644_JPG_jpg.rf.d5bb13882929ae3d8ffe9d722145340d.jpg  \n",
            "  inflating: cocoa_new/train/img_3639_JPG_jpg.rf.f0b39447a782cc133fc1d9a26e420029.xml  \n",
            "  inflating: cocoa_new/train/img_3656_JPG_jpg.rf.af67d171d9b989fb0d6fe36f78956506.xml  \n",
            "  inflating: cocoa_new/train/img_3301_JPG_jpg.rf.42412e9e8c5b09884f28ad1137727975.jpg  \n",
            "  inflating: cocoa_new/train/img_2583_JPG_jpg.rf.a126fe4d0bf97aba0f556ce78897f96f.jpg  \n",
            "  inflating: cocoa_new/train/img_3694_JPG_jpg.rf.f04b9c636022d86425f5daaac7e6968e.xml  \n",
            "  inflating: cocoa_new/train/img_3639_JPG_jpg.rf.f0b39447a782cc133fc1d9a26e420029.jpg  \n",
            "  inflating: cocoa_new/train/img_3644_JPG_jpg.rf.d5bb13882929ae3d8ffe9d722145340d.xml  \n",
            "  inflating: cocoa_new/train/img_3087_JPG_jpg.rf.fe2827afe8a7fcd6610bc66d899bd9d2.xml  \n",
            "  inflating: cocoa_new/train/img_2604_JPG_jpg.rf.83c82c33903aa8e13a219e6543464087.jpg  \n",
            "  inflating: cocoa_new/train/img_1904_JPG_jpg.rf.a2f3654d36936176dd1f43d16d3d962e.xml  \n",
            "  inflating: cocoa_new/train/img_1603_JPG_jpg.rf.3e7bc10d3c4994d8949c928e2b074de2.jpg  \n",
            "  inflating: cocoa_new/train/img_847_JPG_jpg.rf.b835374490e6e27c6399499c1e176b7a.jpg  \n",
            "  inflating: cocoa_new/train/img_3296_JPG_jpg.rf.b3bafcc63bf315f215e8dc09ca09cd86.xml  \n",
            "  inflating: cocoa_new/train/img_802_JPG_jpg.rf.ef5fcbe8ad58128ff89e5d386bc9a82c.jpg  \n",
            "  inflating: cocoa_new/train/img_3441_JPG_jpg.rf.fb28d3817e3b4b63f0b12d1cd63f05b5.jpg  \n",
            "  inflating: cocoa_new/train/img_402_JPG_jpg.rf.b92526c271d417ed19ba9259cc800ee3.jpg  \n",
            "  inflating: cocoa_new/train/img_4160_JPG_jpg.rf.2a161c16a9bda2ba19aae7e9aab548c7.jpg  \n",
            "  inflating: cocoa_new/train/img_3943_JPG_jpg.rf.d7d4f4b87ee1435a2bd3132fcfa2feb6.jpg  \n",
            "  inflating: cocoa_new/train/img_1087_JPG_jpg.rf.d023118616867d61bd969c96df94bedb.xml  \n",
            "  inflating: cocoa_new/train/img_1287_JPG_jpg.rf.960bc26abad908ea0471b55f6eadaf95.jpg  \n",
            "  inflating: cocoa_new/train/img_4075_JPG_jpg.rf.01bd15189468d5e406f4b7db01fb83db.jpg  \n",
            "  inflating: cocoa_new/train/img_2729_JPG_jpg.rf.2c5a8beee70ca0b15655ce74378420ab.xml  \n",
            "  inflating: cocoa_new/train/img_544_JPG_jpg.rf.d689346fed4aaf0bfef300cce33cb3ca.jpg  \n",
            "  inflating: cocoa_new/train/img_1363_JPG_jpg.rf.105f9b1dfc1596851a178353eaf876f9.jpg  \n",
            "  inflating: cocoa_new/train/img_2419_JPG_jpg.rf.3056ce3cfebecb814b21f1898376e560.xml  \n",
            "  inflating: cocoa_new/train/img_3912_JPG_jpg.rf.0bbf7e747cb7819a8f8895ab80ff91ae.jpg  \n",
            "  inflating: cocoa_new/train/img_1849_JPG_jpg.rf.a415fd4117fcb88770f7e351f9eda509.xml  \n",
            "  inflating: cocoa_new/train/img_3779_JPG_jpg.rf.bb9ac6340d0e6d9fc05d7d0d5347c4c3.xml  \n",
            "  inflating: cocoa_new/train/img_4048_JPG_jpg.rf.0326dfc4e670125fef9601b7ed19a7f3.xml  \n",
            "  inflating: cocoa_new/train/img_2613_JPG_jpg.rf.cf2aae0aa36a5b74dcb5cc55964458c3.xml  \n",
            "  inflating: cocoa_new/train/img_3851_JPG_jpg.rf.2463a1a7552fc5140658b07d6d258552.xml  \n",
            "  inflating: cocoa_new/train/img_2027_JPG_jpg.rf.8778efbec1dc94ec71d2433a02de2ff4.xml  \n",
            "  inflating: cocoa_new/train/img_3599_JPG_jpg.rf.d95c6c7e8880f82590f4a519c83724e1.xml  \n",
            "  inflating: cocoa_new/train/img_3779_JPG_jpg.rf.bb9ac6340d0e6d9fc05d7d0d5347c4c3.jpg  \n",
            "  inflating: cocoa_new/train/img_4048_JPG_jpg.rf.0326dfc4e670125fef9601b7ed19a7f3.jpg  \n",
            "  inflating: cocoa_new/train/img_3599_JPG_jpg.rf.d95c6c7e8880f82590f4a519c83724e1.jpg  \n",
            "  inflating: cocoa_new/train/img_2613_JPG_jpg.rf.cf2aae0aa36a5b74dcb5cc55964458c3.jpg  \n",
            "  inflating: cocoa_new/train/img_3851_JPG_jpg.rf.2463a1a7552fc5140658b07d6d258552.jpg  \n",
            "  inflating: cocoa_new/train/img_2027_JPG_jpg.rf.8778efbec1dc94ec71d2433a02de2ff4.jpg  \n",
            "  inflating: cocoa_new/train/img_1087_JPG_jpg.rf.d023118616867d61bd969c96df94bedb.jpg  \n",
            "  inflating: cocoa_new/train/img_1287_JPG_jpg.rf.960bc26abad908ea0471b55f6eadaf95.xml  \n",
            "  inflating: cocoa_new/train/img_4075_JPG_jpg.rf.01bd15189468d5e406f4b7db01fb83db.xml  \n",
            "  inflating: cocoa_new/train/img_544_JPG_jpg.rf.d689346fed4aaf0bfef300cce33cb3ca.xml  \n",
            "  inflating: cocoa_new/train/img_2729_JPG_jpg.rf.2c5a8beee70ca0b15655ce74378420ab.jpg  \n",
            "  inflating: cocoa_new/train/img_1363_JPG_jpg.rf.105f9b1dfc1596851a178353eaf876f9.xml  \n",
            "  inflating: cocoa_new/train/img_2419_JPG_jpg.rf.3056ce3cfebecb814b21f1898376e560.jpg  \n",
            "  inflating: cocoa_new/train/img_3943_JPG_jpg.rf.d7d4f4b87ee1435a2bd3132fcfa2feb6.xml  \n",
            "  inflating: cocoa_new/train/img_1849_JPG_jpg.rf.a415fd4117fcb88770f7e351f9eda509.jpg  \n",
            "  inflating: cocoa_new/train/img_3912_JPG_jpg.rf.0bbf7e747cb7819a8f8895ab80ff91ae.xml  \n",
            "  inflating: cocoa_new/train/img_3264_JPG_jpg.rf.1160f379778645dc575e88994f7afa72.jpg  \n",
            "  inflating: cocoa_new/train/img_3014_JPG_jpg.rf.64525a222e54774a092cd3220704e794.xml  \n",
            "  inflating: cocoa_new/train/img_3621_JPG_jpg.rf.7b77f5557e532784bd98d8000807ce5d.xml  \n",
            "  inflating: cocoa_new/train/img_1101_JPG_jpg.rf.1ac6f3aacdf012182d99dee29cdcc894.jpg  \n",
            "  inflating: cocoa_new/train/img_3362_JPG_jpg.rf.49e1a4f5c6149f6d13ca7b99684490e5.xml  \n",
            "  inflating: cocoa_new/train/img_697_JPG_jpg.rf.150b8cd9adc7b3269e70dd7865f37f80.xml  \n",
            "  inflating: cocoa_new/train/img_335_JPG_jpg.rf.96c4159cfc708337fdc5f060396a8dac.jpg  \n",
            "  inflating: cocoa_new/train/img_3194_JPG_jpg.rf.d47317220903d6f63d58c6c2419b5a7f.xml  \n",
            "  inflating: cocoa_new/train/img_576_JPG_jpg.rf.aba4d995df290fcbf0d28caa920d2751.xml  \n",
            "  inflating: cocoa_new/train/img_3986_JPG_jpg.rf.c57cd086dd1245525a63b7c5872a2f26.jpg  \n",
            "  inflating: cocoa_new/train/img_3032_JPG_jpg.rf.6dce004a99a3b6acb7fcd96d1f5c9dce.xml  \n",
            "  inflating: cocoa_new/train/img_697_JPG_jpg.rf.150b8cd9adc7b3269e70dd7865f37f80.jpg  \n",
            "  inflating: cocoa_new/train/img_335_JPG_jpg.rf.96c4159cfc708337fdc5f060396a8dac.xml  \n",
            "  inflating: cocoa_new/train/img_3194_JPG_jpg.rf.d47317220903d6f63d58c6c2419b5a7f.jpg  \n",
            "  inflating: cocoa_new/train/img_3032_JPG_jpg.rf.6dce004a99a3b6acb7fcd96d1f5c9dce.jpg  \n",
            "  inflating: cocoa_new/train/img_576_JPG_jpg.rf.aba4d995df290fcbf0d28caa920d2751.jpg  \n",
            "  inflating: cocoa_new/train/img_3986_JPG_jpg.rf.c57cd086dd1245525a63b7c5872a2f26.xml  \n",
            "  inflating: cocoa_new/train/img_3264_JPG_jpg.rf.1160f379778645dc575e88994f7afa72.xml  \n",
            "  inflating: cocoa_new/train/img_3362_JPG_jpg.rf.49e1a4f5c6149f6d13ca7b99684490e5.jpg  \n",
            "  inflating: cocoa_new/train/img_3014_JPG_jpg.rf.64525a222e54774a092cd3220704e794.jpg  \n",
            "  inflating: cocoa_new/train/img_3621_JPG_jpg.rf.7b77f5557e532784bd98d8000807ce5d.jpg  \n",
            "  inflating: cocoa_new/train/img_1101_JPG_jpg.rf.1ac6f3aacdf012182d99dee29cdcc894.xml  \n",
            "  inflating: cocoa_new/train/img_1443_JPG_jpg.rf.73c62b6455206f64ce37030bebcc8da5.jpg  \n",
            "  inflating: cocoa_new/train/img_1273_JPG_jpg.rf.021c63024ebbdae6125b004062a0b93a.jpg  \n",
            "  inflating: cocoa_new/train/img_832_JPG_jpg.rf.332b3982d66b476485540920fa73f33b.jpg  \n",
            "  inflating: cocoa_new/train/img_1291_JPG_jpg.rf.afcd0fd1d93423603ce149de01876085.jpg  \n",
            "  inflating: cocoa_new/train/img_3288_JPG_jpg.rf.1761ddf961a9e8403f4e9d69a6001065.jpg  \n",
            "  inflating: cocoa_new/train/img_3385_JPG_jpg.rf.a2825fcdb86f624d76fbdb131547b51d.jpg  \n",
            "  inflating: cocoa_new/train/img_3195_JPG_jpg.rf.316123070c289d7bff11ddeb4c5df039.jpg  \n",
            "  inflating: cocoa_new/train/img_1189_JPG_jpg.rf.acd2c4f799a2a7e51292fa76d52ebf22.jpg  \n",
            "  inflating: cocoa_new/train/img_1885_JPG_jpg.rf.79a3b7f67736c2f4d46afebaf896360e.xml  \n",
            "  inflating: cocoa_new/train/img_3001_JPG_jpg.rf.e2f966144a8605fef0e89f9d75ba5407.jpg  \n",
            "  inflating: cocoa_new/train/img_3723_JPG_jpg.rf.669537caf927186e26d09f039fc4e4a5.xml  \n",
            "  inflating: cocoa_new/train/img_1376_JPG_jpg.rf.02b6bde27c4a7918d0b49508925f1c40.jpg  \n",
            "  inflating: cocoa_new/train/img_1931_JPG_jpg.rf.5b6229ac546934f84e53270922317ebc.jpg  \n",
            "  inflating: cocoa_new/train/img_3290_JPG_jpg.rf.a60185bdb90fa2f4e6cbbc38dce38aea.xml  \n",
            "  inflating: cocoa_new/train/img_2551_JPG_jpg.rf.7d31d0225a4574db05784655e9879a4d.xml  \n",
            "  inflating: cocoa_new/train/img_3873_JPG_jpg.rf.bacd4a6a0267191e06455a89169c6fe4.jpg  \n",
            "  inflating: cocoa_new/train/img_655_JPG_jpg.rf.60d4fa95414e4ce1a8925e884f0900a7.xml  \n",
            "  inflating: cocoa_new/train/img_3701_JPG_jpg.rf.dcfaa02530ae0e739813f440b57e03df.jpg  \n",
            "  inflating: cocoa_new/train/img_3811_JPG_jpg.rf.5f2c242abc59caa9c99ad8260cae3e7d.xml  \n",
            "  inflating: cocoa_new/train/img_3331_JPG_jpg.rf.879156185dff43fdd213837520e1e08b.jpg  \n",
            "  inflating: cocoa_new/train/img_2940_JPG_jpg.rf.4f406e2874533fb2328041d5fa4e8e9f.jpg  \n",
            "  inflating: cocoa_new/train/img_4078_JPG_jpg.rf.b784a7510619fae80fe30df0d60e469b.jpg  \n",
            "  inflating: cocoa_new/train/img_2551_JPG_jpg.rf.7d31d0225a4574db05784655e9879a4d.jpg  \n",
            "  inflating: cocoa_new/train/img_3873_JPG_jpg.rf.bacd4a6a0267191e06455a89169c6fe4.xml  \n",
            "  inflating: cocoa_new/train/img_3701_JPG_jpg.rf.dcfaa02530ae0e739813f440b57e03df.xml  \n",
            "  inflating: cocoa_new/train/img_655_JPG_jpg.rf.60d4fa95414e4ce1a8925e884f0900a7.jpg  \n",
            "  inflating: cocoa_new/train/img_1931_JPG_jpg.rf.5b6229ac546934f84e53270922317ebc.xml  \n",
            "  inflating: cocoa_new/train/img_3290_JPG_jpg.rf.a60185bdb90fa2f4e6cbbc38dce38aea.jpg  \n",
            "  inflating: cocoa_new/train/img_4078_JPG_jpg.rf.b784a7510619fae80fe30df0d60e469b.xml  \n",
            "  inflating: cocoa_new/train/img_3811_JPG_jpg.rf.5f2c242abc59caa9c99ad8260cae3e7d.jpg  \n",
            "  inflating: cocoa_new/train/img_3331_JPG_jpg.rf.879156185dff43fdd213837520e1e08b.xml  \n",
            "  inflating: cocoa_new/train/img_2940_JPG_jpg.rf.4f406e2874533fb2328041d5fa4e8e9f.xml  \n",
            "  inflating: cocoa_new/train/img_832_JPG_jpg.rf.332b3982d66b476485540920fa73f33b.xml  \n",
            "  inflating: cocoa_new/train/img_1273_JPG_jpg.rf.021c63024ebbdae6125b004062a0b93a.xml  \n",
            "  inflating: cocoa_new/train/img_3288_JPG_jpg.rf.1761ddf961a9e8403f4e9d69a6001065.xml  \n",
            "  inflating: cocoa_new/train/img_1291_JPG_jpg.rf.afcd0fd1d93423603ce149de01876085.xml  \n",
            "  inflating: cocoa_new/train/img_1443_JPG_jpg.rf.73c62b6455206f64ce37030bebcc8da5.xml  \n",
            "  inflating: cocoa_new/train/img_3723_JPG_jpg.rf.669537caf927186e26d09f039fc4e4a5.jpg  \n",
            "  inflating: cocoa_new/train/img_1376_JPG_jpg.rf.02b6bde27c4a7918d0b49508925f1c40.xml  \n",
            "  inflating: cocoa_new/train/img_3385_JPG_jpg.rf.a2825fcdb86f624d76fbdb131547b51d.xml  \n",
            "  inflating: cocoa_new/train/img_3195_JPG_jpg.rf.316123070c289d7bff11ddeb4c5df039.xml  \n",
            "  inflating: cocoa_new/train/img_1189_JPG_jpg.rf.acd2c4f799a2a7e51292fa76d52ebf22.xml  \n",
            "  inflating: cocoa_new/train/img_1885_JPG_jpg.rf.79a3b7f67736c2f4d46afebaf896360e.jpg  \n",
            "  inflating: cocoa_new/train/img_3001_JPG_jpg.rf.e2f966144a8605fef0e89f9d75ba5407.xml  \n",
            "  inflating: cocoa_new/train/img_2713_JPG_jpg.rf.07416f4664505e0a54c6d19a0fa0eac9.jpg  \n",
            "  inflating: cocoa_new/train/img_1411_JPG_jpg.rf.1893e1cfff0aafdb4ce5f4ad31ea98d5.jpg  \n",
            "  inflating: cocoa_new/train/img_2939_JPG_jpg.rf.50fe7d37e7c8aa7a8620056da327a676.xml  \n",
            "  inflating: cocoa_new/train/img_3_JPG_jpg.rf.af2a632c3128240473d3e914f9f78231.xml  \n",
            "  inflating: cocoa_new/train/img_1299_JPG_jpg.rf.e7a6010c257791184110b8f1abc374d9.xml  \n",
            "  inflating: cocoa_new/train/img_2496_JPG_jpg.rf.35d2c7fa257428ce945fe2c386ed94a6.xml  \n",
            "  inflating: cocoa_new/train/img_29_JPG_jpg.rf.d16f65677b21a9c0cf402ea48d99b22e.jpg  \n",
            "  inflating: cocoa_new/train/img_3030_JPG_jpg.rf.83ba30e70d948b66d184e2127962d485.jpg  \n",
            "  inflating: cocoa_new/train/img_1131_JPG_jpg.rf.8ede21e6486b261087c04ab728e1b0e2.jpg  \n",
            "  inflating: cocoa_new/train/img_3697_JPG_jpg.rf.339e485a62bd56abe0af8ccd13a6a54e.xml  \n",
            "  inflating: cocoa_new/train/img_3571_JPG_jpg.rf.5fa6c99c1a1aa037b27e0c7ea310643d.jpg  \n",
            "  inflating: cocoa_new/train/img_3089_JPG_jpg.rf.e4a2993b16ff01d2ff98b716ee410b54.xml  \n",
            "  inflating: cocoa_new/train/img_4068_JPG_jpg.rf.480c19a4d4e6ca87828c481f722c4887.jpg  \n",
            "  inflating: cocoa_new/train/img_3065_JPG_jpg.rf.be63d3e530ac62ce7aa1802c479e07e4.xml  \n",
            "  inflating: cocoa_new/train/img_3452_JPG_jpg.rf.4ba8b68394128ad69fe16497d8789e57.jpg  \n",
            "  inflating: cocoa_new/train/img_2305_JPG_jpg.rf.44c65cdc7086b60add6642a030cf1b27.jpg  \n",
            "  inflating: cocoa_new/train/img_763_JPG_jpg.rf.fd5170eefed102e29f37182c668a79fa.jpg  \n",
            "  inflating: cocoa_new/train/img_3030_JPG_jpg.rf.83ba30e70d948b66d184e2127962d485.xml  \n",
            "  inflating: cocoa_new/train/img_1131_JPG_jpg.rf.8ede21e6486b261087c04ab728e1b0e2.xml  \n",
            "  inflating: cocoa_new/train/img_3697_JPG_jpg.rf.339e485a62bd56abe0af8ccd13a6a54e.jpg  \n",
            "  inflating: cocoa_new/train/img_3089_JPG_jpg.rf.e4a2993b16ff01d2ff98b716ee410b54.jpg  \n",
            "  inflating: cocoa_new/train/img_4068_JPG_jpg.rf.480c19a4d4e6ca87828c481f722c4887.xml  \n",
            "  inflating: cocoa_new/train/img_3571_JPG_jpg.rf.5fa6c99c1a1aa037b27e0c7ea310643d.xml  \n",
            "  inflating: cocoa_new/train/img_29_JPG_jpg.rf.d16f65677b21a9c0cf402ea48d99b22e.xml  \n",
            "  inflating: cocoa_new/train/img_2305_JPG_jpg.rf.44c65cdc7086b60add6642a030cf1b27.xml  \n",
            "  inflating: cocoa_new/train/img_763_JPG_jpg.rf.fd5170eefed102e29f37182c668a79fa.xml  \n",
            "  inflating: cocoa_new/train/img_3065_JPG_jpg.rf.be63d3e530ac62ce7aa1802c479e07e4.jpg  \n",
            "  inflating: cocoa_new/train/img_3452_JPG_jpg.rf.4ba8b68394128ad69fe16497d8789e57.xml  \n",
            "  inflating: cocoa_new/train/img_2939_JPG_jpg.rf.50fe7d37e7c8aa7a8620056da327a676.jpg  \n",
            "  inflating: cocoa_new/train/img_1411_JPG_jpg.rf.1893e1cfff0aafdb4ce5f4ad31ea98d5.xml  \n",
            "  inflating: cocoa_new/train/img_2713_JPG_jpg.rf.07416f4664505e0a54c6d19a0fa0eac9.xml  \n",
            "  inflating: cocoa_new/train/img_3_JPG_jpg.rf.af2a632c3128240473d3e914f9f78231.jpg  \n",
            "  inflating: cocoa_new/train/img_2496_JPG_jpg.rf.35d2c7fa257428ce945fe2c386ed94a6.jpg  \n",
            "  inflating: cocoa_new/train/img_1299_JPG_jpg.rf.e7a6010c257791184110b8f1abc374d9.jpg  \n",
            "  inflating: cocoa_new/train/img_3903_JPG_jpg.rf.039873189d3af221db08cc70214d3918.xml  \n",
            "  inflating: cocoa_new/train/img_1354_JPG_jpg.rf.7dbeceef9a1cef89bc9ceb1c0c79db0c.jpg  \n",
            "  inflating: cocoa_new/train/img_3808_JPG_jpg.rf.42347d008d2d62ad796e1d5c10f691de.xml  \n",
            "  inflating: cocoa_new/train/img_2720_JPG_jpg.rf.722c96a9ad5d4bb0950f75d02040f012.jpg  \n",
            "  inflating: cocoa_new/train/img_1450_JPG_jpg.rf.b2e612429f8c6d17bb3c3867fcd9d03b.xml  \n",
            "  inflating: cocoa_new/train/img_3342_JPG_jpg.rf.96b33f19e95956f792b5f203797292cc.xml  \n",
            "  inflating: cocoa_new/train/img_1246_JPG_jpg.rf.be3c1ed6d0606b65057483fa04bb6e68.xml  \n",
            "  inflating: cocoa_new/train/img_3603_JPG_jpg.rf.7df3e29fa717a43047df8cb14abed4ae.xml  \n",
            "  inflating: cocoa_new/train/img_1175_JPG_jpg.rf.53cc309231e84160a4d507f456e2dcb2.jpg  \n",
            "  inflating: cocoa_new/train/img_3630_JPG_jpg.rf.3c0b150aeb5a4c5a00cab0a9c67e4ec6.xml  \n",
            "  inflating: cocoa_new/train/img_3521_JPG_jpg.rf.79fc05573994454d0284ca7bec3ac8ae.xml  \n",
            "  inflating: cocoa_new/train/img_2734_JPG_jpg.rf.efd9b82bf3dc64e24f8a490275b3dd2a.xml  \n",
            "  inflating: cocoa_new/train/img_403_JPG_jpg.rf.b4b028eb52e4451d4d0b2ed9581dce6c.xml  \n",
            "  inflating: cocoa_new/train/img_393_JPG_jpg.rf.f1500f75e8d5fb1fe02e5d322b3fb630.xml  \n",
            "  inflating: cocoa_new/train/img_4067_JPG_jpg.rf.7a0547d2113fa59fbf71597e3450c584.jpg  \n",
            "  inflating: cocoa_new/train/img_3521_JPG_jpg.rf.79fc05573994454d0284ca7bec3ac8ae.jpg  \n",
            "  inflating: cocoa_new/train/img_2734_JPG_jpg.rf.efd9b82bf3dc64e24f8a490275b3dd2a.jpg  \n",
            "  inflating: cocoa_new/train/img_3630_JPG_jpg.rf.3c0b150aeb5a4c5a00cab0a9c67e4ec6.jpg  \n",
            "  inflating: cocoa_new/train/img_403_JPG_jpg.rf.b4b028eb52e4451d4d0b2ed9581dce6c.jpg  \n",
            "  inflating: cocoa_new/train/img_393_JPG_jpg.rf.f1500f75e8d5fb1fe02e5d322b3fb630.jpg  \n",
            "  inflating: cocoa_new/train/img_4067_JPG_jpg.rf.7a0547d2113fa59fbf71597e3450c584.xml  \n",
            "  inflating: cocoa_new/train/img_3808_JPG_jpg.rf.42347d008d2d62ad796e1d5c10f691de.jpg  \n",
            "  inflating: cocoa_new/train/img_2720_JPG_jpg.rf.722c96a9ad5d4bb0950f75d02040f012.xml  \n",
            "  inflating: cocoa_new/train/img_3903_JPG_jpg.rf.039873189d3af221db08cc70214d3918.jpg  \n",
            "  inflating: cocoa_new/train/img_1354_JPG_jpg.rf.7dbeceef9a1cef89bc9ceb1c0c79db0c.xml  \n",
            "  inflating: cocoa_new/train/img_3603_JPG_jpg.rf.7df3e29fa717a43047df8cb14abed4ae.jpg  \n",
            "  inflating: cocoa_new/train/img_1175_JPG_jpg.rf.53cc309231e84160a4d507f456e2dcb2.xml  \n",
            "  inflating: cocoa_new/train/img_1450_JPG_jpg.rf.b2e612429f8c6d17bb3c3867fcd9d03b.jpg  \n",
            "  inflating: cocoa_new/train/img_3342_JPG_jpg.rf.96b33f19e95956f792b5f203797292cc.jpg  \n",
            "  inflating: cocoa_new/train/img_1246_JPG_jpg.rf.be3c1ed6d0606b65057483fa04bb6e68.jpg  \n",
            "  inflating: cocoa_new/train/img_796_JPG_jpg.rf.547ffe8d68abb17f382927c255b308ad.jpg  \n",
            "  inflating: cocoa_new/train/img_1444_JPG_jpg.rf.e4c38c97f589e6ef92e1a9ab74135fe5.jpg  \n",
            "  inflating: cocoa_new/train/img_1799_JPG_jpg.rf.c106d89a7a218b4406cadce12b222b47.jpg  \n",
            "  inflating: cocoa_new/train/img_2370_JPG_jpg.rf.431510dd17393ff4df64861e611aaccd.jpg  \n",
            "  inflating: cocoa_new/train/img_3408_JPG_jpg.rf.774d3b3959304312bfd6fb9eb95e509c.jpg  \n",
            "  inflating: cocoa_new/train/img_650_JPG_jpg.rf.a1d7465e7c9a395f087d69e1c8be83b4.xml  \n",
            "  inflating: cocoa_new/train/img_1136_JPG_jpg.rf.537f65177f8f204555feb981bd1d2095.jpg  \n",
            "  inflating: cocoa_new/train/img_3607_JPG_jpg.rf.661b4d24cdd18625eedf39aa5310e12b.xml  \n",
            "  inflating: cocoa_new/train/img_2557_JPG_jpg.rf.0c5cd077ca9acaa150bd0b584be13f49.xml  \n",
            "  inflating: cocoa_new/train/img_390_JPG_jpg.rf.6b5a70351737a85b73037b63d23e3d67.jpg  \n",
            "  inflating: cocoa_new/train/img_1348_JPG_jpg.rf.b4e4b3279737283d54f82e56a26a04d9.xml  \n",
            "  inflating: cocoa_new/train/img_121_JPG_jpg.rf.c61e901cadc00932dcff0a9c91f4cebb.jpg  \n",
            "  inflating: cocoa_new/train/img_2484_JPG_jpg.rf.153c86afec5ca432eb6a225524c8d6ae.xml  \n",
            "  inflating: cocoa_new/train/img_1129_JPG_jpg.rf.80b31db4e9e33e5347ab49a997a4c35d.xml  \n",
            "  inflating: cocoa_new/train/img_3017_JPG_jpg.rf.ce900616dc50a884cb46fb895b4a31b6.xml  \n",
            "  inflating: cocoa_new/train/img_692_JPG_jpg.rf.5af98a4e5e8b52ecfae18a4fab4b2583.xml  \n",
            "  inflating: cocoa_new/train/img_1921_JPG_jpg.rf.ebd9be3a06e25195218dde3ec07a0fb7.xml  \n",
            "  inflating: cocoa_new/train/img_3915_JPG_jpg.rf.432e31864867e002852a1b8ebb945340.jpg  \n",
            "  inflating: cocoa_new/train/img_3773_JPG_jpg.rf.a4fd25f3e10303e51b4e67e23d5fec3e.xml  \n",
            "  inflating: cocoa_new/train/img_264_JPG_jpg.rf.de77d3bed8bdcc0b6193292622df9a65.jpg  \n",
            "  inflating: cocoa_new/train/img_1228_JPG_jpg.rf.955d378f0b6ec1e73017250735af45de.jpg  \n",
            "  inflating: cocoa_new/train/img_121_JPG_jpg.rf.c61e901cadc00932dcff0a9c91f4cebb.xml  \n",
            "  inflating: cocoa_new/train/img_2484_JPG_jpg.rf.153c86afec5ca432eb6a225524c8d6ae.jpg  \n",
            "  inflating: cocoa_new/train/img_390_JPG_jpg.rf.6b5a70351737a85b73037b63d23e3d67.xml  \n",
            "  inflating: cocoa_new/train/img_1348_JPG_jpg.rf.b4e4b3279737283d54f82e56a26a04d9.jpg  \n",
            "  inflating: cocoa_new/train/img_3773_JPG_jpg.rf.a4fd25f3e10303e51b4e67e23d5fec3e.jpg  \n",
            "  inflating: cocoa_new/train/img_264_JPG_jpg.rf.de77d3bed8bdcc0b6193292622df9a65.xml  \n",
            "  inflating: cocoa_new/train/img_1228_JPG_jpg.rf.955d378f0b6ec1e73017250735af45de.xml  \n",
            "  inflating: cocoa_new/train/img_1129_JPG_jpg.rf.80b31db4e9e33e5347ab49a997a4c35d.jpg  \n",
            "  inflating: cocoa_new/train/img_3017_JPG_jpg.rf.ce900616dc50a884cb46fb895b4a31b6.jpg  \n",
            "  inflating: cocoa_new/train/img_692_JPG_jpg.rf.5af98a4e5e8b52ecfae18a4fab4b2583.jpg  \n",
            "  inflating: cocoa_new/train/img_1921_JPG_jpg.rf.ebd9be3a06e25195218dde3ec07a0fb7.jpg  \n",
            "  inflating: cocoa_new/train/img_3915_JPG_jpg.rf.432e31864867e002852a1b8ebb945340.xml  \n",
            "  inflating: cocoa_new/train/img_2370_JPG_jpg.rf.431510dd17393ff4df64861e611aaccd.xml  \n",
            "  inflating: cocoa_new/train/img_796_JPG_jpg.rf.547ffe8d68abb17f382927c255b308ad.xml  \n",
            "  inflating: cocoa_new/train/img_1444_JPG_jpg.rf.e4c38c97f589e6ef92e1a9ab74135fe5.xml  \n",
            "  inflating: cocoa_new/train/img_1799_JPG_jpg.rf.c106d89a7a218b4406cadce12b222b47.xml  \n",
            "  inflating: cocoa_new/train/img_1136_JPG_jpg.rf.537f65177f8f204555feb981bd1d2095.xml  \n",
            "  inflating: cocoa_new/train/img_3607_JPG_jpg.rf.661b4d24cdd18625eedf39aa5310e12b.jpg  \n",
            "  inflating: cocoa_new/train/img_2557_JPG_jpg.rf.0c5cd077ca9acaa150bd0b584be13f49.jpg  \n",
            "  inflating: cocoa_new/train/img_3408_JPG_jpg.rf.774d3b3959304312bfd6fb9eb95e509c.xml  \n",
            "  inflating: cocoa_new/train/img_650_JPG_jpg.rf.a1d7465e7c9a395f087d69e1c8be83b4.jpg  \n",
            "  inflating: cocoa_new/train/img_4158_JPG_jpg.rf.9eaf7d46208e7b400f8cd6adf3e4e97c.jpg  \n",
            "  inflating: cocoa_new/train/img_3462_JPG_jpg.rf.c7b0f56d62364df5a8eb607d28e400e9.jpg  \n",
            "  inflating: cocoa_new/train/img_3048_JPG_jpg.rf.ae3085de884726c5f21154737e8ab9c1.jpg  \n",
            "  inflating: cocoa_new/train/img_4118_JPG_jpg.rf.5d12cc520365d80fa5dc99b22b688fda.jpg  \n",
            "  inflating: cocoa_new/train/img_337_JPG_jpg.rf.ef9567dd5dd496d355ec0374ddb45be0.jpg  \n",
            "  inflating: cocoa_new/train/img_1185_JPG_jpg.rf.a89a83b41a19636651ecbe8f532fe4e5.xml  \n",
            "  inflating: cocoa_new/train/img_1880_JPG_jpg.rf.a5c32dea1b8c328bee1066cc71c9abea.jpg  \n",
            "  inflating: cocoa_new/train/img_3253_JPG_jpg.rf.908e7f797c7bd89dad38b4ec04c49ab4.jpg  \n",
            "  inflating: cocoa_new/train/img_343_JPG_jpg.rf.f19252875d09ebfce25e4bb1dbbed7b5.xml  \n",
            "  inflating: cocoa_new/train/img_499_JPG_jpg.rf.71d623a45c20ded70903947128ebfc4c.jpg  \n",
            "  inflating: cocoa_new/train/img_1210_JPG_jpg.rf.d22aff51c2fff8e72e3871a1d952372c.jpg  \n",
            "  inflating: cocoa_new/train/img_1851_JPG_jpg.rf.7ffbc4a825a8291175ba66c3e629a9c1.xml  \n",
            "  inflating: cocoa_new/train/img_266_JPG_jpg.rf.dc74c28359efa521b2a40d942862cfb9.jpg  \n",
            "  inflating: cocoa_new/train/img_2424_JPG_jpg.rf.215fda6a38fccf999bb5b55792836705.jpg  \n",
            "  inflating: cocoa_new/train/img_683_JPG_jpg.rf.9f448fd7809720084f094dcf192c99f9.jpg  \n",
            "  inflating: cocoa_new/train/img_3988_JPG_jpg.rf.42c3880fe5946e98daab6b348486d0ce.xml  \n",
            "  inflating: cocoa_new/train/img_436_JPG_jpg.rf.57877978bdcdef2011d33253da5812e2.xml  \n",
            "  inflating: cocoa_new/train/img_1519_JPG_jpg.rf.4bfd75a36ba748547029ee4494e1b4ee.jpg  \n",
            "  inflating: cocoa_new/train/img_499_JPG_jpg.rf.71d623a45c20ded70903947128ebfc4c.xml  \n",
            "  inflating: cocoa_new/train/img_1210_JPG_jpg.rf.d22aff51c2fff8e72e3871a1d952372c.xml  \n",
            "  inflating: cocoa_new/train/img_1851_JPG_jpg.rf.7ffbc4a825a8291175ba66c3e629a9c1.jpg  \n",
            "  inflating: cocoa_new/train/img_1880_JPG_jpg.rf.a5c32dea1b8c328bee1066cc71c9abea.xml  \n",
            "  inflating: cocoa_new/train/img_3253_JPG_jpg.rf.908e7f797c7bd89dad38b4ec04c49ab4.xml  \n",
            "  inflating: cocoa_new/train/img_343_JPG_jpg.rf.f19252875d09ebfce25e4bb1dbbed7b5.jpg  \n",
            "  inflating: cocoa_new/train/img_683_JPG_jpg.rf.9f448fd7809720084f094dcf192c99f9.xml  \n",
            "  inflating: cocoa_new/train/img_3988_JPG_jpg.rf.42c3880fe5946e98daab6b348486d0ce.jpg  \n",
            "  inflating: cocoa_new/train/img_436_JPG_jpg.rf.57877978bdcdef2011d33253da5812e2.jpg  \n",
            "  inflating: cocoa_new/train/img_1519_JPG_jpg.rf.4bfd75a36ba748547029ee4494e1b4ee.xml  \n",
            "  inflating: cocoa_new/train/img_266_JPG_jpg.rf.dc74c28359efa521b2a40d942862cfb9.xml  \n",
            "  inflating: cocoa_new/train/img_2424_JPG_jpg.rf.215fda6a38fccf999bb5b55792836705.xml  \n",
            "  inflating: cocoa_new/train/img_337_JPG_jpg.rf.ef9567dd5dd496d355ec0374ddb45be0.xml  \n",
            "  inflating: cocoa_new/train/img_1185_JPG_jpg.rf.a89a83b41a19636651ecbe8f532fe4e5.jpg  \n",
            "  inflating: cocoa_new/train/img_4158_JPG_jpg.rf.9eaf7d46208e7b400f8cd6adf3e4e97c.xml  \n",
            "  inflating: cocoa_new/train/img_3462_JPG_jpg.rf.c7b0f56d62364df5a8eb607d28e400e9.xml  \n",
            "  inflating: cocoa_new/train/img_3048_JPG_jpg.rf.ae3085de884726c5f21154737e8ab9c1.xml  \n",
            "  inflating: cocoa_new/train/img_4118_JPG_jpg.rf.5d12cc520365d80fa5dc99b22b688fda.xml  \n",
            "  inflating: cocoa_new/train/img_3948_JPG_jpg.rf.4a4be01a68c9d2cf81cf267e7782a3fc.xml  \n",
            "  inflating: cocoa_new/train/img_3483_JPG_jpg.rf.22e694fef772338dc700702f0925cb4c.jpg  \n",
            "  inflating: cocoa_new/train/img_494_JPG_jpg.rf.77c890917d53f544d16bffac7a9917b3.jpg  \n",
            "  inflating: cocoa_new/train/img_896_JPG_jpg.rf.d4d6aa6c8519f723e607b1631b9cb945.jpg  \n",
            "  inflating: cocoa_new/train/img_3080_JPG_jpg.rf.c945839320f227c570071d3e4455ce55.jpg  \n",
            "  inflating: cocoa_new/train/img_3242_JPG_jpg.rf.8c08ad516d1682ae9a2f746f90f7abd2.xml  \n",
            "  inflating: cocoa_new/train/img_3868_JPG_jpg.rf.0ce870f2ff65f743e3762df9730b35d1.jpg  \n",
            "  inflating: cocoa_new/train/img_290_JPG_jpg.rf.68aba75ba36d3697d5faf8263bd0b14d.jpg  \n",
            "  inflating: cocoa_new/train/img_308_JPG_jpg.rf.d80bfed4bbeac6024b2270fa47108d4c.jpg  \n",
            "  inflating: cocoa_new/train/img_2555_JPG_jpg.rf.c5d4820c783a01627121efdff03ad9ec.xml  \n",
            "  inflating: cocoa_new/train/img_3021_JPG_jpg.rf.c38c2341969bb6a195a551c33094f683.xml  \n",
            "  inflating: cocoa_new/train/img_1570_JPG_jpg.rf.446dbb5da4c59ce99fccf2056bc65ec1.jpg  \n",
            "  inflating: cocoa_new/train/img_37_JPG_jpg.rf.69ecf538c945b2a1c0bfa81387a7539e.jpg  \n",
            "  inflating: cocoa_new/train/img_439_JPG_jpg.rf.f2da4f1fc586b70cf6679b82a1e7ee16.jpg  \n",
            "  inflating: cocoa_new/train/img_3275_JPG_jpg.rf.679c31aff3bec67f3bdd68cafe536181.xml  \n",
            "  inflating: cocoa_new/train/img_597_JPG_jpg.rf.cde0688f85a09c95550587d5f323d1df.xml  \n",
            "  inflating: cocoa_new/train/img_3868_JPG_jpg.rf.0ce870f2ff65f743e3762df9730b35d1.xml  \n",
            "  inflating: cocoa_new/train/img_290_JPG_jpg.rf.68aba75ba36d3697d5faf8263bd0b14d.xml  \n",
            "  inflating: cocoa_new/train/img_308_JPG_jpg.rf.d80bfed4bbeac6024b2270fa47108d4c.xml  \n",
            "  inflating: cocoa_new/train/img_2555_JPG_jpg.rf.c5d4820c783a01627121efdff03ad9ec.jpg  \n",
            "  inflating: cocoa_new/train/img_3021_JPG_jpg.rf.c38c2341969bb6a195a551c33094f683.jpg  \n",
            "  inflating: cocoa_new/train/img_1570_JPG_jpg.rf.446dbb5da4c59ce99fccf2056bc65ec1.xml  \n",
            "  inflating: cocoa_new/train/img_37_JPG_jpg.rf.69ecf538c945b2a1c0bfa81387a7539e.xml  \n",
            "  inflating: cocoa_new/train/img_439_JPG_jpg.rf.f2da4f1fc586b70cf6679b82a1e7ee16.xml  \n",
            "  inflating: cocoa_new/train/img_597_JPG_jpg.rf.cde0688f85a09c95550587d5f323d1df.jpg  \n",
            "  inflating: cocoa_new/train/img_3275_JPG_jpg.rf.679c31aff3bec67f3bdd68cafe536181.jpg  \n",
            "  inflating: cocoa_new/train/img_494_JPG_jpg.rf.77c890917d53f544d16bffac7a9917b3.xml  \n",
            "  inflating: cocoa_new/train/img_3948_JPG_jpg.rf.4a4be01a68c9d2cf81cf267e7782a3fc.jpg  \n",
            "  inflating: cocoa_new/train/img_3483_JPG_jpg.rf.22e694fef772338dc700702f0925cb4c.xml  \n",
            "  inflating: cocoa_new/train/img_896_JPG_jpg.rf.d4d6aa6c8519f723e607b1631b9cb945.xml  \n",
            "  inflating: cocoa_new/train/img_3080_JPG_jpg.rf.c945839320f227c570071d3e4455ce55.xml  \n",
            "  inflating: cocoa_new/train/img_3242_JPG_jpg.rf.8c08ad516d1682ae9a2f746f90f7abd2.jpg  \n",
            "  inflating: cocoa_new/train/img_88_JPG_jpg.rf.f266bdae9f99fac17b5b36022a5cec04.jpg  \n",
            "  inflating: cocoa_new/train/img_1191_JPG_jpg.rf.155bb1bc1a3f28dcd35c2b6f015e1247.jpg  \n",
            "  inflating: cocoa_new/train/img_3370_JPG_jpg.rf.54d2beb7575656f07acccd35f0308eab.jpg  \n",
            "  inflating: cocoa_new/train/img_2989_JPG_jpg.rf.6887e83e530a37ff372cc0746a527a01.jpg  \n",
            "  inflating: cocoa_new/train/img_3572_JPG_jpg.rf.c31ff0c0667d9f649a24f0094fbf26e5.jpg  \n",
            "  inflating: cocoa_new/train/img_3117_JPG_jpg.rf.9b5d083d2a4a479340d27f088d2603ac.xml  \n",
            "  inflating: cocoa_new/train/img_3711_JPG_jpg.rf.5507f28ec987efd15ac7e8b82923087e.xml  \n",
            "  inflating: cocoa_new/train/img_3051_JPG_jpg.rf.8f295d59e5a6c934a77d90944699632f.jpg  \n",
            "  inflating: cocoa_new/train/img_2442_JPG_jpg.rf.88915cd401a697bc8e35c5ffb6f7040b.xml  \n",
            "  inflating: cocoa_new/train/img_3495_JPG_jpg.rf.087ae0177c8bb5de675b9f9f10d077cd.xml  \n",
            "  inflating: cocoa_new/train/img_906_JPG_jpg.rf.e53ac69a914f0b8ecb686ddc5361ae92.jpg  \n",
            "  inflating: cocoa_new/train/img_890_JPG_jpg.rf.c13bc396f4405c55c81b06a7b4d557fc.jpg  \n",
            "  inflating: cocoa_new/train/img_3956_JPG_jpg.rf.fccc0800c14e9c2173d4f5671e8915fe.jpg  \n",
            "  inflating: cocoa_new/train/img_629_JPG_jpg.rf.9213202d307976fa9e94a9e781e00cad.xml  \n",
            "  inflating: cocoa_new/train/img_455_JPG_jpg.rf.3813aadc1164ff283470312d7d89b989.xml  \n",
            "  inflating: cocoa_new/train/img_3671_JPG_jpg.rf.404871cada3c24c8be2561c92941ce64.xml  \n",
            "  inflating: cocoa_new/train/img_243_JPG_jpg.rf.3cb65473a464dc560f38cea389c53f53.jpg  \n",
            "  inflating: cocoa_new/train/img_3274_JPG_jpg.rf.8bdfb3e1040e6c9ef8d7361b2bf4816b.jpg  \n",
            "  inflating: cocoa_new/train/img_3495_JPG_jpg.rf.087ae0177c8bb5de675b9f9f10d077cd.jpg  \n",
            "  inflating: cocoa_new/train/img_906_JPG_jpg.rf.e53ac69a914f0b8ecb686ddc5361ae92.xml  \n",
            "  inflating: cocoa_new/train/img_890_JPG_jpg.rf.c13bc396f4405c55c81b06a7b4d557fc.xml  \n",
            "  inflating: cocoa_new/train/img_2442_JPG_jpg.rf.88915cd401a697bc8e35c5ffb6f7040b.jpg  \n",
            "  inflating: cocoa_new/train/img_3671_JPG_jpg.rf.404871cada3c24c8be2561c92941ce64.jpg  \n",
            "  inflating: cocoa_new/train/img_243_JPG_jpg.rf.3cb65473a464dc560f38cea389c53f53.xml  \n",
            "  inflating: cocoa_new/train/img_3274_JPG_jpg.rf.8bdfb3e1040e6c9ef8d7361b2bf4816b.xml  \n",
            "  inflating: cocoa_new/train/img_3956_JPG_jpg.rf.fccc0800c14e9c2173d4f5671e8915fe.xml  \n",
            "  inflating: cocoa_new/train/img_629_JPG_jpg.rf.9213202d307976fa9e94a9e781e00cad.jpg  \n",
            "  inflating: cocoa_new/train/img_455_JPG_jpg.rf.3813aadc1164ff283470312d7d89b989.jpg  \n",
            "  inflating: cocoa_new/train/img_88_JPG_jpg.rf.f266bdae9f99fac17b5b36022a5cec04.xml  \n",
            "  inflating: cocoa_new/train/img_3370_JPG_jpg.rf.54d2beb7575656f07acccd35f0308eab.xml  \n",
            "  inflating: cocoa_new/train/img_1191_JPG_jpg.rf.155bb1bc1a3f28dcd35c2b6f015e1247.xml  \n",
            "  inflating: cocoa_new/train/img_2989_JPG_jpg.rf.6887e83e530a37ff372cc0746a527a01.xml  \n",
            "  inflating: cocoa_new/train/img_3051_JPG_jpg.rf.8f295d59e5a6c934a77d90944699632f.xml  \n",
            "  inflating: cocoa_new/train/img_3572_JPG_jpg.rf.c31ff0c0667d9f649a24f0094fbf26e5.xml  \n",
            "  inflating: cocoa_new/train/img_3117_JPG_jpg.rf.9b5d083d2a4a479340d27f088d2603ac.jpg  \n",
            "  inflating: cocoa_new/train/img_3711_JPG_jpg.rf.5507f28ec987efd15ac7e8b82923087e.jpg  \n",
            "  inflating: cocoa_new/train/img_2926_JPG_jpg.rf.e289d2058b6d4b923d2059eb6465e219.xml  \n",
            "  inflating: cocoa_new/train/img_2009_JPG_jpg.rf.9e7ace09315f5639d413376e3bc7a2e9.jpg  \n",
            "  inflating: cocoa_new/train/img_3166_JPG_jpg.rf.33c974e4efd36ee8dbf86b48cd4135d5.xml  \n",
            "  inflating: cocoa_new/train/img_3776_JPG_jpg.rf.c123af0b55f52f1c0dfbf22c73c1ba3f.xml  \n",
            "  inflating: cocoa_new/train/img_3936_JPG_jpg.rf.3386791c076d25aa505c88e4fca7e483.xml  \n",
            "  inflating: cocoa_new/train/img_781_JPG_jpg.rf.59aa974a77eba7fc3d966ab347465f9b.jpg  \n",
            "  inflating: cocoa_new/train/img_3551_JPG_jpg.rf.e48ef26e5ae46ae267a70a5400848fb1.xml  \n",
            "  inflating: cocoa_new/train/img_159_JPG_jpg.rf.8a7eae26b4d849dc56306b874849d4af.xml  \n",
            "  inflating: cocoa_new/train/img_197_JPG_jpg.rf.e05a2acd46de6aa8eb0b6189868ae168.jpg  \n",
            "  inflating: cocoa_new/train/img_897_JPG_jpg.rf.6a5f79c3511a958d01274184233eac90.xml  \n",
            "  inflating: cocoa_new/train/img_589_JPG_jpg.rf.bbc195bb4c4d29de827ec0482a0028c3.jpg  \n",
            "  inflating: cocoa_new/train/img_2398_JPG_jpg.rf.c0450a3c3865b4b2845c5b1732fa113b.jpg  \n",
            "  inflating: cocoa_new/train/img_3420_JPG_jpg.rf.0523cf853fd98a59ab1b1e5670ba54e9.jpg  \n",
            "  inflating: cocoa_new/train/img_4062_JPG_jpg.rf.9fd8c67fde663b768dc20baff5c27a8e.xml  \n",
            "  inflating: cocoa_new/train/img_2570_JPG_jpg.rf.a3032765809cc641b3dd4fbeba256ec0.xml  \n",
            "  inflating: cocoa_new/train/img_2984_JPG_jpg.rf.f49a7b99f70bf0c09a6d8c28c366227a.xml  \n",
            "  inflating: cocoa_new/train/img_2526_JPG_jpg.rf.9a4f599b6d0bd4997eecd8637ddd017a.jpg  \n",
            "  inflating: cocoa_new/train/img_8_JPG_jpg.rf.86648314a29cbc4a91dba4eb2d73a9e5.jpg  \n",
            "  inflating: cocoa_new/train/img_1961_JPG_jpg.rf.ae04b3af9e19393d08f43934489063e3.xml  \n",
            "  inflating: cocoa_new/train/img_3059_JPG_jpg.rf.b080382f29a3fdbc67c9355391dc5321.xml  \n",
            "  inflating: cocoa_new/train/img_2398_JPG_jpg.rf.c0450a3c3865b4b2845c5b1732fa113b.xml  \n",
            "  inflating: cocoa_new/train/img_3420_JPG_jpg.rf.0523cf853fd98a59ab1b1e5670ba54e9.xml  \n",
            "  inflating: cocoa_new/train/img_4062_JPG_jpg.rf.9fd8c67fde663b768dc20baff5c27a8e.jpg  \n",
            "  inflating: cocoa_new/train/img_897_JPG_jpg.rf.6a5f79c3511a958d01274184233eac90.jpg  \n",
            "  inflating: cocoa_new/train/img_589_JPG_jpg.rf.bbc195bb4c4d29de827ec0482a0028c3.xml  \n",
            "  inflating: cocoa_new/train/img_2984_JPG_jpg.rf.f49a7b99f70bf0c09a6d8c28c366227a.jpg  \n",
            "  inflating: cocoa_new/train/img_2526_JPG_jpg.rf.9a4f599b6d0bd4997eecd8637ddd017a.xml  \n",
            "  inflating: cocoa_new/train/img_8_JPG_jpg.rf.86648314a29cbc4a91dba4eb2d73a9e5.xml  \n",
            "  inflating: cocoa_new/train/img_1961_JPG_jpg.rf.ae04b3af9e19393d08f43934489063e3.jpg  \n",
            "  inflating: cocoa_new/train/img_3059_JPG_jpg.rf.b080382f29a3fdbc67c9355391dc5321.jpg  \n",
            "  inflating: cocoa_new/train/img_2570_JPG_jpg.rf.a3032765809cc641b3dd4fbeba256ec0.jpg  \n",
            "  inflating: cocoa_new/train/img_3776_JPG_jpg.rf.c123af0b55f52f1c0dfbf22c73c1ba3f.jpg  \n",
            "  inflating: cocoa_new/train/img_2926_JPG_jpg.rf.e289d2058b6d4b923d2059eb6465e219.jpg  \n",
            "  inflating: cocoa_new/train/img_2009_JPG_jpg.rf.9e7ace09315f5639d413376e3bc7a2e9.xml  \n",
            "  inflating: cocoa_new/train/img_3166_JPG_jpg.rf.33c974e4efd36ee8dbf86b48cd4135d5.jpg  \n",
            "  inflating: cocoa_new/train/img_3551_JPG_jpg.rf.e48ef26e5ae46ae267a70a5400848fb1.jpg  \n",
            "  inflating: cocoa_new/train/img_159_JPG_jpg.rf.8a7eae26b4d849dc56306b874849d4af.jpg  \n",
            "  inflating: cocoa_new/train/img_197_JPG_jpg.rf.e05a2acd46de6aa8eb0b6189868ae168.xml  \n",
            "  inflating: cocoa_new/train/img_3936_JPG_jpg.rf.3386791c076d25aa505c88e4fca7e483.jpg  \n",
            "  inflating: cocoa_new/train/img_781_JPG_jpg.rf.59aa974a77eba7fc3d966ab347465f9b.xml  \n",
            "  inflating: cocoa_new/train/img_4112_JPG_jpg.rf.68cd6424e13f5ba6c93a8da84363aea3.jpg  \n",
            "  inflating: cocoa_new/train/img_413_JPG_jpg.rf.d56684b2f3ef69a56ab9ea5f3c10ad78.xml  \n",
            "  inflating: cocoa_new/train/img_752_JPG_jpg.rf.26735d0cf5a057bd0432fbc44d9cfab4.xml  \n",
            "  inflating: cocoa_new/train/img_3038_JPG_jpg.rf.e3a0502a632f638c007c3800bc7e36b7.jpg  \n",
            "  inflating: cocoa_new/train/img_2791_JPG_jpg.rf.cd77115473e76b248f3c589b77a1e5dc.xml  \n",
            "  inflating: cocoa_new/train/img_3919_JPG_jpg.rf.48dc65341da542961d5656e1f5838f18.jpg  \n",
            "  inflating: cocoa_new/train/img_3954_JPG_jpg.rf.7d07a9508cdf0f9a4beed5ae0585de65.xml  \n",
            "  inflating: cocoa_new/train/img_364_JPG_jpg.rf.0adfcf54dd0551ba4f7d829f546f3729.xml  \n",
            "  inflating: cocoa_new/train/img_3023_JPG_jpg.rf.c6672d573cc000038910d4c5054e979f.xml  \n",
            "  inflating: cocoa_new/train/img_1391_JPG_jpg.rf.95fea8ce6a511cfeec19884dfc5af13f.jpg  \n",
            "  inflating: cocoa_new/train/img_3596_JPG_jpg.rf.aaef8aca5023de3db03137c1ddc8ea8a.jpg  \n",
            "  inflating: cocoa_new/train/img_1166_JPG_jpg.rf.f894b36fceeb3800e6f9fcf88601d127.xml  \n",
            "  inflating: cocoa_new/train/img_130_JPG_jpg.rf.603e4f8e849a245fb0f48fcad75d75de.jpg  \n",
            "  inflating: cocoa_new/train/img_2646_JPG_jpg.rf.2eedd585924390fb90fb0a2d4cb4c5f6.xml  \n",
            "  inflating: cocoa_new/train/img_3198_JPG_jpg.rf.ba69c5e8e2b33935f27353d45439ff9e.jpg  \n",
            "  inflating: cocoa_new/train/img_2722_JPG_jpg.rf.399312f81e6399c9eaf35926caf9f646.jpg  \n",
            "  inflating: cocoa_new/train/img_9_JPG_jpg.rf.c2f721b500498158c2c6dd1e49fe4781.xml  \n",
            "  inflating: cocoa_new/train/img_3596_JPG_jpg.rf.aaef8aca5023de3db03137c1ddc8ea8a.xml  \n",
            "  inflating: cocoa_new/train/img_1166_JPG_jpg.rf.f894b36fceeb3800e6f9fcf88601d127.jpg  \n",
            "  inflating: cocoa_new/train/img_130_JPG_jpg.rf.603e4f8e849a245fb0f48fcad75d75de.xml  \n",
            "  inflating: cocoa_new/train/img_2646_JPG_jpg.rf.2eedd585924390fb90fb0a2d4cb4c5f6.jpg  \n",
            "  inflating: cocoa_new/train/img_364_JPG_jpg.rf.0adfcf54dd0551ba4f7d829f546f3729.jpg  \n",
            "  inflating: cocoa_new/train/img_3023_JPG_jpg.rf.c6672d573cc000038910d4c5054e979f.jpg  \n",
            "  inflating: cocoa_new/train/img_1391_JPG_jpg.rf.95fea8ce6a511cfeec19884dfc5af13f.xml  \n",
            "  inflating: cocoa_new/train/img_9_JPG_jpg.rf.c2f721b500498158c2c6dd1e49fe4781.jpg  \n",
            "  inflating: cocoa_new/train/img_2722_JPG_jpg.rf.399312f81e6399c9eaf35926caf9f646.xml  \n",
            "  inflating: cocoa_new/train/img_3198_JPG_jpg.rf.ba69c5e8e2b33935f27353d45439ff9e.xml  \n",
            "  inflating: cocoa_new/train/img_752_JPG_jpg.rf.26735d0cf5a057bd0432fbc44d9cfab4.jpg  \n",
            "  inflating: cocoa_new/train/img_3038_JPG_jpg.rf.e3a0502a632f638c007c3800bc7e36b7.xml  \n",
            "  inflating: cocoa_new/train/img_4112_JPG_jpg.rf.68cd6424e13f5ba6c93a8da84363aea3.xml  \n",
            "  inflating: cocoa_new/train/img_413_JPG_jpg.rf.d56684b2f3ef69a56ab9ea5f3c10ad78.jpg  \n",
            "  inflating: cocoa_new/train/img_3954_JPG_jpg.rf.7d07a9508cdf0f9a4beed5ae0585de65.jpg  \n",
            "  inflating: cocoa_new/train/img_3919_JPG_jpg.rf.48dc65341da542961d5656e1f5838f18.xml  \n",
            "  inflating: cocoa_new/train/img_2791_JPG_jpg.rf.cd77115473e76b248f3c589b77a1e5dc.jpg  \n",
            "  inflating: cocoa_new/train/img_462_JPG_jpg.rf.1809f1975b5636198e297f54f04fc535.jpg  \n",
            "  inflating: cocoa_new/train/img_305_JPG_jpg.rf.fad7406109462900ce201f285f5ca53e.jpg  \n",
            "  inflating: cocoa_new/train/img_3732_JPG_jpg.rf.89dba2da5f7237151466e7bd7e7d99bf.xml  \n",
            "  inflating: cocoa_new/train/img_490_JPG_jpg.rf.d2fb91cd212e5f61060561f4c1de4dc4.xml  \n",
            "  inflating: cocoa_new/train/img_3097_JPG_jpg.rf.afc47282324b657f32e203ecd9ef4d6a.jpg  \n",
            "  inflating: cocoa_new/train/img_346_JPG_jpg.rf.63e3e6283a794c1a131b257da7eff761.jpg  \n",
            "  inflating: cocoa_new/train/img_1722_JPG_jpg.rf.89d1430abe8c35c23710fbbdc40ef636.xml  \n",
            "  inflating: cocoa_new/train/img_2537_JPG_jpg.rf.833ded15a07a6e09fa6f455c7dc2f546.xml  \n",
            "  inflating: cocoa_new/train/img_591_JPG_jpg.rf.045a9152c132c69ff8f09b5c58d5fa9b.jpg  \n",
            "  inflating: cocoa_new/train/img_3070_JPG_jpg.rf.066ca2ab8eded29efb0abe79438f657c.jpg  \n",
            "  inflating: cocoa_new/train/img_152_JPG_jpg.rf.816253c6d63d8b6c15cc83d2b0fc2bf1.xml  \n",
            "  inflating: cocoa_new/train/img_482_JPG_jpg.rf.2b1fbe3b708d9c107ffc5001a97ca955.xml  \n",
            "  inflating: cocoa_new/train/img_1335_JPG_jpg.rf.9732d83064ccb9419809cb5f6d9347ac.xml  \n",
            "  inflating: cocoa_new/train/img_2412_JPG_jpg.rf.e3460dcb47124dc76bd36b074c7373bf.jpg  \n",
            "  inflating: cocoa_new/train/img_2409_JPG_jpg.rf.e5014e3f9020e4d54f346195b810ac22.jpg  \n",
            "  inflating: cocoa_new/train/img_260_JPG_jpg.rf.05781fad4079977a0424d7be17243826.jpg  \n",
            "  inflating: cocoa_new/train/img_937_JPG_jpg.rf.3996763e7f565ee04536c32e1a426de0.jpg  \n",
            "  inflating: cocoa_new/train/img_48_JPG_jpg.rf.ae07ec36ab15c1e5f39c7ea962071544.xml  \n",
            "  inflating: cocoa_new/train/img_1573_JPG_jpg.rf.12adcac29831d935327cd1eff35d5261.xml  \n",
            "  inflating: cocoa_new/train/img_3402_JPG_jpg.rf.62696cd3e5ed7083a5e4ec7a5064d804.jpg  \n",
            "  inflating: cocoa_new/train/img_744_JPG_jpg.rf.638c37b80bdf1ced620af7d4f48d198a.jpg  \n",
            "  inflating: cocoa_new/train/img_1784_JPG_jpg.rf.d2ec98e1ea495ae2c07ee8e77a17dbac.jpg  \n",
            "  inflating: cocoa_new/train/img_2412_JPG_jpg.rf.e3460dcb47124dc76bd36b074c7373bf.xml  \n",
            "  inflating: cocoa_new/train/img_2409_JPG_jpg.rf.e5014e3f9020e4d54f346195b810ac22.xml  \n",
            "  inflating: cocoa_new/train/img_260_JPG_jpg.rf.05781fad4079977a0424d7be17243826.xml  \n",
            "  inflating: cocoa_new/train/img_152_JPG_jpg.rf.816253c6d63d8b6c15cc83d2b0fc2bf1.jpg  \n",
            "  inflating: cocoa_new/train/img_3070_JPG_jpg.rf.066ca2ab8eded29efb0abe79438f657c.xml  \n",
            "  inflating: cocoa_new/train/img_482_JPG_jpg.rf.2b1fbe3b708d9c107ffc5001a97ca955.jpg  \n",
            "  inflating: cocoa_new/train/img_1335_JPG_jpg.rf.9732d83064ccb9419809cb5f6d9347ac.jpg  \n",
            "  inflating: cocoa_new/train/img_1784_JPG_jpg.rf.d2ec98e1ea495ae2c07ee8e77a17dbac.xml  \n",
            "  inflating: cocoa_new/train/img_744_JPG_jpg.rf.638c37b80bdf1ced620af7d4f48d198a.xml  \n",
            "  inflating: cocoa_new/train/img_48_JPG_jpg.rf.ae07ec36ab15c1e5f39c7ea962071544.jpg  \n",
            "  inflating: cocoa_new/train/img_937_JPG_jpg.rf.3996763e7f565ee04536c32e1a426de0.xml  \n",
            "  inflating: cocoa_new/train/img_1573_JPG_jpg.rf.12adcac29831d935327cd1eff35d5261.jpg  \n",
            "  inflating: cocoa_new/train/img_3402_JPG_jpg.rf.62696cd3e5ed7083a5e4ec7a5064d804.xml  \n",
            "  inflating: cocoa_new/train/img_3732_JPG_jpg.rf.89dba2da5f7237151466e7bd7e7d99bf.jpg  \n",
            "  inflating: cocoa_new/train/img_462_JPG_jpg.rf.1809f1975b5636198e297f54f04fc535.xml  \n",
            "  inflating: cocoa_new/train/img_305_JPG_jpg.rf.fad7406109462900ce201f285f5ca53e.xml  \n",
            "  inflating: cocoa_new/train/img_2537_JPG_jpg.rf.833ded15a07a6e09fa6f455c7dc2f546.jpg  \n",
            "  inflating: cocoa_new/train/img_591_JPG_jpg.rf.045a9152c132c69ff8f09b5c58d5fa9b.xml  \n",
            "  inflating: cocoa_new/train/img_490_JPG_jpg.rf.d2fb91cd212e5f61060561f4c1de4dc4.jpg  \n",
            "  inflating: cocoa_new/train/img_3097_JPG_jpg.rf.afc47282324b657f32e203ecd9ef4d6a.xml  \n",
            "  inflating: cocoa_new/train/img_346_JPG_jpg.rf.63e3e6283a794c1a131b257da7eff761.xml  \n",
            "  inflating: cocoa_new/train/img_1722_JPG_jpg.rf.89d1430abe8c35c23710fbbdc40ef636.jpg  \n",
            "  inflating: cocoa_new/train/img_115_JPG_jpg.rf.a6af5affde83178e426cd466f00bcfdf.xml  \n",
            "  inflating: cocoa_new/train/img_1360_JPG_jpg.rf.6c239c4f8208b09bf63b65d4740ea24b.jpg  \n",
            "  inflating: cocoa_new/train/img_1219_JPG_jpg.rf.a2b3de04dd9e3e1cb5f9e732dd0b44fe.jpg  \n",
            "  inflating: cocoa_new/train/img_1751_JPG_jpg.rf.892e24ec012a77d979692097ae60d06f.xml  \n",
            "  inflating: cocoa_new/train/img_426_JPG_jpg.rf.81a59decfaf2bb1d82252652dd7c4492.jpg  \n",
            "  inflating: cocoa_new/train/img_3922_JPG_jpg.rf.fd9fcd0ca5268b38c99a4899f9d9f223.jpg  \n",
            "  inflating: cocoa_new/train/img_3465_JPG_jpg.rf.67f4fa37c5093f642b40942e52465fb5.jpg  \n",
            "  inflating: cocoa_new/train/img_3429_JPG_jpg.rf.dcee021d9b4dc86be634446b0cea196e.xml  \n",
            "  inflating: cocoa_new/train/img_3854_JPG_jpg.rf.6e20519ba6df26442f1e78585b650157.jpg  \n",
            "  inflating: cocoa_new/train/img_3140_JPG_jpg.rf.efe2f11daeb15fd2f643c7b4ac8d7aef.xml  \n",
            "  inflating: cocoa_new/train/img_2005_JPG_jpg.rf.c44163e060572c8833f4bbceb32da760.xml  \n",
            "  inflating: cocoa_new/train/img_3429_JPG_jpg.rf.dcee021d9b4dc86be634446b0cea196e.jpg  \n",
            "  inflating: cocoa_new/train/img_3854_JPG_jpg.rf.6e20519ba6df26442f1e78585b650157.xml  \n",
            "  inflating: cocoa_new/train/img_3140_JPG_jpg.rf.efe2f11daeb15fd2f643c7b4ac8d7aef.jpg  \n",
            "  inflating: cocoa_new/train/img_2005_JPG_jpg.rf.c44163e060572c8833f4bbceb32da760.jpg  \n",
            "  inflating: cocoa_new/train/img_1219_JPG_jpg.rf.a2b3de04dd9e3e1cb5f9e732dd0b44fe.xml  \n",
            "  inflating: cocoa_new/train/img_1751_JPG_jpg.rf.892e24ec012a77d979692097ae60d06f.jpg  \n",
            "  inflating: cocoa_new/train/img_426_JPG_jpg.rf.81a59decfaf2bb1d82252652dd7c4492.xml  \n",
            "  inflating: cocoa_new/train/img_3922_JPG_jpg.rf.fd9fcd0ca5268b38c99a4899f9d9f223.xml  \n",
            "  inflating: cocoa_new/train/img_115_JPG_jpg.rf.a6af5affde83178e426cd466f00bcfdf.jpg  \n",
            "  inflating: cocoa_new/train/img_1360_JPG_jpg.rf.6c239c4f8208b09bf63b65d4740ea24b.xml  \n",
            "  inflating: cocoa_new/train/img_3465_JPG_jpg.rf.67f4fa37c5093f642b40942e52465fb5.xml  \n",
            "  inflating: cocoa_new/train/img_1098_JPG_jpg.rf.c42fa0e6b153b31853553fedc041501f.jpg  \n",
            "  inflating: cocoa_new/train/img_1465_JPG_jpg.rf.7fa746e6f3c1b6f01a4a3ffb3bf7d595.xml  \n",
            "  inflating: cocoa_new/train/img_3174_JPG_jpg.rf.9ee054a41be2826ff828827900132424.jpg  \n",
            "  inflating: cocoa_new/train/img_1344_JPG_jpg.rf.3e8467a8e90b87204c0109ab08a8a489.xml  \n",
            "  inflating: cocoa_new/train/img_3354_JPG_jpg.rf.b111f3f17f6ee70ec787d46732ccdbba.xml  \n",
            "  inflating: cocoa_new/train/img_535_JPG_jpg.rf.b65663e1644b32c72d31ccd43798d841.xml  \n",
            "  inflating: cocoa_new/train/img_753_JPG_jpg.rf.f41e1f01f3d502efc3f08025e1e425bf.jpg  \n",
            "  inflating: cocoa_new/train/img_3672_JPG_jpg.rf.752ed8410dc78e6ab113c6ceae752a3a.jpg  \n",
            "  inflating: cocoa_new/train/img_293_JPG_jpg.rf.21005a66df24a8efb718575c1a7917ed.xml  \n",
            "  inflating: cocoa_new/train/img_2824_JPG_jpg.rf.a272b497043cbd686f1e60e2f5e48e58.jpg  \n",
            "  inflating: cocoa_new/train/img_4136_JPG_jpg.rf.23d70222a627b72e884af279d2cce6e9.xml  \n",
            "  inflating: cocoa_new/train/img_3300_JPG_jpg.rf.d6fceb11b9537524a02480f1bb1d09d0.xml  \n",
            "  inflating: cocoa_new/train/img_2457_JPG_jpg.rf.01f362593fc7cbb48395bcd661e3b712.jpg  \n",
            "  inflating: cocoa_new/train/img_382_JPG_jpg.rf.258668c2f834f788303fb6a7563f1f27.jpg  \n",
            "  inflating: cocoa_new/train/img_4008_JPG_jpg.rf.b113d75cdfcc99c80c384394d06d8655.xml  \n",
            "  inflating: cocoa_new/train/img_1894_JPG_jpg.rf.a8d584389ceafe500e825c3c8afe2a8d.jpg  \n",
            "  inflating: cocoa_new/train/img_3239_JPG_jpg.rf.f5ef59b89cb898330792d13d7ab4ab80.xml  \n",
            "  inflating: cocoa_new/train/img_267_JPG_jpg.rf.bdc126c867050109366c17d6e409d845.jpg  \n",
            "  inflating: cocoa_new/train/img_2548_JPG_jpg.rf.0fc65878f6ad8ac11fdb8dbda3aaee42.jpg  \n",
            "  inflating: cocoa_new/train/img_2609_JPG_jpg.rf.2c8e86b9416a6ec9e91aa9d86d051399.xml  \n",
            "  inflating: cocoa_new/train/img_200_JPG_jpg.rf.1c75edb2989b750c9cb35261aae883e4.jpg  \n",
            "  inflating: cocoa_new/train/img_4008_JPG_jpg.rf.b113d75cdfcc99c80c384394d06d8655.jpg  \n",
            "  inflating: cocoa_new/train/img_2457_JPG_jpg.rf.01f362593fc7cbb48395bcd661e3b712.xml  \n",
            "  inflating: cocoa_new/train/img_382_JPG_jpg.rf.258668c2f834f788303fb6a7563f1f27.xml  \n",
            "  inflating: cocoa_new/train/img_2548_JPG_jpg.rf.0fc65878f6ad8ac11fdb8dbda3aaee42.xml  \n",
            "  inflating: cocoa_new/train/img_2609_JPG_jpg.rf.2c8e86b9416a6ec9e91aa9d86d051399.jpg  \n",
            "  inflating: cocoa_new/train/img_200_JPG_jpg.rf.1c75edb2989b750c9cb35261aae883e4.xml  \n",
            "  inflating: cocoa_new/train/img_1894_JPG_jpg.rf.a8d584389ceafe500e825c3c8afe2a8d.xml  \n",
            "  inflating: cocoa_new/train/img_267_JPG_jpg.rf.bdc126c867050109366c17d6e409d845.xml  \n",
            "  inflating: cocoa_new/train/img_3239_JPG_jpg.rf.f5ef59b89cb898330792d13d7ab4ab80.jpg  \n",
            "  inflating: cocoa_new/train/img_535_JPG_jpg.rf.b65663e1644b32c72d31ccd43798d841.jpg  \n",
            "  inflating: cocoa_new/train/img_1098_JPG_jpg.rf.c42fa0e6b153b31853553fedc041501f.xml  \n",
            "  inflating: cocoa_new/train/img_3174_JPG_jpg.rf.9ee054a41be2826ff828827900132424.xml  \n",
            "  inflating: cocoa_new/train/img_1344_JPG_jpg.rf.3e8467a8e90b87204c0109ab08a8a489.jpg  \n",
            "  inflating: cocoa_new/train/img_1465_JPG_jpg.rf.7fa746e6f3c1b6f01a4a3ffb3bf7d595.jpg  \n",
            "  inflating: cocoa_new/train/img_3354_JPG_jpg.rf.b111f3f17f6ee70ec787d46732ccdbba.jpg  \n",
            "  inflating: cocoa_new/train/img_4136_JPG_jpg.rf.23d70222a627b72e884af279d2cce6e9.jpg  \n",
            "  inflating: cocoa_new/train/img_3300_JPG_jpg.rf.d6fceb11b9537524a02480f1bb1d09d0.jpg  \n",
            "  inflating: cocoa_new/train/img_3672_JPG_jpg.rf.752ed8410dc78e6ab113c6ceae752a3a.xml  \n",
            "  inflating: cocoa_new/train/img_293_JPG_jpg.rf.21005a66df24a8efb718575c1a7917ed.jpg  \n",
            "  inflating: cocoa_new/train/img_753_JPG_jpg.rf.f41e1f01f3d502efc3f08025e1e425bf.xml  \n",
            "  inflating: cocoa_new/train/img_2824_JPG_jpg.rf.a272b497043cbd686f1e60e2f5e48e58.xml  \n",
            "  inflating: cocoa_new/train/img_808_JPG_jpg.rf.41ba81ba4bec743696a5c377476815ab.xml  \n",
            "  inflating: cocoa_new/train/img_2476_JPG_jpg.rf.7155193ce9e8a444139fb948a507eb59.xml  \n",
            "  inflating: cocoa_new/train/img_229_JPG_jpg.rf.7aa23ac5e39c695f46aaa669b194d2f3.xml  \n",
            "  inflating: cocoa_new/train/img_2958_JPG_jpg.rf.a7e7195c39b3147ca6a878a6e2835c4a.xml  \n",
            "  inflating: cocoa_new/train/img_4025_JPG_jpg.rf.420418c515e0897577555931495e4b02.xml  \n",
            "  inflating: cocoa_new/train/img_3895_JPG_jpg.rf.0f8d4f93f6257661b64ae73a1d987c33.jpg  \n",
            "  inflating: cocoa_new/train/img_3815_JPG_jpg.rf.f306f5a8886da4e9fa6ad86c9c53682b.xml  \n",
            "  inflating: cocoa_new/train/img_174_JPG_jpg.rf.7760e04922109e9bcc00a7357e125da5.jpg  \n",
            "  inflating: cocoa_new/train/img_247_JPG_jpg.rf.a518b8a38669ac66151791fa8708e7e7.xml  \n",
            "  inflating: cocoa_new/train/img_2823_JPG_jpg.rf.11d8564e541d15e459dbee789d5433a9.jpg  \n",
            "  inflating: cocoa_new/train/img_2810_JPG_jpg.rf.0bbc9d3a70b7b36cb728f10e0c3f5be4.jpg  \n",
            "  inflating: cocoa_new/train/img_3276_JPG_jpg.rf.4222bd348aecc257ce6fcf4f73570e31.jpg  \n",
            "  inflating: cocoa_new/train/img_3184_JPG_jpg.rf.ee477004e7de3221a8d8409e771b5a3a.xml  \n",
            "  inflating: cocoa_new/train/img_277_JPG_jpg.rf.92217e07d5087c91176faf4fa423e8bc.jpg  \n",
            "  inflating: cocoa_new/train/img_639_JPG_jpg.rf.d62ae350fc62778be767f1b3bb1f8410.xml  \n",
            "  inflating: cocoa_new/train/img_2625_JPG_jpg.rf.9ecf1e9856d5e45a9ee39b6c24d4ff7f.jpg  \n",
            "  inflating: cocoa_new/train/img_1277_JPG_jpg.rf.b8a7b6607193a06dfd7abf118fdfd4d5.xml  \n",
            "  inflating: cocoa_new/train/img_247_JPG_jpg.rf.a518b8a38669ac66151791fa8708e7e7.jpg  \n",
            "  inflating: cocoa_new/train/img_277_JPG_jpg.rf.92217e07d5087c91176faf4fa423e8bc.xml  \n",
            "  inflating: cocoa_new/train/img_639_JPG_jpg.rf.d62ae350fc62778be767f1b3bb1f8410.jpg  \n",
            "  inflating: cocoa_new/train/img_1277_JPG_jpg.rf.b8a7b6607193a06dfd7abf118fdfd4d5.jpg  \n",
            "  inflating: cocoa_new/train/img_2625_JPG_jpg.rf.9ecf1e9856d5e45a9ee39b6c24d4ff7f.xml  \n",
            "  inflating: cocoa_new/train/img_2823_JPG_jpg.rf.11d8564e541d15e459dbee789d5433a9.xml  \n",
            "  inflating: cocoa_new/train/img_2810_JPG_jpg.rf.0bbc9d3a70b7b36cb728f10e0c3f5be4.xml  \n",
            "  inflating: cocoa_new/train/img_3276_JPG_jpg.rf.4222bd348aecc257ce6fcf4f73570e31.xml  \n",
            "  inflating: cocoa_new/train/img_3184_JPG_jpg.rf.ee477004e7de3221a8d8409e771b5a3a.jpg  \n",
            "  inflating: cocoa_new/train/img_2476_JPG_jpg.rf.7155193ce9e8a444139fb948a507eb59.jpg  \n",
            "  inflating: cocoa_new/train/img_808_JPG_jpg.rf.41ba81ba4bec743696a5c377476815ab.jpg  \n",
            "  inflating: cocoa_new/train/img_4025_JPG_jpg.rf.420418c515e0897577555931495e4b02.jpg  \n",
            "  inflating: cocoa_new/train/img_3895_JPG_jpg.rf.0f8d4f93f6257661b64ae73a1d987c33.xml  \n",
            "  inflating: cocoa_new/train/img_3815_JPG_jpg.rf.f306f5a8886da4e9fa6ad86c9c53682b.jpg  \n",
            "  inflating: cocoa_new/train/img_174_JPG_jpg.rf.7760e04922109e9bcc00a7357e125da5.xml  \n",
            "  inflating: cocoa_new/train/img_229_JPG_jpg.rf.7aa23ac5e39c695f46aaa669b194d2f3.jpg  \n",
            "  inflating: cocoa_new/train/img_2958_JPG_jpg.rf.a7e7195c39b3147ca6a878a6e2835c4a.jpg  \n",
            "  inflating: cocoa_new/train/img_3479_JPG_jpg.rf.aa6e9484c2140f03ebb3adb58798083f.xml  \n",
            "  inflating: cocoa_new/train/img_47_JPG_jpg.rf.085314ed3eca00161293cb0405d6fc9e.jpg  \n",
            "  inflating: cocoa_new/train/img_1250_JPG_jpg.rf.a5417981e957cd9560a249d3b3310f31.jpg  \n",
            "  inflating: cocoa_new/train/img_620_JPG_jpg.rf.365db17a071ca277ff494836efe1af30.jpg  \n",
            "  inflating: cocoa_new/train/img_3814_JPG_jpg.rf.5ea356d139eb5bf73cec6580b52b1845.jpg  \n",
            "  inflating: cocoa_new/train/img_772_JPG_jpg.rf.5d4049cf8b76bf41cfc17edbf9a669e0.jpg  \n",
            "  inflating: cocoa_new/train/img_1788_JPG_jpg.rf.13fc358dc7c17856bac903f7b2465d32.xml  \n",
            "  inflating: cocoa_new/train/img_2957_JPG_jpg.rf.f281ed702dc33c591c129a36e6cfd0d8.xml  \n",
            "  inflating: cocoa_new/train/img_1404_JPG_jpg.rf.db0c0a34e559fcbd4a32f1aede2faf38.xml  \n",
            "  inflating: cocoa_new/train/img_3814_JPG_jpg.rf.5ea356d139eb5bf73cec6580b52b1845.xml  \n",
            "  inflating: cocoa_new/train/img_772_JPG_jpg.rf.5d4049cf8b76bf41cfc17edbf9a669e0.xml  \n",
            "  inflating: cocoa_new/train/img_620_JPG_jpg.rf.365db17a071ca277ff494836efe1af30.xml  \n",
            "  inflating: cocoa_new/train/img_1788_JPG_jpg.rf.13fc358dc7c17856bac903f7b2465d32.jpg  \n",
            "  inflating: cocoa_new/train/img_2957_JPG_jpg.rf.f281ed702dc33c591c129a36e6cfd0d8.jpg  \n",
            "  inflating: cocoa_new/train/img_1404_JPG_jpg.rf.db0c0a34e559fcbd4a32f1aede2faf38.jpg  \n",
            "  inflating: cocoa_new/train/img_3479_JPG_jpg.rf.aa6e9484c2140f03ebb3adb58798083f.jpg  \n",
            "  inflating: cocoa_new/train/img_1250_JPG_jpg.rf.a5417981e957cd9560a249d3b3310f31.xml  \n",
            "  inflating: cocoa_new/train/img_47_JPG_jpg.rf.085314ed3eca00161293cb0405d6fc9e.xml  \n",
            "  inflating: cocoa_new/train/img_2532_JPG_jpg.rf.2368ed9ebeff8ba948467c6e39cdd34a.jpg  \n",
            "  inflating: cocoa_new/train/img_3803_JPG_jpg.rf.bb687383dae9ccbb7fc6aa6b50279e71.xml  \n",
            "  inflating: cocoa_new/train/img_3058_JPG_jpg.rf.851f7052c1e807ae8ff75880a701ff81.jpg  \n",
            "  inflating: cocoa_new/train/img_57_JPG_jpg.rf.d91a251044ffc1bb38345398de601199.jpg  \n",
            "  inflating: cocoa_new/train/img_445_JPG_jpg.rf.0fd3000b4e139475902ab919932e3d73.jpg  \n",
            "  inflating: cocoa_new/train/img_135_JPG_jpg.rf.aee63e061f272c62dac7107038c22dd0.xml  \n",
            "  inflating: cocoa_new/train/img_1506_JPG_jpg.rf.9003fdea03c91d22945d8366c210df28.jpg  \n",
            "  inflating: cocoa_new/train/img_2976_JPG_jpg.rf.0cf0ec9699acc916f09d7cff2eb0d92c.jpg  \n",
            "  inflating: cocoa_new/train/img_3238_JPG_jpg.rf.08481b7774cbd9659c9422ce5aa1dd78.jpg  \n",
            "  inflating: cocoa_new/train/img_2535_JPG_jpg.rf.c42f9cbb93c99ad1fe25e5a2ca084e9c.xml  \n",
            "  inflating: cocoa_new/train/img_3147_JPG_jpg.rf.29373d844cacf0442038922ac9d0a2cf.jpg  \n",
            "  inflating: cocoa_new/train/img_3540_JPG_jpg.rf.a16e50cd0721c9c712fe645b77e36fbb.jpg  \n",
            "  inflating: cocoa_new/train/img_3494_JPG_jpg.rf.8352bd319e4d1998e3aeb2c48553d9f5.jpg  \n",
            "  inflating: cocoa_new/train/img_3683_JPG_jpg.rf.74b26958d0119d1d07da203b9f15368a.xml  \n",
            "  inflating: cocoa_new/train/img_394_JPG_jpg.rf.f8fcf0e359f45fd24e9653c562375992.xml  \n",
            "  inflating: cocoa_new/train/img_60_JPG_jpg.rf.0d95212de218cd5fbe7253ce7d0aa0ba.xml  \n",
            "  inflating: cocoa_new/train/img_528_JPG_jpg.rf.369d79ff51a493648c1fd88637e44a33.jpg  \n",
            "  inflating: cocoa_new/train/img_3805_JPG_jpg.rf.fc53864eef9e78bf947529367a2b3d65.jpg  \n",
            "  inflating: cocoa_new/train/img_3494_JPG_jpg.rf.8352bd319e4d1998e3aeb2c48553d9f5.xml  \n",
            "  inflating: cocoa_new/train/img_3683_JPG_jpg.rf.74b26958d0119d1d07da203b9f15368a.jpg  \n",
            "  inflating: cocoa_new/train/img_3540_JPG_jpg.rf.a16e50cd0721c9c712fe645b77e36fbb.xml  \n",
            "  inflating: cocoa_new/train/img_3805_JPG_jpg.rf.fc53864eef9e78bf947529367a2b3d65.xml  \n",
            "  inflating: cocoa_new/train/img_60_JPG_jpg.rf.0d95212de218cd5fbe7253ce7d0aa0ba.jpg  \n",
            "  inflating: cocoa_new/train/img_394_JPG_jpg.rf.f8fcf0e359f45fd24e9653c562375992.jpg  \n",
            "  inflating: cocoa_new/train/img_528_JPG_jpg.rf.369d79ff51a493648c1fd88637e44a33.xml  \n",
            "  inflating: cocoa_new/train/img_2532_JPG_jpg.rf.2368ed9ebeff8ba948467c6e39cdd34a.xml  \n",
            "  inflating: cocoa_new/train/img_3803_JPG_jpg.rf.bb687383dae9ccbb7fc6aa6b50279e71.jpg  \n",
            "  inflating: cocoa_new/train/img_3058_JPG_jpg.rf.851f7052c1e807ae8ff75880a701ff81.xml  \n",
            "  inflating: cocoa_new/train/img_57_JPG_jpg.rf.d91a251044ffc1bb38345398de601199.xml  \n",
            "  inflating: cocoa_new/train/img_445_JPG_jpg.rf.0fd3000b4e139475902ab919932e3d73.xml  \n",
            "  inflating: cocoa_new/train/img_2535_JPG_jpg.rf.c42f9cbb93c99ad1fe25e5a2ca084e9c.jpg  \n",
            "  inflating: cocoa_new/train/img_3147_JPG_jpg.rf.29373d844cacf0442038922ac9d0a2cf.xml  \n",
            "  inflating: cocoa_new/train/img_135_JPG_jpg.rf.aee63e061f272c62dac7107038c22dd0.jpg  \n",
            "  inflating: cocoa_new/train/img_1506_JPG_jpg.rf.9003fdea03c91d22945d8366c210df28.xml  \n",
            "  inflating: cocoa_new/train/img_2976_JPG_jpg.rf.0cf0ec9699acc916f09d7cff2eb0d92c.xml  \n",
            "  inflating: cocoa_new/train/img_3238_JPG_jpg.rf.08481b7774cbd9659c9422ce5aa1dd78.xml  \n",
            "  inflating: cocoa_new/train/img_669_JPG_jpg.rf.13dad601c1fd6d113043e0f6f21a877e.jpg  \n",
            "  inflating: cocoa_new/train/img_473_JPG_jpg.rf.9e519b6571180ccb11bb88e97bd89f83.jpg  \n",
            "  inflating: cocoa_new/train/img_1184_JPG_jpg.rf.631a5266070e708a7b92daff7040a8c3.xml  \n",
            "  inflating: cocoa_new/train/img_471_JPG_jpg.rf.fd69c8497f234531931a359b452ab9ba.xml  \n",
            "  inflating: cocoa_new/train/img_953_JPG_jpg.rf.560de4e73c2307d3633ca63c2af97b1a.xml  \n",
            "  inflating: cocoa_new/train/img_125_JPG_jpg.rf.3759a1c2c9235a8a35118c22045c29b0.xml  \n",
            "  inflating: cocoa_new/train/img_865_JPG_jpg.rf.a9b486d96ddf9e5efebe600c42cc5b8f.jpg  \n",
            "  inflating: cocoa_new/train/img_1565_JPG_jpg.rf.ecf178a5ae1f233da284a1c82f827206.xml  \n",
            "  inflating: cocoa_new/train/img_217_JPG_jpg.rf.c57fe3ccd1b833425b4daf0c16781448.jpg  \n",
            "  inflating: cocoa_new/train/img_429_JPG_jpg.rf.503fa3ddfdab8ccc9cda25ec05fa7340.jpg  \n",
            "  inflating: cocoa_new/train/img_478_JPG_jpg.rf.499bfc7b405e31262abdd668f92edde0.xml  \n",
            "  inflating: cocoa_new/train/img_109_JPG_jpg.rf.67cd157fdb1165566f965a30080ae87d.jpg  \n",
            "  inflating: cocoa_new/train/img_2435_JPG_jpg.rf.124321e0eb8c7cc3a538506d741f4274.xml  \n",
            "  inflating: cocoa_new/train/img_1640_JPG_jpg.rf.5312b5a8c7f2f7341fc8e99301843325.jpg  \n",
            "  inflating: cocoa_new/train/img_3424_JPG_jpg.rf.3cda394c2ce05c649fb63a5271d9fd54.xml  \n",
            "  inflating: cocoa_new/train/img_1949_JPG_jpg.rf.4b2e76e19559b5a4466c27121fba3622.xml  \n",
            "  inflating: cocoa_new/train/img_1361_JPG_jpg.rf.816c500617fa0025e48a641a333f669e.jpg  \n",
            "  inflating: cocoa_new/train/img_3951_JPG_jpg.rf.2894fa73dd400c1f8da5b9d525e6b858.xml  \n",
            "  inflating: cocoa_new/train/img_429_JPG_jpg.rf.503fa3ddfdab8ccc9cda25ec05fa7340.xml  \n",
            "  inflating: cocoa_new/train/img_478_JPG_jpg.rf.499bfc7b405e31262abdd668f92edde0.jpg  \n",
            "  inflating: cocoa_new/train/img_109_JPG_jpg.rf.67cd157fdb1165566f965a30080ae87d.xml  \n",
            "  inflating: cocoa_new/train/img_2435_JPG_jpg.rf.124321e0eb8c7cc3a538506d741f4274.jpg  \n",
            "  inflating: cocoa_new/train/img_1565_JPG_jpg.rf.ecf178a5ae1f233da284a1c82f827206.jpg  \n",
            "  inflating: cocoa_new/train/img_217_JPG_jpg.rf.c57fe3ccd1b833425b4daf0c16781448.xml  \n",
            "  inflating: cocoa_new/train/img_1361_JPG_jpg.rf.816c500617fa0025e48a641a333f669e.xml  \n",
            "  inflating: cocoa_new/train/img_3951_JPG_jpg.rf.2894fa73dd400c1f8da5b9d525e6b858.jpg  \n",
            "  inflating: cocoa_new/train/img_1640_JPG_jpg.rf.5312b5a8c7f2f7341fc8e99301843325.xml  \n",
            "  inflating: cocoa_new/train/img_3424_JPG_jpg.rf.3cda394c2ce05c649fb63a5271d9fd54.jpg  \n",
            "  inflating: cocoa_new/train/img_1949_JPG_jpg.rf.4b2e76e19559b5a4466c27121fba3622.jpg  \n",
            "  inflating: cocoa_new/train/img_473_JPG_jpg.rf.9e519b6571180ccb11bb88e97bd89f83.xml  \n",
            "  inflating: cocoa_new/train/img_1184_JPG_jpg.rf.631a5266070e708a7b92daff7040a8c3.jpg  \n",
            "  inflating: cocoa_new/train/img_669_JPG_jpg.rf.13dad601c1fd6d113043e0f6f21a877e.xml  \n",
            "  inflating: cocoa_new/train/img_953_JPG_jpg.rf.560de4e73c2307d3633ca63c2af97b1a.jpg  \n",
            "  inflating: cocoa_new/train/img_125_JPG_jpg.rf.3759a1c2c9235a8a35118c22045c29b0.jpg  \n",
            "  inflating: cocoa_new/train/img_865_JPG_jpg.rf.a9b486d96ddf9e5efebe600c42cc5b8f.xml  \n",
            "  inflating: cocoa_new/train/img_471_JPG_jpg.rf.fd69c8497f234531931a359b452ab9ba.jpg  \n",
            "  inflating: cocoa_new/train/img_433_JPG_jpg.rf.57fad33cdd212e376f6008b6a5c62441.jpg  \n",
            "  inflating: cocoa_new/train/img_2991_JPG_jpg.rf.90e0f827ef71b34599b2e151c618677a.xml  \n",
            "  inflating: cocoa_new/train/img_3983_JPG_jpg.rf.d7964aa2b456d8272f7787671ef02032.jpg  \n",
            "  inflating: cocoa_new/train/img_914_JPG_jpg.rf.958b542f118976e224f4d71451b38796.xml  \n",
            "  inflating: cocoa_new/train/img_1613_JPG_jpg.rf.5e7b144aae4c41bfa24b1768da2945a0.jpg  \n",
            "  inflating: cocoa_new/train/img_3491_JPG_jpg.rf.8beabcc57d357a34bdd6bd376a5f85bf.xml  \n",
            "  inflating: cocoa_new/train/img_16_JPG_jpg.rf.178450fbb665b5c0dc386afdc619cff4.jpg  \n",
            "  inflating: cocoa_new/train/img_1329_JPG_jpg.rf.fecb807e275f120d62807c78118feae5.jpg  \n",
            "  inflating: cocoa_new/train/img_1333_JPG_jpg.rf.f1cf5eee4d23a6322a0ea1e0e29848d8.xml  \n",
            "  inflating: cocoa_new/train/img_3447_JPG_jpg.rf.38dd53d8447700323f09b9d984d0b2df.jpg  \n",
            "  inflating: cocoa_new/train/img_1790_JPG_jpg.rf.0151243d2071c6dfa3b0de46b3cdefc3.xml  \n",
            "  inflating: cocoa_new/train/img_1215_JPG_jpg.rf.2dce536d52ff483cfd95dda2976f5055.jpg  \n",
            "  inflating: cocoa_new/train/img_3825_JPG_jpg.rf.b35b4398a2d44fe2a3cd98471d91c90c.xml  \n",
            "  inflating: cocoa_new/train/img_3935_JPG_jpg.rf.74cd8231f3b5b6497bf90fcba962c5af.xml  \n",
            "  inflating: cocoa_new/train/img_1886_JPG_jpg.rf.d39ef109ff7c861c9526c669052784aa.xml  \n",
            "  inflating: cocoa_new/train/img_1266_JPG_jpg.rf.56f3228991156586e46f23b96fe7b7a5.xml  \n",
            "  inflating: cocoa_new/train/img_2348_JPG_jpg.rf.0f973a31851a48383c2a97bde7ace4c0.jpg  \n",
            "  inflating: cocoa_new/train/img_169_JPG_jpg.rf.bed2524192234d8c08fb8479d2ab4af8.xml  \n",
            "  inflating: cocoa_new/train/img_3447_JPG_jpg.rf.38dd53d8447700323f09b9d984d0b2df.xml  \n",
            "  inflating: cocoa_new/train/img_1790_JPG_jpg.rf.0151243d2071c6dfa3b0de46b3cdefc3.jpg  \n",
            "  inflating: cocoa_new/train/img_1215_JPG_jpg.rf.2dce536d52ff483cfd95dda2976f5055.xml  \n",
            "  inflating: cocoa_new/train/img_3825_JPG_jpg.rf.b35b4398a2d44fe2a3cd98471d91c90c.jpg  \n",
            "  inflating: cocoa_new/train/img_2348_JPG_jpg.rf.0f973a31851a48383c2a97bde7ace4c0.xml  \n",
            "  inflating: cocoa_new/train/img_169_JPG_jpg.rf.bed2524192234d8c08fb8479d2ab4af8.jpg  \n",
            "  inflating: cocoa_new/train/img_3935_JPG_jpg.rf.74cd8231f3b5b6497bf90fcba962c5af.jpg  \n",
            "  inflating: cocoa_new/train/img_1886_JPG_jpg.rf.d39ef109ff7c861c9526c669052784aa.jpg  \n",
            "  inflating: cocoa_new/train/img_1266_JPG_jpg.rf.56f3228991156586e46f23b96fe7b7a5.jpg  \n",
            "  inflating: cocoa_new/train/img_2991_JPG_jpg.rf.90e0f827ef71b34599b2e151c618677a.jpg  \n",
            "  inflating: cocoa_new/train/img_914_JPG_jpg.rf.958b542f118976e224f4d71451b38796.jpg  \n",
            "  inflating: cocoa_new/train/img_3983_JPG_jpg.rf.d7964aa2b456d8272f7787671ef02032.xml  \n",
            "  inflating: cocoa_new/train/img_433_JPG_jpg.rf.57fad33cdd212e376f6008b6a5c62441.xml  \n",
            "  inflating: cocoa_new/train/img_1329_JPG_jpg.rf.fecb807e275f120d62807c78118feae5.xml  \n",
            "  inflating: cocoa_new/train/img_1333_JPG_jpg.rf.f1cf5eee4d23a6322a0ea1e0e29848d8.jpg  \n",
            "  inflating: cocoa_new/train/img_3491_JPG_jpg.rf.8beabcc57d357a34bdd6bd376a5f85bf.jpg  \n",
            "  inflating: cocoa_new/train/img_1613_JPG_jpg.rf.5e7b144aae4c41bfa24b1768da2945a0.xml  \n",
            "  inflating: cocoa_new/train/img_16_JPG_jpg.rf.178450fbb665b5c0dc386afdc619cff4.xml  \n",
            "  inflating: cocoa_new/train/img_2811_JPG_jpg.rf.83d6d679307cb28b8fc0ff6c1d2f1c0d.xml  \n",
            "  inflating: cocoa_new/train/img_3686_JPG_jpg.rf.9a578fc2ca7ba1798396f1294bf7ffbd.jpg  \n",
            "  inflating: cocoa_new/train/img_819_JPG_jpg.rf.cbd43c73ac5094ceae02e72ce6e516d2.xml  \n",
            "  inflating: cocoa_new/train/img_1609_JPG_jpg.rf.e3467107687b8aeae22dc53566c9956e.xml  \n",
            "  inflating: cocoa_new/train/img_547_JPG_jpg.rf.cdaa370ccd62be5feb5e232813790c76.jpg  \n",
            "  inflating: cocoa_new/train/img_737_JPG_jpg.rf.a2183f12484f42bd569990f56211b45a.xml  \n",
            "  inflating: cocoa_new/train/img_3283_JPG_jpg.rf.b1728a2a520639d14c8395c77e54f46c.jpg  \n",
            "  inflating: cocoa_new/train/img_209_JPG_jpg.rf.f4fe3561d482ecaa99fa275e5f173df5.jpg  \n",
            "  inflating: cocoa_new/train/img_3432_JPG_jpg.rf.75e59d317c018a50751a27d60ae24b2d.jpg  \n",
            "  inflating: cocoa_new/train/img_1855_JPG_jpg.rf.7cc22477cfad3b733f96b957c7e92902.jpg  \n",
            "  inflating: cocoa_new/train/img_898_JPG_jpg.rf.4dc6a3fe9f220032a2678497c3d83e4a.xml  \n",
            "  inflating: cocoa_new/train/img_1176_JPG_jpg.rf.cc090cc5e52945dba601b87665cb2fda.xml  \n",
            "  inflating: cocoa_new/train/img_3888_JPG_jpg.rf.4d7610df021d665591c952d6b66018e7.jpg  \n",
            "  inflating: cocoa_new/train/img_3626_JPG_jpg.rf.3ae4600291755bf7a447d889d9f52b6c.jpg  \n",
            "  inflating: cocoa_new/train/img_3801_JPG_jpg.rf.ddcb4157b9cac205e3c0583490971ad0.xml  \n",
            "  inflating: cocoa_new/train/img_600_JPG_jpg.rf.67a424891bfbf6f63475c166cdfa33cb.jpg  \n",
            "  inflating: cocoa_new/train/img_286_JPG_jpg.rf.d691ef365a51d8c5d998637a51ec1a11.jpg  \n",
            "  inflating: cocoa_new/train/img_1421_JPG_jpg.rf.0a514ff45a40929b57880e218f7ccfa4.jpg  \n",
            "  inflating: cocoa_new/train/img_3828_JPG_jpg.rf.a5b7a31c2fab20da6f0761f2eb27b49d.xml  \n",
            "  inflating: cocoa_new/train/img_707_JPG_jpg.rf.55d5b3dbdcd879fe8646aade68ec9149.xml  \n",
            "  inflating: cocoa_new/train/img_3327_JPG_jpg.rf.3130730f94f714943977b651b5e46159.jpg  \n",
            "  inflating: cocoa_new/train/img_3022_JPG_jpg.rf.cba03b6e7024d820467a67e1c2e97bb6.xml  \n",
            "  inflating: cocoa_new/train/img_912_JPG_jpg.rf.ae0c5a5695d9cf5e3aee33d5663c432d.jpg  \n",
            "  inflating: cocoa_new/train/img_694_JPG_jpg.rf.a388b284d9eb0cd1dae6207ce4e5435f.xml  \n",
            "  inflating: cocoa_new/train/img_600_JPG_jpg.rf.67a424891bfbf6f63475c166cdfa33cb.xml  \n",
            "  inflating: cocoa_new/train/img_286_JPG_jpg.rf.d691ef365a51d8c5d998637a51ec1a11.xml  \n",
            "  inflating: cocoa_new/train/img_3828_JPG_jpg.rf.a5b7a31c2fab20da6f0761f2eb27b49d.jpg  \n",
            "  inflating: cocoa_new/train/img_1421_JPG_jpg.rf.0a514ff45a40929b57880e218f7ccfa4.xml  \n",
            "  inflating: cocoa_new/train/img_3626_JPG_jpg.rf.3ae4600291755bf7a447d889d9f52b6c.xml  \n",
            "  inflating: cocoa_new/train/img_3801_JPG_jpg.rf.ddcb4157b9cac205e3c0583490971ad0.jpg  \n",
            "  inflating: cocoa_new/train/img_3022_JPG_jpg.rf.cba03b6e7024d820467a67e1c2e97bb6.jpg  \n",
            "  inflating: cocoa_new/train/img_912_JPG_jpg.rf.ae0c5a5695d9cf5e3aee33d5663c432d.xml  \n",
            "  inflating: cocoa_new/train/img_694_JPG_jpg.rf.a388b284d9eb0cd1dae6207ce4e5435f.jpg  \n",
            "  inflating: cocoa_new/train/img_707_JPG_jpg.rf.55d5b3dbdcd879fe8646aade68ec9149.jpg  \n",
            "  inflating: cocoa_new/train/img_3327_JPG_jpg.rf.3130730f94f714943977b651b5e46159.xml  \n",
            "  inflating: cocoa_new/train/img_737_JPG_jpg.rf.a2183f12484f42bd569990f56211b45a.jpg  \n",
            "  inflating: cocoa_new/train/img_3686_JPG_jpg.rf.9a578fc2ca7ba1798396f1294bf7ffbd.xml  \n",
            "  inflating: cocoa_new/train/img_2811_JPG_jpg.rf.83d6d679307cb28b8fc0ff6c1d2f1c0d.jpg  \n",
            "  inflating: cocoa_new/train/img_819_JPG_jpg.rf.cbd43c73ac5094ceae02e72ce6e516d2.jpg  \n",
            "  inflating: cocoa_new/train/img_1609_JPG_jpg.rf.e3467107687b8aeae22dc53566c9956e.jpg  \n",
            "  inflating: cocoa_new/train/img_547_JPG_jpg.rf.cdaa370ccd62be5feb5e232813790c76.xml  \n",
            "  inflating: cocoa_new/train/img_1176_JPG_jpg.rf.cc090cc5e52945dba601b87665cb2fda.jpg  \n",
            "  inflating: cocoa_new/train/img_3888_JPG_jpg.rf.4d7610df021d665591c952d6b66018e7.xml  \n",
            "  inflating: cocoa_new/train/img_209_JPG_jpg.rf.f4fe3561d482ecaa99fa275e5f173df5.xml  \n",
            "  inflating: cocoa_new/train/img_3283_JPG_jpg.rf.b1728a2a520639d14c8395c77e54f46c.xml  \n",
            "  inflating: cocoa_new/train/img_3432_JPG_jpg.rf.75e59d317c018a50751a27d60ae24b2d.xml  \n",
            "  inflating: cocoa_new/train/img_898_JPG_jpg.rf.4dc6a3fe9f220032a2678497c3d83e4a.jpg  \n",
            "  inflating: cocoa_new/train/img_1855_JPG_jpg.rf.7cc22477cfad3b733f96b957c7e92902.xml  \n",
            "  inflating: cocoa_new/train/img_3066_JPG_jpg.rf.8341df3b6e1554440a37b7c316c2d23e.xml  \n",
            "  inflating: cocoa_new/train/img_3273_JPG_jpg.rf.1c5a9b97a561ce72b5f75e27e54a3c04.jpg  \n",
            "  inflating: cocoa_new/train/img_2582_JPG_jpg.rf.144547322e1ab2e8b53b41acdd757bcf.jpg  \n",
            "  inflating: cocoa_new/train/img_4129_JPG_jpg.rf.ed8fc8ae3e707f3ee3db77cc216c8a43.jpg  \n",
            "  inflating: cocoa_new/train/img_2549_JPG_jpg.rf.010a9ff6c28ae4c76b0c3fd5a38d26c3.xml  \n",
            "  inflating: cocoa_new/train/img_2727_JPG_jpg.rf.7c48b9bddbab0826ee841f9ebade7dd2.jpg  \n",
            "  inflating: cocoa_new/train/img_4130_JPG_jpg.rf.7facc464e54dac5ab3c0a71339901270.xml  \n",
            "  inflating: cocoa_new/train/img_1638_JPG_jpg.rf.b86b6e3073b418493af75ecc08a537f0.jpg  \n",
            "  inflating: cocoa_new/train/img_3541_JPG_jpg.rf.013c697746444d2ca8ecae0799a75a1f.xml  \n",
            "  inflating: cocoa_new/train/img_342_JPG_jpg.rf.5436cb10728ff43667863d0c3971e55e.jpg  \n",
            "  inflating: cocoa_new/train/img_1396_JPG_jpg.rf.4bf2485403ef7d1628efb537565da6e3.jpg  \n",
            "  inflating: cocoa_new/train/img_3601_JPG_jpg.rf.4d5b8d2ccb74c9d69025a068036c3f4f.jpg  \n",
            "  inflating: cocoa_new/train/img_3197_JPG_jpg.rf.c198e165aa1807f0457d75888cf8ea03.jpg  \n",
            "  inflating: cocoa_new/train/img_1267_JPG_jpg.rf.24339a08b7120c9cf2cfae8e5785c6c0.jpg  \n",
            "  inflating: cocoa_new/train/img_767_JPG_jpg.rf.bfb947da357fad5d254b2b289032fa02.jpg  \n",
            "  inflating: cocoa_new/train/img_2636_JPG_jpg.rf.0c9df6613e5bc127371f68ad5767e922.jpg  \n",
            "  inflating: cocoa_new/train/img_3404_JPG_jpg.rf.4c9488bcb5e1e60479a657242902ae6d.jpg  \n",
            "  inflating: cocoa_new/train/img_1748_JPG_jpg.rf.0aba6e5a58aced3059fb74ceb0f15a61.xml  \n",
            "  inflating: cocoa_new/train/img_191_JPG_jpg.rf.bf1e16f1ab7ec5f5379c570cd859ba9c.xml  \n",
            "  inflating: cocoa_new/train/img_1396_JPG_jpg.rf.4bf2485403ef7d1628efb537565da6e3.xml  \n",
            "  inflating: cocoa_new/train/img_3601_JPG_jpg.rf.4d5b8d2ccb74c9d69025a068036c3f4f.xml  \n",
            "  inflating: cocoa_new/train/img_3197_JPG_jpg.rf.c198e165aa1807f0457d75888cf8ea03.xml  \n",
            "  inflating: cocoa_new/train/img_767_JPG_jpg.rf.bfb947da357fad5d254b2b289032fa02.xml  \n",
            "  inflating: cocoa_new/train/img_2636_JPG_jpg.rf.0c9df6613e5bc127371f68ad5767e922.xml  \n",
            "  inflating: cocoa_new/train/img_1267_JPG_jpg.rf.24339a08b7120c9cf2cfae8e5785c6c0.xml  \n",
            "  inflating: cocoa_new/train/img_4130_JPG_jpg.rf.7facc464e54dac5ab3c0a71339901270.jpg  \n",
            "  inflating: cocoa_new/train/img_1638_JPG_jpg.rf.b86b6e3073b418493af75ecc08a537f0.xml  \n",
            "  inflating: cocoa_new/train/img_3541_JPG_jpg.rf.013c697746444d2ca8ecae0799a75a1f.jpg  \n",
            "  inflating: cocoa_new/train/img_342_JPG_jpg.rf.5436cb10728ff43667863d0c3971e55e.xml  \n",
            "  inflating: cocoa_new/train/img_191_JPG_jpg.rf.bf1e16f1ab7ec5f5379c570cd859ba9c.jpg  \n",
            "  inflating: cocoa_new/train/img_1748_JPG_jpg.rf.0aba6e5a58aced3059fb74ceb0f15a61.jpg  \n",
            "  inflating: cocoa_new/train/img_3404_JPG_jpg.rf.4c9488bcb5e1e60479a657242902ae6d.xml  \n",
            "  inflating: cocoa_new/train/img_2582_JPG_jpg.rf.144547322e1ab2e8b53b41acdd757bcf.xml  \n",
            "  inflating: cocoa_new/train/img_4129_JPG_jpg.rf.ed8fc8ae3e707f3ee3db77cc216c8a43.xml  \n",
            "  inflating: cocoa_new/train/img_2549_JPG_jpg.rf.010a9ff6c28ae4c76b0c3fd5a38d26c3.jpg  \n",
            "  inflating: cocoa_new/train/img_3066_JPG_jpg.rf.8341df3b6e1554440a37b7c316c2d23e.jpg  \n",
            "  inflating: cocoa_new/train/img_3273_JPG_jpg.rf.1c5a9b97a561ce72b5f75e27e54a3c04.xml  \n",
            "  inflating: cocoa_new/train/img_2727_JPG_jpg.rf.7c48b9bddbab0826ee841f9ebade7dd2.xml  \n",
            "  inflating: cocoa_new/train/img_4144_JPG_jpg.rf.cb792f41ce7455f1ae299c84f019e4e7.xml  \n",
            "  inflating: cocoa_new/train/img_3528_JPG_jpg.rf.b9bad2fb1a693d3295cd25f25e78468b.jpg  \n",
            "  inflating: cocoa_new/train/img_3964_JPG_jpg.rf.b0cb8614840634a1766a0df5d25af7cc.xml  \n",
            "  inflating: cocoa_new/train/img_3523_JPG_jpg.rf.8d7eabd987cd6de9edd8fce6ac91e3fb.xml  \n",
            "  inflating: cocoa_new/train/img_790_JPG_jpg.rf.c2fa224274884b9d2c0762e828b1f896.jpg  \n",
            "  inflating: cocoa_new/train/img_3418_JPG_jpg.rf.1ab56ece670bb227f4f24792a30d955f.jpg  \n",
            "  inflating: cocoa_new/train/img_1582_JPG_jpg.rf.d7dfba4078519d66ddd750ce509bf412.xml  \n",
            "  inflating: cocoa_new/train/img_108_JPG_jpg.rf.6fbe9dda7ccb23ad879c35038be80ec7.jpg  \n",
            "  inflating: cocoa_new/train/img_868_JPG_jpg.rf.b6501fea806cc837da7fe6d8967edf82.xml  \n",
            "  inflating: cocoa_new/train/img_3661_JPG_jpg.rf.c79c4d0718555f2ef5de6861b003a49a.xml  \n",
            "  inflating: cocoa_new/train/img_3099_JPG_jpg.rf.dc4fa26205232067f3f06a1b8f9c73dc.jpg  \n",
            "  inflating: cocoa_new/train/img_2623_JPG_jpg.rf.156d5e9a45ead4e6a36dff9cd00c4531.xml  \n",
            "  inflating: cocoa_new/train/img_3358_JPG_jpg.rf.ce89498ec382cb485b075629b0e12a89.xml  \n",
            "  inflating: cocoa_new/train/img_1383_JPG_jpg.rf.bc7e484ef51142f547003f51132ff37b.jpg  \n",
            "  inflating: cocoa_new/train/img_2362_JPG_jpg.rf.1e78acfbc2de9845d2cd6950292b958c.jpg  \n",
            "  inflating: cocoa_new/train/img_1708_JPG_jpg.rf.941d75e7ffecb24cbc20a357706f1f35.xml  \n",
            "  inflating: cocoa_new/train/img_2930_JPG_jpg.rf.e6dfbab6a5743609459483dd40c26764.jpg  \n",
            "  inflating: cocoa_new/train/img_3413_JPG_jpg.rf.65fc51ac7631004f587c47c7483236da.jpg  \n",
            "  inflating: cocoa_new/train/img_3463_JPG_jpg.rf.12794fa4c4b4c24265f2b8f49d358c1f.jpg  \n",
            "  inflating: cocoa_new/train/img_3122_JPG_jpg.rf.6d174ea723d55d063444ce3b817d04b8.jpg  \n",
            "  inflating: cocoa_new/train/img_50_JPG_jpg.rf.611d452b8e07a5da960198344a1fb27a.xml  \n",
            "  inflating: cocoa_new/train/img_1916_JPG_jpg.rf.676b067405f38eb30e92c6d31ba01193.xml  \n",
            "  inflating: cocoa_new/train/img_2316_JPG_jpg.rf.ccc886012ad1f3319fbf67fd688f4295.jpg  \n",
            "  inflating: cocoa_new/train/img_2623_JPG_jpg.rf.156d5e9a45ead4e6a36dff9cd00c4531.jpg  \n",
            "  inflating: cocoa_new/train/img_3358_JPG_jpg.rf.ce89498ec382cb485b075629b0e12a89.jpg  \n",
            "  inflating: cocoa_new/train/img_1383_JPG_jpg.rf.bc7e484ef51142f547003f51132ff37b.xml  \n",
            "  inflating: cocoa_new/train/img_2362_JPG_jpg.rf.1e78acfbc2de9845d2cd6950292b958c.xml  \n",
            "  inflating: cocoa_new/train/img_868_JPG_jpg.rf.b6501fea806cc837da7fe6d8967edf82.jpg  \n",
            "  inflating: cocoa_new/train/img_3661_JPG_jpg.rf.c79c4d0718555f2ef5de6861b003a49a.jpg  \n",
            "  inflating: cocoa_new/train/img_3099_JPG_jpg.rf.dc4fa26205232067f3f06a1b8f9c73dc.xml  \n",
            "  inflating: cocoa_new/train/img_3122_JPG_jpg.rf.6d174ea723d55d063444ce3b817d04b8.xml  \n",
            "  inflating: cocoa_new/train/img_50_JPG_jpg.rf.611d452b8e07a5da960198344a1fb27a.jpg  \n",
            "  inflating: cocoa_new/train/img_1916_JPG_jpg.rf.676b067405f38eb30e92c6d31ba01193.jpg  \n",
            "  inflating: cocoa_new/train/img_2316_JPG_jpg.rf.ccc886012ad1f3319fbf67fd688f4295.xml  \n",
            "  inflating: cocoa_new/train/img_2930_JPG_jpg.rf.e6dfbab6a5743609459483dd40c26764.xml  \n",
            "  inflating: cocoa_new/train/img_1708_JPG_jpg.rf.941d75e7ffecb24cbc20a357706f1f35.jpg  \n",
            "  inflating: cocoa_new/train/img_3413_JPG_jpg.rf.65fc51ac7631004f587c47c7483236da.xml  \n",
            "  inflating: cocoa_new/train/img_3463_JPG_jpg.rf.12794fa4c4b4c24265f2b8f49d358c1f.xml  \n",
            "  inflating: cocoa_new/train/img_4144_JPG_jpg.rf.cb792f41ce7455f1ae299c84f019e4e7.jpg  \n",
            "  inflating: cocoa_new/train/img_3528_JPG_jpg.rf.b9bad2fb1a693d3295cd25f25e78468b.xml  \n",
            "  inflating: cocoa_new/train/img_3964_JPG_jpg.rf.b0cb8614840634a1766a0df5d25af7cc.jpg  \n",
            "  inflating: cocoa_new/train/img_3418_JPG_jpg.rf.1ab56ece670bb227f4f24792a30d955f.xml  \n",
            "  inflating: cocoa_new/train/img_1582_JPG_jpg.rf.d7dfba4078519d66ddd750ce509bf412.jpg  \n",
            "  inflating: cocoa_new/train/img_108_JPG_jpg.rf.6fbe9dda7ccb23ad879c35038be80ec7.xml  \n",
            "  inflating: cocoa_new/train/img_3523_JPG_jpg.rf.8d7eabd987cd6de9edd8fce6ac91e3fb.jpg  \n",
            "  inflating: cocoa_new/train/img_790_JPG_jpg.rf.c2fa224274884b9d2c0762e828b1f896.xml  \n",
            "  inflating: cocoa_new/train/img_665_JPG_jpg.rf.cd33ed0bd601e6fb0bf1b67b4b54962d.xml  \n",
            "  inflating: cocoa_new/train/img_566_JPG_jpg.rf.fe4a8cfc07de303ea631f1e9a83b198e.jpg  \n",
            "  inflating: cocoa_new/train/img_2540_JPG_jpg.rf.dbaaa6b71258708448c4ca5bb9455ed9.jpg  \n",
            "  inflating: cocoa_new/train/img_2799_JPG_jpg.rf.2b09038addde7b909dd125bd0e3c15b2.jpg  \n",
            "  inflating: cocoa_new/train/img_1726_JPG_jpg.rf.2c09cc9ce9818d80f16c62be868a353c.xml  \n",
            "  inflating: cocoa_new/train/img_385_JPG_jpg.rf.a936d13f37cec8406f26aea6d83e9233.jpg  \n",
            "  inflating: cocoa_new/train/img_2479_JPG_jpg.rf.8052349e4f8e9e150c818f12588f5646.jpg  \n",
            "  inflating: cocoa_new/train/img_3067_JPG_jpg.rf.5573e3b448d61b4b3ea26f499abaacc7.xml  \n",
            "  inflating: cocoa_new/train/img_18_JPG_jpg.rf.b76e5d1ecf39c2a6c73c9843f5d85108.jpg  \n",
            "  inflating: cocoa_new/train/img_316_JPG_jpg.rf.bd1a0d3d5a59c13b4c7fbbe1e00515b6.jpg  \n",
            "  inflating: cocoa_new/train/img_563_JPG_jpg.rf.9020e8c410bdfcb84b80e63223fd79f6.jpg  \n",
            "  inflating: cocoa_new/train/img_3215_JPG_jpg.rf.b2cbbca1a4544310a425587811b07bc1.jpg  \n",
            "  inflating: cocoa_new/train/img_730_JPG_jpg.rf.8304a0276a39f8b0f9d6b9c7554ffae4.xml  \n",
            "  inflating: cocoa_new/train/img_844_JPG_jpg.rf.c322dde8befe40a1196349472e2fd3e1.jpg  \n",
            "  inflating: cocoa_new/train/img_1984_JPG_jpg.rf.e46947e003df255ac78c847915d58699.xml  \n",
            "  inflating: cocoa_new/train/img_1133_JPG_jpg.rf.c2a9b63baef1296dbdec7c6dad9f4047.xml  \n",
            "  inflating: cocoa_new/train/img_3277_JPG_jpg.rf.54c212d6668618ebd850d189b5fb3e2e.xml  \n",
            "  inflating: cocoa_new/train/img_397_JPG_jpg.rf.98b909bcf830be6a904dc5b439a388d0.xml  \n",
            "  inflating: cocoa_new/train/img_2859_JPG_jpg.rf.462d66cd7bb587c2ad20f1483b9c1cde.xml  \n",
            "  inflating: cocoa_new/train/img_61_JPG_jpg.rf.26645543fb1b69dacea63670be7d8afb.jpg  \n",
            "  inflating: cocoa_new/train/img_3215_JPG_jpg.rf.b2cbbca1a4544310a425587811b07bc1.xml  \n",
            "  inflating: cocoa_new/train/img_730_JPG_jpg.rf.8304a0276a39f8b0f9d6b9c7554ffae4.jpg  \n",
            "  inflating: cocoa_new/train/img_844_JPG_jpg.rf.c322dde8befe40a1196349472e2fd3e1.xml  \n",
            "  inflating: cocoa_new/train/img_1984_JPG_jpg.rf.e46947e003df255ac78c847915d58699.jpg  \n",
            "  inflating: cocoa_new/train/img_316_JPG_jpg.rf.bd1a0d3d5a59c13b4c7fbbe1e00515b6.xml  \n",
            "  inflating: cocoa_new/train/img_563_JPG_jpg.rf.9020e8c410bdfcb84b80e63223fd79f6.xml  \n",
            "  inflating: cocoa_new/train/img_61_JPG_jpg.rf.26645543fb1b69dacea63670be7d8afb.xml  \n",
            "  inflating: cocoa_new/train/img_1133_JPG_jpg.rf.c2a9b63baef1296dbdec7c6dad9f4047.jpg  \n",
            "  inflating: cocoa_new/train/img_3277_JPG_jpg.rf.54c212d6668618ebd850d189b5fb3e2e.jpg  \n",
            "  inflating: cocoa_new/train/img_397_JPG_jpg.rf.98b909bcf830be6a904dc5b439a388d0.jpg  \n",
            "  inflating: cocoa_new/train/img_2859_JPG_jpg.rf.462d66cd7bb587c2ad20f1483b9c1cde.jpg  \n",
            "  inflating: cocoa_new/train/img_566_JPG_jpg.rf.fe4a8cfc07de303ea631f1e9a83b198e.xml  \n",
            "  inflating: cocoa_new/train/img_2540_JPG_jpg.rf.dbaaa6b71258708448c4ca5bb9455ed9.xml  \n",
            "  inflating: cocoa_new/train/img_2799_JPG_jpg.rf.2b09038addde7b909dd125bd0e3c15b2.xml  \n",
            "  inflating: cocoa_new/train/img_665_JPG_jpg.rf.cd33ed0bd601e6fb0bf1b67b4b54962d.jpg  \n",
            "  inflating: cocoa_new/train/img_3067_JPG_jpg.rf.5573e3b448d61b4b3ea26f499abaacc7.jpg  \n",
            "  inflating: cocoa_new/train/img_18_JPG_jpg.rf.b76e5d1ecf39c2a6c73c9843f5d85108.xml  \n",
            "  inflating: cocoa_new/train/img_1726_JPG_jpg.rf.2c09cc9ce9818d80f16c62be868a353c.jpg  \n",
            "  inflating: cocoa_new/train/img_385_JPG_jpg.rf.a936d13f37cec8406f26aea6d83e9233.xml  \n",
            "  inflating: cocoa_new/train/img_2479_JPG_jpg.rf.8052349e4f8e9e150c818f12588f5646.xml  \n",
            "  inflating: cocoa_new/train/img_1511_JPG_jpg.rf.2447d32e234b3224f413f437b70cbc6e.jpg  \n",
            "  inflating: cocoa_new/train/img_1737_JPG_jpg.rf.93a1b660fd344cf35c0945dc48107ed8.xml  \n",
            "  inflating: cocoa_new/train/img_3347_JPG_jpg.rf.3f350beb00e867c9673d66754234630a.xml  \n",
            "  inflating: cocoa_new/train/img_459_JPG_jpg.rf.6a5ac2e8c2ef19f5e4fbc38e904bff78.jpg  \n",
            "  inflating: cocoa_new/train/img_3641_JPG_jpg.rf.0586cc7334e3e339177d9c5ceee9181a.jpg  \n",
            "  inflating: cocoa_new/train/img_3592_JPG_jpg.rf.56de1ecf1f8b3637cbe534c0ceb6d5ad.xml  \n",
            "  inflating: cocoa_new/train/img_1412_JPG_jpg.rf.2db2314e13519bcc808c6bfe6acbbae6.jpg  \n",
            "  inflating: cocoa_new/train/img_3113_JPG_jpg.rf.f5946a82928d0a85d0319cbd3321e7dd.jpg  \n",
            "  inflating: cocoa_new/train/img_3739_JPG_jpg.rf.c37b946655e647ba4371c64b8227b1c5.jpg  \n",
            "  inflating: cocoa_new/train/img_1520_JPG_jpg.rf.0573b0533f91794d6d478089999d552e.jpg  \n",
            "  inflating: cocoa_new/train/img_3665_JPG_jpg.rf.98367d896aa87da395b46341906bfabb.xml  \n",
            "  inflating: cocoa_new/train/img_3200_JPG_jpg.rf.d7d8354d44ae4fd023a8a81c046537f3.xml  \n",
            "  inflating: cocoa_new/train/img_2544_JPG_jpg.rf.469656f8d7f8d13921653b527ad07ff3.jpg  \n",
            "  inflating: cocoa_new/train/img_3345_JPG_jpg.rf.3c9857a07f0dd6d864074291ca14f122.xml  \n",
            "  inflating: cocoa_new/train/img_2345_JPG_jpg.rf.0020ac421f5dd2de40f463bf23e19829.xml  \n",
            "  inflating: cocoa_new/train/img_3972_JPG_jpg.rf.bd9c89da28caae5c8bc8c2f1d8fdfdad.jpg  \n",
            "  inflating: cocoa_new/train/img_3882_JPG_jpg.rf.b596f04a87124012c75fc439e82db6ac.jpg  \n",
            "  inflating: cocoa_new/train/img_374_JPG_jpg.rf.204e45b0a6fee0d8ec88e12c15740ccd.jpg  \n",
            "  inflating: cocoa_new/train/img_628_JPG_jpg.rf.f9d816ba4f80158001b4187acd5069fa.jpg  \n",
            "  inflating: cocoa_new/train/img_2518_JPG_jpg.rf.a7bbdd4b16b6094a25c27544927c66ed.jpg  \n",
            "  inflating: cocoa_new/train/img_4042_JPG_jpg.rf.a21356499764caf1c4bce3ca08e08f27.jpg  \n",
            "  inflating: cocoa_new/train/img_2480_JPG_jpg.rf.21f61d4b51c87db7c1de8b4d1b411068.xml  \n",
            "  inflating: cocoa_new/train/img_3234_JPG_jpg.rf.e324f8dd35a5d78c6a9ac4f7d576e51c.xml  \n",
            "  inflating: cocoa_new/train/img_3972_JPG_jpg.rf.bd9c89da28caae5c8bc8c2f1d8fdfdad.xml  \n",
            "  inflating: cocoa_new/train/img_374_JPG_jpg.rf.204e45b0a6fee0d8ec88e12c15740ccd.xml  \n",
            "  inflating: cocoa_new/train/img_3882_JPG_jpg.rf.b596f04a87124012c75fc439e82db6ac.xml  \n",
            "  inflating: cocoa_new/train/img_2544_JPG_jpg.rf.469656f8d7f8d13921653b527ad07ff3.xml  \n",
            "  inflating: cocoa_new/train/img_3345_JPG_jpg.rf.3c9857a07f0dd6d864074291ca14f122.jpg  \n",
            "  inflating: cocoa_new/train/img_2345_JPG_jpg.rf.0020ac421f5dd2de40f463bf23e19829.jpg  \n",
            "  inflating: cocoa_new/train/img_2518_JPG_jpg.rf.a7bbdd4b16b6094a25c27544927c66ed.xml  \n",
            "  inflating: cocoa_new/train/img_4042_JPG_jpg.rf.a21356499764caf1c4bce3ca08e08f27.xml  \n",
            "  inflating: cocoa_new/train/img_2480_JPG_jpg.rf.21f61d4b51c87db7c1de8b4d1b411068.jpg  \n",
            "  inflating: cocoa_new/train/img_3234_JPG_jpg.rf.e324f8dd35a5d78c6a9ac4f7d576e51c.jpg  \n",
            "  inflating: cocoa_new/train/img_628_JPG_jpg.rf.f9d816ba4f80158001b4187acd5069fa.xml  \n",
            "  inflating: cocoa_new/train/img_459_JPG_jpg.rf.6a5ac2e8c2ef19f5e4fbc38e904bff78.xml  \n",
            "  inflating: cocoa_new/train/img_3347_JPG_jpg.rf.3f350beb00e867c9673d66754234630a.jpg  \n",
            "  inflating: cocoa_new/train/img_3641_JPG_jpg.rf.0586cc7334e3e339177d9c5ceee9181a.xml  \n",
            "  inflating: cocoa_new/train/img_1511_JPG_jpg.rf.2447d32e234b3224f413f437b70cbc6e.xml  \n",
            "  inflating: cocoa_new/train/img_1737_JPG_jpg.rf.93a1b660fd344cf35c0945dc48107ed8.jpg  \n",
            "  inflating: cocoa_new/train/img_3113_JPG_jpg.rf.f5946a82928d0a85d0319cbd3321e7dd.xml  \n",
            "  inflating: cocoa_new/train/img_3739_JPG_jpg.rf.c37b946655e647ba4371c64b8227b1c5.xml  \n",
            "  inflating: cocoa_new/train/img_1520_JPG_jpg.rf.0573b0533f91794d6d478089999d552e.xml  \n",
            "  inflating: cocoa_new/train/img_3200_JPG_jpg.rf.d7d8354d44ae4fd023a8a81c046537f3.jpg  \n",
            "  inflating: cocoa_new/train/img_3665_JPG_jpg.rf.98367d896aa87da395b46341906bfabb.jpg  \n",
            "  inflating: cocoa_new/train/img_3592_JPG_jpg.rf.56de1ecf1f8b3637cbe534c0ceb6d5ad.jpg  \n",
            "  inflating: cocoa_new/train/img_1412_JPG_jpg.rf.2db2314e13519bcc808c6bfe6acbbae6.xml  \n",
            "  inflating: cocoa_new/train/img_2443_JPG_jpg.rf.071c7520abb4703db3c7acef80c29771.xml  \n",
            "  inflating: cocoa_new/train/img_654_JPG_jpg.rf.62903dd6586bac75eeb53ba2c6b0de06.xml  \n",
            "  inflating: cocoa_new/train/img_3743_JPG_jpg.rf.35fd599b649f4d2f3cba9cd36321d0a4.xml  \n",
            "  inflating: cocoa_new/train/img_2400_JPG_jpg.rf.b3238b614a22e19a5b8c83d1124dd120.xml  \n",
            "  inflating: cocoa_new/train/img_3685_JPG_jpg.rf.a6198cb1cdda74fa62071abf8947ee47.jpg  \n",
            "  inflating: cocoa_new/train/img_2523_JPG_jpg.rf.dcaadd0e6bad356b6f8f46ebce8fe40c.xml  \n",
            "  inflating: cocoa_new/train/img_3695_JPG_jpg.rf.25b86d7f63ce0c8ba862d48d58b7f00f.jpg  \n",
            "  inflating: cocoa_new/train/img_3344_JPG_jpg.rf.c3b59d9880e4067162e88342ec4d0422.jpg  \n",
            "  inflating: cocoa_new/train/img_3924_JPG_jpg.rf.c39c94d7ffd105ee060ff6333e7a3517.xml  \n",
            "  inflating: cocoa_new/train/img_3305_JPG_jpg.rf.93628db21eb3c692c275eb1f7d08a47d.xml  \n",
            "  inflating: cocoa_new/train/img_2979_JPG_jpg.rf.4bd2cb70174e0b8b79b0ae9b74ae9f98.jpg  \n",
            "  inflating: cocoa_new/train/img_3772_JPG_jpg.rf.69e1e42ebdb0589afdcf00c13b63ca3b.jpg  \n",
            "  inflating: cocoa_new/train/img_696_JPG_jpg.rf.ac8780e15fd4d466b8ade6b272e28aee.xml  \n",
            "  inflating: cocoa_new/train/img_2566_JPG_jpg.rf.6a03a57d76415eb0199490863bd1b67b.xml  \n",
            "  inflating: cocoa_new/train/img_149_JPG_jpg.rf.8ae80d9dba92492517d915877ea6f1fe.xml  \n",
            "  inflating: cocoa_new/train/img_3409_JPG_jpg.rf.4623a63477c3c51f914a93736e3bf5d8.jpg  \n",
            "  inflating: cocoa_new/train/img_3305_JPG_jpg.rf.93628db21eb3c692c275eb1f7d08a47d.jpg  \n",
            "  inflating: cocoa_new/train/img_2979_JPG_jpg.rf.4bd2cb70174e0b8b79b0ae9b74ae9f98.xml  \n",
            "  inflating: cocoa_new/train/img_3344_JPG_jpg.rf.c3b59d9880e4067162e88342ec4d0422.xml  \n",
            "  inflating: cocoa_new/train/img_3924_JPG_jpg.rf.c39c94d7ffd105ee060ff6333e7a3517.jpg  \n",
            "  inflating: cocoa_new/train/img_149_JPG_jpg.rf.8ae80d9dba92492517d915877ea6f1fe.jpg  \n",
            "  inflating: cocoa_new/train/img_3409_JPG_jpg.rf.4623a63477c3c51f914a93736e3bf5d8.xml  \n",
            "  inflating: cocoa_new/train/img_3772_JPG_jpg.rf.69e1e42ebdb0589afdcf00c13b63ca3b.xml  \n",
            "  inflating: cocoa_new/train/img_696_JPG_jpg.rf.ac8780e15fd4d466b8ade6b272e28aee.jpg  \n",
            "  inflating: cocoa_new/train/img_2566_JPG_jpg.rf.6a03a57d76415eb0199490863bd1b67b.jpg  \n",
            "  inflating: cocoa_new/train/img_654_JPG_jpg.rf.62903dd6586bac75eeb53ba2c6b0de06.jpg  \n",
            "  inflating: cocoa_new/train/img_3743_JPG_jpg.rf.35fd599b649f4d2f3cba9cd36321d0a4.jpg  \n",
            "  inflating: cocoa_new/train/img_2400_JPG_jpg.rf.b3238b614a22e19a5b8c83d1124dd120.jpg  \n",
            "  inflating: cocoa_new/train/img_2443_JPG_jpg.rf.071c7520abb4703db3c7acef80c29771.jpg  \n",
            "  inflating: cocoa_new/train/img_3685_JPG_jpg.rf.a6198cb1cdda74fa62071abf8947ee47.xml  \n",
            "  inflating: cocoa_new/train/img_2523_JPG_jpg.rf.dcaadd0e6bad356b6f8f46ebce8fe40c.jpg  \n",
            "  inflating: cocoa_new/train/img_3695_JPG_jpg.rf.25b86d7f63ce0c8ba862d48d58b7f00f.xml  \n",
            "  inflating: cocoa_new/train/img_76_JPG_jpg.rf.ce75721179d9205a90f02330db1ea313.jpg  \n",
            "  inflating: cocoa_new/train/img_261_JPG_jpg.rf.1530590f07d6deb1d21339ef24d62fac.jpg  \n",
            "  inflating: cocoa_new/train/img_947_JPG_jpg.rf.00c94e0e61e40a94e28d2909ad78d183.xml  \n",
            "  inflating: cocoa_new/train/img_1303_JPG_jpg.rf.57c3966a2a70185e9aa512a738115c1b.xml  \n",
            "  inflating: cocoa_new/train/img_438_JPG_jpg.rf.052d8e1d33e3b56d5010ee57cdcd3413.xml  \n",
            "  inflating: cocoa_new/train/img_2452_JPG_jpg.rf.a3a42432ebb3b360f1352e402c1e3d0a.jpg  \n",
            "  inflating: cocoa_new/train/img_3332_JPG_jpg.rf.3f6dbbc13b9b635eced44146d6a98c89.jpg  \n",
            "  inflating: cocoa_new/train/img_757_JPG_jpg.rf.7328f1c752f4ff91fc6131b2ab29cbf6.jpg  \n",
            "  inflating: cocoa_new/train/img_3713_JPG_jpg.rf.1c6746c736a5a121de82cefcff083aa9.xml  \n",
            "  inflating: cocoa_new/train/img_2321_JPG_jpg.rf.a949bc46e34ba86faa47cd014d436590.jpg  \n",
            "  inflating: cocoa_new/train/img_222_JPG_jpg.rf.4e744b1f21a5f2fdb659c9815b1d030e.xml  \n",
            "  inflating: cocoa_new/train/img_1571_JPG_jpg.rf.239c304e7e88cc177c9ad2ddb6396d9c.xml  \n",
            "  inflating: cocoa_new/train/img_756_JPG_jpg.rf.c150444cd0b32df8c5811080c638f512.jpg  \n",
            "  inflating: cocoa_new/train/img_2786_JPG_jpg.rf.dd5a8bdb4a04485362571429a2b7fa52.xml  \n",
            "  inflating: cocoa_new/train/img_2521_JPG_jpg.rf.f5afbf090fdd907ee652a07f09e73ab5.jpg  \n",
            "  inflating: cocoa_new/train/img_2421_JPG_jpg.rf.cc1f98e6fdbb3613c3316f8ccbef7699.jpg  \n",
            "  inflating: cocoa_new/train/img_558_JPG_jpg.rf.305a8bc9c19ce203dc4aef15f22755a7.jpg  \n",
            "  inflating: cocoa_new/train/img_2533_JPG_jpg.rf.252d242741f4db9785fb578f3f60cbf8.xml  \n",
            "  inflating: cocoa_new/train/img_3577_JPG_jpg.rf.06fd82f7252a06482b85be9d656e3a3b.xml  \n",
            "  inflating: cocoa_new/train/img_2319_JPG_jpg.rf.ecc95004e9edafa6f4883dde3613e967.xml  \n",
            "  inflating: cocoa_new/train/img_2786_JPG_jpg.rf.dd5a8bdb4a04485362571429a2b7fa52.jpg  \n",
            "  inflating: cocoa_new/train/img_2521_JPG_jpg.rf.f5afbf090fdd907ee652a07f09e73ab5.xml  \n",
            "  inflating: cocoa_new/train/img_2421_JPG_jpg.rf.cc1f98e6fdbb3613c3316f8ccbef7699.xml  \n",
            "  inflating: cocoa_new/train/img_222_JPG_jpg.rf.4e744b1f21a5f2fdb659c9815b1d030e.jpg  \n",
            "  inflating: cocoa_new/train/img_1571_JPG_jpg.rf.239c304e7e88cc177c9ad2ddb6396d9c.jpg  \n",
            "  inflating: cocoa_new/train/img_756_JPG_jpg.rf.c150444cd0b32df8c5811080c638f512.xml  \n",
            "  inflating: cocoa_new/train/img_2533_JPG_jpg.rf.252d242741f4db9785fb578f3f60cbf8.jpg  \n",
            "  inflating: cocoa_new/train/img_3577_JPG_jpg.rf.06fd82f7252a06482b85be9d656e3a3b.jpg  \n",
            "  inflating: cocoa_new/train/img_2319_JPG_jpg.rf.ecc95004e9edafa6f4883dde3613e967.jpg  \n",
            "  inflating: cocoa_new/train/img_558_JPG_jpg.rf.305a8bc9c19ce203dc4aef15f22755a7.xml  \n",
            "  inflating: cocoa_new/train/img_261_JPG_jpg.rf.1530590f07d6deb1d21339ef24d62fac.xml  \n",
            "  inflating: cocoa_new/train/img_76_JPG_jpg.rf.ce75721179d9205a90f02330db1ea313.xml  \n",
            "  inflating: cocoa_new/train/img_3713_JPG_jpg.rf.1c6746c736a5a121de82cefcff083aa9.jpg  \n",
            "  inflating: cocoa_new/train/img_2321_JPG_jpg.rf.a949bc46e34ba86faa47cd014d436590.xml  \n",
            "  inflating: cocoa_new/train/img_1303_JPG_jpg.rf.57c3966a2a70185e9aa512a738115c1b.jpg  \n",
            "  inflating: cocoa_new/train/img_947_JPG_jpg.rf.00c94e0e61e40a94e28d2909ad78d183.jpg  \n",
            "  inflating: cocoa_new/train/img_438_JPG_jpg.rf.052d8e1d33e3b56d5010ee57cdcd3413.jpg  \n",
            "  inflating: cocoa_new/train/img_2452_JPG_jpg.rf.a3a42432ebb3b360f1352e402c1e3d0a.xml  \n",
            "  inflating: cocoa_new/train/img_3332_JPG_jpg.rf.3f6dbbc13b9b635eced44146d6a98c89.xml  \n",
            "  inflating: cocoa_new/train/img_757_JPG_jpg.rf.7328f1c752f4ff91fc6131b2ab29cbf6.xml  \n",
            "  inflating: cocoa_new/train/img_3525_JPG_jpg.rf.1e34144f91fbf2de7c78ca1c111d8aa9.xml  \n",
            "  inflating: cocoa_new/train/img_323_JPG_jpg.rf.21c2521956980cef7ff75d4598527df8.xml  \n",
            "  inflating: cocoa_new/train/img_1280_JPG_jpg.rf.502b16a0aa46fb2c36e3023a5e8af875.jpg  \n",
            "  inflating: cocoa_new/train/img_1785_JPG_jpg.rf.3a24e7223e04a318555a609e4262378a.xml  \n",
            "  inflating: cocoa_new/train/img_4117_JPG_jpg.rf.b9e34049b36228c34f69c4ffef7e7e7f.xml  \n",
            "  inflating: cocoa_new/train/img_1126_JPG_jpg.rf.b02bae49a10aa49c1d76fc42fb955650.jpg  \n",
            "  inflating: cocoa_new/train/img_689_JPG_jpg.rf.c96a627ba2c287fbaf406b04e9d0b749.jpg  \n",
            "  inflating: cocoa_new/train/img_3900_JPG_jpg.rf.5d6d8400025621a1fcdcbf2837c95873.jpg  \n",
            "  inflating: cocoa_new/train/img_4111_JPG_jpg.rf.ce947a0dc2807cd26887f7565d361508.jpg  \n",
            "  inflating: cocoa_new/train/img_25_JPG_jpg.rf.a56ebb3f6bc60d83c241c8fa8a16f420.xml  \n",
            "  inflating: cocoa_new/train/img_486_JPG_jpg.rf.73a54869b0f7fae852d70706875972fe.xml  \n",
            "  inflating: cocoa_new/train/img_377_JPG_jpg.rf.baa4e40e27dfa943485c9ecadd68770f.jpg  \n",
            "  inflating: cocoa_new/train/img_711_JPG_jpg.rf.e3a88aad1ea3f4b4d3096118c97d5e03.xml  \n",
            "  inflating: cocoa_new/train/img_3617_JPG_jpg.rf.c4486a56050dfb38a24d8c2d3dde394e.xml  \n",
            "  inflating: cocoa_new/train/img_3096_JPG_jpg.rf.73aeb0e3c85862d953db51ec0cd1cb24.xml  \n",
            "  inflating: cocoa_new/train/img_3900_JPG_jpg.rf.5d6d8400025621a1fcdcbf2837c95873.xml  \n",
            "  inflating: cocoa_new/train/img_4111_JPG_jpg.rf.ce947a0dc2807cd26887f7565d361508.xml  \n",
            "  inflating: cocoa_new/train/img_689_JPG_jpg.rf.c96a627ba2c287fbaf406b04e9d0b749.xml  \n",
            "  inflating: cocoa_new/train/img_711_JPG_jpg.rf.e3a88aad1ea3f4b4d3096118c97d5e03.jpg  \n",
            "  inflating: cocoa_new/train/img_3617_JPG_jpg.rf.c4486a56050dfb38a24d8c2d3dde394e.jpg  \n",
            "  inflating: cocoa_new/train/img_3096_JPG_jpg.rf.73aeb0e3c85862d953db51ec0cd1cb24.jpg  \n",
            "  inflating: cocoa_new/train/img_25_JPG_jpg.rf.a56ebb3f6bc60d83c241c8fa8a16f420.jpg  \n",
            "  inflating: cocoa_new/train/img_486_JPG_jpg.rf.73a54869b0f7fae852d70706875972fe.jpg  \n",
            "  inflating: cocoa_new/train/img_377_JPG_jpg.rf.baa4e40e27dfa943485c9ecadd68770f.xml  \n",
            "  inflating: cocoa_new/train/img_323_JPG_jpg.rf.21c2521956980cef7ff75d4598527df8.jpg  \n",
            "  inflating: cocoa_new/train/img_1280_JPG_jpg.rf.502b16a0aa46fb2c36e3023a5e8af875.xml  \n",
            "  inflating: cocoa_new/train/img_1785_JPG_jpg.rf.3a24e7223e04a318555a609e4262378a.jpg  \n",
            "  inflating: cocoa_new/train/img_4117_JPG_jpg.rf.b9e34049b36228c34f69c4ffef7e7e7f.jpg  \n",
            "  inflating: cocoa_new/train/img_3525_JPG_jpg.rf.1e34144f91fbf2de7c78ca1c111d8aa9.jpg  \n",
            "  inflating: cocoa_new/train/img_1126_JPG_jpg.rf.b02bae49a10aa49c1d76fc42fb955650.xml  \n",
            "  inflating: cocoa_new/train/img_4059_JPG_jpg.rf.1a07d3b0f13d6888f5156b702c738f50.jpg  \n",
            "  inflating: cocoa_new/train/img_1820_JPG_jpg.rf.e6af062715f18cef9dd097bd03871fe8.xml  \n",
            "  inflating: cocoa_new/train/img_723_JPG_jpg.rf.8076a48e0b17592cd3ee09487f459b4c.jpg  \n",
            "  inflating: cocoa_new/train/img_3883_JPG_jpg.rf.91283050a2f9abcacc71095a5756dc34.jpg  \n",
            "  inflating: cocoa_new/train/img_3460_JPG_jpg.rf.0604d325a28c2ff3812241e48506910c.xml  \n",
            "  inflating: cocoa_new/train/img_510_JPG_jpg.rf.cb866c68d67173e8f8b2a6cf1c129242.jpg  \n",
            "  inflating: cocoa_new/train/img_662_JPG_jpg.rf.b3dc7c84d567c13865b89f57664d7100.jpg  \n",
            "  inflating: cocoa_new/train/img_4092_JPG_jpg.rf.f0a44cd88a610c3710c6907597524af5.jpg  \n",
            "  inflating: cocoa_new/train/img_1522_JPG_jpg.rf.26ba8adfb99edd698fe825129f21652b.jpg  \n",
            "  inflating: cocoa_new/train/img_1407_JPG_jpg.rf.c9754166a3a3feaaa6e7ae80bff2b394.jpg  \n",
            "  inflating: cocoa_new/train/img_1907_JPG_jpg.rf.f3e734a51ab3ef910ffaef7b1e490fd3.jpg  \n",
            "  inflating: cocoa_new/train/img_1200_JPG_jpg.rf.1aaefafbf016c89928c2eb11c3910f62.jpg  \n",
            "  inflating: cocoa_new/train/img_49_JPG_jpg.rf.91587e65b48e8347ba9dbbdf9a257d64.jpg  \n",
            "  inflating: cocoa_new/train/img_929_JPG_jpg.rf.410d30199edc644a80d0c405e81cf1dd.xml  \n",
            "  inflating: cocoa_new/train/img_1781_JPG_jpg.rf.ea0e503060187b8b04de66f1ab36fbce.jpg  \n",
            "  inflating: cocoa_new/train/img_313_JPG_jpg.rf.8b63f24ec6afa4e4f0a3c69a7c4f3104.jpg  \n",
            "  inflating: cocoa_new/train/img_336_JPG_jpg.rf.d37eb0fb3ca956b0f3bcd188a0e0f105.jpg  \n",
            "  inflating: cocoa_new/train/img_1791_JPG_jpg.rf.722d39214084cf616d15944069d101f2.jpg  \n",
            "  inflating: cocoa_new/train/img_207_JPG_jpg.rf.0e42434397f258e58f0c04adf5d19fe6.xml  \n",
            "  inflating: cocoa_new/train/img_751_JPG_jpg.rf.ea93e1548647eaf91c6cff0bafefd3a8.xml  \n",
            "  inflating: cocoa_new/train/img_3221_JPG_jpg.rf.3410768c1c5d06bb4ae36c06472e9050.xml  \n",
            "  inflating: cocoa_new/train/img_313_JPG_jpg.rf.8b63f24ec6afa4e4f0a3c69a7c4f3104.xml  \n",
            "  inflating: cocoa_new/train/img_336_JPG_jpg.rf.d37eb0fb3ca956b0f3bcd188a0e0f105.xml  \n",
            "  inflating: cocoa_new/train/img_1407_JPG_jpg.rf.c9754166a3a3feaaa6e7ae80bff2b394.xml  \n",
            "  inflating: cocoa_new/train/img_1907_JPG_jpg.rf.f3e734a51ab3ef910ffaef7b1e490fd3.xml  \n",
            "  inflating: cocoa_new/train/img_1200_JPG_jpg.rf.1aaefafbf016c89928c2eb11c3910f62.xml  \n",
            "  inflating: cocoa_new/train/img_929_JPG_jpg.rf.410d30199edc644a80d0c405e81cf1dd.jpg  \n",
            "  inflating: cocoa_new/train/img_1781_JPG_jpg.rf.ea0e503060187b8b04de66f1ab36fbce.xml  \n",
            "  inflating: cocoa_new/train/img_49_JPG_jpg.rf.91587e65b48e8347ba9dbbdf9a257d64.xml  \n",
            "  inflating: cocoa_new/train/img_3221_JPG_jpg.rf.3410768c1c5d06bb4ae36c06472e9050.jpg  \n",
            "  inflating: cocoa_new/train/img_1791_JPG_jpg.rf.722d39214084cf616d15944069d101f2.xml  \n",
            "  inflating: cocoa_new/train/img_207_JPG_jpg.rf.0e42434397f258e58f0c04adf5d19fe6.jpg  \n",
            "  inflating: cocoa_new/train/img_751_JPG_jpg.rf.ea93e1548647eaf91c6cff0bafefd3a8.jpg  \n",
            "  inflating: cocoa_new/train/img_3883_JPG_jpg.rf.91283050a2f9abcacc71095a5756dc34.xml  \n",
            "  inflating: cocoa_new/train/img_4059_JPG_jpg.rf.1a07d3b0f13d6888f5156b702c738f50.xml  \n",
            "  inflating: cocoa_new/train/img_1820_JPG_jpg.rf.e6af062715f18cef9dd097bd03871fe8.jpg  \n",
            "  inflating: cocoa_new/train/img_723_JPG_jpg.rf.8076a48e0b17592cd3ee09487f459b4c.xml  \n",
            "  inflating: cocoa_new/train/img_4092_JPG_jpg.rf.f0a44cd88a610c3710c6907597524af5.xml  \n",
            "  inflating: cocoa_new/train/img_1522_JPG_jpg.rf.26ba8adfb99edd698fe825129f21652b.xml  \n",
            "  inflating: cocoa_new/train/img_3460_JPG_jpg.rf.0604d325a28c2ff3812241e48506910c.jpg  \n",
            "  inflating: cocoa_new/train/img_510_JPG_jpg.rf.cb866c68d67173e8f8b2a6cf1c129242.xml  \n",
            "  inflating: cocoa_new/train/img_662_JPG_jpg.rf.b3dc7c84d567c13865b89f57664d7100.xml  \n",
            "  inflating: cocoa_new/train/img_3111_JPG_jpg.rf.be8a5d9511235ac4ab9eeb7b76c92152.xml  \n",
            "  inflating: cocoa_new/train/img_2881_JPG_jpg.rf.014466150e19c4f56fa3011c4d112fde.xml  \n",
            "  inflating: cocoa_new/train/img_513_JPG_jpg.rf.3e67c1767fa9f4c3e1648e5ceda1d5ce.xml  \n",
            "  inflating: cocoa_new/train/img_879_JPG_jpg.rf.fd32afe95f7e746a82436ec98392130f.jpg  \n",
            "  inflating: cocoa_new/train/img_3573_JPG_jpg.rf.ce3039548bde35aaac0fe6e4a2296bfa.xml  \n",
            "  inflating: cocoa_new/train/img_813_JPG_jpg.rf.4e0dc27dc6f1666d0e961a7a06619fa8.xml  \n",
            "  inflating: cocoa_new/train/img_4095_JPG_jpg.rf.52682a9760deb27e794a73d0ce21496e.jpg  \n",
            "  inflating: cocoa_new/train/img_2036_JPG_jpg.rf.305c0e807c09ad595dd847547802f363.jpg  \n",
            "  inflating: cocoa_new/train/img_83_JPG_jpg.rf.cbf395c62274b4856a38aa2c9d574ace.xml  \n",
            "  inflating: cocoa_new/train/img_1382_JPG_jpg.rf.a9ef7a4126249079b170672ef321e9bc.xml  \n",
            "  inflating: cocoa_new/train/img_3894_JPG_jpg.rf.3d5a710d6e26132011ef11ab87a10fa8.jpg  \n",
            "  inflating: cocoa_new/train/img_3643_JPG_jpg.rf.a0b6230ea382c7802e236130deb15603.jpg  \n",
            "  inflating: cocoa_new/train/img_2861_JPG_jpg.rf.1ac865d6ca98f64e58afc13c9cf97fa5.xml  \n",
            "  inflating: cocoa_new/train/img_1876_JPG_jpg.rf.8825f6e2ce4a9fbed3ab487bbfb8e1d7.xml  \n",
            "  inflating: cocoa_new/train/img_103_JPG_jpg.rf.89f7fa3790822fb9ae3ca4b4b217261b.xml  \n",
            "  inflating: cocoa_new/train/img_1947_JPG_jpg.rf.69b70306ff1815f75023723ac108a6eb.xml  \n",
            "  inflating: cocoa_new/train/img_941_JPG_jpg.rf.7863b9513c626569354110e33fc0b6d3.xml  \n",
            "  inflating: cocoa_new/train/img_4105_JPG_jpg.rf.41349c2492d40af6b25b1750064b420c.jpg  \n",
            "  inflating: cocoa_new/train/img_3987_JPG_jpg.rf.ca8250b2e9a1e146fbcc813730d8db02.xml  \n",
            "  inflating: cocoa_new/train/img_2861_JPG_jpg.rf.1ac865d6ca98f64e58afc13c9cf97fa5.jpg  \n",
            "  inflating: cocoa_new/train/img_1876_JPG_jpg.rf.8825f6e2ce4a9fbed3ab487bbfb8e1d7.jpg  \n",
            "  inflating: cocoa_new/train/img_3643_JPG_jpg.rf.a0b6230ea382c7802e236130deb15603.xml  \n",
            "  inflating: cocoa_new/train/img_4105_JPG_jpg.rf.41349c2492d40af6b25b1750064b420c.xml  \n",
            "  inflating: cocoa_new/train/img_3987_JPG_jpg.rf.ca8250b2e9a1e146fbcc813730d8db02.jpg  \n",
            "  inflating: cocoa_new/train/img_103_JPG_jpg.rf.89f7fa3790822fb9ae3ca4b4b217261b.jpg  \n",
            "  inflating: cocoa_new/train/img_1947_JPG_jpg.rf.69b70306ff1815f75023723ac108a6eb.jpg  \n",
            "  inflating: cocoa_new/train/img_941_JPG_jpg.rf.7863b9513c626569354110e33fc0b6d3.jpg  \n",
            "  inflating: cocoa_new/train/img_879_JPG_jpg.rf.fd32afe95f7e746a82436ec98392130f.xml  \n",
            "  inflating: cocoa_new/train/img_3573_JPG_jpg.rf.ce3039548bde35aaac0fe6e4a2296bfa.jpg  \n",
            "  inflating: cocoa_new/train/img_813_JPG_jpg.rf.4e0dc27dc6f1666d0e961a7a06619fa8.jpg  \n",
            "  inflating: cocoa_new/train/img_3111_JPG_jpg.rf.be8a5d9511235ac4ab9eeb7b76c92152.jpg  \n",
            "  inflating: cocoa_new/train/img_2881_JPG_jpg.rf.014466150e19c4f56fa3011c4d112fde.jpg  \n",
            "  inflating: cocoa_new/train/img_513_JPG_jpg.rf.3e67c1767fa9f4c3e1648e5ceda1d5ce.jpg  \n",
            "  inflating: cocoa_new/train/img_83_JPG_jpg.rf.cbf395c62274b4856a38aa2c9d574ace.jpg  \n",
            "  inflating: cocoa_new/train/img_1382_JPG_jpg.rf.a9ef7a4126249079b170672ef321e9bc.jpg  \n",
            "  inflating: cocoa_new/train/img_3894_JPG_jpg.rf.3d5a710d6e26132011ef11ab87a10fa8.xml  \n",
            "  inflating: cocoa_new/train/img_4095_JPG_jpg.rf.52682a9760deb27e794a73d0ce21496e.xml  \n",
            "  inflating: cocoa_new/train/img_2036_JPG_jpg.rf.305c0e807c09ad595dd847547802f363.xml  \n",
            "  inflating: cocoa_new/train/img_3933_JPG_jpg.rf.007e90dd393eaeafca86c388a57f0a33.jpg  \n",
            "  inflating: cocoa_new/train/img_712_JPG_jpg.rf.43fe8463af7335721798f2e651ae4c33.jpg  \n",
            "  inflating: cocoa_new/train/img_913_JPG_jpg.rf.72050fb7c0109d2f56018fe2e3524389.xml  \n",
            "  inflating: cocoa_new/train/img_164_JPG_jpg.rf.f0a608d32d0620d4b4e506521d321086.xml  \n",
            "  inflating: cocoa_new/train/img_3127_JPG_jpg.rf.0a34f7cb6a7ec0dbd22b215418d60957.xml  \n",
            "  inflating: cocoa_new/train/img_2339_JPG_jpg.rf.1ff881a291ad5b2bffb7db8f40e08a1c.jpg  \n",
            "  inflating: cocoa_new/train/img_2558_JPG_jpg.rf.96d31898feeeef29e499f32ce8bb68bc.xml  \n",
            "  inflating: cocoa_new/train/img_3785_JPG_jpg.rf.197bd86b8f8e5244aab82b0559d1bf29.jpg  \n",
            "  inflating: cocoa_new/train/img_1419_JPG_jpg.rf.95bb3ab56a7711c3ca0b9f3da5beee24.xml  \n",
            "  inflating: cocoa_new/train/img_653_JPG_jpg.rf.50c9505ae668ffb7074f20708c9d392b.jpg  \n",
            "  inflating: cocoa_new/train/img_4145_JPG_jpg.rf.3c47e2ebc40be039af082c408c7846f2.xml  \n",
            "  inflating: cocoa_new/train/img_2450_JPG_jpg.rf.1aaddb642b08ad852acd011f7d1e3493.xml  \n",
            "  inflating: cocoa_new/train/img_2883_JPG_jpg.rf.8ac5a8cd93c13dce8ac2b265eb0b544b.jpg  \n",
            "  inflating: cocoa_new/train/img_1438_JPG_jpg.rf.bb936608c64b9e5d92b6e38b83655478.xml  \n",
            "  inflating: cocoa_new/train/img_3587_JPG_jpg.rf.fc0d2d742a3a92c61f830212d9de2365.xml  \n",
            "  inflating: cocoa_new/train/img_3890_JPG_jpg.rf.fe7f0cf1208e5b96b7dbffbd6649bcd6.xml  \n",
            "  inflating: cocoa_new/train/img_3397_JPG_jpg.rf.556ec659f0a84377e38b6a16aa18ab0d.xml  \n",
            "  inflating: cocoa_new/train/img_1968_JPG_jpg.rf.f2f7ad0e28589c2229bf17617c2c2156.jpg  \n",
            "  inflating: cocoa_new/train/img_2872_JPG_jpg.rf.b7742c95a5413c68bd0a06c8adc1b793.xml  \n",
            "  inflating: cocoa_new/train/img_107_JPG_jpg.rf.55b2212ad29287491b4cd6b7e2e0ddc3.xml  \n",
            "  inflating: cocoa_new/train/img_138_JPG_jpg.rf.3db2b9d9e06eafde1f6b61c689cf82d4.xml  \n",
            "  inflating: cocoa_new/train/img_2883_JPG_jpg.rf.8ac5a8cd93c13dce8ac2b265eb0b544b.xml  \n",
            "  inflating: cocoa_new/train/img_1438_JPG_jpg.rf.bb936608c64b9e5d92b6e38b83655478.jpg  \n",
            "  inflating: cocoa_new/train/img_1419_JPG_jpg.rf.95bb3ab56a7711c3ca0b9f3da5beee24.jpg  \n",
            "  inflating: cocoa_new/train/img_653_JPG_jpg.rf.50c9505ae668ffb7074f20708c9d392b.xml  \n",
            "  inflating: cocoa_new/train/img_4145_JPG_jpg.rf.3c47e2ebc40be039af082c408c7846f2.jpg  \n",
            "  inflating: cocoa_new/train/img_2450_JPG_jpg.rf.1aaddb642b08ad852acd011f7d1e3493.jpg  \n",
            "  inflating: cocoa_new/train/img_2872_JPG_jpg.rf.b7742c95a5413c68bd0a06c8adc1b793.jpg  \n",
            "  inflating: cocoa_new/train/img_107_JPG_jpg.rf.55b2212ad29287491b4cd6b7e2e0ddc3.jpg  \n",
            "  inflating: cocoa_new/train/img_138_JPG_jpg.rf.3db2b9d9e06eafde1f6b61c689cf82d4.jpg  \n",
            "  inflating: cocoa_new/train/img_3587_JPG_jpg.rf.fc0d2d742a3a92c61f830212d9de2365.jpg  \n",
            "  inflating: cocoa_new/train/img_3890_JPG_jpg.rf.fe7f0cf1208e5b96b7dbffbd6649bcd6.jpg  \n",
            "  inflating: cocoa_new/train/img_3397_JPG_jpg.rf.556ec659f0a84377e38b6a16aa18ab0d.jpg  \n",
            "  inflating: cocoa_new/train/img_1968_JPG_jpg.rf.f2f7ad0e28589c2229bf17617c2c2156.xml  \n",
            "  inflating: cocoa_new/train/img_913_JPG_jpg.rf.72050fb7c0109d2f56018fe2e3524389.jpg  \n",
            "  inflating: cocoa_new/train/img_164_JPG_jpg.rf.f0a608d32d0620d4b4e506521d321086.jpg  \n",
            "  inflating: cocoa_new/train/img_3933_JPG_jpg.rf.007e90dd393eaeafca86c388a57f0a33.xml  \n",
            "  inflating: cocoa_new/train/img_712_JPG_jpg.rf.43fe8463af7335721798f2e651ae4c33.xml  \n",
            "  inflating: cocoa_new/train/img_2558_JPG_jpg.rf.96d31898feeeef29e499f32ce8bb68bc.jpg  \n",
            "  inflating: cocoa_new/train/img_3785_JPG_jpg.rf.197bd86b8f8e5244aab82b0559d1bf29.xml  \n",
            "  inflating: cocoa_new/train/img_3127_JPG_jpg.rf.0a34f7cb6a7ec0dbd22b215418d60957.jpg  \n",
            "  inflating: cocoa_new/train/img_2339_JPG_jpg.rf.1ff881a291ad5b2bffb7db8f40e08a1c.xml  \n",
            "  inflating: cocoa_new/train/img_406_JPG_jpg.rf.93e00df6979664c56d9fae15f6cf3df0.xml  \n",
            "  inflating: cocoa_new/train/img_3438_JPG_jpg.rf.4e86ccd4d0eb205ee5004ab3affcaef2.jpg  \n",
            "  inflating: cocoa_new/train/img_627_JPG_jpg.rf.7a30e07405dec56435e9963eda9a3f5d.xml  \n",
            "  inflating: cocoa_new/train/img_2892_JPG_jpg.rf.93bf24c9a9932f4bf31c379cf3db4a2e.jpg  \n",
            "  inflating: cocoa_new/train/img_2890_JPG_jpg.rf.3c9e26e2cc14ff79c2d263eefa3940a7.xml  \n",
            "  inflating: cocoa_new/train/img_3045_JPG_jpg.rf.7155e578007be128cd6fd361c29c6c4d.xml  \n",
            "  inflating: cocoa_new/train/img_3831_JPG_jpg.rf.a0a589ef23ad7961198165154d493bbb.xml  \n",
            "  inflating: cocoa_new/train/img_573_JPG_jpg.rf.41a60670f9495975846bc5d2cb0a31a2.xml  \n",
            "  inflating: cocoa_new/train/img_493_JPG_jpg.rf.00073a396fc526b95ecfa489494a568f.jpg  \n",
            "  inflating: cocoa_new/train/img_2394_JPG_jpg.rf.6afa7fa0af4fed8daca8220bbe67c537.xml  \n",
            "  inflating: cocoa_new/train/img_1843_JPG_jpg.rf.d076ce5a13d348013a87aaea993f75c6.jpg  \n",
            "  inflating: cocoa_new/train/img_1468_JPG_jpg.rf.7564da2410a4c27a19fc4708f285263f.xml  \n",
            "  inflating: cocoa_new/train/img_3316_JPG_jpg.rf.a47b34a885595a0c29ff7c19b0cd37d3.jpg  \n",
            "  inflating: cocoa_new/train/img_1369_JPG_jpg.rf.c63e42a54d64b8d4ba16b418768c1ce5.jpg  \n",
            "  inflating: cocoa_new/train/img_817_JPG_jpg.rf.e571724e3a236b5599dfcbce7462b0bf.jpg  \n",
            "  inflating: cocoa_new/train/img_587_JPG_jpg.rf.06ddbb0998f92d89ca362004e02b5052.jpg  \n",
            "  inflating: cocoa_new/train/img_3597_JPG_jpg.rf.78983c472c247bc7c6dea41d24694cb5.jpg  \n",
            "  inflating: cocoa_new/train/img_1738_JPG_jpg.rf.f1924eab62b7bfa0c73de721574cad0a.xml  \n",
            "  inflating: cocoa_new/train/img_58_JPG_jpg.rf.70e05818c1a9932fcf181364ed2608b5.xml  \n",
            "  inflating: cocoa_new/train/img_457_JPG_jpg.rf.1e2fbfd18cff8cd42194a0a7c808f4b8.xml  \n",
            "  inflating: cocoa_new/train/img_1843_JPG_jpg.rf.d076ce5a13d348013a87aaea993f75c6.xml  \n",
            "  inflating: cocoa_new/train/img_1468_JPG_jpg.rf.7564da2410a4c27a19fc4708f285263f.jpg  \n",
            "  inflating: cocoa_new/train/img_1369_JPG_jpg.rf.c63e42a54d64b8d4ba16b418768c1ce5.xml  \n",
            "  inflating: cocoa_new/train/img_3316_JPG_jpg.rf.a47b34a885595a0c29ff7c19b0cd37d3.xml  \n",
            "  inflating: cocoa_new/train/img_817_JPG_jpg.rf.e571724e3a236b5599dfcbce7462b0bf.xml  \n",
            "  inflating: cocoa_new/train/img_493_JPG_jpg.rf.00073a396fc526b95ecfa489494a568f.xml  \n",
            "  inflating: cocoa_new/train/img_2394_JPG_jpg.rf.6afa7fa0af4fed8daca8220bbe67c537.jpg  \n",
            "  inflating: cocoa_new/train/img_3597_JPG_jpg.rf.78983c472c247bc7c6dea41d24694cb5.xml  \n",
            "  inflating: cocoa_new/train/img_1738_JPG_jpg.rf.f1924eab62b7bfa0c73de721574cad0a.jpg  \n",
            "  inflating: cocoa_new/train/img_58_JPG_jpg.rf.70e05818c1a9932fcf181364ed2608b5.jpg  \n",
            "  inflating: cocoa_new/train/img_457_JPG_jpg.rf.1e2fbfd18cff8cd42194a0a7c808f4b8.jpg  \n",
            "  inflating: cocoa_new/train/img_587_JPG_jpg.rf.06ddbb0998f92d89ca362004e02b5052.xml  \n",
            "  inflating: cocoa_new/train/img_3438_JPG_jpg.rf.4e86ccd4d0eb205ee5004ab3affcaef2.xml  \n",
            "  inflating: cocoa_new/train/img_406_JPG_jpg.rf.93e00df6979664c56d9fae15f6cf3df0.jpg  \n",
            "  inflating: cocoa_new/train/img_627_JPG_jpg.rf.7a30e07405dec56435e9963eda9a3f5d.jpg  \n",
            "  inflating: cocoa_new/train/img_2892_JPG_jpg.rf.93bf24c9a9932f4bf31c379cf3db4a2e.xml  \n",
            "  inflating: cocoa_new/train/img_2890_JPG_jpg.rf.3c9e26e2cc14ff79c2d263eefa3940a7.jpg  \n",
            "  inflating: cocoa_new/train/img_3045_JPG_jpg.rf.7155e578007be128cd6fd361c29c6c4d.jpg  \n",
            "  inflating: cocoa_new/train/img_3831_JPG_jpg.rf.a0a589ef23ad7961198165154d493bbb.jpg  \n",
            "  inflating: cocoa_new/train/img_573_JPG_jpg.rf.41a60670f9495975846bc5d2cb0a31a2.jpg  \n",
            "  inflating: cocoa_new/train/img_1281_JPG_jpg.rf.bd1e7594ad1fd2f31fc58275e961cde4.xml  \n",
            "  inflating: cocoa_new/train/img_2997_JPG_jpg.rf.47491b5787d2b1e0b04687b4b280ec52.xml  \n",
            "  inflating: cocoa_new/train/img_1165_JPG_jpg.rf.f76106d412b75c0731ed5ea4f8f7d325.jpg  \n",
            "  inflating: cocoa_new/train/img_492_JPG_jpg.rf.9f03b04967214d5d3eec167adec61797.xml  \n",
            "  inflating: cocoa_new/train/img_2470_JPG_jpg.rf.1e598e66d057208f8f8d9761ef33f979.xml  \n",
            "  inflating: cocoa_new/train/img_192_JPG_jpg.rf.f541343d630c08d55b2ee1d6b13bc999.xml  \n",
            "  inflating: cocoa_new/train/img_1821_JPG_jpg.rf.42bcb428fe50b7ac17f200db8757a458.jpg  \n",
            "  inflating: cocoa_new/train/img_2970_JPG_jpg.rf.2169c0c69721f8053b5ad27b87a78c1d.xml  \n",
            "  inflating: cocoa_new/train/img_2975_JPG_jpg.rf.5c1408901fd01055bf68c0f21489ab6b.jpg  \n",
            "  inflating: cocoa_new/train/img_695_JPG_jpg.rf.b5acfeecffbb4f19fc96887467cd6b05.xml  \n",
            "  inflating: cocoa_new/train/img_2445_JPG_jpg.rf.cf05c1133ac9f02aa89e20d23afc284e.xml  \n",
            "  inflating: cocoa_new/train/img_3366_JPG_jpg.rf.c4b307cb4b6ec2c1e07ad12dcea96f48.xml  \n",
            "  inflating: cocoa_new/train/img_370_JPG_jpg.rf.400d17607eba45252c3eb40c1fe04a96.jpg  \n",
            "  inflating: cocoa_new/train/img_279_JPG_jpg.rf.c717d24f49d2df7c7d4ac1b1c99949a6.jpg  \n",
            "  inflating: cocoa_new/train/img_3170_JPG_jpg.rf.42940a284b90e8e9d7b3bd5c4772420d.jpg  \n",
            "  inflating: cocoa_new/train/img_3799_JPG_jpg.rf.684f3c78619cde1a058912e74b942d8e.xml  \n",
            "  inflating: cocoa_new/train/img_370_JPG_jpg.rf.400d17607eba45252c3eb40c1fe04a96.xml  \n",
            "  inflating: cocoa_new/train/img_3366_JPG_jpg.rf.c4b307cb4b6ec2c1e07ad12dcea96f48.jpg  \n",
            "  inflating: cocoa_new/train/img_279_JPG_jpg.rf.c717d24f49d2df7c7d4ac1b1c99949a6.xml  \n",
            "  inflating: cocoa_new/train/img_1821_JPG_jpg.rf.42bcb428fe50b7ac17f200db8757a458.xml  \n",
            "  inflating: cocoa_new/train/img_2970_JPG_jpg.rf.2169c0c69721f8053b5ad27b87a78c1d.jpg  \n",
            "  inflating: cocoa_new/train/img_2975_JPG_jpg.rf.5c1408901fd01055bf68c0f21489ab6b.xml  \n",
            "  inflating: cocoa_new/train/img_695_JPG_jpg.rf.b5acfeecffbb4f19fc96887467cd6b05.jpg  \n",
            "  inflating: cocoa_new/train/img_2445_JPG_jpg.rf.cf05c1133ac9f02aa89e20d23afc284e.jpg  \n",
            "  inflating: cocoa_new/train/img_3799_JPG_jpg.rf.684f3c78619cde1a058912e74b942d8e.jpg  \n",
            "  inflating: cocoa_new/train/img_3170_JPG_jpg.rf.42940a284b90e8e9d7b3bd5c4772420d.xml  \n",
            "  inflating: cocoa_new/train/img_1165_JPG_jpg.rf.f76106d412b75c0731ed5ea4f8f7d325.xml  \n",
            "  inflating: cocoa_new/train/img_1281_JPG_jpg.rf.bd1e7594ad1fd2f31fc58275e961cde4.jpg  \n",
            "  inflating: cocoa_new/train/img_2997_JPG_jpg.rf.47491b5787d2b1e0b04687b4b280ec52.jpg  \n",
            "  inflating: cocoa_new/train/img_2470_JPG_jpg.rf.1e598e66d057208f8f8d9761ef33f979.jpg  \n",
            "  inflating: cocoa_new/train/img_192_JPG_jpg.rf.f541343d630c08d55b2ee1d6b13bc999.jpg  \n",
            "  inflating: cocoa_new/train/img_492_JPG_jpg.rf.9f03b04967214d5d3eec167adec61797.jpg  \n",
            "  inflating: cocoa_new/train/img_3595_JPG_jpg.rf.99a002921fe323b856f25330c85781e6.jpg  \n",
            "  inflating: cocoa_new/train/img_3052_JPG_jpg.rf.e51fbea5f4094d19401593e3183ace04.jpg  \n",
            "  inflating: cocoa_new/train/img_3724_JPG_jpg.rf.39122a7219ef550826cda0ce633c9332.jpg  \n",
            "  inflating: cocoa_new/train/img_1914_JPG_jpg.rf.3b596da7227ebcf013fbdc312389f413.jpg  \n",
            "  inflating: cocoa_new/train/img_1537_JPG_jpg.rf.f8322f0ac0cb5c588d803b6897ac1bc9.xml  \n",
            "  inflating: cocoa_new/train/img_1413_JPG_jpg.rf.67e4b8aa4986c56f28fc111d2d2b4e0e.xml  \n",
            "  inflating: cocoa_new/train/img_659_JPG_jpg.rf.eae43a1e72379de081bf8a416d691440.jpg  \n",
            "  inflating: cocoa_new/train/img_1977_JPG_jpg.rf.b7896221ed7242c82dc36f7b0acb35ed.jpg  \n",
            "  inflating: cocoa_new/train/img_1929_JPG_jpg.rf.36a1b8a647e990b0cfb114bfe98f0991.xml  \n",
            "  inflating: cocoa_new/train/img_1362_JPG_jpg.rf.a13989fbff6c9e62f9d4728beea1035e.jpg  \n",
            "  inflating: cocoa_new/train/img_2576_JPG_jpg.rf.7d69a9b68c6e62453bb0a0ebf4940c7e.jpg  \n",
            "  inflating: cocoa_new/train/img_3602_JPG_jpg.rf.bc74416f56a64547138d69e0ecea7dba.jpg  \n",
            "  inflating: cocoa_new/train/img_2634_JPG_jpg.rf.7ebb50cdac025f0b112713ea34ca16c9.xml  \n",
            "  inflating: cocoa_new/train/img_4002_JPG_jpg.rf.81d3886826210a97dba4f0040451ba3f.xml  \n",
            "  inflating: cocoa_new/train/img_1991_JPG_jpg.rf.5d1abc76b7aba0c606f677c26772e928.xml  \n",
            "  inflating: cocoa_new/train/img_3787_JPG_jpg.rf.edd1abc90aaec48e9efb0ea15aa6e917.jpg  \n",
            "  inflating: cocoa_new/train/img_1148_JPG_jpg.rf.bf41578a74c9586b487c75a44361dd14.jpg  \n",
            "  inflating: cocoa_new/train/img_2007_JPG_jpg.rf.bd06b09833b9739bd46b01810290ee18.jpg  \n",
            "  inflating: cocoa_new/train/img_1794_JPG_jpg.rf.77b583734c20d79a43fc8c066ebe064d.xml  \n",
            "  inflating: cocoa_new/train/img_1362_JPG_jpg.rf.a13989fbff6c9e62f9d4728beea1035e.xml  \n",
            "  inflating: cocoa_new/train/img_2576_JPG_jpg.rf.7d69a9b68c6e62453bb0a0ebf4940c7e.xml  \n",
            "  inflating: cocoa_new/train/img_1537_JPG_jpg.rf.f8322f0ac0cb5c588d803b6897ac1bc9.jpg  \n",
            "  inflating: cocoa_new/train/img_1413_JPG_jpg.rf.67e4b8aa4986c56f28fc111d2d2b4e0e.jpg  \n",
            "  inflating: cocoa_new/train/img_659_JPG_jpg.rf.eae43a1e72379de081bf8a416d691440.xml  \n",
            "  inflating: cocoa_new/train/img_1929_JPG_jpg.rf.36a1b8a647e990b0cfb114bfe98f0991.jpg  \n",
            "  inflating: cocoa_new/train/img_1977_JPG_jpg.rf.b7896221ed7242c82dc36f7b0acb35ed.xml  \n",
            "  inflating: cocoa_new/train/img_3787_JPG_jpg.rf.edd1abc90aaec48e9efb0ea15aa6e917.xml  \n",
            "  inflating: cocoa_new/train/img_1148_JPG_jpg.rf.bf41578a74c9586b487c75a44361dd14.xml  \n",
            "  inflating: cocoa_new/train/img_2007_JPG_jpg.rf.bd06b09833b9739bd46b01810290ee18.xml  \n",
            "  inflating: cocoa_new/train/img_1794_JPG_jpg.rf.77b583734c20d79a43fc8c066ebe064d.jpg  \n",
            "  inflating: cocoa_new/train/img_3602_JPG_jpg.rf.bc74416f56a64547138d69e0ecea7dba.xml  \n",
            "  inflating: cocoa_new/train/img_2634_JPG_jpg.rf.7ebb50cdac025f0b112713ea34ca16c9.jpg  \n",
            "  inflating: cocoa_new/train/img_4002_JPG_jpg.rf.81d3886826210a97dba4f0040451ba3f.jpg  \n",
            "  inflating: cocoa_new/train/img_1991_JPG_jpg.rf.5d1abc76b7aba0c606f677c26772e928.jpg  \n",
            "  inflating: cocoa_new/train/img_3595_JPG_jpg.rf.99a002921fe323b856f25330c85781e6.xml  \n",
            "  inflating: cocoa_new/train/img_1914_JPG_jpg.rf.3b596da7227ebcf013fbdc312389f413.xml  \n",
            "  inflating: cocoa_new/train/img_3052_JPG_jpg.rf.e51fbea5f4094d19401593e3183ace04.xml  \n",
            "  inflating: cocoa_new/train/img_3724_JPG_jpg.rf.39122a7219ef550826cda0ce633c9332.xml  \n",
            "  inflating: cocoa_new/train/img_959_JPG_jpg.rf.666423202251915c318c8b74c0bd8c70.jpg  \n",
            "  inflating: cocoa_new/train/img_91_JPG_jpg.rf.4e52fb4916c245f5529aaae9687845f7.xml  \n",
            "  inflating: cocoa_new/train/img_3258_JPG_jpg.rf.1b98841a85e3f4e095ffb8061e857a1b.jpg  \n",
            "  inflating: cocoa_new/train/img_556_JPG_jpg.rf.8f0de22a769730c2d9aedb7102eba1e2.jpg  \n",
            "  inflating: cocoa_new/train/img_2961_JPG_jpg.rf.ffef295eb07811a45f318a84bbb17747.xml  \n",
            "  inflating: cocoa_new/train/img_3763_JPG_jpg.rf.52245bde0056aa94aa48975fa5cb6e2a.xml  \n",
            "  inflating: cocoa_new/train/img_3453_JPG_jpg.rf.da5c390673b83e3f6d66121c0cd86c91.xml  \n",
            "  inflating: cocoa_new/train/img_606_JPG_jpg.rf.4396f37a20191780dc8b15d8f8fa396a.xml  \n",
            "  inflating: cocoa_new/train/img_1203_JPG_jpg.rf.b0b8077dad849e6c847305eabdb22536.xml  \n",
            "  inflating: cocoa_new/train/img_2513_JPG_jpg.rf.be442cf8e2dcf09158879d32a0d4e753.jpg  \n",
            "  inflating: cocoa_new/train/img_2923_JPG_jpg.rf.2510b58ace220b3596a5352c10f9fa03.xml  \n",
            "  inflating: cocoa_new/train/img_508_JPG_jpg.rf.f866fb3eed243c4bd40e4a5b413d3005.jpg  \n",
            "  inflating: cocoa_new/train/img_2474_JPG_jpg.rf.93e1ce97ab7102cde4aa031c92f4897d.jpg  \n",
            "  inflating: cocoa_new/train/img_225_JPG_jpg.rf.f8a462b225602c677b99cf93bf1e94a8.jpg  \n",
            "  inflating: cocoa_new/train/img_3845_JPG_jpg.rf.ccfb6d6597c213869f6afa91d14f76f7.xml  \n",
            "  inflating: cocoa_new/train/img_1917_JPG_jpg.rf.0cec59e292311dab30edbe15e52e4f64.jpg  \n",
            "  inflating: cocoa_new/train/img_2923_JPG_jpg.rf.2510b58ace220b3596a5352c10f9fa03.jpg  \n",
            "  inflating: cocoa_new/train/img_3845_JPG_jpg.rf.ccfb6d6597c213869f6afa91d14f76f7.jpg  \n",
            "  inflating: cocoa_new/train/img_1917_JPG_jpg.rf.0cec59e292311dab30edbe15e52e4f64.xml  \n",
            "  inflating: cocoa_new/train/img_508_JPG_jpg.rf.f866fb3eed243c4bd40e4a5b413d3005.xml  \n",
            "  inflating: cocoa_new/train/img_2474_JPG_jpg.rf.93e1ce97ab7102cde4aa031c92f4897d.xml  \n",
            "  inflating: cocoa_new/train/img_225_JPG_jpg.rf.f8a462b225602c677b99cf93bf1e94a8.xml  \n",
            "  inflating: cocoa_new/train/img_3258_JPG_jpg.rf.1b98841a85e3f4e095ffb8061e857a1b.xml  \n",
            "  inflating: cocoa_new/train/img_556_JPG_jpg.rf.8f0de22a769730c2d9aedb7102eba1e2.xml  \n",
            "  inflating: cocoa_new/train/img_2961_JPG_jpg.rf.ffef295eb07811a45f318a84bbb17747.jpg  \n",
            "  inflating: cocoa_new/train/img_959_JPG_jpg.rf.666423202251915c318c8b74c0bd8c70.xml  \n",
            "  inflating: cocoa_new/train/img_91_JPG_jpg.rf.4e52fb4916c245f5529aaae9687845f7.jpg  \n",
            "  inflating: cocoa_new/train/img_2513_JPG_jpg.rf.be442cf8e2dcf09158879d32a0d4e753.xml  \n",
            "  inflating: cocoa_new/train/img_3763_JPG_jpg.rf.52245bde0056aa94aa48975fa5cb6e2a.jpg  \n",
            "  inflating: cocoa_new/train/img_3453_JPG_jpg.rf.da5c390673b83e3f6d66121c0cd86c91.jpg  \n",
            "  inflating: cocoa_new/train/img_606_JPG_jpg.rf.4396f37a20191780dc8b15d8f8fa396a.jpg  \n",
            "  inflating: cocoa_new/train/img_1203_JPG_jpg.rf.b0b8077dad849e6c847305eabdb22536.jpg  \n",
            "  inflating: cocoa_new/train/img_3322_JPG_jpg.rf.246662e2c06bc8529cbe10caf0a772df.jpg  \n",
            "  inflating: cocoa_new/train/img_1899_JPG_jpg.rf.cc44e9055d2e3b53f84ffcaf54f4abcf.jpg  \n",
            "  inflating: cocoa_new/train/img_1778_JPG_jpg.rf.7a6d6549653007715af4f83ea7e475ee.jpg  \n",
            "  inflating: cocoa_new/train/img_771_JPG_jpg.rf.6325d2de0a89de9b4132f50de27eb4ce.xml  \n",
            "  inflating: cocoa_new/train/img_1350_JPG_jpg.rf.0e0084027da789fadfeb418147d36d7c.xml  \n",
            "  inflating: cocoa_new/train/img_259_JPG_jpg.rf.f771cf57bf364da48f0c70fe3fbf7ffe.jpg  \n",
            "  inflating: cocoa_new/train/img_2377_JPG_jpg.rf.ee2ace21f35e4c08ee1b75f8bbea67d6.xml  \n",
            "  inflating: cocoa_new/train/img_1741_JPG_jpg.rf.a9d50b5a9c09804b401e57d935451310.xml  \n",
            "  inflating: cocoa_new/train/img_2597_JPG_jpg.rf.f35dab6fdbdeb5bebacf0c2547fa6321.jpg  \n",
            "  inflating: cocoa_new/train/img_3652_JPG_jpg.rf.2a09d7f186a15d58f868a522bf21651b.jpg  \n",
            "  inflating: cocoa_new/train/img_1441_JPG_jpg.rf.7304c2df436202b187bee3eefea13146.xml  \n",
            "  inflating: cocoa_new/train/img_3292_JPG_jpg.rf.5035c847c4d0df832dc516c708febf20.xml  \n",
            "  inflating: cocoa_new/train/img_1606_JPG_jpg.rf.48fcebf027cd7a8e68e7196456f25fd2.jpg  \n",
            "  inflating: cocoa_new/train/img_3243_JPG_jpg.rf.6c651cbff7e0d3d2d4547364cd59ddf6.jpg  \n",
            "  inflating: cocoa_new/train/img_725_JPG_jpg.rf.efd434cdad1ce976dcee6585f3622424.xml  \n",
            "  inflating: cocoa_new/train/img_2648_JPG_jpg.rf.3eb1b2ed353203029398f534c3a1aee4.xml  \n",
            "  inflating: cocoa_new/train/img_3016_JPG_jpg.rf.2e68e537eec2af06a2831aaa81a8ae07.xml  \n",
            "  inflating: cocoa_new/train/img_2629_JPG_jpg.rf.2e9cba5e914f479483366987a8f8b2b3.xml  \n",
            "  inflating: cocoa_new/train/img_4156_JPG_jpg.rf.db0a5646c4cd3dbaf1a8c82fcf47d06f.jpg  \n",
            "  inflating: cocoa_new/train/img_725_JPG_jpg.rf.efd434cdad1ce976dcee6585f3622424.jpg  \n",
            "  inflating: cocoa_new/train/img_2648_JPG_jpg.rf.3eb1b2ed353203029398f534c3a1aee4.jpg  \n",
            "  inflating: cocoa_new/train/img_3016_JPG_jpg.rf.2e68e537eec2af06a2831aaa81a8ae07.jpg  \n",
            "  inflating: cocoa_new/train/img_3243_JPG_jpg.rf.6c651cbff7e0d3d2d4547364cd59ddf6.xml  \n",
            "  inflating: cocoa_new/train/img_4156_JPG_jpg.rf.db0a5646c4cd3dbaf1a8c82fcf47d06f.xml  \n",
            "  inflating: cocoa_new/train/img_2629_JPG_jpg.rf.2e9cba5e914f479483366987a8f8b2b3.jpg  \n",
            "  inflating: cocoa_new/train/img_1778_JPG_jpg.rf.7a6d6549653007715af4f83ea7e475ee.xml  \n",
            "  inflating: cocoa_new/train/img_1350_JPG_jpg.rf.0e0084027da789fadfeb418147d36d7c.jpg  \n",
            "  inflating: cocoa_new/train/img_771_JPG_jpg.rf.6325d2de0a89de9b4132f50de27eb4ce.jpg  \n",
            "  inflating: cocoa_new/train/img_259_JPG_jpg.rf.f771cf57bf364da48f0c70fe3fbf7ffe.xml  \n",
            "  inflating: cocoa_new/train/img_3322_JPG_jpg.rf.246662e2c06bc8529cbe10caf0a772df.xml  \n",
            "  inflating: cocoa_new/train/img_1899_JPG_jpg.rf.cc44e9055d2e3b53f84ffcaf54f4abcf.xml  \n",
            "  inflating: cocoa_new/train/img_1441_JPG_jpg.rf.7304c2df436202b187bee3eefea13146.jpg  \n",
            "  inflating: cocoa_new/train/img_3652_JPG_jpg.rf.2a09d7f186a15d58f868a522bf21651b.xml  \n",
            "  inflating: cocoa_new/train/img_3292_JPG_jpg.rf.5035c847c4d0df832dc516c708febf20.jpg  \n",
            "  inflating: cocoa_new/train/img_1606_JPG_jpg.rf.48fcebf027cd7a8e68e7196456f25fd2.xml  \n",
            "  inflating: cocoa_new/train/img_2377_JPG_jpg.rf.ee2ace21f35e4c08ee1b75f8bbea67d6.jpg  \n",
            "  inflating: cocoa_new/train/img_1741_JPG_jpg.rf.a9d50b5a9c09804b401e57d935451310.jpg  \n",
            "  inflating: cocoa_new/train/img_2597_JPG_jpg.rf.f35dab6fdbdeb5bebacf0c2547fa6321.xml  \n",
            "  inflating: cocoa_new/train/img_359_JPG_jpg.rf.48a096f737bb34a29139ab946b66cef6.jpg  \n",
            "  inflating: cocoa_new/train/img_3172_JPG_jpg.rf.e0e68744989a3009a73efa50156caab5.jpg  \n",
            "  inflating: cocoa_new/train/img_1622_JPG_jpg.rf.edcf708712e702e1839062711eb7c9d3.xml  \n",
            "  inflating: cocoa_new/train/img_3496_JPG_jpg.rf.0f9273a118d416f980c2442d01cd5692.xml  \n",
            "  inflating: cocoa_new/train/img_324_JPG_jpg.rf.679e96e1b7743a377192863bb3b297bd.jpg  \n",
            "  inflating: cocoa_new/train/img_1587_JPG_jpg.rf.900989f1603ccce8ad11345efcb21c19.jpg  \n",
            "  inflating: cocoa_new/train/img_3044_JPG_jpg.rf.14e983df8037ac6566ea6e7489d0b76a.xml  \n",
            "  inflating: cocoa_new/train/img_111_JPG_jpg.rf.d0d2bccf8ebd5c886a77afa1878818d8.jpg  \n",
            "  inflating: cocoa_new/train/img_951_JPG_jpg.rf.1a2c2ff7ac2c6dd66e7ec2bb2e5793f8.jpg  \n",
            "  inflating: cocoa_new/train/img_102_JPG_jpg.rf.e95629602cfbef8189aa1a7aec243ac2.jpg  \n",
            "  inflating: cocoa_new/train/img_2399_JPG_jpg.rf.403c6419f45e3bc578008f0d325dc0c0.xml  \n",
            "  inflating: cocoa_new/train/img_3010_JPG_jpg.rf.7b3eb51d814c7603dc922de89a93d99a.xml  \n",
            "  inflating: cocoa_new/train/img_3606_JPG_jpg.rf.2bfcfd0d356e153a120452c54113fa9d.xml  \n",
            "  inflating: cocoa_new/train/img_2451_JPG_jpg.rf.b3dd1e97798904b0b9a41fd64f9514bd.jpg  \n",
            "  inflating: cocoa_new/train/img_3310_JPG_jpg.rf.ae560dfc5d4009674c374d972ac64fde.jpg  \n",
            "  inflating: cocoa_new/train/img_1534_JPG_jpg.rf.73e100f4752571070c4246bef7dfebeb.jpg  \n",
            "  inflating: cocoa_new/train/img_102_JPG_jpg.rf.e95629602cfbef8189aa1a7aec243ac2.xml  \n",
            "  inflating: cocoa_new/train/img_2399_JPG_jpg.rf.403c6419f45e3bc578008f0d325dc0c0.jpg  \n",
            "  inflating: cocoa_new/train/img_3310_JPG_jpg.rf.ae560dfc5d4009674c374d972ac64fde.xml  \n",
            "  inflating: cocoa_new/train/img_1534_JPG_jpg.rf.73e100f4752571070c4246bef7dfebeb.xml  \n",
            "  inflating: cocoa_new/train/img_3010_JPG_jpg.rf.7b3eb51d814c7603dc922de89a93d99a.jpg  \n",
            "  inflating: cocoa_new/train/img_3606_JPG_jpg.rf.2bfcfd0d356e153a120452c54113fa9d.jpg  \n",
            "  inflating: cocoa_new/train/img_2451_JPG_jpg.rf.b3dd1e97798904b0b9a41fd64f9514bd.xml  \n",
            "  inflating: cocoa_new/train/img_324_JPG_jpg.rf.679e96e1b7743a377192863bb3b297bd.xml  \n",
            "  inflating: cocoa_new/train/img_1587_JPG_jpg.rf.900989f1603ccce8ad11345efcb21c19.xml  \n",
            "  inflating: cocoa_new/train/img_359_JPG_jpg.rf.48a096f737bb34a29139ab946b66cef6.xml  \n",
            "  inflating: cocoa_new/train/img_3172_JPG_jpg.rf.e0e68744989a3009a73efa50156caab5.xml  \n",
            "  inflating: cocoa_new/train/img_1622_JPG_jpg.rf.edcf708712e702e1839062711eb7c9d3.jpg  \n",
            "  inflating: cocoa_new/train/img_3496_JPG_jpg.rf.0f9273a118d416f980c2442d01cd5692.jpg  \n",
            "  inflating: cocoa_new/train/img_3044_JPG_jpg.rf.14e983df8037ac6566ea6e7489d0b76a.jpg  \n",
            "  inflating: cocoa_new/train/img_111_JPG_jpg.rf.d0d2bccf8ebd5c886a77afa1878818d8.xml  \n",
            "  inflating: cocoa_new/train/img_951_JPG_jpg.rf.1a2c2ff7ac2c6dd66e7ec2bb2e5793f8.xml  \n",
            "  inflating: cocoa_new/train/img_404_JPG_jpg.rf.59a621d108f032c5a535c349e70d6d41.xml  \n",
            "  inflating: cocoa_new/train/img_1919_JPG_jpg.rf.70058d582de1991f30d5839087633af0.jpg  \n",
            "  inflating: cocoa_new/train/img_4061_JPG_jpg.rf.8ccb1cc2cc95ddf6636880644b10a4ac.xml  \n",
            "  inflating: cocoa_new/train/img_2709_JPG_jpg.rf.fb7c946e786aa9cfadd446d826613727.xml  \n",
            "  inflating: cocoa_new/train/img_3534_JPG_jpg.rf.0da88acbb2db492face6b7a54c809f04.jpg  \n",
            "  inflating: cocoa_new/train/img_782_JPG_jpg.rf.f6804c8807a06eeb6c790916bbfe8a22.xml  \n",
            "  inflating: cocoa_new/train/img_220_JPG_jpg.rf.9cf9fc18b47c98dc6e800a28731aa7a9.jpg  \n",
            "  inflating: cocoa_new/train/img_1797_JPG_jpg.rf.e180aeb84d82a9214f0162226dded47b.jpg  \n",
            "  inflating: cocoa_new/train/img_3880_JPG_jpg.rf.998095e1acc9639b7d3eb4673eb6c9fd.xml  \n",
            "  inflating: cocoa_new/train/img_3720_JPG_jpg.rf.dc369337ef6a82eed16758707ed6c0b1.xml  \n",
            "  inflating: cocoa_new/train/img_4135_JPG_jpg.rf.bd0d1999a79c883f3805d52541700dd4.jpg  \n",
            "  inflating: cocoa_new/train/img_2375_JPG_jpg.rf.358e4264e761704f1d34c400ff014c0d.jpg  \n",
            "  inflating: cocoa_new/train/img_3675_JPG_jpg.rf.ced76e3feec58b76e6b15d61362e4088.xml  \n",
            "  inflating: cocoa_new/train/img_1771_JPG_jpg.rf.19aab2b09fe17388ac96b63c68c82230.xml  \n",
            "  inflating: cocoa_new/train/img_3284_JPG_jpg.rf.b2fc569ae4c0c640bf790b2e59628960.xml  \n",
            "  inflating: cocoa_new/train/img_3444_JPG_jpg.rf.934cfeba0d4cc69862c9baf8ad44af0a.jpg  \n",
            "  inflating: cocoa_new/train/img_1414_JPG_jpg.rf.5ad75f859d25a62fb86a57d99b5ef66b.jpg  \n",
            "  inflating: cocoa_new/train/img_586_JPG_jpg.rf.fe38afaa338c4f68362d6ca274ad48cb.jpg  \n",
            "  inflating: cocoa_new/train/img_666_JPG_jpg.rf.bfa69a16d81853ca087b46e1de49486a.jpg  \n",
            "  inflating: cocoa_new/train/img_3675_JPG_jpg.rf.ced76e3feec58b76e6b15d61362e4088.jpg  \n",
            "  inflating: cocoa_new/train/img_1771_JPG_jpg.rf.19aab2b09fe17388ac96b63c68c82230.jpg  \n",
            "  inflating: cocoa_new/train/img_3284_JPG_jpg.rf.b2fc569ae4c0c640bf790b2e59628960.jpg  \n",
            "  inflating: cocoa_new/train/img_3720_JPG_jpg.rf.dc369337ef6a82eed16758707ed6c0b1.jpg  \n",
            "  inflating: cocoa_new/train/img_4135_JPG_jpg.rf.bd0d1999a79c883f3805d52541700dd4.xml  \n",
            "  inflating: cocoa_new/train/img_2375_JPG_jpg.rf.358e4264e761704f1d34c400ff014c0d.xml  \n",
            "  inflating: cocoa_new/train/img_1414_JPG_jpg.rf.5ad75f859d25a62fb86a57d99b5ef66b.xml  \n",
            "  inflating: cocoa_new/train/img_586_JPG_jpg.rf.fe38afaa338c4f68362d6ca274ad48cb.xml  \n",
            "  inflating: cocoa_new/train/img_666_JPG_jpg.rf.bfa69a16d81853ca087b46e1de49486a.xml  \n",
            "  inflating: cocoa_new/train/img_3444_JPG_jpg.rf.934cfeba0d4cc69862c9baf8ad44af0a.xml  \n",
            "  inflating: cocoa_new/train/img_3534_JPG_jpg.rf.0da88acbb2db492face6b7a54c809f04.xml  \n",
            "  inflating: cocoa_new/train/img_2709_JPG_jpg.rf.fb7c946e786aa9cfadd446d826613727.jpg  \n",
            "  inflating: cocoa_new/train/img_782_JPG_jpg.rf.f6804c8807a06eeb6c790916bbfe8a22.jpg  \n",
            "  inflating: cocoa_new/train/img_404_JPG_jpg.rf.59a621d108f032c5a535c349e70d6d41.jpg  \n",
            "  inflating: cocoa_new/train/img_1919_JPG_jpg.rf.70058d582de1991f30d5839087633af0.xml  \n",
            "  inflating: cocoa_new/train/img_4061_JPG_jpg.rf.8ccb1cc2cc95ddf6636880644b10a4ac.jpg  \n",
            "  inflating: cocoa_new/train/img_1797_JPG_jpg.rf.e180aeb84d82a9214f0162226dded47b.xml  \n",
            "  inflating: cocoa_new/train/img_3880_JPG_jpg.rf.998095e1acc9639b7d3eb4673eb6c9fd.jpg  \n",
            "  inflating: cocoa_new/train/img_220_JPG_jpg.rf.9cf9fc18b47c98dc6e800a28731aa7a9.xml  \n",
            "  inflating: cocoa_new/train/img_1742_JPG_jpg.rf.6f0ec5a6ab74f94f79e1eb90f5be2952.jpg  \n",
            "  inflating: cocoa_new/train/img_2446_JPG_jpg.rf.c9484e5de7c5523937279e232ebfe2b4.xml  \n",
            "  inflating: cocoa_new/train/img_2031_JPG_jpg.rf.ad5c273ac47d32a489ff2e8f56b5200e.xml  \n",
            "  inflating: cocoa_new/train/img_1262_JPG_jpg.rf.e63b805bbccf76e548863b6d35c1f87d.jpg  \n",
            "  inflating: cocoa_new/train/img_618_JPG_jpg.rf.ff1b10b561a81103c5fb03c685c78545.xml  \n",
            "  inflating: cocoa_new/train/img_1772_JPG_jpg.rf.1cf1f4aa1d828a2ff87dc4ca9ce08b76.xml  \n",
            "  inflating: cocoa_new/train/img_3800_JPG_jpg.rf.61a6b85a4f014b06e67640761146ece7.xml  \n",
            "  inflating: cocoa_new/train/img_1437_JPG_jpg.rf.d2601504e7f009538843f47b421a7832.xml  \n",
            "  inflating: cocoa_new/train/img_679_JPG_jpg.rf.051b92e365faf3232a13354cf00e28c5.xml  \n",
            "  inflating: cocoa_new/train/img_746_JPG_jpg.rf.f712d915f1aa1f8763e933efda7aece5.jpg  \n",
            "  inflating: cocoa_new/train/img_1446_JPG_jpg.rf.c393ea1f9d04b0b035ce6e8b84ededda.xml  \n",
            "  inflating: cocoa_new/train/img_2306_JPG_jpg.rf.f18140a7e4b7e93cae7de282f31db60b.xml  \n",
            "  inflating: cocoa_new/train/img_2525_JPG_jpg.rf.e22fb07ca0242980268faac23f028b36.xml  \n",
            "  inflating: cocoa_new/train/img_3448_JPG_jpg.rf.d4242714d8cc111868a5c404f51fa56b.xml  \n",
            "  inflating: cocoa_new/train/img_1895_JPG_jpg.rf.60ee78b18a3f3018957d8b5992eae815.xml  \n",
            "  inflating: cocoa_new/train/img_621_JPG_jpg.rf.9a7bed55a607067cb005ffa4da5b85c4.xml  \n",
            "  inflating: cocoa_new/train/img_3136_JPG_jpg.rf.20347962559c38e28e3da6e67642ebd4.jpg  \n",
            "  inflating: cocoa_new/train/img_2650_JPG_jpg.rf.4b2e4801ef638978fa7898f4a9fb6fa5.jpg  \n",
            "  inflating: cocoa_new/train/img_1912_JPG_jpg.rf.7090391fb5b44943dcf0b44c67a3ddd0.xml  \n",
            "  inflating: cocoa_new/train/img_621_JPG_jpg.rf.9a7bed55a607067cb005ffa4da5b85c4.jpg  \n",
            "  inflating: cocoa_new/train/img_3448_JPG_jpg.rf.d4242714d8cc111868a5c404f51fa56b.jpg  \n",
            "  inflating: cocoa_new/train/img_1895_JPG_jpg.rf.60ee78b18a3f3018957d8b5992eae815.jpg  \n",
            "  inflating: cocoa_new/train/img_1446_JPG_jpg.rf.c393ea1f9d04b0b035ce6e8b84ededda.jpg  \n",
            "  inflating: cocoa_new/train/img_2306_JPG_jpg.rf.f18140a7e4b7e93cae7de282f31db60b.jpg  \n",
            "  inflating: cocoa_new/train/img_2525_JPG_jpg.rf.e22fb07ca0242980268faac23f028b36.jpg  \n",
            "  inflating: cocoa_new/train/img_2650_JPG_jpg.rf.4b2e4801ef638978fa7898f4a9fb6fa5.xml  \n",
            "  inflating: cocoa_new/train/img_1912_JPG_jpg.rf.7090391fb5b44943dcf0b44c67a3ddd0.jpg  \n",
            "  inflating: cocoa_new/train/img_3136_JPG_jpg.rf.20347962559c38e28e3da6e67642ebd4.xml  \n",
            "  inflating: cocoa_new/train/img_1742_JPG_jpg.rf.6f0ec5a6ab74f94f79e1eb90f5be2952.xml  \n",
            "  inflating: cocoa_new/train/img_2446_JPG_jpg.rf.c9484e5de7c5523937279e232ebfe2b4.jpg  \n",
            "  inflating: cocoa_new/train/img_1772_JPG_jpg.rf.1cf1f4aa1d828a2ff87dc4ca9ce08b76.jpg  \n",
            "  inflating: cocoa_new/train/img_3800_JPG_jpg.rf.61a6b85a4f014b06e67640761146ece7.jpg  \n",
            "  inflating: cocoa_new/train/img_1437_JPG_jpg.rf.d2601504e7f009538843f47b421a7832.jpg  \n",
            "  inflating: cocoa_new/train/img_746_JPG_jpg.rf.f712d915f1aa1f8763e933efda7aece5.xml  \n",
            "  inflating: cocoa_new/train/img_679_JPG_jpg.rf.051b92e365faf3232a13354cf00e28c5.jpg  \n",
            "  inflating: cocoa_new/train/img_2031_JPG_jpg.rf.ad5c273ac47d32a489ff2e8f56b5200e.jpg  \n",
            "  inflating: cocoa_new/train/img_1262_JPG_jpg.rf.e63b805bbccf76e548863b6d35c1f87d.xml  \n",
            "  inflating: cocoa_new/train/img_618_JPG_jpg.rf.ff1b10b561a81103c5fb03c685c78545.jpg  \n",
            "  inflating: cocoa_new/train/img_3575_JPG_jpg.rf.34eb25dabea4667b72f4af9f42acbe00.xml  \n",
            "  inflating: cocoa_new/train/img_1508_JPG_jpg.rf.ca74efced8f9dac262bf9a5b7c59caac.jpg  \n",
            "  inflating: cocoa_new/train/img_2436_JPG_jpg.rf.389b72ad5f90f72cfad31f7d7edb4707.jpg  \n",
            "  inflating: cocoa_new/train/img_3173_JPG_jpg.rf.129e2edd18c93670e995acb5cc1b5181.xml  \n",
            "  inflating: cocoa_new/train/img_1334_JPG_jpg.rf.a799e4236e9f2737038199ffd95ecba1.xml  \n",
            "  inflating: cocoa_new/train/img_956_JPG_jpg.rf.cc3b266487172f387ebf0a5d8f3b2e65.xml  \n",
            "  inflating: cocoa_new/train/img_345_JPG_jpg.rf.6498492b645fe70c0c0e7f75655a6afd.jpg  \n",
            "  inflating: cocoa_new/train/img_3350_JPG_jpg.rf.19680259db54f9bab354d660ebc721c1.jpg  \n",
            "  inflating: cocoa_new/train/img_463_JPG_jpg.rf.80b4a393b994305766cc5ec09ffd92dd.jpg  \n",
            "  inflating: cocoa_new/train/img_376_JPG_jpg.rf.e0579ceb4cfdd7da6f46385261f7de41.jpg  \n",
            "  inflating: cocoa_new/train/img_768_JPG_jpg.rf.1ee19b5a7dec3a245b2b78ebb3de47a6.xml  \n",
            "  inflating: cocoa_new/train/img_4006_JPG_jpg.rf.5fef70dc9e39244163cde715ff1c18f9.xml  \n",
            "  inflating: cocoa_new/train/img_514_JPG_jpg.rf.b5ab44ea17c950ea597695814be749a5.jpg  \n",
            "  inflating: cocoa_new/train/img_859_JPG_jpg.rf.fb7f443b298ef351c2212608d521fff1.xml  \n",
            "  inflating: cocoa_new/train/img_3542_JPG_jpg.rf.280e20eb89aaa635618c9792dc65be85.jpg  \n",
            "  inflating: cocoa_new/train/img_3636_JPG_jpg.rf.530eb243bb7a704915138b5e2751c2da.jpg  \n",
            "  inflating: cocoa_new/train/img_3168_JPG_jpg.rf.fdc697539c1ee344ccda6dcb3b28d7d3.jpg  \n",
            "  inflating: cocoa_new/train/img_2949_JPG_jpg.rf.5067ed79e37e7f31eb2377882e84deb7.xml  \n",
            "  inflating: cocoa_new/train/img_1251_JPG_jpg.rf.3978bbe8881408f3e7082998c761a4d6.jpg  \n",
            "  inflating: cocoa_new/train/img_3480_JPG_jpg.rf.a24e66e3cf0f99ae9006e7cddd1f2f47.jpg  \n",
            "  inflating: cocoa_new/train/img_892_JPG_jpg.rf.e588218156c2409ac9be130be1108fe7.jpg  \n",
            "  inflating: cocoa_new/train/img_1160_JPG_jpg.rf.a1aa81c907e28767b1e8d39a5cc16edf.jpg  \n",
            "  inflating: cocoa_new/train/img_859_JPG_jpg.rf.fb7f443b298ef351c2212608d521fff1.jpg  \n",
            "  inflating: cocoa_new/train/img_3542_JPG_jpg.rf.280e20eb89aaa635618c9792dc65be85.xml  \n",
            "  inflating: cocoa_new/train/img_514_JPG_jpg.rf.b5ab44ea17c950ea597695814be749a5.xml  \n",
            "  inflating: cocoa_new/train/img_3480_JPG_jpg.rf.a24e66e3cf0f99ae9006e7cddd1f2f47.xml  \n",
            "  inflating: cocoa_new/train/img_892_JPG_jpg.rf.e588218156c2409ac9be130be1108fe7.xml  \n",
            "  inflating: cocoa_new/train/img_1160_JPG_jpg.rf.a1aa81c907e28767b1e8d39a5cc16edf.xml  \n",
            "  inflating: cocoa_new/train/img_3636_JPG_jpg.rf.530eb243bb7a704915138b5e2751c2da.xml  \n",
            "  inflating: cocoa_new/train/img_3168_JPG_jpg.rf.fdc697539c1ee344ccda6dcb3b28d7d3.xml  \n",
            "  inflating: cocoa_new/train/img_2949_JPG_jpg.rf.5067ed79e37e7f31eb2377882e84deb7.jpg  \n",
            "  inflating: cocoa_new/train/img_1251_JPG_jpg.rf.3978bbe8881408f3e7082998c761a4d6.xml  \n",
            "  inflating: cocoa_new/train/img_3173_JPG_jpg.rf.129e2edd18c93670e995acb5cc1b5181.jpg  \n",
            "  inflating: cocoa_new/train/img_2436_JPG_jpg.rf.389b72ad5f90f72cfad31f7d7edb4707.xml  \n",
            "  inflating: cocoa_new/train/img_1334_JPG_jpg.rf.a799e4236e9f2737038199ffd95ecba1.jpg  \n",
            "  inflating: cocoa_new/train/img_956_JPG_jpg.rf.cc3b266487172f387ebf0a5d8f3b2e65.jpg  \n",
            "  inflating: cocoa_new/train/img_3575_JPG_jpg.rf.34eb25dabea4667b72f4af9f42acbe00.jpg  \n",
            "  inflating: cocoa_new/train/img_1508_JPG_jpg.rf.ca74efced8f9dac262bf9a5b7c59caac.xml  \n",
            "  inflating: cocoa_new/train/img_4006_JPG_jpg.rf.5fef70dc9e39244163cde715ff1c18f9.jpg  \n",
            "  inflating: cocoa_new/train/img_345_JPG_jpg.rf.6498492b645fe70c0c0e7f75655a6afd.xml  \n",
            "  inflating: cocoa_new/train/img_3350_JPG_jpg.rf.19680259db54f9bab354d660ebc721c1.xml  \n",
            "  inflating: cocoa_new/train/img_463_JPG_jpg.rf.80b4a393b994305766cc5ec09ffd92dd.xml  \n",
            "  inflating: cocoa_new/train/img_376_JPG_jpg.rf.e0579ceb4cfdd7da6f46385261f7de41.xml  \n",
            "  inflating: cocoa_new/train/img_768_JPG_jpg.rf.1ee19b5a7dec3a245b2b78ebb3de47a6.jpg  \n",
            "  inflating: cocoa_new/train/img_2620_JPG_jpg.rf.68e47cb366e7e72af337a517c75b6236.xml  \n",
            "  inflating: cocoa_new/train/img_2311_JPG_jpg.rf.306b42d7d347073c4ee43c8ecdc87397.jpg  \n",
            "  inflating: cocoa_new/train/img_3317_JPG_jpg.rf.007706f2b4acca4031542e8496d61944.jpg  \n",
            "  inflating: cocoa_new/train/img_232_JPG_jpg.rf.ae6a30ab1afbb3e46097de3c2a159356.xml  \n",
            "  inflating: cocoa_new/train/img_1447_JPG_jpg.rf.982ad8770feb99b47c303d4d6a43641d.xml  \n",
            "  inflating: cocoa_new/train/img_3259_JPG_jpg.rf.8062d3c2ece0b93b98a8cc0e3297721c.xml  \n",
            "  inflating: cocoa_new/train/img_4020_JPG_jpg.rf.91100eb77b14d294bf1bfd9b7e23371e.xml  \n",
            "  inflating: cocoa_new/train/img_373_JPG_jpg.rf.770f39a7791482509fd41ae9124d4042.xml  \n",
            "  inflating: cocoa_new/train/img_3721_JPG_jpg.rf.c103def4dd5c480b63f7aea3a89d0056.xml  \n",
            "  inflating: cocoa_new/train/img_198_JPG_jpg.rf.bd13f049618046f794a571fd0ef18b73.jpg  \n",
            "  inflating: cocoa_new/train/img_483_JPG_jpg.rf.b01191a5e7cb9a5439b710dadd1ab8e9.jpg  \n",
            "  inflating: cocoa_new/train/img_85_JPG_jpg.rf.52e48a8fd0156af45862216d64c7f0ba.xml  \n",
            "  inflating: cocoa_new/train/img_3789_JPG_jpg.rf.0483d5111191cca5746b5ce3399087a6.jpg  \n",
            "  inflating: cocoa_new/train/img_3674_JPG_jpg.rf.8b092459d11031f16a5eede9d4e10ff7.jpg  \n",
            "  inflating: cocoa_new/train/img_395_JPG_jpg.rf.8813bc2e446a4cba820746895c72b324.jpg  \n",
            "  inflating: cocoa_new/train/img_3201_JPG_jpg.rf.d4dce7e99d9e56ea07c28741e2cada5a.xml  \n",
            "  inflating: cocoa_new/train/img_3778_JPG_jpg.rf.d97782ce6251f908f4d9f5257f81602a.xml  \n",
            "  inflating: cocoa_new/train/img_85_JPG_jpg.rf.52e48a8fd0156af45862216d64c7f0ba.jpg  \n",
            "  inflating: cocoa_new/train/img_3789_JPG_jpg.rf.0483d5111191cca5746b5ce3399087a6.xml  \n",
            "  inflating: cocoa_new/train/img_3674_JPG_jpg.rf.8b092459d11031f16a5eede9d4e10ff7.xml  \n",
            "  inflating: cocoa_new/train/img_198_JPG_jpg.rf.bd13f049618046f794a571fd0ef18b73.xml  \n",
            "  inflating: cocoa_new/train/img_483_JPG_jpg.rf.b01191a5e7cb9a5439b710dadd1ab8e9.xml  \n",
            "  inflating: cocoa_new/train/img_3778_JPG_jpg.rf.d97782ce6251f908f4d9f5257f81602a.jpg  \n",
            "  inflating: cocoa_new/train/img_395_JPG_jpg.rf.8813bc2e446a4cba820746895c72b324.xml  \n",
            "  inflating: cocoa_new/train/img_3201_JPG_jpg.rf.d4dce7e99d9e56ea07c28741e2cada5a.jpg  \n",
            "  inflating: cocoa_new/train/img_232_JPG_jpg.rf.ae6a30ab1afbb3e46097de3c2a159356.jpg  \n",
            "  inflating: cocoa_new/train/img_3259_JPG_jpg.rf.8062d3c2ece0b93b98a8cc0e3297721c.jpg  \n",
            "  inflating: cocoa_new/train/img_1447_JPG_jpg.rf.982ad8770feb99b47c303d4d6a43641d.jpg  \n",
            "  inflating: cocoa_new/train/img_2620_JPG_jpg.rf.68e47cb366e7e72af337a517c75b6236.jpg  \n",
            "  inflating: cocoa_new/train/img_2311_JPG_jpg.rf.306b42d7d347073c4ee43c8ecdc87397.xml  \n",
            "  inflating: cocoa_new/train/img_3317_JPG_jpg.rf.007706f2b4acca4031542e8496d61944.xml  \n",
            "  inflating: cocoa_new/train/img_3721_JPG_jpg.rf.c103def4dd5c480b63f7aea3a89d0056.jpg  \n",
            "  inflating: cocoa_new/train/img_4020_JPG_jpg.rf.91100eb77b14d294bf1bfd9b7e23371e.jpg  \n",
            "  inflating: cocoa_new/train/img_373_JPG_jpg.rf.770f39a7791482509fd41ae9124d4042.jpg  \n",
            "  inflating: cocoa_new/train/img_3037_JPG_jpg.rf.34d8a6bdcc9f294d1b9aa705859a4677.jpg  \n",
            "  inflating: cocoa_new/train/img_804_JPG_jpg.rf.182478cb4ac021a0b0f38a84b2baa9ca.xml  \n",
            "  inflating: cocoa_new/train/img_321_JPG_jpg.rf.f60a510ca2b136192ad9b1a9722018ca.xml  \n",
            "  inflating: cocoa_new/train/img_3684_JPG_jpg.rf.5eca85e15a0794186347b1879eb52120.xml  \n",
            "  inflating: cocoa_new/train/img_4069_JPG_jpg.rf.ba97a10bb93c627161c9ffcf1b832047.jpg  \n",
            "  inflating: cocoa_new/train/img_1188_JPG_jpg.rf.b7f7e2991b85457695c047e5e595bc8e.jpg  \n",
            "  inflating: cocoa_new/train/img_133_JPG_jpg.rf.601e63d7cd4eb11da0361ac220bd7281.xml  \n",
            "  inflating: cocoa_new/train/img_4137_JPG_jpg.rf.84a9144981e1be4bd696c0226664668f.xml  \n",
            "  inflating: cocoa_new/train/img_4010_JPG_jpg.rf.24da836cbd9d336870a455ffd5ee1dcd.xml  \n",
            "  inflating: cocoa_new/train/img_699_JPG_jpg.rf.3dde134bb7b48660127425f0a2762c62.jpg  \n",
            "  inflating: cocoa_new/train/img_962_JPG_jpg.rf.6eff247520d53f2761b59c4b69cb4c56.jpg  \n",
            "  inflating: cocoa_new/train/img_194_JPG_jpg.rf.ffac9e10d952b0e05ee35906011fa72a.jpg  \n",
            "  inflating: cocoa_new/train/img_1130_JPG_jpg.rf.056f85a0e019a13a36ddf2298202a1a4.xml  \n",
            "  inflating: cocoa_new/train/img_228_JPG_jpg.rf.4a29c1a8724dbf4314ace1ff4b13dfb6.jpg  \n",
            "  inflating: cocoa_new/train/img_3451_JPG_jpg.rf.84beec217c3fa10c58225ead652fda66.xml  \n",
            "  inflating: cocoa_new/train/img_736_JPG_jpg.rf.26d3181b6617a275b48a6cf109ec4b30.xml  \n",
            "  inflating: cocoa_new/train/img_1180_JPG_jpg.rf.f4c576f65a6c71b00d027061ec6e2a12.xml  \n",
            "  inflating: cocoa_new/train/img_228_JPG_jpg.rf.4a29c1a8724dbf4314ace1ff4b13dfb6.xml  \n",
            "  inflating: cocoa_new/train/img_3451_JPG_jpg.rf.84beec217c3fa10c58225ead652fda66.jpg  \n",
            "  inflating: cocoa_new/train/img_194_JPG_jpg.rf.ffac9e10d952b0e05ee35906011fa72a.xml  \n",
            "  inflating: cocoa_new/train/img_1130_JPG_jpg.rf.056f85a0e019a13a36ddf2298202a1a4.jpg  \n",
            "  inflating: cocoa_new/train/img_736_JPG_jpg.rf.26d3181b6617a275b48a6cf109ec4b30.jpg  \n",
            "  inflating: cocoa_new/train/img_1180_JPG_jpg.rf.f4c576f65a6c71b00d027061ec6e2a12.jpg  \n",
            "  inflating: cocoa_new/train/img_1188_JPG_jpg.rf.b7f7e2991b85457695c047e5e595bc8e.xml  \n",
            "  inflating: cocoa_new/train/img_133_JPG_jpg.rf.601e63d7cd4eb11da0361ac220bd7281.jpg  \n",
            "  inflating: cocoa_new/train/img_3037_JPG_jpg.rf.34d8a6bdcc9f294d1b9aa705859a4677.xml  \n",
            "  inflating: cocoa_new/train/img_804_JPG_jpg.rf.182478cb4ac021a0b0f38a84b2baa9ca.jpg  \n",
            "  inflating: cocoa_new/train/img_321_JPG_jpg.rf.f60a510ca2b136192ad9b1a9722018ca.jpg  \n",
            "  inflating: cocoa_new/train/img_3684_JPG_jpg.rf.5eca85e15a0794186347b1879eb52120.jpg  \n",
            "  inflating: cocoa_new/train/img_4069_JPG_jpg.rf.ba97a10bb93c627161c9ffcf1b832047.xml  \n",
            "  inflating: cocoa_new/train/img_699_JPG_jpg.rf.3dde134bb7b48660127425f0a2762c62.xml  \n",
            "  inflating: cocoa_new/train/img_962_JPG_jpg.rf.6eff247520d53f2761b59c4b69cb4c56.xml  \n",
            "  inflating: cocoa_new/train/img_4137_JPG_jpg.rf.84a9144981e1be4bd696c0226664668f.jpg  \n",
            "  inflating: cocoa_new/train/img_4010_JPG_jpg.rf.24da836cbd9d336870a455ffd5ee1dcd.jpg  \n",
            "  inflating: cocoa_new/train/img_4127_JPG_jpg.rf.fc94d10118ff2c50ae295639d950e238.jpg  \n",
            "  inflating: cocoa_new/train/img_1356_JPG_jpg.rf.dbfeb4d397300a789ed567e756dbfb1e.xml  \n",
            "  inflating: cocoa_new/train/img_2884_JPG_jpg.rf.b8651a69e9a486b42550e375639324f5.jpg  \n",
            "  inflating: cocoa_new/train/img_3216_JPG_jpg.rf.ba5be7521fa420641aa566bc8eaecf88.xml  \n",
            "  inflating: cocoa_new/train/img_3204_JPG_jpg.rf.7548fc2d2e969eeb751f44fe1243c090.xml  \n",
            "  inflating: cocoa_new/train/label_map.csv  \n",
            "  inflating: cocoa_new/train/img_119_JPG_jpg.rf.58dc7c30628cf49604b488ecd491b38a.xml  \n",
            "  inflating: cocoa_new/train/img_73_JPG_jpg.rf.08903aa95520a941576a7d46030d422e.jpg  \n",
            "  inflating: cocoa_new/train/img_3555_JPG_jpg.rf.f941ab4276036c5fd9fc53405314c9ea.jpg  \n",
            "  inflating: cocoa_new/train/img_3336_JPG_jpg.rf.eea1083d90ae3925b7c34c852e88ae74.xml  \n",
            "  inflating: cocoa_new/train/img_2815_JPG_jpg.rf.e42f4bbb07408beff47f2408bd8e85b9.xml  \n",
            "  inflating: cocoa_new/train/img_2572_JPG_jpg.rf.20f141773244ae5a8d63a2e24d2e6394.jpg  \n",
            "  inflating: cocoa_new/train/img_626_JPG_jpg.rf.d4f8e4da2560b9ae84ec7201027b14da.jpg  \n",
            "  inflating: cocoa_new/train/img_2637_JPG_jpg.rf.c36840980555f1e637622053be72c772.xml  \n",
            "  inflating: cocoa_new/train/img_675_JPG_jpg.rf.8e14c387b5a7324e90143851702fe8ad.xml  \n",
            "  inflating: cocoa_new/train/img_1454_JPG_jpg.rf.df70fc39b6feda47848353232dbcbea8.xml  \n",
            "  inflating: cocoa_new/train/img_1621_JPG_jpg.rf.bf040631e6c1564b27620d1875ad4d76.xml  \n",
            "  inflating: cocoa_new/train/img_3336_JPG_jpg.rf.eea1083d90ae3925b7c34c852e88ae74.jpg  \n",
            "  inflating: cocoa_new/train/img_3555_JPG_jpg.rf.f941ab4276036c5fd9fc53405314c9ea.xml  \n",
            "  inflating: cocoa_new/train/img_2572_JPG_jpg.rf.20f141773244ae5a8d63a2e24d2e6394.xml  \n",
            "  inflating: cocoa_new/train/img_2815_JPG_jpg.rf.e42f4bbb07408beff47f2408bd8e85b9.jpg  \n",
            "  inflating: cocoa_new/train/img_2637_JPG_jpg.rf.c36840980555f1e637622053be72c772.jpg  \n",
            "  inflating: cocoa_new/train/img_626_JPG_jpg.rf.d4f8e4da2560b9ae84ec7201027b14da.xml  \n",
            "  inflating: cocoa_new/train/img_1454_JPG_jpg.rf.df70fc39b6feda47848353232dbcbea8.jpg  \n",
            "  inflating: cocoa_new/train/img_675_JPG_jpg.rf.8e14c387b5a7324e90143851702fe8ad.jpg  \n",
            "  inflating: cocoa_new/train/img_1621_JPG_jpg.rf.bf040631e6c1564b27620d1875ad4d76.jpg  \n",
            "  inflating: cocoa_new/train/img_3216_JPG_jpg.rf.ba5be7521fa420641aa566bc8eaecf88.jpg  \n",
            "  inflating: cocoa_new/train/img_4127_JPG_jpg.rf.fc94d10118ff2c50ae295639d950e238.xml  \n",
            "  inflating: cocoa_new/train/img_1356_JPG_jpg.rf.dbfeb4d397300a789ed567e756dbfb1e.jpg  \n",
            "  inflating: cocoa_new/train/img_2884_JPG_jpg.rf.b8651a69e9a486b42550e375639324f5.xml  \n",
            "  inflating: cocoa_new/train/img_119_JPG_jpg.rf.58dc7c30628cf49604b488ecd491b38a.jpg  \n",
            "  inflating: cocoa_new/train/img_73_JPG_jpg.rf.08903aa95520a941576a7d46030d422e.xml  \n",
            "  inflating: cocoa_new/train/img_3204_JPG_jpg.rf.7548fc2d2e969eeb751f44fe1243c090.jpg  \n",
            "  inflating: cocoa_new/train/img_1521_JPG_jpg.rf.de092ad0331a8a290672d5510e04d64a.xml  \n",
            "  inflating: cocoa_new/train/img_811_JPG_jpg.rf.dc17c5343261b75d468bae958b8dbedf.xml  \n",
            "  inflating: cocoa_new/train/img_239_JPG_jpg.rf.9696471b324ff83d223f2448e3478861.xml  \n",
            "  inflating: cocoa_new/train/img_4082_JPG_jpg.rf.5d4d22c2fbdf203a869e3fc392bad132.xml  \n",
            "  inflating: cocoa_new/train/img_2507_JPG_jpg.rf.c61a050edb75eb65dcd9b9700b4a9d54.xml  \n",
            "  inflating: cocoa_new/train/img_521_JPG_jpg.rf.4771bc68751ffb3632527dd1d7e9977e.xml  \n",
            "  inflating: cocoa_new/train/img_3731_JPG_jpg.rf.f6cfd27862035605a59aac4dea0e63c8.xml  \n",
            "  inflating: cocoa_new/train/img_1289_JPG_jpg.rf.a5a461c17d293b434581af20c0f36e0c.xml  \n",
            "  inflating: cocoa_new/train/img_3677_JPG_jpg.rf.a465d9a9b48bf3870428adfcbfc16fcf.xml  \n",
            "  inflating: cocoa_new/train/img_4091_JPG_jpg.rf.390def18048038d4a74ba25cc6805993.xml  \n",
            "  inflating: cocoa_new/train/img_1926_JPG_jpg.rf.58f43a3123410a56d2f86ed0b594892c.jpg  \n",
            "  inflating: cocoa_new/train/img_2357_JPG_jpg.rf.65ac9195f3e41781d2c9f001baa090cb.xml  \n",
            "  inflating: cocoa_new/train/img_920_JPG_jpg.rf.f9d9506cb57008b0e0e4cc3002ae2911.jpg  \n",
            "  inflating: cocoa_new/train/img_249_JPG_jpg.rf.b945a3b7fe437d8fcaf199dd199ea51b.jpg  \n",
            "  inflating: cocoa_new/train/img_2601_JPG_jpg.rf.c3fed6ee95537d366ae91408697c0cb4.xml  \n",
            "  inflating: cocoa_new/train/img_1926_JPG_jpg.rf.58f43a3123410a56d2f86ed0b594892c.xml  \n",
            "  inflating: cocoa_new/train/img_4091_JPG_jpg.rf.390def18048038d4a74ba25cc6805993.jpg  \n",
            "  inflating: cocoa_new/train/img_920_JPG_jpg.rf.f9d9506cb57008b0e0e4cc3002ae2911.xml  \n",
            "  inflating: cocoa_new/train/img_249_JPG_jpg.rf.b945a3b7fe437d8fcaf199dd199ea51b.xml  \n",
            "  inflating: cocoa_new/train/img_2601_JPG_jpg.rf.c3fed6ee95537d366ae91408697c0cb4.jpg  \n",
            "  inflating: cocoa_new/train/img_2357_JPG_jpg.rf.65ac9195f3e41781d2c9f001baa090cb.jpg  \n",
            "  inflating: cocoa_new/train/img_521_JPG_jpg.rf.4771bc68751ffb3632527dd1d7e9977e.jpg  \n",
            "  inflating: cocoa_new/train/img_1521_JPG_jpg.rf.de092ad0331a8a290672d5510e04d64a.jpg  \n",
            "  inflating: cocoa_new/train/img_811_JPG_jpg.rf.dc17c5343261b75d468bae958b8dbedf.jpg  \n",
            "  inflating: cocoa_new/train/img_239_JPG_jpg.rf.9696471b324ff83d223f2448e3478861.jpg  \n",
            "  inflating: cocoa_new/train/img_2507_JPG_jpg.rf.c61a050edb75eb65dcd9b9700b4a9d54.jpg  \n",
            "  inflating: cocoa_new/train/img_4082_JPG_jpg.rf.5d4d22c2fbdf203a869e3fc392bad132.jpg  \n",
            "  inflating: cocoa_new/train/img_1289_JPG_jpg.rf.a5a461c17d293b434581af20c0f36e0c.jpg  \n",
            "  inflating: cocoa_new/train/img_3677_JPG_jpg.rf.a465d9a9b48bf3870428adfcbfc16fcf.jpg  \n",
            "  inflating: cocoa_new/train/img_3731_JPG_jpg.rf.f6cfd27862035605a59aac4dea0e63c8.jpg  \n",
            "  inflating: cocoa_new/train/img_588_JPG_jpg.rf.b6ee699f384bfd165748181342f84cf1.jpg  \n",
            "  inflating: cocoa_new/train/img_3979_JPG_jpg.rf.751d357e19fb30d6ba7bea363630e145.jpg  \n",
            "  inflating: cocoa_new/train/img_2441_JPG_jpg.rf.2d7437090633db0960f1278657b75af5.xml  \n",
            "  inflating: cocoa_new/train/img_3941_JPG_jpg.rf.66f1827bb777732100aabccc4d7d59f5.jpg  \n",
            "  inflating: cocoa_new/train/img_3324_JPG_jpg.rf.b7c1f930a17bcc54561e9af0ee5ceb69.xml  \n",
            "  inflating: cocoa_new/train/img_2969_JPG_jpg.rf.d50b9222b129030e425c2e753a143db4.xml  \n",
            "  inflating: cocoa_new/train/img_2953_JPG_jpg.rf.32238402536617132d860e8eba60c4b9.jpg  \n",
            "  inflating: cocoa_new/train/img_3188_JPG_jpg.rf.c845784d38681564c2cca5f19e720412.xml  \n",
            "  inflating: cocoa_new/train/img_1452_JPG_jpg.rf.9b27e9d437509c2cb7540a7416364827.jpg  \n",
            "  inflating: cocoa_new/train/img_2571_JPG_jpg.rf.0a2b370b1bfa93015e11667706c4c37c.xml  \n",
            "  inflating: cocoa_new/train/img_4114_JPG_jpg.rf.90633890562bf9c12af47c694db82050.xml  \n",
            "  inflating: cocoa_new/train/img_3134_JPG_jpg.rf.4881606ab2b145b5e6ed084000e0ae52.jpg  \n",
            "  inflating: cocoa_new/train/img_3669_JPG_jpg.rf.585418f6be646944f9a5c6da20a8e7dc.xml  \n",
            "  inflating: cocoa_new/train/img_604_JPG_jpg.rf.f24f3bbedc4217372fac026876e74ceb.jpg  \n",
            "  inflating: cocoa_new/train/img_932_JPG_jpg.rf.3a8154a090742407934388f5b45ff180.jpg  \n",
            "  inflating: cocoa_new/train/img_1290_JPG_jpg.rf.7e3d54872a55983c339632c27d1695b9.xml  \n",
            "  inflating: cocoa_new/train/img_2332_JPG_jpg.rf.4c1369f2901c8e5d3b71644e3957253d.xml  \n",
            "  inflating: cocoa_new/train/img_3949_JPG_jpg.rf.e0926555954697cba5c9eaf347336017.jpg  \n",
            "  inflating: cocoa_new/train/img_3667_JPG_jpg.rf.3c4c4f32d9ac3eec2ce1f478356c460a.jpg  \n",
            "  inflating: cocoa_new/train/img_604_JPG_jpg.rf.f24f3bbedc4217372fac026876e74ceb.xml  \n",
            "  inflating: cocoa_new/train/img_932_JPG_jpg.rf.3a8154a090742407934388f5b45ff180.xml  \n",
            "  inflating: cocoa_new/train/img_1290_JPG_jpg.rf.7e3d54872a55983c339632c27d1695b9.jpg  \n",
            "  inflating: cocoa_new/train/img_2571_JPG_jpg.rf.0a2b370b1bfa93015e11667706c4c37c.jpg  \n",
            "  inflating: cocoa_new/train/img_4114_JPG_jpg.rf.90633890562bf9c12af47c694db82050.jpg  \n",
            "  inflating: cocoa_new/train/img_3669_JPG_jpg.rf.585418f6be646944f9a5c6da20a8e7dc.jpg  \n",
            "  inflating: cocoa_new/train/img_3134_JPG_jpg.rf.4881606ab2b145b5e6ed084000e0ae52.xml  \n",
            "  inflating: cocoa_new/train/img_3667_JPG_jpg.rf.3c4c4f32d9ac3eec2ce1f478356c460a.xml  \n",
            "  inflating: cocoa_new/train/img_2332_JPG_jpg.rf.4c1369f2901c8e5d3b71644e3957253d.jpg  \n",
            "  inflating: cocoa_new/train/img_3949_JPG_jpg.rf.e0926555954697cba5c9eaf347336017.xml  \n",
            "  inflating: cocoa_new/train/img_588_JPG_jpg.rf.b6ee699f384bfd165748181342f84cf1.xml  \n",
            "  inflating: cocoa_new/train/img_3979_JPG_jpg.rf.751d357e19fb30d6ba7bea363630e145.xml  \n",
            "  inflating: cocoa_new/train/img_2969_JPG_jpg.rf.d50b9222b129030e425c2e753a143db4.jpg  \n",
            "  inflating: cocoa_new/train/img_2953_JPG_jpg.rf.32238402536617132d860e8eba60c4b9.xml  \n",
            "  inflating: cocoa_new/train/img_3188_JPG_jpg.rf.c845784d38681564c2cca5f19e720412.jpg  \n",
            "  inflating: cocoa_new/train/img_1452_JPG_jpg.rf.9b27e9d437509c2cb7540a7416364827.xml  \n",
            "  inflating: cocoa_new/train/img_2441_JPG_jpg.rf.2d7437090633db0960f1278657b75af5.jpg  \n",
            "  inflating: cocoa_new/train/img_3941_JPG_jpg.rf.66f1827bb777732100aabccc4d7d59f5.xml  \n",
            "  inflating: cocoa_new/train/img_3324_JPG_jpg.rf.b7c1f930a17bcc54561e9af0ee5ceb69.jpg  \n",
            "  inflating: cocoa_new/train/img_2462_JPG_jpg.rf.0f3f6429cc866cedfc8794743727e4b3.jpg  \n",
            "  inflating: cocoa_new/train/img_3619_JPG_jpg.rf.899014242dbe98706481c20c213c30c8.xml  \n",
            "  inflating: cocoa_new/train/img_4022_JPG_jpg.rf.7065b80a8e38a280055eff6cfd648a73.jpg  \n",
            "  inflating: cocoa_new/train/img_2389_JPG_jpg.rf.bfcfcf3a6c91bd088afb5da718db2bc3.jpg  \n",
            "  inflating: cocoa_new/train/img_2925_JPG_jpg.rf.194154f6a23dacdd197b7bdc9e5d6e0c.jpg  \n",
            "  inflating: cocoa_new/train/img_687_JPG_jpg.rf.6149e2622e65990622d91f79763a54a3.xml  \n",
            "  inflating: cocoa_new/train/img_1162_JPG_jpg.rf.294bf2427c4f0f14a2e349015e248e5d.xml  \n",
            "  inflating: cocoa_new/train/img_52_JPG_jpg.rf.94e49795a6861f0e4d9b1cbf56c144d2.jpg  \n",
            "  inflating: cocoa_new/train/img_3758_JPG_jpg.rf.d2e0e5306cd79c56f6a98cc5f03981cf.jpg  \n",
            "  inflating: cocoa_new/train/img_2965_JPG_jpg.rf.b1df19fde2ccdf1d7449f218ebb42bed.jpg  \n",
            "  inflating: cocoa_new/train/img_448_JPG_jpg.rf.a3352d3fe64089e7cd56aae3e2edc48e.jpg  \n",
            "  inflating: cocoa_new/train/img_658_JPG_jpg.rf.6b01ad8d1c2194cf37a06adf0f743d5f.jpg  \n",
            "  inflating: cocoa_new/train/img_3269_JPG_jpg.rf.80cd72a3d44f9fe430eccc7d0934225c.xml  \n",
            "  inflating: cocoa_new/train/img_816_JPG_jpg.rf.a05ecd7db2c0bf3c4ad4f0c8f4951162.jpg  \n",
            "  inflating: cocoa_new/train/img_3539_JPG_jpg.rf.d1c06f13135a160788b59f487f5771fb.jpg  \n",
            "  inflating: cocoa_new/train/img_3810_JPG_jpg.rf.28515ca6eb3d3e91a10c8b3cdb2e1c15.xml  \n",
            "  inflating: cocoa_new/train/img_677_JPG_jpg.rf.0ca107b6882b03c61d34adc9ab29cb75.xml  \n",
            "  inflating: cocoa_new/train/img_658_JPG_jpg.rf.6b01ad8d1c2194cf37a06adf0f743d5f.xml  \n",
            "  inflating: cocoa_new/train/img_3269_JPG_jpg.rf.80cd72a3d44f9fe430eccc7d0934225c.jpg  \n",
            "  inflating: cocoa_new/train/img_816_JPG_jpg.rf.a05ecd7db2c0bf3c4ad4f0c8f4951162.xml  \n",
            "  inflating: cocoa_new/train/img_3810_JPG_jpg.rf.28515ca6eb3d3e91a10c8b3cdb2e1c15.jpg  \n",
            "  inflating: cocoa_new/train/img_677_JPG_jpg.rf.0ca107b6882b03c61d34adc9ab29cb75.jpg  \n",
            "  inflating: cocoa_new/train/img_3539_JPG_jpg.rf.d1c06f13135a160788b59f487f5771fb.xml  \n",
            "  inflating: cocoa_new/train/img_2389_JPG_jpg.rf.bfcfcf3a6c91bd088afb5da718db2bc3.xml  \n",
            "  inflating: cocoa_new/train/img_2925_JPG_jpg.rf.194154f6a23dacdd197b7bdc9e5d6e0c.xml  \n",
            "  inflating: cocoa_new/train/img_2462_JPG_jpg.rf.0f3f6429cc866cedfc8794743727e4b3.xml  \n",
            "  inflating: cocoa_new/train/img_3619_JPG_jpg.rf.899014242dbe98706481c20c213c30c8.jpg  \n",
            "  inflating: cocoa_new/train/img_4022_JPG_jpg.rf.7065b80a8e38a280055eff6cfd648a73.xml  \n",
            "  inflating: cocoa_new/train/img_3758_JPG_jpg.rf.d2e0e5306cd79c56f6a98cc5f03981cf.xml  \n",
            "  inflating: cocoa_new/train/img_52_JPG_jpg.rf.94e49795a6861f0e4d9b1cbf56c144d2.xml  \n",
            "  inflating: cocoa_new/train/img_2965_JPG_jpg.rf.b1df19fde2ccdf1d7449f218ebb42bed.xml  \n",
            "  inflating: cocoa_new/train/img_448_JPG_jpg.rf.a3352d3fe64089e7cd56aae3e2edc48e.xml  \n",
            "  inflating: cocoa_new/train/img_687_JPG_jpg.rf.6149e2622e65990622d91f79763a54a3.jpg  \n",
            "  inflating: cocoa_new/train/img_1162_JPG_jpg.rf.294bf2427c4f0f14a2e349015e248e5d.jpg  \n",
            "  inflating: cocoa_new/train/img_3375_JPG_jpg.rf.61bd9f0621659c7ce476f73ccbe5d314.xml  \n",
            "  inflating: cocoa_new/train/img_470_JPG_jpg.rf.7bb6549ee1d8ec2e1b59f9b4a16f450b.xml  \n",
            "  inflating: cocoa_new/train/img_3227_JPG_jpg.rf.e66ce458391faed6a171200954a5e967.xml  \n",
            "  inflating: cocoa_new/train/img_221_JPG_jpg.rf.e113704885fa0d07374be7596b2e357c.xml  \n",
            "  inflating: cocoa_new/train/img_3965_JPG_jpg.rf.b413fc190803d19e748fb1d48e0c5240.jpg  \n",
            "  inflating: cocoa_new/train/img_2972_JPG_jpg.rf.59750de6b922b081f29746a65cc7c05f.xml  \n",
            "  inflating: cocoa_new/train/img_3130_JPG_jpg.rf.5dfe5970bec02b29d3a5daaf6bcba221.jpg  \n",
            "  inflating: cocoa_new/train/img_652_JPG_jpg.rf.2fb927f9d6a084cefb7a863c8c02659b.jpg  \n",
            "  inflating: cocoa_new/train/img_1257_JPG_jpg.rf.6791ffa63c43afb803bf9d745dad37d0.xml  \n",
            "  inflating: cocoa_new/train/img_3908_JPG_jpg.rf.251e6dc98fc2ba2c36c60ee7f937b8c1.xml  \n",
            "  inflating: cocoa_new/train/img_39_JPG_jpg.rf.9d0c0e3b96ccaace36ca968aa33b29ec.jpg  \n",
            "  inflating: cocoa_new/train/img_2865_JPG_jpg.rf.463f3c44831f537926d955fdcef84288.jpg  \n",
            "  inflating: cocoa_new/train/img_3008_JPG_jpg.rf.a6724824f6fb98d89c58b848c50d7a4e.xml  \n",
            "  inflating: cocoa_new/train/img_1952_JPG_jpg.rf.17ba4df35e16f10fee2607d1cfcb737c.xml  \n",
            "  inflating: cocoa_new/train/img_39_JPG_jpg.rf.9d0c0e3b96ccaace36ca968aa33b29ec.xml  \n",
            "  inflating: cocoa_new/train/img_1257_JPG_jpg.rf.6791ffa63c43afb803bf9d745dad37d0.jpg  \n",
            "  inflating: cocoa_new/train/img_3908_JPG_jpg.rf.251e6dc98fc2ba2c36c60ee7f937b8c1.jpg  \n",
            "  inflating: cocoa_new/train/img_3008_JPG_jpg.rf.a6724824f6fb98d89c58b848c50d7a4e.jpg  \n",
            "  inflating: cocoa_new/train/img_1952_JPG_jpg.rf.17ba4df35e16f10fee2607d1cfcb737c.jpg  \n",
            "  inflating: cocoa_new/train/img_2865_JPG_jpg.rf.463f3c44831f537926d955fdcef84288.xml  \n",
            "  inflating: cocoa_new/train/img_221_JPG_jpg.rf.e113704885fa0d07374be7596b2e357c.jpg  \n",
            "  inflating: cocoa_new/train/img_3375_JPG_jpg.rf.61bd9f0621659c7ce476f73ccbe5d314.jpg  \n",
            "  inflating: cocoa_new/train/img_470_JPG_jpg.rf.7bb6549ee1d8ec2e1b59f9b4a16f450b.jpg  \n",
            "  inflating: cocoa_new/train/img_3227_JPG_jpg.rf.e66ce458391faed6a171200954a5e967.jpg  \n",
            "  inflating: cocoa_new/train/img_652_JPG_jpg.rf.2fb927f9d6a084cefb7a863c8c02659b.xml  \n",
            "  inflating: cocoa_new/train/img_3965_JPG_jpg.rf.b413fc190803d19e748fb1d48e0c5240.xml  \n",
            "  inflating: cocoa_new/train/img_2972_JPG_jpg.rf.59750de6b922b081f29746a65cc7c05f.jpg  \n",
            "  inflating: cocoa_new/train/img_3130_JPG_jpg.rf.5dfe5970bec02b29d3a5daaf6bcba221.xml  \n",
            "  inflating: cocoa_new/train/img_4163_JPG_jpg.rf.1ec4bac1b726304f774b001e21d47efc.xml  \n",
            "  inflating: cocoa_new/train/img_1197_JPG_jpg.rf.9215ec87c5e68e8db7104c52099f66c3.jpg  \n",
            "  inflating: cocoa_new/train/img_3155_JPG_jpg.rf.b949272f996aea7e2927dde2bb9f9980.xml  \n",
            "  inflating: cocoa_new/train/img_72_JPG_jpg.rf.9365bd485aff168dc4cbe37241dae235.jpg  \n",
            "  inflating: cocoa_new/train/img_571_JPG_jpg.rf.603f7f254c0c620e5597077bbd270f3e.xml  \n",
            "  inflating: cocoa_new/train/img_1187_JPG_jpg.rf.fd39843917c02cede73ce20937f27fc6.xml  \n",
            "  inflating: cocoa_new/train/img_3395_JPG_jpg.rf.342bc1ef5895751e011ca21bad04be2f.xml  \n",
            "  inflating: cocoa_new/train/img_1328_JPG_jpg.rf.96e8facc727ad96b23afa3eedcf113af.xml  \n",
            "  inflating: cocoa_new/train/img_3392_JPG_jpg.rf.03e6596cd929f94456e6ada5ab9b2a2e.xml  \n",
            "  inflating: cocoa_new/train/img_3101_JPG_jpg.rf.bf98e6519569756a0b9429fe93d09a66.jpg  \n",
            "  inflating: cocoa_new/train/img_3662_JPG_jpg.rf.4f921e4f6ef18a124301ece29c7570f9.jpg  \n",
            "  inflating: cocoa_new/train/img_3304_JPG_jpg.rf.384ef1b3dd9487b10b4a205f6a137f0a.xml  \n",
            "  inflating: cocoa_new/train/img_3346_JPG_jpg.rf.c073cbc4ec8cd0bcf3edd2c813294ebb.jpg  \n",
            "  inflating: cocoa_new/train/img_605_JPG_jpg.rf.de23ef5bcb9ff453e3901672906ccfcd.jpg  \n",
            "  inflating: cocoa_new/train/img_3485_JPG_jpg.rf.b777dbc5a07bde3f299dc5265f30a511.jpg  \n",
            "  inflating: cocoa_new/train/img_3005_JPG_jpg.rf.2e582b49c812edac3b9698ef6cc6709f.jpg  \n",
            "  inflating: cocoa_new/train/img_3318_JPG_jpg.rf.3cca0954db20dc8eb97fcd32feb8fb40.xml  \n",
            "  inflating: cocoa_new/train/img_4109_JPG_jpg.rf.85fde4b7d5825f08dcc072d887b60eb5.jpg  \n",
            "  inflating: cocoa_new/train/img_4108_JPG_jpg.rf.269e85b38a9e457999a8cee433182814.xml  \n",
            "  inflating: cocoa_new/train/img_3304_JPG_jpg.rf.384ef1b3dd9487b10b4a205f6a137f0a.jpg  \n",
            "  inflating: cocoa_new/train/img_3346_JPG_jpg.rf.c073cbc4ec8cd0bcf3edd2c813294ebb.xml  \n",
            "  inflating: cocoa_new/train/img_605_JPG_jpg.rf.de23ef5bcb9ff453e3901672906ccfcd.xml  \n",
            "  inflating: cocoa_new/train/img_4109_JPG_jpg.rf.85fde4b7d5825f08dcc072d887b60eb5.xml  \n",
            "  inflating: cocoa_new/train/img_4108_JPG_jpg.rf.269e85b38a9e457999a8cee433182814.jpg  \n",
            "  inflating: cocoa_new/train/img_3485_JPG_jpg.rf.b777dbc5a07bde3f299dc5265f30a511.xml  \n",
            "  inflating: cocoa_new/train/img_3005_JPG_jpg.rf.2e582b49c812edac3b9698ef6cc6709f.xml  \n",
            "  inflating: cocoa_new/train/img_3318_JPG_jpg.rf.3cca0954db20dc8eb97fcd32feb8fb40.jpg  \n",
            "  inflating: cocoa_new/train/img_4163_JPG_jpg.rf.1ec4bac1b726304f774b001e21d47efc.jpg  \n",
            "  inflating: cocoa_new/train/img_3155_JPG_jpg.rf.b949272f996aea7e2927dde2bb9f9980.jpg  \n",
            "  inflating: cocoa_new/train/img_1197_JPG_jpg.rf.9215ec87c5e68e8db7104c52099f66c3.xml  \n",
            "  inflating: cocoa_new/train/img_1328_JPG_jpg.rf.96e8facc727ad96b23afa3eedcf113af.jpg  \n",
            "  inflating: cocoa_new/train/img_3395_JPG_jpg.rf.342bc1ef5895751e011ca21bad04be2f.jpg  \n",
            "  inflating: cocoa_new/train/img_3392_JPG_jpg.rf.03e6596cd929f94456e6ada5ab9b2a2e.jpg  \n",
            "  inflating: cocoa_new/train/img_3101_JPG_jpg.rf.bf98e6519569756a0b9429fe93d09a66.xml  \n",
            "  inflating: cocoa_new/train/img_3662_JPG_jpg.rf.4f921e4f6ef18a124301ece29c7570f9.xml  \n",
            "  inflating: cocoa_new/train/img_571_JPG_jpg.rf.603f7f254c0c620e5597077bbd270f3e.jpg  \n",
            "  inflating: cocoa_new/train/img_72_JPG_jpg.rf.9365bd485aff168dc4cbe37241dae235.xml  \n",
            "  inflating: cocoa_new/train/img_1187_JPG_jpg.rf.fd39843917c02cede73ce20937f27fc6.jpg  \n",
            "  inflating: cocoa_new/train/img_738_JPG_jpg.rf.6dff525267b73c6605ef3a89928acad4.xml  \n",
            "  inflating: cocoa_new/train/img_1625_JPG_jpg.rf.fcdbb232bc01456a72d11d9de46d75ad.jpg  \n",
            "  inflating: cocoa_new/train/img_4125_JPG_jpg.rf.40291df347234109476ef912a1ad2171.jpg  \n",
            "  inflating: cocoa_new/train/img_3842_JPG_jpg.rf.b22786850cce589ded7ba0f531c04562.jpg  \n",
            "  inflating: cocoa_new/train/img_2806_JPG_jpg.rf.ce0c243429cd7a2e7868a5d3d9d6a867.jpg  \n",
            "  inflating: cocoa_new/train/img_4164_JPG_jpg.rf.e0be2241b3630f371f7f7f61f88d3d5f.jpg  \n",
            "  inflating: cocoa_new/train/img_4096_JPG_jpg.rf.421c4ba0c302ae3b6fb4a0630e6d4d14.jpg  \n",
            "  inflating: cocoa_new/train/img_3516_JPG_jpg.rf.a046596efa259e3a4fb03204653dcf44.jpg  \n",
            "  inflating: cocoa_new/train/img_583_JPG_jpg.rf.3d0c5f7728087a1b03857a44b5717dc2.jpg  \n",
            "  inflating: cocoa_new/train/img_3879_JPG_jpg.rf.18a4732d621b47b66de7ff0ff02b460e.jpg  \n",
            "  inflating: cocoa_new/train/img_2649_JPG_jpg.rf.01bfad1b1acb9fb669f195f3bf34a089.xml  \n",
            "  inflating: cocoa_new/train/img_1774_JPG_jpg.rf.42b8b239393d2f177588b0a7b5a6acdf.xml  \n",
            "  inflating: cocoa_new/train/img_3760_JPG_jpg.rf.22e317ffbce18e11a68d887d1d6545a6.jpg  \n",
            "  inflating: cocoa_new/train/img_1970_JPG_jpg.rf.ee3fc361b43570342e83811cc041e5fd.jpg  \n",
            "  inflating: cocoa_new/train/img_3410_JPG_jpg.rf.6c1b35ae027beb0ab8171b726f06d4b4.xml  \n",
            "  inflating: cocoa_new/train/img_856_JPG_jpg.rf.b7b9e96c31460db7ca3fd07f8e1e8071.jpg  \n",
            "  inflating: cocoa_new/train/img_545_JPG_jpg.rf.9bfd90ac993e5e23d943a5e1bb638eb2.xml  \n",
            "  inflating: cocoa_new/train/img_3937_JPG_jpg.rf.0ec3c4d83bb0c0ec1a2e01a2b099701b.xml  \n",
            "  inflating: cocoa_new/train/img_2619_JPG_jpg.rf.9b0db5adc5a5f41d044f5fed155b72ef.xml  \n",
            "  inflating: cocoa_new/train/img_4024_JPG_jpg.rf.a157338a4173fb1bbf6bae406a59c6e4.xml  \n",
            "  inflating: cocoa_new/train/img_2004_JPG_jpg.rf.340459d91dad4672092a7cfce77ad2f4.xml  \n",
            "  inflating: cocoa_new/train/img_2820_JPG_jpg.rf.a0e31d19ee4809309b8be688b753cd81.xml  \n",
            "  inflating: cocoa_new/train/img_1247_JPG_jpg.rf.8ff066d2a4fd6a616a546fa048ce25f4.jpg  \n",
            "  inflating: cocoa_new/train/img_3689_JPG_jpg.rf.b2e96fae4310e15e3dc55f6b3cc65c49.xml  \n",
            "  inflating: cocoa_new/train/img_3937_JPG_jpg.rf.0ec3c4d83bb0c0ec1a2e01a2b099701b.jpg  \n",
            "  inflating: cocoa_new/train/img_545_JPG_jpg.rf.9bfd90ac993e5e23d943a5e1bb638eb2.jpg  \n",
            "  inflating: cocoa_new/train/img_3760_JPG_jpg.rf.22e317ffbce18e11a68d887d1d6545a6.xml  \n",
            "  inflating: cocoa_new/train/img_1970_JPG_jpg.rf.ee3fc361b43570342e83811cc041e5fd.xml  \n",
            "  inflating: cocoa_new/train/img_3410_JPG_jpg.rf.6c1b35ae027beb0ab8171b726f06d4b4.jpg  \n",
            "  inflating: cocoa_new/train/img_856_JPG_jpg.rf.b7b9e96c31460db7ca3fd07f8e1e8071.xml  \n",
            "  inflating: cocoa_new/train/img_4024_JPG_jpg.rf.a157338a4173fb1bbf6bae406a59c6e4.jpg  \n",
            "  inflating: cocoa_new/train/img_2004_JPG_jpg.rf.340459d91dad4672092a7cfce77ad2f4.jpg  \n",
            "  inflating: cocoa_new/train/img_2820_JPG_jpg.rf.a0e31d19ee4809309b8be688b753cd81.jpg  \n",
            "  inflating: cocoa_new/train/img_1247_JPG_jpg.rf.8ff066d2a4fd6a616a546fa048ce25f4.xml  \n",
            "  inflating: cocoa_new/train/img_3689_JPG_jpg.rf.b2e96fae4310e15e3dc55f6b3cc65c49.jpg  \n",
            "  inflating: cocoa_new/train/img_2619_JPG_jpg.rf.9b0db5adc5a5f41d044f5fed155b72ef.jpg  \n",
            "  inflating: cocoa_new/train/img_3842_JPG_jpg.rf.b22786850cce589ded7ba0f531c04562.xml  \n",
            "  inflating: cocoa_new/train/img_738_JPG_jpg.rf.6dff525267b73c6605ef3a89928acad4.jpg  \n",
            "  inflating: cocoa_new/train/img_1625_JPG_jpg.rf.fcdbb232bc01456a72d11d9de46d75ad.xml  \n",
            "  inflating: cocoa_new/train/img_4125_JPG_jpg.rf.40291df347234109476ef912a1ad2171.xml  \n",
            "  inflating: cocoa_new/train/img_3516_JPG_jpg.rf.a046596efa259e3a4fb03204653dcf44.xml  \n",
            "  inflating: cocoa_new/train/img_3879_JPG_jpg.rf.18a4732d621b47b66de7ff0ff02b460e.xml  \n",
            "  inflating: cocoa_new/train/img_583_JPG_jpg.rf.3d0c5f7728087a1b03857a44b5717dc2.xml  \n",
            "  inflating: cocoa_new/train/img_2649_JPG_jpg.rf.01bfad1b1acb9fb669f195f3bf34a089.jpg  \n",
            "  inflating: cocoa_new/train/img_1774_JPG_jpg.rf.42b8b239393d2f177588b0a7b5a6acdf.jpg  \n",
            "  inflating: cocoa_new/train/img_2806_JPG_jpg.rf.ce0c243429cd7a2e7868a5d3d9d6a867.xml  \n",
            "  inflating: cocoa_new/train/img_4164_JPG_jpg.rf.e0be2241b3630f371f7f7f61f88d3d5f.xml  \n",
            "  inflating: cocoa_new/train/img_4096_JPG_jpg.rf.421c4ba0c302ae3b6fb4a0630e6d4d14.xml  \n",
            "  inflating: cocoa_new/train/img_2920_JPG_jpg.rf.d5c5789f4f0d772890b58908b22b33f6.jpg  \n",
            "  inflating: cocoa_new/train/img_158_JPG_jpg.rf.fb1040b2f7b5ddee7b6e4bf27268d278.xml  \n",
            "  inflating: cocoa_new/train/img_4051_JPG_jpg.rf.e5ad4c5f7f9794d435885afc6883b3e9.xml  \n",
            "  inflating: cocoa_new/train/img_4073_JPG_jpg.rf.5516448733bafa9d24d116e933dfb1a3.xml  \n",
            "  inflating: cocoa_new/train/img_84_JPG_jpg.rf.95d380bb0f9dd8db3ca8b2cac29500d0.jpg  \n",
            "  inflating: cocoa_new/train/img_3237_JPG_jpg.rf.3c012d833606f8613c7bf4b24094c0b1.xml  \n",
            "  inflating: cocoa_new/train/img_254_JPG_jpg.rf.1c5cbceb09d79a38c12e39ace8cc5ecd.jpg  \n",
            "  inflating: cocoa_new/train/img_410_JPG_jpg.rf.d90a36cd91106c1386c73329851aafe3.jpg  \n",
            "  inflating: cocoa_new/train/img_381_JPG_jpg.rf.e5358b0ed4f6d90d9294dc5e12273a2e.jpg  \n",
            "  inflating: cocoa_new/train/img_3171_JPG_jpg.rf.40cb3c84685ca9f1e02f3606145b647a.jpg  \n",
            "  inflating: cocoa_new/train/img_3848_JPG_jpg.rf.39c7d7986932637ad75bea475bc4d88e.jpg  \n",
            "  inflating: cocoa_new/train/img_3033_JPG_jpg.rf.150ede25e9350f95fd45464c5eec6311.jpg  \n",
            "  inflating: cocoa_new/train/img_2414_JPG_jpg.rf.9f898e911d9a2ff9ccd7a5bc70e3c475.xml  \n",
            "  inflating: cocoa_new/train/img_453_JPG_jpg.rf.dbd058581557814a2816247d03fb64ca.jpg  \n",
            "  inflating: cocoa_new/train/img_358_JPG_jpg.rf.671c6177e30ed09d9a696d1bc37b8190.jpg  \n",
            "  inflating: cocoa_new/train/img_557_JPG_jpg.rf.619b73ec77521c2507064d50f2877ed9.jpg  \n",
            "  inflating: cocoa_new/train/img_1750_JPG_jpg.rf.53b7c819e8903cf4f0fa6424ee6065dc.xml  \n",
            "  inflating: cocoa_new/train/img_899_JPG_jpg.rf.1c2862592e71958621bf7c18d1ed520d.xml  \n",
            "  inflating: cocoa_new/train/img_1272_JPG_jpg.rf.f789c1e1c50e0cde32229bcbc3789826.jpg  \n",
            "  inflating: cocoa_new/train/img_2946_JPG_jpg.rf.c14779bdf45addccf87faa3ed60be93f.xml  \n",
            "  inflating: cocoa_new/train/img_1645_JPG_jpg.rf.03fd02066836f21ca7708b366d510a2d.jpg  \n",
            "  inflating: cocoa_new/train/img_2813_JPG_jpg.rf.d83f88fdc0382c207234d9cc05f5df6c.xml  \n",
            "  inflating: cocoa_new/train/img_3434_JPG_jpg.rf.f9a5a59e48e6dbeab638c429e2843dbf.xml  \n",
            "  inflating: cocoa_new/train/img_3957_JPG_jpg.rf.c47db84803afd0ce590e4f831c984a31.jpg  \n",
            "  inflating: cocoa_new/train/img_302_JPG_jpg.rf.51a96d9ab0fdb838d973b3828cbe3865.xml  \n",
            "  inflating: cocoa_new/train/img_2438_JPG_jpg.rf.01f63ab8889079393c404142481a8b8a.jpg  \n",
            "  inflating: cocoa_new/train/img_251_JPG_jpg.rf.8efda38c70e68247a0a664c48da610be.xml  \n",
            "  inflating: cocoa_new/train/img_557_JPG_jpg.rf.619b73ec77521c2507064d50f2877ed9.xml  \n",
            "  inflating: cocoa_new/train/img_1750_JPG_jpg.rf.53b7c819e8903cf4f0fa6424ee6065dc.jpg  \n",
            "  inflating: cocoa_new/train/img_1272_JPG_jpg.rf.f789c1e1c50e0cde32229bcbc3789826.xml  \n",
            "  inflating: cocoa_new/train/img_899_JPG_jpg.rf.1c2862592e71958621bf7c18d1ed520d.jpg  \n",
            "  inflating: cocoa_new/train/img_2946_JPG_jpg.rf.c14779bdf45addccf87faa3ed60be93f.jpg  \n",
            "  inflating: cocoa_new/train/img_1645_JPG_jpg.rf.03fd02066836f21ca7708b366d510a2d.xml  \n",
            "  inflating: cocoa_new/train/img_453_JPG_jpg.rf.dbd058581557814a2816247d03fb64ca.xml  \n",
            "  inflating: cocoa_new/train/img_358_JPG_jpg.rf.671c6177e30ed09d9a696d1bc37b8190.xml  \n",
            "  inflating: cocoa_new/train/img_3957_JPG_jpg.rf.c47db84803afd0ce590e4f831c984a31.xml  \n",
            "  inflating: cocoa_new/train/img_302_JPG_jpg.rf.51a96d9ab0fdb838d973b3828cbe3865.jpg  \n",
            "  inflating: cocoa_new/train/img_2438_JPG_jpg.rf.01f63ab8889079393c404142481a8b8a.xml  \n",
            "  inflating: cocoa_new/train/img_251_JPG_jpg.rf.8efda38c70e68247a0a664c48da610be.jpg  \n",
            "  inflating: cocoa_new/train/img_2813_JPG_jpg.rf.d83f88fdc0382c207234d9cc05f5df6c.jpg  \n",
            "  inflating: cocoa_new/train/img_3434_JPG_jpg.rf.f9a5a59e48e6dbeab638c429e2843dbf.jpg  \n",
            "  inflating: cocoa_new/train/img_254_JPG_jpg.rf.1c5cbceb09d79a38c12e39ace8cc5ecd.xml  \n",
            "  inflating: cocoa_new/train/img_3237_JPG_jpg.rf.3c012d833606f8613c7bf4b24094c0b1.jpg  \n",
            "  inflating: cocoa_new/train/img_410_JPG_jpg.rf.d90a36cd91106c1386c73329851aafe3.xml  \n",
            "  inflating: cocoa_new/train/img_2920_JPG_jpg.rf.d5c5789f4f0d772890b58908b22b33f6.xml  \n",
            "  inflating: cocoa_new/train/img_158_JPG_jpg.rf.fb1040b2f7b5ddee7b6e4bf27268d278.jpg  \n",
            "  inflating: cocoa_new/train/img_4051_JPG_jpg.rf.e5ad4c5f7f9794d435885afc6883b3e9.jpg  \n",
            "  inflating: cocoa_new/train/img_4073_JPG_jpg.rf.5516448733bafa9d24d116e933dfb1a3.jpg  \n",
            "  inflating: cocoa_new/train/img_84_JPG_jpg.rf.95d380bb0f9dd8db3ca8b2cac29500d0.xml  \n",
            "  inflating: cocoa_new/train/img_3033_JPG_jpg.rf.150ede25e9350f95fd45464c5eec6311.xml  \n",
            "  inflating: cocoa_new/train/img_2414_JPG_jpg.rf.9f898e911d9a2ff9ccd7a5bc70e3c475.jpg  \n",
            "  inflating: cocoa_new/train/img_381_JPG_jpg.rf.e5358b0ed4f6d90d9294dc5e12273a2e.xml  \n",
            "  inflating: cocoa_new/train/img_3171_JPG_jpg.rf.40cb3c84685ca9f1e02f3606145b647a.xml  \n",
            "  inflating: cocoa_new/train/img_3848_JPG_jpg.rf.39c7d7986932637ad75bea475bc4d88e.xml  \n",
            "  inflating: cocoa_new/train/img_2495_JPG_jpg.rf.9181996b7a77ec411e3e81d5df43512b.jpg  \n",
            "  inflating: cocoa_new/train/img_2353_JPG_jpg.rf.81c9fa27c43b4fff2b59ef027dc6e489.jpg  \n",
            "  inflating: cocoa_new/train/img_3175_JPG_jpg.rf.224843e81d49728eb4446d80b45a6bef.jpg  \n",
            "  inflating: cocoa_new/train/img_3348_JPG_jpg.rf.e19a276d6aea99c3ae4ae1133cfbea78.xml  \n",
            "  inflating: cocoa_new/train/img_942_JPG_jpg.rf.e67e05e35dc729b24838d33ff054d123.jpg  \n",
            "  inflating: cocoa_new/train/img_4040_JPG_jpg.rf.15e0b84ba609bc5ee4061bca0287c4cd.jpg  \n",
            "  inflating: cocoa_new/train/img_19_JPG_jpg.rf.5ded3ffb6d77f382ce23a59a664e0925.jpg  \n",
            "  inflating: cocoa_new/train/img_749_JPG_jpg.rf.8c8defa91d2bf00467ebe116317bc4f2.jpg  \n",
            "  inflating: cocoa_new/train/img_852_JPG_jpg.rf.d0aa6f8f5999cae955877b7d48038f34.xml  \n",
            "  inflating: cocoa_new/train/img_2386_JPG_jpg.rf.b43c3c6246d7849f63aae813b55669d6.xml  \n",
            "  inflating: cocoa_new/train/img_864_JPG_jpg.rf.43759f58ae58fed14a33c0b22fb9f0f5.jpg  \n",
            "  inflating: cocoa_new/train/img_2428_JPG_jpg.rf.800ce45892bbda9503709230522512b5.jpg  \n",
            "  inflating: cocoa_new/train/img_1588_JPG_jpg.rf.c2729cf63628b4376495b9d1c3fd443c.xml  \n",
            "  inflating: cocoa_new/train/img_2887_JPG_jpg.rf.37e7071010b1464013629125e9baeda5.xml  \n",
            "  inflating: cocoa_new/train/img_3777_JPG_jpg.rf.d9ea2020218734c69fc02471ae96f45f.xml  \n",
            "  inflating: cocoa_new/train/img_548_JPG_jpg.rf.35b54fd44ba83aa7c3601d3dc0c728e5.xml  \n",
            "  inflating: cocoa_new/train/img_363_JPG_jpg.rf.1a3cf3d99982e7659ce370b985e201d9.jpg  \n",
            "  inflating: cocoa_new/train/img_2622_JPG_jpg.rf.cfa02c43627b8d7b34caa287250deed8.jpg  \n",
            "  inflating: cocoa_new/train/img_931_JPG_jpg.rf.36c734461ab8b243293190c2d469b2f6.xml  \n",
            "  inflating: cocoa_new/train/img_2887_JPG_jpg.rf.37e7071010b1464013629125e9baeda5.jpg  \n",
            "  inflating: cocoa_new/train/img_3777_JPG_jpg.rf.d9ea2020218734c69fc02471ae96f45f.jpg  \n",
            "  inflating: cocoa_new/train/img_548_JPG_jpg.rf.35b54fd44ba83aa7c3601d3dc0c728e5.jpg  \n",
            "  inflating: cocoa_new/train/img_2386_JPG_jpg.rf.b43c3c6246d7849f63aae813b55669d6.jpg  \n",
            "  inflating: cocoa_new/train/img_864_JPG_jpg.rf.43759f58ae58fed14a33c0b22fb9f0f5.xml  \n",
            "  inflating: cocoa_new/train/img_2428_JPG_jpg.rf.800ce45892bbda9503709230522512b5.xml  \n",
            "  inflating: cocoa_new/train/img_1588_JPG_jpg.rf.c2729cf63628b4376495b9d1c3fd443c.jpg  \n",
            "  inflating: cocoa_new/train/img_363_JPG_jpg.rf.1a3cf3d99982e7659ce370b985e201d9.xml  \n",
            "  inflating: cocoa_new/train/img_2622_JPG_jpg.rf.cfa02c43627b8d7b34caa287250deed8.xml  \n",
            "  inflating: cocoa_new/train/img_931_JPG_jpg.rf.36c734461ab8b243293190c2d469b2f6.jpg  \n",
            "  inflating: cocoa_new/train/img_2353_JPG_jpg.rf.81c9fa27c43b4fff2b59ef027dc6e489.xml  \n",
            "  inflating: cocoa_new/train/img_3175_JPG_jpg.rf.224843e81d49728eb4446d80b45a6bef.xml  \n",
            "  inflating: cocoa_new/train/img_2495_JPG_jpg.rf.9181996b7a77ec411e3e81d5df43512b.xml  \n",
            "  inflating: cocoa_new/train/img_852_JPG_jpg.rf.d0aa6f8f5999cae955877b7d48038f34.jpg  \n",
            "  inflating: cocoa_new/train/img_3348_JPG_jpg.rf.e19a276d6aea99c3ae4ae1133cfbea78.jpg  \n",
            "  inflating: cocoa_new/train/img_942_JPG_jpg.rf.e67e05e35dc729b24838d33ff054d123.xml  \n",
            "  inflating: cocoa_new/train/img_4040_JPG_jpg.rf.15e0b84ba609bc5ee4061bca0287c4cd.xml  \n",
            "  inflating: cocoa_new/train/img_19_JPG_jpg.rf.5ded3ffb6d77f382ce23a59a664e0925.xml  \n",
            "  inflating: cocoa_new/train/img_749_JPG_jpg.rf.8c8defa91d2bf00467ebe116317bc4f2.xml  \n",
            "  inflating: cocoa_new/train/img_3714_JPG_jpg.rf.e598d357022df9fb37a631d1c366badb.xml  \n",
            "  inflating: cocoa_new/train/img_3445_JPG_jpg.rf.e642b1d4500ea69c921b22d9563fbb7f.jpg  \n",
            "  inflating: cocoa_new/train/img_3211_JPG_jpg.rf.abb376b5f987b95bd352e94d47e1c435.xml  \n",
            "  inflating: cocoa_new/train/img_3928_JPG_jpg.rf.1491a93b84f36f18a38fd31009f3816d.xml  \n",
            "  inflating: cocoa_new/train/img_570_JPG_jpg.rf.ff42733957658c6f0b81dfab114d2217.xml  \n",
            "  inflating: cocoa_new/train/img_2331_JPG_jpg.rf.af75d1d162c9004965a1b8d668f5a565.jpg  \n",
            "  inflating: cocoa_new/train/img_2341_JPG_jpg.rf.1681301e3b09882d52ded4163253666c.jpg  \n",
            "  inflating: cocoa_new/train/img_2514_JPG_jpg.rf.d8fcb78754ca37d40e345bf4bdd9c20c.jpg  \n",
            "  inflating: cocoa_new/train/img_857_JPG_jpg.rf.106ec6b82f69bba672f09acae0ef56d5.jpg  \n",
            "  inflating: cocoa_new/train/img_245_JPG_jpg.rf.0512af9f06cef15e7eab3a2d4649c805.xml  \n",
            "  inflating: cocoa_new/train/img_3430_JPG_jpg.rf.34720dc1a96c804d3fbf247b02e7719b.jpg  \n",
            "  inflating: cocoa_new/train/img_4131_JPG_jpg.rf.115f4b8d9fd049965e0b15b540c297a0.jpg  \n",
            "  inflating: cocoa_new/train/img_4087_JPG_jpg.rf.275c82822ebcc3a171eeee7d42871e19.xml  \n",
            "  inflating: cocoa_new/train/img_778_JPG_jpg.rf.4de87ede9cfe78ad98a3c6b72d82f4d3.xml  \n",
            "  inflating: cocoa_new/train/img_1392_JPG_jpg.rf.eaf9525fa5256ac7bfb3c3bba0701a8e.xml  \n",
            "  inflating: cocoa_new/train/img_1346_JPG_jpg.rf.8cc8cd11a540fc5074e7962bec1d6698.jpg  \n",
            "  inflating: cocoa_new/train/img_682_JPG_jpg.rf.e9aa1d330f77a23a2a126a493788a90d.xml  \n",
            "  inflating: cocoa_new/train/img_124_JPG_jpg.rf.b950681808ddf045d057ced16ef1acfb.jpg  \n",
            "  inflating: cocoa_new/train/img_775_JPG_jpg.rf.67d34ab63a57a721bb372d18d4dc15c1.xml  \n",
            "  inflating: cocoa_new/train/img_1589_JPG_jpg.rf.39739e7df15495def9091a1361b16ca1.jpg  \n",
            "  inflating: cocoa_new/train/img_1196_JPG_jpg.rf.caeba58ba372cfb6d3ca4245abaca90d.xml  \n",
            "  inflating: cocoa_new/train/img_636_JPG_jpg.rf.31989e8d2b26b1c2ef994ef008e196be.xml  \n",
            "  inflating: cocoa_new/train/img_2486_JPG_jpg.rf.1454df781a097fb68f84bea521c1adfc.xml  \n",
            "  inflating: cocoa_new/train/img_775_JPG_jpg.rf.67d34ab63a57a721bb372d18d4dc15c1.jpg  \n",
            "  inflating: cocoa_new/train/img_1589_JPG_jpg.rf.39739e7df15495def9091a1361b16ca1.xml  \n",
            "  inflating: cocoa_new/train/img_1346_JPG_jpg.rf.8cc8cd11a540fc5074e7962bec1d6698.xml  \n",
            "  inflating: cocoa_new/train/img_682_JPG_jpg.rf.e9aa1d330f77a23a2a126a493788a90d.jpg  \n",
            "  inflating: cocoa_new/train/img_124_JPG_jpg.rf.b950681808ddf045d057ced16ef1acfb.xml  \n",
            "  inflating: cocoa_new/train/img_636_JPG_jpg.rf.31989e8d2b26b1c2ef994ef008e196be.jpg  \n",
            "  inflating: cocoa_new/train/img_2486_JPG_jpg.rf.1454df781a097fb68f84bea521c1adfc.jpg  \n",
            "  inflating: cocoa_new/train/img_1196_JPG_jpg.rf.caeba58ba372cfb6d3ca4245abaca90d.jpg  \n",
            "  inflating: cocoa_new/train/img_570_JPG_jpg.rf.ff42733957658c6f0b81dfab114d2217.jpg  \n",
            "  inflating: cocoa_new/train/img_3714_JPG_jpg.rf.e598d357022df9fb37a631d1c366badb.jpg  \n",
            "  inflating: cocoa_new/train/img_3445_JPG_jpg.rf.e642b1d4500ea69c921b22d9563fbb7f.xml  \n",
            "  inflating: cocoa_new/train/img_3211_JPG_jpg.rf.abb376b5f987b95bd352e94d47e1c435.jpg  \n",
            "  inflating: cocoa_new/train/img_3928_JPG_jpg.rf.1491a93b84f36f18a38fd31009f3816d.jpg  \n",
            "  inflating: cocoa_new/train/img_245_JPG_jpg.rf.0512af9f06cef15e7eab3a2d4649c805.jpg  \n",
            "  inflating: cocoa_new/train/img_3430_JPG_jpg.rf.34720dc1a96c804d3fbf247b02e7719b.xml  \n",
            "  inflating: cocoa_new/train/img_4087_JPG_jpg.rf.275c82822ebcc3a171eeee7d42871e19.jpg  \n",
            "  inflating: cocoa_new/train/img_778_JPG_jpg.rf.4de87ede9cfe78ad98a3c6b72d82f4d3.jpg  \n",
            "  inflating: cocoa_new/train/img_4131_JPG_jpg.rf.115f4b8d9fd049965e0b15b540c297a0.xml  \n",
            "  inflating: cocoa_new/train/img_1392_JPG_jpg.rf.eaf9525fa5256ac7bfb3c3bba0701a8e.jpg  \n",
            "  inflating: cocoa_new/train/img_2331_JPG_jpg.rf.af75d1d162c9004965a1b8d668f5a565.xml  \n",
            "  inflating: cocoa_new/train/img_2341_JPG_jpg.rf.1681301e3b09882d52ded4163253666c.xml  \n",
            "  inflating: cocoa_new/train/img_2514_JPG_jpg.rf.d8fcb78754ca37d40e345bf4bdd9c20c.xml  \n",
            "  inflating: cocoa_new/train/img_857_JPG_jpg.rf.106ec6b82f69bba672f09acae0ef56d5.xml  \n",
            "  inflating: cocoa_new/train/img_661_JPG_jpg.rf.bf2444fadc8f5596c869abdfa8ed3c02.jpg  \n",
            "  inflating: cocoa_new/train/img_3715_JPG_jpg.rf.7af7ef43a984c0cb6e0cfcd6e31e3b52.jpg  \n",
            "  inflating: cocoa_new/train/img_2350_JPG_jpg.rf.3828a5280c5a54e138904574793163c4.jpg  \n",
            "  inflating: cocoa_new/train/img_3446_JPG_jpg.rf.d89a8d3dbda68ff8805f23c76778c91c.jpg  \n",
            "  inflating: cocoa_new/train/img_3100_JPG_jpg.rf.4289ff67880a48886b2283939a189fda.xml  \n",
            "  inflating: cocoa_new/train/img_1614_JPG_jpg.rf.a28c017b5b1259e8740450ed806ee5f7.jpg  \n",
            "  inflating: cocoa_new/train/img_680_JPG_jpg.rf.a7232346187463e025659e408b60a4cb.xml  \n",
            "  inflating: cocoa_new/train/img_3650_JPG_jpg.rf.bd5fe6c2af3ecfa5c8540e009e435479.xml  \n",
            "  inflating: cocoa_new/train/img_3955_JPG_jpg.rf.54a85ee006626982d7066936485c6744.xml  \n",
            "  inflating: cocoa_new/train/img_92_JPG_jpg.rf.2c65e1c22e97b27f0aea5e25253ed134.xml  \n",
            "  inflating: cocoa_new/train/img_2798_JPG_jpg.rf.c8180cb4d1f7fdbde202d7c076ab90b4.xml  \n",
            "  inflating: cocoa_new/train/img_3356_JPG_jpg.rf.038d1bf09987f3ad2cc8e722b4b0e4a6.xml  \n",
            "  inflating: cocoa_new/train/img_2391_JPG_jpg.rf.11673e9172ccff375259fc4518b4b452.xml  \n",
            "  inflating: cocoa_new/train/img_921_JPG_jpg.rf.d2a63bbc70a5106e88a9b5cf47d4ba76.xml  \n",
            "  inflating: cocoa_new/train/img_1442_JPG_jpg.rf.5a11ceec5533987e125af7b88da99c49.xml  \n",
            "  inflating: cocoa_new/train/img_3246_JPG_jpg.rf.cd9b77e0f1e23fe3482f66e735cb124c.jpg  \n",
            "  inflating: cocoa_new/train/img_1999_JPG_jpg.rf.fbe5127cc316c95173ebbc73c3c6db85.xml  \n",
            "  inflating: cocoa_new/train/img_476_JPG_jpg.rf.d90fe98bdbd9ba57bfe7d76eace0ccf2.jpg  \n",
            "  inflating: cocoa_new/train/img_132_JPG_jpg.rf.15699f4b2c2cc2d28173fe1267c05baf.jpg  \n",
            "  inflating: cocoa_new/train/img_2798_JPG_jpg.rf.c8180cb4d1f7fdbde202d7c076ab90b4.jpg  \n",
            "  inflating: cocoa_new/train/img_3356_JPG_jpg.rf.038d1bf09987f3ad2cc8e722b4b0e4a6.jpg  \n",
            "  inflating: cocoa_new/train/img_2391_JPG_jpg.rf.11673e9172ccff375259fc4518b4b452.jpg  \n",
            "  inflating: cocoa_new/train/img_1999_JPG_jpg.rf.fbe5127cc316c95173ebbc73c3c6db85.jpg  \n",
            "  inflating: cocoa_new/train/img_476_JPG_jpg.rf.d90fe98bdbd9ba57bfe7d76eace0ccf2.xml  \n",
            "  inflating: cocoa_new/train/img_132_JPG_jpg.rf.15699f4b2c2cc2d28173fe1267c05baf.xml  \n",
            "  inflating: cocoa_new/train/img_921_JPG_jpg.rf.d2a63bbc70a5106e88a9b5cf47d4ba76.jpg  \n",
            "  inflating: cocoa_new/train/img_1442_JPG_jpg.rf.5a11ceec5533987e125af7b88da99c49.jpg  \n",
            "  inflating: cocoa_new/train/img_3246_JPG_jpg.rf.cd9b77e0f1e23fe3482f66e735cb124c.xml  \n",
            "  inflating: cocoa_new/train/img_2350_JPG_jpg.rf.3828a5280c5a54e138904574793163c4.xml  \n",
            "  inflating: cocoa_new/train/img_3446_JPG_jpg.rf.d89a8d3dbda68ff8805f23c76778c91c.xml  \n",
            "  inflating: cocoa_new/train/img_3100_JPG_jpg.rf.4289ff67880a48886b2283939a189fda.jpg  \n",
            "  inflating: cocoa_new/train/img_1614_JPG_jpg.rf.a28c017b5b1259e8740450ed806ee5f7.xml  \n",
            "  inflating: cocoa_new/train/img_661_JPG_jpg.rf.bf2444fadc8f5596c869abdfa8ed3c02.xml  \n",
            "  inflating: cocoa_new/train/img_3715_JPG_jpg.rf.7af7ef43a984c0cb6e0cfcd6e31e3b52.xml  \n",
            "  inflating: cocoa_new/train/img_92_JPG_jpg.rf.2c65e1c22e97b27f0aea5e25253ed134.jpg  \n",
            "  inflating: cocoa_new/train/img_680_JPG_jpg.rf.a7232346187463e025659e408b60a4cb.jpg  \n",
            "  inflating: cocoa_new/train/img_3650_JPG_jpg.rf.bd5fe6c2af3ecfa5c8540e009e435479.jpg  \n",
            "  inflating: cocoa_new/train/img_3955_JPG_jpg.rf.54a85ee006626982d7066936485c6744.jpg  \n",
            "  inflating: cocoa_new/train/img_2355_JPG_jpg.rf.67d521230af8d2306c8f8de68f1718b5.xml  \n",
            "  inflating: cocoa_new/train/img_2326_JPG_jpg.rf.cecc6b57c6b30e33965e90320b3a45bf.xml  \n",
            "  inflating: cocoa_new/train/img_601_JPG_jpg.rf.194d062aafb7c641fc89754173c4c3a0.jpg  \n",
            "  inflating: cocoa_new/train/img_671_JPG_jpg.rf.84e9cf8b02376e3b4ecf8ab47bf2b4b6.xml  \n",
            "  inflating: cocoa_new/train/img_3443_JPG_jpg.rf.bfa3f493f43f8275e5d75428720f1266.jpg  \n",
            "  inflating: cocoa_new/train/img_815_JPG_jpg.rf.ae05fe8ae04c9e8a54de49da25f20fb4.xml  \n",
            "  inflating: cocoa_new/train/img_497_JPG_jpg.rf.9de2fc97badc1a393fec032a59e47c7e.jpg  \n",
            "  inflating: cocoa_new/train/img_114_JPG_jpg.rf.e75d057fd1dfe0e3968e614d601b76b6.jpg  \n",
            "  inflating: cocoa_new/train/img_146_JPG_jpg.rf.5a5e96939541d81867afab849644df88.jpg  \n",
            "  inflating: cocoa_new/train/img_68_JPG_jpg.rf.9abe062419e50f5330f42dd8654c6f2c.xml  \n",
            "  inflating: cocoa_new/train/img_1650_JPG_jpg.rf.f18c14b82ffa06aec0b2bffce33d2431.jpg  \n",
            "  inflating: cocoa_new/train/img_1364_JPG_jpg.rf.2adf0e13fb92831fe94db3249ccfb1f2.xml  \n",
            "  inflating: cocoa_new/train/img_861_JPG_jpg.rf.208c1661f6bee74a6dd0c7bc29fda387.jpg  \n",
            "  inflating: cocoa_new/train/img_2708_JPG_jpg.rf.cbc526165220fdae7fb91359e3d2ff48.jpg  \n",
            "  inflating: cocoa_new/train/img_2825_JPG_jpg.rf.ee2a21a3320e5e19f2ef2b5236187c07.jpg  \n",
            "  inflating: cocoa_new/train/img_3660_JPG_jpg.rf.5ef952e3a320b2103b4a40f3c2f3149e.xml  \n",
            "  inflating: cocoa_new/train/img_3077_JPG_jpg.rf.5f4dbcc3db2d644927550e9f100d8c47.jpg  \n",
            "  inflating: cocoa_new/train/img_2708_JPG_jpg.rf.cbc526165220fdae7fb91359e3d2ff48.xml  \n",
            "  inflating: cocoa_new/train/img_2825_JPG_jpg.rf.ee2a21a3320e5e19f2ef2b5236187c07.xml  \n",
            "  inflating: cocoa_new/train/img_3660_JPG_jpg.rf.5ef952e3a320b2103b4a40f3c2f3149e.jpg  \n",
            "  inflating: cocoa_new/train/img_3077_JPG_jpg.rf.5f4dbcc3db2d644927550e9f100d8c47.xml  \n",
            "  inflating: cocoa_new/train/img_601_JPG_jpg.rf.194d062aafb7c641fc89754173c4c3a0.xml  \n",
            "  inflating: cocoa_new/train/img_671_JPG_jpg.rf.84e9cf8b02376e3b4ecf8ab47bf2b4b6.jpg  \n",
            "  inflating: cocoa_new/train/img_815_JPG_jpg.rf.ae05fe8ae04c9e8a54de49da25f20fb4.jpg  \n",
            "  inflating: cocoa_new/train/img_3443_JPG_jpg.rf.bfa3f493f43f8275e5d75428720f1266.xml  \n",
            "  inflating: cocoa_new/train/img_497_JPG_jpg.rf.9de2fc97badc1a393fec032a59e47c7e.xml  \n",
            "  inflating: cocoa_new/train/img_2326_JPG_jpg.rf.cecc6b57c6b30e33965e90320b3a45bf.jpg  \n",
            "  inflating: cocoa_new/train/img_2355_JPG_jpg.rf.67d521230af8d2306c8f8de68f1718b5.jpg  \n",
            "  inflating: cocoa_new/train/img_1364_JPG_jpg.rf.2adf0e13fb92831fe94db3249ccfb1f2.jpg  \n",
            "  inflating: cocoa_new/train/img_861_JPG_jpg.rf.208c1661f6bee74a6dd0c7bc29fda387.xml  \n",
            "  inflating: cocoa_new/train/img_146_JPG_jpg.rf.5a5e96939541d81867afab849644df88.xml  \n",
            "  inflating: cocoa_new/train/img_114_JPG_jpg.rf.e75d057fd1dfe0e3968e614d601b76b6.xml  \n",
            "  inflating: cocoa_new/train/img_68_JPG_jpg.rf.9abe062419e50f5330f42dd8654c6f2c.jpg  \n",
            "  inflating: cocoa_new/train/img_1650_JPG_jpg.rf.f18c14b82ffa06aec0b2bffce33d2431.xml  \n",
            "  inflating: cocoa_new/train/img_3219_JPG_jpg.rf.008fb0f3524d6c6bdc68de7a16b897d6.xml  \n",
            "  inflating: cocoa_new/train/img_1428_JPG_jpg.rf.cd8fb213e4b455308c3adf374b55eca1.jpg  \n",
            "  inflating: cocoa_new/train/img_3655_JPG_jpg.rf.b1a8b7aac9406008755475248133cac7.xml  \n",
            "  inflating: cocoa_new/train/img_4007_JPG_jpg.rf.096a1af9372a7624e47d15be1549d58f.xml  \n",
            "  inflating: cocoa_new/train/img_2366_JPG_jpg.rf.ac987274d1aea49a78d33dc5c512307d.xml  \n",
            "  inflating: cocoa_new/train/img_4124_JPG_jpg.rf.17fa7e45ac7ab247e4caaa434124cd4a.xml  \n",
            "  inflating: cocoa_new/train/img_96_JPG_jpg.rf.eed30ae0859cd8f74c06e4b9ec44f033.xml  \n",
            "  inflating: cocoa_new/train/img_2456_JPG_jpg.rf.17280ec0f9cdab4db9b9e804c1bed82e.jpg  \n",
            "  inflating: cocoa_new/train/img_3946_JPG_jpg.rf.5f12afad75695b0b982a8d6804d2ec6f.xml  \n",
            "  inflating: cocoa_new/train/img_3925_JPG_jpg.rf.350a0db6d52ceead627d07ea0e2f44dd.jpg  \n",
            "  inflating: cocoa_new/train/img_3202_JPG_jpg.rf.895a344d3ae03551bc625a8f07f76dcc.xml  \n",
            "  inflating: cocoa_new/train/img_1724_JPG_jpg.rf.ea61b8d16f15aa56206a17569e4d5693.jpg  \n",
            "  inflating: cocoa_new/train/img_1976_JPG_jpg.rf.61bfa248540b0a824b52333fd8dd292f.jpg  \n",
            "  inflating: cocoa_new/train/img_340_JPG_jpg.rf.4535b79a9f16f9c20821bb5dfb9089e3.xml  \n",
            "  inflating: cocoa_new/train/img_2869_JPG_jpg.rf.eb3d4e980a0e361057fc546897619766.xml  \n",
            "  inflating: cocoa_new/train/img_1567_JPG_jpg.rf.4e65c334d91219f49e2c0f36cf142bcc.xml  \n",
            "  inflating: cocoa_new/train/img_4140_JPG_jpg.rf.8f57f6645fdeaeb7969c5ad4ba02c0db.xml  \n",
            "  inflating: cocoa_new/train/img_3946_JPG_jpg.rf.5f12afad75695b0b982a8d6804d2ec6f.jpg  \n",
            "  inflating: cocoa_new/train/img_3202_JPG_jpg.rf.895a344d3ae03551bc625a8f07f76dcc.jpg  \n",
            "  inflating: cocoa_new/train/img_3925_JPG_jpg.rf.350a0db6d52ceead627d07ea0e2f44dd.xml  \n",
            "  inflating: cocoa_new/train/img_1724_JPG_jpg.rf.ea61b8d16f15aa56206a17569e4d5693.xml  \n",
            "  inflating: cocoa_new/train/img_96_JPG_jpg.rf.eed30ae0859cd8f74c06e4b9ec44f033.jpg  \n",
            "  inflating: cocoa_new/train/img_2456_JPG_jpg.rf.17280ec0f9cdab4db9b9e804c1bed82e.xml  \n",
            "  inflating: cocoa_new/train/img_340_JPG_jpg.rf.4535b79a9f16f9c20821bb5dfb9089e3.jpg  \n",
            "  inflating: cocoa_new/train/img_1976_JPG_jpg.rf.61bfa248540b0a824b52333fd8dd292f.xml  \n",
            "  inflating: cocoa_new/train/img_2869_JPG_jpg.rf.eb3d4e980a0e361057fc546897619766.jpg  \n",
            "  inflating: cocoa_new/train/img_1567_JPG_jpg.rf.4e65c334d91219f49e2c0f36cf142bcc.jpg  \n",
            "  inflating: cocoa_new/train/img_4140_JPG_jpg.rf.8f57f6645fdeaeb7969c5ad4ba02c0db.jpg  \n",
            "  inflating: cocoa_new/train/img_2366_JPG_jpg.rf.ac987274d1aea49a78d33dc5c512307d.jpg  \n",
            "  inflating: cocoa_new/train/img_3219_JPG_jpg.rf.008fb0f3524d6c6bdc68de7a16b897d6.jpg  \n",
            "  inflating: cocoa_new/train/img_1428_JPG_jpg.rf.cd8fb213e4b455308c3adf374b55eca1.xml  \n",
            "  inflating: cocoa_new/train/img_3655_JPG_jpg.rf.b1a8b7aac9406008755475248133cac7.jpg  \n",
            "  inflating: cocoa_new/train/img_4007_JPG_jpg.rf.096a1af9372a7624e47d15be1549d58f.jpg  \n",
            "  inflating: cocoa_new/train/img_4124_JPG_jpg.rf.17fa7e45ac7ab247e4caaa434124cd4a.jpg  \n",
            "  inflating: cocoa_new/train/img_1845_JPG_jpg.rf.17454c69c8e4b099c092c0ade64c9d3a.jpg  \n",
            "  inflating: cocoa_new/train/img_3771_JPG_jpg.rf.e0b73ddb9dd734c2a3cb5b6f6baba840.jpg  \n",
            "  inflating: cocoa_new/train/img_2371_JPG_jpg.rf.5b222399ed7834f3c0240b2040a5b229.xml  \n",
            "  inflating: cocoa_new/train/img_3498_JPG_jpg.rf.b14986e2d1143b458f44d354b7ffaea4.jpg  \n",
            "  inflating: cocoa_new/train/img_1809_JPG_jpg.rf.c93cb773c6e1bead6806acab4681f791.xml  \n",
            "  inflating: cocoa_new/train/img_120_JPG_jpg.rf.1436cc33ee86ac6bafaec5654bd88f6b.xml  \n",
            "  inflating: cocoa_new/train/img_487_JPG_jpg.rf.11e8ec5622ce4a98a4bd77ff3f19d952.xml  \n",
            "  inflating: cocoa_new/train/img_3716_JPG_jpg.rf.b16d2a4b1271f7d28a092c5720d01d96.xml  \n",
            "  inflating: cocoa_new/train/img_649_JPG_jpg.rf.1562cc0d43d0b39698c92b17deb19d2c.xml  \n",
            "  inflating: cocoa_new/train/img_3612_JPG_jpg.rf.dfc5abde89f5589868537dc1cc0a05d4.xml  \n",
            "  inflating: cocoa_new/train/img_1533_JPG_jpg.rf.61483471c7ecceaae4e68c3d5a32f9d4.jpg  \n",
            "  inflating: cocoa_new/train/img_2801_JPG_jpg.rf.bd137881f71003e3133b4ab5eda37a40.xml  \n",
            "  inflating: cocoa_new/train/img_4045_JPG_jpg.rf.2038adf9a37db3f6cc6e35130a16506a.jpg  \n",
            "  inflating: cocoa_new/train/img_360_JPG_jpg.rf.31a758a91ff7cffba8ba62028acdeee5.jpg  \n",
            "  inflating: cocoa_new/train/img_3583_JPG_jpg.rf.1ff3a8e3e7cba23a6a1af18256e3eb13.xml  \n",
            "  inflating: cocoa_new/train/img_2886_JPG_jpg.rf.94887be7e8fd599e22f6b1ebfa269cdf.jpg  \n",
            "  inflating: cocoa_new/train/img_500_JPG_jpg.rf.00ccdefbc1953d074339aaa0cb707dda.jpg  \n",
            "  inflating: cocoa_new/train/img_1178_JPG_jpg.rf.a6e0febe79a8e653fe0518e24036dc75.xml  \n",
            "  inflating: cocoa_new/train/img_360_JPG_jpg.rf.31a758a91ff7cffba8ba62028acdeee5.xml  \n",
            "  inflating: cocoa_new/train/img_3583_JPG_jpg.rf.1ff3a8e3e7cba23a6a1af18256e3eb13.jpg  \n",
            "  inflating: cocoa_new/train/img_2886_JPG_jpg.rf.94887be7e8fd599e22f6b1ebfa269cdf.xml  \n",
            "  inflating: cocoa_new/train/img_4045_JPG_jpg.rf.2038adf9a37db3f6cc6e35130a16506a.xml  \n",
            "  inflating: cocoa_new/train/img_1178_JPG_jpg.rf.a6e0febe79a8e653fe0518e24036dc75.jpg  \n",
            "  inflating: cocoa_new/train/img_500_JPG_jpg.rf.00ccdefbc1953d074339aaa0cb707dda.xml  \n",
            "  inflating: cocoa_new/train/img_1809_JPG_jpg.rf.c93cb773c6e1bead6806acab4681f791.jpg  \n",
            "  inflating: cocoa_new/train/img_120_JPG_jpg.rf.1436cc33ee86ac6bafaec5654bd88f6b.jpg  \n",
            "  inflating: cocoa_new/train/img_487_JPG_jpg.rf.11e8ec5622ce4a98a4bd77ff3f19d952.jpg  \n",
            "  inflating: cocoa_new/train/img_3716_JPG_jpg.rf.b16d2a4b1271f7d28a092c5720d01d96.jpg  \n",
            "  inflating: cocoa_new/train/img_1845_JPG_jpg.rf.17454c69c8e4b099c092c0ade64c9d3a.xml  \n",
            "  inflating: cocoa_new/train/img_3771_JPG_jpg.rf.e0b73ddb9dd734c2a3cb5b6f6baba840.xml  \n",
            "  inflating: cocoa_new/train/img_2371_JPG_jpg.rf.5b222399ed7834f3c0240b2040a5b229.jpg  \n",
            "  inflating: cocoa_new/train/img_3498_JPG_jpg.rf.b14986e2d1143b458f44d354b7ffaea4.xml  \n",
            "  inflating: cocoa_new/train/img_3612_JPG_jpg.rf.dfc5abde89f5589868537dc1cc0a05d4.jpg  \n",
            "  inflating: cocoa_new/train/img_2801_JPG_jpg.rf.bd137881f71003e3133b4ab5eda37a40.jpg  \n",
            "  inflating: cocoa_new/train/img_1533_JPG_jpg.rf.61483471c7ecceaae4e68c3d5a32f9d4.xml  \n",
            "  inflating: cocoa_new/train/img_649_JPG_jpg.rf.1562cc0d43d0b39698c92b17deb19d2c.jpg  \n",
            "  inflating: cocoa_new/train/img_2390_JPG_jpg.rf.37aa6fa9114d91179e6248c8bb3154f3.xml  \n",
            "  inflating: cocoa_new/train/img_2538_JPG_jpg.rf.63926ed006d0743feaf2f473d1724308.jpg  \n",
            "  inflating: cocoa_new/train/img_450_JPG_jpg.rf.cc70d0d48c8a5ac35464979f8038369b.jpg  \n",
            "  inflating: cocoa_new/train/img_3118_JPG_jpg.rf.c1126bd99a10840cdc7b42d64eb0d162.xml  \n",
            "  inflating: cocoa_new/train/img_538_JPG_jpg.rf.58efed816d3975a686ee4fd5eb76b24e.jpg  \n",
            "  inflating: cocoa_new/train/img_3326_JPG_jpg.rf.1002abbafa3f2f3073cc383dead3f6db.xml  \n",
            "  inflating: cocoa_new/train/img_2599_JPG_jpg.rf.fb296e2e004f4d77722560da3336eacb.jpg  \n",
            "  inflating: cocoa_new/train/img_1610_JPG_jpg.rf.8c938338833136624c9a1d054a076113.jpg  \n",
            "  inflating: cocoa_new/train/img_3530_JPG_jpg.rf.933a99ae8500f656a25e4b15ef88f541.jpg  \n",
            "  inflating: cocoa_new/train/img_4072_JPG_jpg.rf.7ded1289623ebe37ed319b5cf2e26f0c.xml  \n",
            "  inflating: cocoa_new/train/img_421_JPG_jpg.rf.1da50e5ef9825ef896b775a290ed68ea.xml  \n",
            "  inflating: cocoa_new/train/img_234_JPG_jpg.rf.b06374d6e9def51f9a0070a02d17874c.jpg  \n",
            "  inflating: cocoa_new/train/img_3280_JPG_jpg.rf.bc6b5c33cf2789276d6fdad7187c6080.jpg  \n",
            "  inflating: cocoa_new/train/img_501_JPG_jpg.rf.6009f9fa0c527e68e68e6acc07eaa4e7.jpg  \n",
            "  inflating: cocoa_new/train/img_351_JPG_jpg.rf.7a7ca551495df5aeccda2b1e1350016a.jpg  \n",
            "  inflating: cocoa_new/train/img_3769_JPG_jpg.rf.15ad57277dcdedd337ca9193f2f6c2e7.jpg  \n",
            "  inflating: cocoa_new/train/img_3530_JPG_jpg.rf.933a99ae8500f656a25e4b15ef88f541.xml  \n",
            "  inflating: cocoa_new/train/img_421_JPG_jpg.rf.1da50e5ef9825ef896b775a290ed68ea.jpg  \n",
            "  inflating: cocoa_new/train/img_234_JPG_jpg.rf.b06374d6e9def51f9a0070a02d17874c.xml  \n",
            "  inflating: cocoa_new/train/img_4072_JPG_jpg.rf.7ded1289623ebe37ed319b5cf2e26f0c.jpg  \n",
            "  inflating: cocoa_new/train/img_3769_JPG_jpg.rf.15ad57277dcdedd337ca9193f2f6c2e7.xml  \n",
            "  inflating: cocoa_new/train/img_3280_JPG_jpg.rf.bc6b5c33cf2789276d6fdad7187c6080.xml  \n",
            "  inflating: cocoa_new/train/img_501_JPG_jpg.rf.6009f9fa0c527e68e68e6acc07eaa4e7.xml  \n",
            "  inflating: cocoa_new/train/img_351_JPG_jpg.rf.7a7ca551495df5aeccda2b1e1350016a.xml  \n",
            "  inflating: cocoa_new/train/img_3118_JPG_jpg.rf.c1126bd99a10840cdc7b42d64eb0d162.jpg  \n",
            "  inflating: cocoa_new/train/img_538_JPG_jpg.rf.58efed816d3975a686ee4fd5eb76b24e.xml  \n",
            "  inflating: cocoa_new/train/img_3326_JPG_jpg.rf.1002abbafa3f2f3073cc383dead3f6db.jpg  \n",
            "  inflating: cocoa_new/train/img_2599_JPG_jpg.rf.fb296e2e004f4d77722560da3336eacb.xml  \n",
            "  inflating: cocoa_new/train/img_2390_JPG_jpg.rf.37aa6fa9114d91179e6248c8bb3154f3.jpg  \n",
            "  inflating: cocoa_new/train/img_2538_JPG_jpg.rf.63926ed006d0743feaf2f473d1724308.xml  \n",
            "  inflating: cocoa_new/train/img_450_JPG_jpg.rf.cc70d0d48c8a5ac35464979f8038369b.xml  \n",
            "  inflating: cocoa_new/train/img_1610_JPG_jpg.rf.8c938338833136624c9a1d054a076113.xml  \n",
            "  inflating: cocoa_new/train/img_2432_JPG_jpg.rf.84843bd8024c154eddca53c7af4fd809.xml  \n",
            "  inflating: cocoa_new/train/img_925_JPG_jpg.rf.2134417be780e0cf792533279c58a3fe.jpg  \n",
            "  inflating: cocoa_new/train/img_876_JPG_jpg.rf.fa7e0c495c02b242eda675c23e66ad71.xml  \n",
            "  inflating: cocoa_new/train/img_933_JPG_jpg.rf.37d28e44006102f2c33369c5cf58dd3a.xml  \n",
            "  inflating: cocoa_new/train/img_1343_JPG_jpg.rf.c2e85607e23cc229e0679abc8993040b.xml  \n",
            "  inflating: cocoa_new/train/img_1397_JPG_jpg.rf.23494b9fb678c4ee2cac76600abb137a.jpg  \n",
            "  inflating: cocoa_new/train/img_2505_JPG_jpg.rf.3e7afc29bfa9abad852025ff72216d03.jpg  \n",
            "  inflating: cocoa_new/train/img_2633_JPG_jpg.rf.71e92e6034c2d28f25a1093dc8952f30.jpg  \n",
            "  inflating: cocoa_new/train/img_3334_JPG_jpg.rf.0a9b60e05e24dcdd12556822709cf934.jpg  \n",
            "  inflating: cocoa_new/train/img_668_JPG_jpg.rf.6e9acbcb6a9616bac2ca04557d1d8a0c.jpg  \n",
            "  inflating: cocoa_new/train/img_854_JPG_jpg.rf.f71d1d8e225434d60a07a097468f4e89.xml  \n",
            "  inflating: cocoa_new/train/img_735_JPG_jpg.rf.3550cbd875191d427f5162571f8bbb89.xml  \n",
            "  inflating: cocoa_new/train/img_2317_JPG_jpg.rf.e43c2f5cf2383e16926589956a3337bd.xml  \n",
            "  inflating: cocoa_new/train/img_755_JPG_jpg.rf.7d494eef94eb0ad3ddbde60d6115caef.jpg  \n",
            "  inflating: cocoa_new/train/img_1882_JPG_jpg.rf.650b9319ab9c236fb05288d6bf19da64.jpg  \n",
            "  inflating: cocoa_new/train/img_2367_JPG_jpg.rf.3c32e731728842ff9c88832b04e5e2be.xml  \n",
            "  inflating: cocoa_new/train/img_4128_JPG_jpg.rf.67fdf1934570ec04056633fbb6c55607.xml  \n",
            "  inflating: cocoa_new/train/img_2562_JPG_jpg.rf.8d081e3b66d6471f6308c5a7ed5d73b7.jpg  \n",
            "  inflating: cocoa_new/train/img_4031_JPG_jpg.rf.322dd8db4885935cdbf442b8f2ec48f4.xml  \n",
            "  inflating: cocoa_new/train/img_3334_JPG_jpg.rf.0a9b60e05e24dcdd12556822709cf934.xml  \n",
            "  inflating: cocoa_new/train/img_668_JPG_jpg.rf.6e9acbcb6a9616bac2ca04557d1d8a0c.xml  \n",
            "  inflating: cocoa_new/train/img_854_JPG_jpg.rf.f71d1d8e225434d60a07a097468f4e89.jpg  \n",
            "  inflating: cocoa_new/train/img_2633_JPG_jpg.rf.71e92e6034c2d28f25a1093dc8952f30.xml  \n",
            "  inflating: cocoa_new/train/img_2367_JPG_jpg.rf.3c32e731728842ff9c88832b04e5e2be.jpg  \n",
            "  inflating: cocoa_new/train/img_4128_JPG_jpg.rf.67fdf1934570ec04056633fbb6c55607.jpg  \n",
            "  inflating: cocoa_new/train/img_2562_JPG_jpg.rf.8d081e3b66d6471f6308c5a7ed5d73b7.xml  \n",
            "  inflating: cocoa_new/train/img_4031_JPG_jpg.rf.322dd8db4885935cdbf442b8f2ec48f4.jpg  \n",
            "  inflating: cocoa_new/train/img_735_JPG_jpg.rf.3550cbd875191d427f5162571f8bbb89.jpg  \n",
            "  inflating: cocoa_new/train/img_755_JPG_jpg.rf.7d494eef94eb0ad3ddbde60d6115caef.xml  \n",
            "  inflating: cocoa_new/train/img_2317_JPG_jpg.rf.e43c2f5cf2383e16926589956a3337bd.jpg  \n",
            "  inflating: cocoa_new/train/img_1882_JPG_jpg.rf.650b9319ab9c236fb05288d6bf19da64.xml  \n",
            "  inflating: cocoa_new/train/img_2432_JPG_jpg.rf.84843bd8024c154eddca53c7af4fd809.jpg  \n",
            "  inflating: cocoa_new/train/img_925_JPG_jpg.rf.2134417be780e0cf792533279c58a3fe.xml  \n",
            "  inflating: cocoa_new/train/img_1343_JPG_jpg.rf.c2e85607e23cc229e0679abc8993040b.jpg  \n",
            "  inflating: cocoa_new/train/img_1397_JPG_jpg.rf.23494b9fb678c4ee2cac76600abb137a.xml  \n",
            "  inflating: cocoa_new/train/img_2505_JPG_jpg.rf.3e7afc29bfa9abad852025ff72216d03.xml  \n",
            "  inflating: cocoa_new/train/img_876_JPG_jpg.rf.fa7e0c495c02b242eda675c23e66ad71.jpg  \n",
            "  inflating: cocoa_new/train/img_933_JPG_jpg.rf.37d28e44006102f2c33369c5cf58dd3a.jpg  \n",
            "  inflating: cocoa_new/train/img_2723_JPG_jpg.rf.7d8b69528981bcba6b28a8d1031c8d31.xml  \n",
            "  inflating: cocoa_new/train/img_4057_JPG_jpg.rf.80de8612f7a32770c6a60f4874a49d4f.jpg  \n",
            "  inflating: cocoa_new/train/img_3582_JPG_jpg.rf.9648edb52bc9934b2bc7ff6556e657ff.jpg  \n",
            "  inflating: cocoa_new/train/img_2037_JPG_jpg.rf.3564e9084795dcc366a486730de3f87b.xml  \n",
            "  inflating: cocoa_new/train/img_2635_JPG_jpg.rf.1084b23e27c723f8577156dbb81d86be.jpg  \n",
            "  inflating: cocoa_new/train/img_3838_JPG_jpg.rf.bb5cbe680c5522063bec955d10e11ae4.jpg  \n",
            "  inflating: cocoa_new/train/img_481_JPG_jpg.rf.ea323db5f39b5b7cfacf2f9408b62c7c.jpg  \n",
            "  inflating: cocoa_new/train/img_1889_JPG_jpg.rf.9a0eb178d8180847caaff99e4f4bb8b0.jpg  \n",
            "  inflating: cocoa_new/train/img_2963_JPG_jpg.rf.10d660f2509204657da4365d66e638b2.jpg  \n",
            "  inflating: cocoa_new/train/img_2464_JPG_jpg.rf.bdbf448f18fac83e92bd7f785c32947a.jpg  \n",
            "  inflating: cocoa_new/train/img_2529_JPG_jpg.rf.df25380b82bf22a5556bcf3c60dfacd9.xml  \n",
            "  inflating: cocoa_new/train/img_769_JPG_jpg.rf.4b10ee2b8d9d8fc6e7079545785596e9.xml  \n",
            "  inflating: cocoa_new/train/img_1847_JPG_jpg.rf.bb80f419bb37687ab6725d0caac1b93e.jpg  \n",
            "  inflating: cocoa_new/train/img_3330_JPG_jpg.rf.1882b83dba3adb0d53cd7cfd614a7335.jpg  \n",
            "  inflating: cocoa_new/train/img_348_JPG_jpg.rf.1ba559806e6febab9264cb986d9d4363.jpg  \n",
            "  inflating: cocoa_new/train/img_3039_JPG_jpg.rf.40fddad29c7965fd0c556a90d05e9cb3.xml  \n",
            "  inflating: cocoa_new/train/img_903_JPG_jpg.rf.eaa1b5d23ac0cdb72d342c508047109d.xml  \n",
            "  inflating: cocoa_new/train/img_2464_JPG_jpg.rf.bdbf448f18fac83e92bd7f785c32947a.xml  \n",
            "  inflating: cocoa_new/train/img_2529_JPG_jpg.rf.df25380b82bf22a5556bcf3c60dfacd9.jpg  \n",
            "  inflating: cocoa_new/train/img_769_JPG_jpg.rf.4b10ee2b8d9d8fc6e7079545785596e9.jpg  \n",
            "  inflating: cocoa_new/train/img_1889_JPG_jpg.rf.9a0eb178d8180847caaff99e4f4bb8b0.xml  \n",
            "  inflating: cocoa_new/train/img_2963_JPG_jpg.rf.10d660f2509204657da4365d66e638b2.xml  \n",
            "  inflating: cocoa_new/train/img_3039_JPG_jpg.rf.40fddad29c7965fd0c556a90d05e9cb3.jpg  \n",
            "  inflating: cocoa_new/train/img_903_JPG_jpg.rf.eaa1b5d23ac0cdb72d342c508047109d.jpg  \n",
            "  inflating: cocoa_new/train/img_1847_JPG_jpg.rf.bb80f419bb37687ab6725d0caac1b93e.xml  \n",
            "  inflating: cocoa_new/train/img_3330_JPG_jpg.rf.1882b83dba3adb0d53cd7cfd614a7335.xml  \n",
            "  inflating: cocoa_new/train/img_348_JPG_jpg.rf.1ba559806e6febab9264cb986d9d4363.xml  \n",
            "  inflating: cocoa_new/train/img_3582_JPG_jpg.rf.9648edb52bc9934b2bc7ff6556e657ff.xml  \n",
            "  inflating: cocoa_new/train/img_4057_JPG_jpg.rf.80de8612f7a32770c6a60f4874a49d4f.xml  \n",
            "  inflating: cocoa_new/train/img_2037_JPG_jpg.rf.3564e9084795dcc366a486730de3f87b.jpg  \n",
            "  inflating: cocoa_new/train/img_2635_JPG_jpg.rf.1084b23e27c723f8577156dbb81d86be.xml  \n",
            "  inflating: cocoa_new/train/img_2723_JPG_jpg.rf.7d8b69528981bcba6b28a8d1031c8d31.jpg  \n",
            "  inflating: cocoa_new/train/img_3838_JPG_jpg.rf.bb5cbe680c5522063bec955d10e11ae4.xml  \n",
            "  inflating: cocoa_new/train/img_481_JPG_jpg.rf.ea323db5f39b5b7cfacf2f9408b62c7c.xml  \n",
            "  inflating: cocoa_new/train/img_75_JPG_jpg.rf.aa65285c7828a20adbf48013b183fee8.xml  \n",
            "  inflating: cocoa_new/train/img_441_JPG_jpg.rf.18a397e788b715b27cd333753f4efc24.xml  \n",
            "  inflating: cocoa_new/train/img_3886_JPG_jpg.rf.c783c00dd11501b5fc24100ad9c0c213.jpg  \n",
            "  inflating: cocoa_new/train/img_805_JPG_jpg.rf.90c29b1a7cdd3cd1be15ec94df19c377.xml  \n",
            "  inflating: cocoa_new/train/img_2314_JPG_jpg.rf.fdb0ea0a62f63ce6a7e13dadaa25afb1.xml  \n",
            "  inflating: cocoa_new/train/img_4100_JPG_jpg.rf.ba7af402f6d6f36f9d88ba4cf8ccae6d.xml  \n",
            "  inflating: cocoa_new/train/img_2372_JPG_jpg.rf.7b451992a5a52f0d3621978aec27f499.xml  \n",
            "  inflating: cocoa_new/train/img_3793_JPG_jpg.rf.d30df687f7336a436fd1a455afe70be5.xml  \n",
            "  inflating: cocoa_new/train/img_3378_JPG_jpg.rf.0d3053751de62626da11d131e37b2dfd.jpg  \n",
            "  inflating: cocoa_new/train/img_791_JPG_jpg.rf.c20485eb6c55b0dac9f835a65383e7fa.xml  \n",
            "  inflating: cocoa_new/train/img_3876_JPG_jpg.rf.24cb0881927118d5863b789e5a02b4c8.xml  \n",
            "  inflating: cocoa_new/train/img_127_JPG_jpg.rf.670a8c2674e8d95c69f98089e86474f9.jpg  \n",
            "  inflating: cocoa_new/train/img_1723_JPG_jpg.rf.d37c42711132ace896294f50a5c04700.jpg  \n",
            "  inflating: cocoa_new/train/img_1268_JPG_jpg.rf.9fd814ad95993f37b3f9ccc4e1cef98a.xml  \n",
            "  inflating: cocoa_new/train/img_3339_JPG_jpg.rf.08b4f1861ed5086236f7b94274cd2fb8.jpg  \n",
            "  inflating: cocoa_new/train/img_691_JPG_jpg.rf.a8ac72d78a6b4988df61f9c3d96874fc.jpg  \n",
            "  inflating: cocoa_new/train/img_3249_JPG_jpg.rf.d8bbc72b6c3b0717aa8969d126e9c494.xml  \n",
            "  inflating: cocoa_new/train/img_3907_JPG_jpg.rf.8de5df9a0ca231858d208c4f4829cb80.jpg  \n",
            "  inflating: cocoa_new/train/img_3416_JPG_jpg.rf.14955396864609afba60209e7a59d8c0.jpg  \n",
            "  inflating: cocoa_new/train/img_428_JPG_jpg.rf.cf0a04c9e241ecf8d420a918234bc5cb.xml  \n",
            "  inflating: cocoa_new/train/img_3907_JPG_jpg.rf.8de5df9a0ca231858d208c4f4829cb80.xml  \n",
            "  inflating: cocoa_new/train/img_3378_JPG_jpg.rf.0d3053751de62626da11d131e37b2dfd.xml  \n",
            "  inflating: cocoa_new/train/img_3876_JPG_jpg.rf.24cb0881927118d5863b789e5a02b4c8.jpg  \n",
            "  inflating: cocoa_new/train/img_791_JPG_jpg.rf.c20485eb6c55b0dac9f835a65383e7fa.jpg  \n",
            "  inflating: cocoa_new/train/img_1268_JPG_jpg.rf.9fd814ad95993f37b3f9ccc4e1cef98a.jpg  \n",
            "  inflating: cocoa_new/train/img_127_JPG_jpg.rf.670a8c2674e8d95c69f98089e86474f9.xml  \n",
            "  inflating: cocoa_new/train/img_1723_JPG_jpg.rf.d37c42711132ace896294f50a5c04700.xml  \n",
            "  inflating: cocoa_new/train/img_3339_JPG_jpg.rf.08b4f1861ed5086236f7b94274cd2fb8.xml  \n",
            "  inflating: cocoa_new/train/img_691_JPG_jpg.rf.a8ac72d78a6b4988df61f9c3d96874fc.xml  \n",
            "  inflating: cocoa_new/train/img_3249_JPG_jpg.rf.d8bbc72b6c3b0717aa8969d126e9c494.jpg  \n",
            "  inflating: cocoa_new/train/img_3416_JPG_jpg.rf.14955396864609afba60209e7a59d8c0.xml  \n",
            "  inflating: cocoa_new/train/img_428_JPG_jpg.rf.cf0a04c9e241ecf8d420a918234bc5cb.jpg  \n",
            "  inflating: cocoa_new/train/img_805_JPG_jpg.rf.90c29b1a7cdd3cd1be15ec94df19c377.jpg  \n",
            "  inflating: cocoa_new/train/img_2314_JPG_jpg.rf.fdb0ea0a62f63ce6a7e13dadaa25afb1.jpg  \n",
            "  inflating: cocoa_new/train/img_75_JPG_jpg.rf.aa65285c7828a20adbf48013b183fee8.jpg  \n",
            "  inflating: cocoa_new/train/img_441_JPG_jpg.rf.18a397e788b715b27cd333753f4efc24.jpg  \n",
            "  inflating: cocoa_new/train/img_3886_JPG_jpg.rf.c783c00dd11501b5fc24100ad9c0c213.xml  \n",
            "  inflating: cocoa_new/train/img_4100_JPG_jpg.rf.ba7af402f6d6f36f9d88ba4cf8ccae6d.jpg  \n",
            "  inflating: cocoa_new/train/img_2372_JPG_jpg.rf.7b451992a5a52f0d3621978aec27f499.jpg  \n",
            "  inflating: cocoa_new/train/img_3793_JPG_jpg.rf.d30df687f7336a436fd1a455afe70be5.jpg  \n",
            "  inflating: cocoa_new/train/img_4065_JPG_jpg.rf.418b0bdc7b93ea36e25d1ed73e646d17.jpg  \n",
            "  inflating: cocoa_new/train/img_1086_JPG_jpg.rf.38f1b3100c72ae922e182465d55c64ed.xml  \n",
            "  inflating: cocoa_new/train/img_855_JPG_jpg.rf.8f77987258e5037e75d2a3285a25579b.xml  \n",
            "  inflating: cocoa_new/train/img_578_JPG_jpg.rf.19bf0dffb957032a6a0dede6f1b4f4a2.jpg  \n",
            "  inflating: cocoa_new/train/img_818_JPG_jpg.rf.1e92006b2e91079f4731bd62c7bdba6d.xml  \n",
            "  inflating: cocoa_new/train/img_1297_JPG_jpg.rf.6a290b43ae8be1650254a1aaf2633ecb.jpg  \n",
            "  inflating: cocoa_new/train/img_2796_JPG_jpg.rf.4d0db9f4deecea485c18f52a81c87b39.xml  \n",
            "  inflating: cocoa_new/train/img_219_JPG_jpg.rf.62715e403b9b29b4f698d5dc06b0933e.jpg  \n",
            "  inflating: cocoa_new/train/img_1787_JPG_jpg.rf.90a65df4b629fafd265fc34a9ff10d16.xml  \n",
            "  inflating: cocoa_new/train/img_3081_JPG_jpg.rf.1da630051bfa6d36d777a098dc1348aa.xml  \n",
            "  inflating: cocoa_new/train/img_1253_JPG_jpg.rf.c95cbbcd4c146df6635a0eb75a86ce93.xml  \n",
            "  inflating: cocoa_new/train/img_594_JPG_jpg.rf.5e9212b7f8a7369a7788f712a6ebaa62.xml  \n",
            "  inflating: cocoa_new/train/img_818_JPG_jpg.rf.1e92006b2e91079f4731bd62c7bdba6d.jpg  \n",
            "  inflating: cocoa_new/train/img_594_JPG_jpg.rf.5e9212b7f8a7369a7788f712a6ebaa62.jpg  \n",
            "  inflating: cocoa_new/train/img_1297_JPG_jpg.rf.6a290b43ae8be1650254a1aaf2633ecb.xml  \n",
            "  inflating: cocoa_new/train/img_2796_JPG_jpg.rf.4d0db9f4deecea485c18f52a81c87b39.jpg  \n",
            "  inflating: cocoa_new/train/img_219_JPG_jpg.rf.62715e403b9b29b4f698d5dc06b0933e.xml  \n",
            "  inflating: cocoa_new/train/img_1787_JPG_jpg.rf.90a65df4b629fafd265fc34a9ff10d16.jpg  \n",
            "  inflating: cocoa_new/train/img_3081_JPG_jpg.rf.1da630051bfa6d36d777a098dc1348aa.jpg  \n",
            "  inflating: cocoa_new/train/img_1253_JPG_jpg.rf.c95cbbcd4c146df6635a0eb75a86ce93.jpg  \n",
            "  inflating: cocoa_new/train/img_4065_JPG_jpg.rf.418b0bdc7b93ea36e25d1ed73e646d17.xml  \n",
            "  inflating: cocoa_new/train/img_1086_JPG_jpg.rf.38f1b3100c72ae922e182465d55c64ed.jpg  \n",
            "  inflating: cocoa_new/train/img_578_JPG_jpg.rf.19bf0dffb957032a6a0dede6f1b4f4a2.xml  \n",
            "  inflating: cocoa_new/train/img_855_JPG_jpg.rf.8f77987258e5037e75d2a3285a25579b.jpg  \n",
            "  inflating: cocoa_new/train/img_1248_JPG_jpg.rf.11e9ac7c642117b44c1733ad749de85f.jpg  \n",
            "  inflating: cocoa_new/train/img_720_JPG_jpg.rf.d080c917526138be68d2fc41841f38fc.jpg  \n",
            "  inflating: cocoa_new/train/img_256_JPG_jpg.rf.696dfb784b1b7acf73e8a1ffcf802059.xml  \n",
            "  inflating: cocoa_new/train/img_1342_JPG_jpg.rf.760e465f9557d473b7e7e725509cd37c.xml  \n",
            "  inflating: cocoa_new/train/img_3517_JPG_jpg.rf.0b47d1bc2cf1924a19ac1f1ccc16022e.xml  \n",
            "  inflating: cocoa_new/train/img_3953_JPG_jpg.rf.a3e8d893cb1fcfea312cb337a4514790.jpg  \n",
            "  inflating: cocoa_new/train/img_3649_JPG_jpg.rf.d3bbbdd591c4bb342cf9990e9ff3390f.jpg  \n",
            "  inflating: cocoa_new/train/img_3359_JPG_jpg.rf.e5c0c854c9fd5531047f4aea0b65805a.jpg  \n",
            "  inflating: cocoa_new/train/img_1218_JPG_jpg.rf.0d72004b579f63a0343a8978bac3079d.jpg  \n",
            "  inflating: cocoa_new/train/img_2329_JPG_jpg.rf.6e9c07fbec8a26c7cbc6810dc2bab96e.jpg  \n",
            "  inflating: cocoa_new/train/img_4000_JPG_jpg.rf.ac77f917b6421ea2ca3744c24eb149e3.xml  \n",
            "  inflating: cocoa_new/train/img_1782_JPG_jpg.rf.a61c11a4bab4e6e60457ebf5d3720101.jpg  \n",
            "  inflating: cocoa_new/train/img_1581_JPG_jpg.rf.6ce6c3b5712263d55878c0ff7fc24d51.xml  \n",
            "  inflating: cocoa_new/train/img_339_JPG_jpg.rf.005b779187255f900cf83f26da4f2908.xml  \n",
            "  inflating: cocoa_new/train/img_1183_JPG_jpg.rf.c0274b54c4f196228de38cf4829d5262.jpg  \n",
            "  inflating: cocoa_new/train/img_524_JPG_jpg.rf.dff7bb712a065a8698f0e92cac228cd2.jpg  \n",
            "  inflating: cocoa_new/train/img_446_JPG_jpg.rf.dea9fb3e5df229b859eb536e05a8b1c7.xml  \n",
            "  inflating: cocoa_new/train/img_2395_JPG_jpg.rf.581eae67e0dae81c614f27cbd4de405c.xml  \n",
            "  inflating: cocoa_new/train/img_36_JPG_jpg.rf.ce1873755adaabdeb2fc29b3bc93b3c8.jpg  \n",
            "  inflating: cocoa_new/train/img_2405_JPG_jpg.rf.a0092c988bf6046420466277f6ad39d0.jpg  \n",
            "  inflating: cocoa_new/train/img_634_JPG_jpg.rf.a933c0e6be2a18d01a87d52146c5c6e4.xml  \n",
            "  inflating: cocoa_new/train/img_2313_JPG_jpg.rf.aa5192a995fff838a754707c1a0f9c28.jpg  \n",
            "  inflating: cocoa_new/train/img_3649_JPG_jpg.rf.d3bbbdd591c4bb342cf9990e9ff3390f.xml  \n",
            "  inflating: cocoa_new/train/img_3359_JPG_jpg.rf.e5c0c854c9fd5531047f4aea0b65805a.xml  \n",
            "  inflating: cocoa_new/train/img_1218_JPG_jpg.rf.0d72004b579f63a0343a8978bac3079d.xml  \n",
            "  inflating: cocoa_new/train/img_2329_JPG_jpg.rf.6e9c07fbec8a26c7cbc6810dc2bab96e.xml  \n",
            "  inflating: cocoa_new/train/img_2395_JPG_jpg.rf.581eae67e0dae81c614f27cbd4de405c.jpg  \n",
            "  inflating: cocoa_new/train/img_2405_JPG_jpg.rf.a0092c988bf6046420466277f6ad39d0.xml  \n",
            "  inflating: cocoa_new/train/img_36_JPG_jpg.rf.ce1873755adaabdeb2fc29b3bc93b3c8.xml  \n",
            "  inflating: cocoa_new/train/img_634_JPG_jpg.rf.a933c0e6be2a18d01a87d52146c5c6e4.jpg  \n",
            "  inflating: cocoa_new/train/img_2313_JPG_jpg.rf.aa5192a995fff838a754707c1a0f9c28.xml  \n",
            "  inflating: cocoa_new/train/img_4000_JPG_jpg.rf.ac77f917b6421ea2ca3744c24eb149e3.jpg  \n",
            "  inflating: cocoa_new/train/img_1782_JPG_jpg.rf.a61c11a4bab4e6e60457ebf5d3720101.xml  \n",
            "  inflating: cocoa_new/train/img_1581_JPG_jpg.rf.6ce6c3b5712263d55878c0ff7fc24d51.jpg  \n",
            "  inflating: cocoa_new/train/img_339_JPG_jpg.rf.005b779187255f900cf83f26da4f2908.jpg  \n",
            "  inflating: cocoa_new/train/img_1183_JPG_jpg.rf.c0274b54c4f196228de38cf4829d5262.xml  \n",
            "  inflating: cocoa_new/train/img_524_JPG_jpg.rf.dff7bb712a065a8698f0e92cac228cd2.xml  \n",
            "  inflating: cocoa_new/train/img_446_JPG_jpg.rf.dea9fb3e5df229b859eb536e05a8b1c7.jpg  \n",
            "  inflating: cocoa_new/train/img_256_JPG_jpg.rf.696dfb784b1b7acf73e8a1ffcf802059.jpg  \n",
            "  inflating: cocoa_new/train/img_1342_JPG_jpg.rf.760e465f9557d473b7e7e725509cd37c.jpg  \n",
            "  inflating: cocoa_new/train/img_1248_JPG_jpg.rf.11e9ac7c642117b44c1733ad749de85f.xml  \n",
            "  inflating: cocoa_new/train/img_720_JPG_jpg.rf.d080c917526138be68d2fc41841f38fc.xml  \n",
            "  inflating: cocoa_new/train/img_3517_JPG_jpg.rf.0b47d1bc2cf1924a19ac1f1ccc16022e.jpg  \n",
            "  inflating: cocoa_new/train/img_3953_JPG_jpg.rf.a3e8d893cb1fcfea312cb337a4514790.xml  \n",
            "  inflating: cocoa_new/train/img_3222_JPG_jpg.rf.505485e778ab0743ce300c1329b3439b.jpg  \n",
            "  inflating: cocoa_new/train/img_1214_JPG_jpg.rf.e1a5110799b8421dea42936c921e415d.jpg  \n",
            "  inflating: cocoa_new/train/img_3774_JPG_jpg.rf.0ee5722738645f221cb2ed40c33e41ee.jpg  \n",
            "  inflating: cocoa_new/train/img_211_JPG_jpg.rf.2e30059f76f86625704842c43d8f0e1b.xml  \n",
            "  inflating: cocoa_new/train/img_1985_JPG_jpg.rf.27a0ca8838d95b3cb4b951894f3c0db0.xml  \n",
            "  inflating: cocoa_new/train/img_2044_JPG_jpg.rf.207bbc581335da6758d85c4b0baef273.xml  \n",
            "  inflating: cocoa_new/train/img_3574_JPG_jpg.rf.7319393af27399893e22d5768af441bd.jpg  \n",
            "  inflating: cocoa_new/train/img_3311_JPG_jpg.rf.cf9a8cfbb53001807a5e3af4f02e483e.xml  \n",
            "  inflating: cocoa_new/train/img_550_JPG_jpg.rf.943ffba155db4eddf490d8f2c063876f.jpg  \n",
            "  inflating: cocoa_new/train/img_2927_JPG_jpg.rf.cb652542842925508b6f21921cebb801.jpg  \n",
            "  inflating: cocoa_new/train/img_3932_JPG_jpg.rf.992d24e56c2dea66b7b45ede97a49dd7.jpg  \n",
            "  inflating: cocoa_new/train/img_2508_JPG_jpg.rf.ea9dbe58e90b445dca08d2e1fc4f3f06.xml  \n",
            "  inflating: cocoa_new/train/img_3961_JPG_jpg.rf.56fd673d8878b96aa43175cf6871cceb.xml  \n",
            "  inflating: cocoa_new/train/img_2361_JPG_jpg.rf.c4753aa10c7a587035ad0a4fa57012c4.xml  \n",
            "  inflating: cocoa_new/train/img_3756_JPG_jpg.rf.d702a186d8f9adc39dd0c99000e80dac.jpg  \n",
            "  inflating: cocoa_new/train/img_3796_JPG_jpg.rf.018277f342e0122c6035cf7b229ca37a.jpg  \n",
            "  inflating: cocoa_new/train/img_1535_JPG_jpg.rf.90d7d87388b3f9708a1bb61afc4a572f.jpg  \n",
            "  inflating: cocoa_new/train/img_59_JPG_jpg.rf.c7be86b1321a3001ded615533e5da477.jpg  \n",
            "  inflating: cocoa_new/train/img_4037_JPG_jpg.rf.4c457aab42af7fd4c5b93ee154530318.xml  \n",
            "  inflating: cocoa_new/train/img_4047_JPG_jpg.rf.7b8bb97e6c50f3eb89ea771288ee88ac.jpg  \n",
            "  inflating: cocoa_new/train/img_3795_JPG_jpg.rf.41da1ae5d72270ccb234eb77fd764bd9.xml  \n",
            "  inflating: cocoa_new/train/img_1181_JPG_jpg.rf.e0157945e1ac7bf8ac4208292900f8af.xml  \n",
            "  inflating: cocoa_new/train/img_520_JPG_jpg.rf.d8e18669bf967d63842e437be47aa5ab.jpg  \n",
            "  inflating: cocoa_new/train/img_4139_JPG_jpg.rf.759cf49c1012eb6b107c9201dc85fe4c.xml  \n",
            "  inflating: cocoa_new/train/img_2356_JPG_jpg.rf.a33a3900b0136618c42a417b727e5c8c.xml  \n",
            "  inflating: cocoa_new/train/img_3796_JPG_jpg.rf.018277f342e0122c6035cf7b229ca37a.xml  \n",
            "  inflating: cocoa_new/train/img_1535_JPG_jpg.rf.90d7d87388b3f9708a1bb61afc4a572f.xml  \n",
            "  inflating: cocoa_new/train/img_59_JPG_jpg.rf.c7be86b1321a3001ded615533e5da477.xml  \n",
            "  inflating: cocoa_new/train/img_4037_JPG_jpg.rf.4c457aab42af7fd4c5b93ee154530318.jpg  \n",
            "  inflating: cocoa_new/train/img_3756_JPG_jpg.rf.d702a186d8f9adc39dd0c99000e80dac.xml  \n",
            "  inflating: cocoa_new/train/img_520_JPG_jpg.rf.d8e18669bf967d63842e437be47aa5ab.xml  \n",
            "  inflating: cocoa_new/train/img_4139_JPG_jpg.rf.759cf49c1012eb6b107c9201dc85fe4c.jpg  \n",
            "  inflating: cocoa_new/train/img_2356_JPG_jpg.rf.a33a3900b0136618c42a417b727e5c8c.jpg  \n",
            "  inflating: cocoa_new/train/img_4047_JPG_jpg.rf.7b8bb97e6c50f3eb89ea771288ee88ac.xml  \n",
            "  inflating: cocoa_new/train/img_3795_JPG_jpg.rf.41da1ae5d72270ccb234eb77fd764bd9.jpg  \n",
            "  inflating: cocoa_new/train/img_1181_JPG_jpg.rf.e0157945e1ac7bf8ac4208292900f8af.jpg  \n",
            "  inflating: cocoa_new/train/img_1985_JPG_jpg.rf.27a0ca8838d95b3cb4b951894f3c0db0.jpg  \n",
            "  inflating: cocoa_new/train/img_2044_JPG_jpg.rf.207bbc581335da6758d85c4b0baef273.jpg  \n",
            "  inflating: cocoa_new/train/img_3574_JPG_jpg.rf.7319393af27399893e22d5768af441bd.xml  \n",
            "  inflating: cocoa_new/train/img_3222_JPG_jpg.rf.505485e778ab0743ce300c1329b3439b.xml  \n",
            "  inflating: cocoa_new/train/img_1214_JPG_jpg.rf.e1a5110799b8421dea42936c921e415d.xml  \n",
            "  inflating: cocoa_new/train/img_3774_JPG_jpg.rf.0ee5722738645f221cb2ed40c33e41ee.xml  \n",
            "  inflating: cocoa_new/train/img_211_JPG_jpg.rf.2e30059f76f86625704842c43d8f0e1b.jpg  \n",
            "  inflating: cocoa_new/train/img_2508_JPG_jpg.rf.ea9dbe58e90b445dca08d2e1fc4f3f06.jpg  \n",
            "  inflating: cocoa_new/train/img_3961_JPG_jpg.rf.56fd673d8878b96aa43175cf6871cceb.jpg  \n",
            "  inflating: cocoa_new/train/img_2361_JPG_jpg.rf.c4753aa10c7a587035ad0a4fa57012c4.jpg  \n",
            "  inflating: cocoa_new/train/img_3311_JPG_jpg.rf.cf9a8cfbb53001807a5e3af4f02e483e.jpg  \n",
            "  inflating: cocoa_new/train/img_550_JPG_jpg.rf.943ffba155db4eddf490d8f2c063876f.xml  \n",
            "  inflating: cocoa_new/train/img_2927_JPG_jpg.rf.cb652542842925508b6f21921cebb801.xml  \n",
            "  inflating: cocoa_new/train/img_3932_JPG_jpg.rf.992d24e56c2dea66b7b45ede97a49dd7.xml  \n",
            "  inflating: cocoa_new/train/img_3086_JPG_jpg.rf.9333a882f929b99c8809575953a06fa9.xml  \n",
            "  inflating: cocoa_new/train/img_2300_JPG_jpg.rf.e556b794309298ca20958adcc384f808.xml  \n",
            "  inflating: cocoa_new/train/img_268_JPG_jpg.rf.6d7d00f6debbbcaeda19a3624679133b.jpg  \n",
            "  inflating: cocoa_new/train/img_1336_JPG_jpg.rf.26ee0ade974991d69300d42670305c1b.xml  \n",
            "  inflating: cocoa_new/train/img_1896_JPG_jpg.rf.52b4479b8a03a902234d2197ced46b42.jpg  \n",
            "  inflating: cocoa_new/train/img_2631_JPG_jpg.rf.8b9cbfdaecd614465f2530f45cf5d290.jpg  \n",
            "  inflating: cocoa_new/train/img_2967_JPG_jpg.rf.ef2101107299194f2d94f2a505edc33c.xml  \n",
            "  inflating: cocoa_new/train/img_4143_JPG_jpg.rf.2fed95d1d0f967dace1dcad547fa79a8.jpg  \n",
            "  inflating: cocoa_new/train/img_3160_JPG_jpg.rf.1c4db2c4d96bcf3b170976ab7fba0dcb.jpg  \n",
            "  inflating: cocoa_new/train/img_1954_JPG_jpg.rf.864842564ec8023d7721b8852ef2f349.jpg  \n",
            "  inflating: cocoa_new/train/img_3651_JPG_jpg.rf.be5adf5d8865f827ea82aa98d7125815.jpg  \n",
            "  inflating: cocoa_new/train/img_3978_JPG_jpg.rf.d291a78b29b5c5b6a9a9c3ed05654908.jpg  \n",
            "  inflating: cocoa_new/train/img_949_JPG_jpg.rf.0886129241ac680beca0de8c4533be99.xml  \n",
            "  inflating: cocoa_new/train/img_3588_JPG_jpg.rf.39bd1ed28933be0c8cdab022a58dc3ad.xml  \n",
            "  inflating: cocoa_new/train/img_577_JPG_jpg.rf.13c0e8af07069cd5e2ce47d74cf73c0a.xml  \n",
            "  inflating: cocoa_new/train/img_3783_JPG_jpg.rf.f9a64c29173d7dfcc8e116de2ca07ee7.xml  \n",
            "  inflating: cocoa_new/train/img_1233_JPG_jpg.rf.15a519e49769a5a220f7d1acaef4040a.jpg  \n",
            "  inflating: cocoa_new/train/img_2418_JPG_jpg.rf.2fdb076975d9337608cc235a9ed4ddca.jpg  \n",
            "  inflating: cocoa_new/train/img_840_JPG_jpg.rf.45a24fe252fbcbaed29bd206f3432efc.xml  \n",
            "  inflating: cocoa_new/train/img_2449_JPG_jpg.rf.08ccdaf5aeea761ae9b7cca29d3d6c18.jpg  \n",
            "  inflating: cocoa_new/train/img_2381_JPG_jpg.rf.26301a893138fa0267f20f7f6c50a674.xml  \n",
            "  inflating: cocoa_new/train/img_491_JPG_jpg.rf.e121775a0f71c78973e29998b70a76c3.jpg  \n",
            "  inflating: cocoa_new/train/img_577_JPG_jpg.rf.13c0e8af07069cd5e2ce47d74cf73c0a.jpg  \n",
            "  inflating: cocoa_new/train/img_3783_JPG_jpg.rf.f9a64c29173d7dfcc8e116de2ca07ee7.jpg  \n",
            "  inflating: cocoa_new/train/img_3978_JPG_jpg.rf.d291a78b29b5c5b6a9a9c3ed05654908.xml  \n",
            "  inflating: cocoa_new/train/img_949_JPG_jpg.rf.0886129241ac680beca0de8c4533be99.jpg  \n",
            "  inflating: cocoa_new/train/img_3588_JPG_jpg.rf.39bd1ed28933be0c8cdab022a58dc3ad.jpg  \n",
            "  inflating: cocoa_new/train/img_2449_JPG_jpg.rf.08ccdaf5aeea761ae9b7cca29d3d6c18.xml  \n",
            "  inflating: cocoa_new/train/img_2381_JPG_jpg.rf.26301a893138fa0267f20f7f6c50a674.jpg  \n",
            "  inflating: cocoa_new/train/img_491_JPG_jpg.rf.e121775a0f71c78973e29998b70a76c3.xml  \n",
            "  inflating: cocoa_new/train/img_1233_JPG_jpg.rf.15a519e49769a5a220f7d1acaef4040a.xml  \n",
            "  inflating: cocoa_new/train/img_2418_JPG_jpg.rf.2fdb076975d9337608cc235a9ed4ddca.xml  \n",
            "  inflating: cocoa_new/train/img_840_JPG_jpg.rf.45a24fe252fbcbaed29bd206f3432efc.jpg  \n",
            "  inflating: cocoa_new/train/img_1336_JPG_jpg.rf.26ee0ade974991d69300d42670305c1b.jpg  \n",
            "  inflating: cocoa_new/train/img_1896_JPG_jpg.rf.52b4479b8a03a902234d2197ced46b42.xml  \n",
            "  inflating: cocoa_new/train/img_3086_JPG_jpg.rf.9333a882f929b99c8809575953a06fa9.jpg  \n",
            "  inflating: cocoa_new/train/img_2300_JPG_jpg.rf.e556b794309298ca20958adcc384f808.jpg  \n",
            "  inflating: cocoa_new/train/img_268_JPG_jpg.rf.6d7d00f6debbbcaeda19a3624679133b.xml  \n",
            "  inflating: cocoa_new/train/img_2967_JPG_jpg.rf.ef2101107299194f2d94f2a505edc33c.jpg  \n",
            "  inflating: cocoa_new/train/img_4143_JPG_jpg.rf.2fed95d1d0f967dace1dcad547fa79a8.xml  \n",
            "  inflating: cocoa_new/train/img_1954_JPG_jpg.rf.864842564ec8023d7721b8852ef2f349.xml  \n",
            "  inflating: cocoa_new/train/img_3160_JPG_jpg.rf.1c4db2c4d96bcf3b170976ab7fba0dcb.xml  \n",
            "  inflating: cocoa_new/train/img_3651_JPG_jpg.rf.be5adf5d8865f827ea82aa98d7125815.xml  \n",
            "  inflating: cocoa_new/train/img_2631_JPG_jpg.rf.8b9cbfdaecd614465f2530f45cf5d290.xml  \n",
            "  inflating: cocoa_new/train/img_3520_JPG_jpg.rf.81088f38763c5a46ef4847754b6d7329.jpg  \n",
            "  inflating: cocoa_new/train/img_189_JPG_jpg.rf.a7720a4e4ea8915438e517bb7b6cf719.jpg  \n",
            "  inflating: cocoa_new/train/img_2546_JPG_jpg.rf.40e13ccd00d5f5ae495c14b8812f7813.xml  \n",
            "  inflating: cocoa_new/train/img_836_JPG_jpg.rf.262f5639e339135da3699756fc590307.jpg  \n",
            "  inflating: cocoa_new/train/img_2715_JPG_jpg.rf.4f823ce135ede425fdbcee6cbac21c4a.xml  \n",
            "  inflating: cocoa_new/train/img_3870_JPG_jpg.rf.07ae001cc19217d1ed8df97ab3e7a951.xml  \n",
            "  inflating: cocoa_new/train/img_2968_JPG_jpg.rf.d884c01bc3c24fae165c84f8e72de3ba.xml  \n",
            "  inflating: cocoa_new/train/img_1780_JPG_jpg.rf.c51b1835f288f115e90182e5dc50a34b.xml  \n",
            "  inflating: cocoa_new/train/img_3143_JPG_jpg.rf.b71785d292f80cdbe89aaebcad9f1a26.jpg  \n",
            "  inflating: cocoa_new/train/img_3176_JPG_jpg.rf.8f57705122d81f4ef2c8f700024f7f26.xml  \n",
            "  inflating: cocoa_new/train/img_1568_JPG_jpg.rf.6f2aeee101ef5cedf9854c130210cea3.xml  \n",
            "  inflating: cocoa_new/train/img_889_JPG_jpg.rf.59da7e893a0ba76f906c060f884a847d.xml  \n",
            "  inflating: cocoa_new/train/img_874_JPG_jpg.rf.48c0412e86a41c10d065b78229fa3340.xml  \n",
            "  inflating: cocoa_new/train/img_1195_JPG_jpg.rf.e7612651129241c773d295f74555f833.xml  \n",
            "  inflating: cocoa_new/train/img_3421_JPG_jpg.rf.feb628fc8039e47c11e9cfd59b583510.jpg  \n",
            "  inflating: cocoa_new/train/img_3245_JPG_jpg.rf.8771012d7f5519bcee97f47addf12630.jpg  \n",
            "  inflating: cocoa_new/train/img_1420_JPG_jpg.rf.d2cb60e1c51f6e6f6e45d0d9454ea895.jpg  \n",
            "  inflating: cocoa_new/train/img_3702_JPG_jpg.rf.0d7305540d24c05511630411704ffe5f.jpg  \n",
            "  inflating: cocoa_new/train/img_860_JPG_jpg.rf.ef71d275cd2c9418bee937844ebe4f79.jpg  \n",
            "  inflating: cocoa_new/train/img_1955_JPG_jpg.rf.ba91810ca06ece0a76bc633c38122713.jpg  \n",
            "  inflating: cocoa_new/train/img_3529_JPG_jpg.rf.ff2ec7bd742bdcd2dda4ca8accac8c8d.jpg  \n",
            "  inflating: cocoa_new/train/img_362_JPG_jpg.rf.e8cbe36a280685e09a865c881dcc6b3f.jpg  \n",
            "  inflating: cocoa_new/train/img_2588_JPG_jpg.rf.e764ef618def53d24331c6b85532133c.jpg  \n",
            "  inflating: cocoa_new/train/img_172_JPG_jpg.rf.e6344e22904562f63736c30b2806eb70.xml  \n",
            "  inflating: cocoa_new/train/img_2008_JPG_jpg.rf.3d6054901e52bacf85eed3b1ea82ac0c.jpg  \n",
            "  inflating: cocoa_new/train/img_3421_JPG_jpg.rf.feb628fc8039e47c11e9cfd59b583510.xml  \n",
            "  inflating: cocoa_new/train/img_3245_JPG_jpg.rf.8771012d7f5519bcee97f47addf12630.xml  \n",
            "  inflating: cocoa_new/train/img_1420_JPG_jpg.rf.d2cb60e1c51f6e6f6e45d0d9454ea895.xml  \n",
            "  inflating: cocoa_new/train/img_1195_JPG_jpg.rf.e7612651129241c773d295f74555f833.jpg  \n",
            "  inflating: cocoa_new/train/img_172_JPG_jpg.rf.e6344e22904562f63736c30b2806eb70.jpg  \n",
            "  inflating: cocoa_new/train/img_2008_JPG_jpg.rf.3d6054901e52bacf85eed3b1ea82ac0c.xml  \n",
            "  inflating: cocoa_new/train/img_860_JPG_jpg.rf.ef71d275cd2c9418bee937844ebe4f79.xml  \n",
            "  inflating: cocoa_new/train/img_3702_JPG_jpg.rf.0d7305540d24c05511630411704ffe5f.xml  \n",
            "  inflating: cocoa_new/train/img_1955_JPG_jpg.rf.ba91810ca06ece0a76bc633c38122713.xml  \n",
            "  inflating: cocoa_new/train/img_3529_JPG_jpg.rf.ff2ec7bd742bdcd2dda4ca8accac8c8d.xml  \n",
            "  inflating: cocoa_new/train/img_362_JPG_jpg.rf.e8cbe36a280685e09a865c881dcc6b3f.xml  \n",
            "  inflating: cocoa_new/train/img_2588_JPG_jpg.rf.e764ef618def53d24331c6b85532133c.xml  \n",
            "  inflating: cocoa_new/train/img_2546_JPG_jpg.rf.40e13ccd00d5f5ae495c14b8812f7813.jpg  \n",
            "  inflating: cocoa_new/train/img_3520_JPG_jpg.rf.81088f38763c5a46ef4847754b6d7329.xml  \n",
            "  inflating: cocoa_new/train/img_189_JPG_jpg.rf.a7720a4e4ea8915438e517bb7b6cf719.xml  \n",
            "  inflating: cocoa_new/train/img_3143_JPG_jpg.rf.b71785d292f80cdbe89aaebcad9f1a26.xml  \n",
            "  inflating: cocoa_new/train/img_3176_JPG_jpg.rf.8f57705122d81f4ef2c8f700024f7f26.jpg  \n",
            "  inflating: cocoa_new/train/img_1568_JPG_jpg.rf.6f2aeee101ef5cedf9854c130210cea3.jpg  \n",
            "  inflating: cocoa_new/train/img_889_JPG_jpg.rf.59da7e893a0ba76f906c060f884a847d.jpg  \n",
            "  inflating: cocoa_new/train/img_874_JPG_jpg.rf.48c0412e86a41c10d065b78229fa3340.jpg  \n",
            "  inflating: cocoa_new/train/img_836_JPG_jpg.rf.262f5639e339135da3699756fc590307.xml  \n",
            "  inflating: cocoa_new/train/img_2715_JPG_jpg.rf.4f823ce135ede425fdbcee6cbac21c4a.jpg  \n",
            "  inflating: cocoa_new/train/img_3870_JPG_jpg.rf.07ae001cc19217d1ed8df97ab3e7a951.jpg  \n",
            "  inflating: cocoa_new/train/img_2968_JPG_jpg.rf.d884c01bc3c24fae165c84f8e72de3ba.jpg  \n",
            "  inflating: cocoa_new/train/img_1780_JPG_jpg.rf.c51b1835f288f115e90182e5dc50a34b.jpg  \n",
            "  inflating: cocoa_new/train/img_4093_JPG_jpg.rf.8210cc74e2733de7c3cda560542a92dc.jpg  \n",
            "  inflating: cocoa_new/train/img_1300_JPG_jpg.rf.d268872d7f696b314a98570d09fdac16.jpg  \n",
            "  inflating: cocoa_new/train/img_536_JPG_jpg.rf.9a5f4582f1d69bf65d1d4cbd65354284.jpg  \n",
            "  inflating: cocoa_new/train/img_2978_JPG_jpg.rf.616e53331a53e67aea7a9dbfe1c1176d.xml  \n",
            "  inflating: cocoa_new/train/img_4053_JPG_jpg.rf.ce3bc2067909f3f1d38c1307692ccc3a.jpg  \n",
            "  inflating: cocoa_new/train/img_258_JPG_jpg.rf.2990abe6a979a3da9ea77609ec616462.xml  \n",
            "  inflating: cocoa_new/train/img_3229_JPG_jpg.rf.5d0dfb25e437682e8abe4205be7d5d75.xml  \n",
            "  inflating: cocoa_new/train/img_3309_JPG_jpg.rf.b9d3f809ccf550fe8e7478f72057fb80.xml  \n",
            "  inflating: cocoa_new/train/img_3394_JPG_jpg.rf.fbdfaaacf5becd6f8a6e7ff1a0fd8762.xml  \n",
            "  inflating: cocoa_new/train/img_853_JPG_jpg.rf.20098dd078cb8491a79b36c7f9e640dc.jpg  \n",
            "  inflating: cocoa_new/train/img_3381_JPG_jpg.rf.d7e19380f638b5a60db19d27db220b8f.jpg  \n",
            "  inflating: cocoa_new/train/img_1867_JPG_jpg.rf.f385dba22986c8873a20544979ed3ad4.xml  \n",
            "  inflating: cocoa_new/train/img_2402_JPG_jpg.rf.b4c957635fbfc0f7c47af7d225271a78.xml  \n",
            "  inflating: cocoa_new/train/img_3501_JPG_jpg.rf.731fd2ce9e1835cd78716b6819b10e03.xml  \n",
            "  inflating: cocoa_new/train/img_1922_JPG_jpg.rf.15f733ebdfa1a188cb403eb054a11877.jpg  \n",
            "  inflating: cocoa_new/train/img_3469_JPG_jpg.rf.f8160dea3f7aa20b3633d43ec75e7613.xml  \n",
            "  inflating: cocoa_new/train/img_2378_JPG_jpg.rf.c61c1ec3d69bf531736d92e30a1feaac.jpg  \n",
            "  inflating: cocoa_new/train/img_3637_JPG_jpg.rf.b038ea1299d4b1ec7800fd6ea6b75dd8.xml  \n",
            "  inflating: cocoa_new/train/img_3381_JPG_jpg.rf.d7e19380f638b5a60db19d27db220b8f.xml  \n",
            "  inflating: cocoa_new/train/img_853_JPG_jpg.rf.20098dd078cb8491a79b36c7f9e640dc.xml  \n",
            "  inflating: cocoa_new/train/img_3229_JPG_jpg.rf.5d0dfb25e437682e8abe4205be7d5d75.jpg  \n",
            "  inflating: cocoa_new/train/img_3309_JPG_jpg.rf.b9d3f809ccf550fe8e7478f72057fb80.jpg  \n",
            "  inflating: cocoa_new/train/img_3394_JPG_jpg.rf.fbdfaaacf5becd6f8a6e7ff1a0fd8762.jpg  \n",
            "  inflating: cocoa_new/train/img_3469_JPG_jpg.rf.f8160dea3f7aa20b3633d43ec75e7613.jpg  \n",
            "  inflating: cocoa_new/train/img_2378_JPG_jpg.rf.c61c1ec3d69bf531736d92e30a1feaac.xml  \n",
            "  inflating: cocoa_new/train/img_3637_JPG_jpg.rf.b038ea1299d4b1ec7800fd6ea6b75dd8.jpg  \n",
            "  inflating: cocoa_new/train/img_1867_JPG_jpg.rf.f385dba22986c8873a20544979ed3ad4.jpg  \n",
            "  inflating: cocoa_new/train/img_2402_JPG_jpg.rf.b4c957635fbfc0f7c47af7d225271a78.jpg  \n",
            "  inflating: cocoa_new/train/img_3501_JPG_jpg.rf.731fd2ce9e1835cd78716b6819b10e03.jpg  \n",
            "  inflating: cocoa_new/train/img_1922_JPG_jpg.rf.15f733ebdfa1a188cb403eb054a11877.xml  \n",
            "  inflating: cocoa_new/train/img_2978_JPG_jpg.rf.616e53331a53e67aea7a9dbfe1c1176d.jpg  \n",
            "  inflating: cocoa_new/train/img_4053_JPG_jpg.rf.ce3bc2067909f3f1d38c1307692ccc3a.xml  \n",
            "  inflating: cocoa_new/train/img_4093_JPG_jpg.rf.8210cc74e2733de7c3cda560542a92dc.xml  \n",
            "  inflating: cocoa_new/train/img_1300_JPG_jpg.rf.d268872d7f696b314a98570d09fdac16.xml  \n",
            "  inflating: cocoa_new/train/img_536_JPG_jpg.rf.9a5f4582f1d69bf65d1d4cbd65354284.xml  \n",
            "  inflating: cocoa_new/train/img_258_JPG_jpg.rf.2990abe6a979a3da9ea77609ec616462.jpg  \n",
            "  inflating: cocoa_new/train/img_297_JPG_jpg.rf.cb6f961909336299d8d4995f622e7275.xml  \n",
            "  inflating: cocoa_new/train/img_3911_JPG_jpg.rf.54f3acad1365564bde645916caf6c0ec.jpg  \n",
            "  inflating: cocoa_new/train/img_3169_JPG_jpg.rf.1493346ae36b810ccbeb5f444e9959b3.jpg  \n",
            "  inflating: cocoa_new/train/img_210_JPG_jpg.rf.715d9663e88ceaed68fb6ec5ebc3093b.jpg  \n",
            "  inflating: cocoa_new/train/img_2559_JPG_jpg.rf.0a5714a03e46b33d74fee8b1fa76c653.jpg  \n",
            "  inflating: cocoa_new/train/img_303_JPG_jpg.rf.517ed101676749e89396f75339189efb.jpg  \n",
            "  inflating: cocoa_new/train/img_2817_JPG_jpg.rf.cbb1f7b7ad8c61ef47f7fb4027acdff8.xml  \n",
            "  inflating: cocoa_new/train/img_2982_JPG_jpg.rf.cf742831cebd0ae28ab0c5e96eb8b04c.jpg  \n",
            "  inflating: cocoa_new/train/img_2999_JPG_jpg.rf.aa94327c8fb7abefe83db3dff5c2ab78.xml  \n",
            "  inflating: cocoa_new/train/img_3515_JPG_jpg.rf.6800450f9589788abe008b1b446d76fc.xml  \n",
            "  inflating: cocoa_new/train/img_3125_JPG_jpg.rf.8af539735b1bb4453c3d29b0f08911af.xml  \n",
            "  inflating: cocoa_new/train/img_3836_JPG_jpg.rf.17a4c8e88898844f158ec0db0e4a5137.jpg  \n",
            "  inflating: cocoa_new/train/img_3931_JPG_jpg.rf.a5b46a298ee07cf4e7afe40d38cc54b9.jpg  \n",
            "  inflating: cocoa_new/train/img_3950_JPG_jpg.rf.0f07d30eb19d9750de3a5f9e3b41687b.xml  \n",
            "  inflating: cocoa_new/train/img_3031_JPG_jpg.rf.05b5e549af88b48cfbb0d25786c81ac4.xml  \n",
            "  inflating: cocoa_new/train/img_3623_JPG_jpg.rf.474386ad2baba8513d08f8e4c18526f7.xml  \n",
            "  inflating: cocoa_new/train/img_190_JPG_jpg.rf.1216508a6a121c9c1954141ae13a1dab.jpg  \n",
            "  inflating: cocoa_new/train/img_1234_JPG_jpg.rf.c863c73228f7c949a58b7851612c0a5f.jpg  \n",
            "  inflating: cocoa_new/train/img_15_JPG_jpg.rf.70c6e5854a75ec0ca8a5df6548df5e3b.jpg  \n",
            "  inflating: cocoa_new/train/img_3931_JPG_jpg.rf.a5b46a298ee07cf4e7afe40d38cc54b9.xml  \n",
            "  inflating: cocoa_new/train/img_3950_JPG_jpg.rf.0f07d30eb19d9750de3a5f9e3b41687b.jpg  \n",
            "  inflating: cocoa_new/train/img_3031_JPG_jpg.rf.05b5e549af88b48cfbb0d25786c81ac4.jpg  \n",
            "  inflating: cocoa_new/train/img_3515_JPG_jpg.rf.6800450f9589788abe008b1b446d76fc.jpg  \n",
            "  inflating: cocoa_new/train/img_3125_JPG_jpg.rf.8af539735b1bb4453c3d29b0f08911af.jpg  \n",
            "  inflating: cocoa_new/train/img_3836_JPG_jpg.rf.17a4c8e88898844f158ec0db0e4a5137.xml  \n",
            "  inflating: cocoa_new/train/img_15_JPG_jpg.rf.70c6e5854a75ec0ca8a5df6548df5e3b.xml  \n",
            "  inflating: cocoa_new/train/img_3623_JPG_jpg.rf.474386ad2baba8513d08f8e4c18526f7.jpg  \n",
            "  inflating: cocoa_new/train/img_190_JPG_jpg.rf.1216508a6a121c9c1954141ae13a1dab.xml  \n",
            "  inflating: cocoa_new/train/img_1234_JPG_jpg.rf.c863c73228f7c949a58b7851612c0a5f.xml  \n",
            "  inflating: cocoa_new/train/img_2559_JPG_jpg.rf.0a5714a03e46b33d74fee8b1fa76c653.xml  \n",
            "  inflating: cocoa_new/train/img_297_JPG_jpg.rf.cb6f961909336299d8d4995f622e7275.jpg  \n",
            "  inflating: cocoa_new/train/img_3911_JPG_jpg.rf.54f3acad1365564bde645916caf6c0ec.xml  \n",
            "  inflating: cocoa_new/train/img_3169_JPG_jpg.rf.1493346ae36b810ccbeb5f444e9959b3.xml  \n",
            "  inflating: cocoa_new/train/img_210_JPG_jpg.rf.715d9663e88ceaed68fb6ec5ebc3093b.xml  \n",
            "  inflating: cocoa_new/train/img_2999_JPG_jpg.rf.aa94327c8fb7abefe83db3dff5c2ab78.jpg  \n",
            "  inflating: cocoa_new/train/img_303_JPG_jpg.rf.517ed101676749e89396f75339189efb.xml  \n",
            "  inflating: cocoa_new/train/img_2817_JPG_jpg.rf.cbb1f7b7ad8c61ef47f7fb4027acdff8.jpg  \n",
            "  inflating: cocoa_new/train/img_2982_JPG_jpg.rf.cf742831cebd0ae28ab0c5e96eb8b04c.xml  \n",
            "  inflating: cocoa_new/train/img_2802_JPG_jpg.rf.a50cf9ee94c940f62cf8389ad5a24b9c.xml  \n",
            "  inflating: cocoa_new/train/img_1913_JPG_jpg.rf.93319629a80563d40b57a1994274bff9.jpg  \n",
            "  inflating: cocoa_new/train/img_2716_JPG_jpg.rf.fc6d9608c667e4f6816054f12424732d.jpg  \n",
            "  inflating: cocoa_new/train/img_957_JPG_jpg.rf.3e76159143babd0f32930e6b631df6a2.xml  \n",
            "  inflating: cocoa_new/train/img_2539_JPG_jpg.rf.fa6704dd1472a9c635d998dc976d9faf.jpg  \n",
            "  inflating: cocoa_new/train/img_2346_JPG_jpg.rf.fb5475f816ded71f327144c82b69b4ee.jpg  \n",
            "  inflating: cocoa_new/train/img_4033_JPG_jpg.rf.8bb947b286cb922aa908f585418bf21c.jpg  \n",
            "  inflating: cocoa_new/train/img_3047_JPG_jpg.rf.5485c21903684c2631eefd930d5550c1.xml  \n",
            "  inflating: cocoa_new/train/img_911_JPG_jpg.rf.979cfc15639849c88ce0ef81cbfb5db4.xml  \n",
            "  inflating: cocoa_new/train/img_440_JPG_jpg.rf.47fb8c1820b3b42e81102bba62153964.jpg  \n",
            "  inflating: cocoa_new/train/img_1951_JPG_jpg.rf.4c5a498f200360be88b1fec6b8cff1d2.jpg  \n",
            "  inflating: cocoa_new/train/img_3412_JPG_jpg.rf.a66827f3c8475f87206c14a4fada371e.xml  \n",
            "  inflating: cocoa_new/train/img_2632_JPG_jpg.rf.3a6dfb84f7db79ddf7d4a13b3cea5d17.xml  \n",
            "  inflating: cocoa_new/train/img_3025_JPG_jpg.rf.ecbb102a98f68e40835c550b63619f96.xml  \n",
            "  inflating: cocoa_new/train/img_3591_JPG_jpg.rf.ac0c2f2d88983126d89b7859d2fb72bc.jpg  \n",
            "  inflating: cocoa_new/train/img_3095_JPG_jpg.rf.b8e8ae0d1e0ddb07b4bf1dd25f91f095.xml  \n",
            "  inflating: cocoa_new/train/img_911_JPG_jpg.rf.979cfc15639849c88ce0ef81cbfb5db4.jpg  \n",
            "  inflating: cocoa_new/train/img_440_JPG_jpg.rf.47fb8c1820b3b42e81102bba62153964.xml  \n",
            "  inflating: cocoa_new/train/img_3047_JPG_jpg.rf.5485c21903684c2631eefd930d5550c1.jpg  \n",
            "  inflating: cocoa_new/train/img_3591_JPG_jpg.rf.ac0c2f2d88983126d89b7859d2fb72bc.xml  \n",
            "  inflating: cocoa_new/train/img_3095_JPG_jpg.rf.b8e8ae0d1e0ddb07b4bf1dd25f91f095.jpg  \n",
            "  inflating: cocoa_new/train/img_1951_JPG_jpg.rf.4c5a498f200360be88b1fec6b8cff1d2.xml  \n",
            "  inflating: cocoa_new/train/img_3412_JPG_jpg.rf.a66827f3c8475f87206c14a4fada371e.jpg  \n",
            "  inflating: cocoa_new/train/img_2632_JPG_jpg.rf.3a6dfb84f7db79ddf7d4a13b3cea5d17.jpg  \n",
            "  inflating: cocoa_new/train/img_3025_JPG_jpg.rf.ecbb102a98f68e40835c550b63619f96.jpg  \n",
            "  inflating: cocoa_new/train/img_2716_JPG_jpg.rf.fc6d9608c667e4f6816054f12424732d.xml  \n",
            "  inflating: cocoa_new/train/img_2802_JPG_jpg.rf.a50cf9ee94c940f62cf8389ad5a24b9c.jpg  \n",
            "  inflating: cocoa_new/train/img_1913_JPG_jpg.rf.93319629a80563d40b57a1994274bff9.xml  \n",
            "  inflating: cocoa_new/train/img_4033_JPG_jpg.rf.8bb947b286cb922aa908f585418bf21c.xml  \n",
            "  inflating: cocoa_new/train/img_957_JPG_jpg.rf.3e76159143babd0f32930e6b631df6a2.jpg  \n",
            "  inflating: cocoa_new/train/img_2539_JPG_jpg.rf.fa6704dd1472a9c635d998dc976d9faf.xml  \n",
            "  inflating: cocoa_new/train/img_2346_JPG_jpg.rf.fb5475f816ded71f327144c82b69b4ee.xml  \n",
            "  inflating: cocoa_new/train/img_205_JPG_jpg.rf.a87a3f16ae994567cdf3a5e777d943ca.jpg  \n",
            "  inflating: cocoa_new/train/img_2645_JPG_jpg.rf.00110ce6d2961621ebb6ac66ad6abc07.xml  \n",
            "  inflating: cocoa_new/train/img_3717_JPG_jpg.rf.3402226c743a36aeaf7d94489e2a2e46.xml  \n",
            "  inflating: cocoa_new/train/img_632_JPG_jpg.rf.2b222d66840aec8f8dfdf15bbbcff4d1.jpg  \n",
            "  inflating: cocoa_new/train/img_1601_JPG_jpg.rf.1794847de87f32dcdff31d6c8f6f18b3.jpg  \n",
            "  inflating: cocoa_new/train/img_1153_JPG_jpg.rf.3c87aa54b08de6ab08a252ae9dbd24b3.jpg  \n",
            "  inflating: cocoa_new/train/img_3514_JPG_jpg.rf.60aef2ace439e315fdcbedc44423b8d5.jpg  \n",
            "  inflating: cocoa_new/train/img_3090_JPG_jpg.rf.aadf199f9b6ef04370250fe9c10366e3.xml  \n",
            "  inflating: cocoa_new/train/img_585_JPG_jpg.rf.903583c451e65d6860a16d0f3c1136bc.xml  \n",
            "  inflating: cocoa_new/train/img_3367_JPG_jpg.rf.73e1188613d8c6ed3dc36e9fa351a225.xml  \n",
            "  inflating: cocoa_new/train/img_3631_JPG_jpg.rf.c1e0f2cca91bd95f6d5c8ac33b822e2e.xml  \n",
            "  inflating: cocoa_new/train/img_3090_JPG_jpg.rf.aadf199f9b6ef04370250fe9c10366e3.jpg  \n",
            "  inflating: cocoa_new/train/img_3367_JPG_jpg.rf.73e1188613d8c6ed3dc36e9fa351a225.jpg  \n",
            "  inflating: cocoa_new/train/img_3631_JPG_jpg.rf.c1e0f2cca91bd95f6d5c8ac33b822e2e.jpg  \n",
            "  inflating: cocoa_new/train/img_585_JPG_jpg.rf.903583c451e65d6860a16d0f3c1136bc.jpg  \n",
            "  inflating: cocoa_new/train/img_3717_JPG_jpg.rf.3402226c743a36aeaf7d94489e2a2e46.jpg  \n",
            "  inflating: cocoa_new/train/img_205_JPG_jpg.rf.a87a3f16ae994567cdf3a5e777d943ca.xml  \n",
            "  inflating: cocoa_new/train/img_2645_JPG_jpg.rf.00110ce6d2961621ebb6ac66ad6abc07.jpg  \n",
            "  inflating: cocoa_new/train/img_3514_JPG_jpg.rf.60aef2ace439e315fdcbedc44423b8d5.xml  \n",
            "  inflating: cocoa_new/train/img_632_JPG_jpg.rf.2b222d66840aec8f8dfdf15bbbcff4d1.xml  \n",
            "  inflating: cocoa_new/train/img_1601_JPG_jpg.rf.1794847de87f32dcdff31d6c8f6f18b3.xml  \n",
            "  inflating: cocoa_new/train/img_1153_JPG_jpg.rf.3c87aa54b08de6ab08a252ae9dbd24b3.xml  \n",
            "  inflating: cocoa_new/train/img_1958_JPG_jpg.rf.4898e1734883f520c6b95dd13a6e5a9f.jpg  \n",
            "  inflating: cocoa_new/train/img_3351_JPG_jpg.rf.3807657569afa33d8aabebae149cfa94.xml  \n",
            "  inflating: cocoa_new/train/img_609_JPG_jpg.rf.f384e99fb6024e324abcfe67867780ad.xml  \n",
            "  inflating: cocoa_new/train/img_3482_JPG_jpg.rf.27e20b2297939e3cf9cb9a2e15b5ae17.xml  \n",
            "  inflating: cocoa_new/train/img_731_JPG_jpg.rf.55a71c0f60c2ead85d50cf484306fc9d.jpg  \n",
            "  inflating: cocoa_new/train/img_3228_JPG_jpg.rf.ab1dcaaae68963ed4db5c9e3aa5482a3.xml  \n",
            "  inflating: cocoa_new/train/img_2885_JPG_jpg.rf.1c0795d5e90e61d99e671c2fe5508f70.jpg  \n",
            "  inflating: cocoa_new/train/img_910_JPG_jpg.rf.8b095201505bd145a7ee227a4a7a556f.xml  \n",
            "  inflating: cocoa_new/train/img_593_JPG_jpg.rf.9a4eccdda8f542a3641a1ab124143f6e.xml  \n",
            "  inflating: cocoa_new/train/img_2610_JPG_jpg.rf.859dbf92aeb279cc822ac25ad1652ed2.xml  \n",
            "  inflating: cocoa_new/train/img_3952_JPG_jpg.rf.55a9520e6c20df280b415d2e4d68eedc.xml  \n",
            "  inflating: cocoa_new/train/img_1972_JPG_jpg.rf.33ba431234a63fe823c2415a2206a18c.jpg  \n",
            "  inflating: cocoa_new/train/img_2318_JPG_jpg.rf.635c93ac81b7f123b9085843204eaaad.jpg  \n",
            "  inflating: cocoa_new/train/img_2501_JPG_jpg.rf.8c2b8acd97f3ea216497784866cb8f50.jpg  \n",
            "  inflating: cocoa_new/train/img_1875_JPG_jpg.rf.91bb3810353798cd94af4c77c1daf279.jpg  \n",
            "  inflating: cocoa_new/train/img_3765_JPG_jpg.rf.7bd6d4b29e6d49fb222f08f6b59e2a4f.xml  \n",
            "  inflating: cocoa_new/train/img_3833_JPG_jpg.rf.d07885e17361469029c64c0e56597ca3.xml  \n",
            "  inflating: cocoa_new/train/img_1378_JPG_jpg.rf.2411fcc05fcbf386ffb812359e84d084.xml  \n",
            "  inflating: cocoa_new/train/img_2501_JPG_jpg.rf.8c2b8acd97f3ea216497784866cb8f50.xml  \n",
            "  inflating: cocoa_new/train/img_1875_JPG_jpg.rf.91bb3810353798cd94af4c77c1daf279.xml  \n",
            "  inflating: cocoa_new/train/img_2610_JPG_jpg.rf.859dbf92aeb279cc822ac25ad1652ed2.jpg  \n",
            "  inflating: cocoa_new/train/img_910_JPG_jpg.rf.8b095201505bd145a7ee227a4a7a556f.jpg  \n",
            "  inflating: cocoa_new/train/img_593_JPG_jpg.rf.9a4eccdda8f542a3641a1ab124143f6e.jpg  \n",
            "  inflating: cocoa_new/train/img_3952_JPG_jpg.rf.55a9520e6c20df280b415d2e4d68eedc.jpg  \n",
            "  inflating: cocoa_new/train/img_1972_JPG_jpg.rf.33ba431234a63fe823c2415a2206a18c.xml  \n",
            "  inflating: cocoa_new/train/img_2318_JPG_jpg.rf.635c93ac81b7f123b9085843204eaaad.xml  \n",
            "  inflating: cocoa_new/train/img_1378_JPG_jpg.rf.2411fcc05fcbf386ffb812359e84d084.jpg  \n",
            "  inflating: cocoa_new/train/img_3765_JPG_jpg.rf.7bd6d4b29e6d49fb222f08f6b59e2a4f.jpg  \n",
            "  inflating: cocoa_new/train/img_3833_JPG_jpg.rf.d07885e17361469029c64c0e56597ca3.jpg  \n",
            "  inflating: cocoa_new/train/img_609_JPG_jpg.rf.f384e99fb6024e324abcfe67867780ad.jpg  \n",
            "  inflating: cocoa_new/train/img_3482_JPG_jpg.rf.27e20b2297939e3cf9cb9a2e15b5ae17.jpg  \n",
            "  inflating: cocoa_new/train/img_1958_JPG_jpg.rf.4898e1734883f520c6b95dd13a6e5a9f.xml  \n",
            "  inflating: cocoa_new/train/img_3351_JPG_jpg.rf.3807657569afa33d8aabebae149cfa94.jpg  \n",
            "  inflating: cocoa_new/train/img_2885_JPG_jpg.rf.1c0795d5e90e61d99e671c2fe5508f70.xml  \n",
            "  inflating: cocoa_new/train/img_731_JPG_jpg.rf.55a71c0f60c2ead85d50cf484306fc9d.xml  \n",
            "  inflating: cocoa_new/train/img_3228_JPG_jpg.rf.ab1dcaaae68963ed4db5c9e3aa5482a3.jpg  \n",
            "  inflating: cocoa_new/train/img_3135_JPG_jpg.rf.f3fc566ef20b10d016bd1b570edf9e43.jpg  \n",
            "  inflating: cocoa_new/train/img_3657_JPG_jpg.rf.742641717b66251ac9fb2e74d02e9255.jpg  \n",
            "  inflating: cocoa_new/train/img_3510_JPG_jpg.rf.1aa9cb2ed07cbe5e0183ad48d5e2488b.xml  \n",
            "  inflating: cocoa_new/train/img_86_JPG_jpg.rf.4132b31e6015d70883a941a5c886a442.xml  \n",
            "  inflating: cocoa_new/train/img_1611_JPG_jpg.rf.f6620efb8e6ff2ee0c0b1dc42f0aeb1e.xml  \n",
            "  inflating: cocoa_new/train/img_1435_JPG_jpg.rf.5ced57fcf47d745976269a27a48ef580.xml  \n",
            "  inflating: cocoa_new/train/img_2543_JPG_jpg.rf.143c96c92e4294d56212b5d51b25aa46.jpg  \n",
            "  inflating: cocoa_new/train/img_1583_JPG_jpg.rf.07765b44bbb6912cef7b6205fc11e45e.xml  \n",
            "  inflating: cocoa_new/train/img_3286_JPG_jpg.rf.5fe2c9dbb8ff6db4a3d760446ef4a27d.xml  \n",
            "  inflating: cocoa_new/train/img_1818_JPG_jpg.rf.d76bfbe55537788de5f1a65fb1a7c725.jpg  \n",
            "  inflating: cocoa_new/train/img_2392_JPG_jpg.rf.d2e1e72fde3be13efbbe7891d9101ced.jpg  \n",
            "  inflating: cocoa_new/train/img_2985_JPG_jpg.rf.10fcd99825544229721f10c13f2987b5.xml  \n",
            "  inflating: cocoa_new/train/img_3093_JPG_jpg.rf.2a2a3846b40a66ac3b2ca1772035f4d1.xml  \n",
            "  inflating: cocoa_new/train/img_2807_JPG_jpg.rf.2b9156f07d20249dd5d24121b9796539.xml  \n",
            "  inflating: cocoa_new/train/img_1818_JPG_jpg.rf.d76bfbe55537788de5f1a65fb1a7c725.xml  \n",
            "  inflating: cocoa_new/train/img_1583_JPG_jpg.rf.07765b44bbb6912cef7b6205fc11e45e.jpg  \n",
            "  inflating: cocoa_new/train/img_3286_JPG_jpg.rf.5fe2c9dbb8ff6db4a3d760446ef4a27d.jpg  \n",
            "  inflating: cocoa_new/train/img_2807_JPG_jpg.rf.2b9156f07d20249dd5d24121b9796539.jpg  \n",
            "  inflating: cocoa_new/train/img_3093_JPG_jpg.rf.2a2a3846b40a66ac3b2ca1772035f4d1.jpg  \n",
            "  inflating: cocoa_new/train/img_2392_JPG_jpg.rf.d2e1e72fde3be13efbbe7891d9101ced.xml  \n",
            "  inflating: cocoa_new/train/img_2985_JPG_jpg.rf.10fcd99825544229721f10c13f2987b5.jpg  \n",
            "  inflating: cocoa_new/train/img_3657_JPG_jpg.rf.742641717b66251ac9fb2e74d02e9255.xml  \n",
            "  inflating: cocoa_new/train/img_3510_JPG_jpg.rf.1aa9cb2ed07cbe5e0183ad48d5e2488b.jpg  \n",
            "  inflating: cocoa_new/train/img_86_JPG_jpg.rf.4132b31e6015d70883a941a5c886a442.jpg  \n",
            "  inflating: cocoa_new/train/img_3135_JPG_jpg.rf.f3fc566ef20b10d016bd1b570edf9e43.xml  \n",
            "  inflating: cocoa_new/train/img_1435_JPG_jpg.rf.5ced57fcf47d745976269a27a48ef580.jpg  \n",
            "  inflating: cocoa_new/train/img_2543_JPG_jpg.rf.143c96c92e4294d56212b5d51b25aa46.xml  \n",
            "  inflating: cocoa_new/train/img_1611_JPG_jpg.rf.f6620efb8e6ff2ee0c0b1dc42f0aeb1e.jpg  \n",
            "  inflating: cocoa_new/train/img_2380_JPG_jpg.rf.bf3684c03c460f847b073a1fa0ca8cf7.xml  \n",
            "  inflating: cocoa_new/train/img_14_JPG_jpg.rf.398cc09c6a6bd7c2a89e107db64627d1.jpg  \n",
            "  inflating: cocoa_new/train/img_512_JPG_jpg.rf.d1b2a3dfa2fc719e843fe6acc6f43dcf.xml  \n",
            "  inflating: cocoa_new/train/img_1626_JPG_jpg.rf.0a925394b74cf98f001aaec917e81d38.xml  \n",
            "  inflating: cocoa_new/train/img_3503_JPG_jpg.rf.ae8b3d562c0ea6d2a215c42fbd51155e.jpg  \n",
            "  inflating: cocoa_new/train/img_693_JPG_jpg.rf.5524f5f894dcd7085e697ba1bf9f9a4b.xml  \n",
            "  inflating: cocoa_new/train/img_3610_JPG_jpg.rf.6cea9f1fd7aa6d43787b7391722b2509.xml  \n",
            "  inflating: cocoa_new/train/img_3278_JPG_jpg.rf.7b68359e5cc579229f3abe632ffa1325.xml  \n",
            "  inflating: cocoa_new/train/img_638_JPG_jpg.rf.b733dddbb9d891bbf973efb917b88ede.jpg  \n",
            "  inflating: cocoa_new/train/img_1192_JPG_jpg.rf.a9f1b8723597e9b5033557de77839209.jpg  \n",
            "  inflating: cocoa_new/train/img_1301_JPG_jpg.rf.c6498722d579720fdb136d6fbd326285.jpg  \n",
            "  inflating: cocoa_new/train/img_418_JPG_jpg.rf.c4d05082e4287846151b82fc41fe7463.jpg  \n",
            "  inflating: cocoa_new/train/img_3088_JPG_jpg.rf.0b757c1f74f53c3cbf8c5396d36611ed.xml  \n",
            "  inflating: cocoa_new/train/img_916_JPG_jpg.rf.95470459e928e552ccfb9937fc6b7b00.jpg  \n",
            "  inflating: cocoa_new/train/img_437_JPG_jpg.rf.f8bc8b7153dd52efc496cfe6dd817613.jpg  \n",
            "  inflating: cocoa_new/train/img_4155_JPG_jpg.rf.d03f3b1f8bc4364ecedcda28aa15e0fd.xml  \n",
            "  inflating: cocoa_new/train/img_437_JPG_jpg.rf.f8bc8b7153dd52efc496cfe6dd817613.xml  \n",
            "  inflating: cocoa_new/train/img_3088_JPG_jpg.rf.0b757c1f74f53c3cbf8c5396d36611ed.jpg  \n",
            "  inflating: cocoa_new/train/img_916_JPG_jpg.rf.95470459e928e552ccfb9937fc6b7b00.xml  \n",
            "  inflating: cocoa_new/train/img_4155_JPG_jpg.rf.d03f3b1f8bc4364ecedcda28aa15e0fd.jpg  \n",
            "  inflating: cocoa_new/train/img_14_JPG_jpg.rf.398cc09c6a6bd7c2a89e107db64627d1.xml  \n",
            "  inflating: cocoa_new/train/img_512_JPG_jpg.rf.d1b2a3dfa2fc719e843fe6acc6f43dcf.jpg  \n",
            "  inflating: cocoa_new/train/img_1626_JPG_jpg.rf.0a925394b74cf98f001aaec917e81d38.jpg  \n",
            "  inflating: cocoa_new/train/img_3503_JPG_jpg.rf.ae8b3d562c0ea6d2a215c42fbd51155e.xml  \n",
            "  inflating: cocoa_new/train/img_693_JPG_jpg.rf.5524f5f894dcd7085e697ba1bf9f9a4b.jpg  \n",
            "  inflating: cocoa_new/train/img_3610_JPG_jpg.rf.6cea9f1fd7aa6d43787b7391722b2509.jpg  \n",
            "  inflating: cocoa_new/train/img_2380_JPG_jpg.rf.bf3684c03c460f847b073a1fa0ca8cf7.jpg  \n",
            "  inflating: cocoa_new/train/img_1192_JPG_jpg.rf.a9f1b8723597e9b5033557de77839209.xml  \n",
            "  inflating: cocoa_new/train/img_1301_JPG_jpg.rf.c6498722d579720fdb136d6fbd326285.xml  \n",
            "  inflating: cocoa_new/train/img_418_JPG_jpg.rf.c4d05082e4287846151b82fc41fe7463.xml  \n",
            "  inflating: cocoa_new/train/img_3278_JPG_jpg.rf.7b68359e5cc579229f3abe632ffa1325.jpg  \n",
            "  inflating: cocoa_new/train/img_638_JPG_jpg.rf.b733dddbb9d891bbf973efb917b88ede.xml  \n",
            "  inflating: cocoa_new/train/img_3497_JPG_jpg.rf.3f77de0d9149551f10e1b7e23b33c4c0.xml  \n",
            "  inflating: cocoa_new/train/img_742_JPG_jpg.rf.fc3de42e015b272d0397965550c92c44.jpg  \n",
            "  inflating: cocoa_new/train/img_2560_JPG_jpg.rf.a6d7a29505cfccba4a8dd71ad75e2441.xml  \n",
            "  inflating: cocoa_new/train/img_2874_JPG_jpg.rf.aacfd97abcf775917bccbf4e625cb318.xml  \n",
            "  inflating: cocoa_new/train/img_733_JPG_jpg.rf.79cc94cb926d98b288b1d7a683933c55.xml  \n",
            "  inflating: cocoa_new/train/img_307_JPG_jpg.rf.c32cc0b994f0834b5d7887ffc6ca95ab.xml  \n",
            "  inflating: cocoa_new/train/img_717_JPG_jpg.rf.d7a3d0ed7cef52dd6b5f8fdc08874e41.xml  \n",
            "  inflating: cocoa_new/train/img_1566_JPG_jpg.rf.86f27a8f3700a9b572f441ae8968e303.xml  \n",
            "  inflating: cocoa_new/train/img_3736_JPG_jpg.rf.0fda3d2d1ead8b960305fd0b240a47d2.xml  \n",
            "  inflating: cocoa_new/train/img_745_JPG_jpg.rf.9029054e0ec7b2e5e95a288e1dc41f96.xml  \n",
            "  inflating: cocoa_new/train/img_3466_JPG_jpg.rf.1e48a73f6199fb218443c8818d6aa870.jpg  \n",
            "  inflating: cocoa_new/train/img_2805_JPG_jpg.rf.71c817618124004018c04401ba340fb7.xml  \n",
            "  inflating: cocoa_new/train/img_516_JPG_jpg.rf.bbe41e770721c9e689cb8b0354dd692b.jpg  \n",
            "  inflating: cocoa_new/train/img_878_JPG_jpg.rf.44b794104581512f2325ef90fde74d9f.jpg  \n",
            "  inflating: cocoa_new/train/img_3627_JPG_jpg.rf.6d5576da794bdb33c09785b9e428e904.xml  \n",
            "  inflating: cocoa_new/train/img_3858_JPG_jpg.rf.35eea9d1bde7027449bff0fef852130e.xml  \n",
            "  inflating: cocoa_new/train/img_809_JPG_jpg.rf.2fb59807b7360e81a25c7083babb8b5b.xml  \n",
            "  inflating: cocoa_new/train/img_715_JPG_jpg.rf.1441e486afebe73ec225b8c60e5823ee.jpg  \n",
            "  inflating: cocoa_new/train/img_745_JPG_jpg.rf.9029054e0ec7b2e5e95a288e1dc41f96.jpg  \n",
            "  inflating: cocoa_new/train/img_3466_JPG_jpg.rf.1e48a73f6199fb218443c8818d6aa870.xml  \n",
            "  inflating: cocoa_new/train/img_3858_JPG_jpg.rf.35eea9d1bde7027449bff0fef852130e.jpg  \n",
            "  inflating: cocoa_new/train/img_809_JPG_jpg.rf.2fb59807b7360e81a25c7083babb8b5b.jpg  \n",
            "  inflating: cocoa_new/train/img_715_JPG_jpg.rf.1441e486afebe73ec225b8c60e5823ee.xml  \n",
            "  inflating: cocoa_new/train/img_2805_JPG_jpg.rf.71c817618124004018c04401ba340fb7.jpg  \n",
            "  inflating: cocoa_new/train/img_516_JPG_jpg.rf.bbe41e770721c9e689cb8b0354dd692b.xml  \n",
            "  inflating: cocoa_new/train/img_878_JPG_jpg.rf.44b794104581512f2325ef90fde74d9f.xml  \n",
            "  inflating: cocoa_new/train/img_3627_JPG_jpg.rf.6d5576da794bdb33c09785b9e428e904.jpg  \n",
            "  inflating: cocoa_new/train/img_2560_JPG_jpg.rf.a6d7a29505cfccba4a8dd71ad75e2441.jpg  \n",
            "  inflating: cocoa_new/train/img_2874_JPG_jpg.rf.aacfd97abcf775917bccbf4e625cb318.jpg  \n",
            "  inflating: cocoa_new/train/img_733_JPG_jpg.rf.79cc94cb926d98b288b1d7a683933c55.jpg  \n",
            "  inflating: cocoa_new/train/img_3497_JPG_jpg.rf.3f77de0d9149551f10e1b7e23b33c4c0.jpg  \n",
            "  inflating: cocoa_new/train/img_742_JPG_jpg.rf.fc3de42e015b272d0397965550c92c44.xml  \n",
            "  inflating: cocoa_new/train/img_3736_JPG_jpg.rf.0fda3d2d1ead8b960305fd0b240a47d2.jpg  \n",
            "  inflating: cocoa_new/train/img_1566_JPG_jpg.rf.86f27a8f3700a9b572f441ae8968e303.jpg  \n",
            "  inflating: cocoa_new/train/img_307_JPG_jpg.rf.c32cc0b994f0834b5d7887ffc6ca95ab.jpg  \n",
            "  inflating: cocoa_new/train/img_717_JPG_jpg.rf.d7a3d0ed7cef52dd6b5f8fdc08874e41.jpg  \n",
            "  inflating: cocoa_new/train/img_1132_JPG_jpg.rf.68531afcc2eeb1dabe786fd2cc31d078.xml  \n",
            "  inflating: cocoa_new/train/img_4122_JPG_jpg.rf.c86d69457e587204c7ffa2c4a216dbb9.xml  \n",
            "  inflating: cocoa_new/train/img_1286_JPG_jpg.rf.7fb6d9437e2fa10a762ab45f9534cb8e.xml  \n",
            "  inflating: cocoa_new/train/img_3291_JPG_jpg.rf.26a94d4a0d15aed6629758eaeaa57f15.jpg  \n",
            "  inflating: cocoa_new/train/img_2956_JPG_jpg.rf.5aaf904227ab21f96a9b39b180beb73c.xml  \n",
            "  inflating: cocoa_new/train/img_2453_JPG_jpg.rf.e466c13ba3e50655ee572224429a88ec.jpg  \n",
            "  inflating: cocoa_new/train/img_2000_JPG_jpg.rf.3a4b416db06122cc4e5b7ce976511ad5.xml  \n",
            "  inflating: cocoa_new/train/img_206_JPG_jpg.rf.de819f403b25e760ee824737a1f5e73e.jpg  \n",
            "  inflating: cocoa_new/train/img_380_JPG_jpg.rf.f03423d2d8f34194dc0b7cae5e100602.jpg  \n",
            "  inflating: cocoa_new/train/img_202_JPG_jpg.rf.ce0b1f41e7e26feb26224363f8c600f4.xml  \n",
            "  inflating: cocoa_new/train/img_958_JPG_jpg.rf.84b0a571ffef4d56f8bc14502c8b6073.jpg  \n",
            "  inflating: cocoa_new/train/img_928_JPG_jpg.rf.c1cf02f57a391827fa500286242a1e13.jpg  \n",
            "  inflating: cocoa_new/train/img_2711_JPG_jpg.rf.4fd4306d85ae6c5c0ee495b1d0b13509.jpg  \n",
            "  inflating: cocoa_new/train/img_2615_JPG_jpg.rf.174be2e7b0231bd3c69867b8cfe5088d.jpg  \n",
            "  inflating: cocoa_new/train/img_20_JPG_jpg.rf.cb626dadf4b862f663598685f6b91322.xml  \n",
            "  inflating: cocoa_new/train/img_66_JPG_jpg.rf.15719da1b557983568c81ae479edbd0f.jpg  \n",
            "  inflating: cocoa_new/train/img_327_JPG_jpg.rf.7abf12b76877ab49282a2e2b3afd9e55.xml  \n",
            "  inflating: cocoa_new/train/img_3843_JPG_jpg.rf.01786a63be2f99c033351f9e68fea30a.xml  \n",
            "  inflating: cocoa_new/train/img_1577_JPG_jpg.rf.8e3a5b6d54b5120bd588b714e1b90d17.jpg  \n",
            "  inflating: cocoa_new/train/img_2611_JPG_jpg.rf.29a6ab244b4123c36c3c754c56b897e8.xml  \n",
            "  inflating: cocoa_new/train/img_2596_JPG_jpg.rf.519ea1da8185659717aba93ac8338529.jpg  \n",
            "  inflating: cocoa_new/train/img_20_JPG_jpg.rf.cb626dadf4b862f663598685f6b91322.jpg  \n",
            "  inflating: cocoa_new/train/img_66_JPG_jpg.rf.15719da1b557983568c81ae479edbd0f.xml  \n",
            "  inflating: cocoa_new/train/img_327_JPG_jpg.rf.7abf12b76877ab49282a2e2b3afd9e55.jpg  \n",
            "  inflating: cocoa_new/train/img_3843_JPG_jpg.rf.01786a63be2f99c033351f9e68fea30a.jpg  \n",
            "  inflating: cocoa_new/train/img_2611_JPG_jpg.rf.29a6ab244b4123c36c3c754c56b897e8.jpg  \n",
            "  inflating: cocoa_new/train/img_2596_JPG_jpg.rf.519ea1da8185659717aba93ac8338529.xml  \n",
            "  inflating: cocoa_new/train/img_1577_JPG_jpg.rf.8e3a5b6d54b5120bd588b714e1b90d17.xml  \n",
            "  inflating: cocoa_new/train/img_2453_JPG_jpg.rf.e466c13ba3e50655ee572224429a88ec.xml  \n",
            "  inflating: cocoa_new/train/img_2000_JPG_jpg.rf.3a4b416db06122cc4e5b7ce976511ad5.jpg  \n",
            "  inflating: cocoa_new/train/img_206_JPG_jpg.rf.de819f403b25e760ee824737a1f5e73e.xml  \n",
            "  inflating: cocoa_new/train/img_1132_JPG_jpg.rf.68531afcc2eeb1dabe786fd2cc31d078.jpg  \n",
            "  inflating: cocoa_new/train/img_4122_JPG_jpg.rf.c86d69457e587204c7ffa2c4a216dbb9.jpg  \n",
            "  inflating: cocoa_new/train/img_1286_JPG_jpg.rf.7fb6d9437e2fa10a762ab45f9534cb8e.jpg  \n",
            "  inflating: cocoa_new/train/img_3291_JPG_jpg.rf.26a94d4a0d15aed6629758eaeaa57f15.xml  \n",
            "  inflating: cocoa_new/train/img_2956_JPG_jpg.rf.5aaf904227ab21f96a9b39b180beb73c.jpg  \n",
            "  inflating: cocoa_new/train/img_928_JPG_jpg.rf.c1cf02f57a391827fa500286242a1e13.xml  \n",
            "  inflating: cocoa_new/train/img_202_JPG_jpg.rf.ce0b1f41e7e26feb26224363f8c600f4.jpg  \n",
            "  inflating: cocoa_new/train/img_958_JPG_jpg.rf.84b0a571ffef4d56f8bc14502c8b6073.xml  \n",
            "  inflating: cocoa_new/train/img_2711_JPG_jpg.rf.4fd4306d85ae6c5c0ee495b1d0b13509.xml  \n",
            "  inflating: cocoa_new/train/img_2615_JPG_jpg.rf.174be2e7b0231bd3c69867b8cfe5088d.xml  \n",
            "  inflating: cocoa_new/train/img_380_JPG_jpg.rf.f03423d2d8f34194dc0b7cae5e100602.xml  \n",
            "  inflating: cocoa_new/train/img_1796_JPG_jpg.rf.795930d3dd2ebc7afcf56e1b25430f6f.jpg  \n",
            "  inflating: cocoa_new/train/img_1276_JPG_jpg.rf.97a27bc733b920d9be91413e475916b5.xml  \n",
            "  inflating: cocoa_new/train/img_1602_JPG_jpg.rf.f683103af9303fefb0ebceeebf27d503.xml  \n",
            "  inflating: cocoa_new/train/img_2459_JPG_jpg.rf.02d0f1df095c5f2ea66aa912389d251e.jpg  \n",
            "  inflating: cocoa_new/train/img_3002_JPG_jpg.rf.74d6a2dc3dbd33122f60803d2b579bfb.xml  \n",
            "  inflating: cocoa_new/train/img_710_JPG_jpg.rf.2064352aa1c68480f0fba37ed47762fc.jpg  \n",
            "  inflating: cocoa_new/train/img_3548_JPG_jpg.rf.4fe71ddb87a7a7952bed03dc8b8a0ef6.jpg  \n",
            "  inflating: cocoa_new/train/img_2987_JPG_jpg.rf.0b4a5478e164e1242882bd93ae35bc6e.xml  \n",
            "  inflating: cocoa_new/train/img_3518_JPG_jpg.rf.c14db0dce930c6837824d94fb9539f34.jpg  \n",
            "  inflating: cocoa_new/train/img_1339_JPG_jpg.rf.baff1fddc32c12b663331eac54b51f9e.xml  \n",
            "  inflating: cocoa_new/train/img_1163_JPG_jpg.rf.a8cba42f058dacd8a16a7c41f2fa4ed6.jpg  \n",
            "  inflating: cocoa_new/train/img_2818_JPG_jpg.rf.d22b49efe84104423de731df71ee8d4a.jpg  \n",
            "  inflating: cocoa_new/train/img_3548_JPG_jpg.rf.4fe71ddb87a7a7952bed03dc8b8a0ef6.xml  \n",
            "  inflating: cocoa_new/train/img_710_JPG_jpg.rf.2064352aa1c68480f0fba37ed47762fc.xml  \n",
            "  inflating: cocoa_new/train/img_1339_JPG_jpg.rf.baff1fddc32c12b663331eac54b51f9e.jpg  \n",
            "  inflating: cocoa_new/train/img_1163_JPG_jpg.rf.a8cba42f058dacd8a16a7c41f2fa4ed6.xml  \n",
            "  inflating: cocoa_new/train/img_2818_JPG_jpg.rf.d22b49efe84104423de731df71ee8d4a.xml  \n",
            "  inflating: cocoa_new/train/img_2987_JPG_jpg.rf.0b4a5478e164e1242882bd93ae35bc6e.jpg  \n",
            "  inflating: cocoa_new/train/img_3518_JPG_jpg.rf.c14db0dce930c6837824d94fb9539f34.xml  \n",
            "  inflating: cocoa_new/train/img_1796_JPG_jpg.rf.795930d3dd2ebc7afcf56e1b25430f6f.xml  \n",
            "  inflating: cocoa_new/train/img_1276_JPG_jpg.rf.97a27bc733b920d9be91413e475916b5.jpg  \n",
            "  inflating: cocoa_new/train/img_1602_JPG_jpg.rf.f683103af9303fefb0ebceeebf27d503.jpg  \n",
            "  inflating: cocoa_new/train/img_2459_JPG_jpg.rf.02d0f1df095c5f2ea66aa912389d251e.xml  \n",
            "  inflating: cocoa_new/train/img_3002_JPG_jpg.rf.74d6a2dc3dbd33122f60803d2b579bfb.jpg  \n",
            "  inflating: cocoa_new/train/img_65_JPG_jpg.rf.0a85976aa622ae4ebc9e039f8032684e.jpg  \n",
            "  inflating: cocoa_new/train/img_46_JPG_jpg.rf.44a3155383533a298441049e9acd091c.xml  \n",
            "  inflating: cocoa_new/train/img_504_JPG_jpg.rf.567d1b36ab5a49ccacd1e9a25142ea84.jpg  \n",
            "  inflating: cocoa_new/train/img_3817_JPG_jpg.rf.4ebdfece4cabf2f12ac463f0f611ecfb.jpg  \n",
            "  inflating: cocoa_new/train/img_3182_JPG_jpg.rf.4f110ba1a3364d74d7d475f6c41609c2.jpg  \n",
            "  inflating: cocoa_new/train/img_160_JPG_jpg.rf.0ab625409541a426a2a0cd82542642a9.xml  \n",
            "  inflating: cocoa_new/train/img_3012_JPG_jpg.rf.f86c9d3675abf0678b9c3a9a17ae3172.xml  \n",
            "  inflating: cocoa_new/train/img_541_JPG_jpg.rf.c9910b654679c251094f3793cf0ed0b3.xml  \n",
            "  inflating: cocoa_new/train/img_2577_JPG_jpg.rf.48383d854b26699ea48aa04de87e1d40.jpg  \n",
            "  inflating: cocoa_new/train/img_1717_JPG_jpg.rf.cd1f24c2b12e77f97ac0257ba7a002c6.jpg  \n",
            "  inflating: cocoa_new/train/img_3768_JPG_jpg.rf.aa90416f450afd96bd6fae67b85bfded.xml  \n",
            "  inflating: cocoa_new/train/img_2351_JPG_jpg.rf.be476357c2e7d35feda0b089ffb952db.jpg  \n",
            "  inflating: cocoa_new/train/img_3187_JPG_jpg.rf.c42d35a0a07a299ea76944e12cf80771.jpg  \n",
            "  inflating: cocoa_new/train/img_3841_JPG_jpg.rf.34f8c347f4443ebb9bc48fc45122731e.xml  \n",
            "  inflating: cocoa_new/train/img_3622_JPG_jpg.rf.b11342508d7d559f308299ab3cea5097.jpg  \n",
            "  inflating: cocoa_new/train/img_2416_JPG_jpg.rf.10dc8780538e3e974739b7d7abd7f8d8.xml  \n",
            "  inflating: cocoa_new/train/img_1539_JPG_jpg.rf.c0990562eb48773ad23c69db33dd31d1.xml  \n",
            "  inflating: cocoa_new/train/img_739_JPG_jpg.rf.00b63b54887e596c9576fdfa6e98a50b.xml  \n",
            "  inflating: cocoa_new/train/img_230_JPG_jpg.rf.6e20cefd3b07c33ab5d2ada041cfd8ba.xml  \n",
            "  inflating: cocoa_new/train/img_3841_JPG_jpg.rf.34f8c347f4443ebb9bc48fc45122731e.jpg  \n",
            "  inflating: cocoa_new/train/img_3622_JPG_jpg.rf.b11342508d7d559f308299ab3cea5097.xml  \n",
            "  inflating: cocoa_new/train/img_3768_JPG_jpg.rf.aa90416f450afd96bd6fae67b85bfded.jpg  \n",
            "  inflating: cocoa_new/train/img_2351_JPG_jpg.rf.be476357c2e7d35feda0b089ffb952db.xml  \n",
            "  inflating: cocoa_new/train/img_3187_JPG_jpg.rf.c42d35a0a07a299ea76944e12cf80771.xml  \n",
            "  inflating: cocoa_new/train/img_739_JPG_jpg.rf.00b63b54887e596c9576fdfa6e98a50b.jpg  \n",
            "  inflating: cocoa_new/train/img_230_JPG_jpg.rf.6e20cefd3b07c33ab5d2ada041cfd8ba.jpg  \n",
            "  inflating: cocoa_new/train/img_2416_JPG_jpg.rf.10dc8780538e3e974739b7d7abd7f8d8.jpg  \n",
            "  inflating: cocoa_new/train/img_1539_JPG_jpg.rf.c0990562eb48773ad23c69db33dd31d1.jpg  \n",
            "  inflating: cocoa_new/train/img_504_JPG_jpg.rf.567d1b36ab5a49ccacd1e9a25142ea84.xml  \n",
            "  inflating: cocoa_new/train/img_3817_JPG_jpg.rf.4ebdfece4cabf2f12ac463f0f611ecfb.xml  \n",
            "  inflating: cocoa_new/train/img_3182_JPG_jpg.rf.4f110ba1a3364d74d7d475f6c41609c2.xml  \n",
            "  inflating: cocoa_new/train/img_65_JPG_jpg.rf.0a85976aa622ae4ebc9e039f8032684e.xml  \n",
            "  inflating: cocoa_new/train/img_46_JPG_jpg.rf.44a3155383533a298441049e9acd091c.jpg  \n",
            "  inflating: cocoa_new/train/img_3012_JPG_jpg.rf.f86c9d3675abf0678b9c3a9a17ae3172.jpg  \n",
            "  inflating: cocoa_new/train/img_541_JPG_jpg.rf.c9910b654679c251094f3793cf0ed0b3.jpg  \n",
            "  inflating: cocoa_new/train/img_1717_JPG_jpg.rf.cd1f24c2b12e77f97ac0257ba7a002c6.xml  \n",
            "  inflating: cocoa_new/train/img_2577_JPG_jpg.rf.48383d854b26699ea48aa04de87e1d40.xml  \n",
            "  inflating: cocoa_new/train/img_160_JPG_jpg.rf.0ab625409541a426a2a0cd82542642a9.jpg  \n",
            "  inflating: cocoa_new/train/img_3282_JPG_jpg.rf.eeac5be49c8115a18d4ed9985a7884c2.xml  \n",
            "  inflating: cocoa_new/train/img_580_JPG_jpg.rf.0c6d113b70713c6f1940a0f22d0fb439.jpg  \n",
            "  inflating: cocoa_new/train/img_2336_JPG_jpg.rf.ae56ab005b62142a75264a87286c53d5.xml  \n",
            "  inflating: cocoa_new/train/img_1874_JPG_jpg.rf.ce2065219322db58e93c81be06dd06f6.jpg  \n",
            "  inflating: cocoa_new/train/img_505_JPG_jpg.rf.ff43f1a4d9dbb094db9e538e4e5daed4.jpg  \n",
            "  inflating: cocoa_new/train/img_3999_JPG_jpg.rf.b76382486c55e6db72049a2789b837d0.jpg  \n",
            "  inflating: cocoa_new/train/img_122_JPG_jpg.rf.690c3c417ec464df30f1741a9100bf83.xml  \n",
            "  inflating: cocoa_new/train/img_79_JPG_jpg.rf.23688f787c5b6db7bf98ef3a4f759ec9.xml  \n",
            "  inflating: cocoa_new/train/img_2383_JPG_jpg.rf.28a9285ef0611bf733d765e34862d157.xml  \n",
            "  inflating: cocoa_new/train/img_549_JPG_jpg.rf.8ec955a7ab0a0ca5f20046c96d39ba8c.jpg  \n",
            "  inflating: cocoa_new/train/img_2608_JPG_jpg.rf.46984ada45c7cde2e6d9909f6ec812d4.xml  \n",
            "  inflating: cocoa_new/train/img_332_JPG_jpg.rf.233d8a0699c52c5d65e37424b7f901ac.jpg  \n",
            "  inflating: cocoa_new/train/img_3389_JPG_jpg.rf.1bbd5749b3ec4b8da6ca6667f9fa81fb.jpg  \n",
            "  inflating: cocoa_new/train/img_3473_JPG_jpg.rf.4ea5b916da83d6065659a1dd7f6015bb.jpg  \n",
            "  inflating: cocoa_new/train/img_2952_JPG_jpg.rf.574b10d65ecafb340786885ffbc36a80.jpg  \n",
            "  inflating: cocoa_new/train/img_2494_JPG_jpg.rf.2c10371962463527843bb974c6cf9136.jpg  \n",
            "  inflating: cocoa_new/train/img_3141_JPG_jpg.rf.47fed67e86d1e51779faa6bf41d88506.xml  \n",
            "  inflating: cocoa_new/train/img_839_JPG_jpg.rf.ec261d2b5055db4ac0d5b11ec0a593de.xml  \n",
            "  inflating: cocoa_new/train/img_332_JPG_jpg.rf.233d8a0699c52c5d65e37424b7f901ac.xml  \n",
            "  inflating: cocoa_new/train/img_3389_JPG_jpg.rf.1bbd5749b3ec4b8da6ca6667f9fa81fb.xml  \n",
            "  inflating: cocoa_new/train/img_3473_JPG_jpg.rf.4ea5b916da83d6065659a1dd7f6015bb.xml  \n",
            "  inflating: cocoa_new/train/img_2952_JPG_jpg.rf.574b10d65ecafb340786885ffbc36a80.xml  \n",
            "  inflating: cocoa_new/train/img_2608_JPG_jpg.rf.46984ada45c7cde2e6d9909f6ec812d4.jpg  \n",
            "  inflating: cocoa_new/train/img_2494_JPG_jpg.rf.2c10371962463527843bb974c6cf9136.xml  \n",
            "  inflating: cocoa_new/train/img_3141_JPG_jpg.rf.47fed67e86d1e51779faa6bf41d88506.jpg  \n",
            "  inflating: cocoa_new/train/img_839_JPG_jpg.rf.ec261d2b5055db4ac0d5b11ec0a593de.jpg  \n",
            "  inflating: cocoa_new/train/img_3282_JPG_jpg.rf.eeac5be49c8115a18d4ed9985a7884c2.jpg  \n",
            "  inflating: cocoa_new/train/img_580_JPG_jpg.rf.0c6d113b70713c6f1940a0f22d0fb439.xml  \n",
            "  inflating: cocoa_new/train/img_2336_JPG_jpg.rf.ae56ab005b62142a75264a87286c53d5.jpg  \n",
            "  inflating: cocoa_new/train/img_3999_JPG_jpg.rf.b76382486c55e6db72049a2789b837d0.xml  \n",
            "  inflating: cocoa_new/train/img_122_JPG_jpg.rf.690c3c417ec464df30f1741a9100bf83.jpg  \n",
            "  inflating: cocoa_new/train/img_79_JPG_jpg.rf.23688f787c5b6db7bf98ef3a4f759ec9.jpg  \n",
            "  inflating: cocoa_new/train/img_549_JPG_jpg.rf.8ec955a7ab0a0ca5f20046c96d39ba8c.xml  \n",
            "  inflating: cocoa_new/train/img_2383_JPG_jpg.rf.28a9285ef0611bf733d765e34862d157.jpg  \n",
            "  inflating: cocoa_new/train/img_1874_JPG_jpg.rf.ce2065219322db58e93c81be06dd06f6.xml  \n",
            "  inflating: cocoa_new/train/img_505_JPG_jpg.rf.ff43f1a4d9dbb094db9e538e4e5daed4.xml  \n",
            "  inflating: cocoa_new/train/img_923_JPG_jpg.rf.7a5033428dedde629e70bbd1a814d737.jpg  \n",
            "  inflating: cocoa_new/train/img_2478_JPG_jpg.rf.a992abe4c4d00b82152e42ce74f53fe3.jpg  \n",
            "  inflating: cocoa_new/train/img_3440_JPG_jpg.rf.2e3317acef19143e17aa6fdd919f3593.jpg  \n",
            "  inflating: cocoa_new/train/img_1270_JPG_jpg.rf.127a0196ba8b643051a6bb9072cda0b9.xml  \n",
            "  inflating: cocoa_new/train/img_810_JPG_jpg.rf.7ce15ed121c6f135cc7d52c5681ba183.xml  \n",
            "  inflating: cocoa_new/train/img_3074_JPG_jpg.rf.ed94fde1e696430f6b4ce9d428ada8a9.xml  \n",
            "  inflating: cocoa_new/train/img_2430_JPG_jpg.rf.23b4e137d02f6ee015642b76c5091574.xml  \n",
            "  inflating: cocoa_new/train/img_150_JPG_jpg.rf.ab795c994190c33602f70174c6c284b4.jpg  \n",
            "  inflating: cocoa_new/train/img_2033_JPG_jpg.rf.c3a9f960fd4bd21543f9349c0bd1fb9c.jpg  \n",
            "  inflating: cocoa_new/train/img_3754_JPG_jpg.rf.aa50af6bda9883323cdbf3d5bf3261cb.xml  \n",
            "  inflating: cocoa_new/train/img_42_JPG_jpg.rf.580c50092f226355e32b0c6897333439.xml  \n",
            "  inflating: cocoa_new/train/img_4043_JPG_jpg.rf.a615f94285187c1b89b6092c03076f1f.jpg  \n",
            "  inflating: cocoa_new/train/img_285_JPG_jpg.rf.2f4cb1a98b3b60e59c2cf14dd25912c2.jpg  \n",
            "  inflating: cocoa_new/train/img_3700_JPG_jpg.rf.3a1e5e744bffd68dd810bd8a9110a8f4.xml  \n",
            "  inflating: cocoa_new/train/img_3527_JPG_jpg.rf.6aa2ea0e9c540c04491ee2b7a0f7f72a.xml  \n",
            "  inflating: cocoa_new/train/img_3458_JPG_jpg.rf.8a978cfb9b76c3140c9fad86a3014064.xml  \n",
            "  inflating: cocoa_new/train/img_3877_JPG_jpg.rf.2a14ce5d0871f38de9a742b2a54aaf86.xml  \n",
            "  inflating: cocoa_new/train/img_3406_JPG_jpg.rf.aed14a2c5d3dfe67c030f9a25a11f732.xml  \n",
            "  inflating: cocoa_new/train/img_834_JPG_jpg.rf.b8ba66365be41a04fa07ceb08258df33.xml  \n",
            "  inflating: cocoa_new/train/img_3055_JPG_jpg.rf.15457014357d9ea0dfdf488aff617b0f.jpg  \n",
            "  inflating: cocoa_new/train/img_4064_JPG_jpg.rf.c6bfec677c605317e60da8510d61ef72.jpg  \n",
            "  inflating: cocoa_new/train/img_4043_JPG_jpg.rf.a615f94285187c1b89b6092c03076f1f.xml  \n",
            "  inflating: cocoa_new/train/img_285_JPG_jpg.rf.2f4cb1a98b3b60e59c2cf14dd25912c2.xml  \n",
            "  inflating: cocoa_new/train/img_3700_JPG_jpg.rf.3a1e5e744bffd68dd810bd8a9110a8f4.jpg  \n",
            "  inflating: cocoa_new/train/img_3527_JPG_jpg.rf.6aa2ea0e9c540c04491ee2b7a0f7f72a.jpg  \n",
            "  inflating: cocoa_new/train/img_2033_JPG_jpg.rf.c3a9f960fd4bd21543f9349c0bd1fb9c.xml  \n",
            "  inflating: cocoa_new/train/img_150_JPG_jpg.rf.ab795c994190c33602f70174c6c284b4.xml  \n",
            "  inflating: cocoa_new/train/img_3754_JPG_jpg.rf.aa50af6bda9883323cdbf3d5bf3261cb.jpg  \n",
            "  inflating: cocoa_new/train/img_42_JPG_jpg.rf.580c50092f226355e32b0c6897333439.jpg  \n",
            "  inflating: cocoa_new/train/img_834_JPG_jpg.rf.b8ba66365be41a04fa07ceb08258df33.jpg  \n",
            "  inflating: cocoa_new/train/img_3055_JPG_jpg.rf.15457014357d9ea0dfdf488aff617b0f.xml  \n",
            "  inflating: cocoa_new/train/img_4064_JPG_jpg.rf.c6bfec677c605317e60da8510d61ef72.xml  \n",
            "  inflating: cocoa_new/train/img_3458_JPG_jpg.rf.8a978cfb9b76c3140c9fad86a3014064.jpg  \n",
            "  inflating: cocoa_new/train/img_3877_JPG_jpg.rf.2a14ce5d0871f38de9a742b2a54aaf86.jpg  \n",
            "  inflating: cocoa_new/train/img_3406_JPG_jpg.rf.aed14a2c5d3dfe67c030f9a25a11f732.jpg  \n",
            "  inflating: cocoa_new/train/img_2478_JPG_jpg.rf.a992abe4c4d00b82152e42ce74f53fe3.xml  \n",
            "  inflating: cocoa_new/train/img_3440_JPG_jpg.rf.2e3317acef19143e17aa6fdd919f3593.xml  \n",
            "  inflating: cocoa_new/train/img_923_JPG_jpg.rf.7a5033428dedde629e70bbd1a814d737.xml  \n",
            "  inflating: cocoa_new/train/img_1270_JPG_jpg.rf.127a0196ba8b643051a6bb9072cda0b9.jpg  \n",
            "  inflating: cocoa_new/train/img_810_JPG_jpg.rf.7ce15ed121c6f135cc7d52c5681ba183.jpg  \n",
            "  inflating: cocoa_new/train/img_3074_JPG_jpg.rf.ed94fde1e696430f6b4ce9d428ada8a9.jpg  \n",
            "  inflating: cocoa_new/train/img_2430_JPG_jpg.rf.23b4e137d02f6ee015642b76c5091574.jpg  \n",
            "  inflating: cocoa_new/train/img_238_JPG_jpg.rf.36bc1d40568587441d918f942f14a8c8.jpg  \n",
            "  inflating: cocoa_new/train/img_2875_JPG_jpg.rf.c38342dc091de968405b1620d1d0377a.jpg  \n",
            "  inflating: cocoa_new/train/img_1426_JPG_jpg.rf.b55a52a23c90c6149da544f6f514a731.jpg  \n",
            "  inflating: cocoa_new/train/img_28_JPG_jpg.rf.2493e783d92c522d77ba14cba25e7b6c.xml  \n",
            "  inflating: cocoa_new/train/img_1099_JPG_jpg.rf.5a11203b94921915c1ce59a42b256793.jpg  \n",
            "  inflating: cocoa_new/train/img_1721_JPG_jpg.rf.c1c6e203751d64c5b4db9f3e6a3ca161.jpg  \n",
            "  inflating: cocoa_new/train/img_565_JPG_jpg.rf.8f6226a72729759050f990e8daa43736.xml  \n",
            "  inflating: cocoa_new/train/img_226_JPG_jpg.rf.488b360fa6f148a33da4c132b8efda24.jpg  \n",
            "  inflating: cocoa_new/train/img_522_JPG_jpg.rf.7e7941e2ee9c4d5e7d10a3903e487033.jpg  \n",
            "  inflating: cocoa_new/train/img_1600_JPG_jpg.rf.829c7dc0b03f0a9d878a35c3736edcd0.xml  \n",
            "  inflating: cocoa_new/train/img_646_JPG_jpg.rf.a9019bffc3dfd819f020d9d91bb1ecff.xml  \n",
            "  inflating: cocoa_new/train/img_2553_JPG_jpg.rf.cefcf37a4530a8b1da5f7e2ec163c0e0.jpg  \n",
            "  inflating: cocoa_new/train/img_1815_JPG_jpg.rf.2e77c5cfabfc8655177b512489d945ce.xml  \n",
            "  inflating: cocoa_new/train/img_3513_JPG_jpg.rf.01f4e3f1ca5ef5ce799e82e0d46c6c0e.xml  \n",
            "  inflating: cocoa_new/train/img_2712_JPG_jpg.rf.9e2bb573bee81e0db8369ce22004821f.xml  \n",
            "  inflating: cocoa_new/train/img_1815_JPG_jpg.rf.2e77c5cfabfc8655177b512489d945ce.jpg  \n",
            "  inflating: cocoa_new/train/img_3513_JPG_jpg.rf.01f4e3f1ca5ef5ce799e82e0d46c6c0e.jpg  \n",
            "  inflating: cocoa_new/train/img_522_JPG_jpg.rf.7e7941e2ee9c4d5e7d10a3903e487033.xml  \n",
            "  inflating: cocoa_new/train/img_1600_JPG_jpg.rf.829c7dc0b03f0a9d878a35c3736edcd0.jpg  \n",
            "  inflating: cocoa_new/train/img_646_JPG_jpg.rf.a9019bffc3dfd819f020d9d91bb1ecff.jpg  \n",
            "  inflating: cocoa_new/train/img_2553_JPG_jpg.rf.cefcf37a4530a8b1da5f7e2ec163c0e0.xml  \n",
            "  inflating: cocoa_new/train/img_2712_JPG_jpg.rf.9e2bb573bee81e0db8369ce22004821f.jpg  \n",
            "  inflating: cocoa_new/train/img_1099_JPG_jpg.rf.5a11203b94921915c1ce59a42b256793.xml  \n",
            "  inflating: cocoa_new/train/img_28_JPG_jpg.rf.2493e783d92c522d77ba14cba25e7b6c.jpg  \n",
            "  inflating: cocoa_new/train/img_1721_JPG_jpg.rf.c1c6e203751d64c5b4db9f3e6a3ca161.xml  \n",
            "  inflating: cocoa_new/train/img_565_JPG_jpg.rf.8f6226a72729759050f990e8daa43736.jpg  \n",
            "  inflating: cocoa_new/train/img_238_JPG_jpg.rf.36bc1d40568587441d918f942f14a8c8.xml  \n",
            "  inflating: cocoa_new/train/img_2875_JPG_jpg.rf.c38342dc091de968405b1620d1d0377a.xml  \n",
            "  inflating: cocoa_new/train/img_1426_JPG_jpg.rf.b55a52a23c90c6149da544f6f514a731.xml  \n",
            "  inflating: cocoa_new/train/img_226_JPG_jpg.rf.488b360fa6f148a33da4c132b8efda24.xml  \n",
            "  inflating: cocoa_new/train/img_1727_JPG_jpg.rf.cb3c3fb2d42e5110a2017c046c2d2e7c.jpg  \n",
            "  inflating: cocoa_new/train/img_2600_JPG_jpg.rf.646a145129833faa8d2ac2fe46e47cee.jpg  \n",
            "  inflating: cocoa_new/train/img_3072_JPG_jpg.rf.9282bb4123d288aecd55419d6ef0c2cc.jpg  \n",
            "  inflating: cocoa_new/train/img_2804_JPG_jpg.rf.ae2d5fb71869a0523bae1102f6d8a161.xml  \n",
            "  inflating: cocoa_new/train/img_726_JPG_jpg.rf.949ea7d2873da63abd971b7cd5eccef3.xml  \n",
            "  inflating: cocoa_new/train/img_509_JPG_jpg.rf.573f816bd37e431f5cbfe10920767ab1.xml  \n",
            "  inflating: cocoa_new/train/img_1905_JPG_jpg.rf.33eaee6d4baacdb9bf5b82a5ee05aa7a.xml  \n",
            "  inflating: cocoa_new/train/img_2472_JPG_jpg.rf.4abd876b609fc2bf816e9d1509d8f72d.jpg  \n",
            "  inflating: cocoa_new/train/img_417_JPG_jpg.rf.d21f46bbb93de68151806679eef5bc1c.jpg  \n",
            "  inflating: cocoa_new/train/img_273_JPG_jpg.rf.ddc455fb316f820c9b9ce26a5c2bd417.jpg  \n",
            "  inflating: cocoa_new/train/img_2029_JPG_jpg.rf.6da853deb8e3808b7aeec36c16e7eca1.jpg  \n",
            "  inflating: cocoa_new/train/img_881_JPG_jpg.rf.ee0d8c1c2d0233e1efe57fa5fe77fb70.xml  \n",
            "  inflating: cocoa_new/train/img_2568_JPG_jpg.rf.2b1ed0fccae2c6e748c21f5c02e1456c.xml  \n",
            "  inflating: cocoa_new/train/img_1227_JPG_jpg.rf.3f774a4b9c45f6732159973d8bbe0eb8.jpg  \n",
            "  inflating: cocoa_new/train/img_3668_JPG_jpg.rf.b775bce2a4d285dcd08f200f1fc91a6a.xml  \n",
            "  inflating: cocoa_new/train/img_825_JPG_jpg.rf.e8b76d51ffdaae44314d1af47feb279c.jpg  \n",
            "  inflating: cocoa_new/train/img_288_JPG_jpg.rf.f163dc0d679045b43502d3fcb8d4b14d.xml  \n",
            "  inflating: cocoa_new/train/img_881_JPG_jpg.rf.ee0d8c1c2d0233e1efe57fa5fe77fb70.jpg  \n",
            "  inflating: cocoa_new/train/img_2568_JPG_jpg.rf.2b1ed0fccae2c6e748c21f5c02e1456c.jpg  \n",
            "  inflating: cocoa_new/train/img_273_JPG_jpg.rf.ddc455fb316f820c9b9ce26a5c2bd417.xml  \n",
            "  inflating: cocoa_new/train/img_2029_JPG_jpg.rf.6da853deb8e3808b7aeec36c16e7eca1.xml  \n",
            "  inflating: cocoa_new/train/img_825_JPG_jpg.rf.e8b76d51ffdaae44314d1af47feb279c.xml  \n",
            "  inflating: cocoa_new/train/img_288_JPG_jpg.rf.f163dc0d679045b43502d3fcb8d4b14d.jpg  \n",
            "  inflating: cocoa_new/train/img_1227_JPG_jpg.rf.3f774a4b9c45f6732159973d8bbe0eb8.xml  \n",
            "  inflating: cocoa_new/train/img_3668_JPG_jpg.rf.b775bce2a4d285dcd08f200f1fc91a6a.jpg  \n",
            "  inflating: cocoa_new/train/img_726_JPG_jpg.rf.949ea7d2873da63abd971b7cd5eccef3.jpg  \n",
            "  inflating: cocoa_new/train/img_509_JPG_jpg.rf.573f816bd37e431f5cbfe10920767ab1.jpg  \n",
            "  inflating: cocoa_new/train/img_2600_JPG_jpg.rf.646a145129833faa8d2ac2fe46e47cee.xml  \n",
            "  inflating: cocoa_new/train/img_1727_JPG_jpg.rf.cb3c3fb2d42e5110a2017c046c2d2e7c.xml  \n",
            "  inflating: cocoa_new/train/img_3072_JPG_jpg.rf.9282bb4123d288aecd55419d6ef0c2cc.xml  \n",
            "  inflating: cocoa_new/train/img_2804_JPG_jpg.rf.ae2d5fb71869a0523bae1102f6d8a161.jpg  \n",
            "  inflating: cocoa_new/train/img_2472_JPG_jpg.rf.4abd876b609fc2bf816e9d1509d8f72d.xml  \n",
            "  inflating: cocoa_new/train/img_417_JPG_jpg.rf.d21f46bbb93de68151806679eef5bc1c.xml  \n",
            "  inflating: cocoa_new/train/img_1905_JPG_jpg.rf.33eaee6d4baacdb9bf5b82a5ee05aa7a.jpg  \n",
            "  inflating: cocoa_new/train/img_3687_JPG_jpg.rf.4897c78d272a7232620ac077f87b35eb.jpg  \n",
            "  inflating: cocoa_new/train/img_643_JPG_jpg.rf.e356f0b0bb788073f07deb8c00a1135f.jpg  \n",
            "  inflating: cocoa_new/train/img_1881_JPG_jpg.rf.fb2df9411ee2bde42d54485a1ce28d6a.jpg  \n",
            "  inflating: cocoa_new/train/img_248_JPG_jpg.rf.a0b4aeedce856b35ec47d2b486630c74.jpg  \n",
            "  inflating: cocoa_new/train/img_3376_JPG_jpg.rf.9e86597dde5a8216d74e605ce4814320.jpg  \n",
            "  inflating: cocoa_new/train/img_3926_JPG_jpg.rf.ae49f594c9f7be30b1edfc4001f634cf.jpg  \n",
            "  inflating: cocoa_new/train/img_137_JPG_jpg.rf.73d830fcd59f99c369d60708e99d4148.xml  \n",
            "  inflating: cocoa_new/train/img_2297_JPG_jpg.rf.12d5563ff69ebc68871036962de366f1.jpg  \n",
            "  inflating: cocoa_new/train/img_595_JPG_jpg.rf.d90f8469160aa8269bbe8348d337a12b.xml  \n",
            "  inflating: cocoa_new/train/img_3822_JPG_jpg.rf.7a05fbd6b7049184e399ea8cea0130cc.jpg  \n",
            "  inflating: cocoa_new/train/img_1141_JPG_jpg.rf.582afcab99af7fa9aef235098414d3d3.jpg  \n",
            "  inflating: cocoa_new/train/img_3554_JPG_jpg.rf.72e0c38c22876b9af3c8c50e2a0af41d.jpg  \n",
            "  inflating: cocoa_new/train/img_3628_JPG_jpg.rf.e0c7f70368de68a77837f31996d11268.jpg  \n",
            "  inflating: cocoa_new/train/img_2363_JPG_jpg.rf.eadc5eb4b7d47a6077c6ef37ddcaceee.xml  \n",
            "  inflating: cocoa_new/train/img_551_JPG_jpg.rf.425bfbc12e5989c5ba1e9359c7e0bf7e.jpg  \n",
            "  inflating: cocoa_new/train/img_2342_JPG_jpg.rf.586bf51d9f9e0f8210e244c186d16b9f.xml  \n",
            "  inflating: cocoa_new/train/img_1616_JPG_jpg.rf.a97f21f2284916b2a29391c3d179aa72.jpg  \n",
            "  inflating: cocoa_new/train/img_1365_JPG_jpg.rf.8d1549a4af2d68a713c6a162e5ad5bfc.xml  \n",
            "  inflating: cocoa_new/train/img_2410_JPG_jpg.rf.814a4e9b048531423ee38f4f32ae8321.jpg  \n",
            "  inflating: cocoa_new/train/img_3738_JPG_jpg.rf.395cf8e286fd5c121c983e25226f674c.xml  \n",
            "  inflating: cocoa_new/train/img_2363_JPG_jpg.rf.eadc5eb4b7d47a6077c6ef37ddcaceee.jpg  \n",
            "  inflating: cocoa_new/train/img_551_JPG_jpg.rf.425bfbc12e5989c5ba1e9359c7e0bf7e.xml  \n",
            "  inflating: cocoa_new/train/img_2342_JPG_jpg.rf.586bf51d9f9e0f8210e244c186d16b9f.jpg  \n",
            "  inflating: cocoa_new/train/img_1616_JPG_jpg.rf.a97f21f2284916b2a29391c3d179aa72.xml  \n",
            "  inflating: cocoa_new/train/img_3554_JPG_jpg.rf.72e0c38c22876b9af3c8c50e2a0af41d.xml  \n",
            "  inflating: cocoa_new/train/img_3628_JPG_jpg.rf.e0c7f70368de68a77837f31996d11268.xml  \n",
            "  inflating: cocoa_new/train/img_2410_JPG_jpg.rf.814a4e9b048531423ee38f4f32ae8321.xml  \n",
            "  inflating: cocoa_new/train/img_3738_JPG_jpg.rf.395cf8e286fd5c121c983e25226f674c.jpg  \n",
            "  inflating: cocoa_new/train/img_1365_JPG_jpg.rf.8d1549a4af2d68a713c6a162e5ad5bfc.jpg  \n",
            "  inflating: cocoa_new/train/img_3376_JPG_jpg.rf.9e86597dde5a8216d74e605ce4814320.xml  \n",
            "  inflating: cocoa_new/train/img_3926_JPG_jpg.rf.ae49f594c9f7be30b1edfc4001f634cf.xml  \n",
            "  inflating: cocoa_new/train/img_137_JPG_jpg.rf.73d830fcd59f99c369d60708e99d4148.jpg  \n",
            "  inflating: cocoa_new/train/img_3687_JPG_jpg.rf.4897c78d272a7232620ac077f87b35eb.xml  \n",
            "  inflating: cocoa_new/train/img_643_JPG_jpg.rf.e356f0b0bb788073f07deb8c00a1135f.xml  \n",
            "  inflating: cocoa_new/train/img_1881_JPG_jpg.rf.fb2df9411ee2bde42d54485a1ce28d6a.xml  \n",
            "  inflating: cocoa_new/train/img_248_JPG_jpg.rf.a0b4aeedce856b35ec47d2b486630c74.xml  \n",
            "  inflating: cocoa_new/train/img_595_JPG_jpg.rf.d90f8469160aa8269bbe8348d337a12b.jpg  \n",
            "  inflating: cocoa_new/train/img_3822_JPG_jpg.rf.7a05fbd6b7049184e399ea8cea0130cc.xml  \n",
            "  inflating: cocoa_new/train/img_1141_JPG_jpg.rf.582afcab99af7fa9aef235098414d3d3.xml  \n",
            "  inflating: cocoa_new/train/img_2297_JPG_jpg.rf.12d5563ff69ebc68871036962de366f1.xml  \n",
            "  inflating: cocoa_new/train/img_1423_JPG_jpg.rf.f280bcb59ef52ee1c7f3b0a0705e5c29.xml  \n",
            "  inflating: cocoa_new/train/img_3963_JPG_jpg.rf.5d7f89c90e9104105f6acee0612861be.xml  \n",
            "  inflating: cocoa_new/train/img_3262_JPG_jpg.rf.eec2597dbffc02991e32e658c148db21.jpg  \n",
            "  inflating: cocoa_new/train/img_681_JPG_jpg.rf.b2d9f887d2234b6b8a2494166f99a7bf.jpg  \n",
            "  inflating: cocoa_new/train/img_378_JPG_jpg.rf.c01d176a900e9533a1ce5531487890f7.xml  \n",
            "  inflating: cocoa_new/train/img_3910_JPG_jpg.rf.bd2f50c3d521f6e38485c2a4258e387a.jpg  \n",
            "  inflating: cocoa_new/train/img_34_JPG_jpg.rf.08e4e5ee2261e85e48f00ad33845983a.xml  \n",
            "  inflating: cocoa_new/train/img_2730_JPG_jpg.rf.4d4c5533fba9f7ab4bdaabd24a23cf27.xml  \n",
            "  inflating: cocoa_new/train/img_3584_JPG_jpg.rf.a4c593c6a19112506982fffce4420366.jpg  \n",
            "  inflating: cocoa_new/train/img_835_JPG_jpg.rf.334b99c6a216b06431f8ec9752bba3bf.xml  \n",
            "  inflating: cocoa_new/train/img_3706_JPG_jpg.rf.f133e0d43ef7d1a5bcf217ce17d01e13.xml  \n",
            "  inflating: cocoa_new/train/img_2455_JPG_jpg.rf.d31e21a263c9b49ba8fbcc243c73d24a.xml  \n",
            "  inflating: cocoa_new/train/img_3368_JPG_jpg.rf.95f92501e588ad6546892a75de653ec8.jpg  \n",
            "  inflating: cocoa_new/train/img_1934_JPG_jpg.rf.0e54c84a3510f6f71e1cf59e0ff3312f.jpg  \n",
            "  inflating: cocoa_new/train/img_2527_JPG_jpg.rf.5882ce9a1eff4e276af245e884b79c58.jpg  \n",
            "  inflating: cocoa_new/train/img_3098_JPG_jpg.rf.9c4fe951804f5d769a703ecbde2b35d3.xml  \n",
            "  inflating: cocoa_new/train/img_3821_JPG_jpg.rf.3b67ae8d52544afd9140505f8d589752.xml  \n",
            "  inflating: cocoa_new/train/img_698_JPG_jpg.rf.21fe03eb7e54f44e5f141e36759e0ed4.jpg  \n",
            "  inflating: cocoa_new/train/img_3368_JPG_jpg.rf.95f92501e588ad6546892a75de653ec8.xml  \n",
            "  inflating: cocoa_new/train/img_835_JPG_jpg.rf.334b99c6a216b06431f8ec9752bba3bf.jpg  \n",
            "  inflating: cocoa_new/train/img_3706_JPG_jpg.rf.f133e0d43ef7d1a5bcf217ce17d01e13.jpg  \n",
            "  inflating: cocoa_new/train/img_2455_JPG_jpg.rf.d31e21a263c9b49ba8fbcc243c73d24a.jpg  \n",
            "  inflating: cocoa_new/train/img_3098_JPG_jpg.rf.9c4fe951804f5d769a703ecbde2b35d3.jpg  \n",
            "  inflating: cocoa_new/train/img_3821_JPG_jpg.rf.3b67ae8d52544afd9140505f8d589752.jpg  \n",
            "  inflating: cocoa_new/train/img_698_JPG_jpg.rf.21fe03eb7e54f44e5f141e36759e0ed4.xml  \n",
            "  inflating: cocoa_new/train/img_1934_JPG_jpg.rf.0e54c84a3510f6f71e1cf59e0ff3312f.xml  \n",
            "  inflating: cocoa_new/train/img_2527_JPG_jpg.rf.5882ce9a1eff4e276af245e884b79c58.xml  \n",
            "  inflating: cocoa_new/train/img_3262_JPG_jpg.rf.eec2597dbffc02991e32e658c148db21.xml  \n",
            "  inflating: cocoa_new/train/img_681_JPG_jpg.rf.b2d9f887d2234b6b8a2494166f99a7bf.xml  \n",
            "  inflating: cocoa_new/train/img_378_JPG_jpg.rf.c01d176a900e9533a1ce5531487890f7.jpg  \n",
            "  inflating: cocoa_new/train/img_1423_JPG_jpg.rf.f280bcb59ef52ee1c7f3b0a0705e5c29.jpg  \n",
            "  inflating: cocoa_new/train/img_3963_JPG_jpg.rf.5d7f89c90e9104105f6acee0612861be.jpg  \n",
            "  inflating: cocoa_new/train/img_34_JPG_jpg.rf.08e4e5ee2261e85e48f00ad33845983a.jpg  \n",
            "  inflating: cocoa_new/train/img_2730_JPG_jpg.rf.4d4c5533fba9f7ab4bdaabd24a23cf27.jpg  \n",
            "  inflating: cocoa_new/train/img_3584_JPG_jpg.rf.a4c593c6a19112506982fffce4420366.xml  \n",
            "  inflating: cocoa_new/train/img_3910_JPG_jpg.rf.bd2f50c3d521f6e38485c2a4258e387a.xml  \n",
            "  inflating: cocoa_new/train/img_299_JPG_jpg.rf.31d88e2ac017a607e5ac59f284d3a537.xml  \n",
            "  inflating: cocoa_new/train/img_3624_JPG_jpg.rf.6b10f61ea5f3ec9e3c23d5d73f7e726a.jpg  \n",
            "  inflating: cocoa_new/train/img_713_JPG_jpg.rf.90eed4f5c634df13e1de6901843bb90a.xml  \n",
            "  inflating: cocoa_new/train/img_714_JPG_jpg.rf.91dd0d7703951fb540e255ae393913e5.xml  \n",
            "  inflating: cocoa_new/train/img_2996_JPG_jpg.rf.172012bef7f36002c2f3e1a8908d5bd3.xml  \n",
            "  inflating: cocoa_new/train/img_814_JPG_jpg.rf.1fc310236de0a102328e4a9e1ce48a81.xml  \n",
            "  inflating: cocoa_new/train/img_265_JPG_jpg.rf.9b4e5d4820614e30be0461694e40efc7.jpg  \n",
            "  inflating: cocoa_new/train/img_1279_JPG_jpg.rf.47185e57612d106132a5873f13d69e3e.xml  \n",
            "  inflating: cocoa_new/train/img_2980_JPG_jpg.rf.b296ea3e59ddabf46849230a58cb52f4.jpg  \n",
            "  inflating: cocoa_new/train/img_3891_JPG_jpg.rf.9b245e05d29ac5d7e506ec524eafb6f9.jpg  \n",
            "  inflating: cocoa_new/train/img_4085_JPG_jpg.rf.1db5b6153734e4ae9a9c54e200ea3037.xml  \n",
            "  inflating: cocoa_new/train/img_1138_JPG_jpg.rf.71612906048407666204f71944409c9b.jpg  \n",
            "  inflating: cocoa_new/train/img_611_JPG_jpg.rf.9c3e69e482784e7f52201b63c23cd365.jpg  \n",
            "  inflating: cocoa_new/train/img_3835_JPG_jpg.rf.05452dd705458062052367a6ba606981.xml  \n",
            "  inflating: cocoa_new/train/img_2980_JPG_jpg.rf.b296ea3e59ddabf46849230a58cb52f4.xml  \n",
            "  inflating: cocoa_new/train/img_3891_JPG_jpg.rf.9b245e05d29ac5d7e506ec524eafb6f9.xml  \n",
            "  inflating: cocoa_new/train/img_4085_JPG_jpg.rf.1db5b6153734e4ae9a9c54e200ea3037.jpg  \n",
            "  inflating: cocoa_new/train/img_814_JPG_jpg.rf.1fc310236de0a102328e4a9e1ce48a81.jpg  \n",
            "  inflating: cocoa_new/train/img_265_JPG_jpg.rf.9b4e5d4820614e30be0461694e40efc7.xml  \n",
            "  inflating: cocoa_new/train/img_1279_JPG_jpg.rf.47185e57612d106132a5873f13d69e3e.jpg  \n",
            "  inflating: cocoa_new/train/img_3835_JPG_jpg.rf.05452dd705458062052367a6ba606981.jpg  \n",
            "  inflating: cocoa_new/train/img_1138_JPG_jpg.rf.71612906048407666204f71944409c9b.xml  \n",
            "  inflating: cocoa_new/train/img_611_JPG_jpg.rf.9c3e69e482784e7f52201b63c23cd365.xml  \n",
            "  inflating: cocoa_new/train/img_713_JPG_jpg.rf.90eed4f5c634df13e1de6901843bb90a.jpg  \n",
            "  inflating: cocoa_new/train/img_299_JPG_jpg.rf.31d88e2ac017a607e5ac59f284d3a537.jpg  \n",
            "  inflating: cocoa_new/train/img_3624_JPG_jpg.rf.6b10f61ea5f3ec9e3c23d5d73f7e726a.xml  \n",
            "  inflating: cocoa_new/train/img_2996_JPG_jpg.rf.172012bef7f36002c2f3e1a8908d5bd3.jpg  \n",
            "  inflating: cocoa_new/train/img_714_JPG_jpg.rf.91dd0d7703951fb540e255ae393913e5.jpg  \n",
            "  inflating: cocoa_new/train/img_2502_JPG_jpg.rf.cac6e5d43f9222dd02945fc5878e0f73.xml  \n",
            "  inflating: cocoa_new/train/img_3846_JPG_jpg.rf.a38a8251610feb2b27466e85c37f4689.xml  \n",
            "  inflating: cocoa_new/train/img_1950_JPG_jpg.rf.2ae94e5c12c4ceb8cfbc3ec1b8a7272c.xml  \n",
            "  inflating: cocoa_new/train/img_1221_JPG_jpg.rf.121ca5fe74189e46570b0c1332f51c8f.xml  \n",
            "  inflating: cocoa_new/train/img_709_JPG_jpg.rf.79fbe94747c0e75f884b0bc586fc349d.jpg  \n",
            "  inflating: cocoa_new/train/img_216_JPG_jpg.rf.859824ffea1e004dbce99f0e83acde4e.xml  \n",
            "  inflating: cocoa_new/train/img_2504_JPG_jpg.rf.9f78b0dec07050bd2b22124dd121074d.xml  \n",
            "  inflating: cocoa_new/train/img_3078_JPG_jpg.rf.cc9ecba81584dafed436ea4979fdb355.jpg  \n",
            "  inflating: cocoa_new/train/img_3435_JPG_jpg.rf.49e1a6831dbde0a4c8e418564dbfeea4.jpg  \n",
            "  inflating: cocoa_new/train/img_1956_JPG_jpg.rf.5551518e247f4ab29a1c1522aa64c907.xml  \n",
            "  inflating: cocoa_new/train/img_2966_JPG_jpg.rf.2010550e1596c5d39b3a7d0b8d48ac70.xml  \n",
            "  inflating: cocoa_new/train/img_1615_JPG_jpg.rf.9181647c454a05e23dfe883336472558.xml  \n",
            "  inflating: cocoa_new/train/img_3867_JPG_jpg.rf.6d1635c8c2f7ef81f9bebd5e72f361d3.jpg  \n",
            "  inflating: cocoa_new/train/img_3681_JPG_jpg.rf.7ef37fd73cbb51c8825c550591a9849b.jpg  \n",
            "  inflating: cocoa_new/train/img_451_JPG_jpg.rf.dd9cde7dc1c555ca874ce401759f18ae.xml  \n",
            "  inflating: cocoa_new/train/img_3154_JPG_jpg.rf.08216766015ff52ac249e1766c960195.xml  \n",
            "  inflating: cocoa_new/train/img_2628_JPG_jpg.rf.702b5d18d431ecccdec4b6aee1c75397.jpg  \n",
            "  inflating: cocoa_new/train/img_1150_JPG_jpg.rf.d1c0dc82614063d3df722cc4124fc5a3.jpg  \n",
            "  inflating: cocoa_new/train/img_3692_JPG_jpg.rf.e0c637339fa7f55fc225794590098976.xml  \n",
            "  inflating: cocoa_new/train/img_2966_JPG_jpg.rf.2010550e1596c5d39b3a7d0b8d48ac70.jpg  \n",
            "  inflating: cocoa_new/train/img_1615_JPG_jpg.rf.9181647c454a05e23dfe883336472558.jpg  \n",
            "  inflating: cocoa_new/train/img_3867_JPG_jpg.rf.6d1635c8c2f7ef81f9bebd5e72f361d3.xml  \n",
            "  inflating: cocoa_new/train/img_3681_JPG_jpg.rf.7ef37fd73cbb51c8825c550591a9849b.xml  \n",
            "  inflating: cocoa_new/train/img_451_JPG_jpg.rf.dd9cde7dc1c555ca874ce401759f18ae.jpg  \n",
            "  inflating: cocoa_new/train/img_3154_JPG_jpg.rf.08216766015ff52ac249e1766c960195.jpg  \n",
            "  inflating: cocoa_new/train/img_3078_JPG_jpg.rf.cc9ecba81584dafed436ea4979fdb355.xml  \n",
            "  inflating: cocoa_new/train/img_3435_JPG_jpg.rf.49e1a6831dbde0a4c8e418564dbfeea4.xml  \n",
            "  inflating: cocoa_new/train/img_1956_JPG_jpg.rf.5551518e247f4ab29a1c1522aa64c907.jpg  \n",
            "  inflating: cocoa_new/train/img_1150_JPG_jpg.rf.d1c0dc82614063d3df722cc4124fc5a3.xml  \n",
            "  inflating: cocoa_new/train/img_3692_JPG_jpg.rf.e0c637339fa7f55fc225794590098976.jpg  \n",
            "  inflating: cocoa_new/train/img_2628_JPG_jpg.rf.702b5d18d431ecccdec4b6aee1c75397.xml  \n",
            "  inflating: cocoa_new/train/img_3846_JPG_jpg.rf.a38a8251610feb2b27466e85c37f4689.jpg  \n",
            "  inflating: cocoa_new/train/img_2502_JPG_jpg.rf.cac6e5d43f9222dd02945fc5878e0f73.jpg  \n",
            "  inflating: cocoa_new/train/img_709_JPG_jpg.rf.79fbe94747c0e75f884b0bc586fc349d.xml  \n",
            "  inflating: cocoa_new/train/img_216_JPG_jpg.rf.859824ffea1e004dbce99f0e83acde4e.jpg  \n",
            "  inflating: cocoa_new/train/img_2504_JPG_jpg.rf.9f78b0dec07050bd2b22124dd121074d.jpg  \n",
            "  inflating: cocoa_new/train/img_1950_JPG_jpg.rf.2ae94e5c12c4ceb8cfbc3ec1b8a7272c.jpg  \n",
            "  inflating: cocoa_new/train/img_1221_JPG_jpg.rf.121ca5fe74189e46570b0c1332f51c8f.jpg  \n",
            "  inflating: cocoa_new/train/img_322_JPG_jpg.rf.6885492585a2f53a7253f810f532a06e.xml  \n",
            "  inflating: cocoa_new/train/img_3749_JPG_jpg.rf.8c2aaadd530b10ccd5afbf6490927a8b.xml  \n",
            "  inflating: cocoa_new/train/img_2407_JPG_jpg.rf.99cc1896e3befbd9f68e52ddc16eca4a.jpg  \n",
            "  inflating: cocoa_new/train/img_3658_JPG_jpg.rf.f0f9020ef86ad83782591ce7c0f6f22d.jpg  \n",
            "  inflating: cocoa_new/train/img_2574_JPG_jpg.rf.42ab327a6665739b1bf29eb3250aceb3.xml  \n",
            "  inflating: cocoa_new/train/img_4123_JPG_jpg.rf.be29fc2549f5309ec62ed92173c608f3.jpg  \n",
            "  inflating: cocoa_new/train/img_613_JPG_jpg.rf.52b82618144698ee38ca0a6066dc3abe.jpg  \n",
            "  inflating: cocoa_new/train/img_4019_JPG_jpg.rf.540662afe00051dbed3c2dbefb6efd4e.xml  \n",
            "  inflating: cocoa_new/train/img_361_JPG_jpg.rf.e0fc885dd7f992d8864f4a5f176ff840.jpg  \n",
            "  inflating: cocoa_new/train/img_686_JPG_jpg.rf.49a515607946012385cdd17723ef8d0e.jpg  \n",
            "  inflating: cocoa_new/train/img_2924_JPG_jpg.rf.3eb3733266f62fe83853bab59ffe6619.xml  \n",
            "  inflating: cocoa_new/train/img_3990_JPG_jpg.rf.7c52a2f3c3510039c753800292b28408.jpg  \n",
            "  inflating: cocoa_new/train/img_3816_JPG_jpg.rf.c7a85d5ec88dbad4e470d2a45439dbed.jpg  \n",
            "  inflating: cocoa_new/train/img_4132_JPG_jpg.rf.576029110f339ccf064935fa646e7b8e.xml  \n",
            "  inflating: cocoa_new/train/img_2595_JPG_jpg.rf.7c870df09e6fc75135aa37d34bb849bd.xml  \n",
            "  inflating: cocoa_new/train/img_554_JPG_jpg.rf.83a61c45033dbd1ff60be83c810376f0.xml  \n",
            "  inflating: cocoa_new/train/img_870_JPG_jpg.rf.365a326673a78b4caceefc8cc990da52.jpg  \n",
            "  inflating: cocoa_new/train/img_2710_JPG_jpg.rf.a06f1c5dcf96a0a2dda15e7af82dd55c.xml  \n",
            "  inflating: cocoa_new/train/img_2396_JPG_jpg.rf.8ca31e47e8e009741b4e95018cb1335e.xml  \n",
            "  inflating: cocoa_new/train/img_1353_JPG_jpg.rf.65dfdda254f7d41285f429230d355ae2.xml  \n",
            "  inflating: cocoa_new/train/img_2338_JPG_jpg.rf.83de89a47594d0cf1ac3d743c1935635.xml  \n",
            "  inflating: cocoa_new/train/img_2603_JPG_jpg.rf.4e7e1e01a8b1a2433a6f72d8286c48b7.jpg  \n",
            "  inflating: cocoa_new/train/img_262_JPG_jpg.rf.8cfafefe2c9f64ab9c1af763749b4d65.xml  \n",
            "  inflating: cocoa_new/train/img_55_JPG_jpg.rf.4ebbea33376820ee41b3b1d77328699c.xml  \n",
            "  inflating: cocoa_new/train/img_2396_JPG_jpg.rf.8ca31e47e8e009741b4e95018cb1335e.jpg  \n",
            "  inflating: cocoa_new/train/img_1353_JPG_jpg.rf.65dfdda254f7d41285f429230d355ae2.jpg  \n",
            "  inflating: cocoa_new/train/img_2338_JPG_jpg.rf.83de89a47594d0cf1ac3d743c1935635.jpg  \n",
            "  inflating: cocoa_new/train/img_554_JPG_jpg.rf.83a61c45033dbd1ff60be83c810376f0.jpg  \n",
            "  inflating: cocoa_new/train/img_870_JPG_jpg.rf.365a326673a78b4caceefc8cc990da52.xml  \n",
            "  inflating: cocoa_new/train/img_2710_JPG_jpg.rf.a06f1c5dcf96a0a2dda15e7af82dd55c.jpg  \n",
            "  inflating: cocoa_new/train/img_262_JPG_jpg.rf.8cfafefe2c9f64ab9c1af763749b4d65.jpg  \n",
            "  inflating: cocoa_new/train/img_55_JPG_jpg.rf.4ebbea33376820ee41b3b1d77328699c.jpg  \n",
            "  inflating: cocoa_new/train/img_2603_JPG_jpg.rf.4e7e1e01a8b1a2433a6f72d8286c48b7.xml  \n",
            "  inflating: cocoa_new/train/img_2574_JPG_jpg.rf.42ab327a6665739b1bf29eb3250aceb3.jpg  \n",
            "  inflating: cocoa_new/train/img_4123_JPG_jpg.rf.be29fc2549f5309ec62ed92173c608f3.xml  \n",
            "  inflating: cocoa_new/train/img_613_JPG_jpg.rf.52b82618144698ee38ca0a6066dc3abe.xml  \n",
            "  inflating: cocoa_new/train/img_4019_JPG_jpg.rf.540662afe00051dbed3c2dbefb6efd4e.jpg  \n",
            "  inflating: cocoa_new/train/img_322_JPG_jpg.rf.6885492585a2f53a7253f810f532a06e.jpg  \n",
            "  inflating: cocoa_new/train/img_3749_JPG_jpg.rf.8c2aaadd530b10ccd5afbf6490927a8b.jpg  \n",
            "  inflating: cocoa_new/train/img_2407_JPG_jpg.rf.99cc1896e3befbd9f68e52ddc16eca4a.xml  \n",
            "  inflating: cocoa_new/train/img_3658_JPG_jpg.rf.f0f9020ef86ad83782591ce7c0f6f22d.xml  \n",
            "  inflating: cocoa_new/train/img_4132_JPG_jpg.rf.576029110f339ccf064935fa646e7b8e.jpg  \n",
            "  inflating: cocoa_new/train/img_2595_JPG_jpg.rf.7c870df09e6fc75135aa37d34bb849bd.jpg  \n",
            "  inflating: cocoa_new/train/img_361_JPG_jpg.rf.e0fc885dd7f992d8864f4a5f176ff840.xml  \n",
            "  inflating: cocoa_new/train/img_686_JPG_jpg.rf.49a515607946012385cdd17723ef8d0e.xml  \n",
            "  inflating: cocoa_new/train/img_2924_JPG_jpg.rf.3eb3733266f62fe83853bab59ffe6619.jpg  \n",
            "  inflating: cocoa_new/train/img_3990_JPG_jpg.rf.7c52a2f3c3510039c753800292b28408.xml  \n",
            "  inflating: cocoa_new/train/img_3816_JPG_jpg.rf.c7a85d5ec88dbad4e470d2a45439dbed.xml  \n",
            "  inflating: cocoa_new/train/img_70_JPG_jpg.rf.d8b308166eeb9d67f5691c6544e8be3c.jpg  \n",
            "  inflating: cocoa_new/train/img_1161_JPG_jpg.rf.dd2fca0141e2db0e163a80e5aaa4c3fe.xml  \n",
            "  inflating: cocoa_new/train/img_1204_JPG_jpg.rf.844e6f833d14e20a7486e2c7f41db74a.xml  \n",
            "  inflating: cocoa_new/train/img_3120_JPG_jpg.rf.350cec5751f4413d1f7082dca3d7a8b8.jpg  \n",
            "  inflating: cocoa_new/train/img_3029_JPG_jpg.rf.cd2bfbaff7b4487289f9c9280b97b851.xml  \n",
            "  inflating: cocoa_new/train/img_454_JPG_jpg.rf.152edef99e91e0264c577e1f20d637b8.jpg  \n",
            "  inflating: cocoa_new/train/img_12_JPG_jpg.rf.a03b1c86f34ca9689a9093e73e52cfb1.jpg  \n",
            "  inflating: cocoa_new/train/img_2863_JPG_jpg.rf.dc45f905eec998106262bfb975d15e18.xml  \n",
            "  inflating: cocoa_new/train/img_2788_JPG_jpg.rf.4fd5648dba8350e6a1ac678f11fd1389.xml  \n",
            "  inflating: cocoa_new/train/img_2434_JPG_jpg.rf.909cfc8405f916adc0b71dc49d6c821b.xml  \n",
            "  inflating: cocoa_new/train/img_1295_JPG_jpg.rf.63511b9e8b5c2336b0b8acedb7036e40.jpg  \n",
            "  inflating: cocoa_new/train/img_1932_JPG_jpg.rf.32b7f3b1b8872fc85d5f289a8d517f9e.jpg  \n",
            "  inflating: cocoa_new/train/img_2731_JPG_jpg.rf.e2329452862493d576de0d7d70299745.xml  \n",
            "  inflating: cocoa_new/train/img_2856_JPG_jpg.rf.cb8e37a196fe4dad402dd804405c6f51.jpg  \n",
            "  inflating: cocoa_new/train/img_2579_JPG_jpg.rf.5aff583461beb7a0102dac8d7a57dad3.xml  \n",
            "  inflating: cocoa_new/train/img_3442_JPG_jpg.rf.8ca969f9829a229f7fcf5959616951a3.xml  \n",
            "  inflating: cocoa_new/train/img_1993_JPG_jpg.rf.6a67626ffa87d0da65ef8df3c76c7b73.jpg  \n",
            "  inflating: cocoa_new/train/img_2731_JPG_jpg.rf.e2329452862493d576de0d7d70299745.jpg  \n",
            "  inflating: cocoa_new/train/img_2856_JPG_jpg.rf.cb8e37a196fe4dad402dd804405c6f51.xml  \n",
            "  inflating: cocoa_new/train/img_2579_JPG_jpg.rf.5aff583461beb7a0102dac8d7a57dad3.jpg  \n",
            "  inflating: cocoa_new/train/img_3442_JPG_jpg.rf.8ca969f9829a229f7fcf5959616951a3.jpg  \n",
            "  inflating: cocoa_new/train/img_1993_JPG_jpg.rf.6a67626ffa87d0da65ef8df3c76c7b73.xml  \n",
            "  inflating: cocoa_new/train/img_454_JPG_jpg.rf.152edef99e91e0264c577e1f20d637b8.xml  \n",
            "  inflating: cocoa_new/train/img_2863_JPG_jpg.rf.dc45f905eec998106262bfb975d15e18.jpg  \n",
            "  inflating: cocoa_new/train/img_12_JPG_jpg.rf.a03b1c86f34ca9689a9093e73e52cfb1.xml  \n",
            "  inflating: cocoa_new/train/img_1161_JPG_jpg.rf.dd2fca0141e2db0e163a80e5aaa4c3fe.jpg  \n",
            "  inflating: cocoa_new/train/img_70_JPG_jpg.rf.d8b308166eeb9d67f5691c6544e8be3c.xml  \n",
            "  inflating: cocoa_new/train/img_3120_JPG_jpg.rf.350cec5751f4413d1f7082dca3d7a8b8.xml  \n",
            "  inflating: cocoa_new/train/img_3029_JPG_jpg.rf.cd2bfbaff7b4487289f9c9280b97b851.jpg  \n",
            "  inflating: cocoa_new/train/img_1204_JPG_jpg.rf.844e6f833d14e20a7486e2c7f41db74a.jpg  \n",
            "  inflating: cocoa_new/train/img_2788_JPG_jpg.rf.4fd5648dba8350e6a1ac678f11fd1389.jpg  \n",
            "  inflating: cocoa_new/train/img_2434_JPG_jpg.rf.909cfc8405f916adc0b71dc49d6c821b.jpg  \n",
            "  inflating: cocoa_new/train/img_1295_JPG_jpg.rf.63511b9e8b5c2336b0b8acedb7036e40.xml  \n",
            "  inflating: cocoa_new/train/img_1932_JPG_jpg.rf.32b7f3b1b8872fc85d5f289a8d517f9e.xml  \n",
            "  inflating: cocoa_new/train/img_877_JPG_jpg.rf.87c03bcd71a32e708e0e4a1b9addf6f7.jpg  \n",
            "  inflating: cocoa_new/train/img_3224_JPG_jpg.rf.c1bb221b09ea21f4c971e99afc446b53.xml  \n",
            "  inflating: cocoa_new/train/img_4086_JPG_jpg.rf.4dc41792f1a7dc34f6e58baa2072452e.jpg  \n",
            "  inflating: cocoa_new/train/img_2475_JPG_jpg.rf.e8a712edb63d9f95d20d9630d56f3286.jpg  \n",
            "  inflating: cocoa_new/train/img_349_JPG_jpg.rf.dfef252e90a6762cd2debd1ec22e07ac.xml  \n",
            "  inflating: cocoa_new/train/img_77_JPG_jpg.rf.04ffec1792ab31df842b0c6f92140720.jpg  \n",
            "  inflating: cocoa_new/train/img_1467_JPG_jpg.rf.cd4beb59d103f58b0dad560d3b365f73.jpg  \n",
            "  inflating: cocoa_new/train/img_1779_JPG_jpg.rf.75d8cad7b1f743c12d5a248524c1e05d.jpg  \n",
            "  inflating: cocoa_new/train/img_311_JPG_jpg.rf.9ad4aa4b3e9647e389ea0772dede7142.xml  \n",
            "  inflating: cocoa_new/train/img_615_JPG_jpg.rf.a0b4c0f7a6b8230b6c93e4ec28fa8ce9.jpg  \n",
            "  inflating: cocoa_new/train/img_3165_JPG_jpg.rf.601cda10842ae858334543721a431b0e.jpg  \n",
            "  inflating: cocoa_new/train/img_3544_JPG_jpg.rf.75d0b22365dd58ca1621238d1c54fdda.jpg  \n",
            "  inflating: cocoa_new/train/img_1385_JPG_jpg.rf.43f4b8978131610a688bbbdab09870a1.jpg  \n",
            "  inflating: cocoa_new/train/img_515_JPG_jpg.rf.105c083c8558f20d4f57cac0992c17b4.jpg  \n",
            "  inflating: cocoa_new/train/img_685_JPG_jpg.rf.35e660bd9304a1eb68f109d0ce62f3f2.xml  \n",
            "  inflating: cocoa_new/train/img_2719_JPG_jpg.rf.7253a4b528d996a46ac6a5d6943e07cc.jpg  \n",
            "  inflating: cocoa_new/train/img_3035_JPG_jpg.rf.21d908bd620d2b63d12bdd6b36340c90.xml  \n",
            "  inflating: cocoa_new/train/img_2640_JPG_jpg.rf.8e7d643481766bf94006ee20640497ac.jpg  \n",
            "  inflating: cocoa_new/train/img_3377_JPG_jpg.rf.17a578319fffb22fceae89f7e76dece7.jpg  \n",
            "  inflating: cocoa_new/train/img_2578_JPG_jpg.rf.7baf5690e5a17924c37c095790b67fae.jpg  \n",
            "  inflating: cocoa_new/train/img_154_JPG_jpg.rf.2188e8baca249ad129ccbd3a85ffeba8.xml  \n",
            "  inflating: cocoa_new/train/img_1385_JPG_jpg.rf.43f4b8978131610a688bbbdab09870a1.xml  \n",
            "  inflating: cocoa_new/train/img_3544_JPG_jpg.rf.75d0b22365dd58ca1621238d1c54fdda.xml  \n",
            "  inflating: cocoa_new/train/img_515_JPG_jpg.rf.105c083c8558f20d4f57cac0992c17b4.xml  \n",
            "  inflating: cocoa_new/train/img_311_JPG_jpg.rf.9ad4aa4b3e9647e389ea0772dede7142.jpg  \n",
            "  inflating: cocoa_new/train/img_615_JPG_jpg.rf.a0b4c0f7a6b8230b6c93e4ec28fa8ce9.xml  \n",
            "  inflating: cocoa_new/train/img_3165_JPG_jpg.rf.601cda10842ae858334543721a431b0e.xml  \n",
            "  inflating: cocoa_new/train/img_2719_JPG_jpg.rf.7253a4b528d996a46ac6a5d6943e07cc.xml  \n",
            "  inflating: cocoa_new/train/img_3035_JPG_jpg.rf.21d908bd620d2b63d12bdd6b36340c90.jpg  \n",
            "  inflating: cocoa_new/train/img_2640_JPG_jpg.rf.8e7d643481766bf94006ee20640497ac.xml  \n",
            "  inflating: cocoa_new/train/img_3377_JPG_jpg.rf.17a578319fffb22fceae89f7e76dece7.xml  \n",
            "  inflating: cocoa_new/train/img_154_JPG_jpg.rf.2188e8baca249ad129ccbd3a85ffeba8.jpg  \n",
            "  inflating: cocoa_new/train/img_2578_JPG_jpg.rf.7baf5690e5a17924c37c095790b67fae.xml  \n",
            "  inflating: cocoa_new/train/img_685_JPG_jpg.rf.35e660bd9304a1eb68f109d0ce62f3f2.jpg  \n",
            "  inflating: cocoa_new/train/img_3224_JPG_jpg.rf.c1bb221b09ea21f4c971e99afc446b53.jpg  \n",
            "  inflating: cocoa_new/train/img_4086_JPG_jpg.rf.4dc41792f1a7dc34f6e58baa2072452e.xml  \n",
            "  inflating: cocoa_new/train/img_877_JPG_jpg.rf.87c03bcd71a32e708e0e4a1b9addf6f7.xml  \n",
            "  inflating: cocoa_new/train/img_77_JPG_jpg.rf.04ffec1792ab31df842b0c6f92140720.xml  \n",
            "  inflating: cocoa_new/train/img_1467_JPG_jpg.rf.cd4beb59d103f58b0dad560d3b365f73.xml  \n",
            "  inflating: cocoa_new/train/img_1779_JPG_jpg.rf.75d8cad7b1f743c12d5a248524c1e05d.xml  \n",
            "  inflating: cocoa_new/train/img_2475_JPG_jpg.rf.e8a712edb63d9f95d20d9630d56f3286.xml  \n",
            "  inflating: cocoa_new/train/img_349_JPG_jpg.rf.dfef252e90a6762cd2debd1ec22e07ac.jpg  \n",
            "  inflating: cocoa_new/train/img_1804_JPG_jpg.rf.e32c506bfef9f40db04734c417da13d7.xml  \n",
            "  inflating: cocoa_new/train/img_26_JPG_jpg.rf.4c0fba078882ec280830620518b2943c.jpg  \n",
            "  inflating: cocoa_new/train/img_2565_JPG_jpg.rf.da97b986f2c1c19c7ffe130b101ecc68.xml  \n",
            "  inflating: cocoa_new/train/img_2938_JPG_jpg.rf.97d3b80ea620188de8e54817c5f50971.jpg  \n",
            "  inflating: cocoa_new/train/img_3478_JPG_jpg.rf.bd16c99ae25da0820cea0b194c0f1631.jpg  \n",
            "  inflating: cocoa_new/train/img_1100_JPG_jpg.rf.8f426fdc3902d1066ae6ad64391d6c1f.jpg  \n",
            "  inflating: cocoa_new/train/img_961_JPG_jpg.rf.61742bb3a83481f62af774c205f5e45a.xml  \n",
            "  inflating: cocoa_new/train/img_2512_JPG_jpg.rf.889581f2fdd915b920705f9dd15a3093.jpg  \n",
            "  inflating: cocoa_new/train/img_3709_JPG_jpg.rf.244600eae9fcf6cb9e8087d45df823fa.jpg  \n",
            "  inflating: cocoa_new/train/img_3380_JPG_jpg.rf.e9e68e5561f0961005b4451914068a44.jpg  \n",
            "  inflating: cocoa_new/train/img_3478_JPG_jpg.rf.bd16c99ae25da0820cea0b194c0f1631.xml  \n",
            "  inflating: cocoa_new/train/img_1100_JPG_jpg.rf.8f426fdc3902d1066ae6ad64391d6c1f.xml  \n",
            "  inflating: cocoa_new/train/img_2512_JPG_jpg.rf.889581f2fdd915b920705f9dd15a3093.xml  \n",
            "  inflating: cocoa_new/train/img_3709_JPG_jpg.rf.244600eae9fcf6cb9e8087d45df823fa.xml  \n",
            "  inflating: cocoa_new/train/img_3380_JPG_jpg.rf.e9e68e5561f0961005b4451914068a44.xml  \n",
            "  inflating: cocoa_new/train/img_961_JPG_jpg.rf.61742bb3a83481f62af774c205f5e45a.jpg  \n",
            "  inflating: cocoa_new/train/img_1804_JPG_jpg.rf.e32c506bfef9f40db04734c417da13d7.jpg  \n",
            "  inflating: cocoa_new/train/img_26_JPG_jpg.rf.4c0fba078882ec280830620518b2943c.xml  \n",
            "  inflating: cocoa_new/train/img_2938_JPG_jpg.rf.97d3b80ea620188de8e54817c5f50971.xml  \n",
            "  inflating: cocoa_new/train/img_2565_JPG_jpg.rf.da97b986f2c1c19c7ffe130b101ecc68.jpg  \n",
            "  inflating: cocoa_new/train/img_4056_JPG_jpg.rf.288433c8e6d928bab3764cab50300ae3.xml  \n",
            "  inflating: cocoa_new/train/img_2812_JPG_jpg.rf.93bf17c4a42fc2e0ec2400df655a0fe5.jpg  \n",
            "  inflating: cocoa_new/train/img_3849_JPG_jpg.rf.73c93ad89bf0ee6a37212c857e5a7db7.jpg  \n",
            "  inflating: cocoa_new/train/img_727_JPG_jpg.rf.2fb3bb45ea6f44db832cc80c117e8672.xml  \n",
            "  inflating: cocoa_new/train/img_2530_JPG_jpg.rf.a6bd9742a73a9fc95bb5e8b6fb1ba332.jpg  \n",
            "  inflating: cocoa_new/train/img_1222_JPG_jpg.rf.dbcf255f11b6a764d26c8195cb62bd70.xml  \n",
            "  inflating: cocoa_new/train/img_2415_JPG_jpg.rf.136b090aed1c92f69a61829732c36c2a.xml  \n",
            "  inflating: cocoa_new/train/img_2834_JPG_jpg.rf.d7c577632e1b72e90a2cd4fffe675225.xml  \n",
            "  inflating: cocoa_new/train/img_1401_JPG_jpg.rf.6a86fba16d10f3d5cd5740255513de72.xml  \n",
            "  inflating: cocoa_new/train/img_2360_JPG_jpg.rf.83cf0726b5a29e625e41b1726d43c477.xml  \n",
            "  inflating: cocoa_new/train/img_1878_JPG_jpg.rf.6ce350b3c1c55ce17c829e27feb29f2b.jpg  \n",
            "  inflating: cocoa_new/train/img_367_JPG_jpg.rf.38975e571b022f970fab59f8bbb0c1f7.xml  \n",
            "  inflating: cocoa_new/train/img_3156_JPG_jpg.rf.242ae2710720d47d5546cba4d852ee77.jpg  \n",
            "  inflating: cocoa_new/train/img_2335_JPG_jpg.rf.1a5c43b39f6e19d38dfb45569f0b9033.jpg  \n",
            "  inflating: cocoa_new/train/img_863_JPG_jpg.rf.7dce64efc440bb88e9139d4fa7aba743.jpg  \n",
            "  inflating: cocoa_new/train/img_389_JPG_jpg.rf.4d5ed1e8cacf5fc80450188b4e428a80.jpg  \n",
            "  inflating: cocoa_new/train/img_3844_JPG_jpg.rf.3b796d7ffe42afc627f85346fa7ee4f6.jpg  \n",
            "  inflating: cocoa_new/train/img_3106_JPG_jpg.rf.44a0eea52955867c2395ce88d7d9240c.jpg  \n",
            "  inflating: cocoa_new/train/img_2542_JPG_jpg.rf.a0eaa0d72ed3bca87b316522b4571ef6.xml  \n",
            "  inflating: cocoa_new/train/img_3112_JPG_jpg.rf.ba77848f34470097f173dda1d4bbda60.xml  \n",
            "  inflating: cocoa_new/train/img_2335_JPG_jpg.rf.1a5c43b39f6e19d38dfb45569f0b9033.xml  \n",
            "  inflating: cocoa_new/train/img_863_JPG_jpg.rf.7dce64efc440bb88e9139d4fa7aba743.xml  \n",
            "  inflating: cocoa_new/train/img_3156_JPG_jpg.rf.242ae2710720d47d5546cba4d852ee77.xml  \n",
            "  inflating: cocoa_new/train/img_3112_JPG_jpg.rf.ba77848f34470097f173dda1d4bbda60.jpg  \n",
            "  inflating: cocoa_new/train/img_389_JPG_jpg.rf.4d5ed1e8cacf5fc80450188b4e428a80.xml  \n",
            "  inflating: cocoa_new/train/img_3844_JPG_jpg.rf.3b796d7ffe42afc627f85346fa7ee4f6.xml  \n",
            "  inflating: cocoa_new/train/img_3106_JPG_jpg.rf.44a0eea52955867c2395ce88d7d9240c.xml  \n",
            "  inflating: cocoa_new/train/img_2542_JPG_jpg.rf.a0eaa0d72ed3bca87b316522b4571ef6.jpg  \n",
            "  inflating: cocoa_new/train/img_2530_JPG_jpg.rf.a6bd9742a73a9fc95bb5e8b6fb1ba332.xml  \n",
            "  inflating: cocoa_new/train/img_1222_JPG_jpg.rf.dbcf255f11b6a764d26c8195cb62bd70.jpg  \n",
            "  inflating: cocoa_new/train/img_2415_JPG_jpg.rf.136b090aed1c92f69a61829732c36c2a.jpg  \n",
            "  inflating: cocoa_new/train/img_4056_JPG_jpg.rf.288433c8e6d928bab3764cab50300ae3.jpg  \n",
            "  inflating: cocoa_new/train/img_2812_JPG_jpg.rf.93bf17c4a42fc2e0ec2400df655a0fe5.xml  \n",
            "  inflating: cocoa_new/train/img_3849_JPG_jpg.rf.73c93ad89bf0ee6a37212c857e5a7db7.xml  \n",
            "  inflating: cocoa_new/train/img_727_JPG_jpg.rf.2fb3bb45ea6f44db832cc80c117e8672.jpg  \n",
            "  inflating: cocoa_new/train/img_2360_JPG_jpg.rf.83cf0726b5a29e625e41b1726d43c477.jpg  \n",
            "  inflating: cocoa_new/train/img_1878_JPG_jpg.rf.6ce350b3c1c55ce17c829e27feb29f2b.xml  \n",
            "  inflating: cocoa_new/train/img_367_JPG_jpg.rf.38975e571b022f970fab59f8bbb0c1f7.jpg  \n",
            "  inflating: cocoa_new/train/img_2834_JPG_jpg.rf.d7c577632e1b72e90a2cd4fffe675225.jpg  \n",
            "  inflating: cocoa_new/train/img_1401_JPG_jpg.rf.6a86fba16d10f3d5cd5740255513de72.jpg  \n",
            "  inflating: cocoa_new/train/img_431_JPG_jpg.rf.12e5fef0ee73eaa1ef8f21af5e64be8f.xml  \n",
            "  inflating: cocoa_new/train/img_391_JPG_jpg.rf.856831d3351d91dc7d7b12b8cca7efe1.xml  \n",
            "  inflating: cocoa_new/train/img_1883_JPG_jpg.rf.6f63ec360b7056689e03b08e8143f4a7.xml  \n",
            "  inflating: cocoa_new/train/img_572_JPG_jpg.rf.d55e3e4b28c14494c30b959104da4aae.xml  \n",
            "  inflating: cocoa_new/train/img_3719_JPG_jpg.rf.cff1af2d92ccec2ddcfc416b1863905b.xml  \n",
            "  inflating: cocoa_new/train/img_1969_JPG_jpg.rf.2eff8742eebaae286c9cbbba9c9a057b.xml  \n",
            "  inflating: cocoa_new/train/img_1463_JPG_jpg.rf.0087ad11bebeb853f4d289e9421fad19.jpg  \n",
            "  inflating: cocoa_new/train/img_3680_JPG_jpg.rf.b343072cf9ea50c134cf98bab5be4f23.jpg  \n",
            "  inflating: cocoa_new/train/img_113_JPG_jpg.rf.bfa85497c6866c3e966220d497dabfec.jpg  \n",
            "  inflating: cocoa_new/train/img_1712_JPG_jpg.rf.3bc9bb07cddabe0e5dc42d74bd7c0ff4.jpg  \n",
            "  inflating: cocoa_new/train/img_4097_JPG_jpg.rf.94fcd77a06cd2b4545fadcdf86aa53c6.jpg  \n",
            "  inflating: cocoa_new/train/img_1920_JPG_jpg.rf.b209112e3560bc9b65e9568dbdc9ccca.xml  \n",
            "  inflating: cocoa_new/train/img_444_JPG_jpg.rf.23d3b7f58106973de965e2ccf879e4b5.xml  \n",
            "  inflating: cocoa_new/train/img_3746_JPG_jpg.rf.4763955f84daafa2181d54c07c98b0bd.jpg  \n",
            "  inflating: cocoa_new/train/img_3549_JPG_jpg.rf.e83006a5ef23ea6e4dd9a3b1c605029f.jpg  \n",
            "  inflating: cocoa_new/train/img_3361_JPG_jpg.rf.6ceefa10ff396d5c942f00795be10b38.xml  \n",
            "  inflating: cocoa_new/train/img_1982_JPG_jpg.rf.d011efbb59cf409dadd38ec161eeefd2.xml  \n",
            "  inflating: cocoa_new/train/img_807_JPG_jpg.rf.a89482ff06d6179f64c869f2842c23ec.xml  \n",
            "  inflating: cocoa_new/train/img_444_JPG_jpg.rf.23d3b7f58106973de965e2ccf879e4b5.jpg  \n",
            "  inflating: cocoa_new/train/img_1920_JPG_jpg.rf.b209112e3560bc9b65e9568dbdc9ccca.jpg  \n",
            "  inflating: cocoa_new/train/img_1712_JPG_jpg.rf.3bc9bb07cddabe0e5dc42d74bd7c0ff4.xml  \n",
            "  inflating: cocoa_new/train/img_4097_JPG_jpg.rf.94fcd77a06cd2b4545fadcdf86aa53c6.xml  \n",
            "  inflating: cocoa_new/train/img_3746_JPG_jpg.rf.4763955f84daafa2181d54c07c98b0bd.xml  \n",
            "  inflating: cocoa_new/train/img_3361_JPG_jpg.rf.6ceefa10ff396d5c942f00795be10b38.jpg  \n",
            "  inflating: cocoa_new/train/img_3549_JPG_jpg.rf.e83006a5ef23ea6e4dd9a3b1c605029f.xml  \n",
            "  inflating: cocoa_new/train/img_1982_JPG_jpg.rf.d011efbb59cf409dadd38ec161eeefd2.jpg  \n",
            "  inflating: cocoa_new/train/img_807_JPG_jpg.rf.a89482ff06d6179f64c869f2842c23ec.jpg  \n",
            "  inflating: cocoa_new/train/img_391_JPG_jpg.rf.856831d3351d91dc7d7b12b8cca7efe1.jpg  \n",
            "  inflating: cocoa_new/train/img_572_JPG_jpg.rf.d55e3e4b28c14494c30b959104da4aae.jpg  \n",
            "  inflating: cocoa_new/train/img_1883_JPG_jpg.rf.6f63ec360b7056689e03b08e8143f4a7.jpg  \n",
            "  inflating: cocoa_new/train/img_431_JPG_jpg.rf.12e5fef0ee73eaa1ef8f21af5e64be8f.jpg  \n",
            "  inflating: cocoa_new/train/img_1463_JPG_jpg.rf.0087ad11bebeb853f4d289e9421fad19.xml  \n",
            "  inflating: cocoa_new/train/img_3680_JPG_jpg.rf.b343072cf9ea50c134cf98bab5be4f23.xml  \n",
            "  inflating: cocoa_new/train/img_113_JPG_jpg.rf.bfa85497c6866c3e966220d497dabfec.xml  \n",
            "  inflating: cocoa_new/train/img_3719_JPG_jpg.rf.cff1af2d92ccec2ddcfc416b1863905b.jpg  \n",
            "  inflating: cocoa_new/train/img_1969_JPG_jpg.rf.2eff8742eebaae286c9cbbba9c9a057b.jpg  \n",
            "  inflating: cocoa_new/train/img_779_JPG_jpg.rf.d00d5dc5b913126723811fe656888dfc.xml  \n",
            "  inflating: cocoa_new/train/img_2647_JPG_jpg.rf.7b14924f48a0f9518d2c964fa1def620.xml  \n",
            "  inflating: cocoa_new/train/img_553_JPG_jpg.rf.848d4b9d889437eb5b833696020e1b4a.xml  \n",
            "  inflating: cocoa_new/train/img_424_JPG_jpg.rf.02509fdfdd8630b4195abcce76975c10.xml  \n",
            "  inflating: cocoa_new/train/img_858_JPG_jpg.rf.6771891fee98b98601c3b8a89800f2d0.xml  \n",
            "  inflating: cocoa_new/train/img_1274_JPG_jpg.rf.7dd4f02a92200ea27216ba319864ae0c.xml  \n",
            "  inflating: cocoa_new/train/img_2614_JPG_jpg.rf.221c4200d9a047866729a79a87c6ce47.jpg  \n",
            "  inflating: cocoa_new/train/img_3856_JPG_jpg.rf.46eb8df03657c1379bf9ef19df86fd7d.jpg  \n",
            "  inflating: cocoa_new/train/img_3020_JPG_jpg.rf.f2494d3b418691e3ccce82b17bfc43f5.xml  \n",
            "  inflating: cocoa_new/train/img_475_JPG_jpg.rf.6443b2bc1581cb19abfa42aa81299827.xml  \n",
            "  inflating: cocoa_new/train/img_3387_JPG_jpg.rf.625d29ad445eee5d61216310ebb86788.jpg  \n",
            "  inflating: cocoa_new/train/img_904_JPG_jpg.rf.29186ccec6748f8643ab718c80922cff.jpg  \n",
            "  inflating: cocoa_new/train/img_1302_JPG_jpg.rf.19809ec2175656e3b63dcbcd5b8f871f.xml  \n",
            "  inflating: cocoa_new/train/img_3083_JPG_jpg.rf.e0b6ee6babe70030d18cf9a294acdd74.jpg  \n",
            "  inflating: cocoa_new/train/img_1159_JPG_jpg.rf.56a6cbf132cf5cd33ff0a8e8cc238e17.xml  \n",
            "  inflating: cocoa_new/train/img_1211_JPG_jpg.rf.67c3e8dd593cdaf9ed7a5226b48ab820.xml  \n",
            "  inflating: cocoa_new/train/img_2298_JPG_jpg.rf.5f667b54249ab21adda4d190f1ebc959.jpg  \n",
            "  inflating: cocoa_new/train/img_1263_JPG_jpg.rf.bd131fc5667d1b1b9b1bec9db33a9192.xml  \n",
            "  inflating: cocoa_new/train/img_4110_JPG_jpg.rf.ba34ffd953ac9f8f178a542a68199ff3.xml  \n",
            "  inflating: cocoa_new/train/img_1371_JPG_jpg.rf.9cfcfca4cc1874f6ed1c37fc2114a8e4.xml  \n",
            "  inflating: cocoa_new/train/img_904_JPG_jpg.rf.29186ccec6748f8643ab718c80922cff.xml  \n",
            "  inflating: cocoa_new/train/img_3083_JPG_jpg.rf.e0b6ee6babe70030d18cf9a294acdd74.xml  \n",
            "  inflating: cocoa_new/train/img_1159_JPG_jpg.rf.56a6cbf132cf5cd33ff0a8e8cc238e17.jpg  \n",
            "  inflating: cocoa_new/train/img_1302_JPG_jpg.rf.19809ec2175656e3b63dcbcd5b8f871f.jpg  \n",
            "  inflating: cocoa_new/train/img_1211_JPG_jpg.rf.67c3e8dd593cdaf9ed7a5226b48ab820.jpg  \n",
            "  inflating: cocoa_new/train/img_3856_JPG_jpg.rf.46eb8df03657c1379bf9ef19df86fd7d.xml  \n",
            "  inflating: cocoa_new/train/img_3020_JPG_jpg.rf.f2494d3b418691e3ccce82b17bfc43f5.jpg  \n",
            "  inflating: cocoa_new/train/img_475_JPG_jpg.rf.6443b2bc1581cb19abfa42aa81299827.jpg  \n",
            "  inflating: cocoa_new/train/img_3387_JPG_jpg.rf.625d29ad445eee5d61216310ebb86788.xml  \n",
            "  inflating: cocoa_new/train/img_4110_JPG_jpg.rf.ba34ffd953ac9f8f178a542a68199ff3.jpg  \n",
            "  inflating: cocoa_new/train/img_1263_JPG_jpg.rf.bd131fc5667d1b1b9b1bec9db33a9192.jpg  \n",
            "  inflating: cocoa_new/train/img_1371_JPG_jpg.rf.9cfcfca4cc1874f6ed1c37fc2114a8e4.jpg  \n",
            "  inflating: cocoa_new/train/img_2298_JPG_jpg.rf.5f667b54249ab21adda4d190f1ebc959.xml  \n",
            "  inflating: cocoa_new/train/img_2647_JPG_jpg.rf.7b14924f48a0f9518d2c964fa1def620.jpg  \n",
            "  inflating: cocoa_new/train/img_779_JPG_jpg.rf.d00d5dc5b913126723811fe656888dfc.jpg  \n",
            "  inflating: cocoa_new/train/img_858_JPG_jpg.rf.6771891fee98b98601c3b8a89800f2d0.jpg  \n",
            "  inflating: cocoa_new/train/img_1274_JPG_jpg.rf.7dd4f02a92200ea27216ba319864ae0c.jpg  \n",
            "  inflating: cocoa_new/train/img_2614_JPG_jpg.rf.221c4200d9a047866729a79a87c6ce47.xml  \n",
            "  inflating: cocoa_new/train/img_553_JPG_jpg.rf.848d4b9d889437eb5b833696020e1b4a.jpg  \n",
            "  inflating: cocoa_new/train/img_424_JPG_jpg.rf.02509fdfdd8630b4195abcce76975c10.jpg  \n",
            "  inflating: cocoa_new/train/img_670_JPG_jpg.rf.0e1d642f1e8d6ccd84ad36a4120945cd.xml  \n",
            "  inflating: cocoa_new/train/img_1223_JPG_jpg.rf.13f27a69b45583773588f9f244049215.jpg  \n",
            "  inflating: cocoa_new/train/img_3896_JPG_jpg.rf.bcf48b7d29de27ebf4db2be1ada83a0d.xml  \n",
            "  inflating: cocoa_new/train/img_2299_JPG_jpg.rf.6a6ea4a151cf0cda6a4af02578ae48e3.xml  \n",
            "  inflating: cocoa_new/train/img_3383_JPG_jpg.rf.ff0aec8781fe071b4e887ae79813c7d4.xml  \n",
            "  inflating: cocoa_new/train/img_3543_JPG_jpg.rf.a8837fc11fb8e058c70da13e70e748a6.jpg  \n",
            "  inflating: cocoa_new/train/img_3718_JPG_jpg.rf.0f076950339eb219c2e01c8502fddd04.jpg  \n",
            "  inflating: cocoa_new/train/img_1641_JPG_jpg.rf.3ebf28ef6fe5c1a0a234c6c544bffa9e.xml  \n",
            "  inflating: cocoa_new/train/img_3079_JPG_jpg.rf.2fa7a27f2c1847547cced9bcdee39648.jpg  \n",
            "  inflating: cocoa_new/train/img_3589_JPG_jpg.rf.d5460f6597e6a74fda90e14d690c718f.xml  \n",
            "  inflating: cocoa_new/train/img_3807_JPG_jpg.rf.b2f3aac354258592837181e09ed61139.xml  \n",
            "  inflating: cocoa_new/train/img_2483_JPG_jpg.rf.1e362a59d282eaa8129ffb962ed065b6.jpg  \n",
            "  inflating: cocoa_new/train/img_3864_JPG_jpg.rf.bb2ea4bd67174b0f40f936ababab2356.xml  \n",
            "  inflating: cocoa_new/train/img_3371_JPG_jpg.rf.f4f7dbb78b60ae5f4ce365747525f5f6.xml  \n",
            "  inflating: cocoa_new/train/img_3152_JPG_jpg.rf.3497271d12a6cb795c67e5585971ce6c.jpg  \n",
            "  inflating: cocoa_new/train/img_3826_JPG_jpg.rf.5ae3cf08692a787d3c6d0f8aec8ed070.jpg  \n",
            "  inflating: cocoa_new/train/img_1359_JPG_jpg.rf.94648429832b72d9133b9fcece5fc786.xml  \n",
            "  inflating: cocoa_new/train/img_3214_JPG_jpg.rf.6eb96cd596380002b9ccbf8ed6ecb821.xml  \n",
            "  inflating: cocoa_new/train/img_891_JPG_jpg.rf.647d6e98d000137b83b73dbfc0430735.xml  \n",
            "  inflating: cocoa_new/train/img_3859_JPG_jpg.rf.f929d2c0c2b7e70ea6cd666877a94b90.xml  \n",
            "  inflating: cocoa_new/train/img_2403_JPG_jpg.rf.6d7a371a07565b9a8ff2b8ce303f3f09.xml  \n",
            "  inflating: cocoa_new/train/img_1572_JPG_jpg.rf.49c2bba1f2113f7e503ea969445ca38f.xml  \n",
            "  inflating: cocoa_new/train/img_2992_JPG_jpg.rf.be3ea94f5617b3c4b6ab2f974d61e3e8.jpg  \n",
            "  inflating: cocoa_new/train/img_334_JPG_jpg.rf.ff2ad311d88b0bac0f73053e00061e5c.xml  \n",
            "  inflating: cocoa_new/train/img_4052_JPG_jpg.rf.1e6d182230bac3706b365ca888f55516.xml  \n",
            "  inflating: cocoa_new/train/img_1359_JPG_jpg.rf.94648429832b72d9133b9fcece5fc786.jpg  \n",
            "  inflating: cocoa_new/train/img_3214_JPG_jpg.rf.6eb96cd596380002b9ccbf8ed6ecb821.jpg  \n",
            "  inflating: cocoa_new/train/img_3371_JPG_jpg.rf.f4f7dbb78b60ae5f4ce365747525f5f6.jpg  \n",
            "  inflating: cocoa_new/train/img_3152_JPG_jpg.rf.3497271d12a6cb795c67e5585971ce6c.xml  \n",
            "  inflating: cocoa_new/train/img_3826_JPG_jpg.rf.5ae3cf08692a787d3c6d0f8aec8ed070.xml  \n",
            "  inflating: cocoa_new/train/img_2992_JPG_jpg.rf.be3ea94f5617b3c4b6ab2f974d61e3e8.xml  \n",
            "  inflating: cocoa_new/train/img_334_JPG_jpg.rf.ff2ad311d88b0bac0f73053e00061e5c.jpg  \n",
            "  inflating: cocoa_new/train/img_4052_JPG_jpg.rf.1e6d182230bac3706b365ca888f55516.jpg  \n",
            "  inflating: cocoa_new/train/img_891_JPG_jpg.rf.647d6e98d000137b83b73dbfc0430735.jpg  \n",
            "  inflating: cocoa_new/train/img_3859_JPG_jpg.rf.f929d2c0c2b7e70ea6cd666877a94b90.jpg  \n",
            "  inflating: cocoa_new/train/img_1572_JPG_jpg.rf.49c2bba1f2113f7e503ea969445ca38f.jpg  \n",
            "  inflating: cocoa_new/train/img_2403_JPG_jpg.rf.6d7a371a07565b9a8ff2b8ce303f3f09.jpg  \n",
            "  inflating: cocoa_new/train/img_3543_JPG_jpg.rf.a8837fc11fb8e058c70da13e70e748a6.xml  \n",
            "  inflating: cocoa_new/train/img_3718_JPG_jpg.rf.0f076950339eb219c2e01c8502fddd04.xml  \n",
            "  inflating: cocoa_new/train/img_1641_JPG_jpg.rf.3ebf28ef6fe5c1a0a234c6c544bffa9e.jpg  \n",
            "  inflating: cocoa_new/train/img_670_JPG_jpg.rf.0e1d642f1e8d6ccd84ad36a4120945cd.jpg  \n",
            "  inflating: cocoa_new/train/img_1223_JPG_jpg.rf.13f27a69b45583773588f9f244049215.xml  \n",
            "  inflating: cocoa_new/train/img_3896_JPG_jpg.rf.bcf48b7d29de27ebf4db2be1ada83a0d.jpg  \n",
            "  inflating: cocoa_new/train/img_2299_JPG_jpg.rf.6a6ea4a151cf0cda6a4af02578ae48e3.jpg  \n",
            "  inflating: cocoa_new/train/img_3383_JPG_jpg.rf.ff0aec8781fe071b4e887ae79813c7d4.jpg  \n",
            "  inflating: cocoa_new/train/img_3864_JPG_jpg.rf.bb2ea4bd67174b0f40f936ababab2356.jpg  \n",
            "  inflating: cocoa_new/train/img_3589_JPG_jpg.rf.d5460f6597e6a74fda90e14d690c718f.jpg  \n",
            "  inflating: cocoa_new/train/img_3079_JPG_jpg.rf.2fa7a27f2c1847547cced9bcdee39648.xml  \n",
            "  inflating: cocoa_new/train/img_3807_JPG_jpg.rf.b2f3aac354258592837181e09ed61139.jpg  \n",
            "  inflating: cocoa_new/train/img_2483_JPG_jpg.rf.1e362a59d282eaa8129ffb962ed065b6.xml  \n",
            "  inflating: cocoa_new/train/img_2312_JPG_jpg.rf.9cbc158a69e067ab6bd5eeb070546bb5.jpg  \n",
            "  inflating: cocoa_new/train/img_1445_JPG_jpg.rf.71a87451a521b1a1c60e4f1a09f0f5a4.jpg  \n",
            "  inflating: cocoa_new/train/img_3261_JPG_jpg.rf.d34056730ae287a68e5b6e09b9c07a92.jpg  \n",
            "  inflating: cocoa_new/train/img_3247_JPG_jpg.rf.7705c674e5a8e698ea9ff646bc90e65f.xml  \n",
            "  inflating: cocoa_new/train/img_1357_JPG_jpg.rf.1adba097b44d219834137c9df00bda1d.jpg  \n",
            "  inflating: cocoa_new/train/img_1580_JPG_jpg.rf.a5b721e044a114c22908a45c38d1845c.jpg  \n",
            "  inflating: cocoa_new/train/img_237_JPG_jpg.rf.828a45c71dfd0a4893edff596564b363.jpg  \n",
            "  inflating: cocoa_new/train/img_464_JPG_jpg.rf.9b1ddd7d7541e4736deb41c25ef913a0.xml  \n",
            "  inflating: cocoa_new/train/img_823_JPG_jpg.rf.59db6582fb2dca1f1c67eab5dc9da940.xml  \n",
            "  inflating: cocoa_new/train/img_612_JPG_jpg.rf.216ec46f168ba6a73cd1a18ae4e21515.xml  \n",
            "  inflating: cocoa_new/train/img_3225_JPG_jpg.rf.c0ff8267dc25e231584f7332dd7bc2f0.xml  \n",
            "  inflating: cocoa_new/train/img_893_JPG_jpg.rf.4d2a07ab2ac673517288ddf972dd02fb.jpg  \n",
            "  inflating: cocoa_new/train/img_3741_JPG_jpg.rf.0a8470150eb043c6fbc387b0d4f5dfe5.jpg  \n",
            "  inflating: cocoa_new/train/img_1564_JPG_jpg.rf.7638bff9fe26b589a82be5b40eea0fc6.xml  \n",
            "  inflating: cocoa_new/train/img_97_JPG_jpg.rf.d4fefb1c7a7e94aeed3dbc8274c50237.xml  \n",
            "  inflating: cocoa_new/train/img_829_JPG_jpg.rf.c45295c932437bbb0f77632601790709.jpg  \n",
            "  inflating: cocoa_new/train/img_1146_JPG_jpg.rf.90db094147de4a2e6827ef793a1e4eae.jpg  \n",
            "  inflating: cocoa_new/train/img_831_JPG_jpg.rf.ecd2b194ce65556ede7c7d0d213d87e2.jpg  \n",
            "  inflating: cocoa_new/train/img_893_JPG_jpg.rf.4d2a07ab2ac673517288ddf972dd02fb.xml  \n",
            "  inflating: cocoa_new/train/img_3741_JPG_jpg.rf.0a8470150eb043c6fbc387b0d4f5dfe5.xml  \n",
            "  inflating: cocoa_new/train/img_1564_JPG_jpg.rf.7638bff9fe26b589a82be5b40eea0fc6.jpg  \n",
            "  inflating: cocoa_new/train/img_823_JPG_jpg.rf.59db6582fb2dca1f1c67eab5dc9da940.jpg  \n",
            "  inflating: cocoa_new/train/img_612_JPG_jpg.rf.216ec46f168ba6a73cd1a18ae4e21515.jpg  \n",
            "  inflating: cocoa_new/train/img_3225_JPG_jpg.rf.c0ff8267dc25e231584f7332dd7bc2f0.jpg  \n",
            "  inflating: cocoa_new/train/img_1146_JPG_jpg.rf.90db094147de4a2e6827ef793a1e4eae.xml  \n",
            "  inflating: cocoa_new/train/img_831_JPG_jpg.rf.ecd2b194ce65556ede7c7d0d213d87e2.xml  \n",
            "  inflating: cocoa_new/train/img_829_JPG_jpg.rf.c45295c932437bbb0f77632601790709.xml  \n",
            "  inflating: cocoa_new/train/img_97_JPG_jpg.rf.d4fefb1c7a7e94aeed3dbc8274c50237.jpg  \n",
            "  inflating: cocoa_new/train/img_3247_JPG_jpg.rf.7705c674e5a8e698ea9ff646bc90e65f.jpg  \n",
            "  inflating: cocoa_new/train/img_3261_JPG_jpg.rf.d34056730ae287a68e5b6e09b9c07a92.xml  \n",
            "  inflating: cocoa_new/train/img_1357_JPG_jpg.rf.1adba097b44d219834137c9df00bda1d.xml  \n",
            "  inflating: cocoa_new/train/img_2312_JPG_jpg.rf.9cbc158a69e067ab6bd5eeb070546bb5.xml  \n",
            "  inflating: cocoa_new/train/img_1445_JPG_jpg.rf.71a87451a521b1a1c60e4f1a09f0f5a4.xml  \n",
            "  inflating: cocoa_new/train/img_237_JPG_jpg.rf.828a45c71dfd0a4893edff596564b363.xml  \n",
            "  inflating: cocoa_new/train/img_464_JPG_jpg.rf.9b1ddd7d7541e4736deb41c25ef913a0.jpg  \n",
            "  inflating: cocoa_new/train/img_1580_JPG_jpg.rf.a5b721e044a114c22908a45c38d1845c.xml  \n",
            "  inflating: cocoa_new/train/img_2993_JPG_jpg.rf.ae1df3536216f99d58318f3d47202f60.jpg  \n",
            "  inflating: cocoa_new/train/img_3295_JPG_jpg.rf.1e7654fe33fbc05f2975149d7425a515.jpg  \n",
            "  inflating: cocoa_new/train/img_1403_JPG_jpg.rf.a8b449da29bf724e1329f5317f86dc97.xml  \n",
            "  inflating: cocoa_new/train/img_3405_JPG_jpg.rf.122ca1bd6c247912d4865cc8cdb55074.xml  \n",
            "  inflating: cocoa_new/train/img_3263_JPG_jpg.rf.a085b1b5f894cdf097d101c24c3378c1.jpg  \n",
            "  inflating: cocoa_new/train/img_231_JPG_jpg.rf.9215d8a2593fc58769f8471814965576.xml  \n",
            "  inflating: cocoa_new/train/img_1925_JPG_jpg.rf.5241810e3afc289a2bd0ccf34739655e.xml  \n",
            "  inflating: cocoa_new/train/img_850_JPG_jpg.rf.53e7a405cd6663a50c61877886fe55ce.xml  \n",
            "  inflating: cocoa_new/train/img_186_JPG_jpg.rf.6a436be87a1687989a18e5ff02c2a945.xml  \n",
            "  inflating: cocoa_new/train/img_3693_JPG_jpg.rf.898c97e067f76c29014943088ba47c4b.jpg  \n",
            "  inflating: cocoa_new/train/img_1252_JPG_jpg.rf.a6ac49b427b8a7a5ce0be6219bfbfe4d.xml  \n",
            "  inflating: cocoa_new/train/img_866_JPG_jpg.rf.9ac07982c275d875d474ad63efea1088.jpg  \n",
            "  inflating: cocoa_new/train/img_2569_JPG_jpg.rf.a4a19dba9e5690cab9439d7c3d12f83c.jpg  \n",
            "  inflating: cocoa_new/train/img_355_JPG_jpg.rf.5592823fc5192c1810c5f2e54efd2fd0.xml  \n",
            "  inflating: cocoa_new/train/img_3138_JPG_jpg.rf.d42b23b7698bfcc8967bd132233c4ee6.xml  \n",
            "  inflating: cocoa_new/train/img_842_JPG_jpg.rf.2910f088fa779d9f0854a4217fa96737.jpg  \n",
            "  inflating: cocoa_new/train/img_3693_JPG_jpg.rf.898c97e067f76c29014943088ba47c4b.xml  \n",
            "  inflating: cocoa_new/train/img_186_JPG_jpg.rf.6a436be87a1687989a18e5ff02c2a945.jpg  \n",
            "  inflating: cocoa_new/train/img_1252_JPG_jpg.rf.a6ac49b427b8a7a5ce0be6219bfbfe4d.jpg  \n",
            "  inflating: cocoa_new/train/img_866_JPG_jpg.rf.9ac07982c275d875d474ad63efea1088.xml  \n",
            "  inflating: cocoa_new/train/img_1925_JPG_jpg.rf.5241810e3afc289a2bd0ccf34739655e.jpg  \n",
            "  inflating: cocoa_new/train/img_850_JPG_jpg.rf.53e7a405cd6663a50c61877886fe55ce.jpg  \n",
            "  inflating: cocoa_new/train/img_3138_JPG_jpg.rf.d42b23b7698bfcc8967bd132233c4ee6.jpg  \n",
            "  inflating: cocoa_new/train/img_842_JPG_jpg.rf.2910f088fa779d9f0854a4217fa96737.xml  \n",
            "  inflating: cocoa_new/train/img_2569_JPG_jpg.rf.a4a19dba9e5690cab9439d7c3d12f83c.xml  \n",
            "  inflating: cocoa_new/train/img_355_JPG_jpg.rf.5592823fc5192c1810c5f2e54efd2fd0.jpg  \n",
            "  inflating: cocoa_new/train/img_3405_JPG_jpg.rf.122ca1bd6c247912d4865cc8cdb55074.jpg  \n",
            "  inflating: cocoa_new/train/img_3263_JPG_jpg.rf.a085b1b5f894cdf097d101c24c3378c1.xml  \n",
            "  inflating: cocoa_new/train/img_2993_JPG_jpg.rf.ae1df3536216f99d58318f3d47202f60.xml  \n",
            "  inflating: cocoa_new/train/img_3295_JPG_jpg.rf.1e7654fe33fbc05f2975149d7425a515.xml  \n",
            "  inflating: cocoa_new/train/img_1403_JPG_jpg.rf.a8b449da29bf724e1329f5317f86dc97.jpg  \n",
            "  inflating: cocoa_new/train/img_231_JPG_jpg.rf.9215d8a2593fc58769f8471814965576.jpg  \n",
            "  inflating: cocoa_new/train/img_3357_JPG_jpg.rf.e8dc8c6e1e2217c5e9bb0e633d13a149.jpg  \n",
            "  inflating: cocoa_new/train/img_3474_JPG_jpg.rf.f87f69ef6ab2d217bfdcfd2362e82b0f.jpg  \n",
            "  inflating: cocoa_new/train/img_3208_JPG_jpg.rf.b87bd28b50044a688269eb0f8272d9c8.jpg  \n",
            "  inflating: cocoa_new/train/img_3057_JPG_jpg.rf.e2d21a0fe652a22d677ab60fa5bdb234.xml  \n",
            "  inflating: cocoa_new/train/img_89_JPG_jpg.rf.447563d2b89ed52583dad01902dbc7d1.xml  \n",
            "  inflating: cocoa_new/train/img_3509_JPG_jpg.rf.f399572ce65502bec7948d60d7d9f9b0.xml  \n",
            "  inflating: cocoa_new/train/img_1451_JPG_jpg.rf.6670598a071908510d566c5ef1aabfc7.xml  \n",
            "  inflating: cocoa_new/train/img_765_JPG_jpg.rf.53227eb10a4f6065d57c04fa82e4e681.jpg  \n",
            "  inflating: cocoa_new/train/img_1547_JPG_jpg.rf.85a3ee926f6984e5d00ae699ce99f9c4.xml  \n",
            "  inflating: cocoa_new/train/img_3633_JPG_jpg.rf.65af5c81cb5509e2d901a2f0c4e5e009.jpg  \n",
            "  inflating: cocoa_new/train/img_317_JPG_jpg.rf.9f8d3042a39fc722058fb91d6e16f162.xml  \n",
            "  inflating: cocoa_new/train/img_582_JPG_jpg.rf.48192a2cd20349298e27113093f5d8a2.jpg  \n",
            "  inflating: cocoa_new/train/img_2919_JPG_jpg.rf.1bd635d358d0707aa7e0e9a22da4e2cc.xml  \n",
            "  inflating: cocoa_new/train/img_4049_JPG_jpg.rf.c83f89415454249eb08dbfc7ec4af552.xml  \n",
            "  inflating: cocoa_new/train/img_187_JPG_jpg.rf.08ec6c5b6f1a611909ae4b05f89feaaa.jpg  \n",
            "  inflating: cocoa_new/train/img_2524_JPG_jpg.rf.d4c92accccab39680c9cf184e76a4cf4.jpg  \n",
            "  inflating: cocoa_new/train/img_722_JPG_jpg.rf.bfcae5cbe5c4d6a7329cd305cf34f614.jpg  \n",
            "  inflating: cocoa_new/train/img_3733_JPG_jpg.rf.408e2d57dda1c1bcc73faccd77912616.jpg  \n",
            "  inflating: cocoa_new/train/img_3798_JPG_jpg.rf.d757a5e5c53ab18ec09a04f7e2fa3459.xml  \n",
            "  inflating: cocoa_new/train/img_582_JPG_jpg.rf.48192a2cd20349298e27113093f5d8a2.xml  \n",
            "  inflating: cocoa_new/train/img_2919_JPG_jpg.rf.1bd635d358d0707aa7e0e9a22da4e2cc.jpg  \n",
            "  inflating: cocoa_new/train/img_4049_JPG_jpg.rf.c83f89415454249eb08dbfc7ec4af552.jpg  \n",
            "  inflating: cocoa_new/train/img_3733_JPG_jpg.rf.408e2d57dda1c1bcc73faccd77912616.xml  \n",
            "  inflating: cocoa_new/train/img_3798_JPG_jpg.rf.d757a5e5c53ab18ec09a04f7e2fa3459.jpg  \n",
            "  inflating: cocoa_new/train/img_187_JPG_jpg.rf.08ec6c5b6f1a611909ae4b05f89feaaa.xml  \n",
            "  inflating: cocoa_new/train/img_2524_JPG_jpg.rf.d4c92accccab39680c9cf184e76a4cf4.xml  \n",
            "  inflating: cocoa_new/train/img_722_JPG_jpg.rf.bfcae5cbe5c4d6a7329cd305cf34f614.xml  \n",
            "  inflating: cocoa_new/train/img_3474_JPG_jpg.rf.f87f69ef6ab2d217bfdcfd2362e82b0f.xml  \n",
            "  inflating: cocoa_new/train/img_3208_JPG_jpg.rf.b87bd28b50044a688269eb0f8272d9c8.xml  \n",
            "  inflating: cocoa_new/train/img_3357_JPG_jpg.rf.e8dc8c6e1e2217c5e9bb0e633d13a149.xml  \n",
            "  inflating: cocoa_new/train/img_765_JPG_jpg.rf.53227eb10a4f6065d57c04fa82e4e681.xml  \n",
            "  inflating: cocoa_new/train/img_1547_JPG_jpg.rf.85a3ee926f6984e5d00ae699ce99f9c4.jpg  \n",
            "  inflating: cocoa_new/train/img_3633_JPG_jpg.rf.65af5c81cb5509e2d901a2f0c4e5e009.xml  \n",
            "  inflating: cocoa_new/train/img_317_JPG_jpg.rf.9f8d3042a39fc722058fb91d6e16f162.jpg  \n",
            "  inflating: cocoa_new/train/img_3057_JPG_jpg.rf.e2d21a0fe652a22d677ab60fa5bdb234.jpg  \n",
            "  inflating: cocoa_new/train/img_3509_JPG_jpg.rf.f399572ce65502bec7948d60d7d9f9b0.jpg  \n",
            "  inflating: cocoa_new/train/img_1451_JPG_jpg.rf.6670598a071908510d566c5ef1aabfc7.jpg  \n",
            "  inflating: cocoa_new/train/img_89_JPG_jpg.rf.447563d2b89ed52583dad01902dbc7d1.jpg  \n",
            "  inflating: cocoa_new/train/img_182_JPG_jpg.rf.fdc07ebec4b680909cc57ecaa93fd2a4.xml  \n",
            "  inflating: cocoa_new/train/img_4016_JPG_jpg.rf.93d2777d03902dcd00c55e46fb0ec7b1.jpg  \n",
            "  inflating: cocoa_new/train/img_357_JPG_jpg.rf.40dc060a8112e0172adf0b3ccdca6e34.xml  \n",
            "  inflating: cocoa_new/train/img_1585_JPG_jpg.rf.8caa3112aa8ea8c2071e32cbc7b62484.jpg  \n",
            "  inflating: cocoa_new/train/img_1648_JPG_jpg.rf.79fcac42d86082e2c34825282fac1817.jpg  \n",
            "  inflating: cocoa_new/train/img_178_JPG_jpg.rf.62e81c1b21a88df3f11c363276cda480.xml  \n",
            "  inflating: cocoa_new/train/img_3426_JPG_jpg.rf.ed262a6de2e95da233b4280714f9572d.xml  \n",
            "  inflating: cocoa_new/train/img_531_JPG_jpg.rf.5067da1196c3bbc67a66bf132e21bf49.jpg  \n",
            "  inflating: cocoa_new/train/img_2853_JPG_jpg.rf.8e8a3da3d1f36bca0e02fa21e00782e0.xml  \n",
            "  inflating: cocoa_new/train/img_3220_JPG_jpg.rf.5827199a3464ef81ba3672ea1a67869b.xml  \n",
            "  inflating: cocoa_new/train/img_4142_JPG_jpg.rf.e1983f7a8659ac9e976cba46408abc3b.jpg  \n",
            "  inflating: cocoa_new/train/img_2826_JPG_jpg.rf.157514964e59a065a2a3cffdbc69619c.jpg  \n",
            "  inflating: cocoa_new/train/img_4018_JPG_jpg.rf.3049084e257a548d77e2de0a985d377f.jpg  \n",
            "  inflating: cocoa_new/train/img_673_JPG_jpg.rf.e6ca35ef316b9489cd84ac4b725284fd.xml  \n",
            "  inflating: cocoa_new/train/img_2942_JPG_jpg.rf.e49cada3f2d9ac95ba326419c68546e5.jpg  \n",
            "  inflating: cocoa_new/train/img_3892_JPG_jpg.rf.21a28114141fa9df48b78046f93cc7e5.jpg  \n",
            "  inflating: cocoa_new/train/img_31_JPG_jpg.rf.7103362a77c37eb8e891521fd8bd3db5.jpg  \n",
            "  inflating: cocoa_new/train/img_2581_JPG_jpg.rf.24cd1b9b8a59820f4e00f7f3e6fad4a1.xml  \n",
            "  inflating: cocoa_new/train/img_166_JPG_jpg.rf.84650b89c4b3b134008451320612e844.jpg  \n",
            "  inflating: cocoa_new/train/img_917_JPG_jpg.rf.2db7dd64471fb87b38c4e869f65f406d.jpg  \n",
            "  inflating: cocoa_new/train/img_4115_JPG_jpg.rf.b5f9e4d9cb258bb419ff370f58c5151a.jpg  \n",
            "  inflating: cocoa_new/train/img_33_JPG_jpg.rf.53c70c59ce082af244f0145bbff44720.jpg  \n",
            "  inflating: cocoa_new/train/img_2616_JPG_jpg.rf.cb3196ff9c41dea0b4f0d01f1e61a15a.jpg  \n",
            "  inflating: cocoa_new/train/img_2404_JPG_jpg.rf.bcf26fb144d22bda9dcad6ffd0840f2b.xml  \n",
            "  inflating: cocoa_new/train/img_166_JPG_jpg.rf.84650b89c4b3b134008451320612e844.xml  \n",
            "  inflating: cocoa_new/train/img_2581_JPG_jpg.rf.24cd1b9b8a59820f4e00f7f3e6fad4a1.jpg  \n",
            "  inflating: cocoa_new/train/img_4115_JPG_jpg.rf.b5f9e4d9cb258bb419ff370f58c5151a.xml  \n",
            "  inflating: cocoa_new/train/img_917_JPG_jpg.rf.2db7dd64471fb87b38c4e869f65f406d.xml  \n",
            "  inflating: cocoa_new/train/img_33_JPG_jpg.rf.53c70c59ce082af244f0145bbff44720.xml  \n",
            "  inflating: cocoa_new/train/img_2616_JPG_jpg.rf.cb3196ff9c41dea0b4f0d01f1e61a15a.xml  \n",
            "  inflating: cocoa_new/train/img_2404_JPG_jpg.rf.bcf26fb144d22bda9dcad6ffd0840f2b.jpg  \n",
            "  inflating: cocoa_new/train/img_531_JPG_jpg.rf.5067da1196c3bbc67a66bf132e21bf49.xml  \n",
            "  inflating: cocoa_new/train/img_2853_JPG_jpg.rf.8e8a3da3d1f36bca0e02fa21e00782e0.jpg  \n",
            "  inflating: cocoa_new/train/img_3220_JPG_jpg.rf.5827199a3464ef81ba3672ea1a67869b.jpg  \n",
            "  inflating: cocoa_new/train/img_4142_JPG_jpg.rf.e1983f7a8659ac9e976cba46408abc3b.xml  \n",
            "  inflating: cocoa_new/train/img_2826_JPG_jpg.rf.157514964e59a065a2a3cffdbc69619c.xml  \n",
            "  inflating: cocoa_new/train/img_4018_JPG_jpg.rf.3049084e257a548d77e2de0a985d377f.xml  \n",
            "  inflating: cocoa_new/train/img_182_JPG_jpg.rf.fdc07ebec4b680909cc57ecaa93fd2a4.jpg  \n",
            "  inflating: cocoa_new/train/img_357_JPG_jpg.rf.40dc060a8112e0172adf0b3ccdca6e34.jpg  \n",
            "  inflating: cocoa_new/train/img_1585_JPG_jpg.rf.8caa3112aa8ea8c2071e32cbc7b62484.xml  \n",
            "  inflating: cocoa_new/train/img_4016_JPG_jpg.rf.93d2777d03902dcd00c55e46fb0ec7b1.xml  \n",
            "  inflating: cocoa_new/train/img_1648_JPG_jpg.rf.79fcac42d86082e2c34825282fac1817.xml  \n",
            "  inflating: cocoa_new/train/img_178_JPG_jpg.rf.62e81c1b21a88df3f11c363276cda480.jpg  \n",
            "  inflating: cocoa_new/train/img_3426_JPG_jpg.rf.ed262a6de2e95da233b4280714f9572d.jpg  \n",
            "  inflating: cocoa_new/train/img_31_JPG_jpg.rf.7103362a77c37eb8e891521fd8bd3db5.xml  \n",
            "  inflating: cocoa_new/train/img_2942_JPG_jpg.rf.e49cada3f2d9ac95ba326419c68546e5.xml  \n",
            "  inflating: cocoa_new/train/img_3892_JPG_jpg.rf.21a28114141fa9df48b78046f93cc7e5.xml  \n",
            "  inflating: cocoa_new/train/img_673_JPG_jpg.rf.e6ca35ef316b9489cd84ac4b725284fd.jpg  \n"
          ]
        }
      ],
      "source": [
        "! wget https://storage.googleapis.com/air-lab-hackathon/Cocoa/cocoa_new.zip\n",
        "! rm -rf sample_data\n",
        "! unzip cocoa_new.zip\n",
        "! rm cocoa_new.zip\n",
        "! rm -rf __MACOSX"
      ]
    },
    {
      "cell_type": "code",
      "execution_count": 7,
      "metadata": {
        "id": "4sXPebDV5IdA",
        "colab": {
          "base_uri": "https://localhost:8080/"
        },
        "outputId": "8ace4b15-74a8-47ce-dcca-8bbd85627413"
      },
      "outputs": [
        {
          "output_type": "execute_result",
          "data": {
            "text/plain": [
              "{'Spoit': 0, 'Immature': 1, 'Mature_Unripe': 2, 'Ripped': 3}"
            ]
          },
          "metadata": {},
          "execution_count": 7
        }
      ],
      "source": [
        "data_dir   = 'cocoa_new/train/'\n",
        "data_dir   = pathlib.Path(data_dir).with_suffix('')\n",
        "image_list = list(data_dir.glob('*.jpg'))\n",
        "label_data = pd.read_csv('cocoa_new/train/label_map.csv')\n",
        "\n",
        "def extract_bounding_boxes_norm(data_f, img_name):\n",
        "  return data_f[data_f['Image id']==img_name][['xmin_norm', 'ymin_norm', 'xmax_norm', 'ymax_norm', 'Actual Label']].values\n",
        "\n",
        "def extract_bounding_boxes(df, img_id):\n",
        "  return df[df['Image id']==img_id][['xmin', 'ymin', 'xmax', 'ymax', 'Actual Label']].values\n",
        "\n",
        "def generate_yolo_label(df, img_id, save_dir = 'yolo-data/base/labels/'):\n",
        "  ext_boxes = extract_bounding_boxes_norm(df, img_id)\n",
        "  img_width, img_height = (640,640)\n",
        "  with open(save_dir+img_id[:-3]+'txt', 'w') as l_file:\n",
        "    for b in ext_boxes:\n",
        "      x1, y1, x2, y2, img_label =  b\n",
        "      xc = x1+ (x2-x1)/2\n",
        "      yc  = y1+ (y2-y1)/2\n",
        "      l_file.write(f'{cocoa_label_map[img_label]} {x1:.6f} {y1:.6f} {xc:.6f} {yc:.6f}\\n')\n",
        "\n",
        "for d in ['base', 'train', 'val']:\n",
        "  os.makedirs(f'yolo-data/{d}/images', exist_ok=True)\n",
        "  os.makedirs(f'yolo-data/{d}/labels', exist_ok=True)\n",
        "labels = label_data['Actual Label'].unique()\n",
        "cocoa_label_map = {val:idx[0] for  idx, val in np.ndenumerate(labels)}\n",
        "\n",
        "for i in image_list:\n",
        "  generate_yolo_label(label_data, os.path.basename(i))\n",
        "\n",
        "cocoa_label_map"
      ]
    },
    {
      "cell_type": "code",
      "execution_count": 8,
      "metadata": {
        "id": "J9BdHsCvi-EG",
        "colab": {
          "base_uri": "https://localhost:8080/"
        },
        "outputId": "8342be61-a30d-4fd0-ebed-95e1f6769df2"
      },
      "outputs": [
        {
          "output_type": "stream",
          "name": "stdout",
          "text": [
            "Found 2274 files.\n",
            "Train has 2046 samples\n",
            "Val has 228 samples\n"
          ]
        }
      ],
      "source": [
        "base_labels = glob.glob('yolo-data/base/labels/*.txt')\n",
        "print(f'Found {len(base_labels)} files.')\n",
        "train, val = train_test_split(base_labels, test_size=0.1, random_state=42)\n",
        "print(f'Train has {len(train)} samples')\n",
        "print(f'Val has {len(val)} samples')"
      ]
    },
    {
      "cell_type": "code",
      "execution_count": 9,
      "metadata": {
        "id": "FMeRSx-Jr82T"
      },
      "outputs": [],
      "source": [
        "for f in train:\n",
        "  i_name = os.path.basename(f)[:-3]+'jpg'\n",
        "  shutil.copyfile(f, 'yolo-data/train/labels/'+os.path.basename(f))\n",
        "  shutil.copyfile('cocoa_new/train/'+i_name, 'yolo-data/train/images/'+i_name)\n",
        "\n",
        "for f in val:\n",
        "  i_name = os.path.basename(f)[:-3]+'jpg'\n",
        "  shutil.copyfile(f, 'yolo-data/val/labels/'+os.path.basename(f))\n",
        "  shutil.copyfile('cocoa_new/train/'+i_name, 'yolo-data/val/images/'+i_name)"
      ]
    },
    {
      "cell_type": "code",
      "execution_count": 10,
      "metadata": {
        "id": "dpTFQmWBvigD"
      },
      "outputs": [],
      "source": [
        "yaml_dict = {\n",
        "    'path': '/content/yolo-data',\n",
        "    'train': 'train/images',\n",
        "    'val': 'val/images',\n",
        "    'names': {idx[0]: val for  idx, val in np.ndenumerate(labels)}\n",
        "\n",
        "}\n",
        "\n",
        "with open('data_config.yaml', 'w+') as yml_file:\n",
        "    yaml.dump(yaml_dict, yml_file)"
      ]
    },
    {
      "cell_type": "code",
      "execution_count": 12,
      "metadata": {
        "colab": {
          "base_uri": "https://localhost:8080/",
          "height": 1000
        },
        "collapsed": true,
        "id": "RJ7A8js-70IQ",
        "scrolled": true,
        "outputId": "b7dfebe9-4757-4673-e34a-26a2cee7e98c"
      },
      "outputs": [
        {
          "output_type": "stream",
          "name": "stdout",
          "text": [
            "Ultralytics YOLOv8.2.21 🚀 Python-3.10.12 torch-2.3.0+cu121 CUDA:0 (NVIDIA L4, 22700MiB)\n",
            "\u001b[34m\u001b[1mengine/trainer: \u001b[0mtask=detect, mode=train, model=yolov8n.pt, data=/content/data_config.yaml, epochs=300, time=None, patience=0, batch=96, imgsz=640, save=True, save_period=-1, cache=True, device=None, workers=8, project=cocoa-training, name=exp_v1.1, exist_ok=False, pretrained=True, optimizer=SGD, verbose=True, seed=0, deterministic=True, single_cls=False, rect=False, cos_lr=True, close_mosaic=10, resume=False, amp=True, fraction=1.0, profile=False, freeze=None, multi_scale=False, overlap_mask=True, mask_ratio=4, dropout=0.4, val=True, split=val, save_json=False, save_hybrid=False, conf=None, iou=0.7, max_det=300, half=False, dnn=False, plots=True, source=None, vid_stride=1, stream_buffer=False, visualize=False, augment=False, agnostic_nms=False, classes=None, retina_masks=False, embed=None, show=False, save_frames=False, save_txt=False, save_conf=False, save_crop=False, show_labels=True, show_conf=True, show_boxes=True, line_width=None, format=torchscript, keras=False, optimize=False, int8=False, dynamic=False, simplify=False, opset=None, workspace=4, nms=False, lr0=0.01, lrf=0.01, momentum=0.937, weight_decay=0.0005, warmup_epochs=3.0, warmup_momentum=0.8, warmup_bias_lr=0.1, box=7.5, cls=0.5, dfl=1.5, pose=12.0, kobj=1.0, label_smoothing=0.0, nbs=64, hsv_h=0.015, hsv_s=0.7, hsv_v=0.4, degrees=0.0, translate=0.1, scale=0.5, shear=0.0, perspective=0.0, flipud=0.0, fliplr=0.5, bgr=0.0, mosaic=1.0, mixup=0.0, copy_paste=0.0, auto_augment=randaugment, erasing=0.4, crop_fraction=1.0, cfg=None, tracker=botsort.yaml, save_dir=cocoa-training/exp_v1.1\n",
            "Downloading https://ultralytics.com/assets/Arial.ttf to '/root/.config/Ultralytics/Arial.ttf'...\n"
          ]
        },
        {
          "output_type": "stream",
          "name": "stderr",
          "text": [
            "100%|██████████| 755k/755k [00:00<00:00, 19.4MB/s]\n"
          ]
        },
        {
          "output_type": "stream",
          "name": "stdout",
          "text": [
            "Overriding model.yaml nc=80 with nc=4\n",
            "\n",
            "                   from  n    params  module                                       arguments                     \n",
            "  0                  -1  1       464  ultralytics.nn.modules.conv.Conv             [3, 16, 3, 2]                 \n",
            "  1                  -1  1      4672  ultralytics.nn.modules.conv.Conv             [16, 32, 3, 2]                \n",
            "  2                  -1  1      7360  ultralytics.nn.modules.block.C2f             [32, 32, 1, True]             \n",
            "  3                  -1  1     18560  ultralytics.nn.modules.conv.Conv             [32, 64, 3, 2]                \n",
            "  4                  -1  2     49664  ultralytics.nn.modules.block.C2f             [64, 64, 2, True]             \n",
            "  5                  -1  1     73984  ultralytics.nn.modules.conv.Conv             [64, 128, 3, 2]               \n",
            "  6                  -1  2    197632  ultralytics.nn.modules.block.C2f             [128, 128, 2, True]           \n",
            "  7                  -1  1    295424  ultralytics.nn.modules.conv.Conv             [128, 256, 3, 2]              \n",
            "  8                  -1  1    460288  ultralytics.nn.modules.block.C2f             [256, 256, 1, True]           \n",
            "  9                  -1  1    164608  ultralytics.nn.modules.block.SPPF            [256, 256, 5]                 \n",
            " 10                  -1  1         0  torch.nn.modules.upsampling.Upsample         [None, 2, 'nearest']          \n",
            " 11             [-1, 6]  1         0  ultralytics.nn.modules.conv.Concat           [1]                           \n",
            " 12                  -1  1    148224  ultralytics.nn.modules.block.C2f             [384, 128, 1]                 \n",
            " 13                  -1  1         0  torch.nn.modules.upsampling.Upsample         [None, 2, 'nearest']          \n",
            " 14             [-1, 4]  1         0  ultralytics.nn.modules.conv.Concat           [1]                           \n",
            " 15                  -1  1     37248  ultralytics.nn.modules.block.C2f             [192, 64, 1]                  \n",
            " 16                  -1  1     36992  ultralytics.nn.modules.conv.Conv             [64, 64, 3, 2]                \n",
            " 17            [-1, 12]  1         0  ultralytics.nn.modules.conv.Concat           [1]                           \n",
            " 18                  -1  1    123648  ultralytics.nn.modules.block.C2f             [192, 128, 1]                 \n",
            " 19                  -1  1    147712  ultralytics.nn.modules.conv.Conv             [128, 128, 3, 2]              \n",
            " 20             [-1, 9]  1         0  ultralytics.nn.modules.conv.Concat           [1]                           \n",
            " 21                  -1  1    493056  ultralytics.nn.modules.block.C2f             [384, 256, 1]                 \n",
            " 22        [15, 18, 21]  1    752092  ultralytics.nn.modules.head.Detect           [4, [64, 128, 256]]           \n",
            "Model summary: 225 layers, 3011628 parameters, 3011612 gradients, 8.2 GFLOPs\n",
            "\n",
            "Transferred 319/355 items from pretrained weights\n",
            "\u001b[34m\u001b[1mTensorBoard: \u001b[0mStart with 'tensorboard --logdir cocoa-training/exp_v1.1', view at http://localhost:6006/\n",
            "Freezing layer 'model.22.dfl.conv.weight'\n",
            "\u001b[34m\u001b[1mAMP: \u001b[0mrunning Automatic Mixed Precision (AMP) checks with YOLOv8n...\n"
          ]
        },
        {
          "output_type": "stream",
          "name": "stderr",
          "text": [
            "/usr/local/lib/python3.10/dist-packages/torch/nn/modules/conv.py:456: UserWarning: Plan failed with a cudnnException: CUDNN_BACKEND_EXECUTION_PLAN_DESCRIPTOR: cudnnFinalize Descriptor Failed cudnn_status: CUDNN_STATUS_NOT_SUPPORTED (Triggered internally at ../aten/src/ATen/native/cudnn/Conv_v8.cpp:919.)\n",
            "  return F.conv2d(input, weight, bias, self.stride,\n"
          ]
        },
        {
          "output_type": "stream",
          "name": "stdout",
          "text": [
            "\u001b[34m\u001b[1mAMP: \u001b[0mchecks passed ✅\n"
          ]
        },
        {
          "output_type": "stream",
          "name": "stderr",
          "text": [
            "\u001b[34m\u001b[1mtrain: \u001b[0mScanning /content/yolo-data/train/labels... 2046 images, 11 backgrounds, 0 corrupt: 100%|██████████| 2046/2046 [00:01<00:00, 1378.35it/s]"
          ]
        },
        {
          "output_type": "stream",
          "name": "stdout",
          "text": [
            "\u001b[34m\u001b[1mtrain: \u001b[0mNew cache created: /content/yolo-data/train/labels.cache\n"
          ]
        },
        {
          "output_type": "stream",
          "name": "stderr",
          "text": [
            "\n",
            "\u001b[34m\u001b[1mtrain: \u001b[0mCaching images (2.3GB RAM): 100%|██████████| 2046/2046 [00:01<00:00, 1240.87it/s]\n"
          ]
        },
        {
          "output_type": "stream",
          "name": "stdout",
          "text": [
            "\u001b[34m\u001b[1malbumentations: \u001b[0mBlur(p=0.01, blur_limit=(3, 7)), MedianBlur(p=0.01, blur_limit=(3, 7)), ToGray(p=0.01), CLAHE(p=0.01, clip_limit=(1, 4.0), tile_grid_size=(8, 8))\n"
          ]
        },
        {
          "output_type": "stream",
          "name": "stderr",
          "text": [
            "/usr/lib/python3.10/multiprocessing/popen_fork.py:66: RuntimeWarning: os.fork() was called. os.fork() is incompatible with multithreaded code, and JAX is multithreaded, so this will likely lead to a deadlock.\n",
            "  self.pid = os.fork()\n",
            "\u001b[34m\u001b[1mval: \u001b[0mScanning /content/yolo-data/val/labels... 228 images, 1 backgrounds, 0 corrupt: 100%|██████████| 228/228 [00:00<00:00, 1057.87it/s]"
          ]
        },
        {
          "output_type": "stream",
          "name": "stdout",
          "text": [
            "\u001b[34m\u001b[1mval: \u001b[0mNew cache created: /content/yolo-data/val/labels.cache\n"
          ]
        },
        {
          "output_type": "stream",
          "name": "stderr",
          "text": [
            "\n",
            "\u001b[34m\u001b[1mval: \u001b[0mCaching images (0.3GB RAM): 100%|██████████| 228/228 [00:00<00:00, 685.96it/s]\n"
          ]
        },
        {
          "output_type": "stream",
          "name": "stdout",
          "text": [
            "Plotting labels to cocoa-training/exp_v1.1/labels.jpg... \n",
            "\u001b[34m\u001b[1moptimizer:\u001b[0m SGD(lr=0.01, momentum=0.937) with parameter groups 57 weight(decay=0.0), 64 weight(decay=0.00075), 63 bias(decay=0.0)\n",
            "\u001b[34m\u001b[1mTensorBoard: \u001b[0mmodel graph visualization added ✅\n",
            "Image sizes 640 train, 640 val\n",
            "Using 8 dataloader workers\n",
            "Logging results to \u001b[1mcocoa-training/exp_v1.1\u001b[0m\n",
            "Starting training for 300 epochs...\n",
            "\n",
            "      Epoch    GPU_mem   box_loss   cls_loss   dfl_loss  Instances       Size\n"
          ]
        },
        {
          "output_type": "stream",
          "name": "stderr",
          "text": [
            "\r  0%|          | 0/22 [00:00<?, ?it/s]/usr/local/lib/python3.10/dist-packages/torch/nn/modules/conv.py:456: UserWarning: Plan failed with a cudnnException: CUDNN_BACKEND_EXECUTION_PLAN_DESCRIPTOR: cudnnFinalize Descriptor Failed cudnn_status: CUDNN_STATUS_NOT_SUPPORTED (Triggered internally at ../aten/src/ATen/native/cudnn/Conv_v8.cpp:919.)\n",
            "  return F.conv2d(input, weight, bias, self.stride,\n",
            "      1/300      14.2G      2.568      3.366      2.775        310        640: 100%|██████████| 22/22 [00:16<00:00,  1.36it/s]\n",
            "                 Class     Images  Instances      Box(P          R      mAP50  mAP50-95): 100%|██████████| 2/2 [00:02<00:00,  1.10s/it]"
          ]
        },
        {
          "output_type": "stream",
          "name": "stdout",
          "text": [
            "                   all        228       1219    0.00539      0.411    0.00708     0.0021\n"
          ]
        },
        {
          "output_type": "stream",
          "name": "stderr",
          "text": [
            "\n"
          ]
        },
        {
          "output_type": "stream",
          "name": "stdout",
          "text": [
            "\n",
            "      Epoch    GPU_mem   box_loss   cls_loss   dfl_loss  Instances       Size\n"
          ]
        },
        {
          "output_type": "stream",
          "name": "stderr",
          "text": [
            "      2/300      14.2G      1.928      2.938      2.195        433        640: 100%|██████████| 22/22 [00:12<00:00,  1.78it/s]\n",
            "                 Class     Images  Instances      Box(P          R      mAP50  mAP50-95): 100%|██████████| 2/2 [00:01<00:00,  1.49it/s]"
          ]
        },
        {
          "output_type": "stream",
          "name": "stdout",
          "text": [
            "                   all        228       1219    0.00963      0.507     0.0566     0.0184\n"
          ]
        },
        {
          "output_type": "stream",
          "name": "stderr",
          "text": [
            "\n"
          ]
        },
        {
          "output_type": "stream",
          "name": "stdout",
          "text": [
            "\n",
            "      Epoch    GPU_mem   box_loss   cls_loss   dfl_loss  Instances       Size\n"
          ]
        },
        {
          "output_type": "stream",
          "name": "stderr",
          "text": [
            "      3/300      13.2G      1.698      2.582      2.024        283        640: 100%|██████████| 22/22 [00:12<00:00,  1.77it/s]\n",
            "                 Class     Images  Instances      Box(P          R      mAP50  mAP50-95): 100%|██████████| 2/2 [00:01<00:00,  1.34it/s]"
          ]
        },
        {
          "output_type": "stream",
          "name": "stdout",
          "text": [
            "                   all        228       1219    0.00853      0.506     0.0263    0.00752\n"
          ]
        },
        {
          "output_type": "stream",
          "name": "stderr",
          "text": [
            "\n"
          ]
        },
        {
          "output_type": "stream",
          "name": "stdout",
          "text": [
            "\n",
            "      Epoch    GPU_mem   box_loss   cls_loss   dfl_loss  Instances       Size\n"
          ]
        },
        {
          "output_type": "stream",
          "name": "stderr",
          "text": [
            "      4/300      13.8G        1.6      2.449      1.962        287        640: 100%|██████████| 22/22 [00:12<00:00,  1.76it/s]\n",
            "                 Class     Images  Instances      Box(P          R      mAP50  mAP50-95): 100%|██████████| 2/2 [00:01<00:00,  1.44it/s]"
          ]
        },
        {
          "output_type": "stream",
          "name": "stdout",
          "text": [
            "                   all        228       1219      0.296      0.166     0.0254    0.00627\n"
          ]
        },
        {
          "output_type": "stream",
          "name": "stderr",
          "text": [
            "\n"
          ]
        },
        {
          "output_type": "stream",
          "name": "stdout",
          "text": [
            "\n",
            "      Epoch    GPU_mem   box_loss   cls_loss   dfl_loss  Instances       Size\n"
          ]
        },
        {
          "output_type": "stream",
          "name": "stderr",
          "text": [
            "      5/300      13.1G      1.553      2.376      1.952        305        640: 100%|██████████| 22/22 [00:12<00:00,  1.78it/s]\n",
            "                 Class     Images  Instances      Box(P          R      mAP50  mAP50-95): 100%|██████████| 2/2 [00:01<00:00,  1.03it/s]"
          ]
        },
        {
          "output_type": "stream",
          "name": "stdout",
          "text": [
            "                   all        228       1219      0.331      0.253      0.076     0.0298\n"
          ]
        },
        {
          "output_type": "stream",
          "name": "stderr",
          "text": [
            "\n"
          ]
        },
        {
          "output_type": "stream",
          "name": "stdout",
          "text": [
            "\n",
            "      Epoch    GPU_mem   box_loss   cls_loss   dfl_loss  Instances       Size\n"
          ]
        },
        {
          "output_type": "stream",
          "name": "stderr",
          "text": [
            "      6/300      13.5G      1.529       2.32      1.935        303        640: 100%|██████████| 22/22 [00:12<00:00,  1.77it/s]\n",
            "                 Class     Images  Instances      Box(P          R      mAP50  mAP50-95): 100%|██████████| 2/2 [00:02<00:00,  1.05s/it]"
          ]
        },
        {
          "output_type": "stream",
          "name": "stdout",
          "text": [
            "                   all        228       1219      0.015     0.0148    0.00295   0.000786\n"
          ]
        },
        {
          "output_type": "stream",
          "name": "stderr",
          "text": [
            "\n"
          ]
        },
        {
          "output_type": "stream",
          "name": "stdout",
          "text": [
            "\n",
            "      Epoch    GPU_mem   box_loss   cls_loss   dfl_loss  Instances       Size\n"
          ]
        },
        {
          "output_type": "stream",
          "name": "stderr",
          "text": [
            "      7/300      13.6G      1.447      2.259      1.881        257        640: 100%|██████████| 22/22 [00:12<00:00,  1.78it/s]\n",
            "                 Class     Images  Instances      Box(P          R      mAP50  mAP50-95): 100%|██████████| 2/2 [00:01<00:00,  1.45it/s]\n"
          ]
        },
        {
          "output_type": "stream",
          "name": "stdout",
          "text": [
            "                   all        228       1219     0.0745      0.199     0.0573     0.0226\n",
            "\n",
            "      Epoch    GPU_mem   box_loss   cls_loss   dfl_loss  Instances       Size\n"
          ]
        },
        {
          "output_type": "stream",
          "name": "stderr",
          "text": [
            "      8/300      13.1G      1.412      2.182      1.853        276        640: 100%|██████████| 22/22 [00:12<00:00,  1.78it/s]\n",
            "                 Class     Images  Instances      Box(P          R      mAP50  mAP50-95): 100%|██████████| 2/2 [00:01<00:00,  1.19it/s]"
          ]
        },
        {
          "output_type": "stream",
          "name": "stdout",
          "text": [
            "                   all        228       1219      0.129      0.163      0.082     0.0343\n"
          ]
        },
        {
          "output_type": "stream",
          "name": "stderr",
          "text": [
            "\n"
          ]
        },
        {
          "output_type": "stream",
          "name": "stdout",
          "text": [
            "\n",
            "      Epoch    GPU_mem   box_loss   cls_loss   dfl_loss  Instances       Size\n"
          ]
        },
        {
          "output_type": "stream",
          "name": "stderr",
          "text": [
            "      9/300      13.1G      1.381      2.142      1.835        326        640: 100%|██████████| 22/22 [00:12<00:00,  1.77it/s]\n",
            "                 Class     Images  Instances      Box(P          R      mAP50  mAP50-95): 100%|██████████| 2/2 [00:02<00:00,  1.00s/it]"
          ]
        },
        {
          "output_type": "stream",
          "name": "stdout",
          "text": [
            "                   all        228       1219     0.0459     0.0979     0.0158     0.0043\n"
          ]
        },
        {
          "output_type": "stream",
          "name": "stderr",
          "text": [
            "\n"
          ]
        },
        {
          "output_type": "stream",
          "name": "stdout",
          "text": [
            "\n",
            "      Epoch    GPU_mem   box_loss   cls_loss   dfl_loss  Instances       Size\n"
          ]
        },
        {
          "output_type": "stream",
          "name": "stderr",
          "text": [
            "     10/300      13.7G      1.338      2.058      1.791        313        640: 100%|██████████| 22/22 [00:12<00:00,  1.77it/s]\n",
            "                 Class     Images  Instances      Box(P          R      mAP50  mAP50-95): 100%|██████████| 2/2 [00:02<00:00,  1.05s/it]"
          ]
        },
        {
          "output_type": "stream",
          "name": "stdout",
          "text": [
            "                   all        228       1219     0.0655      0.129      0.031     0.0102\n"
          ]
        },
        {
          "output_type": "stream",
          "name": "stderr",
          "text": [
            "\n"
          ]
        },
        {
          "output_type": "stream",
          "name": "stdout",
          "text": [
            "\n",
            "      Epoch    GPU_mem   box_loss   cls_loss   dfl_loss  Instances       Size\n"
          ]
        },
        {
          "output_type": "stream",
          "name": "stderr",
          "text": [
            "     11/300      14.1G      1.321      2.019       1.78        362        640: 100%|██████████| 22/22 [00:12<00:00,  1.78it/s]\n",
            "                 Class     Images  Instances      Box(P          R      mAP50  mAP50-95): 100%|██████████| 2/2 [00:01<00:00,  1.28it/s]"
          ]
        },
        {
          "output_type": "stream",
          "name": "stdout",
          "text": [
            "                   all        228       1219     0.0787      0.138     0.0355     0.0115\n"
          ]
        },
        {
          "output_type": "stream",
          "name": "stderr",
          "text": [
            "\n"
          ]
        },
        {
          "output_type": "stream",
          "name": "stdout",
          "text": [
            "\n",
            "      Epoch    GPU_mem   box_loss   cls_loss   dfl_loss  Instances       Size\n"
          ]
        },
        {
          "output_type": "stream",
          "name": "stderr",
          "text": [
            "     12/300      13.2G      1.279      1.941      1.745        337        640: 100%|██████████| 22/22 [00:12<00:00,  1.77it/s]\n",
            "                 Class     Images  Instances      Box(P          R      mAP50  mAP50-95): 100%|██████████| 2/2 [00:01<00:00,  1.43it/s]"
          ]
        },
        {
          "output_type": "stream",
          "name": "stdout",
          "text": [
            "                   all        228       1219      0.354       0.26     0.0925     0.0363\n"
          ]
        },
        {
          "output_type": "stream",
          "name": "stderr",
          "text": [
            "\n"
          ]
        },
        {
          "output_type": "stream",
          "name": "stdout",
          "text": [
            "\n",
            "      Epoch    GPU_mem   box_loss   cls_loss   dfl_loss  Instances       Size\n"
          ]
        },
        {
          "output_type": "stream",
          "name": "stderr",
          "text": [
            "     13/300      13.7G       1.28      1.921       1.74        342        640: 100%|██████████| 22/22 [00:12<00:00,  1.77it/s]\n",
            "                 Class     Images  Instances      Box(P          R      mAP50  mAP50-95): 100%|██████████| 2/2 [00:01<00:00,  1.23it/s]"
          ]
        },
        {
          "output_type": "stream",
          "name": "stdout",
          "text": [
            "                   all        228       1219      0.155      0.139     0.0892     0.0438\n"
          ]
        },
        {
          "output_type": "stream",
          "name": "stderr",
          "text": [
            "\n"
          ]
        },
        {
          "output_type": "stream",
          "name": "stdout",
          "text": [
            "\n",
            "      Epoch    GPU_mem   box_loss   cls_loss   dfl_loss  Instances       Size\n"
          ]
        },
        {
          "output_type": "stream",
          "name": "stderr",
          "text": [
            "     14/300      12.9G      1.272      1.886      1.746        301        640: 100%|██████████| 22/22 [00:12<00:00,  1.78it/s]\n",
            "                 Class     Images  Instances      Box(P          R      mAP50  mAP50-95): 100%|██████████| 2/2 [00:01<00:00,  1.66it/s]\n"
          ]
        },
        {
          "output_type": "stream",
          "name": "stdout",
          "text": [
            "                   all        228       1219      0.221      0.293      0.173     0.0923\n",
            "\n",
            "      Epoch    GPU_mem   box_loss   cls_loss   dfl_loss  Instances       Size\n"
          ]
        },
        {
          "output_type": "stream",
          "name": "stderr",
          "text": [
            "     15/300      12.9G       1.24      1.837      1.714        330        640: 100%|██████████| 22/22 [00:12<00:00,  1.78it/s]\n",
            "                 Class     Images  Instances      Box(P          R      mAP50  mAP50-95): 100%|██████████| 2/2 [00:01<00:00,  1.61it/s]\n"
          ]
        },
        {
          "output_type": "stream",
          "name": "stdout",
          "text": [
            "                   all        228       1219      0.236      0.297      0.181     0.0891\n",
            "\n",
            "      Epoch    GPU_mem   box_loss   cls_loss   dfl_loss  Instances       Size\n"
          ]
        },
        {
          "output_type": "stream",
          "name": "stderr",
          "text": [
            "     16/300        13G       1.22      1.807      1.697        315        640: 100%|██████████| 22/22 [00:12<00:00,  1.77it/s]\n",
            "                 Class     Images  Instances      Box(P          R      mAP50  mAP50-95): 100%|██████████| 2/2 [00:01<00:00,  1.62it/s]\n"
          ]
        },
        {
          "output_type": "stream",
          "name": "stdout",
          "text": [
            "                   all        228       1219      0.288      0.373      0.263      0.133\n",
            "\n",
            "      Epoch    GPU_mem   box_loss   cls_loss   dfl_loss  Instances       Size\n"
          ]
        },
        {
          "output_type": "stream",
          "name": "stderr",
          "text": [
            "     17/300        13G      1.208      1.758      1.691        291        640: 100%|██████████| 22/22 [00:12<00:00,  1.78it/s]\n",
            "                 Class     Images  Instances      Box(P          R      mAP50  mAP50-95): 100%|██████████| 2/2 [00:01<00:00,  1.66it/s]\n"
          ]
        },
        {
          "output_type": "stream",
          "name": "stdout",
          "text": [
            "                   all        228       1219      0.288      0.272      0.201      0.092\n",
            "\n",
            "      Epoch    GPU_mem   box_loss   cls_loss   dfl_loss  Instances       Size\n"
          ]
        },
        {
          "output_type": "stream",
          "name": "stderr",
          "text": [
            "     18/300      13.2G      1.192      1.724      1.675        310        640: 100%|██████████| 22/22 [00:12<00:00,  1.78it/s]\n",
            "                 Class     Images  Instances      Box(P          R      mAP50  mAP50-95): 100%|██████████| 2/2 [00:01<00:00,  1.65it/s]\n"
          ]
        },
        {
          "output_type": "stream",
          "name": "stdout",
          "text": [
            "                   all        228       1219      0.277      0.371      0.263      0.158\n",
            "\n",
            "      Epoch    GPU_mem   box_loss   cls_loss   dfl_loss  Instances       Size\n"
          ]
        },
        {
          "output_type": "stream",
          "name": "stderr",
          "text": [
            "     19/300      13.1G      1.167      1.696      1.651        313        640: 100%|██████████| 22/22 [00:12<00:00,  1.77it/s]\n",
            "                 Class     Images  Instances      Box(P          R      mAP50  mAP50-95): 100%|██████████| 2/2 [00:01<00:00,  1.41it/s]"
          ]
        },
        {
          "output_type": "stream",
          "name": "stdout",
          "text": [
            "                   all        228       1219       0.44      0.187      0.115      0.051\n"
          ]
        },
        {
          "output_type": "stream",
          "name": "stderr",
          "text": [
            "\n"
          ]
        },
        {
          "output_type": "stream",
          "name": "stdout",
          "text": [
            "\n",
            "      Epoch    GPU_mem   box_loss   cls_loss   dfl_loss  Instances       Size\n"
          ]
        },
        {
          "output_type": "stream",
          "name": "stderr",
          "text": [
            "     20/300        13G      1.181      1.695      1.658        305        640: 100%|██████████| 22/22 [00:12<00:00,  1.77it/s]\n",
            "                 Class     Images  Instances      Box(P          R      mAP50  mAP50-95): 100%|██████████| 2/2 [00:01<00:00,  1.67it/s]\n"
          ]
        },
        {
          "output_type": "stream",
          "name": "stdout",
          "text": [
            "                   all        228       1219      0.362      0.275      0.239       0.12\n",
            "\n",
            "      Epoch    GPU_mem   box_loss   cls_loss   dfl_loss  Instances       Size\n"
          ]
        },
        {
          "output_type": "stream",
          "name": "stderr",
          "text": [
            "     21/300      14.5G       1.16      1.667      1.651        244        640: 100%|██████████| 22/22 [00:12<00:00,  1.76it/s]\n",
            "                 Class     Images  Instances      Box(P          R      mAP50  mAP50-95): 100%|██████████| 2/2 [00:01<00:00,  1.65it/s]\n"
          ]
        },
        {
          "output_type": "stream",
          "name": "stdout",
          "text": [
            "                   all        228       1219      0.234      0.207      0.126     0.0535\n",
            "\n",
            "      Epoch    GPU_mem   box_loss   cls_loss   dfl_loss  Instances       Size\n"
          ]
        },
        {
          "output_type": "stream",
          "name": "stderr",
          "text": [
            "     22/300      13.6G      1.144      1.633      1.636        339        640: 100%|██████████| 22/22 [00:12<00:00,  1.77it/s]\n",
            "                 Class     Images  Instances      Box(P          R      mAP50  mAP50-95): 100%|██████████| 2/2 [00:01<00:00,  1.68it/s]\n"
          ]
        },
        {
          "output_type": "stream",
          "name": "stdout",
          "text": [
            "                   all        228       1219      0.334      0.369      0.297      0.181\n",
            "\n",
            "      Epoch    GPU_mem   box_loss   cls_loss   dfl_loss  Instances       Size\n"
          ]
        },
        {
          "output_type": "stream",
          "name": "stderr",
          "text": [
            "     23/300      13.7G      1.136      1.632      1.624        376        640: 100%|██████████| 22/22 [00:12<00:00,  1.77it/s]\n",
            "                 Class     Images  Instances      Box(P          R      mAP50  mAP50-95): 100%|██████████| 2/2 [00:01<00:00,  1.68it/s]\n"
          ]
        },
        {
          "output_type": "stream",
          "name": "stdout",
          "text": [
            "                   all        228       1219      0.323        0.3      0.233      0.134\n",
            "\n",
            "      Epoch    GPU_mem   box_loss   cls_loss   dfl_loss  Instances       Size\n"
          ]
        },
        {
          "output_type": "stream",
          "name": "stderr",
          "text": [
            "     24/300        13G      1.141      1.625      1.632        346        640: 100%|██████████| 22/22 [00:12<00:00,  1.77it/s]\n",
            "                 Class     Images  Instances      Box(P          R      mAP50  mAP50-95): 100%|██████████| 2/2 [00:01<00:00,  1.67it/s]"
          ]
        },
        {
          "output_type": "stream",
          "name": "stdout",
          "text": [
            "                   all        228       1219      0.344      0.373      0.306      0.176\n"
          ]
        },
        {
          "output_type": "stream",
          "name": "stderr",
          "text": [
            "\n"
          ]
        },
        {
          "output_type": "stream",
          "name": "stdout",
          "text": [
            "\n",
            "      Epoch    GPU_mem   box_loss   cls_loss   dfl_loss  Instances       Size\n"
          ]
        },
        {
          "output_type": "stream",
          "name": "stderr",
          "text": [
            "     25/300      13.6G      1.134      1.589      1.618        311        640: 100%|██████████| 22/22 [00:12<00:00,  1.78it/s]\n",
            "                 Class     Images  Instances      Box(P          R      mAP50  mAP50-95): 100%|██████████| 2/2 [00:01<00:00,  1.75it/s]"
          ]
        },
        {
          "output_type": "stream",
          "name": "stdout",
          "text": [
            "                   all        228       1219      0.354      0.335      0.291      0.168\n"
          ]
        },
        {
          "output_type": "stream",
          "name": "stderr",
          "text": [
            "\n"
          ]
        },
        {
          "output_type": "stream",
          "name": "stdout",
          "text": [
            "\n",
            "      Epoch    GPU_mem   box_loss   cls_loss   dfl_loss  Instances       Size\n"
          ]
        },
        {
          "output_type": "stream",
          "name": "stderr",
          "text": [
            "     26/300      13.1G      1.124      1.591      1.612        294        640: 100%|██████████| 22/22 [00:12<00:00,  1.77it/s]\n",
            "                 Class     Images  Instances      Box(P          R      mAP50  mAP50-95): 100%|██████████| 2/2 [00:01<00:00,  1.72it/s]\n"
          ]
        },
        {
          "output_type": "stream",
          "name": "stdout",
          "text": [
            "                   all        228       1219      0.367       0.34        0.3      0.182\n",
            "\n",
            "      Epoch    GPU_mem   box_loss   cls_loss   dfl_loss  Instances       Size\n"
          ]
        },
        {
          "output_type": "stream",
          "name": "stderr",
          "text": [
            "     27/300      13.8G       1.11      1.548      1.608        304        640: 100%|██████████| 22/22 [00:12<00:00,  1.77it/s]\n",
            "                 Class     Images  Instances      Box(P          R      mAP50  mAP50-95): 100%|██████████| 2/2 [00:01<00:00,  1.68it/s]\n"
          ]
        },
        {
          "output_type": "stream",
          "name": "stdout",
          "text": [
            "                   all        228       1219      0.395      0.358      0.354      0.233\n",
            "\n",
            "      Epoch    GPU_mem   box_loss   cls_loss   dfl_loss  Instances       Size\n"
          ]
        },
        {
          "output_type": "stream",
          "name": "stderr",
          "text": [
            "     28/300      13.8G      1.098      1.538       1.59        272        640: 100%|██████████| 22/22 [00:12<00:00,  1.77it/s]\n",
            "                 Class     Images  Instances      Box(P          R      mAP50  mAP50-95): 100%|██████████| 2/2 [00:01<00:00,  1.56it/s]\n"
          ]
        },
        {
          "output_type": "stream",
          "name": "stdout",
          "text": [
            "                   all        228       1219      0.336       0.36      0.293       0.17\n",
            "\n",
            "      Epoch    GPU_mem   box_loss   cls_loss   dfl_loss  Instances       Size\n"
          ]
        },
        {
          "output_type": "stream",
          "name": "stderr",
          "text": [
            "     29/300      13.1G      1.096      1.528      1.594        254        640: 100%|██████████| 22/22 [00:12<00:00,  1.78it/s]\n",
            "                 Class     Images  Instances      Box(P          R      mAP50  mAP50-95): 100%|██████████| 2/2 [00:01<00:00,  1.65it/s]\n"
          ]
        },
        {
          "output_type": "stream",
          "name": "stdout",
          "text": [
            "                   all        228       1219      0.274      0.312      0.223      0.114\n",
            "\n",
            "      Epoch    GPU_mem   box_loss   cls_loss   dfl_loss  Instances       Size\n"
          ]
        },
        {
          "output_type": "stream",
          "name": "stderr",
          "text": [
            "     30/300      13.6G      1.075      1.503       1.57        321        640: 100%|██████████| 22/22 [00:12<00:00,  1.78it/s]\n",
            "                 Class     Images  Instances      Box(P          R      mAP50  mAP50-95): 100%|██████████| 2/2 [00:01<00:00,  1.47it/s]\n"
          ]
        },
        {
          "output_type": "stream",
          "name": "stdout",
          "text": [
            "                   all        228       1219      0.338      0.241      0.224      0.112\n",
            "\n",
            "      Epoch    GPU_mem   box_loss   cls_loss   dfl_loss  Instances       Size\n"
          ]
        },
        {
          "output_type": "stream",
          "name": "stderr",
          "text": [
            "     31/300      14.1G      1.088      1.499      1.584        258        640: 100%|██████████| 22/22 [00:12<00:00,  1.76it/s]\n",
            "                 Class     Images  Instances      Box(P          R      mAP50  mAP50-95): 100%|██████████| 2/2 [00:01<00:00,  1.61it/s]\n"
          ]
        },
        {
          "output_type": "stream",
          "name": "stdout",
          "text": [
            "                   all        228       1219      0.469      0.422      0.402      0.258\n",
            "\n",
            "      Epoch    GPU_mem   box_loss   cls_loss   dfl_loss  Instances       Size\n"
          ]
        },
        {
          "output_type": "stream",
          "name": "stderr",
          "text": [
            "     32/300      13.1G      1.079      1.483      1.572        285        640: 100%|██████████| 22/22 [00:12<00:00,  1.78it/s]\n",
            "                 Class     Images  Instances      Box(P          R      mAP50  mAP50-95): 100%|██████████| 2/2 [00:01<00:00,  1.66it/s]\n"
          ]
        },
        {
          "output_type": "stream",
          "name": "stdout",
          "text": [
            "                   all        228       1219      0.463      0.336      0.341      0.198\n",
            "\n",
            "      Epoch    GPU_mem   box_loss   cls_loss   dfl_loss  Instances       Size\n"
          ]
        },
        {
          "output_type": "stream",
          "name": "stderr",
          "text": [
            "     33/300      13.1G      1.074       1.46      1.568        302        640: 100%|██████████| 22/22 [00:12<00:00,  1.77it/s]\n",
            "                 Class     Images  Instances      Box(P          R      mAP50  mAP50-95): 100%|██████████| 2/2 [00:01<00:00,  1.69it/s]\n"
          ]
        },
        {
          "output_type": "stream",
          "name": "stdout",
          "text": [
            "                   all        228       1219      0.394      0.414      0.373      0.238\n",
            "\n",
            "      Epoch    GPU_mem   box_loss   cls_loss   dfl_loss  Instances       Size\n"
          ]
        },
        {
          "output_type": "stream",
          "name": "stderr",
          "text": [
            "     34/300      15.1G      1.055      1.442      1.547        371        640: 100%|██████████| 22/22 [00:12<00:00,  1.77it/s]\n",
            "                 Class     Images  Instances      Box(P          R      mAP50  mAP50-95): 100%|██████████| 2/2 [00:01<00:00,  1.70it/s]\n"
          ]
        },
        {
          "output_type": "stream",
          "name": "stdout",
          "text": [
            "                   all        228       1219      0.319      0.353      0.263      0.138\n",
            "\n",
            "      Epoch    GPU_mem   box_loss   cls_loss   dfl_loss  Instances       Size\n"
          ]
        },
        {
          "output_type": "stream",
          "name": "stderr",
          "text": [
            "     35/300      13.2G      1.055      1.432      1.554        305        640: 100%|██████████| 22/22 [00:12<00:00,  1.77it/s]\n",
            "                 Class     Images  Instances      Box(P          R      mAP50  mAP50-95): 100%|██████████| 2/2 [00:01<00:00,  1.72it/s]\n"
          ]
        },
        {
          "output_type": "stream",
          "name": "stdout",
          "text": [
            "                   all        228       1219      0.329      0.342      0.224      0.113\n",
            "\n",
            "      Epoch    GPU_mem   box_loss   cls_loss   dfl_loss  Instances       Size\n"
          ]
        },
        {
          "output_type": "stream",
          "name": "stderr",
          "text": [
            "     36/300      13.1G      1.045      1.441      1.549        229        640: 100%|██████████| 22/22 [00:12<00:00,  1.78it/s]\n",
            "                 Class     Images  Instances      Box(P          R      mAP50  mAP50-95): 100%|██████████| 2/2 [00:01<00:00,  1.65it/s]\n"
          ]
        },
        {
          "output_type": "stream",
          "name": "stdout",
          "text": [
            "                   all        228       1219      0.314      0.417      0.295      0.163\n",
            "\n",
            "      Epoch    GPU_mem   box_loss   cls_loss   dfl_loss  Instances       Size\n"
          ]
        },
        {
          "output_type": "stream",
          "name": "stderr",
          "text": [
            "     37/300      13.1G      1.045      1.418      1.551        289        640: 100%|██████████| 22/22 [00:12<00:00,  1.77it/s]\n",
            "                 Class     Images  Instances      Box(P          R      mAP50  mAP50-95): 100%|██████████| 2/2 [00:01<00:00,  1.56it/s]"
          ]
        },
        {
          "output_type": "stream",
          "name": "stdout",
          "text": [
            "                   all        228       1219      0.505       0.31      0.295      0.177\n"
          ]
        },
        {
          "output_type": "stream",
          "name": "stderr",
          "text": [
            "\n"
          ]
        },
        {
          "output_type": "stream",
          "name": "stdout",
          "text": [
            "\n",
            "      Epoch    GPU_mem   box_loss   cls_loss   dfl_loss  Instances       Size\n"
          ]
        },
        {
          "output_type": "stream",
          "name": "stderr",
          "text": [
            "     38/300      13.2G      1.044       1.41      1.544        312        640: 100%|██████████| 22/22 [00:12<00:00,  1.77it/s]\n",
            "                 Class     Images  Instances      Box(P          R      mAP50  mAP50-95): 100%|██████████| 2/2 [00:01<00:00,  1.64it/s]\n"
          ]
        },
        {
          "output_type": "stream",
          "name": "stdout",
          "text": [
            "                   all        228       1219       0.36      0.368      0.298      0.168\n",
            "\n",
            "      Epoch    GPU_mem   box_loss   cls_loss   dfl_loss  Instances       Size\n"
          ]
        },
        {
          "output_type": "stream",
          "name": "stderr",
          "text": [
            "     39/300      13.5G      1.032      1.407      1.539        309        640: 100%|██████████| 22/22 [00:12<00:00,  1.78it/s]\n",
            "                 Class     Images  Instances      Box(P          R      mAP50  mAP50-95): 100%|██████████| 2/2 [00:01<00:00,  1.71it/s]"
          ]
        },
        {
          "output_type": "stream",
          "name": "stdout",
          "text": [
            "                   all        228       1219      0.318       0.35      0.338       0.22\n"
          ]
        },
        {
          "output_type": "stream",
          "name": "stderr",
          "text": [
            "\n"
          ]
        },
        {
          "output_type": "stream",
          "name": "stdout",
          "text": [
            "\n",
            "      Epoch    GPU_mem   box_loss   cls_loss   dfl_loss  Instances       Size\n"
          ]
        },
        {
          "output_type": "stream",
          "name": "stderr",
          "text": [
            "     40/300      12.5G      1.035      1.402      1.539        264        640: 100%|██████████| 22/22 [00:12<00:00,  1.78it/s]\n",
            "                 Class     Images  Instances      Box(P          R      mAP50  mAP50-95): 100%|██████████| 2/2 [00:01<00:00,  1.68it/s]\n"
          ]
        },
        {
          "output_type": "stream",
          "name": "stdout",
          "text": [
            "                   all        228       1219      0.486      0.344      0.348      0.208\n",
            "\n",
            "      Epoch    GPU_mem   box_loss   cls_loss   dfl_loss  Instances       Size\n"
          ]
        },
        {
          "output_type": "stream",
          "name": "stderr",
          "text": [
            "     41/300      13.4G       1.03      1.385      1.532        290        640: 100%|██████████| 22/22 [00:12<00:00,  1.76it/s]\n",
            "                 Class     Images  Instances      Box(P          R      mAP50  mAP50-95): 100%|██████████| 2/2 [00:01<00:00,  1.71it/s]"
          ]
        },
        {
          "output_type": "stream",
          "name": "stdout",
          "text": [
            "                   all        228       1219      0.396      0.459      0.383      0.229\n"
          ]
        },
        {
          "output_type": "stream",
          "name": "stderr",
          "text": [
            "\n"
          ]
        },
        {
          "output_type": "stream",
          "name": "stdout",
          "text": [
            "\n",
            "      Epoch    GPU_mem   box_loss   cls_loss   dfl_loss  Instances       Size\n"
          ]
        },
        {
          "output_type": "stream",
          "name": "stderr",
          "text": [
            "     42/300      13.1G      1.009      1.353      1.513        378        640: 100%|██████████| 22/22 [00:12<00:00,  1.78it/s]\n",
            "                 Class     Images  Instances      Box(P          R      mAP50  mAP50-95): 100%|██████████| 2/2 [00:01<00:00,  1.75it/s]"
          ]
        },
        {
          "output_type": "stream",
          "name": "stdout",
          "text": [
            "                   all        228       1219      0.397      0.389       0.35      0.207\n"
          ]
        },
        {
          "output_type": "stream",
          "name": "stderr",
          "text": [
            "\n"
          ]
        },
        {
          "output_type": "stream",
          "name": "stdout",
          "text": [
            "\n",
            "      Epoch    GPU_mem   box_loss   cls_loss   dfl_loss  Instances       Size\n"
          ]
        },
        {
          "output_type": "stream",
          "name": "stderr",
          "text": [
            "     43/300      13.6G      1.031      1.371      1.528        322        640: 100%|██████████| 22/22 [00:12<00:00,  1.77it/s]\n",
            "                 Class     Images  Instances      Box(P          R      mAP50  mAP50-95): 100%|██████████| 2/2 [00:01<00:00,  1.69it/s]"
          ]
        },
        {
          "output_type": "stream",
          "name": "stdout",
          "text": [
            "                   all        228       1219      0.414      0.446      0.406      0.231\n"
          ]
        },
        {
          "output_type": "stream",
          "name": "stderr",
          "text": [
            "\n"
          ]
        },
        {
          "output_type": "stream",
          "name": "stdout",
          "text": [
            "\n",
            "      Epoch    GPU_mem   box_loss   cls_loss   dfl_loss  Instances       Size\n"
          ]
        },
        {
          "output_type": "stream",
          "name": "stderr",
          "text": [
            "     44/300      13.6G      1.018      1.361      1.517        313        640: 100%|██████████| 22/22 [00:12<00:00,  1.77it/s]\n",
            "                 Class     Images  Instances      Box(P          R      mAP50  mAP50-95): 100%|██████████| 2/2 [00:01<00:00,  1.69it/s]"
          ]
        },
        {
          "output_type": "stream",
          "name": "stdout",
          "text": [
            "                   all        228       1219      0.313      0.466      0.323      0.204\n"
          ]
        },
        {
          "output_type": "stream",
          "name": "stderr",
          "text": [
            "\n"
          ]
        },
        {
          "output_type": "stream",
          "name": "stdout",
          "text": [
            "\n",
            "      Epoch    GPU_mem   box_loss   cls_loss   dfl_loss  Instances       Size\n"
          ]
        },
        {
          "output_type": "stream",
          "name": "stderr",
          "text": [
            "     45/300      14.5G      1.015      1.358      1.523        317        640: 100%|██████████| 22/22 [00:12<00:00,  1.77it/s]\n",
            "                 Class     Images  Instances      Box(P          R      mAP50  mAP50-95): 100%|██████████| 2/2 [00:01<00:00,  1.68it/s]\n"
          ]
        },
        {
          "output_type": "stream",
          "name": "stdout",
          "text": [
            "                   all        228       1219      0.447      0.324      0.303      0.181\n",
            "\n",
            "      Epoch    GPU_mem   box_loss   cls_loss   dfl_loss  Instances       Size\n"
          ]
        },
        {
          "output_type": "stream",
          "name": "stderr",
          "text": [
            "     46/300      12.7G      1.001      1.325      1.512        370        640: 100%|██████████| 22/22 [00:12<00:00,  1.76it/s]\n",
            "                 Class     Images  Instances      Box(P          R      mAP50  mAP50-95): 100%|██████████| 2/2 [00:01<00:00,  1.68it/s]"
          ]
        },
        {
          "output_type": "stream",
          "name": "stdout",
          "text": [
            "                   all        228       1219      0.437      0.453      0.391      0.237\n"
          ]
        },
        {
          "output_type": "stream",
          "name": "stderr",
          "text": [
            "\n"
          ]
        },
        {
          "output_type": "stream",
          "name": "stdout",
          "text": [
            "\n",
            "      Epoch    GPU_mem   box_loss   cls_loss   dfl_loss  Instances       Size\n"
          ]
        },
        {
          "output_type": "stream",
          "name": "stderr",
          "text": [
            "     47/300      13.3G     0.9917      1.324      1.496        333        640: 100%|██████████| 22/22 [00:12<00:00,  1.78it/s]\n",
            "                 Class     Images  Instances      Box(P          R      mAP50  mAP50-95): 100%|██████████| 2/2 [00:01<00:00,  1.68it/s]"
          ]
        },
        {
          "output_type": "stream",
          "name": "stdout",
          "text": [
            "                   all        228       1219      0.377      0.393       0.31      0.174\n"
          ]
        },
        {
          "output_type": "stream",
          "name": "stderr",
          "text": [
            "\n"
          ]
        },
        {
          "output_type": "stream",
          "name": "stdout",
          "text": [
            "\n",
            "      Epoch    GPU_mem   box_loss   cls_loss   dfl_loss  Instances       Size\n"
          ]
        },
        {
          "output_type": "stream",
          "name": "stderr",
          "text": [
            "     48/300        13G     0.9901      1.311      1.498        297        640: 100%|██████████| 22/22 [00:12<00:00,  1.78it/s]\n",
            "                 Class     Images  Instances      Box(P          R      mAP50  mAP50-95): 100%|██████████| 2/2 [00:01<00:00,  1.73it/s]"
          ]
        },
        {
          "output_type": "stream",
          "name": "stdout",
          "text": [
            "                   all        228       1219      0.549      0.441      0.474      0.319\n"
          ]
        },
        {
          "output_type": "stream",
          "name": "stderr",
          "text": [
            "\n"
          ]
        },
        {
          "output_type": "stream",
          "name": "stdout",
          "text": [
            "\n",
            "      Epoch    GPU_mem   box_loss   cls_loss   dfl_loss  Instances       Size\n"
          ]
        },
        {
          "output_type": "stream",
          "name": "stderr",
          "text": [
            "     49/300      13.1G     0.9883      1.298      1.495        343        640: 100%|██████████| 22/22 [00:12<00:00,  1.77it/s]\n",
            "                 Class     Images  Instances      Box(P          R      mAP50  mAP50-95): 100%|██████████| 2/2 [00:01<00:00,  1.71it/s]\n"
          ]
        },
        {
          "output_type": "stream",
          "name": "stdout",
          "text": [
            "                   all        228       1219      0.448      0.414      0.392       0.26\n",
            "\n",
            "      Epoch    GPU_mem   box_loss   cls_loss   dfl_loss  Instances       Size\n"
          ]
        },
        {
          "output_type": "stream",
          "name": "stderr",
          "text": [
            "     50/300      13.8G       0.99       1.31      1.499        284        640: 100%|██████████| 22/22 [00:12<00:00,  1.77it/s]\n",
            "                 Class     Images  Instances      Box(P          R      mAP50  mAP50-95): 100%|██████████| 2/2 [00:01<00:00,  1.66it/s]"
          ]
        },
        {
          "output_type": "stream",
          "name": "stdout",
          "text": [
            "                   all        228       1219      0.469      0.498      0.464      0.311\n"
          ]
        },
        {
          "output_type": "stream",
          "name": "stderr",
          "text": [
            "\n"
          ]
        },
        {
          "output_type": "stream",
          "name": "stdout",
          "text": [
            "\n",
            "      Epoch    GPU_mem   box_loss   cls_loss   dfl_loss  Instances       Size\n"
          ]
        },
        {
          "output_type": "stream",
          "name": "stderr",
          "text": [
            "     51/300      13.2G     0.9874      1.305        1.5        297        640: 100%|██████████| 22/22 [00:12<00:00,  1.78it/s]\n",
            "                 Class     Images  Instances      Box(P          R      mAP50  mAP50-95): 100%|██████████| 2/2 [00:01<00:00,  1.60it/s]\n"
          ]
        },
        {
          "output_type": "stream",
          "name": "stdout",
          "text": [
            "                   all        228       1219      0.349      0.429      0.368      0.223\n",
            "\n",
            "      Epoch    GPU_mem   box_loss   cls_loss   dfl_loss  Instances       Size\n"
          ]
        },
        {
          "output_type": "stream",
          "name": "stderr",
          "text": [
            "     52/300        13G     0.9659      1.284      1.481        284        640: 100%|██████████| 22/22 [00:12<00:00,  1.78it/s]\n",
            "                 Class     Images  Instances      Box(P          R      mAP50  mAP50-95): 100%|██████████| 2/2 [00:01<00:00,  1.66it/s]\n"
          ]
        },
        {
          "output_type": "stream",
          "name": "stdout",
          "text": [
            "                   all        228       1219      0.406       0.36      0.315      0.185\n",
            "\n",
            "      Epoch    GPU_mem   box_loss   cls_loss   dfl_loss  Instances       Size\n"
          ]
        },
        {
          "output_type": "stream",
          "name": "stderr",
          "text": [
            "     53/300      14.4G     0.9716      1.266      1.476        350        640: 100%|██████████| 22/22 [00:12<00:00,  1.78it/s]\n",
            "                 Class     Images  Instances      Box(P          R      mAP50  mAP50-95): 100%|██████████| 2/2 [00:01<00:00,  1.73it/s]"
          ]
        },
        {
          "output_type": "stream",
          "name": "stdout",
          "text": [
            "                   all        228       1219      0.489      0.388      0.403       0.27\n"
          ]
        },
        {
          "output_type": "stream",
          "name": "stderr",
          "text": [
            "\n"
          ]
        },
        {
          "output_type": "stream",
          "name": "stdout",
          "text": [
            "\n",
            "      Epoch    GPU_mem   box_loss   cls_loss   dfl_loss  Instances       Size\n"
          ]
        },
        {
          "output_type": "stream",
          "name": "stderr",
          "text": [
            "     54/300      13.1G     0.9805      1.288      1.483        321        640: 100%|██████████| 22/22 [00:12<00:00,  1.78it/s]\n",
            "                 Class     Images  Instances      Box(P          R      mAP50  mAP50-95): 100%|██████████| 2/2 [00:01<00:00,  1.73it/s]"
          ]
        },
        {
          "output_type": "stream",
          "name": "stdout",
          "text": [
            "                   all        228       1219      0.419      0.443      0.394      0.264\n"
          ]
        },
        {
          "output_type": "stream",
          "name": "stderr",
          "text": [
            "\n"
          ]
        },
        {
          "output_type": "stream",
          "name": "stdout",
          "text": [
            "\n",
            "      Epoch    GPU_mem   box_loss   cls_loss   dfl_loss  Instances       Size\n"
          ]
        },
        {
          "output_type": "stream",
          "name": "stderr",
          "text": [
            "     55/300      13.2G     0.9815      1.288      1.487        345        640: 100%|██████████| 22/22 [00:12<00:00,  1.78it/s]\n",
            "                 Class     Images  Instances      Box(P          R      mAP50  mAP50-95): 100%|██████████| 2/2 [00:01<00:00,  1.70it/s]"
          ]
        },
        {
          "output_type": "stream",
          "name": "stdout",
          "text": [
            "                   all        228       1219      0.465      0.403      0.393      0.242\n"
          ]
        },
        {
          "output_type": "stream",
          "name": "stderr",
          "text": [
            "\n"
          ]
        },
        {
          "output_type": "stream",
          "name": "stdout",
          "text": [
            "\n",
            "      Epoch    GPU_mem   box_loss   cls_loss   dfl_loss  Instances       Size\n"
          ]
        },
        {
          "output_type": "stream",
          "name": "stderr",
          "text": [
            "     56/300      13.2G     0.9613      1.249      1.471        440        640: 100%|██████████| 22/22 [00:12<00:00,  1.78it/s]\n",
            "                 Class     Images  Instances      Box(P          R      mAP50  mAP50-95): 100%|██████████| 2/2 [00:01<00:00,  1.71it/s]"
          ]
        },
        {
          "output_type": "stream",
          "name": "stdout",
          "text": [
            "                   all        228       1219      0.502      0.475      0.466      0.302\n"
          ]
        },
        {
          "output_type": "stream",
          "name": "stderr",
          "text": [
            "\n"
          ]
        },
        {
          "output_type": "stream",
          "name": "stdout",
          "text": [
            "\n",
            "      Epoch    GPU_mem   box_loss   cls_loss   dfl_loss  Instances       Size\n"
          ]
        },
        {
          "output_type": "stream",
          "name": "stderr",
          "text": [
            "     57/300      13.5G      0.972      1.246      1.476        324        640: 100%|██████████| 22/22 [00:12<00:00,  1.77it/s]\n",
            "                 Class     Images  Instances      Box(P          R      mAP50  mAP50-95): 100%|██████████| 2/2 [00:01<00:00,  1.72it/s]"
          ]
        },
        {
          "output_type": "stream",
          "name": "stdout",
          "text": [
            "                   all        228       1219      0.538      0.507      0.514      0.372\n"
          ]
        },
        {
          "output_type": "stream",
          "name": "stderr",
          "text": [
            "\n"
          ]
        },
        {
          "output_type": "stream",
          "name": "stdout",
          "text": [
            "\n",
            "      Epoch    GPU_mem   box_loss   cls_loss   dfl_loss  Instances       Size\n"
          ]
        },
        {
          "output_type": "stream",
          "name": "stderr",
          "text": [
            "     58/300      13.8G     0.9581      1.251      1.463        355        640: 100%|██████████| 22/22 [00:12<00:00,  1.76it/s]\n",
            "                 Class     Images  Instances      Box(P          R      mAP50  mAP50-95): 100%|██████████| 2/2 [00:01<00:00,  1.73it/s]"
          ]
        },
        {
          "output_type": "stream",
          "name": "stdout",
          "text": [
            "                   all        228       1219      0.523      0.452      0.429      0.304\n"
          ]
        },
        {
          "output_type": "stream",
          "name": "stderr",
          "text": [
            "\n"
          ]
        },
        {
          "output_type": "stream",
          "name": "stdout",
          "text": [
            "\n",
            "      Epoch    GPU_mem   box_loss   cls_loss   dfl_loss  Instances       Size\n"
          ]
        },
        {
          "output_type": "stream",
          "name": "stderr",
          "text": [
            "     59/300      13.1G     0.9466       1.22      1.459        281        640: 100%|██████████| 22/22 [00:12<00:00,  1.77it/s]\n",
            "                 Class     Images  Instances      Box(P          R      mAP50  mAP50-95): 100%|██████████| 2/2 [00:01<00:00,  1.72it/s]"
          ]
        },
        {
          "output_type": "stream",
          "name": "stdout",
          "text": [
            "                   all        228       1219      0.471      0.333       0.31      0.181\n"
          ]
        },
        {
          "output_type": "stream",
          "name": "stderr",
          "text": [
            "\n"
          ]
        },
        {
          "output_type": "stream",
          "name": "stdout",
          "text": [
            "\n",
            "      Epoch    GPU_mem   box_loss   cls_loss   dfl_loss  Instances       Size\n"
          ]
        },
        {
          "output_type": "stream",
          "name": "stderr",
          "text": [
            "     60/300      13.1G     0.9409      1.233      1.458        318        640: 100%|██████████| 22/22 [00:12<00:00,  1.77it/s]\n",
            "                 Class     Images  Instances      Box(P          R      mAP50  mAP50-95): 100%|██████████| 2/2 [00:01<00:00,  1.69it/s]\n"
          ]
        },
        {
          "output_type": "stream",
          "name": "stdout",
          "text": [
            "                   all        228       1219      0.466      0.351      0.359      0.229\n",
            "\n",
            "      Epoch    GPU_mem   box_loss   cls_loss   dfl_loss  Instances       Size\n"
          ]
        },
        {
          "output_type": "stream",
          "name": "stderr",
          "text": [
            "     61/300      13.3G     0.9488      1.233      1.461        313        640: 100%|██████████| 22/22 [00:12<00:00,  1.77it/s]\n",
            "                 Class     Images  Instances      Box(P          R      mAP50  mAP50-95): 100%|██████████| 2/2 [00:01<00:00,  1.71it/s]\n"
          ]
        },
        {
          "output_type": "stream",
          "name": "stdout",
          "text": [
            "                   all        228       1219      0.445      0.409      0.391      0.263\n",
            "\n",
            "      Epoch    GPU_mem   box_loss   cls_loss   dfl_loss  Instances       Size\n"
          ]
        },
        {
          "output_type": "stream",
          "name": "stderr",
          "text": [
            "     62/300      13.2G     0.9576      1.237       1.47        301        640: 100%|██████████| 22/22 [00:12<00:00,  1.77it/s]\n",
            "                 Class     Images  Instances      Box(P          R      mAP50  mAP50-95): 100%|██████████| 2/2 [00:01<00:00,  1.72it/s]"
          ]
        },
        {
          "output_type": "stream",
          "name": "stdout",
          "text": [
            "                   all        228       1219      0.328      0.309      0.238      0.131\n"
          ]
        },
        {
          "output_type": "stream",
          "name": "stderr",
          "text": [
            "\n"
          ]
        },
        {
          "output_type": "stream",
          "name": "stdout",
          "text": [
            "\n",
            "      Epoch    GPU_mem   box_loss   cls_loss   dfl_loss  Instances       Size\n"
          ]
        },
        {
          "output_type": "stream",
          "name": "stderr",
          "text": [
            "     63/300        13G     0.9444       1.22      1.458        301        640: 100%|██████████| 22/22 [00:12<00:00,  1.77it/s]\n",
            "                 Class     Images  Instances      Box(P          R      mAP50  mAP50-95): 100%|██████████| 2/2 [00:01<00:00,  1.68it/s]"
          ]
        },
        {
          "output_type": "stream",
          "name": "stdout",
          "text": [
            "                   all        228       1219      0.395      0.463      0.378      0.238\n"
          ]
        },
        {
          "output_type": "stream",
          "name": "stderr",
          "text": [
            "\n"
          ]
        },
        {
          "output_type": "stream",
          "name": "stdout",
          "text": [
            "\n",
            "      Epoch    GPU_mem   box_loss   cls_loss   dfl_loss  Instances       Size\n"
          ]
        },
        {
          "output_type": "stream",
          "name": "stderr",
          "text": [
            "     64/300        13G     0.9469      1.227       1.46        322        640: 100%|██████████| 22/22 [00:12<00:00,  1.78it/s]\n",
            "                 Class     Images  Instances      Box(P          R      mAP50  mAP50-95): 100%|██████████| 2/2 [00:01<00:00,  1.63it/s]\n"
          ]
        },
        {
          "output_type": "stream",
          "name": "stdout",
          "text": [
            "                   all        228       1219      0.391      0.494      0.463      0.335\n",
            "\n",
            "      Epoch    GPU_mem   box_loss   cls_loss   dfl_loss  Instances       Size\n"
          ]
        },
        {
          "output_type": "stream",
          "name": "stderr",
          "text": [
            "     65/300      13.5G     0.9431      1.214      1.455        367        640: 100%|██████████| 22/22 [00:12<00:00,  1.78it/s]\n",
            "                 Class     Images  Instances      Box(P          R      mAP50  mAP50-95): 100%|██████████| 2/2 [00:01<00:00,  1.71it/s]"
          ]
        },
        {
          "output_type": "stream",
          "name": "stdout",
          "text": [
            "                   all        228       1219      0.476      0.377      0.402      0.256\n"
          ]
        },
        {
          "output_type": "stream",
          "name": "stderr",
          "text": [
            "\n"
          ]
        },
        {
          "output_type": "stream",
          "name": "stdout",
          "text": [
            "\n",
            "      Epoch    GPU_mem   box_loss   cls_loss   dfl_loss  Instances       Size\n"
          ]
        },
        {
          "output_type": "stream",
          "name": "stderr",
          "text": [
            "     66/300      12.4G     0.9399      1.212      1.456        233        640: 100%|██████████| 22/22 [00:12<00:00,  1.78it/s]\n",
            "                 Class     Images  Instances      Box(P          R      mAP50  mAP50-95): 100%|██████████| 2/2 [00:01<00:00,  1.71it/s]"
          ]
        },
        {
          "output_type": "stream",
          "name": "stdout",
          "text": [
            "                   all        228       1219      0.454      0.381      0.346      0.224\n"
          ]
        },
        {
          "output_type": "stream",
          "name": "stderr",
          "text": [
            "\n"
          ]
        },
        {
          "output_type": "stream",
          "name": "stdout",
          "text": [
            "\n",
            "      Epoch    GPU_mem   box_loss   cls_loss   dfl_loss  Instances       Size\n"
          ]
        },
        {
          "output_type": "stream",
          "name": "stderr",
          "text": [
            "     67/300      12.9G     0.9333      1.212      1.456        366        640: 100%|██████████| 22/22 [00:12<00:00,  1.78it/s]\n",
            "                 Class     Images  Instances      Box(P          R      mAP50  mAP50-95): 100%|██████████| 2/2 [00:01<00:00,  1.72it/s]"
          ]
        },
        {
          "output_type": "stream",
          "name": "stdout",
          "text": [
            "                   all        228       1219      0.471      0.443      0.395      0.259\n"
          ]
        },
        {
          "output_type": "stream",
          "name": "stderr",
          "text": [
            "\n"
          ]
        },
        {
          "output_type": "stream",
          "name": "stdout",
          "text": [
            "\n",
            "      Epoch    GPU_mem   box_loss   cls_loss   dfl_loss  Instances       Size\n"
          ]
        },
        {
          "output_type": "stream",
          "name": "stderr",
          "text": [
            "     68/300      13.9G     0.9396      1.204      1.451        319        640: 100%|██████████| 22/22 [00:12<00:00,  1.76it/s]\n",
            "                 Class     Images  Instances      Box(P          R      mAP50  mAP50-95): 100%|██████████| 2/2 [00:01<00:00,  1.67it/s]"
          ]
        },
        {
          "output_type": "stream",
          "name": "stdout",
          "text": [
            "                   all        228       1219      0.543      0.544      0.533      0.349\n"
          ]
        },
        {
          "output_type": "stream",
          "name": "stderr",
          "text": [
            "\n"
          ]
        },
        {
          "output_type": "stream",
          "name": "stdout",
          "text": [
            "\n",
            "      Epoch    GPU_mem   box_loss   cls_loss   dfl_loss  Instances       Size\n"
          ]
        },
        {
          "output_type": "stream",
          "name": "stderr",
          "text": [
            "     69/300      13.3G     0.9217      1.186      1.442        294        640: 100%|██████████| 22/22 [00:12<00:00,  1.77it/s]\n",
            "                 Class     Images  Instances      Box(P          R      mAP50  mAP50-95): 100%|██████████| 2/2 [00:01<00:00,  1.72it/s]"
          ]
        },
        {
          "output_type": "stream",
          "name": "stdout",
          "text": [
            "                   all        228       1219      0.553      0.472      0.509      0.339\n"
          ]
        },
        {
          "output_type": "stream",
          "name": "stderr",
          "text": [
            "\n"
          ]
        },
        {
          "output_type": "stream",
          "name": "stdout",
          "text": [
            "\n",
            "      Epoch    GPU_mem   box_loss   cls_loss   dfl_loss  Instances       Size\n"
          ]
        },
        {
          "output_type": "stream",
          "name": "stderr",
          "text": [
            "     70/300      13.2G     0.9382      1.194      1.464        305        640: 100%|██████████| 22/22 [00:12<00:00,  1.78it/s]\n",
            "                 Class     Images  Instances      Box(P          R      mAP50  mAP50-95): 100%|██████████| 2/2 [00:01<00:00,  1.71it/s]"
          ]
        },
        {
          "output_type": "stream",
          "name": "stdout",
          "text": [
            "                   all        228       1219      0.537       0.41       0.47      0.317\n"
          ]
        },
        {
          "output_type": "stream",
          "name": "stderr",
          "text": [
            "\n"
          ]
        },
        {
          "output_type": "stream",
          "name": "stdout",
          "text": [
            "\n",
            "      Epoch    GPU_mem   box_loss   cls_loss   dfl_loss  Instances       Size\n"
          ]
        },
        {
          "output_type": "stream",
          "name": "stderr",
          "text": [
            "     71/300        13G     0.9243      1.185      1.438        300        640: 100%|██████████| 22/22 [00:12<00:00,  1.78it/s]\n",
            "                 Class     Images  Instances      Box(P          R      mAP50  mAP50-95): 100%|██████████| 2/2 [00:01<00:00,  1.69it/s]"
          ]
        },
        {
          "output_type": "stream",
          "name": "stdout",
          "text": [
            "                   all        228       1219      0.524      0.497      0.518      0.385\n"
          ]
        },
        {
          "output_type": "stream",
          "name": "stderr",
          "text": [
            "\n"
          ]
        },
        {
          "output_type": "stream",
          "name": "stdout",
          "text": [
            "\n",
            "      Epoch    GPU_mem   box_loss   cls_loss   dfl_loss  Instances       Size\n"
          ]
        },
        {
          "output_type": "stream",
          "name": "stderr",
          "text": [
            "     72/300      15.2G      0.911      1.164      1.429        309        640: 100%|██████████| 22/22 [00:12<00:00,  1.75it/s]\n",
            "                 Class     Images  Instances      Box(P          R      mAP50  mAP50-95): 100%|██████████| 2/2 [00:01<00:00,  1.72it/s]"
          ]
        },
        {
          "output_type": "stream",
          "name": "stdout",
          "text": [
            "                   all        228       1219      0.406      0.462      0.378       0.21\n"
          ]
        },
        {
          "output_type": "stream",
          "name": "stderr",
          "text": [
            "\n"
          ]
        },
        {
          "output_type": "stream",
          "name": "stdout",
          "text": [
            "\n",
            "      Epoch    GPU_mem   box_loss   cls_loss   dfl_loss  Instances       Size\n"
          ]
        },
        {
          "output_type": "stream",
          "name": "stderr",
          "text": [
            "     73/300      14.1G     0.9051      1.143      1.422        361        640: 100%|██████████| 22/22 [00:12<00:00,  1.77it/s]\n",
            "                 Class     Images  Instances      Box(P          R      mAP50  mAP50-95): 100%|██████████| 2/2 [00:01<00:00,  1.75it/s]"
          ]
        },
        {
          "output_type": "stream",
          "name": "stdout",
          "text": [
            "                   all        228       1219      0.538      0.554      0.538      0.362\n"
          ]
        },
        {
          "output_type": "stream",
          "name": "stderr",
          "text": [
            "\n"
          ]
        },
        {
          "output_type": "stream",
          "name": "stdout",
          "text": [
            "\n",
            "      Epoch    GPU_mem   box_loss   cls_loss   dfl_loss  Instances       Size\n"
          ]
        },
        {
          "output_type": "stream",
          "name": "stderr",
          "text": [
            "     74/300        13G     0.9118      1.172      1.436        300        640: 100%|██████████| 22/22 [00:12<00:00,  1.78it/s]\n",
            "                 Class     Images  Instances      Box(P          R      mAP50  mAP50-95): 100%|██████████| 2/2 [00:01<00:00,  1.71it/s]\n"
          ]
        },
        {
          "output_type": "stream",
          "name": "stdout",
          "text": [
            "                   all        228       1219      0.549      0.519      0.525      0.349\n",
            "\n",
            "      Epoch    GPU_mem   box_loss   cls_loss   dfl_loss  Instances       Size\n"
          ]
        },
        {
          "output_type": "stream",
          "name": "stderr",
          "text": [
            "     75/300      12.5G     0.9176      1.171      1.427        252        640: 100%|██████████| 22/22 [00:12<00:00,  1.79it/s]\n",
            "                 Class     Images  Instances      Box(P          R      mAP50  mAP50-95): 100%|██████████| 2/2 [00:01<00:00,  1.66it/s]"
          ]
        },
        {
          "output_type": "stream",
          "name": "stdout",
          "text": [
            "                   all        228       1219      0.538      0.412      0.439      0.309\n"
          ]
        },
        {
          "output_type": "stream",
          "name": "stderr",
          "text": [
            "\n"
          ]
        },
        {
          "output_type": "stream",
          "name": "stdout",
          "text": [
            "\n",
            "      Epoch    GPU_mem   box_loss   cls_loss   dfl_loss  Instances       Size\n"
          ]
        },
        {
          "output_type": "stream",
          "name": "stderr",
          "text": [
            "     76/300      12.4G     0.9105      1.175      1.427        328        640: 100%|██████████| 22/22 [00:12<00:00,  1.78it/s]\n",
            "                 Class     Images  Instances      Box(P          R      mAP50  mAP50-95): 100%|██████████| 2/2 [00:01<00:00,  1.70it/s]"
          ]
        },
        {
          "output_type": "stream",
          "name": "stdout",
          "text": [
            "                   all        228       1219      0.526      0.409      0.434      0.268\n"
          ]
        },
        {
          "output_type": "stream",
          "name": "stderr",
          "text": [
            "\n"
          ]
        },
        {
          "output_type": "stream",
          "name": "stdout",
          "text": [
            "\n",
            "      Epoch    GPU_mem   box_loss   cls_loss   dfl_loss  Instances       Size\n"
          ]
        },
        {
          "output_type": "stream",
          "name": "stderr",
          "text": [
            "     77/300      13.6G     0.9232      1.171      1.441        340        640: 100%|██████████| 22/22 [00:12<00:00,  1.78it/s]\n",
            "                 Class     Images  Instances      Box(P          R      mAP50  mAP50-95): 100%|██████████| 2/2 [00:01<00:00,  1.68it/s]\n"
          ]
        },
        {
          "output_type": "stream",
          "name": "stdout",
          "text": [
            "                   all        228       1219      0.491      0.421      0.433      0.295\n",
            "\n",
            "      Epoch    GPU_mem   box_loss   cls_loss   dfl_loss  Instances       Size\n"
          ]
        },
        {
          "output_type": "stream",
          "name": "stderr",
          "text": [
            "     78/300      12.9G     0.8917      1.141      1.416        288        640: 100%|██████████| 22/22 [00:12<00:00,  1.78it/s]\n",
            "                 Class     Images  Instances      Box(P          R      mAP50  mAP50-95): 100%|██████████| 2/2 [00:01<00:00,  1.61it/s]"
          ]
        },
        {
          "output_type": "stream",
          "name": "stdout",
          "text": [
            "                   all        228       1219      0.592      0.495      0.515       0.37\n"
          ]
        },
        {
          "output_type": "stream",
          "name": "stderr",
          "text": [
            "\n"
          ]
        },
        {
          "output_type": "stream",
          "name": "stdout",
          "text": [
            "\n",
            "      Epoch    GPU_mem   box_loss   cls_loss   dfl_loss  Instances       Size\n"
          ]
        },
        {
          "output_type": "stream",
          "name": "stderr",
          "text": [
            "     79/300      13.3G     0.9068      1.141      1.424        327        640: 100%|██████████| 22/22 [00:12<00:00,  1.77it/s]\n",
            "                 Class     Images  Instances      Box(P          R      mAP50  mAP50-95): 100%|██████████| 2/2 [00:01<00:00,  1.65it/s]"
          ]
        },
        {
          "output_type": "stream",
          "name": "stdout",
          "text": [
            "                   all        228       1219      0.544       0.48      0.506      0.357\n"
          ]
        },
        {
          "output_type": "stream",
          "name": "stderr",
          "text": [
            "\n"
          ]
        },
        {
          "output_type": "stream",
          "name": "stdout",
          "text": [
            "\n",
            "      Epoch    GPU_mem   box_loss   cls_loss   dfl_loss  Instances       Size\n"
          ]
        },
        {
          "output_type": "stream",
          "name": "stderr",
          "text": [
            "     80/300      14.3G     0.9016      1.155      1.423        286        640: 100%|██████████| 22/22 [00:12<00:00,  1.77it/s]\n",
            "                 Class     Images  Instances      Box(P          R      mAP50  mAP50-95): 100%|██████████| 2/2 [00:01<00:00,  1.71it/s]\n"
          ]
        },
        {
          "output_type": "stream",
          "name": "stdout",
          "text": [
            "                   all        228       1219      0.457      0.436      0.408      0.248\n",
            "\n",
            "      Epoch    GPU_mem   box_loss   cls_loss   dfl_loss  Instances       Size\n"
          ]
        },
        {
          "output_type": "stream",
          "name": "stderr",
          "text": [
            "     81/300      13.1G     0.8874      1.131      1.402        251        640: 100%|██████████| 22/22 [00:12<00:00,  1.77it/s]\n",
            "                 Class     Images  Instances      Box(P          R      mAP50  mAP50-95): 100%|██████████| 2/2 [00:01<00:00,  1.67it/s]\n"
          ]
        },
        {
          "output_type": "stream",
          "name": "stdout",
          "text": [
            "                   all        228       1219      0.474      0.355      0.363      0.224\n",
            "\n",
            "      Epoch    GPU_mem   box_loss   cls_loss   dfl_loss  Instances       Size\n"
          ]
        },
        {
          "output_type": "stream",
          "name": "stderr",
          "text": [
            "     82/300      13.2G     0.8838       1.12      1.404        415        640: 100%|██████████| 22/22 [00:12<00:00,  1.78it/s]\n",
            "                 Class     Images  Instances      Box(P          R      mAP50  mAP50-95): 100%|██████████| 2/2 [00:01<00:00,  1.70it/s]"
          ]
        },
        {
          "output_type": "stream",
          "name": "stdout",
          "text": [
            "                   all        228       1219      0.526      0.346      0.375      0.204\n"
          ]
        },
        {
          "output_type": "stream",
          "name": "stderr",
          "text": [
            "\n"
          ]
        },
        {
          "output_type": "stream",
          "name": "stdout",
          "text": [
            "\n",
            "      Epoch    GPU_mem   box_loss   cls_loss   dfl_loss  Instances       Size\n"
          ]
        },
        {
          "output_type": "stream",
          "name": "stderr",
          "text": [
            "     83/300        13G     0.8992      1.137      1.417        295        640: 100%|██████████| 22/22 [00:12<00:00,  1.78it/s]\n",
            "                 Class     Images  Instances      Box(P          R      mAP50  mAP50-95): 100%|██████████| 2/2 [00:01<00:00,  1.68it/s]"
          ]
        },
        {
          "output_type": "stream",
          "name": "stdout",
          "text": [
            "                   all        228       1219      0.518      0.493      0.495      0.345\n"
          ]
        },
        {
          "output_type": "stream",
          "name": "stderr",
          "text": [
            "\n"
          ]
        },
        {
          "output_type": "stream",
          "name": "stdout",
          "text": [
            "\n",
            "      Epoch    GPU_mem   box_loss   cls_loss   dfl_loss  Instances       Size\n"
          ]
        },
        {
          "output_type": "stream",
          "name": "stderr",
          "text": [
            "     84/300      14.3G     0.8896      1.143      1.411        321        640: 100%|██████████| 22/22 [00:12<00:00,  1.77it/s]\n",
            "                 Class     Images  Instances      Box(P          R      mAP50  mAP50-95): 100%|██████████| 2/2 [00:01<00:00,  1.67it/s]"
          ]
        },
        {
          "output_type": "stream",
          "name": "stdout",
          "text": [
            "                   all        228       1219      0.529      0.544      0.563      0.414\n"
          ]
        },
        {
          "output_type": "stream",
          "name": "stderr",
          "text": [
            "\n"
          ]
        },
        {
          "output_type": "stream",
          "name": "stdout",
          "text": [
            "\n",
            "      Epoch    GPU_mem   box_loss   cls_loss   dfl_loss  Instances       Size\n"
          ]
        },
        {
          "output_type": "stream",
          "name": "stderr",
          "text": [
            "     85/300      14.3G     0.8942      1.129      1.418        275        640: 100%|██████████| 22/22 [00:12<00:00,  1.77it/s]\n",
            "                 Class     Images  Instances      Box(P          R      mAP50  mAP50-95): 100%|██████████| 2/2 [00:01<00:00,  1.68it/s]"
          ]
        },
        {
          "output_type": "stream",
          "name": "stdout",
          "text": [
            "                   all        228       1219       0.53      0.445      0.478      0.352\n"
          ]
        },
        {
          "output_type": "stream",
          "name": "stderr",
          "text": [
            "\n"
          ]
        },
        {
          "output_type": "stream",
          "name": "stdout",
          "text": [
            "\n",
            "      Epoch    GPU_mem   box_loss   cls_loss   dfl_loss  Instances       Size\n"
          ]
        },
        {
          "output_type": "stream",
          "name": "stderr",
          "text": [
            "     86/300      13.8G     0.8792      1.103      1.403        346        640: 100%|██████████| 22/22 [00:12<00:00,  1.77it/s]\n",
            "                 Class     Images  Instances      Box(P          R      mAP50  mAP50-95): 100%|██████████| 2/2 [00:01<00:00,  1.72it/s]"
          ]
        },
        {
          "output_type": "stream",
          "name": "stdout",
          "text": [
            "                   all        228       1219      0.571      0.488       0.51      0.343\n"
          ]
        },
        {
          "output_type": "stream",
          "name": "stderr",
          "text": [
            "\n"
          ]
        },
        {
          "output_type": "stream",
          "name": "stdout",
          "text": [
            "\n",
            "      Epoch    GPU_mem   box_loss   cls_loss   dfl_loss  Instances       Size\n"
          ]
        },
        {
          "output_type": "stream",
          "name": "stderr",
          "text": [
            "     87/300        13G     0.8796      1.111      1.402        302        640: 100%|██████████| 22/22 [00:12<00:00,  1.77it/s]\n",
            "                 Class     Images  Instances      Box(P          R      mAP50  mAP50-95): 100%|██████████| 2/2 [00:01<00:00,  1.72it/s]"
          ]
        },
        {
          "output_type": "stream",
          "name": "stdout",
          "text": [
            "                   all        228       1219      0.567      0.544      0.559      0.401\n"
          ]
        },
        {
          "output_type": "stream",
          "name": "stderr",
          "text": [
            "\n"
          ]
        },
        {
          "output_type": "stream",
          "name": "stdout",
          "text": [
            "\n",
            "      Epoch    GPU_mem   box_loss   cls_loss   dfl_loss  Instances       Size\n"
          ]
        },
        {
          "output_type": "stream",
          "name": "stderr",
          "text": [
            "     88/300      13.8G     0.8857      1.111      1.408        345        640: 100%|██████████| 22/22 [00:12<00:00,  1.77it/s]\n",
            "                 Class     Images  Instances      Box(P          R      mAP50  mAP50-95): 100%|██████████| 2/2 [00:01<00:00,  1.68it/s]"
          ]
        },
        {
          "output_type": "stream",
          "name": "stdout",
          "text": [
            "                   all        228       1219       0.49      0.499      0.491      0.365\n"
          ]
        },
        {
          "output_type": "stream",
          "name": "stderr",
          "text": [
            "\n"
          ]
        },
        {
          "output_type": "stream",
          "name": "stdout",
          "text": [
            "\n",
            "      Epoch    GPU_mem   box_loss   cls_loss   dfl_loss  Instances       Size\n"
          ]
        },
        {
          "output_type": "stream",
          "name": "stderr",
          "text": [
            "     89/300      13.5G     0.8779      1.117        1.4        349        640: 100%|██████████| 22/22 [00:12<00:00,  1.77it/s]\n",
            "                 Class     Images  Instances      Box(P          R      mAP50  mAP50-95): 100%|██████████| 2/2 [00:01<00:00,  1.76it/s]"
          ]
        },
        {
          "output_type": "stream",
          "name": "stdout",
          "text": [
            "                   all        228       1219      0.425      0.415      0.349      0.225\n"
          ]
        },
        {
          "output_type": "stream",
          "name": "stderr",
          "text": [
            "\n"
          ]
        },
        {
          "output_type": "stream",
          "name": "stdout",
          "text": [
            "\n",
            "      Epoch    GPU_mem   box_loss   cls_loss   dfl_loss  Instances       Size\n"
          ]
        },
        {
          "output_type": "stream",
          "name": "stderr",
          "text": [
            "     90/300        14G     0.8859      1.116      1.405        305        640: 100%|██████████| 22/22 [00:12<00:00,  1.77it/s]\n",
            "                 Class     Images  Instances      Box(P          R      mAP50  mAP50-95): 100%|██████████| 2/2 [00:01<00:00,  1.71it/s]"
          ]
        },
        {
          "output_type": "stream",
          "name": "stdout",
          "text": [
            "                   all        228       1219      0.628      0.532      0.599      0.423\n"
          ]
        },
        {
          "output_type": "stream",
          "name": "stderr",
          "text": [
            "\n"
          ]
        },
        {
          "output_type": "stream",
          "name": "stdout",
          "text": [
            "\n",
            "      Epoch    GPU_mem   box_loss   cls_loss   dfl_loss  Instances       Size\n"
          ]
        },
        {
          "output_type": "stream",
          "name": "stderr",
          "text": [
            "     91/300      13.8G     0.8751      1.102        1.4        248        640: 100%|██████████| 22/22 [00:12<00:00,  1.77it/s]\n",
            "                 Class     Images  Instances      Box(P          R      mAP50  mAP50-95): 100%|██████████| 2/2 [00:01<00:00,  1.74it/s]"
          ]
        },
        {
          "output_type": "stream",
          "name": "stdout",
          "text": [
            "                   all        228       1219      0.487       0.53      0.533      0.378\n"
          ]
        },
        {
          "output_type": "stream",
          "name": "stderr",
          "text": [
            "\n"
          ]
        },
        {
          "output_type": "stream",
          "name": "stdout",
          "text": [
            "\n",
            "      Epoch    GPU_mem   box_loss   cls_loss   dfl_loss  Instances       Size\n"
          ]
        },
        {
          "output_type": "stream",
          "name": "stderr",
          "text": [
            "     92/300      13.7G     0.8673      1.075      1.392        412        640: 100%|██████████| 22/22 [00:12<00:00,  1.77it/s]\n",
            "                 Class     Images  Instances      Box(P          R      mAP50  mAP50-95): 100%|██████████| 2/2 [00:01<00:00,  1.67it/s]"
          ]
        },
        {
          "output_type": "stream",
          "name": "stdout",
          "text": [
            "                   all        228       1219      0.409      0.406      0.347      0.226\n"
          ]
        },
        {
          "output_type": "stream",
          "name": "stderr",
          "text": [
            "\n"
          ]
        },
        {
          "output_type": "stream",
          "name": "stdout",
          "text": [
            "\n",
            "      Epoch    GPU_mem   box_loss   cls_loss   dfl_loss  Instances       Size\n"
          ]
        },
        {
          "output_type": "stream",
          "name": "stderr",
          "text": [
            "     93/300      13.7G     0.8689      1.088      1.393        397        640: 100%|██████████| 22/22 [00:12<00:00,  1.78it/s]\n",
            "                 Class     Images  Instances      Box(P          R      mAP50  mAP50-95): 100%|██████████| 2/2 [00:01<00:00,  1.67it/s]"
          ]
        },
        {
          "output_type": "stream",
          "name": "stdout",
          "text": [
            "                   all        228       1219      0.471      0.447      0.421      0.233\n"
          ]
        },
        {
          "output_type": "stream",
          "name": "stderr",
          "text": [
            "\n"
          ]
        },
        {
          "output_type": "stream",
          "name": "stdout",
          "text": [
            "\n",
            "      Epoch    GPU_mem   box_loss   cls_loss   dfl_loss  Instances       Size\n"
          ]
        },
        {
          "output_type": "stream",
          "name": "stderr",
          "text": [
            "     94/300      13.3G     0.8815       1.09      1.409        334        640: 100%|██████████| 22/22 [00:12<00:00,  1.77it/s]\n",
            "                 Class     Images  Instances      Box(P          R      mAP50  mAP50-95): 100%|██████████| 2/2 [00:01<00:00,  1.73it/s]"
          ]
        },
        {
          "output_type": "stream",
          "name": "stdout",
          "text": [
            "                   all        228       1219      0.571      0.554      0.582      0.427\n"
          ]
        },
        {
          "output_type": "stream",
          "name": "stderr",
          "text": [
            "\n"
          ]
        },
        {
          "output_type": "stream",
          "name": "stdout",
          "text": [
            "\n",
            "      Epoch    GPU_mem   box_loss   cls_loss   dfl_loss  Instances       Size\n"
          ]
        },
        {
          "output_type": "stream",
          "name": "stderr",
          "text": [
            "     95/300      13.6G     0.8678      1.081      1.391        387        640: 100%|██████████| 22/22 [00:12<00:00,  1.76it/s]\n",
            "                 Class     Images  Instances      Box(P          R      mAP50  mAP50-95): 100%|██████████| 2/2 [00:01<00:00,  1.72it/s]"
          ]
        },
        {
          "output_type": "stream",
          "name": "stdout",
          "text": [
            "                   all        228       1219      0.641      0.581      0.639      0.473\n"
          ]
        },
        {
          "output_type": "stream",
          "name": "stderr",
          "text": [
            "\n"
          ]
        },
        {
          "output_type": "stream",
          "name": "stdout",
          "text": [
            "\n",
            "      Epoch    GPU_mem   box_loss   cls_loss   dfl_loss  Instances       Size\n"
          ]
        },
        {
          "output_type": "stream",
          "name": "stderr",
          "text": [
            "     96/300      13.1G     0.8579       1.06      1.386        272        640: 100%|██████████| 22/22 [00:12<00:00,  1.77it/s]\n",
            "                 Class     Images  Instances      Box(P          R      mAP50  mAP50-95): 100%|██████████| 2/2 [00:01<00:00,  1.69it/s]"
          ]
        },
        {
          "output_type": "stream",
          "name": "stdout",
          "text": [
            "                   all        228       1219       0.58       0.52      0.567      0.424\n"
          ]
        },
        {
          "output_type": "stream",
          "name": "stderr",
          "text": [
            "\n"
          ]
        },
        {
          "output_type": "stream",
          "name": "stdout",
          "text": [
            "\n",
            "      Epoch    GPU_mem   box_loss   cls_loss   dfl_loss  Instances       Size\n"
          ]
        },
        {
          "output_type": "stream",
          "name": "stderr",
          "text": [
            "     97/300      13.1G     0.8575      1.064      1.384        287        640: 100%|██████████| 22/22 [00:12<00:00,  1.78it/s]\n",
            "                 Class     Images  Instances      Box(P          R      mAP50  mAP50-95): 100%|██████████| 2/2 [00:01<00:00,  1.75it/s]"
          ]
        },
        {
          "output_type": "stream",
          "name": "stdout",
          "text": [
            "                   all        228       1219      0.337      0.427      0.337      0.208\n"
          ]
        },
        {
          "output_type": "stream",
          "name": "stderr",
          "text": [
            "\n"
          ]
        },
        {
          "output_type": "stream",
          "name": "stdout",
          "text": [
            "\n",
            "      Epoch    GPU_mem   box_loss   cls_loss   dfl_loss  Instances       Size\n"
          ]
        },
        {
          "output_type": "stream",
          "name": "stderr",
          "text": [
            "     98/300      13.6G     0.8508      1.071      1.369        314        640: 100%|██████████| 22/22 [00:12<00:00,  1.78it/s]\n",
            "                 Class     Images  Instances      Box(P          R      mAP50  mAP50-95): 100%|██████████| 2/2 [00:01<00:00,  1.72it/s]"
          ]
        },
        {
          "output_type": "stream",
          "name": "stdout",
          "text": [
            "                   all        228       1219      0.497      0.515      0.495      0.348\n"
          ]
        },
        {
          "output_type": "stream",
          "name": "stderr",
          "text": [
            "\n"
          ]
        },
        {
          "output_type": "stream",
          "name": "stdout",
          "text": [
            "\n",
            "      Epoch    GPU_mem   box_loss   cls_loss   dfl_loss  Instances       Size\n"
          ]
        },
        {
          "output_type": "stream",
          "name": "stderr",
          "text": [
            "     99/300        13G     0.8589      1.066      1.381        291        640: 100%|██████████| 22/22 [00:12<00:00,  1.78it/s]\n",
            "                 Class     Images  Instances      Box(P          R      mAP50  mAP50-95): 100%|██████████| 2/2 [00:01<00:00,  1.75it/s]"
          ]
        },
        {
          "output_type": "stream",
          "name": "stdout",
          "text": [
            "                   all        228       1219      0.662      0.455      0.526      0.405\n"
          ]
        },
        {
          "output_type": "stream",
          "name": "stderr",
          "text": [
            "\n"
          ]
        },
        {
          "output_type": "stream",
          "name": "stdout",
          "text": [
            "\n",
            "      Epoch    GPU_mem   box_loss   cls_loss   dfl_loss  Instances       Size\n"
          ]
        },
        {
          "output_type": "stream",
          "name": "stderr",
          "text": [
            "    100/300        13G     0.8569      1.077      1.385        307        640: 100%|██████████| 22/22 [00:12<00:00,  1.78it/s]\n",
            "                 Class     Images  Instances      Box(P          R      mAP50  mAP50-95): 100%|██████████| 2/2 [00:01<00:00,  1.75it/s]"
          ]
        },
        {
          "output_type": "stream",
          "name": "stdout",
          "text": [
            "                   all        228       1219       0.58      0.479      0.529      0.373\n"
          ]
        },
        {
          "output_type": "stream",
          "name": "stderr",
          "text": [
            "\n"
          ]
        },
        {
          "output_type": "stream",
          "name": "stdout",
          "text": [
            "\n",
            "      Epoch    GPU_mem   box_loss   cls_loss   dfl_loss  Instances       Size\n"
          ]
        },
        {
          "output_type": "stream",
          "name": "stderr",
          "text": [
            "    101/300      14.5G     0.8523      1.053      1.375        270        640: 100%|██████████| 22/22 [00:12<00:00,  1.78it/s]\n",
            "                 Class     Images  Instances      Box(P          R      mAP50  mAP50-95): 100%|██████████| 2/2 [00:01<00:00,  1.72it/s]"
          ]
        },
        {
          "output_type": "stream",
          "name": "stdout",
          "text": [
            "                   all        228       1219      0.623      0.471      0.541      0.384\n"
          ]
        },
        {
          "output_type": "stream",
          "name": "stderr",
          "text": [
            "\n"
          ]
        },
        {
          "output_type": "stream",
          "name": "stdout",
          "text": [
            "\n",
            "      Epoch    GPU_mem   box_loss   cls_loss   dfl_loss  Instances       Size\n"
          ]
        },
        {
          "output_type": "stream",
          "name": "stderr",
          "text": [
            "    102/300      13.1G     0.8387      1.036      1.368        273        640: 100%|██████████| 22/22 [00:12<00:00,  1.78it/s]\n",
            "                 Class     Images  Instances      Box(P          R      mAP50  mAP50-95): 100%|██████████| 2/2 [00:01<00:00,  1.58it/s]\n"
          ]
        },
        {
          "output_type": "stream",
          "name": "stdout",
          "text": [
            "                   all        228       1219      0.326      0.402      0.269      0.145\n",
            "\n",
            "      Epoch    GPU_mem   box_loss   cls_loss   dfl_loss  Instances       Size\n"
          ]
        },
        {
          "output_type": "stream",
          "name": "stderr",
          "text": [
            "    103/300      13.8G     0.8442      1.046      1.371        347        640: 100%|██████████| 22/22 [00:12<00:00,  1.76it/s]\n",
            "                 Class     Images  Instances      Box(P          R      mAP50  mAP50-95): 100%|██████████| 2/2 [00:01<00:00,  1.70it/s]"
          ]
        },
        {
          "output_type": "stream",
          "name": "stdout",
          "text": [
            "                   all        228       1219       0.48      0.525      0.503      0.333\n"
          ]
        },
        {
          "output_type": "stream",
          "name": "stderr",
          "text": [
            "\n"
          ]
        },
        {
          "output_type": "stream",
          "name": "stdout",
          "text": [
            "\n",
            "      Epoch    GPU_mem   box_loss   cls_loss   dfl_loss  Instances       Size\n"
          ]
        },
        {
          "output_type": "stream",
          "name": "stderr",
          "text": [
            "    104/300      13.3G     0.8374      1.031      1.365        303        640: 100%|██████████| 22/22 [00:12<00:00,  1.77it/s]\n",
            "                 Class     Images  Instances      Box(P          R      mAP50  mAP50-95): 100%|██████████| 2/2 [00:01<00:00,  1.75it/s]"
          ]
        },
        {
          "output_type": "stream",
          "name": "stdout",
          "text": [
            "                   all        228       1219      0.585      0.509      0.564      0.412\n"
          ]
        },
        {
          "output_type": "stream",
          "name": "stderr",
          "text": [
            "\n"
          ]
        },
        {
          "output_type": "stream",
          "name": "stdout",
          "text": [
            "\n",
            "      Epoch    GPU_mem   box_loss   cls_loss   dfl_loss  Instances       Size\n"
          ]
        },
        {
          "output_type": "stream",
          "name": "stderr",
          "text": [
            "    105/300      13.2G     0.8539      1.058      1.382        378        640: 100%|██████████| 22/22 [00:12<00:00,  1.78it/s]\n",
            "                 Class     Images  Instances      Box(P          R      mAP50  mAP50-95): 100%|██████████| 2/2 [00:01<00:00,  1.72it/s]"
          ]
        },
        {
          "output_type": "stream",
          "name": "stdout",
          "text": [
            "                   all        228       1219      0.583      0.541      0.553       0.36\n"
          ]
        },
        {
          "output_type": "stream",
          "name": "stderr",
          "text": [
            "\n"
          ]
        },
        {
          "output_type": "stream",
          "name": "stdout",
          "text": [
            "\n",
            "      Epoch    GPU_mem   box_loss   cls_loss   dfl_loss  Instances       Size\n"
          ]
        },
        {
          "output_type": "stream",
          "name": "stderr",
          "text": [
            "    106/300      13.2G     0.8453      1.043      1.369        325        640: 100%|██████████| 22/22 [00:12<00:00,  1.76it/s]\n",
            "                 Class     Images  Instances      Box(P          R      mAP50  mAP50-95): 100%|██████████| 2/2 [00:01<00:00,  1.74it/s]"
          ]
        },
        {
          "output_type": "stream",
          "name": "stdout",
          "text": [
            "                   all        228       1219      0.574      0.469      0.506      0.348\n"
          ]
        },
        {
          "output_type": "stream",
          "name": "stderr",
          "text": [
            "\n"
          ]
        },
        {
          "output_type": "stream",
          "name": "stdout",
          "text": [
            "\n",
            "      Epoch    GPU_mem   box_loss   cls_loss   dfl_loss  Instances       Size\n"
          ]
        },
        {
          "output_type": "stream",
          "name": "stderr",
          "text": [
            "    107/300      13.7G     0.8413      1.052      1.366        291        640: 100%|██████████| 22/22 [00:12<00:00,  1.77it/s]\n",
            "                 Class     Images  Instances      Box(P          R      mAP50  mAP50-95): 100%|██████████| 2/2 [00:01<00:00,  1.61it/s]"
          ]
        },
        {
          "output_type": "stream",
          "name": "stdout",
          "text": [
            "                   all        228       1219      0.568      0.562      0.573      0.401\n"
          ]
        },
        {
          "output_type": "stream",
          "name": "stderr",
          "text": [
            "\n"
          ]
        },
        {
          "output_type": "stream",
          "name": "stdout",
          "text": [
            "\n",
            "      Epoch    GPU_mem   box_loss   cls_loss   dfl_loss  Instances       Size\n"
          ]
        },
        {
          "output_type": "stream",
          "name": "stderr",
          "text": [
            "    108/300      13.7G      0.851       1.05      1.375        301        640: 100%|██████████| 22/22 [00:12<00:00,  1.77it/s]\n",
            "                 Class     Images  Instances      Box(P          R      mAP50  mAP50-95): 100%|██████████| 2/2 [00:01<00:00,  1.66it/s]"
          ]
        },
        {
          "output_type": "stream",
          "name": "stdout",
          "text": [
            "                   all        228       1219      0.718      0.554      0.641      0.484\n"
          ]
        },
        {
          "output_type": "stream",
          "name": "stderr",
          "text": [
            "\n"
          ]
        },
        {
          "output_type": "stream",
          "name": "stdout",
          "text": [
            "\n",
            "      Epoch    GPU_mem   box_loss   cls_loss   dfl_loss  Instances       Size\n"
          ]
        },
        {
          "output_type": "stream",
          "name": "stderr",
          "text": [
            "    109/300      13.7G     0.8419      1.033      1.368        380        640: 100%|██████████| 22/22 [00:12<00:00,  1.77it/s]\n",
            "                 Class     Images  Instances      Box(P          R      mAP50  mAP50-95): 100%|██████████| 2/2 [00:01<00:00,  1.67it/s]\n"
          ]
        },
        {
          "output_type": "stream",
          "name": "stdout",
          "text": [
            "                   all        228       1219      0.594      0.489       0.53      0.355\n",
            "\n",
            "      Epoch    GPU_mem   box_loss   cls_loss   dfl_loss  Instances       Size\n"
          ]
        },
        {
          "output_type": "stream",
          "name": "stderr",
          "text": [
            "    110/300      13.4G     0.8297      1.025      1.354        391        640: 100%|██████████| 22/22 [00:12<00:00,  1.78it/s]\n",
            "                 Class     Images  Instances      Box(P          R      mAP50  mAP50-95): 100%|██████████| 2/2 [00:01<00:00,  1.73it/s]"
          ]
        },
        {
          "output_type": "stream",
          "name": "stdout",
          "text": [
            "                   all        228       1219      0.512      0.425      0.468      0.306\n"
          ]
        },
        {
          "output_type": "stream",
          "name": "stderr",
          "text": [
            "\n"
          ]
        },
        {
          "output_type": "stream",
          "name": "stdout",
          "text": [
            "\n",
            "      Epoch    GPU_mem   box_loss   cls_loss   dfl_loss  Instances       Size\n"
          ]
        },
        {
          "output_type": "stream",
          "name": "stderr",
          "text": [
            "    111/300      13.2G     0.8192      1.018      1.349        341        640: 100%|██████████| 22/22 [00:12<00:00,  1.78it/s]\n",
            "                 Class     Images  Instances      Box(P          R      mAP50  mAP50-95): 100%|██████████| 2/2 [00:01<00:00,  1.68it/s]"
          ]
        },
        {
          "output_type": "stream",
          "name": "stdout",
          "text": [
            "                   all        228       1219      0.523       0.54      0.548      0.371\n"
          ]
        },
        {
          "output_type": "stream",
          "name": "stderr",
          "text": [
            "\n"
          ]
        },
        {
          "output_type": "stream",
          "name": "stdout",
          "text": [
            "\n",
            "      Epoch    GPU_mem   box_loss   cls_loss   dfl_loss  Instances       Size\n"
          ]
        },
        {
          "output_type": "stream",
          "name": "stderr",
          "text": [
            "    112/300      13.6G     0.8409       1.03      1.365        365        640: 100%|██████████| 22/22 [00:12<00:00,  1.77it/s]\n",
            "                 Class     Images  Instances      Box(P          R      mAP50  mAP50-95): 100%|██████████| 2/2 [00:01<00:00,  1.74it/s]"
          ]
        },
        {
          "output_type": "stream",
          "name": "stdout",
          "text": [
            "                   all        228       1219      0.663      0.489      0.571       0.38\n"
          ]
        },
        {
          "output_type": "stream",
          "name": "stderr",
          "text": [
            "\n"
          ]
        },
        {
          "output_type": "stream",
          "name": "stdout",
          "text": [
            "\n",
            "      Epoch    GPU_mem   box_loss   cls_loss   dfl_loss  Instances       Size\n"
          ]
        },
        {
          "output_type": "stream",
          "name": "stderr",
          "text": [
            "    113/300      13.7G     0.8328      1.033      1.357        301        640: 100%|██████████| 22/22 [00:12<00:00,  1.77it/s]\n",
            "                 Class     Images  Instances      Box(P          R      mAP50  mAP50-95): 100%|██████████| 2/2 [00:01<00:00,  1.73it/s]"
          ]
        },
        {
          "output_type": "stream",
          "name": "stdout",
          "text": [
            "                   all        228       1219      0.676       0.46      0.559       0.41\n"
          ]
        },
        {
          "output_type": "stream",
          "name": "stderr",
          "text": [
            "\n"
          ]
        },
        {
          "output_type": "stream",
          "name": "stdout",
          "text": [
            "\n",
            "      Epoch    GPU_mem   box_loss   cls_loss   dfl_loss  Instances       Size\n"
          ]
        },
        {
          "output_type": "stream",
          "name": "stderr",
          "text": [
            "    114/300      13.4G      0.839      1.029      1.369        334        640: 100%|██████████| 22/22 [00:12<00:00,  1.77it/s]\n",
            "                 Class     Images  Instances      Box(P          R      mAP50  mAP50-95): 100%|██████████| 2/2 [00:01<00:00,  1.71it/s]"
          ]
        },
        {
          "output_type": "stream",
          "name": "stdout",
          "text": [
            "                   all        228       1219      0.678      0.555      0.631       0.47\n"
          ]
        },
        {
          "output_type": "stream",
          "name": "stderr",
          "text": [
            "\n"
          ]
        },
        {
          "output_type": "stream",
          "name": "stdout",
          "text": [
            "\n",
            "      Epoch    GPU_mem   box_loss   cls_loss   dfl_loss  Instances       Size\n"
          ]
        },
        {
          "output_type": "stream",
          "name": "stderr",
          "text": [
            "    115/300      13.8G      0.834      1.015      1.358        330        640: 100%|██████████| 22/22 [00:12<00:00,  1.76it/s]\n",
            "                 Class     Images  Instances      Box(P          R      mAP50  mAP50-95): 100%|██████████| 2/2 [00:01<00:00,  1.74it/s]"
          ]
        },
        {
          "output_type": "stream",
          "name": "stdout",
          "text": [
            "                   all        228       1219       0.52      0.529      0.523      0.363\n"
          ]
        },
        {
          "output_type": "stream",
          "name": "stderr",
          "text": [
            "\n"
          ]
        },
        {
          "output_type": "stream",
          "name": "stdout",
          "text": [
            "\n",
            "      Epoch    GPU_mem   box_loss   cls_loss   dfl_loss  Instances       Size\n"
          ]
        },
        {
          "output_type": "stream",
          "name": "stderr",
          "text": [
            "    116/300      13.1G     0.8386      1.034      1.358        310        640: 100%|██████████| 22/22 [00:12<00:00,  1.78it/s]\n",
            "                 Class     Images  Instances      Box(P          R      mAP50  mAP50-95): 100%|██████████| 2/2 [00:01<00:00,  1.71it/s]"
          ]
        },
        {
          "output_type": "stream",
          "name": "stdout",
          "text": [
            "                   all        228       1219      0.601      0.575      0.568      0.411\n"
          ]
        },
        {
          "output_type": "stream",
          "name": "stderr",
          "text": [
            "\n"
          ]
        },
        {
          "output_type": "stream",
          "name": "stdout",
          "text": [
            "\n",
            "      Epoch    GPU_mem   box_loss   cls_loss   dfl_loss  Instances       Size\n"
          ]
        },
        {
          "output_type": "stream",
          "name": "stderr",
          "text": [
            "    117/300        14G      0.821      1.016      1.353        298        640: 100%|██████████| 22/22 [00:12<00:00,  1.77it/s]\n",
            "                 Class     Images  Instances      Box(P          R      mAP50  mAP50-95): 100%|██████████| 2/2 [00:01<00:00,  1.73it/s]"
          ]
        },
        {
          "output_type": "stream",
          "name": "stdout",
          "text": [
            "                   all        228       1219      0.658      0.476      0.574      0.435\n"
          ]
        },
        {
          "output_type": "stream",
          "name": "stderr",
          "text": [
            "\n"
          ]
        },
        {
          "output_type": "stream",
          "name": "stdout",
          "text": [
            "\n",
            "      Epoch    GPU_mem   box_loss   cls_loss   dfl_loss  Instances       Size\n"
          ]
        },
        {
          "output_type": "stream",
          "name": "stderr",
          "text": [
            "    118/300      14.5G      0.817     0.9902      1.353        377        640: 100%|██████████| 22/22 [00:12<00:00,  1.77it/s]\n",
            "                 Class     Images  Instances      Box(P          R      mAP50  mAP50-95): 100%|██████████| 2/2 [00:01<00:00,  1.70it/s]"
          ]
        },
        {
          "output_type": "stream",
          "name": "stdout",
          "text": [
            "                   all        228       1219       0.69      0.583      0.638      0.481\n"
          ]
        },
        {
          "output_type": "stream",
          "name": "stderr",
          "text": [
            "\n"
          ]
        },
        {
          "output_type": "stream",
          "name": "stdout",
          "text": [
            "\n",
            "      Epoch    GPU_mem   box_loss   cls_loss   dfl_loss  Instances       Size\n"
          ]
        },
        {
          "output_type": "stream",
          "name": "stderr",
          "text": [
            "    119/300      13.5G     0.8176     0.9954      1.348        349        640: 100%|██████████| 22/22 [00:12<00:00,  1.77it/s]\n",
            "                 Class     Images  Instances      Box(P          R      mAP50  mAP50-95): 100%|██████████| 2/2 [00:01<00:00,  1.64it/s]\n"
          ]
        },
        {
          "output_type": "stream",
          "name": "stdout",
          "text": [
            "                   all        228       1219      0.662       0.54       0.61      0.426\n",
            "\n",
            "      Epoch    GPU_mem   box_loss   cls_loss   dfl_loss  Instances       Size\n"
          ]
        },
        {
          "output_type": "stream",
          "name": "stderr",
          "text": [
            "    120/300      13.1G     0.8093      1.001      1.341        267        640: 100%|██████████| 22/22 [00:12<00:00,  1.77it/s]\n",
            "                 Class     Images  Instances      Box(P          R      mAP50  mAP50-95): 100%|██████████| 2/2 [00:01<00:00,  1.73it/s]"
          ]
        },
        {
          "output_type": "stream",
          "name": "stdout",
          "text": [
            "                   all        228       1219       0.67      0.433      0.499      0.362\n"
          ]
        },
        {
          "output_type": "stream",
          "name": "stderr",
          "text": [
            "\n"
          ]
        },
        {
          "output_type": "stream",
          "name": "stdout",
          "text": [
            "\n",
            "      Epoch    GPU_mem   box_loss   cls_loss   dfl_loss  Instances       Size\n"
          ]
        },
        {
          "output_type": "stream",
          "name": "stderr",
          "text": [
            "    121/300      13.7G     0.8109     0.9997      1.343        310        640: 100%|██████████| 22/22 [00:12<00:00,  1.77it/s]\n",
            "                 Class     Images  Instances      Box(P          R      mAP50  mAP50-95): 100%|██████████| 2/2 [00:01<00:00,  1.64it/s]"
          ]
        },
        {
          "output_type": "stream",
          "name": "stdout",
          "text": [
            "                   all        228       1219      0.609      0.512      0.544      0.387\n"
          ]
        },
        {
          "output_type": "stream",
          "name": "stderr",
          "text": [
            "\n"
          ]
        },
        {
          "output_type": "stream",
          "name": "stdout",
          "text": [
            "\n",
            "      Epoch    GPU_mem   box_loss   cls_loss   dfl_loss  Instances       Size\n"
          ]
        },
        {
          "output_type": "stream",
          "name": "stderr",
          "text": [
            "    122/300      13.1G     0.8173      1.005      1.348        227        640: 100%|██████████| 22/22 [00:12<00:00,  1.78it/s]\n",
            "                 Class     Images  Instances      Box(P          R      mAP50  mAP50-95): 100%|██████████| 2/2 [00:01<00:00,  1.68it/s]"
          ]
        },
        {
          "output_type": "stream",
          "name": "stdout",
          "text": [
            "                   all        228       1219      0.565      0.507      0.515      0.359\n"
          ]
        },
        {
          "output_type": "stream",
          "name": "stderr",
          "text": [
            "\n"
          ]
        },
        {
          "output_type": "stream",
          "name": "stdout",
          "text": [
            "\n",
            "      Epoch    GPU_mem   box_loss   cls_loss   dfl_loss  Instances       Size\n"
          ]
        },
        {
          "output_type": "stream",
          "name": "stderr",
          "text": [
            "    123/300      14.3G      0.816      1.002      1.354        306        640: 100%|██████████| 22/22 [00:12<00:00,  1.77it/s]\n",
            "                 Class     Images  Instances      Box(P          R      mAP50  mAP50-95): 100%|██████████| 2/2 [00:01<00:00,  1.74it/s]"
          ]
        },
        {
          "output_type": "stream",
          "name": "stdout",
          "text": [
            "                   all        228       1219      0.547       0.49        0.5      0.351\n"
          ]
        },
        {
          "output_type": "stream",
          "name": "stderr",
          "text": [
            "\n"
          ]
        },
        {
          "output_type": "stream",
          "name": "stdout",
          "text": [
            "\n",
            "      Epoch    GPU_mem   box_loss   cls_loss   dfl_loss  Instances       Size\n"
          ]
        },
        {
          "output_type": "stream",
          "name": "stderr",
          "text": [
            "    124/300      13.4G     0.8124      1.001      1.346        322        640: 100%|██████████| 22/22 [00:12<00:00,  1.77it/s]\n",
            "                 Class     Images  Instances      Box(P          R      mAP50  mAP50-95): 100%|██████████| 2/2 [00:01<00:00,  1.71it/s]"
          ]
        },
        {
          "output_type": "stream",
          "name": "stdout",
          "text": [
            "                   all        228       1219      0.545      0.495      0.521      0.354\n"
          ]
        },
        {
          "output_type": "stream",
          "name": "stderr",
          "text": [
            "\n"
          ]
        },
        {
          "output_type": "stream",
          "name": "stdout",
          "text": [
            "\n",
            "      Epoch    GPU_mem   box_loss   cls_loss   dfl_loss  Instances       Size\n"
          ]
        },
        {
          "output_type": "stream",
          "name": "stderr",
          "text": [
            "    125/300      13.8G     0.8102     0.9787      1.342        311        640: 100%|██████████| 22/22 [00:12<00:00,  1.76it/s]\n",
            "                 Class     Images  Instances      Box(P          R      mAP50  mAP50-95): 100%|██████████| 2/2 [00:01<00:00,  1.69it/s]"
          ]
        },
        {
          "output_type": "stream",
          "name": "stdout",
          "text": [
            "                   all        228       1219      0.492      0.544      0.513      0.327\n"
          ]
        },
        {
          "output_type": "stream",
          "name": "stderr",
          "text": [
            "\n"
          ]
        },
        {
          "output_type": "stream",
          "name": "stdout",
          "text": [
            "\n",
            "      Epoch    GPU_mem   box_loss   cls_loss   dfl_loss  Instances       Size\n"
          ]
        },
        {
          "output_type": "stream",
          "name": "stderr",
          "text": [
            "    126/300      13.4G     0.7969      0.968      1.331        350        640: 100%|██████████| 22/22 [00:12<00:00,  1.77it/s]\n",
            "                 Class     Images  Instances      Box(P          R      mAP50  mAP50-95): 100%|██████████| 2/2 [00:01<00:00,  1.68it/s]"
          ]
        },
        {
          "output_type": "stream",
          "name": "stdout",
          "text": [
            "                   all        228       1219      0.576      0.512      0.576      0.396\n"
          ]
        },
        {
          "output_type": "stream",
          "name": "stderr",
          "text": [
            "\n"
          ]
        },
        {
          "output_type": "stream",
          "name": "stdout",
          "text": [
            "\n",
            "      Epoch    GPU_mem   box_loss   cls_loss   dfl_loss  Instances       Size\n"
          ]
        },
        {
          "output_type": "stream",
          "name": "stderr",
          "text": [
            "    127/300      14.5G     0.7966     0.9693      1.328        300        640: 100%|██████████| 22/22 [00:12<00:00,  1.77it/s]\n",
            "                 Class     Images  Instances      Box(P          R      mAP50  mAP50-95): 100%|██████████| 2/2 [00:01<00:00,  1.74it/s]"
          ]
        },
        {
          "output_type": "stream",
          "name": "stdout",
          "text": [
            "                   all        228       1219      0.575      0.553      0.564      0.383\n"
          ]
        },
        {
          "output_type": "stream",
          "name": "stderr",
          "text": [
            "\n"
          ]
        },
        {
          "output_type": "stream",
          "name": "stdout",
          "text": [
            "\n",
            "      Epoch    GPU_mem   box_loss   cls_loss   dfl_loss  Instances       Size\n"
          ]
        },
        {
          "output_type": "stream",
          "name": "stderr",
          "text": [
            "    128/300      13.6G     0.8091     0.9905      1.346        286        640: 100%|██████████| 22/22 [00:12<00:00,  1.78it/s]\n",
            "                 Class     Images  Instances      Box(P          R      mAP50  mAP50-95): 100%|██████████| 2/2 [00:01<00:00,  1.71it/s]"
          ]
        },
        {
          "output_type": "stream",
          "name": "stdout",
          "text": [
            "                   all        228       1219      0.622      0.519      0.552      0.383\n"
          ]
        },
        {
          "output_type": "stream",
          "name": "stderr",
          "text": [
            "\n"
          ]
        },
        {
          "output_type": "stream",
          "name": "stdout",
          "text": [
            "\n",
            "      Epoch    GPU_mem   box_loss   cls_loss   dfl_loss  Instances       Size\n"
          ]
        },
        {
          "output_type": "stream",
          "name": "stderr",
          "text": [
            "    129/300      13.7G     0.7916     0.9726      1.321        324        640: 100%|██████████| 22/22 [00:12<00:00,  1.77it/s]\n",
            "                 Class     Images  Instances      Box(P          R      mAP50  mAP50-95): 100%|██████████| 2/2 [00:01<00:00,  1.71it/s]\n"
          ]
        },
        {
          "output_type": "stream",
          "name": "stdout",
          "text": [
            "                   all        228       1219      0.646      0.562      0.599      0.415\n",
            "\n",
            "      Epoch    GPU_mem   box_loss   cls_loss   dfl_loss  Instances       Size\n"
          ]
        },
        {
          "output_type": "stream",
          "name": "stderr",
          "text": [
            "    130/300      15.5G     0.7961       0.97      1.325        336        640: 100%|██████████| 22/22 [00:12<00:00,  1.77it/s]\n",
            "                 Class     Images  Instances      Box(P          R      mAP50  mAP50-95): 100%|██████████| 2/2 [00:01<00:00,  1.78it/s]"
          ]
        },
        {
          "output_type": "stream",
          "name": "stdout",
          "text": [
            "                   all        228       1219        0.5      0.525      0.492      0.323\n"
          ]
        },
        {
          "output_type": "stream",
          "name": "stderr",
          "text": [
            "\n"
          ]
        },
        {
          "output_type": "stream",
          "name": "stdout",
          "text": [
            "\n",
            "      Epoch    GPU_mem   box_loss   cls_loss   dfl_loss  Instances       Size\n"
          ]
        },
        {
          "output_type": "stream",
          "name": "stderr",
          "text": [
            "    131/300        13G     0.7971     0.9713      1.334        211        640: 100%|██████████| 22/22 [00:12<00:00,  1.78it/s]\n",
            "                 Class     Images  Instances      Box(P          R      mAP50  mAP50-95): 100%|██████████| 2/2 [00:01<00:00,  1.74it/s]"
          ]
        },
        {
          "output_type": "stream",
          "name": "stdout",
          "text": [
            "                   all        228       1219      0.676      0.538      0.624       0.48\n"
          ]
        },
        {
          "output_type": "stream",
          "name": "stderr",
          "text": [
            "\n"
          ]
        },
        {
          "output_type": "stream",
          "name": "stdout",
          "text": [
            "\n",
            "      Epoch    GPU_mem   box_loss   cls_loss   dfl_loss  Instances       Size\n"
          ]
        },
        {
          "output_type": "stream",
          "name": "stderr",
          "text": [
            "    132/300      13.8G     0.7937     0.9712      1.331        342        640: 100%|██████████| 22/22 [00:12<00:00,  1.76it/s]\n",
            "                 Class     Images  Instances      Box(P          R      mAP50  mAP50-95): 100%|██████████| 2/2 [00:01<00:00,  1.70it/s]"
          ]
        },
        {
          "output_type": "stream",
          "name": "stdout",
          "text": [
            "                   all        228       1219      0.639      0.523      0.576      0.432\n"
          ]
        },
        {
          "output_type": "stream",
          "name": "stderr",
          "text": [
            "\n"
          ]
        },
        {
          "output_type": "stream",
          "name": "stdout",
          "text": [
            "\n",
            "      Epoch    GPU_mem   box_loss   cls_loss   dfl_loss  Instances       Size\n"
          ]
        },
        {
          "output_type": "stream",
          "name": "stderr",
          "text": [
            "    133/300      13.1G     0.7941     0.9676      1.329        328        640: 100%|██████████| 22/22 [00:12<00:00,  1.76it/s]\n",
            "                 Class     Images  Instances      Box(P          R      mAP50  mAP50-95): 100%|██████████| 2/2 [00:01<00:00,  1.72it/s]"
          ]
        },
        {
          "output_type": "stream",
          "name": "stdout",
          "text": [
            "                   all        228       1219      0.712       0.49      0.596      0.424\n"
          ]
        },
        {
          "output_type": "stream",
          "name": "stderr",
          "text": [
            "\n"
          ]
        },
        {
          "output_type": "stream",
          "name": "stdout",
          "text": [
            "\n",
            "      Epoch    GPU_mem   box_loss   cls_loss   dfl_loss  Instances       Size\n"
          ]
        },
        {
          "output_type": "stream",
          "name": "stderr",
          "text": [
            "    134/300        14G     0.7966     0.9607      1.328        349        640: 100%|██████████| 22/22 [00:12<00:00,  1.77it/s]\n",
            "                 Class     Images  Instances      Box(P          R      mAP50  mAP50-95): 100%|██████████| 2/2 [00:01<00:00,  1.71it/s]\n"
          ]
        },
        {
          "output_type": "stream",
          "name": "stdout",
          "text": [
            "                   all        228       1219      0.555      0.461      0.501      0.337\n",
            "\n",
            "      Epoch    GPU_mem   box_loss   cls_loss   dfl_loss  Instances       Size\n"
          ]
        },
        {
          "output_type": "stream",
          "name": "stderr",
          "text": [
            "    135/300      13.2G     0.8014     0.9623      1.333        377        640: 100%|██████████| 22/22 [00:12<00:00,  1.77it/s]\n",
            "                 Class     Images  Instances      Box(P          R      mAP50  mAP50-95): 100%|██████████| 2/2 [00:01<00:00,  1.68it/s]"
          ]
        },
        {
          "output_type": "stream",
          "name": "stdout",
          "text": [
            "                   all        228       1219      0.637      0.534      0.582      0.406\n"
          ]
        },
        {
          "output_type": "stream",
          "name": "stderr",
          "text": [
            "\n"
          ]
        },
        {
          "output_type": "stream",
          "name": "stdout",
          "text": [
            "\n",
            "      Epoch    GPU_mem   box_loss   cls_loss   dfl_loss  Instances       Size\n"
          ]
        },
        {
          "output_type": "stream",
          "name": "stderr",
          "text": [
            "    136/300      14.2G     0.7977     0.9594      1.329        369        640: 100%|██████████| 22/22 [00:12<00:00,  1.77it/s]\n",
            "                 Class     Images  Instances      Box(P          R      mAP50  mAP50-95): 100%|██████████| 2/2 [00:01<00:00,  1.74it/s]"
          ]
        },
        {
          "output_type": "stream",
          "name": "stdout",
          "text": [
            "                   all        228       1219      0.651      0.529      0.602      0.412\n"
          ]
        },
        {
          "output_type": "stream",
          "name": "stderr",
          "text": [
            "\n"
          ]
        },
        {
          "output_type": "stream",
          "name": "stdout",
          "text": [
            "\n",
            "      Epoch    GPU_mem   box_loss   cls_loss   dfl_loss  Instances       Size\n"
          ]
        },
        {
          "output_type": "stream",
          "name": "stderr",
          "text": [
            "    137/300      13.7G     0.7921     0.9754      1.326        366        640: 100%|██████████| 22/22 [00:12<00:00,  1.78it/s]\n",
            "                 Class     Images  Instances      Box(P          R      mAP50  mAP50-95): 100%|██████████| 2/2 [00:01<00:00,  1.75it/s]"
          ]
        },
        {
          "output_type": "stream",
          "name": "stdout",
          "text": [
            "                   all        228       1219      0.623      0.596      0.636      0.467\n"
          ]
        },
        {
          "output_type": "stream",
          "name": "stderr",
          "text": [
            "\n"
          ]
        },
        {
          "output_type": "stream",
          "name": "stdout",
          "text": [
            "\n",
            "      Epoch    GPU_mem   box_loss   cls_loss   dfl_loss  Instances       Size\n"
          ]
        },
        {
          "output_type": "stream",
          "name": "stderr",
          "text": [
            "    138/300      12.9G     0.7886     0.9618      1.322        312        640: 100%|██████████| 22/22 [00:12<00:00,  1.78it/s]\n",
            "                 Class     Images  Instances      Box(P          R      mAP50  mAP50-95): 100%|██████████| 2/2 [00:01<00:00,  1.75it/s]"
          ]
        },
        {
          "output_type": "stream",
          "name": "stdout",
          "text": [
            "                   all        228       1219      0.647       0.57        0.6      0.416\n"
          ]
        },
        {
          "output_type": "stream",
          "name": "stderr",
          "text": [
            "\n"
          ]
        },
        {
          "output_type": "stream",
          "name": "stdout",
          "text": [
            "\n",
            "      Epoch    GPU_mem   box_loss   cls_loss   dfl_loss  Instances       Size\n"
          ]
        },
        {
          "output_type": "stream",
          "name": "stderr",
          "text": [
            "    139/300      14.1G     0.7942     0.9691      1.335        294        640: 100%|██████████| 22/22 [00:12<00:00,  1.77it/s]\n",
            "                 Class     Images  Instances      Box(P          R      mAP50  mAP50-95): 100%|██████████| 2/2 [00:01<00:00,  1.68it/s]"
          ]
        },
        {
          "output_type": "stream",
          "name": "stdout",
          "text": [
            "                   all        228       1219      0.722      0.481      0.593      0.437\n"
          ]
        },
        {
          "output_type": "stream",
          "name": "stderr",
          "text": [
            "\n"
          ]
        },
        {
          "output_type": "stream",
          "name": "stdout",
          "text": [
            "\n",
            "      Epoch    GPU_mem   box_loss   cls_loss   dfl_loss  Instances       Size\n"
          ]
        },
        {
          "output_type": "stream",
          "name": "stderr",
          "text": [
            "    140/300      13.3G     0.7847     0.9535      1.323        296        640: 100%|██████████| 22/22 [00:12<00:00,  1.77it/s]\n",
            "                 Class     Images  Instances      Box(P          R      mAP50  mAP50-95): 100%|██████████| 2/2 [00:01<00:00,  1.69it/s]"
          ]
        },
        {
          "output_type": "stream",
          "name": "stdout",
          "text": [
            "                   all        228       1219      0.694      0.489      0.569      0.387\n"
          ]
        },
        {
          "output_type": "stream",
          "name": "stderr",
          "text": [
            "\n"
          ]
        },
        {
          "output_type": "stream",
          "name": "stdout",
          "text": [
            "\n",
            "      Epoch    GPU_mem   box_loss   cls_loss   dfl_loss  Instances       Size\n"
          ]
        },
        {
          "output_type": "stream",
          "name": "stderr",
          "text": [
            "    141/300      13.3G     0.7756     0.9352      1.312        259        640: 100%|██████████| 22/22 [00:12<00:00,  1.77it/s]\n",
            "                 Class     Images  Instances      Box(P          R      mAP50  mAP50-95): 100%|██████████| 2/2 [00:01<00:00,  1.76it/s]"
          ]
        },
        {
          "output_type": "stream",
          "name": "stdout",
          "text": [
            "                   all        228       1219      0.668      0.478      0.566      0.416\n"
          ]
        },
        {
          "output_type": "stream",
          "name": "stderr",
          "text": [
            "\n"
          ]
        },
        {
          "output_type": "stream",
          "name": "stdout",
          "text": [
            "\n",
            "      Epoch    GPU_mem   box_loss   cls_loss   dfl_loss  Instances       Size\n"
          ]
        },
        {
          "output_type": "stream",
          "name": "stderr",
          "text": [
            "    142/300      12.5G     0.7748     0.9483      1.313        306        640: 100%|██████████| 22/22 [00:12<00:00,  1.77it/s]\n",
            "                 Class     Images  Instances      Box(P          R      mAP50  mAP50-95): 100%|██████████| 2/2 [00:01<00:00,  1.71it/s]\n"
          ]
        },
        {
          "output_type": "stream",
          "name": "stdout",
          "text": [
            "                   all        228       1219      0.611      0.507      0.565      0.377\n",
            "\n",
            "      Epoch    GPU_mem   box_loss   cls_loss   dfl_loss  Instances       Size\n"
          ]
        },
        {
          "output_type": "stream",
          "name": "stderr",
          "text": [
            "    143/300      12.9G     0.7787     0.9494      1.318        323        640: 100%|██████████| 22/22 [00:12<00:00,  1.78it/s]\n",
            "                 Class     Images  Instances      Box(P          R      mAP50  mAP50-95): 100%|██████████| 2/2 [00:01<00:00,  1.69it/s]"
          ]
        },
        {
          "output_type": "stream",
          "name": "stdout",
          "text": [
            "                   all        228       1219      0.552      0.502      0.488      0.315\n"
          ]
        },
        {
          "output_type": "stream",
          "name": "stderr",
          "text": [
            "\n"
          ]
        },
        {
          "output_type": "stream",
          "name": "stdout",
          "text": [
            "\n",
            "      Epoch    GPU_mem   box_loss   cls_loss   dfl_loss  Instances       Size\n"
          ]
        },
        {
          "output_type": "stream",
          "name": "stderr",
          "text": [
            "    144/300      14.8G     0.7656     0.9251      1.306        297        640: 100%|██████████| 22/22 [00:12<00:00,  1.77it/s]\n",
            "                 Class     Images  Instances      Box(P          R      mAP50  mAP50-95): 100%|██████████| 2/2 [00:01<00:00,  1.66it/s]"
          ]
        },
        {
          "output_type": "stream",
          "name": "stdout",
          "text": [
            "                   all        228       1219      0.682      0.518      0.577      0.398\n"
          ]
        },
        {
          "output_type": "stream",
          "name": "stderr",
          "text": [
            "\n"
          ]
        },
        {
          "output_type": "stream",
          "name": "stdout",
          "text": [
            "\n",
            "      Epoch    GPU_mem   box_loss   cls_loss   dfl_loss  Instances       Size\n"
          ]
        },
        {
          "output_type": "stream",
          "name": "stderr",
          "text": [
            "    145/300      14.5G     0.7641     0.9213        1.3        310        640: 100%|██████████| 22/22 [00:12<00:00,  1.77it/s]\n",
            "                 Class     Images  Instances      Box(P          R      mAP50  mAP50-95): 100%|██████████| 2/2 [00:01<00:00,  1.75it/s]"
          ]
        },
        {
          "output_type": "stream",
          "name": "stdout",
          "text": [
            "                   all        228       1219       0.67      0.537      0.605      0.442\n"
          ]
        },
        {
          "output_type": "stream",
          "name": "stderr",
          "text": [
            "\n"
          ]
        },
        {
          "output_type": "stream",
          "name": "stdout",
          "text": [
            "\n",
            "      Epoch    GPU_mem   box_loss   cls_loss   dfl_loss  Instances       Size\n"
          ]
        },
        {
          "output_type": "stream",
          "name": "stderr",
          "text": [
            "    146/300      14.2G      0.778     0.9401      1.309        323        640: 100%|██████████| 22/22 [00:12<00:00,  1.77it/s]\n",
            "                 Class     Images  Instances      Box(P          R      mAP50  mAP50-95): 100%|██████████| 2/2 [00:01<00:00,  1.73it/s]"
          ]
        },
        {
          "output_type": "stream",
          "name": "stdout",
          "text": [
            "                   all        228       1219      0.632      0.524      0.578      0.404\n"
          ]
        },
        {
          "output_type": "stream",
          "name": "stderr",
          "text": [
            "\n"
          ]
        },
        {
          "output_type": "stream",
          "name": "stdout",
          "text": [
            "\n",
            "      Epoch    GPU_mem   box_loss   cls_loss   dfl_loss  Instances       Size\n"
          ]
        },
        {
          "output_type": "stream",
          "name": "stderr",
          "text": [
            "    147/300      13.7G     0.7755     0.9415      1.315        278        640: 100%|██████████| 22/22 [00:12<00:00,  1.78it/s]\n",
            "                 Class     Images  Instances      Box(P          R      mAP50  mAP50-95): 100%|██████████| 2/2 [00:01<00:00,  1.75it/s]"
          ]
        },
        {
          "output_type": "stream",
          "name": "stdout",
          "text": [
            "                   all        228       1219      0.544      0.607      0.605      0.439\n"
          ]
        },
        {
          "output_type": "stream",
          "name": "stderr",
          "text": [
            "\n"
          ]
        },
        {
          "output_type": "stream",
          "name": "stdout",
          "text": [
            "\n",
            "      Epoch    GPU_mem   box_loss   cls_loss   dfl_loss  Instances       Size\n"
          ]
        },
        {
          "output_type": "stream",
          "name": "stderr",
          "text": [
            "    148/300      13.1G     0.7666     0.9182      1.307        367        640: 100%|██████████| 22/22 [00:12<00:00,  1.77it/s]\n",
            "                 Class     Images  Instances      Box(P          R      mAP50  mAP50-95): 100%|██████████| 2/2 [00:01<00:00,  1.68it/s]\n"
          ]
        },
        {
          "output_type": "stream",
          "name": "stdout",
          "text": [
            "                   all        228       1219      0.609      0.559      0.598      0.451\n",
            "\n",
            "      Epoch    GPU_mem   box_loss   cls_loss   dfl_loss  Instances       Size\n"
          ]
        },
        {
          "output_type": "stream",
          "name": "stderr",
          "text": [
            "    149/300      13.7G     0.7638     0.9135      1.303        315        640: 100%|██████████| 22/22 [00:12<00:00,  1.78it/s]\n",
            "                 Class     Images  Instances      Box(P          R      mAP50  mAP50-95): 100%|██████████| 2/2 [00:01<00:00,  1.69it/s]"
          ]
        },
        {
          "output_type": "stream",
          "name": "stdout",
          "text": [
            "                   all        228       1219      0.595      0.569      0.607      0.452\n"
          ]
        },
        {
          "output_type": "stream",
          "name": "stderr",
          "text": [
            "\n"
          ]
        },
        {
          "output_type": "stream",
          "name": "stdout",
          "text": [
            "\n",
            "      Epoch    GPU_mem   box_loss   cls_loss   dfl_loss  Instances       Size\n"
          ]
        },
        {
          "output_type": "stream",
          "name": "stderr",
          "text": [
            "    150/300      13.8G     0.7644     0.9216      1.306        329        640: 100%|██████████| 22/22 [00:12<00:00,  1.77it/s]\n",
            "                 Class     Images  Instances      Box(P          R      mAP50  mAP50-95): 100%|██████████| 2/2 [00:01<00:00,  1.75it/s]"
          ]
        },
        {
          "output_type": "stream",
          "name": "stdout",
          "text": [
            "                   all        228       1219      0.691      0.571      0.649      0.501\n"
          ]
        },
        {
          "output_type": "stream",
          "name": "stderr",
          "text": [
            "\n"
          ]
        },
        {
          "output_type": "stream",
          "name": "stdout",
          "text": [
            "\n",
            "      Epoch    GPU_mem   box_loss   cls_loss   dfl_loss  Instances       Size\n"
          ]
        },
        {
          "output_type": "stream",
          "name": "stderr",
          "text": [
            "    151/300      13.7G     0.7691     0.9334      1.311        305        640: 100%|██████████| 22/22 [00:12<00:00,  1.78it/s]\n",
            "                 Class     Images  Instances      Box(P          R      mAP50  mAP50-95): 100%|██████████| 2/2 [00:01<00:00,  1.68it/s]"
          ]
        },
        {
          "output_type": "stream",
          "name": "stdout",
          "text": [
            "                   all        228       1219      0.589      0.643      0.652       0.45\n"
          ]
        },
        {
          "output_type": "stream",
          "name": "stderr",
          "text": [
            "\n"
          ]
        },
        {
          "output_type": "stream",
          "name": "stdout",
          "text": [
            "\n",
            "      Epoch    GPU_mem   box_loss   cls_loss   dfl_loss  Instances       Size\n"
          ]
        },
        {
          "output_type": "stream",
          "name": "stderr",
          "text": [
            "    152/300      13.9G     0.7562     0.9192        1.3        337        640: 100%|██████████| 22/22 [00:12<00:00,  1.77it/s]\n",
            "                 Class     Images  Instances      Box(P          R      mAP50  mAP50-95): 100%|██████████| 2/2 [00:01<00:00,  1.71it/s]"
          ]
        },
        {
          "output_type": "stream",
          "name": "stdout",
          "text": [
            "                   all        228       1219       0.65      0.576      0.621      0.427\n"
          ]
        },
        {
          "output_type": "stream",
          "name": "stderr",
          "text": [
            "\n"
          ]
        },
        {
          "output_type": "stream",
          "name": "stdout",
          "text": [
            "\n",
            "      Epoch    GPU_mem   box_loss   cls_loss   dfl_loss  Instances       Size\n"
          ]
        },
        {
          "output_type": "stream",
          "name": "stderr",
          "text": [
            "    153/300      13.1G     0.7791     0.9361      1.316        255        640: 100%|██████████| 22/22 [00:12<00:00,  1.78it/s]\n",
            "                 Class     Images  Instances      Box(P          R      mAP50  mAP50-95): 100%|██████████| 2/2 [00:01<00:00,  1.67it/s]"
          ]
        },
        {
          "output_type": "stream",
          "name": "stdout",
          "text": [
            "                   all        228       1219       0.63      0.589      0.644      0.474\n"
          ]
        },
        {
          "output_type": "stream",
          "name": "stderr",
          "text": [
            "\n"
          ]
        },
        {
          "output_type": "stream",
          "name": "stdout",
          "text": [
            "\n",
            "      Epoch    GPU_mem   box_loss   cls_loss   dfl_loss  Instances       Size\n"
          ]
        },
        {
          "output_type": "stream",
          "name": "stderr",
          "text": [
            "    154/300      14.7G     0.7608     0.9069      1.296        251        640: 100%|██████████| 22/22 [00:12<00:00,  1.77it/s]\n",
            "                 Class     Images  Instances      Box(P          R      mAP50  mAP50-95): 100%|██████████| 2/2 [00:01<00:00,  1.70it/s]"
          ]
        },
        {
          "output_type": "stream",
          "name": "stdout",
          "text": [
            "                   all        228       1219      0.625      0.622       0.66      0.508\n"
          ]
        },
        {
          "output_type": "stream",
          "name": "stderr",
          "text": [
            "\n"
          ]
        },
        {
          "output_type": "stream",
          "name": "stdout",
          "text": [
            "\n",
            "      Epoch    GPU_mem   box_loss   cls_loss   dfl_loss  Instances       Size\n"
          ]
        },
        {
          "output_type": "stream",
          "name": "stderr",
          "text": [
            "    155/300      12.9G     0.7491     0.9072      1.291        359        640: 100%|██████████| 22/22 [00:12<00:00,  1.76it/s]\n",
            "                 Class     Images  Instances      Box(P          R      mAP50  mAP50-95): 100%|██████████| 2/2 [00:01<00:00,  1.75it/s]"
          ]
        },
        {
          "output_type": "stream",
          "name": "stdout",
          "text": [
            "                   all        228       1219      0.712      0.558       0.64      0.474\n"
          ]
        },
        {
          "output_type": "stream",
          "name": "stderr",
          "text": [
            "\n"
          ]
        },
        {
          "output_type": "stream",
          "name": "stdout",
          "text": [
            "\n",
            "      Epoch    GPU_mem   box_loss   cls_loss   dfl_loss  Instances       Size\n"
          ]
        },
        {
          "output_type": "stream",
          "name": "stderr",
          "text": [
            "    156/300      13.1G     0.7515     0.9071      1.297        379        640: 100%|██████████| 22/22 [00:12<00:00,  1.77it/s]\n",
            "                 Class     Images  Instances      Box(P          R      mAP50  mAP50-95): 100%|██████████| 2/2 [00:01<00:00,  1.73it/s]"
          ]
        },
        {
          "output_type": "stream",
          "name": "stdout",
          "text": [
            "                   all        228       1219      0.675      0.555      0.634       0.47\n"
          ]
        },
        {
          "output_type": "stream",
          "name": "stderr",
          "text": [
            "\n"
          ]
        },
        {
          "output_type": "stream",
          "name": "stdout",
          "text": [
            "\n",
            "      Epoch    GPU_mem   box_loss   cls_loss   dfl_loss  Instances       Size\n"
          ]
        },
        {
          "output_type": "stream",
          "name": "stderr",
          "text": [
            "    157/300      14.1G     0.7501     0.8953      1.294        326        640: 100%|██████████| 22/22 [00:12<00:00,  1.77it/s]\n",
            "                 Class     Images  Instances      Box(P          R      mAP50  mAP50-95): 100%|██████████| 2/2 [00:01<00:00,  1.73it/s]"
          ]
        },
        {
          "output_type": "stream",
          "name": "stdout",
          "text": [
            "                   all        228       1219      0.596      0.547      0.584      0.412\n"
          ]
        },
        {
          "output_type": "stream",
          "name": "stderr",
          "text": [
            "\n"
          ]
        },
        {
          "output_type": "stream",
          "name": "stdout",
          "text": [
            "\n",
            "      Epoch    GPU_mem   box_loss   cls_loss   dfl_loss  Instances       Size\n"
          ]
        },
        {
          "output_type": "stream",
          "name": "stderr",
          "text": [
            "    158/300      13.5G     0.7555     0.9057        1.3        310        640: 100%|██████████| 22/22 [00:12<00:00,  1.78it/s]\n",
            "                 Class     Images  Instances      Box(P          R      mAP50  mAP50-95): 100%|██████████| 2/2 [00:01<00:00,  1.69it/s]"
          ]
        },
        {
          "output_type": "stream",
          "name": "stdout",
          "text": [
            "                   all        228       1219      0.646      0.574      0.623       0.45\n"
          ]
        },
        {
          "output_type": "stream",
          "name": "stderr",
          "text": [
            "\n"
          ]
        },
        {
          "output_type": "stream",
          "name": "stdout",
          "text": [
            "\n",
            "      Epoch    GPU_mem   box_loss   cls_loss   dfl_loss  Instances       Size\n"
          ]
        },
        {
          "output_type": "stream",
          "name": "stderr",
          "text": [
            "    159/300      14.5G     0.7424     0.8807       1.29        312        640: 100%|██████████| 22/22 [00:12<00:00,  1.76it/s]\n",
            "                 Class     Images  Instances      Box(P          R      mAP50  mAP50-95): 100%|██████████| 2/2 [00:01<00:00,  1.70it/s]"
          ]
        },
        {
          "output_type": "stream",
          "name": "stdout",
          "text": [
            "                   all        228       1219       0.59      0.572      0.605      0.418\n"
          ]
        },
        {
          "output_type": "stream",
          "name": "stderr",
          "text": [
            "\n"
          ]
        },
        {
          "output_type": "stream",
          "name": "stdout",
          "text": [
            "\n",
            "      Epoch    GPU_mem   box_loss   cls_loss   dfl_loss  Instances       Size\n"
          ]
        },
        {
          "output_type": "stream",
          "name": "stderr",
          "text": [
            "    160/300      13.7G     0.7427     0.8864      1.283        364        640: 100%|██████████| 22/22 [00:12<00:00,  1.77it/s]\n",
            "                 Class     Images  Instances      Box(P          R      mAP50  mAP50-95): 100%|██████████| 2/2 [00:01<00:00,  1.72it/s]"
          ]
        },
        {
          "output_type": "stream",
          "name": "stdout",
          "text": [
            "                   all        228       1219      0.584      0.531      0.564      0.401\n"
          ]
        },
        {
          "output_type": "stream",
          "name": "stderr",
          "text": [
            "\n"
          ]
        },
        {
          "output_type": "stream",
          "name": "stdout",
          "text": [
            "\n",
            "      Epoch    GPU_mem   box_loss   cls_loss   dfl_loss  Instances       Size\n"
          ]
        },
        {
          "output_type": "stream",
          "name": "stderr",
          "text": [
            "    161/300      13.2G     0.7465     0.9008      1.292        234        640: 100%|██████████| 22/22 [00:12<00:00,  1.77it/s]\n",
            "                 Class     Images  Instances      Box(P          R      mAP50  mAP50-95): 100%|██████████| 2/2 [00:01<00:00,  1.75it/s]"
          ]
        },
        {
          "output_type": "stream",
          "name": "stdout",
          "text": [
            "                   all        228       1219      0.587      0.556      0.575      0.407\n"
          ]
        },
        {
          "output_type": "stream",
          "name": "stderr",
          "text": [
            "\n"
          ]
        },
        {
          "output_type": "stream",
          "name": "stdout",
          "text": [
            "\n",
            "      Epoch    GPU_mem   box_loss   cls_loss   dfl_loss  Instances       Size\n"
          ]
        },
        {
          "output_type": "stream",
          "name": "stderr",
          "text": [
            "    162/300      13.1G     0.7573     0.9062      1.296        320        640: 100%|██████████| 22/22 [00:12<00:00,  1.78it/s]\n",
            "                 Class     Images  Instances      Box(P          R      mAP50  mAP50-95): 100%|██████████| 2/2 [00:01<00:00,  1.72it/s]"
          ]
        },
        {
          "output_type": "stream",
          "name": "stdout",
          "text": [
            "                   all        228       1219      0.542      0.572      0.555      0.395\n"
          ]
        },
        {
          "output_type": "stream",
          "name": "stderr",
          "text": [
            "\n"
          ]
        },
        {
          "output_type": "stream",
          "name": "stdout",
          "text": [
            "\n",
            "      Epoch    GPU_mem   box_loss   cls_loss   dfl_loss  Instances       Size\n"
          ]
        },
        {
          "output_type": "stream",
          "name": "stderr",
          "text": [
            "    163/300        13G     0.7567     0.8964      1.293        277        640: 100%|██████████| 22/22 [00:12<00:00,  1.78it/s]\n",
            "                 Class     Images  Instances      Box(P          R      mAP50  mAP50-95): 100%|██████████| 2/2 [00:01<00:00,  1.68it/s]"
          ]
        },
        {
          "output_type": "stream",
          "name": "stdout",
          "text": [
            "                   all        228       1219      0.643       0.54      0.625      0.452\n"
          ]
        },
        {
          "output_type": "stream",
          "name": "stderr",
          "text": [
            "\n"
          ]
        },
        {
          "output_type": "stream",
          "name": "stdout",
          "text": [
            "\n",
            "      Epoch    GPU_mem   box_loss   cls_loss   dfl_loss  Instances       Size\n"
          ]
        },
        {
          "output_type": "stream",
          "name": "stderr",
          "text": [
            "    164/300      13.8G     0.7468     0.8924      1.292        331        640: 100%|██████████| 22/22 [00:12<00:00,  1.77it/s]\n",
            "                 Class     Images  Instances      Box(P          R      mAP50  mAP50-95): 100%|██████████| 2/2 [00:01<00:00,  1.71it/s]\n"
          ]
        },
        {
          "output_type": "stream",
          "name": "stdout",
          "text": [
            "                   all        228       1219      0.666      0.556      0.625      0.462\n",
            "\n",
            "      Epoch    GPU_mem   box_loss   cls_loss   dfl_loss  Instances       Size\n"
          ]
        },
        {
          "output_type": "stream",
          "name": "stderr",
          "text": [
            "    165/300      13.8G     0.7374     0.8772      1.285        282        640: 100%|██████████| 22/22 [00:12<00:00,  1.77it/s]\n",
            "                 Class     Images  Instances      Box(P          R      mAP50  mAP50-95): 100%|██████████| 2/2 [00:01<00:00,  1.73it/s]"
          ]
        },
        {
          "output_type": "stream",
          "name": "stdout",
          "text": [
            "                   all        228       1219      0.708      0.554      0.626       0.45\n"
          ]
        },
        {
          "output_type": "stream",
          "name": "stderr",
          "text": [
            "\n"
          ]
        },
        {
          "output_type": "stream",
          "name": "stdout",
          "text": [
            "\n",
            "      Epoch    GPU_mem   box_loss   cls_loss   dfl_loss  Instances       Size\n"
          ]
        },
        {
          "output_type": "stream",
          "name": "stderr",
          "text": [
            "    166/300      12.6G     0.7396     0.8876      1.284        371        640: 100%|██████████| 22/22 [00:12<00:00,  1.78it/s]\n",
            "                 Class     Images  Instances      Box(P          R      mAP50  mAP50-95): 100%|██████████| 2/2 [00:01<00:00,  1.70it/s]"
          ]
        },
        {
          "output_type": "stream",
          "name": "stdout",
          "text": [
            "                   all        228       1219      0.688      0.532      0.599      0.415\n"
          ]
        },
        {
          "output_type": "stream",
          "name": "stderr",
          "text": [
            "\n"
          ]
        },
        {
          "output_type": "stream",
          "name": "stdout",
          "text": [
            "\n",
            "      Epoch    GPU_mem   box_loss   cls_loss   dfl_loss  Instances       Size\n"
          ]
        },
        {
          "output_type": "stream",
          "name": "stderr",
          "text": [
            "    167/300        13G     0.7372     0.8803      1.279        283        640: 100%|██████████| 22/22 [00:12<00:00,  1.76it/s]\n",
            "                 Class     Images  Instances      Box(P          R      mAP50  mAP50-95): 100%|██████████| 2/2 [00:01<00:00,  1.73it/s]"
          ]
        },
        {
          "output_type": "stream",
          "name": "stdout",
          "text": [
            "                   all        228       1219      0.645      0.525      0.589      0.429\n"
          ]
        },
        {
          "output_type": "stream",
          "name": "stderr",
          "text": [
            "\n"
          ]
        },
        {
          "output_type": "stream",
          "name": "stdout",
          "text": [
            "\n",
            "      Epoch    GPU_mem   box_loss   cls_loss   dfl_loss  Instances       Size\n"
          ]
        },
        {
          "output_type": "stream",
          "name": "stderr",
          "text": [
            "    168/300      12.6G     0.7337     0.8781      1.276        323        640: 100%|██████████| 22/22 [00:12<00:00,  1.77it/s]\n",
            "                 Class     Images  Instances      Box(P          R      mAP50  mAP50-95): 100%|██████████| 2/2 [00:01<00:00,  1.69it/s]\n"
          ]
        },
        {
          "output_type": "stream",
          "name": "stdout",
          "text": [
            "                   all        228       1219      0.631      0.558      0.608      0.449\n",
            "\n",
            "      Epoch    GPU_mem   box_loss   cls_loss   dfl_loss  Instances       Size\n"
          ]
        },
        {
          "output_type": "stream",
          "name": "stderr",
          "text": [
            "    169/300        15G     0.7419     0.8845      1.286        333        640: 100%|██████████| 22/22 [00:12<00:00,  1.77it/s]\n",
            "                 Class     Images  Instances      Box(P          R      mAP50  mAP50-95): 100%|██████████| 2/2 [00:01<00:00,  1.74it/s]"
          ]
        },
        {
          "output_type": "stream",
          "name": "stdout",
          "text": [
            "                   all        228       1219      0.611      0.523      0.585       0.42\n"
          ]
        },
        {
          "output_type": "stream",
          "name": "stderr",
          "text": [
            "\n"
          ]
        },
        {
          "output_type": "stream",
          "name": "stdout",
          "text": [
            "\n",
            "      Epoch    GPU_mem   box_loss   cls_loss   dfl_loss  Instances       Size\n"
          ]
        },
        {
          "output_type": "stream",
          "name": "stderr",
          "text": [
            "    170/300      13.2G     0.7365     0.8786      1.278        317        640: 100%|██████████| 22/22 [00:12<00:00,  1.77it/s]\n",
            "                 Class     Images  Instances      Box(P          R      mAP50  mAP50-95): 100%|██████████| 2/2 [00:01<00:00,  1.76it/s]"
          ]
        },
        {
          "output_type": "stream",
          "name": "stdout",
          "text": [
            "                   all        228       1219      0.718      0.558      0.651      0.486\n"
          ]
        },
        {
          "output_type": "stream",
          "name": "stderr",
          "text": [
            "\n"
          ]
        },
        {
          "output_type": "stream",
          "name": "stdout",
          "text": [
            "\n",
            "      Epoch    GPU_mem   box_loss   cls_loss   dfl_loss  Instances       Size\n"
          ]
        },
        {
          "output_type": "stream",
          "name": "stderr",
          "text": [
            "    171/300      14.6G     0.7327     0.8741      1.276        435        640: 100%|██████████| 22/22 [00:12<00:00,  1.77it/s]\n",
            "                 Class     Images  Instances      Box(P          R      mAP50  mAP50-95): 100%|██████████| 2/2 [00:01<00:00,  1.73it/s]"
          ]
        },
        {
          "output_type": "stream",
          "name": "stdout",
          "text": [
            "                   all        228       1219      0.682      0.608       0.67      0.506\n"
          ]
        },
        {
          "output_type": "stream",
          "name": "stderr",
          "text": [
            "\n"
          ]
        },
        {
          "output_type": "stream",
          "name": "stdout",
          "text": [
            "\n",
            "      Epoch    GPU_mem   box_loss   cls_loss   dfl_loss  Instances       Size\n"
          ]
        },
        {
          "output_type": "stream",
          "name": "stderr",
          "text": [
            "    172/300      12.5G     0.7333     0.8725      1.274        314        640: 100%|██████████| 22/22 [00:12<00:00,  1.77it/s]\n",
            "                 Class     Images  Instances      Box(P          R      mAP50  mAP50-95): 100%|██████████| 2/2 [00:01<00:00,  1.69it/s]"
          ]
        },
        {
          "output_type": "stream",
          "name": "stdout",
          "text": [
            "                   all        228       1219       0.71      0.522      0.609      0.448\n"
          ]
        },
        {
          "output_type": "stream",
          "name": "stderr",
          "text": [
            "\n"
          ]
        },
        {
          "output_type": "stream",
          "name": "stdout",
          "text": [
            "\n",
            "      Epoch    GPU_mem   box_loss   cls_loss   dfl_loss  Instances       Size\n"
          ]
        },
        {
          "output_type": "stream",
          "name": "stderr",
          "text": [
            "    173/300      13.2G     0.7295     0.8715      1.275        331        640: 100%|██████████| 22/22 [00:12<00:00,  1.77it/s]\n",
            "                 Class     Images  Instances      Box(P          R      mAP50  mAP50-95): 100%|██████████| 2/2 [00:01<00:00,  1.70it/s]"
          ]
        },
        {
          "output_type": "stream",
          "name": "stdout",
          "text": [
            "                   all        228       1219      0.708      0.546      0.627       0.46\n"
          ]
        },
        {
          "output_type": "stream",
          "name": "stderr",
          "text": [
            "\n"
          ]
        },
        {
          "output_type": "stream",
          "name": "stdout",
          "text": [
            "\n",
            "      Epoch    GPU_mem   box_loss   cls_loss   dfl_loss  Instances       Size\n"
          ]
        },
        {
          "output_type": "stream",
          "name": "stderr",
          "text": [
            "    174/300        14G       0.73     0.8606      1.277        288        640: 100%|██████████| 22/22 [00:12<00:00,  1.77it/s]\n",
            "                 Class     Images  Instances      Box(P          R      mAP50  mAP50-95): 100%|██████████| 2/2 [00:01<00:00,  1.70it/s]"
          ]
        },
        {
          "output_type": "stream",
          "name": "stdout",
          "text": [
            "                   all        228       1219      0.772      0.575      0.682       0.51\n"
          ]
        },
        {
          "output_type": "stream",
          "name": "stderr",
          "text": [
            "\n"
          ]
        },
        {
          "output_type": "stream",
          "name": "stdout",
          "text": [
            "\n",
            "      Epoch    GPU_mem   box_loss   cls_loss   dfl_loss  Instances       Size\n"
          ]
        },
        {
          "output_type": "stream",
          "name": "stderr",
          "text": [
            "    175/300      13.1G     0.7495     0.8883      1.292        383        640: 100%|██████████| 22/22 [00:12<00:00,  1.77it/s]\n",
            "                 Class     Images  Instances      Box(P          R      mAP50  mAP50-95): 100%|██████████| 2/2 [00:01<00:00,  1.73it/s]\n"
          ]
        },
        {
          "output_type": "stream",
          "name": "stdout",
          "text": [
            "                   all        228       1219      0.667       0.57      0.617      0.439\n",
            "\n",
            "      Epoch    GPU_mem   box_loss   cls_loss   dfl_loss  Instances       Size\n"
          ]
        },
        {
          "output_type": "stream",
          "name": "stderr",
          "text": [
            "    176/300      13.8G     0.7109     0.8457      1.257        344        640: 100%|██████████| 22/22 [00:12<00:00,  1.77it/s]\n",
            "                 Class     Images  Instances      Box(P          R      mAP50  mAP50-95): 100%|██████████| 2/2 [00:01<00:00,  1.71it/s]"
          ]
        },
        {
          "output_type": "stream",
          "name": "stdout",
          "text": [
            "                   all        228       1219       0.76      0.574      0.682      0.515\n"
          ]
        },
        {
          "output_type": "stream",
          "name": "stderr",
          "text": [
            "\n"
          ]
        },
        {
          "output_type": "stream",
          "name": "stdout",
          "text": [
            "\n",
            "      Epoch    GPU_mem   box_loss   cls_loss   dfl_loss  Instances       Size\n"
          ]
        },
        {
          "output_type": "stream",
          "name": "stderr",
          "text": [
            "    177/300      13.1G     0.7227     0.8617      1.264        370        640: 100%|██████████| 22/22 [00:12<00:00,  1.77it/s]\n",
            "                 Class     Images  Instances      Box(P          R      mAP50  mAP50-95): 100%|██████████| 2/2 [00:01<00:00,  1.69it/s]"
          ]
        },
        {
          "output_type": "stream",
          "name": "stdout",
          "text": [
            "                   all        228       1219      0.692      0.543      0.638      0.449\n"
          ]
        },
        {
          "output_type": "stream",
          "name": "stderr",
          "text": [
            "\n"
          ]
        },
        {
          "output_type": "stream",
          "name": "stdout",
          "text": [
            "\n",
            "      Epoch    GPU_mem   box_loss   cls_loss   dfl_loss  Instances       Size\n"
          ]
        },
        {
          "output_type": "stream",
          "name": "stderr",
          "text": [
            "    178/300      13.6G     0.7286     0.8702      1.271        285        640: 100%|██████████| 22/22 [00:12<00:00,  1.78it/s]\n",
            "                 Class     Images  Instances      Box(P          R      mAP50  mAP50-95): 100%|██████████| 2/2 [00:01<00:00,  1.74it/s]"
          ]
        },
        {
          "output_type": "stream",
          "name": "stdout",
          "text": [
            "                   all        228       1219      0.724        0.5      0.614      0.447\n"
          ]
        },
        {
          "output_type": "stream",
          "name": "stderr",
          "text": [
            "\n"
          ]
        },
        {
          "output_type": "stream",
          "name": "stdout",
          "text": [
            "\n",
            "      Epoch    GPU_mem   box_loss   cls_loss   dfl_loss  Instances       Size\n"
          ]
        },
        {
          "output_type": "stream",
          "name": "stderr",
          "text": [
            "    179/300      12.7G     0.7298     0.8683      1.276        290        640: 100%|██████████| 22/22 [00:12<00:00,  1.77it/s]\n",
            "                 Class     Images  Instances      Box(P          R      mAP50  mAP50-95): 100%|██████████| 2/2 [00:01<00:00,  1.74it/s]"
          ]
        },
        {
          "output_type": "stream",
          "name": "stdout",
          "text": [
            "                   all        228       1219      0.635      0.508      0.563      0.376\n"
          ]
        },
        {
          "output_type": "stream",
          "name": "stderr",
          "text": [
            "\n"
          ]
        },
        {
          "output_type": "stream",
          "name": "stdout",
          "text": [
            "\n",
            "      Epoch    GPU_mem   box_loss   cls_loss   dfl_loss  Instances       Size\n"
          ]
        },
        {
          "output_type": "stream",
          "name": "stderr",
          "text": [
            "    180/300      13.3G     0.7285     0.8548      1.276        268        640: 100%|██████████| 22/22 [00:12<00:00,  1.77it/s]\n",
            "                 Class     Images  Instances      Box(P          R      mAP50  mAP50-95): 100%|██████████| 2/2 [00:01<00:00,  1.72it/s]"
          ]
        },
        {
          "output_type": "stream",
          "name": "stdout",
          "text": [
            "                   all        228       1219      0.582      0.584      0.595      0.423\n"
          ]
        },
        {
          "output_type": "stream",
          "name": "stderr",
          "text": [
            "\n"
          ]
        },
        {
          "output_type": "stream",
          "name": "stdout",
          "text": [
            "\n",
            "      Epoch    GPU_mem   box_loss   cls_loss   dfl_loss  Instances       Size\n"
          ]
        },
        {
          "output_type": "stream",
          "name": "stderr",
          "text": [
            "    181/300      14.2G       0.72     0.8442      1.268        308        640: 100%|██████████| 22/22 [00:12<00:00,  1.77it/s]\n",
            "                 Class     Images  Instances      Box(P          R      mAP50  mAP50-95): 100%|██████████| 2/2 [00:01<00:00,  1.74it/s]"
          ]
        },
        {
          "output_type": "stream",
          "name": "stdout",
          "text": [
            "                   all        228       1219      0.655      0.579      0.631      0.461\n"
          ]
        },
        {
          "output_type": "stream",
          "name": "stderr",
          "text": [
            "\n"
          ]
        },
        {
          "output_type": "stream",
          "name": "stdout",
          "text": [
            "\n",
            "      Epoch    GPU_mem   box_loss   cls_loss   dfl_loss  Instances       Size\n"
          ]
        },
        {
          "output_type": "stream",
          "name": "stderr",
          "text": [
            "    182/300      13.1G     0.7173     0.8545      1.266        361        640: 100%|██████████| 22/22 [00:12<00:00,  1.77it/s]\n",
            "                 Class     Images  Instances      Box(P          R      mAP50  mAP50-95): 100%|██████████| 2/2 [00:01<00:00,  1.72it/s]"
          ]
        },
        {
          "output_type": "stream",
          "name": "stdout",
          "text": [
            "                   all        228       1219      0.622      0.593      0.633      0.456\n"
          ]
        },
        {
          "output_type": "stream",
          "name": "stderr",
          "text": [
            "\n"
          ]
        },
        {
          "output_type": "stream",
          "name": "stdout",
          "text": [
            "\n",
            "      Epoch    GPU_mem   box_loss   cls_loss   dfl_loss  Instances       Size\n"
          ]
        },
        {
          "output_type": "stream",
          "name": "stderr",
          "text": [
            "    183/300      13.1G     0.7142     0.8502      1.264        325        640: 100%|██████████| 22/22 [00:12<00:00,  1.77it/s]\n",
            "                 Class     Images  Instances      Box(P          R      mAP50  mAP50-95): 100%|██████████| 2/2 [00:01<00:00,  1.69it/s]"
          ]
        },
        {
          "output_type": "stream",
          "name": "stdout",
          "text": [
            "                   all        228       1219      0.624      0.633      0.676      0.502\n"
          ]
        },
        {
          "output_type": "stream",
          "name": "stderr",
          "text": [
            "\n"
          ]
        },
        {
          "output_type": "stream",
          "name": "stdout",
          "text": [
            "\n",
            "      Epoch    GPU_mem   box_loss   cls_loss   dfl_loss  Instances       Size\n"
          ]
        },
        {
          "output_type": "stream",
          "name": "stderr",
          "text": [
            "    184/300      13.1G     0.7262     0.8609      1.271        340        640: 100%|██████████| 22/22 [00:12<00:00,  1.77it/s]\n",
            "                 Class     Images  Instances      Box(P          R      mAP50  mAP50-95): 100%|██████████| 2/2 [00:01<00:00,  1.75it/s]"
          ]
        },
        {
          "output_type": "stream",
          "name": "stdout",
          "text": [
            "                   all        228       1219       0.72      0.578      0.666      0.506\n"
          ]
        },
        {
          "output_type": "stream",
          "name": "stderr",
          "text": [
            "\n"
          ]
        },
        {
          "output_type": "stream",
          "name": "stdout",
          "text": [
            "\n",
            "      Epoch    GPU_mem   box_loss   cls_loss   dfl_loss  Instances       Size\n"
          ]
        },
        {
          "output_type": "stream",
          "name": "stderr",
          "text": [
            "    185/300      13.1G     0.7175     0.8467      1.262        318        640: 100%|██████████| 22/22 [00:12<00:00,  1.77it/s]\n",
            "                 Class     Images  Instances      Box(P          R      mAP50  mAP50-95): 100%|██████████| 2/2 [00:01<00:00,  1.73it/s]"
          ]
        },
        {
          "output_type": "stream",
          "name": "stdout",
          "text": [
            "                   all        228       1219      0.661      0.588      0.653      0.478\n"
          ]
        },
        {
          "output_type": "stream",
          "name": "stderr",
          "text": [
            "\n"
          ]
        },
        {
          "output_type": "stream",
          "name": "stdout",
          "text": [
            "\n",
            "      Epoch    GPU_mem   box_loss   cls_loss   dfl_loss  Instances       Size\n"
          ]
        },
        {
          "output_type": "stream",
          "name": "stderr",
          "text": [
            "    186/300      15.1G     0.7122     0.8464      1.261        277        640: 100%|██████████| 22/22 [00:12<00:00,  1.77it/s]\n",
            "                 Class     Images  Instances      Box(P          R      mAP50  mAP50-95): 100%|██████████| 2/2 [00:01<00:00,  1.74it/s]"
          ]
        },
        {
          "output_type": "stream",
          "name": "stdout",
          "text": [
            "                   all        228       1219      0.672      0.538      0.601      0.416\n"
          ]
        },
        {
          "output_type": "stream",
          "name": "stderr",
          "text": [
            "\n"
          ]
        },
        {
          "output_type": "stream",
          "name": "stdout",
          "text": [
            "\n",
            "      Epoch    GPU_mem   box_loss   cls_loss   dfl_loss  Instances       Size\n"
          ]
        },
        {
          "output_type": "stream",
          "name": "stderr",
          "text": [
            "    187/300        14G     0.7142     0.8553       1.26        327        640: 100%|██████████| 22/22 [00:12<00:00,  1.78it/s]\n",
            "                 Class     Images  Instances      Box(P          R      mAP50  mAP50-95): 100%|██████████| 2/2 [00:01<00:00,  1.75it/s]"
          ]
        },
        {
          "output_type": "stream",
          "name": "stdout",
          "text": [
            "                   all        228       1219      0.676      0.535      0.608      0.433\n"
          ]
        },
        {
          "output_type": "stream",
          "name": "stderr",
          "text": [
            "\n"
          ]
        },
        {
          "output_type": "stream",
          "name": "stdout",
          "text": [
            "\n",
            "      Epoch    GPU_mem   box_loss   cls_loss   dfl_loss  Instances       Size\n"
          ]
        },
        {
          "output_type": "stream",
          "name": "stderr",
          "text": [
            "    188/300      13.5G     0.7062     0.8373      1.252        403        640: 100%|██████████| 22/22 [00:12<00:00,  1.77it/s]\n",
            "                 Class     Images  Instances      Box(P          R      mAP50  mAP50-95): 100%|██████████| 2/2 [00:01<00:00,  1.73it/s]"
          ]
        },
        {
          "output_type": "stream",
          "name": "stdout",
          "text": [
            "                   all        228       1219      0.644      0.546      0.597       0.43\n"
          ]
        },
        {
          "output_type": "stream",
          "name": "stderr",
          "text": [
            "\n"
          ]
        },
        {
          "output_type": "stream",
          "name": "stdout",
          "text": [
            "\n",
            "      Epoch    GPU_mem   box_loss   cls_loss   dfl_loss  Instances       Size\n"
          ]
        },
        {
          "output_type": "stream",
          "name": "stderr",
          "text": [
            "    189/300      13.9G      0.712     0.8419       1.26        269        640: 100%|██████████| 22/22 [00:12<00:00,  1.77it/s]\n",
            "                 Class     Images  Instances      Box(P          R      mAP50  mAP50-95): 100%|██████████| 2/2 [00:01<00:00,  1.74it/s]"
          ]
        },
        {
          "output_type": "stream",
          "name": "stdout",
          "text": [
            "                   all        228       1219      0.594      0.583      0.603      0.406\n"
          ]
        },
        {
          "output_type": "stream",
          "name": "stderr",
          "text": [
            "\n"
          ]
        },
        {
          "output_type": "stream",
          "name": "stdout",
          "text": [
            "\n",
            "      Epoch    GPU_mem   box_loss   cls_loss   dfl_loss  Instances       Size\n"
          ]
        },
        {
          "output_type": "stream",
          "name": "stderr",
          "text": [
            "    190/300        14G     0.7062     0.8419      1.256        241        640: 100%|██████████| 22/22 [00:12<00:00,  1.77it/s]\n",
            "                 Class     Images  Instances      Box(P          R      mAP50  mAP50-95): 100%|██████████| 2/2 [00:01<00:00,  1.65it/s]"
          ]
        },
        {
          "output_type": "stream",
          "name": "stdout",
          "text": [
            "                   all        228       1219      0.704      0.559      0.642      0.444\n"
          ]
        },
        {
          "output_type": "stream",
          "name": "stderr",
          "text": [
            "\n"
          ]
        },
        {
          "output_type": "stream",
          "name": "stdout",
          "text": [
            "\n",
            "      Epoch    GPU_mem   box_loss   cls_loss   dfl_loss  Instances       Size\n"
          ]
        },
        {
          "output_type": "stream",
          "name": "stderr",
          "text": [
            "    191/300      14.2G     0.7042     0.8311       1.25        315        640: 100%|██████████| 22/22 [00:12<00:00,  1.77it/s]\n",
            "                 Class     Images  Instances      Box(P          R      mAP50  mAP50-95): 100%|██████████| 2/2 [00:01<00:00,  1.68it/s]"
          ]
        },
        {
          "output_type": "stream",
          "name": "stdout",
          "text": [
            "                   all        228       1219      0.712      0.575      0.674      0.501\n"
          ]
        },
        {
          "output_type": "stream",
          "name": "stderr",
          "text": [
            "\n"
          ]
        },
        {
          "output_type": "stream",
          "name": "stdout",
          "text": [
            "\n",
            "      Epoch    GPU_mem   box_loss   cls_loss   dfl_loss  Instances       Size\n"
          ]
        },
        {
          "output_type": "stream",
          "name": "stderr",
          "text": [
            "    192/300      13.2G     0.7143     0.8326      1.261        336        640: 100%|██████████| 22/22 [00:12<00:00,  1.77it/s]\n",
            "                 Class     Images  Instances      Box(P          R      mAP50  mAP50-95): 100%|██████████| 2/2 [00:01<00:00,  1.73it/s]"
          ]
        },
        {
          "output_type": "stream",
          "name": "stdout",
          "text": [
            "                   all        228       1219      0.673      0.621      0.676      0.508\n"
          ]
        },
        {
          "output_type": "stream",
          "name": "stderr",
          "text": [
            "\n"
          ]
        },
        {
          "output_type": "stream",
          "name": "stdout",
          "text": [
            "\n",
            "      Epoch    GPU_mem   box_loss   cls_loss   dfl_loss  Instances       Size\n"
          ]
        },
        {
          "output_type": "stream",
          "name": "stderr",
          "text": [
            "    193/300      13.1G      0.699     0.8377       1.25        291        640: 100%|██████████| 22/22 [00:12<00:00,  1.77it/s]\n",
            "                 Class     Images  Instances      Box(P          R      mAP50  mAP50-95): 100%|██████████| 2/2 [00:01<00:00,  1.71it/s]"
          ]
        },
        {
          "output_type": "stream",
          "name": "stdout",
          "text": [
            "                   all        228       1219      0.732      0.559      0.669      0.492\n"
          ]
        },
        {
          "output_type": "stream",
          "name": "stderr",
          "text": [
            "\n"
          ]
        },
        {
          "output_type": "stream",
          "name": "stdout",
          "text": [
            "\n",
            "      Epoch    GPU_mem   box_loss   cls_loss   dfl_loss  Instances       Size\n"
          ]
        },
        {
          "output_type": "stream",
          "name": "stderr",
          "text": [
            "    194/300      13.5G     0.6994     0.8295      1.249        311        640: 100%|██████████| 22/22 [00:12<00:00,  1.78it/s]\n",
            "                 Class     Images  Instances      Box(P          R      mAP50  mAP50-95): 100%|██████████| 2/2 [00:01<00:00,  1.74it/s]"
          ]
        },
        {
          "output_type": "stream",
          "name": "stdout",
          "text": [
            "                   all        228       1219      0.627       0.65       0.67      0.501\n"
          ]
        },
        {
          "output_type": "stream",
          "name": "stderr",
          "text": [
            "\n"
          ]
        },
        {
          "output_type": "stream",
          "name": "stdout",
          "text": [
            "\n",
            "      Epoch    GPU_mem   box_loss   cls_loss   dfl_loss  Instances       Size\n"
          ]
        },
        {
          "output_type": "stream",
          "name": "stderr",
          "text": [
            "    195/300      14.1G     0.6911      0.818      1.244        316        640: 100%|██████████| 22/22 [00:12<00:00,  1.77it/s]\n",
            "                 Class     Images  Instances      Box(P          R      mAP50  mAP50-95): 100%|██████████| 2/2 [00:01<00:00,  1.72it/s]"
          ]
        },
        {
          "output_type": "stream",
          "name": "stdout",
          "text": [
            "                   all        228       1219      0.714      0.592      0.681       0.51\n"
          ]
        },
        {
          "output_type": "stream",
          "name": "stderr",
          "text": [
            "\n"
          ]
        },
        {
          "output_type": "stream",
          "name": "stdout",
          "text": [
            "\n",
            "      Epoch    GPU_mem   box_loss   cls_loss   dfl_loss  Instances       Size\n"
          ]
        },
        {
          "output_type": "stream",
          "name": "stderr",
          "text": [
            "    196/300        13G     0.7019     0.8433      1.251        436        640: 100%|██████████| 22/22 [00:12<00:00,  1.78it/s]\n",
            "                 Class     Images  Instances      Box(P          R      mAP50  mAP50-95): 100%|██████████| 2/2 [00:01<00:00,  1.75it/s]"
          ]
        },
        {
          "output_type": "stream",
          "name": "stdout",
          "text": [
            "                   all        228       1219      0.732      0.565      0.667        0.5\n"
          ]
        },
        {
          "output_type": "stream",
          "name": "stderr",
          "text": [
            "\n"
          ]
        },
        {
          "output_type": "stream",
          "name": "stdout",
          "text": [
            "\n",
            "      Epoch    GPU_mem   box_loss   cls_loss   dfl_loss  Instances       Size\n"
          ]
        },
        {
          "output_type": "stream",
          "name": "stderr",
          "text": [
            "    197/300      13.7G     0.6856     0.8211      1.237        258        640: 100%|██████████| 22/22 [00:12<00:00,  1.77it/s]\n",
            "                 Class     Images  Instances      Box(P          R      mAP50  mAP50-95): 100%|██████████| 2/2 [00:01<00:00,  1.74it/s]"
          ]
        },
        {
          "output_type": "stream",
          "name": "stdout",
          "text": [
            "                   all        228       1219       0.67      0.615      0.661      0.487\n"
          ]
        },
        {
          "output_type": "stream",
          "name": "stderr",
          "text": [
            "\n"
          ]
        },
        {
          "output_type": "stream",
          "name": "stdout",
          "text": [
            "\n",
            "      Epoch    GPU_mem   box_loss   cls_loss   dfl_loss  Instances       Size\n"
          ]
        },
        {
          "output_type": "stream",
          "name": "stderr",
          "text": [
            "    198/300      14.2G     0.7027     0.8268      1.251        370        640: 100%|██████████| 22/22 [00:12<00:00,  1.77it/s]\n",
            "                 Class     Images  Instances      Box(P          R      mAP50  mAP50-95): 100%|██████████| 2/2 [00:01<00:00,  1.74it/s]"
          ]
        },
        {
          "output_type": "stream",
          "name": "stdout",
          "text": [
            "                   all        228       1219      0.735      0.566      0.648      0.472\n"
          ]
        },
        {
          "output_type": "stream",
          "name": "stderr",
          "text": [
            "\n"
          ]
        },
        {
          "output_type": "stream",
          "name": "stdout",
          "text": [
            "\n",
            "      Epoch    GPU_mem   box_loss   cls_loss   dfl_loss  Instances       Size\n"
          ]
        },
        {
          "output_type": "stream",
          "name": "stderr",
          "text": [
            "    199/300      13.5G     0.6954     0.8211      1.241        315        640: 100%|██████████| 22/22 [00:12<00:00,  1.76it/s]\n",
            "                 Class     Images  Instances      Box(P          R      mAP50  mAP50-95): 100%|██████████| 2/2 [00:01<00:00,  1.70it/s]"
          ]
        },
        {
          "output_type": "stream",
          "name": "stdout",
          "text": [
            "                   all        228       1219      0.681      0.579      0.646      0.465\n"
          ]
        },
        {
          "output_type": "stream",
          "name": "stderr",
          "text": [
            "\n"
          ]
        },
        {
          "output_type": "stream",
          "name": "stdout",
          "text": [
            "\n",
            "      Epoch    GPU_mem   box_loss   cls_loss   dfl_loss  Instances       Size\n"
          ]
        },
        {
          "output_type": "stream",
          "name": "stderr",
          "text": [
            "    200/300      13.2G     0.6993     0.8263      1.246        318        640: 100%|██████████| 22/22 [00:12<00:00,  1.77it/s]\n",
            "                 Class     Images  Instances      Box(P          R      mAP50  mAP50-95): 100%|██████████| 2/2 [00:01<00:00,  1.63it/s]\n"
          ]
        },
        {
          "output_type": "stream",
          "name": "stdout",
          "text": [
            "                   all        228       1219      0.663      0.602      0.668      0.486\n",
            "\n",
            "      Epoch    GPU_mem   box_loss   cls_loss   dfl_loss  Instances       Size\n"
          ]
        },
        {
          "output_type": "stream",
          "name": "stderr",
          "text": [
            "    201/300      13.7G     0.6992     0.8302      1.253        288        640: 100%|██████████| 22/22 [00:12<00:00,  1.77it/s]\n",
            "                 Class     Images  Instances      Box(P          R      mAP50  mAP50-95): 100%|██████████| 2/2 [00:01<00:00,  1.73it/s]"
          ]
        },
        {
          "output_type": "stream",
          "name": "stdout",
          "text": [
            "                   all        228       1219      0.725      0.585      0.681      0.508\n"
          ]
        },
        {
          "output_type": "stream",
          "name": "stderr",
          "text": [
            "\n"
          ]
        },
        {
          "output_type": "stream",
          "name": "stdout",
          "text": [
            "\n",
            "      Epoch    GPU_mem   box_loss   cls_loss   dfl_loss  Instances       Size\n"
          ]
        },
        {
          "output_type": "stream",
          "name": "stderr",
          "text": [
            "    202/300      13.2G     0.6908     0.8171      1.245        392        640: 100%|██████████| 22/22 [00:12<00:00,  1.77it/s]\n",
            "                 Class     Images  Instances      Box(P          R      mAP50  mAP50-95): 100%|██████████| 2/2 [00:01<00:00,  1.73it/s]"
          ]
        },
        {
          "output_type": "stream",
          "name": "stdout",
          "text": [
            "                   all        228       1219      0.749       0.62      0.701      0.535\n"
          ]
        },
        {
          "output_type": "stream",
          "name": "stderr",
          "text": [
            "\n"
          ]
        },
        {
          "output_type": "stream",
          "name": "stdout",
          "text": [
            "\n",
            "      Epoch    GPU_mem   box_loss   cls_loss   dfl_loss  Instances       Size\n"
          ]
        },
        {
          "output_type": "stream",
          "name": "stderr",
          "text": [
            "    203/300      13.5G      0.692     0.8209      1.245        309        640: 100%|██████████| 22/22 [00:12<00:00,  1.78it/s]\n",
            "                 Class     Images  Instances      Box(P          R      mAP50  mAP50-95): 100%|██████████| 2/2 [00:01<00:00,  1.74it/s]"
          ]
        },
        {
          "output_type": "stream",
          "name": "stdout",
          "text": [
            "                   all        228       1219      0.721      0.587      0.671      0.486\n"
          ]
        },
        {
          "output_type": "stream",
          "name": "stderr",
          "text": [
            "\n"
          ]
        },
        {
          "output_type": "stream",
          "name": "stdout",
          "text": [
            "\n",
            "      Epoch    GPU_mem   box_loss   cls_loss   dfl_loss  Instances       Size\n"
          ]
        },
        {
          "output_type": "stream",
          "name": "stderr",
          "text": [
            "    204/300      13.7G     0.6892     0.8075      1.236        313        640: 100%|██████████| 22/22 [00:12<00:00,  1.77it/s]\n",
            "                 Class     Images  Instances      Box(P          R      mAP50  mAP50-95): 100%|██████████| 2/2 [00:01<00:00,  1.74it/s]"
          ]
        },
        {
          "output_type": "stream",
          "name": "stdout",
          "text": [
            "                   all        228       1219      0.696      0.593      0.653      0.456\n"
          ]
        },
        {
          "output_type": "stream",
          "name": "stderr",
          "text": [
            "\n"
          ]
        },
        {
          "output_type": "stream",
          "name": "stdout",
          "text": [
            "\n",
            "      Epoch    GPU_mem   box_loss   cls_loss   dfl_loss  Instances       Size\n"
          ]
        },
        {
          "output_type": "stream",
          "name": "stderr",
          "text": [
            "    205/300        13G     0.6766     0.7924      1.227        287        640: 100%|██████████| 22/22 [00:12<00:00,  1.78it/s]\n",
            "                 Class     Images  Instances      Box(P          R      mAP50  mAP50-95): 100%|██████████| 2/2 [00:01<00:00,  1.73it/s]"
          ]
        },
        {
          "output_type": "stream",
          "name": "stdout",
          "text": [
            "                   all        228       1219      0.704      0.578      0.671       0.48\n"
          ]
        },
        {
          "output_type": "stream",
          "name": "stderr",
          "text": [
            "\n"
          ]
        },
        {
          "output_type": "stream",
          "name": "stdout",
          "text": [
            "\n",
            "      Epoch    GPU_mem   box_loss   cls_loss   dfl_loss  Instances       Size\n"
          ]
        },
        {
          "output_type": "stream",
          "name": "stderr",
          "text": [
            "    206/300      13.1G     0.6974     0.8219      1.247        291        640: 100%|██████████| 22/22 [00:12<00:00,  1.78it/s]\n",
            "                 Class     Images  Instances      Box(P          R      mAP50  mAP50-95): 100%|██████████| 2/2 [00:01<00:00,  1.69it/s]"
          ]
        },
        {
          "output_type": "stream",
          "name": "stdout",
          "text": [
            "                   all        228       1219      0.725      0.586      0.674      0.492\n"
          ]
        },
        {
          "output_type": "stream",
          "name": "stderr",
          "text": [
            "\n"
          ]
        },
        {
          "output_type": "stream",
          "name": "stdout",
          "text": [
            "\n",
            "      Epoch    GPU_mem   box_loss   cls_loss   dfl_loss  Instances       Size\n"
          ]
        },
        {
          "output_type": "stream",
          "name": "stderr",
          "text": [
            "    207/300      12.8G     0.6856     0.8149      1.243        222        640: 100%|██████████| 22/22 [00:12<00:00,  1.78it/s]\n",
            "                 Class     Images  Instances      Box(P          R      mAP50  mAP50-95): 100%|██████████| 2/2 [00:01<00:00,  1.69it/s]"
          ]
        },
        {
          "output_type": "stream",
          "name": "stdout",
          "text": [
            "                   all        228       1219      0.711      0.615      0.699      0.528\n"
          ]
        },
        {
          "output_type": "stream",
          "name": "stderr",
          "text": [
            "\n"
          ]
        },
        {
          "output_type": "stream",
          "name": "stdout",
          "text": [
            "\n",
            "      Epoch    GPU_mem   box_loss   cls_loss   dfl_loss  Instances       Size\n"
          ]
        },
        {
          "output_type": "stream",
          "name": "stderr",
          "text": [
            "    208/300        13G     0.6877     0.8149      1.241        331        640: 100%|██████████| 22/22 [00:12<00:00,  1.77it/s]\n",
            "                 Class     Images  Instances      Box(P          R      mAP50  mAP50-95): 100%|██████████| 2/2 [00:01<00:00,  1.70it/s]"
          ]
        },
        {
          "output_type": "stream",
          "name": "stdout",
          "text": [
            "                   all        228       1219      0.727       0.59      0.672      0.489\n"
          ]
        },
        {
          "output_type": "stream",
          "name": "stderr",
          "text": [
            "\n"
          ]
        },
        {
          "output_type": "stream",
          "name": "stdout",
          "text": [
            "\n",
            "      Epoch    GPU_mem   box_loss   cls_loss   dfl_loss  Instances       Size\n"
          ]
        },
        {
          "output_type": "stream",
          "name": "stderr",
          "text": [
            "    209/300      14.5G     0.6816     0.7932      1.233        327        640: 100%|██████████| 22/22 [00:12<00:00,  1.77it/s]\n",
            "                 Class     Images  Instances      Box(P          R      mAP50  mAP50-95): 100%|██████████| 2/2 [00:01<00:00,  1.66it/s]\n"
          ]
        },
        {
          "output_type": "stream",
          "name": "stdout",
          "text": [
            "                   all        228       1219      0.705      0.591      0.665      0.482\n",
            "\n",
            "      Epoch    GPU_mem   box_loss   cls_loss   dfl_loss  Instances       Size\n"
          ]
        },
        {
          "output_type": "stream",
          "name": "stderr",
          "text": [
            "    210/300      14.1G      0.683      0.796      1.236        292        640: 100%|██████████| 22/22 [00:12<00:00,  1.76it/s]\n",
            "                 Class     Images  Instances      Box(P          R      mAP50  mAP50-95): 100%|██████████| 2/2 [00:01<00:00,  1.75it/s]"
          ]
        },
        {
          "output_type": "stream",
          "name": "stdout",
          "text": [
            "                   all        228       1219      0.682      0.595      0.635       0.45\n"
          ]
        },
        {
          "output_type": "stream",
          "name": "stderr",
          "text": [
            "\n"
          ]
        },
        {
          "output_type": "stream",
          "name": "stdout",
          "text": [
            "\n",
            "      Epoch    GPU_mem   box_loss   cls_loss   dfl_loss  Instances       Size\n"
          ]
        },
        {
          "output_type": "stream",
          "name": "stderr",
          "text": [
            "    211/300      13.6G      0.684     0.8035      1.238        322        640: 100%|██████████| 22/22 [00:12<00:00,  1.77it/s]\n",
            "                 Class     Images  Instances      Box(P          R      mAP50  mAP50-95): 100%|██████████| 2/2 [00:01<00:00,  1.71it/s]"
          ]
        },
        {
          "output_type": "stream",
          "name": "stdout",
          "text": [
            "                   all        228       1219      0.681      0.616       0.66      0.474\n"
          ]
        },
        {
          "output_type": "stream",
          "name": "stderr",
          "text": [
            "\n"
          ]
        },
        {
          "output_type": "stream",
          "name": "stdout",
          "text": [
            "\n",
            "      Epoch    GPU_mem   box_loss   cls_loss   dfl_loss  Instances       Size\n"
          ]
        },
        {
          "output_type": "stream",
          "name": "stderr",
          "text": [
            "    212/300        13G      0.682     0.7977      1.233        326        640: 100%|██████████| 22/22 [00:12<00:00,  1.77it/s]\n",
            "                 Class     Images  Instances      Box(P          R      mAP50  mAP50-95): 100%|██████████| 2/2 [00:01<00:00,  1.72it/s]"
          ]
        },
        {
          "output_type": "stream",
          "name": "stdout",
          "text": [
            "                   all        228       1219      0.712      0.611       0.68      0.516\n"
          ]
        },
        {
          "output_type": "stream",
          "name": "stderr",
          "text": [
            "\n"
          ]
        },
        {
          "output_type": "stream",
          "name": "stdout",
          "text": [
            "\n",
            "      Epoch    GPU_mem   box_loss   cls_loss   dfl_loss  Instances       Size\n"
          ]
        },
        {
          "output_type": "stream",
          "name": "stderr",
          "text": [
            "    213/300      14.7G     0.6721     0.7916      1.228        294        640: 100%|██████████| 22/22 [00:12<00:00,  1.77it/s]\n",
            "                 Class     Images  Instances      Box(P          R      mAP50  mAP50-95): 100%|██████████| 2/2 [00:01<00:00,  1.66it/s]"
          ]
        },
        {
          "output_type": "stream",
          "name": "stdout",
          "text": [
            "                   all        228       1219      0.687      0.608      0.682      0.507\n"
          ]
        },
        {
          "output_type": "stream",
          "name": "stderr",
          "text": [
            "\n"
          ]
        },
        {
          "output_type": "stream",
          "name": "stdout",
          "text": [
            "\n",
            "      Epoch    GPU_mem   box_loss   cls_loss   dfl_loss  Instances       Size\n"
          ]
        },
        {
          "output_type": "stream",
          "name": "stderr",
          "text": [
            "    214/300      13.5G     0.6791     0.8031      1.236        291        640: 100%|██████████| 22/22 [00:12<00:00,  1.78it/s]\n",
            "                 Class     Images  Instances      Box(P          R      mAP50  mAP50-95): 100%|██████████| 2/2 [00:01<00:00,  1.74it/s]"
          ]
        },
        {
          "output_type": "stream",
          "name": "stdout",
          "text": [
            "                   all        228       1219      0.682      0.618      0.685       0.51\n"
          ]
        },
        {
          "output_type": "stream",
          "name": "stderr",
          "text": [
            "\n"
          ]
        },
        {
          "output_type": "stream",
          "name": "stdout",
          "text": [
            "\n",
            "      Epoch    GPU_mem   box_loss   cls_loss   dfl_loss  Instances       Size\n"
          ]
        },
        {
          "output_type": "stream",
          "name": "stderr",
          "text": [
            "    215/300      14.1G     0.6753     0.7987      1.228        334        640: 100%|██████████| 22/22 [00:12<00:00,  1.77it/s]\n",
            "                 Class     Images  Instances      Box(P          R      mAP50  mAP50-95): 100%|██████████| 2/2 [00:01<00:00,  1.74it/s]"
          ]
        },
        {
          "output_type": "stream",
          "name": "stdout",
          "text": [
            "                   all        228       1219      0.712      0.596      0.683      0.499\n"
          ]
        },
        {
          "output_type": "stream",
          "name": "stderr",
          "text": [
            "\n"
          ]
        },
        {
          "output_type": "stream",
          "name": "stdout",
          "text": [
            "\n",
            "      Epoch    GPU_mem   box_loss   cls_loss   dfl_loss  Instances       Size\n"
          ]
        },
        {
          "output_type": "stream",
          "name": "stderr",
          "text": [
            "    216/300      13.7G      0.676     0.8106      1.232        317        640: 100%|██████████| 22/22 [00:12<00:00,  1.77it/s]\n",
            "                 Class     Images  Instances      Box(P          R      mAP50  mAP50-95): 100%|██████████| 2/2 [00:01<00:00,  1.71it/s]"
          ]
        },
        {
          "output_type": "stream",
          "name": "stdout",
          "text": [
            "                   all        228       1219      0.755      0.565      0.689      0.505\n"
          ]
        },
        {
          "output_type": "stream",
          "name": "stderr",
          "text": [
            "\n"
          ]
        },
        {
          "output_type": "stream",
          "name": "stdout",
          "text": [
            "\n",
            "      Epoch    GPU_mem   box_loss   cls_loss   dfl_loss  Instances       Size\n"
          ]
        },
        {
          "output_type": "stream",
          "name": "stderr",
          "text": [
            "    217/300      13.2G      0.676     0.7957      1.229        323        640: 100%|██████████| 22/22 [00:12<00:00,  1.77it/s]\n",
            "                 Class     Images  Instances      Box(P          R      mAP50  mAP50-95): 100%|██████████| 2/2 [00:01<00:00,  1.71it/s]"
          ]
        },
        {
          "output_type": "stream",
          "name": "stdout",
          "text": [
            "                   all        228       1219      0.695       0.63      0.695      0.523\n"
          ]
        },
        {
          "output_type": "stream",
          "name": "stderr",
          "text": [
            "\n"
          ]
        },
        {
          "output_type": "stream",
          "name": "stdout",
          "text": [
            "\n",
            "      Epoch    GPU_mem   box_loss   cls_loss   dfl_loss  Instances       Size\n"
          ]
        },
        {
          "output_type": "stream",
          "name": "stderr",
          "text": [
            "    218/300      13.6G     0.6692     0.7843      1.221        246        640: 100%|██████████| 22/22 [00:12<00:00,  1.78it/s]\n",
            "                 Class     Images  Instances      Box(P          R      mAP50  mAP50-95): 100%|██████████| 2/2 [00:01<00:00,  1.74it/s]"
          ]
        },
        {
          "output_type": "stream",
          "name": "stdout",
          "text": [
            "                   all        228       1219      0.627      0.636      0.655      0.465\n"
          ]
        },
        {
          "output_type": "stream",
          "name": "stderr",
          "text": [
            "\n"
          ]
        },
        {
          "output_type": "stream",
          "name": "stdout",
          "text": [
            "\n",
            "      Epoch    GPU_mem   box_loss   cls_loss   dfl_loss  Instances       Size\n"
          ]
        },
        {
          "output_type": "stream",
          "name": "stderr",
          "text": [
            "    219/300      13.5G     0.6714     0.7965      1.227        360        640: 100%|██████████| 22/22 [00:12<00:00,  1.77it/s]\n",
            "                 Class     Images  Instances      Box(P          R      mAP50  mAP50-95): 100%|██████████| 2/2 [00:01<00:00,  1.69it/s]"
          ]
        },
        {
          "output_type": "stream",
          "name": "stdout",
          "text": [
            "                   all        228       1219      0.779      0.534      0.658       0.47\n"
          ]
        },
        {
          "output_type": "stream",
          "name": "stderr",
          "text": [
            "\n"
          ]
        },
        {
          "output_type": "stream",
          "name": "stdout",
          "text": [
            "\n",
            "      Epoch    GPU_mem   box_loss   cls_loss   dfl_loss  Instances       Size\n"
          ]
        },
        {
          "output_type": "stream",
          "name": "stderr",
          "text": [
            "    220/300      14.1G     0.6677     0.7819       1.22        300        640: 100%|██████████| 22/22 [00:12<00:00,  1.77it/s]\n",
            "                 Class     Images  Instances      Box(P          R      mAP50  mAP50-95): 100%|██████████| 2/2 [00:01<00:00,  1.72it/s]"
          ]
        },
        {
          "output_type": "stream",
          "name": "stdout",
          "text": [
            "                   all        228       1219      0.636      0.595      0.653      0.469\n"
          ]
        },
        {
          "output_type": "stream",
          "name": "stderr",
          "text": [
            "\n"
          ]
        },
        {
          "output_type": "stream",
          "name": "stdout",
          "text": [
            "\n",
            "      Epoch    GPU_mem   box_loss   cls_loss   dfl_loss  Instances       Size\n"
          ]
        },
        {
          "output_type": "stream",
          "name": "stderr",
          "text": [
            "    221/300      13.1G     0.6723     0.7966      1.229        321        640: 100%|██████████| 22/22 [00:12<00:00,  1.77it/s]\n",
            "                 Class     Images  Instances      Box(P          R      mAP50  mAP50-95): 100%|██████████| 2/2 [00:01<00:00,  1.74it/s]"
          ]
        },
        {
          "output_type": "stream",
          "name": "stdout",
          "text": [
            "                   all        228       1219      0.638      0.587      0.629      0.445\n"
          ]
        },
        {
          "output_type": "stream",
          "name": "stderr",
          "text": [
            "\n"
          ]
        },
        {
          "output_type": "stream",
          "name": "stdout",
          "text": [
            "\n",
            "      Epoch    GPU_mem   box_loss   cls_loss   dfl_loss  Instances       Size\n"
          ]
        },
        {
          "output_type": "stream",
          "name": "stderr",
          "text": [
            "    222/300        13G     0.6628     0.7719      1.213        318        640: 100%|██████████| 22/22 [00:12<00:00,  1.78it/s]\n",
            "                 Class     Images  Instances      Box(P          R      mAP50  mAP50-95): 100%|██████████| 2/2 [00:01<00:00,  1.72it/s]"
          ]
        },
        {
          "output_type": "stream",
          "name": "stdout",
          "text": [
            "                   all        228       1219      0.769       0.56      0.675      0.491\n"
          ]
        },
        {
          "output_type": "stream",
          "name": "stderr",
          "text": [
            "\n"
          ]
        },
        {
          "output_type": "stream",
          "name": "stdout",
          "text": [
            "\n",
            "      Epoch    GPU_mem   box_loss   cls_loss   dfl_loss  Instances       Size\n"
          ]
        },
        {
          "output_type": "stream",
          "name": "stderr",
          "text": [
            "    223/300      13.7G     0.6705     0.7942      1.227        367        640: 100%|██████████| 22/22 [00:12<00:00,  1.77it/s]\n",
            "                 Class     Images  Instances      Box(P          R      mAP50  mAP50-95): 100%|██████████| 2/2 [00:01<00:00,  1.67it/s]"
          ]
        },
        {
          "output_type": "stream",
          "name": "stdout",
          "text": [
            "                   all        228       1219      0.748       0.59      0.689       0.51\n"
          ]
        },
        {
          "output_type": "stream",
          "name": "stderr",
          "text": [
            "\n"
          ]
        },
        {
          "output_type": "stream",
          "name": "stdout",
          "text": [
            "\n",
            "      Epoch    GPU_mem   box_loss   cls_loss   dfl_loss  Instances       Size\n"
          ]
        },
        {
          "output_type": "stream",
          "name": "stderr",
          "text": [
            "    224/300        14G     0.6756     0.7971       1.23        311        640: 100%|██████████| 22/22 [00:12<00:00,  1.77it/s]\n",
            "                 Class     Images  Instances      Box(P          R      mAP50  mAP50-95): 100%|██████████| 2/2 [00:01<00:00,  1.74it/s]"
          ]
        },
        {
          "output_type": "stream",
          "name": "stdout",
          "text": [
            "                   all        228       1219        0.7      0.609      0.678      0.502\n"
          ]
        },
        {
          "output_type": "stream",
          "name": "stderr",
          "text": [
            "\n"
          ]
        },
        {
          "output_type": "stream",
          "name": "stdout",
          "text": [
            "\n",
            "      Epoch    GPU_mem   box_loss   cls_loss   dfl_loss  Instances       Size\n"
          ]
        },
        {
          "output_type": "stream",
          "name": "stderr",
          "text": [
            "    225/300      12.4G     0.6601     0.7696      1.215        265        640: 100%|██████████| 22/22 [00:12<00:00,  1.78it/s]\n",
            "                 Class     Images  Instances      Box(P          R      mAP50  mAP50-95): 100%|██████████| 2/2 [00:01<00:00,  1.74it/s]"
          ]
        },
        {
          "output_type": "stream",
          "name": "stdout",
          "text": [
            "                   all        228       1219      0.709      0.582      0.666      0.495\n"
          ]
        },
        {
          "output_type": "stream",
          "name": "stderr",
          "text": [
            "\n"
          ]
        },
        {
          "output_type": "stream",
          "name": "stdout",
          "text": [
            "\n",
            "      Epoch    GPU_mem   box_loss   cls_loss   dfl_loss  Instances       Size\n"
          ]
        },
        {
          "output_type": "stream",
          "name": "stderr",
          "text": [
            "    226/300      13.1G     0.6589     0.7739      1.215        330        640: 100%|██████████| 22/22 [00:12<00:00,  1.77it/s]\n",
            "                 Class     Images  Instances      Box(P          R      mAP50  mAP50-95): 100%|██████████| 2/2 [00:01<00:00,  1.74it/s]"
          ]
        },
        {
          "output_type": "stream",
          "name": "stdout",
          "text": [
            "                   all        228       1219      0.707      0.602      0.655      0.479\n"
          ]
        },
        {
          "output_type": "stream",
          "name": "stderr",
          "text": [
            "\n"
          ]
        },
        {
          "output_type": "stream",
          "name": "stdout",
          "text": [
            "\n",
            "      Epoch    GPU_mem   box_loss   cls_loss   dfl_loss  Instances       Size\n"
          ]
        },
        {
          "output_type": "stream",
          "name": "stderr",
          "text": [
            "    227/300      14.4G     0.6568     0.7742      1.218        317        640: 100%|██████████| 22/22 [00:12<00:00,  1.77it/s]\n",
            "                 Class     Images  Instances      Box(P          R      mAP50  mAP50-95): 100%|██████████| 2/2 [00:01<00:00,  1.75it/s]"
          ]
        },
        {
          "output_type": "stream",
          "name": "stdout",
          "text": [
            "                   all        228       1219      0.659      0.599      0.653      0.476\n"
          ]
        },
        {
          "output_type": "stream",
          "name": "stderr",
          "text": [
            "\n"
          ]
        },
        {
          "output_type": "stream",
          "name": "stdout",
          "text": [
            "\n",
            "      Epoch    GPU_mem   box_loss   cls_loss   dfl_loss  Instances       Size\n"
          ]
        },
        {
          "output_type": "stream",
          "name": "stderr",
          "text": [
            "    228/300      13.3G     0.6664     0.7764      1.218        297        640: 100%|██████████| 22/22 [00:12<00:00,  1.77it/s]\n",
            "                 Class     Images  Instances      Box(P          R      mAP50  mAP50-95): 100%|██████████| 2/2 [00:01<00:00,  1.72it/s]"
          ]
        },
        {
          "output_type": "stream",
          "name": "stdout",
          "text": [
            "                   all        228       1219      0.733      0.583      0.675      0.493\n"
          ]
        },
        {
          "output_type": "stream",
          "name": "stderr",
          "text": [
            "\n"
          ]
        },
        {
          "output_type": "stream",
          "name": "stdout",
          "text": [
            "\n",
            "      Epoch    GPU_mem   box_loss   cls_loss   dfl_loss  Instances       Size\n"
          ]
        },
        {
          "output_type": "stream",
          "name": "stderr",
          "text": [
            "    229/300      12.7G     0.6659     0.7765      1.222        317        640: 100%|██████████| 22/22 [00:12<00:00,  1.78it/s]\n",
            "                 Class     Images  Instances      Box(P          R      mAP50  mAP50-95): 100%|██████████| 2/2 [00:01<00:00,  1.75it/s]"
          ]
        },
        {
          "output_type": "stream",
          "name": "stdout",
          "text": [
            "                   all        228       1219      0.724      0.622      0.695       0.52\n"
          ]
        },
        {
          "output_type": "stream",
          "name": "stderr",
          "text": [
            "\n"
          ]
        },
        {
          "output_type": "stream",
          "name": "stdout",
          "text": [
            "\n",
            "      Epoch    GPU_mem   box_loss   cls_loss   dfl_loss  Instances       Size\n"
          ]
        },
        {
          "output_type": "stream",
          "name": "stderr",
          "text": [
            "    230/300      14.8G     0.6618     0.7812      1.223        326        640: 100%|██████████| 22/22 [00:12<00:00,  1.76it/s]\n",
            "                 Class     Images  Instances      Box(P          R      mAP50  mAP50-95): 100%|██████████| 2/2 [00:01<00:00,  1.72it/s]"
          ]
        },
        {
          "output_type": "stream",
          "name": "stdout",
          "text": [
            "                   all        228       1219      0.633      0.669      0.682      0.498\n"
          ]
        },
        {
          "output_type": "stream",
          "name": "stderr",
          "text": [
            "\n"
          ]
        },
        {
          "output_type": "stream",
          "name": "stdout",
          "text": [
            "\n",
            "      Epoch    GPU_mem   box_loss   cls_loss   dfl_loss  Instances       Size\n"
          ]
        },
        {
          "output_type": "stream",
          "name": "stderr",
          "text": [
            "    231/300      13.2G     0.6583     0.7714      1.212        271        640: 100%|██████████| 22/22 [00:12<00:00,  1.77it/s]\n",
            "                 Class     Images  Instances      Box(P          R      mAP50  mAP50-95): 100%|██████████| 2/2 [00:01<00:00,  1.72it/s]"
          ]
        },
        {
          "output_type": "stream",
          "name": "stdout",
          "text": [
            "                   all        228       1219      0.786      0.555      0.689      0.501\n"
          ]
        },
        {
          "output_type": "stream",
          "name": "stderr",
          "text": [
            "\n"
          ]
        },
        {
          "output_type": "stream",
          "name": "stdout",
          "text": [
            "\n",
            "      Epoch    GPU_mem   box_loss   cls_loss   dfl_loss  Instances       Size\n"
          ]
        },
        {
          "output_type": "stream",
          "name": "stderr",
          "text": [
            "    232/300      13.1G     0.6542     0.7583      1.212        371        640: 100%|██████████| 22/22 [00:12<00:00,  1.78it/s]\n",
            "                 Class     Images  Instances      Box(P          R      mAP50  mAP50-95): 100%|██████████| 2/2 [00:01<00:00,  1.72it/s]"
          ]
        },
        {
          "output_type": "stream",
          "name": "stdout",
          "text": [
            "                   all        228       1219      0.755      0.565      0.693      0.503\n"
          ]
        },
        {
          "output_type": "stream",
          "name": "stderr",
          "text": [
            "\n"
          ]
        },
        {
          "output_type": "stream",
          "name": "stdout",
          "text": [
            "\n",
            "      Epoch    GPU_mem   box_loss   cls_loss   dfl_loss  Instances       Size\n"
          ]
        },
        {
          "output_type": "stream",
          "name": "stderr",
          "text": [
            "    233/300      13.8G     0.6516     0.7659      1.211        297        640: 100%|██████████| 22/22 [00:12<00:00,  1.77it/s]\n",
            "                 Class     Images  Instances      Box(P          R      mAP50  mAP50-95): 100%|██████████| 2/2 [00:01<00:00,  1.71it/s]"
          ]
        },
        {
          "output_type": "stream",
          "name": "stdout",
          "text": [
            "                   all        228       1219      0.702      0.615      0.664      0.478\n"
          ]
        },
        {
          "output_type": "stream",
          "name": "stderr",
          "text": [
            "\n"
          ]
        },
        {
          "output_type": "stream",
          "name": "stdout",
          "text": [
            "\n",
            "      Epoch    GPU_mem   box_loss   cls_loss   dfl_loss  Instances       Size\n"
          ]
        },
        {
          "output_type": "stream",
          "name": "stderr",
          "text": [
            "    234/300        13G     0.6641     0.7867       1.22        363        640: 100%|██████████| 22/22 [00:12<00:00,  1.78it/s]\n",
            "                 Class     Images  Instances      Box(P          R      mAP50  mAP50-95): 100%|██████████| 2/2 [00:01<00:00,  1.73it/s]"
          ]
        },
        {
          "output_type": "stream",
          "name": "stdout",
          "text": [
            "                   all        228       1219      0.758      0.563      0.666      0.477\n"
          ]
        },
        {
          "output_type": "stream",
          "name": "stderr",
          "text": [
            "\n"
          ]
        },
        {
          "output_type": "stream",
          "name": "stdout",
          "text": [
            "\n",
            "      Epoch    GPU_mem   box_loss   cls_loss   dfl_loss  Instances       Size\n"
          ]
        },
        {
          "output_type": "stream",
          "name": "stderr",
          "text": [
            "    235/300      12.9G     0.6593     0.7765      1.214        301        640: 100%|██████████| 22/22 [00:12<00:00,  1.77it/s]\n",
            "                 Class     Images  Instances      Box(P          R      mAP50  mAP50-95): 100%|██████████| 2/2 [00:01<00:00,  1.73it/s]\n"
          ]
        },
        {
          "output_type": "stream",
          "name": "stdout",
          "text": [
            "                   all        228       1219      0.712      0.583      0.651      0.463\n",
            "\n",
            "      Epoch    GPU_mem   box_loss   cls_loss   dfl_loss  Instances       Size\n"
          ]
        },
        {
          "output_type": "stream",
          "name": "stderr",
          "text": [
            "    236/300      12.6G     0.6527     0.7741      1.208        310        640: 100%|██████████| 22/22 [00:12<00:00,  1.77it/s]\n",
            "                 Class     Images  Instances      Box(P          R      mAP50  mAP50-95): 100%|██████████| 2/2 [00:01<00:00,  1.70it/s]"
          ]
        },
        {
          "output_type": "stream",
          "name": "stdout",
          "text": [
            "                   all        228       1219      0.728      0.587      0.671      0.494\n"
          ]
        },
        {
          "output_type": "stream",
          "name": "stderr",
          "text": [
            "\n"
          ]
        },
        {
          "output_type": "stream",
          "name": "stdout",
          "text": [
            "\n",
            "      Epoch    GPU_mem   box_loss   cls_loss   dfl_loss  Instances       Size\n"
          ]
        },
        {
          "output_type": "stream",
          "name": "stderr",
          "text": [
            "    237/300      13.6G     0.6501      0.765      1.207        302        640: 100%|██████████| 22/22 [00:12<00:00,  1.76it/s]\n",
            "                 Class     Images  Instances      Box(P          R      mAP50  mAP50-95): 100%|██████████| 2/2 [00:01<00:00,  1.72it/s]\n"
          ]
        },
        {
          "output_type": "stream",
          "name": "stdout",
          "text": [
            "                   all        228       1219      0.663      0.611      0.659      0.478\n",
            "\n",
            "      Epoch    GPU_mem   box_loss   cls_loss   dfl_loss  Instances       Size\n"
          ]
        },
        {
          "output_type": "stream",
          "name": "stderr",
          "text": [
            "    238/300      13.4G      0.653      0.762      1.208        362        640: 100%|██████████| 22/22 [00:12<00:00,  1.77it/s]\n",
            "                 Class     Images  Instances      Box(P          R      mAP50  mAP50-95): 100%|██████████| 2/2 [00:01<00:00,  1.74it/s]"
          ]
        },
        {
          "output_type": "stream",
          "name": "stdout",
          "text": [
            "                   all        228       1219       0.72      0.575      0.671      0.491\n"
          ]
        },
        {
          "output_type": "stream",
          "name": "stderr",
          "text": [
            "\n"
          ]
        },
        {
          "output_type": "stream",
          "name": "stdout",
          "text": [
            "\n",
            "      Epoch    GPU_mem   box_loss   cls_loss   dfl_loss  Instances       Size\n"
          ]
        },
        {
          "output_type": "stream",
          "name": "stderr",
          "text": [
            "    239/300      13.5G     0.6575     0.7623      1.216        347        640: 100%|██████████| 22/22 [00:12<00:00,  1.78it/s]\n",
            "                 Class     Images  Instances      Box(P          R      mAP50  mAP50-95): 100%|██████████| 2/2 [00:01<00:00,  1.76it/s]"
          ]
        },
        {
          "output_type": "stream",
          "name": "stdout",
          "text": [
            "                   all        228       1219      0.667       0.61       0.67      0.492\n"
          ]
        },
        {
          "output_type": "stream",
          "name": "stderr",
          "text": [
            "\n"
          ]
        },
        {
          "output_type": "stream",
          "name": "stdout",
          "text": [
            "\n",
            "      Epoch    GPU_mem   box_loss   cls_loss   dfl_loss  Instances       Size\n"
          ]
        },
        {
          "output_type": "stream",
          "name": "stderr",
          "text": [
            "    240/300        13G     0.6534     0.7672      1.208        328        640: 100%|██████████| 22/22 [00:12<00:00,  1.77it/s]\n",
            "                 Class     Images  Instances      Box(P          R      mAP50  mAP50-95): 100%|██████████| 2/2 [00:01<00:00,  1.70it/s]"
          ]
        },
        {
          "output_type": "stream",
          "name": "stdout",
          "text": [
            "                   all        228       1219      0.718      0.613      0.686      0.511\n"
          ]
        },
        {
          "output_type": "stream",
          "name": "stderr",
          "text": [
            "\n"
          ]
        },
        {
          "output_type": "stream",
          "name": "stdout",
          "text": [
            "\n",
            "      Epoch    GPU_mem   box_loss   cls_loss   dfl_loss  Instances       Size\n"
          ]
        },
        {
          "output_type": "stream",
          "name": "stderr",
          "text": [
            "    241/300      12.5G     0.6436     0.7517      1.207        306        640: 100%|██████████| 22/22 [00:12<00:00,  1.78it/s]\n",
            "                 Class     Images  Instances      Box(P          R      mAP50  mAP50-95): 100%|██████████| 2/2 [00:01<00:00,  1.74it/s]"
          ]
        },
        {
          "output_type": "stream",
          "name": "stdout",
          "text": [
            "                   all        228       1219      0.706      0.616      0.684      0.507\n"
          ]
        },
        {
          "output_type": "stream",
          "name": "stderr",
          "text": [
            "\n"
          ]
        },
        {
          "output_type": "stream",
          "name": "stdout",
          "text": [
            "\n",
            "      Epoch    GPU_mem   box_loss   cls_loss   dfl_loss  Instances       Size\n"
          ]
        },
        {
          "output_type": "stream",
          "name": "stderr",
          "text": [
            "    242/300      13.9G      0.648     0.7603      1.209        262        640: 100%|██████████| 22/22 [00:12<00:00,  1.76it/s]\n",
            "                 Class     Images  Instances      Box(P          R      mAP50  mAP50-95): 100%|██████████| 2/2 [00:01<00:00,  1.70it/s]"
          ]
        },
        {
          "output_type": "stream",
          "name": "stdout",
          "text": [
            "                   all        228       1219      0.636      0.632      0.674      0.491\n"
          ]
        },
        {
          "output_type": "stream",
          "name": "stderr",
          "text": [
            "\n"
          ]
        },
        {
          "output_type": "stream",
          "name": "stdout",
          "text": [
            "\n",
            "      Epoch    GPU_mem   box_loss   cls_loss   dfl_loss  Instances       Size\n"
          ]
        },
        {
          "output_type": "stream",
          "name": "stderr",
          "text": [
            "    243/300      13.5G     0.6429     0.7565      1.204        283        640: 100%|██████████| 22/22 [00:12<00:00,  1.78it/s]\n",
            "                 Class     Images  Instances      Box(P          R      mAP50  mAP50-95): 100%|██████████| 2/2 [00:01<00:00,  1.74it/s]"
          ]
        },
        {
          "output_type": "stream",
          "name": "stdout",
          "text": [
            "                   all        228       1219      0.718      0.574      0.671      0.492\n"
          ]
        },
        {
          "output_type": "stream",
          "name": "stderr",
          "text": [
            "\n"
          ]
        },
        {
          "output_type": "stream",
          "name": "stdout",
          "text": [
            "\n",
            "      Epoch    GPU_mem   box_loss   cls_loss   dfl_loss  Instances       Size\n"
          ]
        },
        {
          "output_type": "stream",
          "name": "stderr",
          "text": [
            "    244/300      13.8G     0.6435     0.7535      1.205        330        640: 100%|██████████| 22/22 [00:12<00:00,  1.77it/s]\n",
            "                 Class     Images  Instances      Box(P          R      mAP50  mAP50-95): 100%|██████████| 2/2 [00:01<00:00,  1.71it/s]"
          ]
        },
        {
          "output_type": "stream",
          "name": "stdout",
          "text": [
            "                   all        228       1219      0.634      0.637      0.669      0.491\n"
          ]
        },
        {
          "output_type": "stream",
          "name": "stderr",
          "text": [
            "\n"
          ]
        },
        {
          "output_type": "stream",
          "name": "stdout",
          "text": [
            "\n",
            "      Epoch    GPU_mem   box_loss   cls_loss   dfl_loss  Instances       Size\n"
          ]
        },
        {
          "output_type": "stream",
          "name": "stderr",
          "text": [
            "    245/300      13.1G     0.6405     0.7591      1.206        338        640: 100%|██████████| 22/22 [00:12<00:00,  1.78it/s]\n",
            "                 Class     Images  Instances      Box(P          R      mAP50  mAP50-95): 100%|██████████| 2/2 [00:01<00:00,  1.69it/s]\n"
          ]
        },
        {
          "output_type": "stream",
          "name": "stdout",
          "text": [
            "                   all        228       1219      0.698      0.593      0.666      0.489\n",
            "\n",
            "      Epoch    GPU_mem   box_loss   cls_loss   dfl_loss  Instances       Size\n"
          ]
        },
        {
          "output_type": "stream",
          "name": "stderr",
          "text": [
            "    246/300      13.1G     0.6568     0.7664      1.211        309        640: 100%|██████████| 22/22 [00:12<00:00,  1.78it/s]\n",
            "                 Class     Images  Instances      Box(P          R      mAP50  mAP50-95): 100%|██████████| 2/2 [00:01<00:00,  1.71it/s]"
          ]
        },
        {
          "output_type": "stream",
          "name": "stdout",
          "text": [
            "                   all        228       1219      0.686      0.606      0.672      0.492\n"
          ]
        },
        {
          "output_type": "stream",
          "name": "stderr",
          "text": [
            "\n"
          ]
        },
        {
          "output_type": "stream",
          "name": "stdout",
          "text": [
            "\n",
            "      Epoch    GPU_mem   box_loss   cls_loss   dfl_loss  Instances       Size\n"
          ]
        },
        {
          "output_type": "stream",
          "name": "stderr",
          "text": [
            "    247/300      14.3G     0.6471     0.7643      1.206        325        640: 100%|██████████| 22/22 [00:12<00:00,  1.77it/s]\n",
            "                 Class     Images  Instances      Box(P          R      mAP50  mAP50-95): 100%|██████████| 2/2 [00:01<00:00,  1.72it/s]"
          ]
        },
        {
          "output_type": "stream",
          "name": "stdout",
          "text": [
            "                   all        228       1219      0.695      0.585      0.653      0.472\n"
          ]
        },
        {
          "output_type": "stream",
          "name": "stderr",
          "text": [
            "\n"
          ]
        },
        {
          "output_type": "stream",
          "name": "stdout",
          "text": [
            "\n",
            "      Epoch    GPU_mem   box_loss   cls_loss   dfl_loss  Instances       Size\n"
          ]
        },
        {
          "output_type": "stream",
          "name": "stderr",
          "text": [
            "    248/300      12.5G     0.6414     0.7534      1.202        350        640: 100%|██████████| 22/22 [00:12<00:00,  1.77it/s]\n",
            "                 Class     Images  Instances      Box(P          R      mAP50  mAP50-95): 100%|██████████| 2/2 [00:01<00:00,  1.74it/s]"
          ]
        },
        {
          "output_type": "stream",
          "name": "stdout",
          "text": [
            "                   all        228       1219      0.686      0.611      0.664      0.477\n"
          ]
        },
        {
          "output_type": "stream",
          "name": "stderr",
          "text": [
            "\n"
          ]
        },
        {
          "output_type": "stream",
          "name": "stdout",
          "text": [
            "\n",
            "      Epoch    GPU_mem   box_loss   cls_loss   dfl_loss  Instances       Size\n"
          ]
        },
        {
          "output_type": "stream",
          "name": "stderr",
          "text": [
            "    249/300      13.7G     0.6461     0.7571      1.205        345        640: 100%|██████████| 22/22 [00:12<00:00,  1.77it/s]\n",
            "                 Class     Images  Instances      Box(P          R      mAP50  mAP50-95): 100%|██████████| 2/2 [00:01<00:00,  1.69it/s]"
          ]
        },
        {
          "output_type": "stream",
          "name": "stdout",
          "text": [
            "                   all        228       1219      0.675      0.623      0.676      0.495\n"
          ]
        },
        {
          "output_type": "stream",
          "name": "stderr",
          "text": [
            "\n"
          ]
        },
        {
          "output_type": "stream",
          "name": "stdout",
          "text": [
            "\n",
            "      Epoch    GPU_mem   box_loss   cls_loss   dfl_loss  Instances       Size\n"
          ]
        },
        {
          "output_type": "stream",
          "name": "stderr",
          "text": [
            "    250/300      14.9G     0.6418     0.7591      1.203        303        640: 100%|██████████| 22/22 [00:12<00:00,  1.76it/s]\n",
            "                 Class     Images  Instances      Box(P          R      mAP50  mAP50-95): 100%|██████████| 2/2 [00:01<00:00,  1.69it/s]"
          ]
        },
        {
          "output_type": "stream",
          "name": "stdout",
          "text": [
            "                   all        228       1219      0.729      0.592      0.679      0.494\n"
          ]
        },
        {
          "output_type": "stream",
          "name": "stderr",
          "text": [
            "\n"
          ]
        },
        {
          "output_type": "stream",
          "name": "stdout",
          "text": [
            "\n",
            "      Epoch    GPU_mem   box_loss   cls_loss   dfl_loss  Instances       Size\n"
          ]
        },
        {
          "output_type": "stream",
          "name": "stderr",
          "text": [
            "    251/300      13.1G     0.6472     0.7651      1.203        375        640: 100%|██████████| 22/22 [00:12<00:00,  1.77it/s]\n",
            "                 Class     Images  Instances      Box(P          R      mAP50  mAP50-95): 100%|██████████| 2/2 [00:01<00:00,  1.68it/s]"
          ]
        },
        {
          "output_type": "stream",
          "name": "stdout",
          "text": [
            "                   all        228       1219      0.673      0.653      0.692      0.505\n"
          ]
        },
        {
          "output_type": "stream",
          "name": "stderr",
          "text": [
            "\n"
          ]
        },
        {
          "output_type": "stream",
          "name": "stdout",
          "text": [
            "\n",
            "      Epoch    GPU_mem   box_loss   cls_loss   dfl_loss  Instances       Size\n"
          ]
        },
        {
          "output_type": "stream",
          "name": "stderr",
          "text": [
            "    252/300      13.6G     0.6457     0.7586      1.206        452        640: 100%|██████████| 22/22 [00:12<00:00,  1.77it/s]\n",
            "                 Class     Images  Instances      Box(P          R      mAP50  mAP50-95): 100%|██████████| 2/2 [00:01<00:00,  1.68it/s]"
          ]
        },
        {
          "output_type": "stream",
          "name": "stdout",
          "text": [
            "                   all        228       1219      0.745      0.588      0.693      0.514\n"
          ]
        },
        {
          "output_type": "stream",
          "name": "stderr",
          "text": [
            "\n"
          ]
        },
        {
          "output_type": "stream",
          "name": "stdout",
          "text": [
            "\n",
            "      Epoch    GPU_mem   box_loss   cls_loss   dfl_loss  Instances       Size\n"
          ]
        },
        {
          "output_type": "stream",
          "name": "stderr",
          "text": [
            "    253/300      14.2G     0.6426     0.7525      1.202        383        640: 100%|██████████| 22/22 [00:12<00:00,  1.78it/s]\n",
            "                 Class     Images  Instances      Box(P          R      mAP50  mAP50-95): 100%|██████████| 2/2 [00:01<00:00,  1.75it/s]"
          ]
        },
        {
          "output_type": "stream",
          "name": "stdout",
          "text": [
            "                   all        228       1219      0.728      0.589      0.687      0.509\n"
          ]
        },
        {
          "output_type": "stream",
          "name": "stderr",
          "text": [
            "\n"
          ]
        },
        {
          "output_type": "stream",
          "name": "stdout",
          "text": [
            "\n",
            "      Epoch    GPU_mem   box_loss   cls_loss   dfl_loss  Instances       Size\n"
          ]
        },
        {
          "output_type": "stream",
          "name": "stderr",
          "text": [
            "    254/300      13.7G     0.6457     0.7554      1.208        382        640: 100%|██████████| 22/22 [00:12<00:00,  1.78it/s]\n",
            "                 Class     Images  Instances      Box(P          R      mAP50  mAP50-95): 100%|██████████| 2/2 [00:01<00:00,  1.75it/s]"
          ]
        },
        {
          "output_type": "stream",
          "name": "stdout",
          "text": [
            "                   all        228       1219      0.705        0.6      0.675      0.492\n"
          ]
        },
        {
          "output_type": "stream",
          "name": "stderr",
          "text": [
            "\n"
          ]
        },
        {
          "output_type": "stream",
          "name": "stdout",
          "text": [
            "\n",
            "      Epoch    GPU_mem   box_loss   cls_loss   dfl_loss  Instances       Size\n"
          ]
        },
        {
          "output_type": "stream",
          "name": "stderr",
          "text": [
            "    255/300      13.7G     0.6357     0.7583      1.201        417        640: 100%|██████████| 22/22 [00:12<00:00,  1.78it/s]\n",
            "                 Class     Images  Instances      Box(P          R      mAP50  mAP50-95): 100%|██████████| 2/2 [00:01<00:00,  1.69it/s]\n"
          ]
        },
        {
          "output_type": "stream",
          "name": "stdout",
          "text": [
            "                   all        228       1219      0.715      0.591      0.679        0.5\n",
            "\n",
            "      Epoch    GPU_mem   box_loss   cls_loss   dfl_loss  Instances       Size\n"
          ]
        },
        {
          "output_type": "stream",
          "name": "stderr",
          "text": [
            "    256/300      15.4G     0.6377     0.7454      1.198        338        640: 100%|██████████| 22/22 [00:12<00:00,  1.76it/s]\n",
            "                 Class     Images  Instances      Box(P          R      mAP50  mAP50-95): 100%|██████████| 2/2 [00:01<00:00,  1.69it/s]"
          ]
        },
        {
          "output_type": "stream",
          "name": "stdout",
          "text": [
            "                   all        228       1219      0.713      0.602      0.679      0.494\n"
          ]
        },
        {
          "output_type": "stream",
          "name": "stderr",
          "text": [
            "\n"
          ]
        },
        {
          "output_type": "stream",
          "name": "stdout",
          "text": [
            "\n",
            "      Epoch    GPU_mem   box_loss   cls_loss   dfl_loss  Instances       Size\n"
          ]
        },
        {
          "output_type": "stream",
          "name": "stderr",
          "text": [
            "    257/300        13G     0.6357     0.7495      1.198        294        640: 100%|██████████| 22/22 [00:12<00:00,  1.77it/s]\n",
            "                 Class     Images  Instances      Box(P          R      mAP50  mAP50-95): 100%|██████████| 2/2 [00:01<00:00,  1.75it/s]"
          ]
        },
        {
          "output_type": "stream",
          "name": "stdout",
          "text": [
            "                   all        228       1219       0.71      0.584      0.656      0.471\n"
          ]
        },
        {
          "output_type": "stream",
          "name": "stderr",
          "text": [
            "\n"
          ]
        },
        {
          "output_type": "stream",
          "name": "stdout",
          "text": [
            "\n",
            "      Epoch    GPU_mem   box_loss   cls_loss   dfl_loss  Instances       Size\n"
          ]
        },
        {
          "output_type": "stream",
          "name": "stderr",
          "text": [
            "    258/300      12.5G     0.6454     0.7537      1.203        328        640: 100%|██████████| 22/22 [00:12<00:00,  1.78it/s]\n",
            "                 Class     Images  Instances      Box(P          R      mAP50  mAP50-95): 100%|██████████| 2/2 [00:01<00:00,  1.74it/s]"
          ]
        },
        {
          "output_type": "stream",
          "name": "stdout",
          "text": [
            "                   all        228       1219       0.69      0.602      0.671      0.495\n"
          ]
        },
        {
          "output_type": "stream",
          "name": "stderr",
          "text": [
            "\n"
          ]
        },
        {
          "output_type": "stream",
          "name": "stdout",
          "text": [
            "\n",
            "      Epoch    GPU_mem   box_loss   cls_loss   dfl_loss  Instances       Size\n"
          ]
        },
        {
          "output_type": "stream",
          "name": "stderr",
          "text": [
            "    259/300      12.5G     0.6283      0.741      1.192        345        640: 100%|██████████| 22/22 [00:12<00:00,  1.78it/s]\n",
            "                 Class     Images  Instances      Box(P          R      mAP50  mAP50-95): 100%|██████████| 2/2 [00:01<00:00,  1.73it/s]"
          ]
        },
        {
          "output_type": "stream",
          "name": "stdout",
          "text": [
            "                   all        228       1219      0.692      0.604      0.673      0.496\n"
          ]
        },
        {
          "output_type": "stream",
          "name": "stderr",
          "text": [
            "\n"
          ]
        },
        {
          "output_type": "stream",
          "name": "stdout",
          "text": [
            "\n",
            "      Epoch    GPU_mem   box_loss   cls_loss   dfl_loss  Instances       Size\n"
          ]
        },
        {
          "output_type": "stream",
          "name": "stderr",
          "text": [
            "    260/300      13.3G     0.6271     0.7329      1.189        339        640: 100%|██████████| 22/22 [00:12<00:00,  1.77it/s]\n",
            "                 Class     Images  Instances      Box(P          R      mAP50  mAP50-95): 100%|██████████| 2/2 [00:01<00:00,  1.72it/s]"
          ]
        },
        {
          "output_type": "stream",
          "name": "stdout",
          "text": [
            "                   all        228       1219      0.729      0.587      0.677      0.501\n"
          ]
        },
        {
          "output_type": "stream",
          "name": "stderr",
          "text": [
            "\n"
          ]
        },
        {
          "output_type": "stream",
          "name": "stdout",
          "text": [
            "\n",
            "      Epoch    GPU_mem   box_loss   cls_loss   dfl_loss  Instances       Size\n"
          ]
        },
        {
          "output_type": "stream",
          "name": "stderr",
          "text": [
            "    261/300      13.2G     0.6339     0.7371      1.196        386        640: 100%|██████████| 22/22 [00:12<00:00,  1.77it/s]\n",
            "                 Class     Images  Instances      Box(P          R      mAP50  mAP50-95): 100%|██████████| 2/2 [00:01<00:00,  1.74it/s]"
          ]
        },
        {
          "output_type": "stream",
          "name": "stdout",
          "text": [
            "                   all        228       1219      0.746      0.581      0.687       0.51\n"
          ]
        },
        {
          "output_type": "stream",
          "name": "stderr",
          "text": [
            "\n"
          ]
        },
        {
          "output_type": "stream",
          "name": "stdout",
          "text": [
            "\n",
            "      Epoch    GPU_mem   box_loss   cls_loss   dfl_loss  Instances       Size\n"
          ]
        },
        {
          "output_type": "stream",
          "name": "stderr",
          "text": [
            "    262/300      12.7G     0.6332     0.7376      1.196        266        640: 100%|██████████| 22/22 [00:12<00:00,  1.78it/s]\n",
            "                 Class     Images  Instances      Box(P          R      mAP50  mAP50-95): 100%|██████████| 2/2 [00:01<00:00,  1.69it/s]"
          ]
        },
        {
          "output_type": "stream",
          "name": "stdout",
          "text": [
            "                   all        228       1219      0.772      0.576      0.691      0.513\n"
          ]
        },
        {
          "output_type": "stream",
          "name": "stderr",
          "text": [
            "\n"
          ]
        },
        {
          "output_type": "stream",
          "name": "stdout",
          "text": [
            "\n",
            "      Epoch    GPU_mem   box_loss   cls_loss   dfl_loss  Instances       Size\n"
          ]
        },
        {
          "output_type": "stream",
          "name": "stderr",
          "text": [
            "    263/300      13.5G     0.6341     0.7444        1.2        305        640: 100%|██████████| 22/22 [00:12<00:00,  1.76it/s]\n",
            "                 Class     Images  Instances      Box(P          R      mAP50  mAP50-95): 100%|██████████| 2/2 [00:01<00:00,  1.72it/s]"
          ]
        },
        {
          "output_type": "stream",
          "name": "stdout",
          "text": [
            "                   all        228       1219      0.725      0.607      0.693       0.52\n"
          ]
        },
        {
          "output_type": "stream",
          "name": "stderr",
          "text": [
            "\n"
          ]
        },
        {
          "output_type": "stream",
          "name": "stdout",
          "text": [
            "\n",
            "      Epoch    GPU_mem   box_loss   cls_loss   dfl_loss  Instances       Size\n"
          ]
        },
        {
          "output_type": "stream",
          "name": "stderr",
          "text": [
            "    264/300      13.2G     0.6384     0.7459      1.201        334        640: 100%|██████████| 22/22 [00:12<00:00,  1.77it/s]\n",
            "                 Class     Images  Instances      Box(P          R      mAP50  mAP50-95): 100%|██████████| 2/2 [00:01<00:00,  1.69it/s]"
          ]
        },
        {
          "output_type": "stream",
          "name": "stdout",
          "text": [
            "                   all        228       1219      0.722      0.606      0.685      0.508\n"
          ]
        },
        {
          "output_type": "stream",
          "name": "stderr",
          "text": [
            "\n"
          ]
        },
        {
          "output_type": "stream",
          "name": "stdout",
          "text": [
            "\n",
            "      Epoch    GPU_mem   box_loss   cls_loss   dfl_loss  Instances       Size\n"
          ]
        },
        {
          "output_type": "stream",
          "name": "stderr",
          "text": [
            "    265/300      13.3G     0.6384     0.7505      1.202        372        640: 100%|██████████| 22/22 [00:12<00:00,  1.77it/s]\n",
            "                 Class     Images  Instances      Box(P          R      mAP50  mAP50-95): 100%|██████████| 2/2 [00:01<00:00,  1.73it/s]"
          ]
        },
        {
          "output_type": "stream",
          "name": "stdout",
          "text": [
            "                   all        228       1219      0.708      0.603      0.679      0.496\n"
          ]
        },
        {
          "output_type": "stream",
          "name": "stderr",
          "text": [
            "\n"
          ]
        },
        {
          "output_type": "stream",
          "name": "stdout",
          "text": [
            "\n",
            "      Epoch    GPU_mem   box_loss   cls_loss   dfl_loss  Instances       Size\n"
          ]
        },
        {
          "output_type": "stream",
          "name": "stderr",
          "text": [
            "    266/300        13G     0.6369     0.7487      1.199        312        640: 100%|██████████| 22/22 [00:12<00:00,  1.77it/s]\n",
            "                 Class     Images  Instances      Box(P          R      mAP50  mAP50-95): 100%|██████████| 2/2 [00:01<00:00,  1.72it/s]"
          ]
        },
        {
          "output_type": "stream",
          "name": "stdout",
          "text": [
            "                   all        228       1219      0.711      0.591      0.671      0.485\n"
          ]
        },
        {
          "output_type": "stream",
          "name": "stderr",
          "text": [
            "\n"
          ]
        },
        {
          "output_type": "stream",
          "name": "stdout",
          "text": [
            "\n",
            "      Epoch    GPU_mem   box_loss   cls_loss   dfl_loss  Instances       Size\n"
          ]
        },
        {
          "output_type": "stream",
          "name": "stderr",
          "text": [
            "    267/300      14.3G     0.6369     0.7486      1.203        365        640: 100%|██████████| 22/22 [00:12<00:00,  1.77it/s]\n",
            "                 Class     Images  Instances      Box(P          R      mAP50  mAP50-95): 100%|██████████| 2/2 [00:01<00:00,  1.70it/s]\n"
          ]
        },
        {
          "output_type": "stream",
          "name": "stdout",
          "text": [
            "                   all        228       1219      0.693      0.608      0.673      0.485\n",
            "\n",
            "      Epoch    GPU_mem   box_loss   cls_loss   dfl_loss  Instances       Size\n"
          ]
        },
        {
          "output_type": "stream",
          "name": "stderr",
          "text": [
            "    268/300        13G     0.6281     0.7353      1.192        316        640: 100%|██████████| 22/22 [00:12<00:00,  1.78it/s]\n",
            "                 Class     Images  Instances      Box(P          R      mAP50  mAP50-95): 100%|██████████| 2/2 [00:01<00:00,  1.70it/s]"
          ]
        },
        {
          "output_type": "stream",
          "name": "stdout",
          "text": [
            "                   all        228       1219      0.698      0.597      0.668      0.481\n"
          ]
        },
        {
          "output_type": "stream",
          "name": "stderr",
          "text": [
            "\n"
          ]
        },
        {
          "output_type": "stream",
          "name": "stdout",
          "text": [
            "\n",
            "      Epoch    GPU_mem   box_loss   cls_loss   dfl_loss  Instances       Size\n"
          ]
        },
        {
          "output_type": "stream",
          "name": "stderr",
          "text": [
            "    269/300      14.2G     0.6233     0.7383      1.186        400        640: 100%|██████████| 22/22 [00:12<00:00,  1.77it/s]\n",
            "                 Class     Images  Instances      Box(P          R      mAP50  mAP50-95): 100%|██████████| 2/2 [00:01<00:00,  1.64it/s]\n"
          ]
        },
        {
          "output_type": "stream",
          "name": "stdout",
          "text": [
            "                   all        228       1219      0.704      0.603      0.678      0.493\n",
            "\n",
            "      Epoch    GPU_mem   box_loss   cls_loss   dfl_loss  Instances       Size\n"
          ]
        },
        {
          "output_type": "stream",
          "name": "stderr",
          "text": [
            "    270/300      12.9G     0.6283     0.7329      1.193        336        640: 100%|██████████| 22/22 [00:12<00:00,  1.77it/s]\n",
            "                 Class     Images  Instances      Box(P          R      mAP50  mAP50-95): 100%|██████████| 2/2 [00:01<00:00,  1.70it/s]"
          ]
        },
        {
          "output_type": "stream",
          "name": "stdout",
          "text": [
            "                   all        228       1219      0.695      0.618      0.683      0.499\n"
          ]
        },
        {
          "output_type": "stream",
          "name": "stderr",
          "text": [
            "\n"
          ]
        },
        {
          "output_type": "stream",
          "name": "stdout",
          "text": [
            "\n",
            "      Epoch    GPU_mem   box_loss   cls_loss   dfl_loss  Instances       Size\n"
          ]
        },
        {
          "output_type": "stream",
          "name": "stderr",
          "text": [
            "    271/300      13.2G     0.6355     0.7507      1.199        255        640: 100%|██████████| 22/22 [00:12<00:00,  1.77it/s]\n",
            "                 Class     Images  Instances      Box(P          R      mAP50  mAP50-95): 100%|██████████| 2/2 [00:01<00:00,  1.73it/s]"
          ]
        },
        {
          "output_type": "stream",
          "name": "stdout",
          "text": [
            "                   all        228       1219      0.705      0.607      0.684      0.497\n"
          ]
        },
        {
          "output_type": "stream",
          "name": "stderr",
          "text": [
            "\n"
          ]
        },
        {
          "output_type": "stream",
          "name": "stdout",
          "text": [
            "\n",
            "      Epoch    GPU_mem   box_loss   cls_loss   dfl_loss  Instances       Size\n"
          ]
        },
        {
          "output_type": "stream",
          "name": "stderr",
          "text": [
            "    272/300      12.9G     0.6303     0.7444      1.193        324        640: 100%|██████████| 22/22 [00:12<00:00,  1.78it/s]\n",
            "                 Class     Images  Instances      Box(P          R      mAP50  mAP50-95): 100%|██████████| 2/2 [00:01<00:00,  1.76it/s]"
          ]
        },
        {
          "output_type": "stream",
          "name": "stdout",
          "text": [
            "                   all        228       1219      0.711      0.605      0.684      0.497\n"
          ]
        },
        {
          "output_type": "stream",
          "name": "stderr",
          "text": [
            "\n"
          ]
        },
        {
          "output_type": "stream",
          "name": "stdout",
          "text": [
            "\n",
            "      Epoch    GPU_mem   box_loss   cls_loss   dfl_loss  Instances       Size\n"
          ]
        },
        {
          "output_type": "stream",
          "name": "stderr",
          "text": [
            "    273/300      13.6G     0.6338     0.7399      1.196        289        640: 100%|██████████| 22/22 [00:12<00:00,  1.78it/s]\n",
            "                 Class     Images  Instances      Box(P          R      mAP50  mAP50-95): 100%|██████████| 2/2 [00:01<00:00,  1.74it/s]"
          ]
        },
        {
          "output_type": "stream",
          "name": "stdout",
          "text": [
            "                   all        228       1219      0.712      0.604      0.681      0.496\n"
          ]
        },
        {
          "output_type": "stream",
          "name": "stderr",
          "text": [
            "\n"
          ]
        },
        {
          "output_type": "stream",
          "name": "stdout",
          "text": [
            "\n",
            "      Epoch    GPU_mem   box_loss   cls_loss   dfl_loss  Instances       Size\n"
          ]
        },
        {
          "output_type": "stream",
          "name": "stderr",
          "text": [
            "    274/300      14.1G     0.6254     0.7432       1.19        319        640: 100%|██████████| 22/22 [00:12<00:00,  1.78it/s]\n",
            "                 Class     Images  Instances      Box(P          R      mAP50  mAP50-95): 100%|██████████| 2/2 [00:01<00:00,  1.72it/s]"
          ]
        },
        {
          "output_type": "stream",
          "name": "stdout",
          "text": [
            "                   all        228       1219      0.706      0.614      0.685      0.506\n"
          ]
        },
        {
          "output_type": "stream",
          "name": "stderr",
          "text": [
            "\n"
          ]
        },
        {
          "output_type": "stream",
          "name": "stdout",
          "text": [
            "\n",
            "      Epoch    GPU_mem   box_loss   cls_loss   dfl_loss  Instances       Size\n"
          ]
        },
        {
          "output_type": "stream",
          "name": "stderr",
          "text": [
            "    275/300      13.1G     0.6296     0.7341      1.193        373        640: 100%|██████████| 22/22 [00:12<00:00,  1.77it/s]\n",
            "                 Class     Images  Instances      Box(P          R      mAP50  mAP50-95): 100%|██████████| 2/2 [00:01<00:00,  1.75it/s]"
          ]
        },
        {
          "output_type": "stream",
          "name": "stdout",
          "text": [
            "                   all        228       1219      0.722      0.602      0.684      0.506\n"
          ]
        },
        {
          "output_type": "stream",
          "name": "stderr",
          "text": [
            "\n"
          ]
        },
        {
          "output_type": "stream",
          "name": "stdout",
          "text": [
            "\n",
            "      Epoch    GPU_mem   box_loss   cls_loss   dfl_loss  Instances       Size\n"
          ]
        },
        {
          "output_type": "stream",
          "name": "stderr",
          "text": [
            "    276/300      12.9G     0.6385     0.7544      1.205        861        640:  64%|██████▎   | 14/22 [00:08<00:04,  1.67it/s]\n"
          ]
        },
        {
          "output_type": "error",
          "ename": "KeyboardInterrupt",
          "evalue": "",
          "traceback": [
            "\u001b[0;31m---------------------------------------------------------------------------\u001b[0m",
            "\u001b[0;31mKeyboardInterrupt\u001b[0m                         Traceback (most recent call last)",
            "\u001b[0;32m<ipython-input-12-55291795ea9f>\u001b[0m in \u001b[0;36m<cell line: 10>\u001b[0;34m()\u001b[0m\n\u001b[1;32m      8\u001b[0m \u001b[0;34m\u001b[0m\u001b[0m\n\u001b[1;32m      9\u001b[0m \u001b[0mmodel\u001b[0m \u001b[0;34m=\u001b[0m \u001b[0mYOLO\u001b[0m\u001b[0;34m(\u001b[0m\u001b[0mmodel_version\u001b[0m\u001b[0;34m)\u001b[0m\u001b[0;34m\u001b[0m\u001b[0;34m\u001b[0m\u001b[0m\n\u001b[0;32m---> 10\u001b[0;31m hist = model.train(\n\u001b[0m\u001b[1;32m     11\u001b[0m     \u001b[0mimgsz\u001b[0m\u001b[0;34m=\u001b[0m\u001b[0;36m640\u001b[0m\u001b[0;34m,\u001b[0m\u001b[0;34m\u001b[0m\u001b[0;34m\u001b[0m\u001b[0m\n\u001b[1;32m     12\u001b[0m     \u001b[0mname\u001b[0m\u001b[0;34m=\u001b[0m\u001b[0mname\u001b[0m\u001b[0;34m,\u001b[0m\u001b[0;34m\u001b[0m\u001b[0;34m\u001b[0m\u001b[0m\n",
            "\u001b[0;32m/usr/local/lib/python3.10/dist-packages/ultralytics/engine/model.py\u001b[0m in \u001b[0;36mtrain\u001b[0;34m(self, trainer, **kwargs)\u001b[0m\n\u001b[1;32m    672\u001b[0m \u001b[0;34m\u001b[0m\u001b[0m\n\u001b[1;32m    673\u001b[0m         \u001b[0mself\u001b[0m\u001b[0;34m.\u001b[0m\u001b[0mtrainer\u001b[0m\u001b[0;34m.\u001b[0m\u001b[0mhub_session\u001b[0m \u001b[0;34m=\u001b[0m \u001b[0mself\u001b[0m\u001b[0;34m.\u001b[0m\u001b[0msession\u001b[0m  \u001b[0;31m# attach optional HUB session\u001b[0m\u001b[0;34m\u001b[0m\u001b[0;34m\u001b[0m\u001b[0m\n\u001b[0;32m--> 674\u001b[0;31m         \u001b[0mself\u001b[0m\u001b[0;34m.\u001b[0m\u001b[0mtrainer\u001b[0m\u001b[0;34m.\u001b[0m\u001b[0mtrain\u001b[0m\u001b[0;34m(\u001b[0m\u001b[0;34m)\u001b[0m\u001b[0;34m\u001b[0m\u001b[0;34m\u001b[0m\u001b[0m\n\u001b[0m\u001b[1;32m    675\u001b[0m         \u001b[0;31m# Update model and cfg after training\u001b[0m\u001b[0;34m\u001b[0m\u001b[0;34m\u001b[0m\u001b[0m\n\u001b[1;32m    676\u001b[0m         \u001b[0;32mif\u001b[0m \u001b[0mRANK\u001b[0m \u001b[0;32min\u001b[0m \u001b[0;34m{\u001b[0m\u001b[0;34m-\u001b[0m\u001b[0;36m1\u001b[0m\u001b[0;34m,\u001b[0m \u001b[0;36m0\u001b[0m\u001b[0;34m}\u001b[0m\u001b[0;34m:\u001b[0m\u001b[0;34m\u001b[0m\u001b[0;34m\u001b[0m\u001b[0m\n",
            "\u001b[0;32m/usr/local/lib/python3.10/dist-packages/ultralytics/engine/trainer.py\u001b[0m in \u001b[0;36mtrain\u001b[0;34m(self)\u001b[0m\n\u001b[1;32m    197\u001b[0m \u001b[0;34m\u001b[0m\u001b[0m\n\u001b[1;32m    198\u001b[0m         \u001b[0;32melse\u001b[0m\u001b[0;34m:\u001b[0m\u001b[0;34m\u001b[0m\u001b[0;34m\u001b[0m\u001b[0m\n\u001b[0;32m--> 199\u001b[0;31m             \u001b[0mself\u001b[0m\u001b[0;34m.\u001b[0m\u001b[0m_do_train\u001b[0m\u001b[0;34m(\u001b[0m\u001b[0mworld_size\u001b[0m\u001b[0;34m)\u001b[0m\u001b[0;34m\u001b[0m\u001b[0;34m\u001b[0m\u001b[0m\n\u001b[0m\u001b[1;32m    200\u001b[0m \u001b[0;34m\u001b[0m\u001b[0m\n\u001b[1;32m    201\u001b[0m     \u001b[0;32mdef\u001b[0m \u001b[0m_setup_scheduler\u001b[0m\u001b[0;34m(\u001b[0m\u001b[0mself\u001b[0m\u001b[0;34m)\u001b[0m\u001b[0;34m:\u001b[0m\u001b[0;34m\u001b[0m\u001b[0;34m\u001b[0m\u001b[0m\n",
            "\u001b[0;32m/usr/local/lib/python3.10/dist-packages/ultralytics/engine/trainer.py\u001b[0m in \u001b[0;36m_do_train\u001b[0;34m(self, world_size)\u001b[0m\n\u001b[1;32m    369\u001b[0m                 \u001b[0;32mwith\u001b[0m \u001b[0mtorch\u001b[0m\u001b[0;34m.\u001b[0m\u001b[0mcuda\u001b[0m\u001b[0;34m.\u001b[0m\u001b[0mamp\u001b[0m\u001b[0;34m.\u001b[0m\u001b[0mautocast\u001b[0m\u001b[0;34m(\u001b[0m\u001b[0mself\u001b[0m\u001b[0;34m.\u001b[0m\u001b[0mamp\u001b[0m\u001b[0;34m)\u001b[0m\u001b[0;34m:\u001b[0m\u001b[0;34m\u001b[0m\u001b[0;34m\u001b[0m\u001b[0m\n\u001b[1;32m    370\u001b[0m                     \u001b[0mbatch\u001b[0m \u001b[0;34m=\u001b[0m \u001b[0mself\u001b[0m\u001b[0;34m.\u001b[0m\u001b[0mpreprocess_batch\u001b[0m\u001b[0;34m(\u001b[0m\u001b[0mbatch\u001b[0m\u001b[0;34m)\u001b[0m\u001b[0;34m\u001b[0m\u001b[0;34m\u001b[0m\u001b[0m\n\u001b[0;32m--> 371\u001b[0;31m                     \u001b[0mself\u001b[0m\u001b[0;34m.\u001b[0m\u001b[0mloss\u001b[0m\u001b[0;34m,\u001b[0m \u001b[0mself\u001b[0m\u001b[0;34m.\u001b[0m\u001b[0mloss_items\u001b[0m \u001b[0;34m=\u001b[0m \u001b[0mself\u001b[0m\u001b[0;34m.\u001b[0m\u001b[0mmodel\u001b[0m\u001b[0;34m(\u001b[0m\u001b[0mbatch\u001b[0m\u001b[0;34m)\u001b[0m\u001b[0;34m\u001b[0m\u001b[0;34m\u001b[0m\u001b[0m\n\u001b[0m\u001b[1;32m    372\u001b[0m                     \u001b[0;32mif\u001b[0m \u001b[0mRANK\u001b[0m \u001b[0;34m!=\u001b[0m \u001b[0;34m-\u001b[0m\u001b[0;36m1\u001b[0m\u001b[0;34m:\u001b[0m\u001b[0;34m\u001b[0m\u001b[0;34m\u001b[0m\u001b[0m\n\u001b[1;32m    373\u001b[0m                         \u001b[0mself\u001b[0m\u001b[0;34m.\u001b[0m\u001b[0mloss\u001b[0m \u001b[0;34m*=\u001b[0m \u001b[0mworld_size\u001b[0m\u001b[0;34m\u001b[0m\u001b[0;34m\u001b[0m\u001b[0m\n",
            "\u001b[0;32m/usr/local/lib/python3.10/dist-packages/torch/nn/modules/module.py\u001b[0m in \u001b[0;36m_wrapped_call_impl\u001b[0;34m(self, *args, **kwargs)\u001b[0m\n\u001b[1;32m   1530\u001b[0m             \u001b[0;32mreturn\u001b[0m \u001b[0mself\u001b[0m\u001b[0;34m.\u001b[0m\u001b[0m_compiled_call_impl\u001b[0m\u001b[0;34m(\u001b[0m\u001b[0;34m*\u001b[0m\u001b[0margs\u001b[0m\u001b[0;34m,\u001b[0m \u001b[0;34m**\u001b[0m\u001b[0mkwargs\u001b[0m\u001b[0;34m)\u001b[0m  \u001b[0;31m# type: ignore[misc]\u001b[0m\u001b[0;34m\u001b[0m\u001b[0;34m\u001b[0m\u001b[0m\n\u001b[1;32m   1531\u001b[0m         \u001b[0;32melse\u001b[0m\u001b[0;34m:\u001b[0m\u001b[0;34m\u001b[0m\u001b[0;34m\u001b[0m\u001b[0m\n\u001b[0;32m-> 1532\u001b[0;31m             \u001b[0;32mreturn\u001b[0m \u001b[0mself\u001b[0m\u001b[0;34m.\u001b[0m\u001b[0m_call_impl\u001b[0m\u001b[0;34m(\u001b[0m\u001b[0;34m*\u001b[0m\u001b[0margs\u001b[0m\u001b[0;34m,\u001b[0m \u001b[0;34m**\u001b[0m\u001b[0mkwargs\u001b[0m\u001b[0;34m)\u001b[0m\u001b[0;34m\u001b[0m\u001b[0;34m\u001b[0m\u001b[0m\n\u001b[0m\u001b[1;32m   1533\u001b[0m \u001b[0;34m\u001b[0m\u001b[0m\n\u001b[1;32m   1534\u001b[0m     \u001b[0;32mdef\u001b[0m \u001b[0m_call_impl\u001b[0m\u001b[0;34m(\u001b[0m\u001b[0mself\u001b[0m\u001b[0;34m,\u001b[0m \u001b[0;34m*\u001b[0m\u001b[0margs\u001b[0m\u001b[0;34m,\u001b[0m \u001b[0;34m**\u001b[0m\u001b[0mkwargs\u001b[0m\u001b[0;34m)\u001b[0m\u001b[0;34m:\u001b[0m\u001b[0;34m\u001b[0m\u001b[0;34m\u001b[0m\u001b[0m\n",
            "\u001b[0;32m/usr/local/lib/python3.10/dist-packages/torch/nn/modules/module.py\u001b[0m in \u001b[0;36m_call_impl\u001b[0;34m(self, *args, **kwargs)\u001b[0m\n\u001b[1;32m   1539\u001b[0m                 \u001b[0;32mor\u001b[0m \u001b[0m_global_backward_pre_hooks\u001b[0m \u001b[0;32mor\u001b[0m \u001b[0m_global_backward_hooks\u001b[0m\u001b[0;34m\u001b[0m\u001b[0;34m\u001b[0m\u001b[0m\n\u001b[1;32m   1540\u001b[0m                 or _global_forward_hooks or _global_forward_pre_hooks):\n\u001b[0;32m-> 1541\u001b[0;31m             \u001b[0;32mreturn\u001b[0m \u001b[0mforward_call\u001b[0m\u001b[0;34m(\u001b[0m\u001b[0;34m*\u001b[0m\u001b[0margs\u001b[0m\u001b[0;34m,\u001b[0m \u001b[0;34m**\u001b[0m\u001b[0mkwargs\u001b[0m\u001b[0;34m)\u001b[0m\u001b[0;34m\u001b[0m\u001b[0;34m\u001b[0m\u001b[0m\n\u001b[0m\u001b[1;32m   1542\u001b[0m \u001b[0;34m\u001b[0m\u001b[0m\n\u001b[1;32m   1543\u001b[0m         \u001b[0;32mtry\u001b[0m\u001b[0;34m:\u001b[0m\u001b[0;34m\u001b[0m\u001b[0;34m\u001b[0m\u001b[0m\n",
            "\u001b[0;32m/usr/local/lib/python3.10/dist-packages/ultralytics/nn/tasks.py\u001b[0m in \u001b[0;36mforward\u001b[0;34m(self, x, *args, **kwargs)\u001b[0m\n\u001b[1;32m     86\u001b[0m         \"\"\"\n\u001b[1;32m     87\u001b[0m         \u001b[0;32mif\u001b[0m \u001b[0misinstance\u001b[0m\u001b[0;34m(\u001b[0m\u001b[0mx\u001b[0m\u001b[0;34m,\u001b[0m \u001b[0mdict\u001b[0m\u001b[0;34m)\u001b[0m\u001b[0;34m:\u001b[0m  \u001b[0;31m# for cases of training and validating while training.\u001b[0m\u001b[0;34m\u001b[0m\u001b[0;34m\u001b[0m\u001b[0m\n\u001b[0;32m---> 88\u001b[0;31m             \u001b[0;32mreturn\u001b[0m \u001b[0mself\u001b[0m\u001b[0;34m.\u001b[0m\u001b[0mloss\u001b[0m\u001b[0;34m(\u001b[0m\u001b[0mx\u001b[0m\u001b[0;34m,\u001b[0m \u001b[0;34m*\u001b[0m\u001b[0margs\u001b[0m\u001b[0;34m,\u001b[0m \u001b[0;34m**\u001b[0m\u001b[0mkwargs\u001b[0m\u001b[0;34m)\u001b[0m\u001b[0;34m\u001b[0m\u001b[0;34m\u001b[0m\u001b[0m\n\u001b[0m\u001b[1;32m     89\u001b[0m         \u001b[0;32mreturn\u001b[0m \u001b[0mself\u001b[0m\u001b[0;34m.\u001b[0m\u001b[0mpredict\u001b[0m\u001b[0;34m(\u001b[0m\u001b[0mx\u001b[0m\u001b[0;34m,\u001b[0m \u001b[0;34m*\u001b[0m\u001b[0margs\u001b[0m\u001b[0;34m,\u001b[0m \u001b[0;34m**\u001b[0m\u001b[0mkwargs\u001b[0m\u001b[0;34m)\u001b[0m\u001b[0;34m\u001b[0m\u001b[0;34m\u001b[0m\u001b[0m\n\u001b[1;32m     90\u001b[0m \u001b[0;34m\u001b[0m\u001b[0m\n",
            "\u001b[0;32m/usr/local/lib/python3.10/dist-packages/ultralytics/nn/tasks.py\u001b[0m in \u001b[0;36mloss\u001b[0;34m(self, batch, preds)\u001b[0m\n\u001b[1;32m    265\u001b[0m \u001b[0;34m\u001b[0m\u001b[0m\n\u001b[1;32m    266\u001b[0m         \u001b[0mpreds\u001b[0m \u001b[0;34m=\u001b[0m \u001b[0mself\u001b[0m\u001b[0;34m.\u001b[0m\u001b[0mforward\u001b[0m\u001b[0;34m(\u001b[0m\u001b[0mbatch\u001b[0m\u001b[0;34m[\u001b[0m\u001b[0;34m\"img\"\u001b[0m\u001b[0;34m]\u001b[0m\u001b[0;34m)\u001b[0m \u001b[0;32mif\u001b[0m \u001b[0mpreds\u001b[0m \u001b[0;32mis\u001b[0m \u001b[0;32mNone\u001b[0m \u001b[0;32melse\u001b[0m \u001b[0mpreds\u001b[0m\u001b[0;34m\u001b[0m\u001b[0;34m\u001b[0m\u001b[0m\n\u001b[0;32m--> 267\u001b[0;31m         \u001b[0;32mreturn\u001b[0m \u001b[0mself\u001b[0m\u001b[0;34m.\u001b[0m\u001b[0mcriterion\u001b[0m\u001b[0;34m(\u001b[0m\u001b[0mpreds\u001b[0m\u001b[0;34m,\u001b[0m \u001b[0mbatch\u001b[0m\u001b[0;34m)\u001b[0m\u001b[0;34m\u001b[0m\u001b[0;34m\u001b[0m\u001b[0m\n\u001b[0m\u001b[1;32m    268\u001b[0m \u001b[0;34m\u001b[0m\u001b[0m\n\u001b[1;32m    269\u001b[0m     \u001b[0;32mdef\u001b[0m \u001b[0minit_criterion\u001b[0m\u001b[0;34m(\u001b[0m\u001b[0mself\u001b[0m\u001b[0;34m)\u001b[0m\u001b[0;34m:\u001b[0m\u001b[0;34m\u001b[0m\u001b[0;34m\u001b[0m\u001b[0m\n",
            "\u001b[0;32m/usr/local/lib/python3.10/dist-packages/ultralytics/utils/loss.py\u001b[0m in \u001b[0;36m__call__\u001b[0;34m(self, preds, batch)\u001b[0m\n\u001b[1;32m    208\u001b[0m         \u001b[0mdtype\u001b[0m \u001b[0;34m=\u001b[0m \u001b[0mpred_scores\u001b[0m\u001b[0;34m.\u001b[0m\u001b[0mdtype\u001b[0m\u001b[0;34m\u001b[0m\u001b[0;34m\u001b[0m\u001b[0m\n\u001b[1;32m    209\u001b[0m         \u001b[0mbatch_size\u001b[0m \u001b[0;34m=\u001b[0m \u001b[0mpred_scores\u001b[0m\u001b[0;34m.\u001b[0m\u001b[0mshape\u001b[0m\u001b[0;34m[\u001b[0m\u001b[0;36m0\u001b[0m\u001b[0;34m]\u001b[0m\u001b[0;34m\u001b[0m\u001b[0;34m\u001b[0m\u001b[0m\n\u001b[0;32m--> 210\u001b[0;31m         \u001b[0mimgsz\u001b[0m \u001b[0;34m=\u001b[0m \u001b[0mtorch\u001b[0m\u001b[0;34m.\u001b[0m\u001b[0mtensor\u001b[0m\u001b[0;34m(\u001b[0m\u001b[0mfeats\u001b[0m\u001b[0;34m[\u001b[0m\u001b[0;36m0\u001b[0m\u001b[0;34m]\u001b[0m\u001b[0;34m.\u001b[0m\u001b[0mshape\u001b[0m\u001b[0;34m[\u001b[0m\u001b[0;36m2\u001b[0m\u001b[0;34m:\u001b[0m\u001b[0;34m]\u001b[0m\u001b[0;34m,\u001b[0m \u001b[0mdevice\u001b[0m\u001b[0;34m=\u001b[0m\u001b[0mself\u001b[0m\u001b[0;34m.\u001b[0m\u001b[0mdevice\u001b[0m\u001b[0;34m,\u001b[0m \u001b[0mdtype\u001b[0m\u001b[0;34m=\u001b[0m\u001b[0mdtype\u001b[0m\u001b[0;34m)\u001b[0m \u001b[0;34m*\u001b[0m \u001b[0mself\u001b[0m\u001b[0;34m.\u001b[0m\u001b[0mstride\u001b[0m\u001b[0;34m[\u001b[0m\u001b[0;36m0\u001b[0m\u001b[0;34m]\u001b[0m  \u001b[0;31m# image size (h,w)\u001b[0m\u001b[0;34m\u001b[0m\u001b[0;34m\u001b[0m\u001b[0m\n\u001b[0m\u001b[1;32m    211\u001b[0m         \u001b[0manchor_points\u001b[0m\u001b[0;34m,\u001b[0m \u001b[0mstride_tensor\u001b[0m \u001b[0;34m=\u001b[0m \u001b[0mmake_anchors\u001b[0m\u001b[0;34m(\u001b[0m\u001b[0mfeats\u001b[0m\u001b[0;34m,\u001b[0m \u001b[0mself\u001b[0m\u001b[0;34m.\u001b[0m\u001b[0mstride\u001b[0m\u001b[0;34m,\u001b[0m \u001b[0;36m0.5\u001b[0m\u001b[0;34m)\u001b[0m\u001b[0;34m\u001b[0m\u001b[0;34m\u001b[0m\u001b[0m\n\u001b[1;32m    212\u001b[0m \u001b[0;34m\u001b[0m\u001b[0m\n",
            "\u001b[0;31mKeyboardInterrupt\u001b[0m: "
          ]
        }
      ],
      "source": [
        "batch = 96\n",
        "epochs = 300\n",
        "name = 'exp_v1.1'\n",
        "optimizer = 'SGD'\n",
        "project = 'cocoa-training'\n",
        "model_version = 'yolov8n.pt'\n",
        "data_config = '/content/data_config.yaml'\n",
        "\n",
        "model = YOLO(model_version)\n",
        "hist = model.train(\n",
        "    imgsz=640,\n",
        "    name=name,\n",
        "    batch=batch,\n",
        "    epochs=epochs,\n",
        "    project=project,\n",
        "    data=data_config,\n",
        "    patience=0,\n",
        "    optimizer=optimizer,\n",
        "    dropout = 0.4,\n",
        "    seed = 0,\n",
        "    cos_lr = True,\n",
        "    cache = True,\n",
        "    plots=True\n",
        "  )"
      ]
    },
    {
      "cell_type": "markdown",
      "metadata": {
        "id": "ARVNTW9f9pOk"
      },
      "source": [
        "# Make Predictions"
      ]
    },
    {
      "cell_type": "code",
      "execution_count": null,
      "metadata": {
        "collapsed": true,
        "id": "cO1quymjwgJL"
      },
      "outputs": [],
      "source": [
        "test_data = glob.glob('/content/cocoa_new/test_new/*.jpg')\n",
        "results = model.predict(\n",
        "    test_data,\n",
        ")\n",
        "filenames = [os.path.basename(r.path) for idx, r in enumerate(results) for b in r.boxes.xyxyn.cpu().numpy()]\n",
        "pred_boxes = np.concatenate([r.boxes.xyxyn.cpu().numpy() for r in results])\n",
        "pred_classes = np.concatenate([r.boxes.cls.cpu().numpy() for r in results])\n",
        "pred_confidence = np.concatenate([r.boxes.conf.cpu().numpy() for r in results])"
      ]
    },
    {
      "cell_type": "code",
      "execution_count": null,
      "metadata": {
        "id": "G6UOfft5DY5O"
      },
      "outputs": [],
      "source": [
        "cocoa_label_map_rev = {cocoa_label_map[key]:key for key in cocoa_label_map}\n",
        "pred_labels = list(map(lambda x : cocoa_label_map_rev[x], list(pred_classes.astype(int))))\n",
        "cocoa_label_map_rev"
      ]
    },
    {
      "cell_type": "code",
      "execution_count": null,
      "metadata": {
        "id": "WqJ9ytA5QNGZ"
      },
      "outputs": [],
      "source": [
        "submission_df = pd.DataFrame(\n",
        "    {\n",
        "        'Image id': filenames,\n",
        "        'Class': pred_labels,\n",
        "        'Confidence': pred_confidence,\n",
        "        'xmin': pred_boxes[:, 0],\n",
        "        'ymin': pred_boxes[:, 1],\n",
        "        'xmax': pred_boxes[:, 2],\n",
        "        'ymax': pred_boxes[:, 3],\n",
        "    }\n",
        ")\n",
        "submission_df.head()"
      ]
    },
    {
      "cell_type": "code",
      "execution_count": null,
      "metadata": {
        "id": "8mNN4j55Ep2l"
      },
      "outputs": [],
      "source": [
        "submission_df.to_csv('18446744073709551616.csv', index=False)"
      ]
    },
    {
      "cell_type": "code",
      "execution_count": null,
      "metadata": {
        "id": "w-FW8bX8wgJM"
      },
      "outputs": [],
      "source": []
    }
  ],
  "metadata": {
    "accelerator": "GPU",
    "colab": {
      "gpuType": "L4",
      "provenance": [],
      "include_colab_link": true
    },
    "kernelspec": {
      "display_name": "Python 3",
      "name": "python3"
    },
    "language_info": {
      "name": "python"
    }
  },
  "nbformat": 4,
  "nbformat_minor": 0
}