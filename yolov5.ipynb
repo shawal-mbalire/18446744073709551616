{
  "cells": [
    {
      "cell_type": "markdown",
      "metadata": {
        "id": "view-in-github",
        "colab_type": "text"
      },
      "source": [
        "<a href=\"https://colab.research.google.com/github/shawal-mbalire/18446744073709551616/blob/main/yolov5.ipynb\" target=\"_parent\"><img src=\"https://colab.research.google.com/assets/colab-badge.svg\" alt=\"Open In Colab\"/></a>"
      ]
    },
    {
      "cell_type": "code",
      "execution_count": null,
      "metadata": {
        "id": "DkGQulMw6SBw",
        "collapsed": true,
        "colab": {
          "base_uri": "https://localhost:8080/"
        },
        "outputId": "059d4654-5ed9-4f58-9516-163c48f85116"
      },
      "outputs": [
        {
          "output_type": "stream",
          "name": "stdout",
          "text": [
            "\u001b[2K     \u001b[90m━━━━━━━━━━━━━━━━━━━━━━━━━━━━━━━━━━━━━━━━\u001b[0m \u001b[32m777.9/777.9 kB\u001b[0m \u001b[31m3.5 MB/s\u001b[0m eta \u001b[36m0:00:00\u001b[0m\n",
            "\u001b[2K     \u001b[90m━━━━━━━━━━━━━━━━━━━━━━━━━━━━━━━━━━━━━━━━\u001b[0m \u001b[32m21.3/21.3 MB\u001b[0m \u001b[31m54.3 MB/s\u001b[0m eta \u001b[36m0:00:00\u001b[0m\n",
            "\u001b[?25h"
          ]
        }
      ],
      "source": [
        "!pip install ultralytics -q"
      ]
    },
    {
      "cell_type": "code",
      "execution_count": null,
      "metadata": {
        "id": "Q7Nneawc6sqH"
      },
      "outputs": [],
      "source": [
        "import os\n",
        "import cv2\n",
        "import glob\n",
        "import yaml\n",
        "import random\n",
        "import shutil\n",
        "import pathlib\n",
        "import numpy as np\n",
        "import pandas as pd\n",
        "from PIL import Image\n",
        "from ultralytics import YOLO\n",
        "import matplotlib.pyplot as plt\n",
        "import matplotlib.patches as patches\n",
        "from sklearn.model_selection import train_test_split"
      ]
    },
    {
      "cell_type": "code",
      "execution_count": null,
      "metadata": {
        "id": "Xfe-3lwFyfC2",
        "collapsed": true
      },
      "outputs": [],
      "source": [
        "! wget https://storage.googleapis.com/air-lab-hackathon/Cocoa/cocoa_new.zip\n",
        "! rm -rf sample_data\n",
        "! unzip cocoa_new.zip\n",
        "! rm cocoa_new.zip\n",
        "! rm -rf __MACOSX"
      ]
    },
    {
      "cell_type": "code",
      "execution_count": null,
      "metadata": {
        "id": "4sXPebDV5IdA"
      },
      "outputs": [],
      "source": [
        "data_dir   = 'cocoa_new/train/'\n",
        "data_dir   = pathlib.Path(data_dir).with_suffix('')\n",
        "image_list = list(data_dir.glob('*.jpg'))\n",
        "label_data = pd.read_csv('cocoa_new/train/label_map.csv')\n",
        "\n",
        "def extract_bounding_boxes_norm(data_f, img_name):\n",
        "  return data_f[data_f['Image id']==img_name][['xmin_norm', 'ymin_norm', 'xmax_norm', 'ymax_norm', 'Actual Label']].values\n",
        "\n",
        "def extract_bounding_boxes(df, img_id):\n",
        "  return df[df['Image id']==img_id][['xmin', 'ymin', 'xmax', 'ymax', 'Actual Label']].values\n",
        "\n",
        "def generate_yolo_label(df, img_id, save_dir = 'yolo-data/base/labels/'):\n",
        "  ext_boxes = extract_bounding_boxes_norm(df, img_id)\n",
        "  img_width, img_height = (640,640)\n",
        "  with open(save_dir+img_id[:-3]+'txt', 'w') as l_file:\n",
        "    for b in ext_boxes:\n",
        "      x1, y1, x2, y2, img_label =  b\n",
        "      xc = x1+ (x2-x1)/2\n",
        "      yc  = y1+ (y2-y1)/2\n",
        "      l_file.write(f'{cocoa_label_map[img_label]} {x1:.6f} {y1:.6f} {xc:.6f} {yc:.6f}\\n')\n",
        "\n",
        "for d in ['base', 'train', 'val']:\n",
        "  os.makedirs(f'yolo-data/{d}/images', exist_ok=True)\n",
        "  os.makedirs(f'yolo-data/{d}/labels', exist_ok=True)\n",
        "labels = label_data['Actual Label'].unique()\n",
        "cocoa_label_map = {val:idx[0] for  idx, val in np.ndenumerate(labels)}\n",
        "\n",
        "for i in image_list:\n",
        "  generate_yolo_label(label_data, os.path.basename(i))\n",
        "\n",
        "cocoa_label_map"
      ]
    },
    {
      "cell_type": "code",
      "source": [
        "base_labels = glob.glob('yolo-data/base/labels/*.txt')\n",
        "print(f'Found {len(base_labels)} files.')\n",
        "train, val = train_test_split(base_labels, test_size=0.1, random_state=42)\n",
        "print(f'Train has {len(train)} samples')\n",
        "print(f'Val has {len(val)} samples')"
      ],
      "metadata": {
        "id": "J9BdHsCvi-EG"
      },
      "execution_count": null,
      "outputs": []
    },
    {
      "cell_type": "code",
      "source": [
        "for f in train:\n",
        "  i_name = os.path.basename(f)[:-3]+'jpg'\n",
        "  shutil.copyfile(f, 'yolo-data/train/labels/'+os.path.basename(f))\n",
        "  shutil.copyfile('cocoa_new/train/'+i_name, 'yolo-data/train/images/'+i_name)\n",
        "\n",
        "for f in val:\n",
        "  i_name = os.path.basename(f)[:-3]+'jpg'\n",
        "  shutil.copyfile(f, 'yolo-data/val/labels/'+os.path.basename(f))\n",
        "  shutil.copyfile('cocoa_new/train/'+i_name, 'yolo-data/val/images/'+i_name)"
      ],
      "metadata": {
        "id": "FMeRSx-Jr82T"
      },
      "execution_count": null,
      "outputs": []
    },
    {
      "cell_type": "code",
      "source": [
        "yaml_dict = {\n",
        "    'path': '/content/yolo-data',\n",
        "    'train': 'train/images',\n",
        "    'val': 'val/images',\n",
        "    'names': {idx[0]: val for  idx, val in np.ndenumerate(labels)}\n",
        "\n",
        "}\n",
        "\n",
        "with open('data_config.yaml', 'w+') as yml_file:\n",
        "    yaml.dump(yaml_dict, yml_file)"
      ],
      "metadata": {
        "id": "dpTFQmWBvigD"
      },
      "execution_count": null,
      "outputs": []
    },
    {
      "cell_type": "code",
      "execution_count": null,
      "metadata": {
        "id": "RJ7A8js-70IQ",
        "scrolled": true,
        "collapsed": true
      },
      "outputs": [],
      "source": [
        "batch = 16\n",
        "epochs = 20\n",
        "patience = 15\n",
        "name = 'exp_v1.1'\n",
        "optimizer = 'auto'\n",
        "project = 'cocoa-training'\n",
        "model_version = 'yolov5xu.pt'\n",
        "data_config = '/content/data_config.yaml'\n",
        "\n",
        "model = YOLO(model_version)\n",
        "hist = model.train(\n",
        "    imgsz=640,\n",
        "    name=name,\n",
        "    batch=batch,\n",
        "    epochs=epochs,\n",
        "    project=project,\n",
        "    data=data_config,\n",
        "    patience=patience,\n",
        "    optimizer=optimizer\n",
        "  )"
      ]
    },
    {
      "cell_type": "markdown",
      "source": [
        "# Make Predictions"
      ],
      "metadata": {
        "id": "ARVNTW9f9pOk"
      }
    },
    {
      "cell_type": "code",
      "execution_count": null,
      "metadata": {
        "id": "cO1quymjwgJL",
        "collapsed": true
      },
      "outputs": [],
      "source": [
        "test_data = glob.glob('/content/cocoa_new/test_new/*.jpg')\n",
        "results = model.predict(\n",
        "    test_data,\n",
        ")\n",
        "filenames = [os.path.basename(r.path) for idx, r in enumerate(results) for b in r.boxes.xyxyn.cpu().numpy()]\n",
        "pred_boxes = np.concatenate([r.boxes.xyxyn.cpu().numpy() for r in results])\n",
        "pred_classes = np.concatenate([r.boxes.cls.cpu().numpy() for r in results])\n",
        "pred_confidence = np.concatenate([r.boxes.conf.cpu().numpy() for r in results])"
      ]
    },
    {
      "cell_type": "code",
      "source": [
        "cocoa_label_map_rev = {cocoa_label_map[key]:key for key in cocoa_label_map}\n",
        "pred_labels = list(map(lambda x : cocoa_label_map_rev[x], list(pred_classes.astype(int))))\n",
        "cocoa_label_map_rev"
      ],
      "metadata": {
        "id": "G6UOfft5DY5O"
      },
      "execution_count": null,
      "outputs": []
    },
    {
      "cell_type": "code",
      "source": [
        "submission_df = pd.DataFrame(\n",
        "    {\n",
        "        'Image id': filenames,\n",
        "        'Class': pred_labels,\n",
        "        'Confidence': pred_confidence,\n",
        "        'xmin': pred_boxes[:, 0],\n",
        "        'ymin': pred_boxes[:, 1],\n",
        "        'xmax': pred_boxes[:, 2],\n",
        "        'ymax': pred_boxes[:, 3],\n",
        "    }\n",
        ")\n",
        "submission_df.head()"
      ],
      "metadata": {
        "id": "WqJ9ytA5QNGZ"
      },
      "execution_count": null,
      "outputs": []
    },
    {
      "cell_type": "code",
      "source": [
        "submission_df.to_csv('18446744073709551616.csv', index=False)"
      ],
      "metadata": {
        "id": "8mNN4j55Ep2l"
      },
      "execution_count": null,
      "outputs": []
    },
    {
      "cell_type": "code",
      "execution_count": null,
      "metadata": {
        "id": "w-FW8bX8wgJM"
      },
      "outputs": [],
      "source": []
    }
  ],
  "metadata": {
    "colab": {
      "provenance": [],
      "gpuType": "T4",
      "include_colab_link": true
    },
    "kernelspec": {
      "display_name": "Python 3",
      "name": "python3"
    },
    "language_info": {
      "name": "python"
    },
    "accelerator": "GPU"
  },
  "nbformat": 4,
  "nbformat_minor": 0
}